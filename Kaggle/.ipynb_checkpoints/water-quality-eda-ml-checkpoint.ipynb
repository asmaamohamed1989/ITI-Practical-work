{
 "cells": [
  {
   "cell_type": "markdown",
   "metadata": {
    "editable": false
   },
   "source": [
    "# Importing Libraries:"
   ]
  },
  {
   "cell_type": "code",
   "execution_count": null,
   "metadata": {
    "editable": false,
    "execution": {
     "iopub.execute_input": "2021-08-11T11:44:52.323611Z",
     "iopub.status.busy": "2021-08-11T11:44:52.323182Z",
     "iopub.status.idle": "2021-08-11T11:44:57.454165Z",
     "shell.execute_reply": "2021-08-11T11:44:57.453149Z",
     "shell.execute_reply.started": "2021-08-11T11:44:52.323521Z"
    },
    "id": "nZuYJPRRULbo"
   },
   "outputs": [],
   "source": [
    "import pandas as pd\n",
    "import numpy as np\n",
    "import matplotlib.pyplot as plt\n",
    "import seaborn as sns\n",
    "from scipy import stats\n",
    "%matplotlib inline\n",
    "from sklearn.model_selection import train_test_split\n",
    "from sklearn.linear_model import LinearRegression,Ridge\n",
    "import numpy.random as rnd\n",
    "import statsmodels.api as sm\n",
    "import plotly.express as px\n",
    "import plotly.graph_objects as go\n",
    "from plotly.subplots import make_subplots\n",
    "import plotly.offline as py\n",
    "py.init_notebook_mode(connected=True)\n",
    "import plotly.tools as tls\n",
    "import plotly.figure_factory as ff\n",
    "#import lightgbm as lgbm\n",
    "import plotly.tools as tls\n",
    "from collections import Counter\n",
    "import missingno as msno\n",
    "from sklearn.neighbors import LocalOutlierFactor\n",
    "from warnings import filterwarnings"
   ]
  },
  {
   "cell_type": "code",
   "execution_count": null,
   "metadata": {
    "editable": false,
    "execution": {
     "iopub.execute_input": "2021-08-11T11:45:02.610516Z",
     "iopub.status.busy": "2021-08-11T11:45:02.610139Z",
     "iopub.status.idle": "2021-08-11T11:45:02.615729Z",
     "shell.execute_reply": "2021-08-11T11:45:02.614585Z",
     "shell.execute_reply.started": "2021-08-11T11:45:02.610476Z"
    }
   },
   "outputs": [],
   "source": [
    "filterwarnings(\"ignore\", category=DeprecationWarning) \n",
    "filterwarnings(\"ignore\", category=FutureWarning) \n",
    "filterwarnings(\"ignore\", category=UserWarning)"
   ]
  },
  {
   "cell_type": "code",
   "execution_count": null,
   "metadata": {
    "execution": {
     "iopub.execute_input": "2021-08-11T11:45:35.732012Z",
     "iopub.status.busy": "2021-08-11T11:45:35.731678Z",
     "iopub.status.idle": "2021-08-11T11:45:35.737261Z",
     "shell.execute_reply": "2021-08-11T11:45:35.734724Z",
     "shell.execute_reply.started": "2021-08-11T11:45:35.73198Z"
    }
   },
   "outputs": [],
   "source": [
    "!pip install -U dataprep"
   ]
  },
  {
   "cell_type": "code",
   "execution_count": null,
   "metadata": {
    "execution": {
     "iopub.execute_input": "2021-08-11T11:45:24.983868Z",
     "iopub.status.busy": "2021-08-11T11:45:24.983485Z",
     "iopub.status.idle": "2021-08-11T11:45:24.990536Z",
     "shell.execute_reply": "2021-08-11T11:45:24.989568Z",
     "shell.execute_reply.started": "2021-08-11T11:45:24.983826Z"
    }
   },
   "outputs": [],
   "source": [
    "#! pip install -U scikit-learn"
   ]
  },
  {
   "cell_type": "code",
   "execution_count": null,
   "metadata": {
    "editable": false,
    "execution": {
     "iopub.execute_input": "2021-08-11T11:45:28.202652Z",
     "iopub.status.busy": "2021-08-11T11:45:28.202307Z",
     "iopub.status.idle": "2021-08-11T11:45:28.325583Z",
     "shell.execute_reply": "2021-08-11T11:45:28.324777Z",
     "shell.execute_reply.started": "2021-08-11T11:45:28.202606Z"
    }
   },
   "outputs": [],
   "source": [
    "from dataprep.datasets import load_dataset"
   ]
  },
  {
   "cell_type": "code",
   "execution_count": null,
   "metadata": {
    "editable": false,
    "execution": {
     "iopub.execute_input": "2021-08-11T11:45:40.097351Z",
     "iopub.status.busy": "2021-08-11T11:45:40.096984Z",
     "iopub.status.idle": "2021-08-11T11:45:41.141868Z",
     "shell.execute_reply": "2021-08-11T11:45:41.140978Z",
     "shell.execute_reply.started": "2021-08-11T11:45:40.097318Z"
    }
   },
   "outputs": [],
   "source": [
    "from dataprep.eda import plot\n",
    "from dataprep.eda import plot_diff\n",
    "from dataprep.eda import plot_correlation\n",
    "from dataprep.eda import plot_missing"
   ]
  },
  {
   "cell_type": "code",
   "execution_count": null,
   "metadata": {},
   "outputs": [],
   "source": [
    "#!conda update scikit-learn"
   ]
  },
  {
   "cell_type": "code",
   "execution_count": null,
   "metadata": {
    "editable": false,
    "execution": {
     "iopub.execute_input": "2021-08-11T11:45:44.922191Z",
     "iopub.status.busy": "2021-08-11T11:45:44.921851Z",
     "iopub.status.idle": "2021-08-11T11:45:45.377256Z",
     "shell.execute_reply": "2021-08-11T11:45:45.376361Z",
     "shell.execute_reply.started": "2021-08-11T11:45:44.922157Z"
    }
   },
   "outputs": [],
   "source": [
    "from sklearn.preprocessing import LabelEncoder\n",
    "from sklearn.model_selection import train_test_split, cross_val_score, cross_val_predict\n",
    "from sklearn import model_selection\n",
    "from sklearn.preprocessing import StandardScaler\n",
    "from sklearn.ensemble import RandomForestClassifier\n",
    "from sklearn.ensemble import GradientBoostingRegressor, GradientBoostingClassifier\n",
    "import xgboost as xgb\n",
    "from xgboost import XGBRegressor, XGBClassifier\n",
    "from lightgbm import LGBMRegressor, LGBMClassifier\n",
    "from catboost import CatBoostRegressor, CatBoostClassifier\n",
    "from imblearn.over_sampling import SMOTE\n",
    "from collections import Counter\n",
    "from sklearn.metrics import mean_squared_error, mean_absolute_error, confusion_matrix, r2_score, accuracy_score\n",
    "from sklearn.model_selection import (GridSearchCV, KFold, train_test_split, cross_val_score)\n",
    "from sklearn.linear_model import LogisticRegression\n",
    "from sklearn.naive_bayes import GaussianNB\n",
    "from sklearn.ensemble import RandomForestClassifier, ExtraTreesClassifier\n",
    "from sklearn import svm\n",
    "from xgboost.sklearn import XGBClassifier\n",
    "from sklearn.tree import DecisionTreeClassifier\n",
    "from catboost import CatBoostClassifier\n",
    "from sklearn import metrics"
   ]
  },
  {
   "cell_type": "code",
   "execution_count": null,
   "metadata": {},
   "outputs": [],
   "source": [
    "#pip install lucifer-ml"
   ]
  },
  {
   "cell_type": "markdown",
   "metadata": {
    "editable": false
   },
   "source": [
    "# Statistical Analysis:"
   ]
  },
  {
   "cell_type": "code",
   "execution_count": null,
   "metadata": {
    "execution": {
     "iopub.execute_input": "2021-08-11T11:45:52.047162Z",
     "iopub.status.busy": "2021-08-11T11:45:52.046811Z",
     "iopub.status.idle": "2021-08-11T11:45:52.092201Z",
     "shell.execute_reply": "2021-08-11T11:45:52.091286Z",
     "shell.execute_reply.started": "2021-08-11T11:45:52.047128Z"
    }
   },
   "outputs": [],
   "source": [
    "data = pd.read_csv('../input/water-potability/water_potability.csv', sep=',', encoding='utf-8')\n",
    "data.head(5)"
   ]
  },
  {
   "cell_type": "code",
   "execution_count": null,
   "metadata": {
    "editable": false,
    "execution": {
     "iopub.execute_input": "2021-08-11T11:45:54.037719Z",
     "iopub.status.busy": "2021-08-11T11:45:54.037332Z",
     "iopub.status.idle": "2021-08-11T11:45:54.048747Z",
     "shell.execute_reply": "2021-08-11T11:45:54.047819Z",
     "shell.execute_reply.started": "2021-08-11T11:45:54.037683Z"
    },
    "id": "-4tNFjLwWS1H",
    "outputId": "015ce4f4-0940-4d27-b41a-6d78f9b353f4"
   },
   "outputs": [],
   "source": [
    "data['Potability'].value_counts()"
   ]
  },
  {
   "cell_type": "code",
   "execution_count": null,
   "metadata": {
    "editable": false,
    "execution": {
     "iopub.execute_input": "2021-08-11T11:45:54.846739Z",
     "iopub.status.busy": "2021-08-11T11:45:54.846348Z",
     "iopub.status.idle": "2021-08-11T11:45:54.862715Z",
     "shell.execute_reply": "2021-08-11T11:45:54.861513Z",
     "shell.execute_reply.started": "2021-08-11T11:45:54.846707Z"
    },
    "id": "5-fADOe5WS3_",
    "outputId": "e355f39d-9b5e-40fa-9063-461666a1cfbb"
   },
   "outputs": [],
   "source": [
    "data.info()"
   ]
  },
  {
   "cell_type": "code",
   "execution_count": null,
   "metadata": {
    "editable": false,
    "execution": {
     "iopub.execute_input": "2021-08-11T11:45:56.950532Z",
     "iopub.status.busy": "2021-08-11T11:45:56.950162Z",
     "iopub.status.idle": "2021-08-11T11:45:56.955361Z",
     "shell.execute_reply": "2021-08-11T11:45:56.954005Z",
     "shell.execute_reply.started": "2021-08-11T11:45:56.9505Z"
    },
    "id": "vyPlWBZGWS6s"
   },
   "outputs": [],
   "source": [
    "df = data.copy()"
   ]
  },
  {
   "cell_type": "code",
   "execution_count": null,
   "metadata": {
    "editable": false,
    "execution": {
     "iopub.execute_input": "2021-08-11T11:45:57.716332Z",
     "iopub.status.busy": "2021-08-11T11:45:57.715982Z",
     "iopub.status.idle": "2021-08-11T11:45:57.721139Z",
     "shell.execute_reply": "2021-08-11T11:45:57.719605Z",
     "shell.execute_reply.started": "2021-08-11T11:45:57.716298Z"
    }
   },
   "outputs": [],
   "source": [
    "df_visual = data.copy()"
   ]
  },
  {
   "cell_type": "code",
   "execution_count": null,
   "metadata": {
    "editable": false,
    "execution": {
     "iopub.execute_input": "2021-08-11T11:45:58.509507Z",
     "iopub.status.busy": "2021-08-11T11:45:58.509119Z",
     "iopub.status.idle": "2021-08-11T11:45:58.514976Z",
     "shell.execute_reply": "2021-08-11T11:45:58.513772Z",
     "shell.execute_reply.started": "2021-08-11T11:45:58.509473Z"
    },
    "id": "B9m0q5BRWS9j"
   },
   "outputs": [],
   "source": [
    "data = data[['ph', 'Hardness', 'Solids', 'Chloramines', 'Sulfate', 'Conductivity',\n",
    "       'Organic_carbon', 'Trihalomethanes', 'Turbidity']]"
   ]
  },
  {
   "cell_type": "code",
   "execution_count": null,
   "metadata": {
    "editable": false,
    "execution": {
     "iopub.execute_input": "2021-08-11T11:46:00.452313Z",
     "iopub.status.busy": "2021-08-11T11:46:00.451907Z",
     "iopub.status.idle": "2021-08-11T11:46:00.534732Z",
     "shell.execute_reply": "2021-08-11T11:46:00.533726Z",
     "shell.execute_reply.started": "2021-08-11T11:46:00.452242Z"
    },
    "id": "X46s5MhWXBch",
    "outputId": "a82d16c1-2555-4799-a314-43a66958e397"
   },
   "outputs": [],
   "source": [
    "df.describe().T.style.background_gradient(subset=['mean','std','50%','count'], cmap='PuBu')"
   ]
  },
  {
   "cell_type": "code",
   "execution_count": null,
   "metadata": {
    "execution": {
     "iopub.execute_input": "2021-08-11T11:46:01.194493Z",
     "iopub.status.busy": "2021-08-11T11:46:01.1941Z",
     "iopub.status.idle": "2021-08-11T11:46:01.248796Z",
     "shell.execute_reply": "2021-08-11T11:46:01.248002Z",
     "shell.execute_reply.started": "2021-08-11T11:46:01.194459Z"
    }
   },
   "outputs": [],
   "source": [
    "df[df['Potability']==1].describe().T.style.background_gradient(subset=['mean','std','50%','count'], cmap='BuPu')"
   ]
  },
  {
   "cell_type": "code",
   "execution_count": null,
   "metadata": {
    "execution": {
     "iopub.execute_input": "2021-08-11T11:46:03.560764Z",
     "iopub.status.busy": "2021-08-11T11:46:03.560411Z",
     "iopub.status.idle": "2021-08-11T11:46:03.612564Z",
     "shell.execute_reply": "2021-08-11T11:46:03.611429Z",
     "shell.execute_reply.started": "2021-08-11T11:46:03.560733Z"
    }
   },
   "outputs": [],
   "source": [
    "df[df['Potability']==0].describe().T.style.background_gradient(subset=['mean','std','50%','count'], cmap='YlGnBu')"
   ]
  },
  {
   "cell_type": "code",
   "execution_count": null,
   "metadata": {
    "editable": false,
    "execution": {
     "iopub.execute_input": "2021-08-11T11:46:04.339826Z",
     "iopub.status.busy": "2021-08-11T11:46:04.339456Z",
     "iopub.status.idle": "2021-08-11T11:46:04.346716Z",
     "shell.execute_reply": "2021-08-11T11:46:04.345444Z",
     "shell.execute_reply.started": "2021-08-11T11:46:04.339791Z"
    },
    "id": "BnueSH5HXMet",
    "outputId": "14f27f18-e2b5-4e48-9380-ab4da821d696"
   },
   "outputs": [],
   "source": [
    "data.shape"
   ]
  },
  {
   "cell_type": "markdown",
   "metadata": {
    "editable": false
   },
   "source": [
    "## Data Report:"
   ]
  },
  {
   "cell_type": "code",
   "execution_count": null,
   "metadata": {
    "editable": false,
    "execution": {
     "iopub.execute_input": "2021-08-11T11:46:06.770753Z",
     "iopub.status.busy": "2021-08-11T11:46:06.770423Z",
     "iopub.status.idle": "2021-08-11T11:46:11.495105Z",
     "shell.execute_reply": "2021-08-11T11:46:11.494292Z",
     "shell.execute_reply.started": "2021-08-11T11:46:06.770722Z"
    }
   },
   "outputs": [],
   "source": [
    "from dataprep.eda import create_report\n",
    "report = create_report(df, title='My Report')"
   ]
  },
  {
   "cell_type": "code",
   "execution_count": null,
   "metadata": {
    "editable": false,
    "execution": {
     "iopub.execute_input": "2021-08-11T11:46:11.496801Z",
     "iopub.status.busy": "2021-08-11T11:46:11.496467Z",
     "iopub.status.idle": "2021-08-11T11:46:11.660249Z",
     "shell.execute_reply": "2021-08-11T11:46:11.659097Z",
     "shell.execute_reply.started": "2021-08-11T11:46:11.496767Z"
    }
   },
   "outputs": [],
   "source": [
    "report"
   ]
  },
  {
   "cell_type": "markdown",
   "metadata": {
    "editable": false,
    "id": "dIQu3ZbZXgPo"
   },
   "source": [
    "### Missing Values are:"
   ]
  },
  {
   "cell_type": "code",
   "execution_count": null,
   "metadata": {
    "editable": false,
    "execution": {
     "iopub.execute_input": "2021-08-11T11:46:12.137235Z",
     "iopub.status.busy": "2021-08-11T11:46:12.136908Z",
     "iopub.status.idle": "2021-08-11T11:46:12.142023Z",
     "shell.execute_reply": "2021-08-11T11:46:12.140849Z",
     "shell.execute_reply.started": "2021-08-11T11:46:12.137202Z"
    },
    "id": "h-aM7c5RXRI8"
   },
   "outputs": [],
   "source": [
    "def get_null_count(data):\n",
    "    for i in data.columns:\n",
    "        print(i,': ',len(data[data[i].isnull()][i]))"
   ]
  },
  {
   "cell_type": "code",
   "execution_count": null,
   "metadata": {
    "editable": false,
    "execution": {
     "iopub.execute_input": "2021-08-11T11:46:20.162336Z",
     "iopub.status.busy": "2021-08-11T11:46:20.161988Z",
     "iopub.status.idle": "2021-08-11T11:46:20.178603Z",
     "shell.execute_reply": "2021-08-11T11:46:20.177603Z",
     "shell.execute_reply.started": "2021-08-11T11:46:20.162303Z"
    },
    "id": "PMwKsyMuXTTo",
    "outputId": "5bf10c99-0d51-4535-8699-400e21850814"
   },
   "outputs": [],
   "source": [
    "get_null_count(data)"
   ]
  },
  {
   "cell_type": "code",
   "execution_count": null,
   "metadata": {
    "editable": false,
    "execution": {
     "iopub.execute_input": "2021-08-11T11:46:20.912253Z",
     "iopub.status.busy": "2021-08-11T11:46:20.911925Z",
     "iopub.status.idle": "2021-08-11T11:46:21.398966Z",
     "shell.execute_reply": "2021-08-11T11:46:21.397967Z",
     "shell.execute_reply.started": "2021-08-11T11:46:20.912222Z"
    },
    "id": "xDwocgYwXVGO",
    "outputId": "fc9cd0d1-96cd-4b01-eb63-82cba435beb4"
   },
   "outputs": [],
   "source": [
    "sns.heatmap(data.isnull(), cbar=False)\n",
    "print(\"Total Missing: \", data.isna().sum().values.sum())"
   ]
  },
  {
   "cell_type": "code",
   "execution_count": null,
   "metadata": {
    "editable": false,
    "execution": {
     "iopub.execute_input": "2021-08-11T11:46:23.0553Z",
     "iopub.status.busy": "2021-08-11T11:46:23.054939Z",
     "iopub.status.idle": "2021-08-11T11:46:23.571562Z",
     "shell.execute_reply": "2021-08-11T11:46:23.570683Z",
     "shell.execute_reply.started": "2021-08-11T11:46:23.055252Z"
    }
   },
   "outputs": [],
   "source": [
    "msno.matrix(df, color=(0.25, 0.00, 0.53))"
   ]
  },
  {
   "cell_type": "code",
   "execution_count": null,
   "metadata": {
    "editable": false,
    "execution": {
     "iopub.execute_input": "2021-08-11T11:46:25.000722Z",
     "iopub.status.busy": "2021-08-11T11:46:25.000388Z",
     "iopub.status.idle": "2021-08-11T11:46:25.305917Z",
     "shell.execute_reply": "2021-08-11T11:46:25.305109Z",
     "shell.execute_reply.started": "2021-08-11T11:46:25.000693Z"
    }
   },
   "outputs": [],
   "source": [
    "plt.title('Missing Values Per Feature')\n",
    "nans = df.isna().sum().sort_values(ascending=False).to_frame()\n",
    "sns.heatmap(nans,annot=True,fmt='d',cmap='PuBu')"
   ]
  },
  {
   "cell_type": "code",
   "execution_count": null,
   "metadata": {
    "editable": false,
    "execution": {
     "iopub.execute_input": "2021-08-11T11:46:27.001391Z",
     "iopub.status.busy": "2021-08-11T11:46:27.001037Z",
     "iopub.status.idle": "2021-08-11T11:46:27.229858Z",
     "shell.execute_reply": "2021-08-11T11:46:27.228839Z",
     "shell.execute_reply.started": "2021-08-11T11:46:27.001357Z"
    }
   },
   "outputs": [],
   "source": [
    "msno.dendrogram(data,figsize=(12,5)) #Missing Relationship\n",
    "plt.show()"
   ]
  },
  {
   "cell_type": "markdown",
   "metadata": {
    "editable": false,
    "id": "C4Ebbma_X7QF"
   },
   "source": [
    "### Missing Imputation:"
   ]
  },
  {
   "cell_type": "code",
   "execution_count": null,
   "metadata": {
    "editable": false,
    "execution": {
     "iopub.execute_input": "2021-08-11T11:46:29.653959Z",
     "iopub.status.busy": "2021-08-11T11:46:29.653625Z",
     "iopub.status.idle": "2021-08-11T11:46:29.665175Z",
     "shell.execute_reply": "2021-08-11T11:46:29.664338Z",
     "shell.execute_reply.started": "2021-08-11T11:46:29.653928Z"
    },
    "id": "UfKycHYQYH_X"
   },
   "outputs": [],
   "source": [
    "df = df.drop_duplicates()"
   ]
  },
  {
   "cell_type": "code",
   "execution_count": null,
   "metadata": {
    "editable": false,
    "execution": {
     "iopub.execute_input": "2021-08-11T11:46:30.822003Z",
     "iopub.status.busy": "2021-08-11T11:46:30.821647Z",
     "iopub.status.idle": "2021-08-11T11:46:30.827761Z",
     "shell.execute_reply": "2021-08-11T11:46:30.826538Z",
     "shell.execute_reply.started": "2021-08-11T11:46:30.821971Z"
    }
   },
   "outputs": [],
   "source": [
    "Not_Potable =df[df.Potability==0]"
   ]
  },
  {
   "cell_type": "code",
   "execution_count": null,
   "metadata": {
    "editable": false,
    "execution": {
     "iopub.execute_input": "2021-08-11T11:46:32.508541Z",
     "iopub.status.busy": "2021-08-11T11:46:32.508128Z",
     "iopub.status.idle": "2021-08-11T11:46:32.513717Z",
     "shell.execute_reply": "2021-08-11T11:46:32.512855Z",
     "shell.execute_reply.started": "2021-08-11T11:46:32.508488Z"
    }
   },
   "outputs": [],
   "source": [
    "Potable=df[df.Potability==1]"
   ]
  },
  {
   "cell_type": "code",
   "execution_count": null,
   "metadata": {
    "editable": false,
    "execution": {
     "iopub.execute_input": "2021-08-11T11:46:33.231249Z",
     "iopub.status.busy": "2021-08-11T11:46:33.230908Z",
     "iopub.status.idle": "2021-08-11T11:46:33.244863Z",
     "shell.execute_reply": "2021-08-11T11:46:33.243938Z",
     "shell.execute_reply.started": "2021-08-11T11:46:33.231216Z"
    }
   },
   "outputs": [],
   "source": [
    "Potable.fillna(Potable.median(), inplace=True)\n",
    "Not_Potable.fillna(Not_Potable.median(), inplace=True)"
   ]
  },
  {
   "cell_type": "code",
   "execution_count": null,
   "metadata": {
    "editable": false,
    "execution": {
     "iopub.execute_input": "2021-08-11T11:46:33.952445Z",
     "iopub.status.busy": "2021-08-11T11:46:33.951925Z",
     "iopub.status.idle": "2021-08-11T11:46:33.978242Z",
     "shell.execute_reply": "2021-08-11T11:46:33.977391Z",
     "shell.execute_reply.started": "2021-08-11T11:46:33.9524Z"
    }
   },
   "outputs": [],
   "source": [
    "df=pd.concat([Potable, Not_Potable], axis=0)\n",
    "df = df.iloc[np.random.permutation(len(df))]\n",
    "df=df.reset_index(drop=True)\n",
    "df.head()"
   ]
  },
  {
   "cell_type": "code",
   "execution_count": null,
   "metadata": {
    "editable": false,
    "execution": {
     "iopub.execute_input": "2021-08-11T11:46:34.663254Z",
     "iopub.status.busy": "2021-08-11T11:46:34.662923Z",
     "iopub.status.idle": "2021-08-11T11:46:34.679792Z",
     "shell.execute_reply": "2021-08-11T11:46:34.679033Z",
     "shell.execute_reply.started": "2021-08-11T11:46:34.663223Z"
    }
   },
   "outputs": [],
   "source": [
    "df.nunique()"
   ]
  },
  {
   "cell_type": "code",
   "execution_count": null,
   "metadata": {
    "editable": false,
    "execution": {
     "iopub.execute_input": "2021-08-11T11:46:36.461366Z",
     "iopub.status.busy": "2021-08-11T11:46:36.461008Z",
     "iopub.status.idle": "2021-08-11T11:46:36.473155Z",
     "shell.execute_reply": "2021-08-11T11:46:36.471937Z",
     "shell.execute_reply.started": "2021-08-11T11:46:36.461334Z"
    },
    "scrolled": true
   },
   "outputs": [],
   "source": [
    "round(df.Potability.value_counts()*100/len(df),2)"
   ]
  },
  {
   "cell_type": "code",
   "execution_count": null,
   "metadata": {
    "editable": false,
    "execution": {
     "iopub.execute_input": "2021-08-11T11:46:37.173069Z",
     "iopub.status.busy": "2021-08-11T11:46:37.172726Z",
     "iopub.status.idle": "2021-08-11T11:46:37.180467Z",
     "shell.execute_reply": "2021-08-11T11:46:37.179396Z",
     "shell.execute_reply.started": "2021-08-11T11:46:37.173039Z"
    }
   },
   "outputs": [],
   "source": [
    "print(df.isnull().sum())"
   ]
  },
  {
   "cell_type": "code",
   "execution_count": null,
   "metadata": {
    "editable": false,
    "execution": {
     "iopub.execute_input": "2021-08-11T11:46:38.885421Z",
     "iopub.status.busy": "2021-08-11T11:46:38.885065Z",
     "iopub.status.idle": "2021-08-11T11:46:38.898443Z",
     "shell.execute_reply": "2021-08-11T11:46:38.89752Z",
     "shell.execute_reply.started": "2021-08-11T11:46:38.885386Z"
    }
   },
   "outputs": [],
   "source": [
    "df.info()"
   ]
  },
  {
   "cell_type": "code",
   "execution_count": null,
   "metadata": {
    "execution": {
     "iopub.execute_input": "2021-08-11T11:46:39.611513Z",
     "iopub.status.busy": "2021-08-11T11:46:39.611132Z",
     "iopub.status.idle": "2021-08-11T11:46:39.658273Z",
     "shell.execute_reply": "2021-08-11T11:46:39.657348Z",
     "shell.execute_reply.started": "2021-08-11T11:46:39.611478Z"
    }
   },
   "outputs": [],
   "source": [
    "df.describe().T.style.background_gradient(subset=['mean','std','50%','count'], cmap='BuPu')"
   ]
  },
  {
   "cell_type": "markdown",
   "metadata": {
    "editable": false,
    "id": "k0UJ3UXYXkvu"
   },
   "source": [
    "### Outliers Check:\n",
    "\n",
    "No big jumps in the data, tho it seems stable."
   ]
  },
  {
   "cell_type": "code",
   "execution_count": null,
   "metadata": {
    "editable": false,
    "execution": {
     "iopub.execute_input": "2021-08-11T11:46:42.340972Z",
     "iopub.status.busy": "2021-08-11T11:46:42.34063Z",
     "iopub.status.idle": "2021-08-11T11:46:42.346607Z",
     "shell.execute_reply": "2021-08-11T11:46:42.344797Z",
     "shell.execute_reply.started": "2021-08-11T11:46:42.340941Z"
    }
   },
   "outputs": [],
   "source": [
    "Factor = LocalOutlierFactor()"
   ]
  },
  {
   "cell_type": "code",
   "execution_count": null,
   "metadata": {
    "editable": false,
    "execution": {
     "iopub.execute_input": "2021-08-11T11:46:43.04411Z",
     "iopub.status.busy": "2021-08-11T11:46:43.043784Z",
     "iopub.status.idle": "2021-08-11T11:46:43.088299Z",
     "shell.execute_reply": "2021-08-11T11:46:43.0873Z",
     "shell.execute_reply.started": "2021-08-11T11:46:43.04408Z"
    }
   },
   "outputs": [],
   "source": [
    "Factor.fit_predict(df)"
   ]
  },
  {
   "cell_type": "code",
   "execution_count": null,
   "metadata": {
    "editable": false,
    "execution": {
     "iopub.execute_input": "2021-08-11T11:46:43.687391Z",
     "iopub.status.busy": "2021-08-11T11:46:43.687045Z",
     "iopub.status.idle": "2021-08-11T11:46:43.692443Z",
     "shell.execute_reply": "2021-08-11T11:46:43.691223Z",
     "shell.execute_reply.started": "2021-08-11T11:46:43.687357Z"
    }
   },
   "outputs": [],
   "source": [
    "Gen_Score = Factor.negative_outlier_factor_"
   ]
  },
  {
   "cell_type": "code",
   "execution_count": null,
   "metadata": {
    "editable": false,
    "execution": {
     "iopub.execute_input": "2021-08-11T11:46:44.367156Z",
     "iopub.status.busy": "2021-08-11T11:46:44.366829Z",
     "iopub.status.idle": "2021-08-11T11:46:44.371171Z",
     "shell.execute_reply": "2021-08-11T11:46:44.370041Z",
     "shell.execute_reply.started": "2021-08-11T11:46:44.367125Z"
    }
   },
   "outputs": [],
   "source": [
    "Sorted_Score = np.sort(Gen_Score)"
   ]
  },
  {
   "cell_type": "code",
   "execution_count": null,
   "metadata": {
    "editable": false,
    "execution": {
     "iopub.execute_input": "2021-08-11T11:46:46.597569Z",
     "iopub.status.busy": "2021-08-11T11:46:46.597198Z",
     "iopub.status.idle": "2021-08-11T11:46:46.604648Z",
     "shell.execute_reply": "2021-08-11T11:46:46.603691Z",
     "shell.execute_reply.started": "2021-08-11T11:46:46.597536Z"
    }
   },
   "outputs": [],
   "source": [
    "print(Sorted_Score[0:150])"
   ]
  },
  {
   "cell_type": "markdown",
   "metadata": {
    "editable": false,
    "id": "bMd3d3yNZMdm"
   },
   "source": [
    "# Data Visualization:"
   ]
  },
  {
   "cell_type": "code",
   "execution_count": null,
   "metadata": {
    "editable": false,
    "execution": {
     "iopub.execute_input": "2021-08-11T11:46:49.316527Z",
     "iopub.status.busy": "2021-08-11T11:46:49.31611Z",
     "iopub.status.idle": "2021-08-11T11:46:49.578971Z",
     "shell.execute_reply": "2021-08-11T11:46:49.578012Z",
     "shell.execute_reply.started": "2021-08-11T11:46:49.316491Z"
    },
    "id": "fWbQcq6dY3n4",
    "outputId": "8c374fa0-369d-48d6-ee36-73b3d53051be"
   },
   "outputs": [],
   "source": [
    "colors_blue = [\"#132C33\", \"#264D58\", '#17869E', '#51C4D3', '#B4DBE9']\n",
    "colors_pink = [\"#D94496\", \"#F47DBB\", '#FF99CC', '#FFB6D5', '#ffecef']\n",
    "colors_dark = [\"#1F1F1F\", \"#313131\", '#636363', '#AEAEAE', '#DADADA']\n",
    "colors_green = ['#01411C','#4B6F44','#4F7942','#74C365','#D0F0C0']\n",
    "sns.palplot(colors_blue)\n",
    "sns.palplot(colors_pink)\n",
    "sns.palplot(colors_dark)\n",
    "sns.palplot(colors_green)"
   ]
  },
  {
   "cell_type": "code",
   "execution_count": null,
   "metadata": {
    "editable": false,
    "execution": {
     "iopub.execute_input": "2021-08-11T11:46:49.918771Z",
     "iopub.status.busy": "2021-08-11T11:46:49.918341Z",
     "iopub.status.idle": "2021-08-11T11:46:49.936059Z",
     "shell.execute_reply": "2021-08-11T11:46:49.935097Z",
     "shell.execute_reply.started": "2021-08-11T11:46:49.91874Z"
    }
   },
   "outputs": [],
   "source": [
    "df.info()"
   ]
  },
  {
   "cell_type": "code",
   "execution_count": null,
   "metadata": {
    "editable": false,
    "execution": {
     "iopub.execute_input": "2021-08-11T11:46:51.846042Z",
     "iopub.status.busy": "2021-08-11T11:46:51.845719Z",
     "iopub.status.idle": "2021-08-11T11:46:52.648638Z",
     "shell.execute_reply": "2021-08-11T11:46:52.647853Z",
     "shell.execute_reply.started": "2021-08-11T11:46:51.846011Z"
    },
    "id": "77fhKu8_ZcCN",
    "outputId": "3d056253-98b2-4800-9f4a-a54938a95c58"
   },
   "outputs": [],
   "source": [
    "d= pd.DataFrame(df['Potability'].value_counts())\n",
    "fig = px.pie(d,values='Potability',names=['Not Potable','Potable'],hole=0.4,\n",
    "            color_discrete_sequence=[colors_pink[1],colors_blue[4]],\n",
    "             labels={'label':'Potability','Potability':'No. Of Samples'})\n",
    "\n",
    "\n",
    "fig.add_annotation(text='Need to resample the data<br> to get a balanced dataset',\n",
    "                   x=1.2,y=0.9,showarrow=False,font_size=12,opacity=0.7,font_family='arial')\n",
    "fig.add_annotation(text='Potability proportion',\n",
    "                   x=0.5,y=0.5,showarrow=False,font_size=12,opacity=0.7,font_family='arial')\n",
    "\n",
    "fig.update_layout(\n",
    "    font_family='arial',\n",
    "    title=dict(text='Samples of potable water',x=0.47,y=0.98,\n",
    "               font=dict(color=colors_dark[2],size=20)),\n",
    "    legend=dict(x=0.37,y=-0.05,orientation='h',traceorder='reversed'),\n",
    "    hoverlabel=dict(bgcolor='white'))\n",
    "\n",
    "fig.update_traces(textposition='outside', textinfo='percent+label')"
   ]
  },
  {
   "cell_type": "markdown",
   "metadata": {
    "editable": false
   },
   "source": [
    "## Feature Exploration:"
   ]
  },
  {
   "cell_type": "markdown",
   "metadata": {
    "editable": false
   },
   "source": [
    "### <span style='background :#B4DBE9' > Solids (Total dissolved solids - TDS): </span>\n",
    "\n",
    "<span style='background :#B4DBE9' > - Water has the ability to dissolve a wide range of inorganic and some organic minerals or salts such as potassium, calcium, sodium, bicarbonates, chlorides, magnesium, sulfates etc. These minerals produced un-wanted taste and diluted color in appearance of water. This is the important parameter for the use of water. The water with high TDS value indicates that water is highly mineralized.</span>\n",
    "\n",
    "<span style='background :#FF99CC' >- Desirable limit for TDS is 500 mg/l and maximum limit is 1000 mg/l which prescribed for drinking purpose.</span>\n",
    "\n",
    "#### <span style='background :#ffecef' > Observation:The water samples which are above the acceptable limit are more than 98% of the data, which leaves us considering the majority of the potable data already unpotable, and this is one of our business problems which we are discovering.   </span>"
   ]
  },
  {
   "cell_type": "code",
   "execution_count": null,
   "metadata": {
    "editable": false,
    "execution": {
     "iopub.execute_input": "2021-08-11T11:46:55.645753Z",
     "iopub.status.busy": "2021-08-11T11:46:55.645392Z",
     "iopub.status.idle": "2021-08-11T11:46:55.889676Z",
     "shell.execute_reply": "2021-08-11T11:46:55.888568Z",
     "shell.execute_reply.started": "2021-08-11T11:46:55.645721Z"
    },
    "id": "sFCdzuGxa3lk",
    "outputId": "b2196554-c5ac-412a-d035-17f892ebbb50"
   },
   "outputs": [],
   "source": [
    "fig = px.histogram(df,x='Solids',y=Counter(df['Solids']),color='Potability',template='plotly_white',\n",
    "                  marginal='violin',opacity=0.7,nbins=100,color_discrete_sequence=[colors_pink[0],colors_blue[3]],\n",
    "                  barmode='relative',histfunc='count',histnorm='density')\n",
    "\n",
    "fig.add_vline(x=1200,line_width=2, line_color=colors_dark[1],line_dash='dot',opacity=0.7)\n",
    "fig.add_annotation(text='Recommended values',x=0.1,y=0.1,showarrow=False,font_size=12)\n",
    "\n",
    "\n",
    "fig.update_layout(\n",
    "    font_family='monospace',\n",
    "    title=dict(text='Solids Distribution',\n",
    "               font=dict(color=colors_dark[2],size=22)),\n",
    "    xaxis_title_text='Solids (mg/L)',\n",
    "    yaxis_title_text='Count',\n",
    "    legend=dict(x=1,y=0.96,bordercolor=colors_dark[4],borderwidth=0,tracegroupgap=5),\n",
    "    bargap=0.3,\n",
    ")\n",
    "fig.show()"
   ]
  },
  {
   "cell_type": "markdown",
   "metadata": {
    "editable": false,
    "id": "-shDft8KcAgy",
    "outputId": "045817b4-3e68-49d1-bfe1-5388735e9890"
   },
   "source": [
    "### <span style='background :#B4DBE9' > Chloramines: </span>\n",
    "\n",
    "<span style='background :#B4DBE9' > - Chlorine and chloramine are the major disinfectants used in public water systems. Chloramines are most commonly formed when ammonia is added to chlorine to treat drinking water. </span>\n",
    "\n",
    "<span style='background :#FF99CC' >- Chlorine levels up to 4 milligrams per liter (mg/L or 4 parts per million (ppm)) are considered safe in drinking water.</span>\n",
    "\n",
    "#### <span style='background :#ffecef' > Observation: The potable water samples with high level of Chloramines are more than 97% of the data, which again leaves us considering the majority of the potable data already unpotable, and this is one of our business problems which we are discovering.   </span>"
   ]
  },
  {
   "cell_type": "code",
   "execution_count": null,
   "metadata": {
    "editable": false,
    "execution": {
     "iopub.execute_input": "2021-08-11T11:46:59.734475Z",
     "iopub.status.busy": "2021-08-11T11:46:59.734089Z",
     "iopub.status.idle": "2021-08-11T11:46:59.910208Z",
     "shell.execute_reply": "2021-08-11T11:46:59.909285Z",
     "shell.execute_reply.started": "2021-08-11T11:46:59.734438Z"
    },
    "id": "YAGl51QrcNI0"
   },
   "outputs": [],
   "source": [
    "fig = px.histogram(df,x='Chloramines',y=Counter(df['Chloramines']),color='Potability', template='plotly_white',\n",
    "                  marginal='violin',opacity=0.7,nbins=100,color_discrete_sequence=[colors_pink[0],colors_blue[3]],\n",
    "                  barmode='relative',histfunc='count',histnorm='density')\n",
    "\n",
    "fig.add_vline(x=4, line_width=2, line_color=colors_dark[1],line_dash='dot',opacity=0.7)\n",
    "\n",
    "fig.add_annotation(text='Standard water (<4 ppm is <br> safe for drinking)',x=2,y=350,showarrow=False,font_size=12)\n",
    "\n",
    "\n",
    "fig.update_layout(\n",
    "    font_family='monospace',\n",
    "    title=dict(text='Chloramines Distribution',\n",
    "               font=dict(color=colors_dark[2],size=22)),\n",
    "    xaxis_title_text='Chloramines (mg/L)',\n",
    "    yaxis_title_text='Count',\n",
    "    legend=dict(x=1,y=0.96,bordercolor=colors_dark[4],borderwidth=0,tracegroupgap=5),\n",
    "    bargap=0.3,\n",
    ")\n",
    "fig.show()"
   ]
  },
  {
   "cell_type": "markdown",
   "metadata": {
    "editable": false
   },
   "source": [
    "### <span style='background :#B4DBE9' > Sulfates: </span>\n",
    "\n",
    "<span style='background :#B4DBE9' > - Sulfates are naturally occurring substances that are found in minerals, soil, and rocks. They are present in ambient air, groundwater, plants, and food. The principal commercial use of sulfate is in the chemical industry. Sulfate concentration in seawater is about 2,700 milligrams per liter (mg/L). It ranges from 3 to 30 mg/L in most freshwater supplies, although much higher concentrations (1000 mg/L) are found in some geographic locations. </span>\n",
    "\n",
    "<span style='background :#FF99CC' >- WHO: It is generally considered that taste impairment is minimal at levels below 250 mg/l. No health-based guideline value has been derived for sulfate.</span>\n",
    "\n",
    "#### <span style='background :#ffecef' > Observation: Only about 1.8% of the water samples were safe in terms of Sulfate levels. Which again leaves us considering the majority of the potable data already unpotable, and this is one of our business problems which we are discovering.  </span>"
   ]
  },
  {
   "cell_type": "code",
   "execution_count": null,
   "metadata": {
    "editable": false,
    "execution": {
     "iopub.execute_input": "2021-08-11T11:47:03.655825Z",
     "iopub.status.busy": "2021-08-11T11:47:03.655446Z",
     "iopub.status.idle": "2021-08-11T11:47:03.850255Z",
     "shell.execute_reply": "2021-08-11T11:47:03.849441Z",
     "shell.execute_reply.started": "2021-08-11T11:47:03.655791Z"
    }
   },
   "outputs": [],
   "source": [
    "fig = px.histogram(df_visual,x='Sulfate',y=Counter(df_visual['Sulfate']),color='Potability', template='plotly_white',\n",
    "                  marginal='violin',opacity=0.7,nbins=100,color_discrete_sequence=[colors_pink[0],colors_blue[3]],\n",
    "                  barmode='relative',histfunc='count',histnorm='density')\n",
    "\n",
    "fig.add_vline(x=190, line_width=1, line_color=colors_dark[1],line_dash='dot',opacity=0.7)\n",
    "\n",
    "fig.add_annotation(text=' Standard water (<250 mg/L <br> is safe for drinking) ',x=250,y=25,showarrow=False,font_size=12)\n",
    "\n",
    "\n",
    "fig.update_layout(\n",
    "    font_family='monospace',\n",
    "    title=dict(text='Sulfate Distribution',\n",
    "               font=dict(color=colors_dark[2],size=22)),\n",
    "    xaxis_title_text='Sulfate (mg/L)',\n",
    "    yaxis_title_text='Count',\n",
    "    legend=dict(x=1,y=0.96,bordercolor=colors_dark[4],borderwidth=0,tracegroupgap=5),\n",
    "    bargap=0.3,\n",
    ")\n",
    "fig.show()"
   ]
  },
  {
   "cell_type": "markdown",
   "metadata": {
    "editable": false
   },
   "source": [
    "### <span style='background :#B4DBE9' > Total Organic Carbon (TOC): </span>\n",
    "\n",
    "<span style='background :#B4DBE9' > - Total Organic Carbon (TOC) in source waters comes from decaying natural organic matter (NOM) as well as synthetic sources. TOC is a measure of the total amount of carbon in organic compounds in pure water.  </span>\n",
    "\n",
    "<span style='background :#FF99CC' >-According to US EPA < 2 mg/L as TOC in treated / drinking water, and < 4 mg/Lit in source water which is use for treatment. </span>\n",
    "\n",
    "#### <span style='background :#ffecef' > Observation: Some Samples (above 65%) of the data classifed as potable while they are under the US EPA standards for potable water.  </span>"
   ]
  },
  {
   "cell_type": "code",
   "execution_count": null,
   "metadata": {
    "editable": false,
    "execution": {
     "iopub.execute_input": "2021-08-11T11:47:06.971577Z",
     "iopub.status.busy": "2021-08-11T11:47:06.971022Z",
     "iopub.status.idle": "2021-08-11T11:47:07.151684Z",
     "shell.execute_reply": "2021-08-11T11:47:07.150782Z",
     "shell.execute_reply.started": "2021-08-11T11:47:06.971532Z"
    }
   },
   "outputs": [],
   "source": [
    "fig = px.histogram(df,x='Organic_carbon',y=Counter(df['Organic_carbon']),color='Potability', template='plotly_white',\n",
    "                  marginal='violin',opacity=0.7,nbins=100,color_discrete_sequence=[colors_pink[0],colors_blue[3]],\n",
    "                  barmode='relative',histfunc='count',histnorm='density')\n",
    "\n",
    "fig.add_vline(x=10, line_width=2, line_color=colors_dark[1],line_dash='dot',opacity=0.7)\n",
    "\n",
    "fig.add_annotation(text='Standard water (TOC<br> level is upto 10 ppm)',x=20,y=350,showarrow=False,font_size=12)\n",
    "\n",
    "\n",
    "fig.update_layout(\n",
    "    font_family='monospace',\n",
    "    title=dict(text='Organic carbon Distribution',\n",
    "               font=dict(color=colors_dark[2],size=22)),\n",
    "    xaxis_title_text='Organic carbon (mg/L)',\n",
    "    yaxis_title_text='Count',\n",
    "    legend=dict(x=1,y=0.96,bordercolor=colors_dark[4],borderwidth=0,tracegroupgap=5),\n",
    "    bargap=0.3,\n",
    ")\n",
    "fig.show()"
   ]
  },
  {
   "cell_type": "markdown",
   "metadata": {
    "editable": false
   },
   "source": [
    "### <span style='background :#B4DBE9' > Trihalomethanes: </span>\n",
    "\n",
    "<span style='background :#B4DBE9' > - THMs are chemicals which may be found in water treated with chlorine. The concentration of THMs in drinking water varies according to the level of organic material in the water, the amount of chlorine required to treat the water, and the temperature of the water that is being treated.  </span>\n",
    "\n",
    "<span style='background :#FF99CC' >-THM levels up to 80 ppm is considered safe in drinking water. </span>\n",
    "\n",
    "#### <span style='background :#ffecef' > Observation: Some Samples (about 20% of the data) classifed as potable while they exceeded the 80 ppm levels of potable water.  </span>"
   ]
  },
  {
   "cell_type": "code",
   "execution_count": null,
   "metadata": {
    "editable": false,
    "execution": {
     "iopub.execute_input": "2021-08-11T11:47:09.422352Z",
     "iopub.status.busy": "2021-08-11T11:47:09.42193Z",
     "iopub.status.idle": "2021-08-11T11:47:09.623811Z",
     "shell.execute_reply": "2021-08-11T11:47:09.617338Z",
     "shell.execute_reply.started": "2021-08-11T11:47:09.422313Z"
    },
    "scrolled": true
   },
   "outputs": [],
   "source": [
    "fig = px.histogram(df_visual,x='Trihalomethanes',y=Counter(df_visual['Trihalomethanes']),color='Potability', template='plotly_white',\n",
    "                  marginal='violin',opacity=0.7,nbins=100,color_discrete_sequence=[colors_pink[0],colors_blue[3]],\n",
    "                  barmode='relative',histfunc='count',histnorm='density')\n",
    "\n",
    "fig.add_vline(x=80, line_width=2, line_color=colors_dark[1],line_dash='dot',opacity=0.7)\n",
    "\n",
    "fig.add_annotation(text='Stardand water <br>(Upper limit of Trihalomethanes<br> level is 80 μg/L)',x=20,y=50,showarrow=False,font_size=12)\n",
    "#fig.add_annotation(text='pH >7 basic solution',x=11,y=350,showarrow=False,font_size=12)\n",
    "\n",
    "\n",
    "fig.update_layout(\n",
    "    font_family='monospace',\n",
    "    title=dict(text='Trihalomethanes Distribution',\n",
    "               font=dict(color=colors_dark[2],size=22)),\n",
    "    xaxis_title_text='Trihalomethanes (mg/L)',\n",
    "    yaxis_title_text='Count',\n",
    "    legend=dict(x=1,y=0.96,bordercolor=colors_dark[4],borderwidth=0,tracegroupgap=5),\n",
    "    bargap=0.3,\n",
    ")\n",
    "fig.show()"
   ]
  },
  {
   "cell_type": "markdown",
   "metadata": {
    "editable": false
   },
   "source": [
    "### <span style='background :#B4DBE9' > Turbidity: </span>\n",
    "\n",
    "<span style='background :#B4DBE9' > - The turbidity of water depends on the quantity of solid matter present in the suspended state. It is a measure of light emitting properties of water and the test is used to indicate the quality of waste discharge with respect to colloidal matter.The mean turbidity value obtained for Wondo Genet Campus (0.98 NTU) is lower than the WHO recommended value of 5.00 NTU. </span>\n",
    "\n",
    "<span style='background :#FF99CC' > - WHO:recommended value below 5.00 NTU, ideally below 1 NTU</span>\n",
    "\n",
    "#### <span style='background :#ffecef' > Observation: Some Samples (about 10% of the data) classifed as potable while they exceeded the 5.00 NTU levels of potable water.  </span>"
   ]
  },
  {
   "cell_type": "code",
   "execution_count": null,
   "metadata": {
    "editable": false,
    "execution": {
     "iopub.execute_input": "2021-08-11T11:47:11.96737Z",
     "iopub.status.busy": "2021-08-11T11:47:11.96701Z",
     "iopub.status.idle": "2021-08-11T11:47:12.130251Z",
     "shell.execute_reply": "2021-08-11T11:47:12.129294Z",
     "shell.execute_reply.started": "2021-08-11T11:47:11.967336Z"
    }
   },
   "outputs": [],
   "source": [
    "fig = px.histogram(df,x='Turbidity',y=Counter(df['Turbidity']),color='Potability', template='plotly_white',\n",
    "                  marginal='violin',opacity=0.7,nbins=100,color_discrete_sequence=[colors_pink[0],colors_blue[3]],\n",
    "                  barmode='relative',histfunc='count',histnorm='density')\n",
    "\n",
    "fig.add_vline(x=5, line_width=2, line_color=colors_dark[1],line_dash='dot',opacity=0.7)\n",
    "\n",
    "fig.add_annotation(text=' Stardard water <br>(<5 NTU Turbidity is<br> considered safe) ',x=2,y=1350,showarrow=False,font_size=12)\n",
    "#fig.add_annotation(text='pH >7 basic solution',x=11,y=350,showarrow=False,font_size=12)\n",
    "\n",
    "\n",
    "fig.update_layout(\n",
    "    font_family='monospace',\n",
    "    title=dict(text='Turbidity Distribution',\n",
    "               font=dict(color=colors_dark[2],size=22)),\n",
    "    xaxis_title_text='Turbidity (mg/L)',\n",
    "    yaxis_title_text='Count',\n",
    "    legend=dict(x=1,y=0.96,bordercolor=colors_dark[4],borderwidth=0,tracegroupgap=5),\n",
    "    bargap=0.3,\n",
    ")\n",
    "fig.show()"
   ]
  },
  {
   "cell_type": "markdown",
   "metadata": {
    "editable": false
   },
   "source": [
    "### <span style='background :#B4DBE9' > pH Value: </span>\n",
    "\n",
    "<span style='background :#B4DBE9' > - PH is an important parameter in evaluating the acid–base balance of water. It is also the indicator of acidic or alkaline condition of water status. </span>\n",
    "\n",
    "<span style='background :#FF99CC' > - WHO has recommended maximum permissible limit of pH from 6.5 to 8.5. The current investigation ranges were 6.52–6.83 which are in the range of WHO standards.</span>\n",
    "\n",
    "#### <span style='background :#ffecef' > Observation: Some Samples are outside the recommended limits, which may contain many harmful metals which is in the end against the potability of the water. </span>"
   ]
  },
  {
   "cell_type": "code",
   "execution_count": null,
   "metadata": {
    "editable": false,
    "execution": {
     "iopub.execute_input": "2021-08-11T11:47:16.1782Z",
     "iopub.status.busy": "2021-08-11T11:47:16.177874Z",
     "iopub.status.idle": "2021-08-11T11:47:16.514122Z",
     "shell.execute_reply": "2021-08-11T11:47:16.512964Z",
     "shell.execute_reply.started": "2021-08-11T11:47:16.178168Z"
    }
   },
   "outputs": [],
   "source": [
    "fig = px.histogram(df_visual,x='ph',y=Counter(df_visual['ph']),color='Potability', template='plotly_white',\n",
    "                  marginal='violin',opacity=0.7,nbins=100,color_discrete_sequence=[colors_green[0],colors_dark[3]],\n",
    "                  barmode='relative',histfunc='count',histnorm='density')\n",
    "\n",
    "fig.add_vline(x=6.5, line_width=2, line_color=colors_dark[1],line_dash='dot',opacity=0.7)\n",
    "fig.add_vline(x=8.5, line_width=2, line_color=colors_dark[1],line_dash='dot',opacity=0.7)\n",
    "fig.add_annotation(text='<7 is Acidic',x=3,y=400,showarrow=False,font_size=10)\n",
    "fig.add_annotation(text='>7 is Basic',x=11,y=400,showarrow=False,font_size=10)\n",
    "fig.add_annotation(text='Recommended values',x=7.5,y=950,showarrow=False,font_size=12)\n",
    "\n",
    "\n",
    "fig.update_layout(\n",
    "    font_family='monospace',\n",
    "    title=dict(text='pH Distribution',\n",
    "               font=dict(color=colors_dark[2],size=22)),\n",
    "    xaxis_title_text='Hardness (mg/L)',\n",
    "    yaxis_title_text='Count',\n",
    "    legend=dict(x=1,y=0.96,bordercolor=colors_dark[4],borderwidth=0,tracegroupgap=5),\n",
    "    bargap=0.3,\n",
    ")\n",
    "fig.show()"
   ]
  },
  {
   "cell_type": "markdown",
   "metadata": {
    "editable": false
   },
   "source": [
    "### <span style='background :#B4DBE9' > Conductivity: </span>\n",
    "\n",
    "<span style='background :#B4DBE9' > - Pure water is not a good conductor of electric current rather’s a good insulator. Increase in ions concentration enhances the electrical conductivity of water. Generally, the amount of dissolved solids in water determines the electrical conductivity. Electrical conductivity (EC) actually measures the ionic process of a solution that enables it to transmit current. </span>\n",
    "\n",
    "<span style='background :#FF99CC' > -  According to WHO standards, EC value should not exceeded 400 μS/cm.</span>\n",
    "\n",
    "#### <span style='background :#ffecef' > Observation: Almost half of the Samples exceeded 400 μS/cm. and still classifies as potable. </span>"
   ]
  },
  {
   "cell_type": "code",
   "execution_count": null,
   "metadata": {
    "editable": false,
    "execution": {
     "iopub.execute_input": "2021-08-11T11:47:18.991072Z",
     "iopub.status.busy": "2021-08-11T11:47:18.99074Z",
     "iopub.status.idle": "2021-08-11T11:47:19.20308Z",
     "shell.execute_reply": "2021-08-11T11:47:19.20202Z",
     "shell.execute_reply.started": "2021-08-11T11:47:18.991043Z"
    }
   },
   "outputs": [],
   "source": [
    "fig = px.histogram(df,x='Conductivity',y=Counter(df['Conductivity']),color='Potability',template='plotly_white',\n",
    "                  marginal='violin',opacity=0.7,nbins=100,color_discrete_sequence=[colors_green[0],colors_dark[3]],\n",
    "                  barmode='relative',histfunc='count',histnorm='density')\n",
    "\n",
    "fig.add_vline(x=0, line_width=2, line_color=colors_dark[1],line_dash='dot',opacity=0.7)\n",
    "fig.add_vline(x=400, line_width=2, line_color=colors_dark[1],line_dash='dot',opacity=0.7)\n",
    "\n",
    "\n",
    "fig.add_annotation(text='Standard water <br>(>400 is considered safe)',x=175,y=10,showarrow=False,font_size=12)\n",
    "\n",
    "\n",
    "\n",
    "\n",
    "fig.update_layout(\n",
    "    font_family='monospace',\n",
    "    title=dict(text='Conductivity Distribution',\n",
    "               font=dict(color=colors_dark[2],size=22)),\n",
    "    xaxis_title_text='Conductivity (μS/cm)',\n",
    "    yaxis_title_text='Count',\n",
    "    legend=dict(x=1,y=0.96,bordercolor=colors_dark[4],borderwidth=0,tracegroupgap=5),\n",
    "    bargap=0.3,\n",
    ")\n",
    "fig.show()"
   ]
  },
  {
   "cell_type": "markdown",
   "metadata": {
    "editable": false
   },
   "source": [
    "### <span style='background :#B4DBE9' > Hardness: </span>\n",
    "\n",
    "<span style='background :#B4DBE9' > - Hardness is mainly caused by calcium and magnesium salts. These salts are dissolved from geologic deposits through which water travels. The length of time water is in contact with hardness producing material helps determine how much hardness there is in raw water. Hardness was originally defined as the capacity of water to precipitate soap caused by Calcium and Magnesium. </span>\n",
    "\n",
    "<span style='background :#FF99CC' > -In some instances, consumers tolerate water hardness in excess of 500 mg/l.</span>\n",
    "\n",
    "#### <span style='background :#ffecef' > Observation: All of the data samples are in the acceptable range.  </span>"
   ]
  },
  {
   "cell_type": "code",
   "execution_count": null,
   "metadata": {
    "editable": false,
    "execution": {
     "iopub.execute_input": "2021-08-11T11:47:23.330605Z",
     "iopub.status.busy": "2021-08-11T11:47:23.330233Z",
     "iopub.status.idle": "2021-08-11T11:47:23.521449Z",
     "shell.execute_reply": "2021-08-11T11:47:23.520515Z",
     "shell.execute_reply.started": "2021-08-11T11:47:23.330571Z"
    }
   },
   "outputs": [],
   "source": [
    "fig = px.histogram(df,x='Hardness',y=Counter(df['Hardness']),color='Potability',template='plotly_white',\n",
    "                  marginal='violin',opacity=0.7,nbins=100,color_discrete_sequence=[colors_green[0],colors_dark[3]],\n",
    "                  barmode='relative',histfunc='count',histnorm='density')\n",
    "\n",
    "fig.add_vline(x=151, line_width=1, line_color=colors_dark[1],line_dash='dot',opacity=0.7)\n",
    "fig.add_vline(x=301, line_width=1, line_color=colors_dark[1],line_dash='dot',opacity=0.7)\n",
    "fig.add_vline(x=76, line_width=1, line_color=colors_dark[1],line_dash='dot',opacity=0.7)\n",
    "\n",
    "fig.add_annotation(text='<60 mg/L is<br> soft',x=40,y=50,showarrow=False,font_size=12)\n",
    "fig.add_annotation(text='Between 76 and<br> 150 (mg/L) is<br>moderately hard',x=113,y=50,showarrow=False,font_size=12)\n",
    "fig.add_annotation(text='Between 151 and 300 (mg/L)<br> hard',x=230,y=50,showarrow=False,font_size=12)\n",
    "fig.add_annotation(text='>300 mg/L is<br> very hard',x=340,y=50,showarrow=False,font_size=12)\n",
    "\n",
    "fig.update_layout(\n",
    "    font_family='monospace',\n",
    "    title=dict(text='Hardness Distribution',\n",
    "               font=dict(color=colors_dark[2],size=22)),\n",
    "    xaxis_title_text='Hardness (mg/L)',\n",
    "    yaxis_title_text='Count',\n",
    "    legend=dict(x=1,y=0.96,bordercolor=colors_dark[4],borderwidth=0,tracegroupgap=5),\n",
    "    bargap=0.3,\n",
    ")\n",
    "fig.show()"
   ]
  },
  {
   "cell_type": "markdown",
   "metadata": {
    "editable": false
   },
   "source": [
    "## Correlation: \n",
    "##### <span style='background :#ffecef' > Observation: - No linear relationship between the features because we have binary label and continuous features. So, Linear model may not work on this case.<span>"
   ]
  },
  {
   "cell_type": "code",
   "execution_count": null,
   "metadata": {
    "execution": {
     "iopub.execute_input": "2021-08-11T11:47:27.688125Z",
     "iopub.status.busy": "2021-08-11T11:47:27.6878Z",
     "iopub.status.idle": "2021-08-11T11:47:28.326657Z",
     "shell.execute_reply": "2021-08-11T11:47:28.324432Z",
     "shell.execute_reply.started": "2021-08-11T11:47:27.688094Z"
    }
   },
   "outputs": [],
   "source": [
    "Corrmat = df.corr()\n",
    "plt.subplots(figsize=(7,7))\n",
    "sns.heatmap(Corrmat, cmap=\"BuPu\", square = True, annot=True, fmt='.2f')\n",
    "plt.show()"
   ]
  },
  {
   "cell_type": "code",
   "execution_count": null,
   "metadata": {
    "editable": false,
    "execution": {
     "iopub.execute_input": "2021-08-11T11:47:28.328504Z",
     "iopub.status.busy": "2021-08-11T11:47:28.3281Z",
     "iopub.status.idle": "2021-08-11T11:47:28.89271Z",
     "shell.execute_reply": "2021-08-11T11:47:28.891888Z",
     "shell.execute_reply.started": "2021-08-11T11:47:28.328462Z"
    }
   },
   "outputs": [],
   "source": [
    "plt.figure(figsize=(20, 17))\n",
    "matrix = np.triu(df.corr())\n",
    "sns.heatmap(df.corr(), annot=True,linewidth=.8, mask=matrix, cmap=\"rocket\");"
   ]
  },
  {
   "cell_type": "markdown",
   "metadata": {
    "editable": false
   },
   "source": [
    "## Boxplot and Distribution:\n",
    "##### <span style='background :#ffecef' > Observation: </span>\n",
    "##### <span style='background :#ffecef' >- The Boxplot and density distribution of different features by Potability show that the difference in mean values aren't big. </span>\n",
    "#### <span style='background :#ffecef' > - There are some differences in the feature distribution among the potability, so we could get use of these differences while modelling. (ex: SUlfate, hardness, and chloramines have big impact on the water health).</span>"
   ]
  },
  {
   "cell_type": "code",
   "execution_count": null,
   "metadata": {
    "editable": false,
    "execution": {
     "iopub.execute_input": "2021-08-11T11:47:35.529468Z",
     "iopub.status.busy": "2021-08-11T11:47:35.529109Z",
     "iopub.status.idle": "2021-08-11T11:47:38.188791Z",
     "shell.execute_reply": "2021-08-11T11:47:38.187836Z",
     "shell.execute_reply.started": "2021-08-11T11:47:35.529436Z"
    }
   },
   "outputs": [],
   "source": [
    "fig, ax = plt.subplots(ncols=2, nrows=9, figsize=(14, 28))\n",
    "\n",
    "features = list(df.columns.drop('Potability'))\n",
    "i=0\n",
    "for cols in features:\n",
    "    sns.kdeplot(df[cols], fill=True, alpha=0.4, hue = df.Potability, \n",
    "                palette=('pink', 'steelblue'), multiple='stack', ax=ax[i,0])\n",
    "    \n",
    "    sns.boxplot(data= df, y=cols, x='Potability', ax=ax[i, 1],\n",
    "               palette=('pink', 'steelblue'))\n",
    "    ax[i,0].set_xlabel(' ')\n",
    "    ax[i,1].set_xlabel(' ')\n",
    "    ax[i,1].set_ylabel(' ')\n",
    "    ax[i,1].xaxis.set_tick_params(labelsize=14)\n",
    "    ax[i,0].tick_params(left=False, labelleft=False)\n",
    "    ax[i,0].set_ylabel(cols, fontsize=16)\n",
    "    i=i+1\n",
    "      \n",
    "plt.show()"
   ]
  },
  {
   "cell_type": "code",
   "execution_count": null,
   "metadata": {
    "editable": false,
    "execution": {
     "iopub.execute_input": "2021-08-11T11:47:40.016552Z",
     "iopub.status.busy": "2021-08-11T11:47:40.016207Z",
     "iopub.status.idle": "2021-08-11T11:47:40.022422Z",
     "shell.execute_reply": "2021-08-11T11:47:40.021564Z",
     "shell.execute_reply.started": "2021-08-11T11:47:40.01652Z"
    }
   },
   "outputs": [],
   "source": [
    "df.columns"
   ]
  },
  {
   "cell_type": "code",
   "execution_count": null,
   "metadata": {
    "editable": false,
    "execution": {
     "iopub.execute_input": "2021-08-11T11:47:41.866087Z",
     "iopub.status.busy": "2021-08-11T11:47:41.86575Z",
     "iopub.status.idle": "2021-08-11T11:47:43.849355Z",
     "shell.execute_reply": "2021-08-11T11:47:43.848573Z",
     "shell.execute_reply.started": "2021-08-11T11:47:41.866056Z"
    }
   },
   "outputs": [],
   "source": [
    "non_potable = df.query(\"Potability == 0\")\n",
    "potable = df.query(\"Potability == 1\")\n",
    "\n",
    "plt.figure(figsize = (15,15))\n",
    "for ax, col in enumerate(df.columns[:9]):\n",
    "    plt.subplot(3,3, ax + 1)\n",
    "    plt.title(col)\n",
    "    sns.kdeplot(x = non_potable[col], label = \"Non Potable\")\n",
    "    sns.kdeplot(x = potable[col], label = \"Potable\")\n",
    "    plt.legend()\n",
    "plt.tight_layout()"
   ]
  },
  {
   "cell_type": "code",
   "execution_count": null,
   "metadata": {
    "editable": false,
    "execution": {
     "iopub.execute_input": "2021-08-11T11:47:43.851229Z",
     "iopub.status.busy": "2021-08-11T11:47:43.850874Z",
     "iopub.status.idle": "2021-08-11T11:48:21.884801Z",
     "shell.execute_reply": "2021-08-11T11:48:21.880415Z",
     "shell.execute_reply.started": "2021-08-11T11:47:43.851191Z"
    }
   },
   "outputs": [],
   "source": [
    "sns.pairplot(df, hue=\"Potability\", palette=\"husl\");"
   ]
  },
  {
   "cell_type": "markdown",
   "metadata": {
    "editable": false
   },
   "source": [
    "# Fixing the Global Standards"
   ]
  },
  {
   "cell_type": "code",
   "execution_count": null,
   "metadata": {
    "editable": false,
    "execution": {
     "iopub.execute_input": "2021-08-11T11:48:21.886909Z",
     "iopub.status.busy": "2021-08-11T11:48:21.886549Z",
     "iopub.status.idle": "2021-08-11T11:48:21.893941Z",
     "shell.execute_reply": "2021-08-11T11:48:21.892796Z",
     "shell.execute_reply.started": "2021-08-11T11:48:21.886873Z"
    }
   },
   "outputs": [],
   "source": [
    "Num = df.select_dtypes(include=[\"float32\",\"float64\",\"int32\",\"int64\"])"
   ]
  },
  {
   "cell_type": "code",
   "execution_count": null,
   "metadata": {
    "editable": false,
    "execution": {
     "iopub.execute_input": "2021-08-11T11:48:21.895869Z",
     "iopub.status.busy": "2021-08-11T11:48:21.89553Z",
     "iopub.status.idle": "2021-08-11T11:48:21.90925Z",
     "shell.execute_reply": "2021-08-11T11:48:21.908258Z",
     "shell.execute_reply.started": "2021-08-11T11:48:21.895836Z"
    }
   },
   "outputs": [],
   "source": [
    "pH_Min = Num[Num[\"ph\"] < 6.5]\n",
    "pH_Max = Num[Num[\"ph\"] > 8.5]\n",
    "\n",
    "pH_Min = pH_Min.reset_index(drop=True)\n",
    "pH_Max = pH_Max.reset_index(drop=True)"
   ]
  },
  {
   "cell_type": "code",
   "execution_count": null,
   "metadata": {
    "editable": false,
    "execution": {
     "iopub.execute_input": "2021-08-11T11:48:23.853772Z",
     "iopub.status.busy": "2021-08-11T11:48:23.853353Z",
     "iopub.status.idle": "2021-08-11T11:48:23.866404Z",
     "shell.execute_reply": "2021-08-11T11:48:23.865402Z",
     "shell.execute_reply.started": "2021-08-11T11:48:23.853736Z"
    }
   },
   "outputs": [],
   "source": [
    "Chloramines_Min = Num[Num[\"Chloramines\"] < 4.0]\n",
    "Chloramines_Max = Num[Num[\"Chloramines\"] > 5.0]\n",
    "\n",
    "Chloramines_Min = Chloramines_Min.reset_index(drop=True)\n",
    "Chloramines_Max = Chloramines_Max.reset_index(drop=True)"
   ]
  },
  {
   "cell_type": "code",
   "execution_count": null,
   "metadata": {
    "editable": false,
    "execution": {
     "iopub.execute_input": "2021-08-11T11:48:28.064627Z",
     "iopub.status.busy": "2021-08-11T11:48:28.064257Z",
     "iopub.status.idle": "2021-08-11T11:48:28.06849Z",
     "shell.execute_reply": "2021-08-11T11:48:28.067599Z",
     "shell.execute_reply.started": "2021-08-11T11:48:28.064592Z"
    }
   },
   "outputs": [],
   "source": [
    "#Num.loc[Num.Conductivity > 400, 'Potability'] = 0"
   ]
  },
  {
   "cell_type": "code",
   "execution_count": null,
   "metadata": {
    "editable": false,
    "execution": {
     "iopub.execute_input": "2021-08-11T11:48:28.99673Z",
     "iopub.status.busy": "2021-08-11T11:48:28.996397Z",
     "iopub.status.idle": "2021-08-11T11:48:29.004156Z",
     "shell.execute_reply": "2021-08-11T11:48:29.003166Z",
     "shell.execute_reply.started": "2021-08-11T11:48:28.996699Z"
    }
   },
   "outputs": [],
   "source": [
    "Solids_Min = Num[Num[\"Solids\"] < 500]\n",
    "Solids_Max = Num[Num[\"Solids\"] > 1000]\n",
    "\n",
    "Solids_Min = Solids_Min.reset_index(drop=True)\n",
    "Solids_Max = Solids_Max.reset_index(drop=True)"
   ]
  },
  {
   "cell_type": "code",
   "execution_count": null,
   "metadata": {
    "editable": false,
    "execution": {
     "iopub.execute_input": "2021-08-11T11:48:29.838601Z",
     "iopub.status.busy": "2021-08-11T11:48:29.838242Z",
     "iopub.status.idle": "2021-08-11T11:48:29.844825Z",
     "shell.execute_reply": "2021-08-11T11:48:29.843682Z",
     "shell.execute_reply.started": "2021-08-11T11:48:29.83857Z"
    }
   },
   "outputs": [],
   "source": [
    "Trihalomethanes_Limit = Num[Num[\"Trihalomethanes\"] > 80]\n",
    "\n",
    "Trihalomethanes_Limit = Trihalomethanes_Limit.reset_index(drop=True)"
   ]
  },
  {
   "cell_type": "code",
   "execution_count": null,
   "metadata": {
    "editable": false,
    "execution": {
     "iopub.execute_input": "2021-08-11T11:48:32.247485Z",
     "iopub.status.busy": "2021-08-11T11:48:32.247121Z",
     "iopub.status.idle": "2021-08-11T11:48:32.253757Z",
     "shell.execute_reply": "2021-08-11T11:48:32.252764Z",
     "shell.execute_reply.started": "2021-08-11T11:48:32.247452Z"
    }
   },
   "outputs": [],
   "source": [
    "Conductivity_Limit = Num[Num[\"Conductivity\"] > 400.0]\n",
    "\n",
    "Conductivity_Limit = Conductivity_Limit.reset_index(drop=True)"
   ]
  },
  {
   "cell_type": "code",
   "execution_count": null,
   "metadata": {
    "editable": false,
    "execution": {
     "iopub.execute_input": "2021-08-11T11:48:32.922501Z",
     "iopub.status.busy": "2021-08-11T11:48:32.922139Z",
     "iopub.status.idle": "2021-08-11T11:48:32.928939Z",
     "shell.execute_reply": "2021-08-11T11:48:32.927943Z",
     "shell.execute_reply.started": "2021-08-11T11:48:32.922468Z"
    }
   },
   "outputs": [],
   "source": [
    "Turbidity_Limit = Num[Num[\"Turbidity\"] < 5.0]\n",
    "\n",
    "Turbidity_Limit = Turbidity_Limit.reset_index(drop=True)"
   ]
  },
  {
   "cell_type": "code",
   "execution_count": null,
   "metadata": {
    "editable": false,
    "execution": {
     "iopub.execute_input": "2021-08-11T11:48:33.639254Z",
     "iopub.status.busy": "2021-08-11T11:48:33.638923Z",
     "iopub.status.idle": "2021-08-11T11:48:33.649494Z",
     "shell.execute_reply": "2021-08-11T11:48:33.648617Z",
     "shell.execute_reply.started": "2021-08-11T11:48:33.639222Z"
    }
   },
   "outputs": [],
   "source": [
    "print(Num.groupby([\"Potability\"])[\"ph\"].mean())"
   ]
  },
  {
   "cell_type": "code",
   "execution_count": null,
   "metadata": {
    "editable": false,
    "execution": {
     "iopub.execute_input": "2021-08-11T11:48:34.231028Z",
     "iopub.status.busy": "2021-08-11T11:48:34.230698Z",
     "iopub.status.idle": "2021-08-11T11:48:34.238022Z",
     "shell.execute_reply": "2021-08-11T11:48:34.237047Z",
     "shell.execute_reply.started": "2021-08-11T11:48:34.230998Z"
    }
   },
   "outputs": [],
   "source": [
    "print(Num.groupby([\"Potability\"])[\"Solids\"].mean())"
   ]
  },
  {
   "cell_type": "code",
   "execution_count": null,
   "metadata": {
    "editable": false,
    "execution": {
     "iopub.execute_input": "2021-08-11T11:48:37.652241Z",
     "iopub.status.busy": "2021-08-11T11:48:37.651917Z",
     "iopub.status.idle": "2021-08-11T11:48:37.661856Z",
     "shell.execute_reply": "2021-08-11T11:48:37.660779Z",
     "shell.execute_reply.started": "2021-08-11T11:48:37.65221Z"
    }
   },
   "outputs": [],
   "source": [
    "print(Num.groupby([\"Potability\"])[\"Chloramines\"].mean())"
   ]
  },
  {
   "cell_type": "code",
   "execution_count": null,
   "metadata": {
    "editable": false,
    "execution": {
     "iopub.execute_input": "2021-08-11T11:48:38.761643Z",
     "iopub.status.busy": "2021-08-11T11:48:38.761252Z",
     "iopub.status.idle": "2021-08-11T11:48:38.768561Z",
     "shell.execute_reply": "2021-08-11T11:48:38.767384Z",
     "shell.execute_reply.started": "2021-08-11T11:48:38.761601Z"
    }
   },
   "outputs": [],
   "source": [
    "print(Num.groupby([\"Potability\"])[\"Sulfate\"].mean())"
   ]
  },
  {
   "cell_type": "code",
   "execution_count": null,
   "metadata": {
    "editable": false,
    "execution": {
     "iopub.execute_input": "2021-08-11T11:48:39.557215Z",
     "iopub.status.busy": "2021-08-11T11:48:39.556885Z",
     "iopub.status.idle": "2021-08-11T11:48:39.565597Z",
     "shell.execute_reply": "2021-08-11T11:48:39.564581Z",
     "shell.execute_reply.started": "2021-08-11T11:48:39.557182Z"
    }
   },
   "outputs": [],
   "source": [
    "print(Num.groupby([\"Potability\"])[\"Conductivity\"].mean())"
   ]
  },
  {
   "cell_type": "code",
   "execution_count": null,
   "metadata": {
    "editable": false,
    "execution": {
     "iopub.execute_input": "2021-08-11T11:48:42.085843Z",
     "iopub.status.busy": "2021-08-11T11:48:42.085516Z",
     "iopub.status.idle": "2021-08-11T11:48:42.09293Z",
     "shell.execute_reply": "2021-08-11T11:48:42.09181Z",
     "shell.execute_reply.started": "2021-08-11T11:48:42.085813Z"
    }
   },
   "outputs": [],
   "source": [
    "print(Num.groupby([\"Potability\"])[\"Trihalomethanes\"].mean())"
   ]
  },
  {
   "cell_type": "code",
   "execution_count": null,
   "metadata": {
    "editable": false,
    "execution": {
     "iopub.execute_input": "2021-08-11T11:48:42.780415Z",
     "iopub.status.busy": "2021-08-11T11:48:42.78006Z",
     "iopub.status.idle": "2021-08-11T11:48:42.788601Z",
     "shell.execute_reply": "2021-08-11T11:48:42.787739Z",
     "shell.execute_reply.started": "2021-08-11T11:48:42.780382Z"
    }
   },
   "outputs": [],
   "source": [
    "print(Num.groupby([\"Potability\"])[\"Organic_carbon\"].mean())"
   ]
  },
  {
   "cell_type": "code",
   "execution_count": null,
   "metadata": {
    "editable": false,
    "execution": {
     "iopub.execute_input": "2021-08-11T11:48:44.989053Z",
     "iopub.status.busy": "2021-08-11T11:48:44.988714Z",
     "iopub.status.idle": "2021-08-11T11:48:44.996505Z",
     "shell.execute_reply": "2021-08-11T11:48:44.995533Z",
     "shell.execute_reply.started": "2021-08-11T11:48:44.989011Z"
    }
   },
   "outputs": [],
   "source": [
    "print(Num.groupby([\"Potability\"])[\"Hardness\"].mean())"
   ]
  },
  {
   "cell_type": "code",
   "execution_count": null,
   "metadata": {
    "editable": false,
    "execution": {
     "iopub.execute_input": "2021-08-11T11:48:45.684244Z",
     "iopub.status.busy": "2021-08-11T11:48:45.683916Z",
     "iopub.status.idle": "2021-08-11T11:48:46.112602Z",
     "shell.execute_reply": "2021-08-11T11:48:46.111815Z",
     "shell.execute_reply.started": "2021-08-11T11:48:45.684211Z"
    }
   },
   "outputs": [],
   "source": [
    "plot_correlation(Num)"
   ]
  },
  {
   "cell_type": "code",
   "execution_count": null,
   "metadata": {
    "editable": false,
    "execution": {
     "iopub.execute_input": "2021-08-11T11:48:49.060474Z",
     "iopub.status.busy": "2021-08-11T11:48:49.058087Z",
     "iopub.status.idle": "2021-08-11T11:48:50.323931Z",
     "shell.execute_reply": "2021-08-11T11:48:50.3231Z",
     "shell.execute_reply.started": "2021-08-11T11:48:49.060421Z"
    }
   },
   "outputs": [],
   "source": [
    "plot(Num)"
   ]
  },
  {
   "cell_type": "code",
   "execution_count": null,
   "metadata": {
    "editable": false,
    "execution": {
     "iopub.execute_input": "2021-08-11T11:48:50.3259Z",
     "iopub.status.busy": "2021-08-11T11:48:50.325373Z",
     "iopub.status.idle": "2021-08-11T11:48:50.865533Z",
     "shell.execute_reply": "2021-08-11T11:48:50.864502Z",
     "shell.execute_reply.started": "2021-08-11T11:48:50.325863Z"
    }
   },
   "outputs": [],
   "source": [
    "plot(Num, \"Potability\")"
   ]
  },
  {
   "cell_type": "code",
   "execution_count": null,
   "metadata": {
    "editable": false,
    "execution": {
     "iopub.execute_input": "2021-08-11T11:48:52.345591Z",
     "iopub.status.busy": "2021-08-11T11:48:52.345214Z",
     "iopub.status.idle": "2021-08-11T11:48:52.767594Z",
     "shell.execute_reply": "2021-08-11T11:48:52.766439Z",
     "shell.execute_reply.started": "2021-08-11T11:48:52.345558Z"
    }
   },
   "outputs": [],
   "source": [
    "plot(Num, \"ph\")"
   ]
  },
  {
   "cell_type": "markdown",
   "metadata": {
    "editable": false
   },
   "source": [
    "## Skewness"
   ]
  },
  {
   "cell_type": "code",
   "execution_count": null,
   "metadata": {},
   "outputs": [],
   "source": [
    "#from luciferml.supervised.classification import Classification\n",
    "#from luciferml.preprocessing import Preprocess as prep"
   ]
  },
  {
   "cell_type": "code",
   "execution_count": null,
   "metadata": {},
   "outputs": [],
   "source": [
    " #dataset = prep.skewcorrect(Num,except_columns=['Potability'])"
   ]
  },
  {
   "cell_type": "markdown",
   "metadata": {
    "editable": false
   },
   "source": [
    "# Choosing the best Model:"
   ]
  },
  {
   "cell_type": "code",
   "execution_count": null,
   "metadata": {
    "editable": false,
    "execution": {
     "iopub.execute_input": "2021-08-11T11:49:03.524791Z",
     "iopub.status.busy": "2021-08-11T11:49:03.524402Z",
     "iopub.status.idle": "2021-08-11T11:49:03.536484Z",
     "shell.execute_reply": "2021-08-11T11:49:03.535246Z",
     "shell.execute_reply.started": "2021-08-11T11:49:03.524756Z"
    }
   },
   "outputs": [],
   "source": [
    "data = Num.sample(frac=0.8, random_state=42)\n",
    "data_unseen = Num.drop(data.index)\n",
    "data.reset_index(inplace=True, drop=True)\n",
    "data_unseen.reset_index(inplace=True, drop=True)\n",
    "print('Data for Modeling: ' + str(data.shape))"
   ]
  },
  {
   "cell_type": "code",
   "execution_count": null,
   "metadata": {
    "editable": false,
    "execution": {
     "iopub.execute_input": "2021-08-11T11:49:05.563515Z",
     "iopub.status.busy": "2021-08-11T11:49:05.563126Z",
     "iopub.status.idle": "2021-08-11T11:49:05.571442Z",
     "shell.execute_reply": "2021-08-11T11:49:05.570295Z",
     "shell.execute_reply.started": "2021-08-11T11:49:05.563479Z"
    }
   },
   "outputs": [],
   "source": [
    "print('Unseen Data For Predictions: ' + str(data_unseen.shape))"
   ]
  },
  {
   "cell_type": "code",
   "execution_count": null,
   "metadata": {
    "editable": false,
    "execution": {
     "iopub.execute_input": "2021-08-11T11:49:08.219405Z",
     "iopub.status.busy": "2021-08-11T11:49:08.219001Z",
     "iopub.status.idle": "2021-08-11T11:49:08.229243Z",
     "shell.execute_reply": "2021-08-11T11:49:08.22805Z",
     "shell.execute_reply.started": "2021-08-11T11:49:08.219368Z"
    }
   },
   "outputs": [],
   "source": [
    "round(data.Potability.value_counts()*100/len(data),2)"
   ]
  },
  {
   "cell_type": "code",
   "execution_count": null,
   "metadata": {
    "editable": false,
    "execution": {
     "iopub.execute_input": "2021-08-11T11:49:09.75955Z",
     "iopub.status.busy": "2021-08-11T11:49:09.759186Z",
     "iopub.status.idle": "2021-08-11T11:49:09.767096Z",
     "shell.execute_reply": "2021-08-11T11:49:09.766129Z",
     "shell.execute_reply.started": "2021-08-11T11:49:09.75952Z"
    }
   },
   "outputs": [],
   "source": [
    "Num = Num.astype(\"float32\")"
   ]
  },
  {
   "cell_type": "code",
   "execution_count": null,
   "metadata": {
    "execution": {
     "iopub.execute_input": "2021-08-11T11:50:57.916814Z",
     "iopub.status.busy": "2021-08-11T11:50:57.91645Z",
     "iopub.status.idle": "2021-08-11T11:50:57.922925Z",
     "shell.execute_reply": "2021-08-11T11:50:57.922048Z",
     "shell.execute_reply.started": "2021-08-11T11:50:57.916774Z"
    }
   },
   "outputs": [],
   "source": [
    "!pip install pycaret"
   ]
  },
  {
   "cell_type": "code",
   "execution_count": null,
   "metadata": {
    "execution": {
     "iopub.execute_input": "2021-08-11T11:53:38.579857Z",
     "iopub.status.busy": "2021-08-11T11:53:38.579512Z",
     "iopub.status.idle": "2021-08-11T11:53:38.589179Z",
     "shell.execute_reply": "2021-08-11T11:53:38.585022Z",
     "shell.execute_reply.started": "2021-08-11T11:53:38.579826Z"
    }
   },
   "outputs": [],
   "source": [
    "!pip install 'pycaret[full]'"
   ]
  },
  {
   "cell_type": "code",
   "execution_count": null,
   "metadata": {
    "execution": {
     "iopub.execute_input": "2021-08-11T11:53:30.095142Z",
     "iopub.status.busy": "2021-08-11T11:53:30.094508Z",
     "iopub.status.idle": "2021-08-11T11:53:32.165448Z",
     "shell.execute_reply": "2021-08-11T11:53:32.164549Z",
     "shell.execute_reply.started": "2021-08-11T11:53:30.095077Z"
    }
   },
   "outputs": [],
   "source": [
    "\n",
    "from pycaret.classification import *"
   ]
  },
  {
   "cell_type": "code",
   "execution_count": null,
   "metadata": {
    "execution": {
     "iopub.execute_input": "2021-08-11T11:54:00.22417Z",
     "iopub.status.busy": "2021-08-11T11:54:00.22379Z",
     "iopub.status.idle": "2021-08-11T11:54:14.40063Z",
     "shell.execute_reply": "2021-08-11T11:54:14.398439Z",
     "shell.execute_reply.started": "2021-08-11T11:54:00.224132Z"
    }
   },
   "outputs": [],
   "source": [
    "# Using 'setup' from pycaret.classification for preprocessing the data\n",
    "clf = setup(df, target = 'Potability',\n",
    "            remove_outliers = True, outliers_threshold = 0.05, # Removing outliers with threshold of 5 percentile\n",
    "            #numeric_imputation = 'mean', # Imputing missing values with mean\n",
    "            normalize = True, # Normalizing the features, so that Gradient Descent will converge fast\n",
    "            normalize_method = 'zscore', # Mean => 0 and std. deviation => 1\n",
    "            train_size = 0.8,\n",
    "            fold = 10, # Number of K-folds\n",
    "            use_gpu = True,\n",
    "            silent = True)"
   ]
  },
  {
   "cell_type": "code",
   "execution_count": null,
   "metadata": {
    "editable": false,
    "execution": {
     "iopub.execute_input": "2021-08-11T11:54:27.317217Z",
     "iopub.status.busy": "2021-08-11T11:54:27.316877Z",
     "iopub.status.idle": "2021-08-11T12:01:55.178235Z",
     "shell.execute_reply": "2021-08-11T12:01:55.17738Z",
     "shell.execute_reply.started": "2021-08-11T11:54:27.317185Z"
    }
   },
   "outputs": [],
   "source": [
    "best = compare_models()\n",
    "# return top 3 models based on 'Accuracy'\n",
    "top3 = compare_models(n_select = 3)\n",
    "# return best model based on AUC\n",
    "best = compare_models(sort = 'AUC') #default is 'Accuracy'"
   ]
  },
  {
   "cell_type": "markdown",
   "metadata": {},
   "source": [
    "# **PYCARET Models:**"
   ]
  },
  {
   "cell_type": "markdown",
   "metadata": {},
   "source": [
    "# CATBOOST: "
   ]
  },
  {
   "cell_type": "code",
   "execution_count": null,
   "metadata": {
    "execution": {
     "iopub.execute_input": "2021-08-11T12:02:47.081334Z",
     "iopub.status.busy": "2021-08-11T12:02:47.080901Z",
     "iopub.status.idle": "2021-08-11T12:03:29.547523Z",
     "shell.execute_reply": "2021-08-11T12:03:29.546632Z",
     "shell.execute_reply.started": "2021-08-11T12:02:47.081291Z"
    }
   },
   "outputs": [],
   "source": [
    "catboost = create_model('catboost')"
   ]
  },
  {
   "cell_type": "code",
   "execution_count": null,
   "metadata": {
    "execution": {
     "iopub.execute_input": "2021-08-11T12:06:30.014567Z",
     "iopub.status.busy": "2021-08-11T12:06:30.014174Z",
     "iopub.status.idle": "2021-08-11T12:06:30.553612Z",
     "shell.execute_reply": "2021-08-11T12:06:30.552734Z",
     "shell.execute_reply.started": "2021-08-11T12:06:30.014533Z"
    }
   },
   "outputs": [],
   "source": [
    "plot_model(catboost)"
   ]
  },
  {
   "cell_type": "code",
   "execution_count": null,
   "metadata": {
    "execution": {
     "iopub.execute_input": "2021-08-11T12:06:31.021831Z",
     "iopub.status.busy": "2021-08-11T12:06:31.021484Z",
     "iopub.status.idle": "2021-08-11T12:06:31.589142Z",
     "shell.execute_reply": "2021-08-11T12:06:31.588031Z",
     "shell.execute_reply.started": "2021-08-11T12:06:31.021802Z"
    }
   },
   "outputs": [],
   "source": [
    "plot_model(catboost, plot = 'confusion_matrix')"
   ]
  },
  {
   "cell_type": "code",
   "execution_count": null,
   "metadata": {
    "execution": {
     "iopub.execute_input": "2021-08-11T12:06:31.783461Z",
     "iopub.status.busy": "2021-08-11T12:06:31.783128Z",
     "iopub.status.idle": "2021-08-11T12:06:32.185901Z",
     "shell.execute_reply": "2021-08-11T12:06:32.185028Z",
     "shell.execute_reply.started": "2021-08-11T12:06:31.783429Z"
    }
   },
   "outputs": [],
   "source": [
    "plot_model(catboost, 'feature')"
   ]
  },
  {
   "cell_type": "markdown",
   "metadata": {},
   "source": [
    "## Tuned Catboost:"
   ]
  },
  {
   "cell_type": "code",
   "execution_count": null,
   "metadata": {
    "execution": {
     "iopub.execute_input": "2021-08-11T12:08:23.719288Z",
     "iopub.status.busy": "2021-08-11T12:08:23.718918Z",
     "iopub.status.idle": "2021-08-11T12:13:21.425798Z",
     "shell.execute_reply": "2021-08-11T12:13:21.424798Z",
     "shell.execute_reply.started": "2021-08-11T12:08:23.71924Z"
    }
   },
   "outputs": [],
   "source": [
    "tune_catboost = tune_model(catboost)"
   ]
  },
  {
   "cell_type": "code",
   "execution_count": null,
   "metadata": {
    "execution": {
     "iopub.execute_input": "2021-08-11T12:13:21.42812Z",
     "iopub.status.busy": "2021-08-11T12:13:21.427707Z",
     "iopub.status.idle": "2021-08-11T12:20:55.570119Z",
     "shell.execute_reply": "2021-08-11T12:20:55.569311Z",
     "shell.execute_reply.started": "2021-08-11T12:13:21.428079Z"
    }
   },
   "outputs": [],
   "source": [
    "plot_model(tune_catboost, plot = 'learning')"
   ]
  },
  {
   "cell_type": "code",
   "execution_count": null,
   "metadata": {
    "execution": {
     "iopub.execute_input": "2021-08-11T12:20:55.572751Z",
     "iopub.status.busy": "2021-08-11T12:20:55.572262Z",
     "iopub.status.idle": "2021-08-11T12:20:56.035858Z",
     "shell.execute_reply": "2021-08-11T12:20:56.034805Z",
     "shell.execute_reply.started": "2021-08-11T12:20:55.572713Z"
    }
   },
   "outputs": [],
   "source": [
    "plot_model(tune_catboost, plot = 'confusion_matrix')"
   ]
  },
  {
   "cell_type": "markdown",
   "metadata": {},
   "source": [
    "# Quadratic Discriminant Analysis"
   ]
  },
  {
   "cell_type": "code",
   "execution_count": null,
   "metadata": {
    "execution": {
     "iopub.execute_input": "2021-08-11T12:20:56.037983Z",
     "iopub.status.busy": "2021-08-11T12:20:56.037626Z",
     "iopub.status.idle": "2021-08-11T12:20:56.658561Z",
     "shell.execute_reply": "2021-08-11T12:20:56.657674Z",
     "shell.execute_reply.started": "2021-08-11T12:20:56.037945Z"
    }
   },
   "outputs": [],
   "source": [
    "Quadratic_Discriminant_Analysis = create_model('qda')"
   ]
  },
  {
   "cell_type": "code",
   "execution_count": null,
   "metadata": {
    "execution": {
     "iopub.execute_input": "2021-08-11T12:20:56.660257Z",
     "iopub.status.busy": "2021-08-11T12:20:56.659936Z",
     "iopub.status.idle": "2021-08-11T12:20:58.424033Z",
     "shell.execute_reply": "2021-08-11T12:20:58.423196Z",
     "shell.execute_reply.started": "2021-08-11T12:20:56.660223Z"
    }
   },
   "outputs": [],
   "source": [
    "plot_model(Quadratic_Discriminant_Analysis, plot = 'learning')"
   ]
  },
  {
   "cell_type": "code",
   "execution_count": null,
   "metadata": {
    "execution": {
     "iopub.execute_input": "2021-08-11T12:20:58.425593Z",
     "iopub.status.busy": "2021-08-11T12:20:58.425249Z",
     "iopub.status.idle": "2021-08-11T12:20:58.873014Z",
     "shell.execute_reply": "2021-08-11T12:20:58.872186Z",
     "shell.execute_reply.started": "2021-08-11T12:20:58.425559Z"
    }
   },
   "outputs": [],
   "source": [
    "plot_model(Quadratic_Discriminant_Analysis, plot = 'confusion_matrix')"
   ]
  },
  {
   "cell_type": "code",
   "execution_count": null,
   "metadata": {
    "execution": {
     "iopub.execute_input": "2021-08-11T12:20:58.874718Z",
     "iopub.status.busy": "2021-08-11T12:20:58.874375Z",
     "iopub.status.idle": "2021-08-11T12:20:59.372254Z",
     "shell.execute_reply": "2021-08-11T12:20:59.371379Z",
     "shell.execute_reply.started": "2021-08-11T12:20:58.874683Z"
    }
   },
   "outputs": [],
   "source": [
    "plot_model(Quadratic_Discriminant_Analysis)"
   ]
  },
  {
   "cell_type": "markdown",
   "metadata": {},
   "source": [
    "# lightgbm:"
   ]
  },
  {
   "cell_type": "code",
   "execution_count": null,
   "metadata": {
    "execution": {
     "iopub.execute_input": "2021-08-11T12:21:17.214442Z",
     "iopub.status.busy": "2021-08-11T12:21:17.214074Z",
     "iopub.status.idle": "2021-08-11T12:21:24.004857Z",
     "shell.execute_reply": "2021-08-11T12:21:24.003918Z",
     "shell.execute_reply.started": "2021-08-11T12:21:17.214408Z"
    }
   },
   "outputs": [],
   "source": [
    "lightgbm  = create_model('lightgbm')"
   ]
  },
  {
   "cell_type": "code",
   "execution_count": null,
   "metadata": {
    "execution": {
     "iopub.execute_input": "2021-08-11T12:21:24.006737Z",
     "iopub.status.busy": "2021-08-11T12:21:24.006401Z",
     "iopub.status.idle": "2021-08-11T12:21:24.46849Z",
     "shell.execute_reply": "2021-08-11T12:21:24.467634Z",
     "shell.execute_reply.started": "2021-08-11T12:21:24.006699Z"
    }
   },
   "outputs": [],
   "source": [
    "plot_model(lightgbm, plot = 'confusion_matrix')"
   ]
  },
  {
   "cell_type": "code",
   "execution_count": null,
   "metadata": {
    "execution": {
     "iopub.execute_input": "2021-08-11T12:21:24.470367Z",
     "iopub.status.busy": "2021-08-11T12:21:24.470049Z",
     "iopub.status.idle": "2021-08-11T12:22:13.41047Z",
     "shell.execute_reply": "2021-08-11T12:22:13.409513Z",
     "shell.execute_reply.started": "2021-08-11T12:21:24.470335Z"
    }
   },
   "outputs": [],
   "source": [
    "plot_model(lightgbm, plot = 'learning')"
   ]
  },
  {
   "cell_type": "markdown",
   "metadata": {},
   "source": [
    "# Random Forest:"
   ]
  },
  {
   "cell_type": "code",
   "execution_count": null,
   "metadata": {
    "execution": {
     "iopub.execute_input": "2021-08-11T12:22:13.412596Z",
     "iopub.status.busy": "2021-08-11T12:22:13.412266Z",
     "iopub.status.idle": "2021-08-11T12:22:21.78809Z",
     "shell.execute_reply": "2021-08-11T12:22:21.787123Z",
     "shell.execute_reply.started": "2021-08-11T12:22:13.412561Z"
    }
   },
   "outputs": [],
   "source": [
    "Random_Forest = create_model('rf')"
   ]
  },
  {
   "cell_type": "code",
   "execution_count": null,
   "metadata": {
    "execution": {
     "iopub.execute_input": "2021-08-11T12:22:21.790787Z",
     "iopub.status.busy": "2021-08-11T12:22:21.790386Z",
     "iopub.status.idle": "2021-08-11T12:22:23.929686Z",
     "shell.execute_reply": "2021-08-11T12:22:23.928795Z",
     "shell.execute_reply.started": "2021-08-11T12:22:21.790746Z"
    }
   },
   "outputs": [],
   "source": [
    "plot_model(Random_Forest)"
   ]
  },
  {
   "cell_type": "code",
   "execution_count": null,
   "metadata": {
    "execution": {
     "iopub.execute_input": "2021-08-11T12:22:23.932094Z",
     "iopub.status.busy": "2021-08-11T12:22:23.93162Z",
     "iopub.status.idle": "2021-08-11T12:22:24.927769Z",
     "shell.execute_reply": "2021-08-11T12:22:24.926362Z",
     "shell.execute_reply.started": "2021-08-11T12:22:23.932055Z"
    }
   },
   "outputs": [],
   "source": [
    "plot_model(Random_Forest, plot = 'confusion_matrix')"
   ]
  },
  {
   "cell_type": "code",
   "execution_count": null,
   "metadata": {
    "execution": {
     "iopub.execute_input": "2021-08-11T12:22:24.930071Z",
     "iopub.status.busy": "2021-08-11T12:22:24.929635Z",
     "iopub.status.idle": "2021-08-11T12:23:41.222758Z",
     "shell.execute_reply": "2021-08-11T12:23:41.221798Z",
     "shell.execute_reply.started": "2021-08-11T12:22:24.93003Z"
    }
   },
   "outputs": [],
   "source": [
    "plot_model(Random_Forest, plot = 'learning')"
   ]
  },
  {
   "cell_type": "markdown",
   "metadata": {},
   "source": [
    "## Tuned Random Forest:"
   ]
  },
  {
   "cell_type": "code",
   "execution_count": null,
   "metadata": {
    "execution": {
     "iopub.execute_input": "2021-08-11T12:23:41.224606Z",
     "iopub.status.busy": "2021-08-11T12:23:41.224169Z",
     "iopub.status.idle": "2021-08-11T12:23:58.553758Z",
     "shell.execute_reply": "2021-08-11T12:23:58.552882Z",
     "shell.execute_reply.started": "2021-08-11T12:23:41.224563Z"
    }
   },
   "outputs": [],
   "source": [
    "tune_RandomForest = tune_model(Random_Forest)"
   ]
  },
  {
   "cell_type": "code",
   "execution_count": null,
   "metadata": {
    "execution": {
     "iopub.execute_input": "2021-08-11T12:23:58.555474Z",
     "iopub.status.busy": "2021-08-11T12:23:58.555131Z",
     "iopub.status.idle": "2021-08-11T12:24:11.119519Z",
     "shell.execute_reply": "2021-08-11T12:24:11.118672Z",
     "shell.execute_reply.started": "2021-08-11T12:23:58.555438Z"
    }
   },
   "outputs": [],
   "source": [
    "plot_model(tune_RandomForest, plot = 'learning')"
   ]
  },
  {
   "cell_type": "code",
   "execution_count": null,
   "metadata": {
    "execution": {
     "iopub.execute_input": "2021-08-11T12:24:11.122437Z",
     "iopub.status.busy": "2021-08-11T12:24:11.121915Z",
     "iopub.status.idle": "2021-08-11T12:24:11.568721Z",
     "shell.execute_reply": "2021-08-11T12:24:11.567879Z",
     "shell.execute_reply.started": "2021-08-11T12:24:11.122399Z"
    }
   },
   "outputs": [],
   "source": [
    "plot_model(tune_RandomForest, plot = 'confusion_matrix')"
   ]
  },
  {
   "cell_type": "markdown",
   "metadata": {},
   "source": [
    "# XGBOOST:"
   ]
  },
  {
   "cell_type": "code",
   "execution_count": null,
   "metadata": {
    "execution": {
     "iopub.execute_input": "2021-08-11T12:24:11.570698Z",
     "iopub.status.busy": "2021-08-11T12:24:11.570376Z",
     "iopub.status.idle": "2021-08-11T12:24:18.000174Z",
     "shell.execute_reply": "2021-08-11T12:24:17.999316Z",
     "shell.execute_reply.started": "2021-08-11T12:24:11.570671Z"
    }
   },
   "outputs": [],
   "source": [
    "XGBOOST = create_model('xgboost')"
   ]
  },
  {
   "cell_type": "code",
   "execution_count": null,
   "metadata": {
    "execution": {
     "iopub.execute_input": "2021-08-11T12:24:18.001891Z",
     "iopub.status.busy": "2021-08-11T12:24:18.001492Z",
     "iopub.status.idle": "2021-08-11T12:24:18.812337Z",
     "shell.execute_reply": "2021-08-11T12:24:18.811476Z",
     "shell.execute_reply.started": "2021-08-11T12:24:18.001846Z"
    }
   },
   "outputs": [],
   "source": [
    "plot_model(XGBOOST, plot = 'confusion_matrix')"
   ]
  },
  {
   "cell_type": "markdown",
   "metadata": {},
   "source": [
    "# **LUCifer ML Models: **"
   ]
  },
  {
   "cell_type": "code",
   "execution_count": null,
   "metadata": {},
   "outputs": [],
   "source": [
    "#features = dataset.iloc[:, :-1]\n",
    "#labels = dataset.iloc[:, -1]"
   ]
  },
  {
   "cell_type": "code",
   "execution_count": null,
   "metadata": {},
   "outputs": [],
   "source": [
    "#features.shape, labels.shape"
   ]
  },
  {
   "cell_type": "code",
   "execution_count": null,
   "metadata": {},
   "outputs": [],
   "source": [
    "#accuracy_scores =  {}"
   ]
  },
  {
   "cell_type": "markdown",
   "metadata": {
    "editable": false
   },
   "source": [
    "# Logistic regression"
   ]
  },
  {
   "cell_type": "code",
   "execution_count": null,
   "metadata": {},
   "outputs": [],
   "source": [
    "\"\"\"\n",
    "x = {'C': 0.00026366508987303583, 'penalty': 'l2', 'solver': 'newton-cg'}\n",
    "\n",
    "classifier =  Classification(predictor = 'lr',params=x, smote = 'y')\n",
    "classifier.fit(features, labels)\n",
    "result = classifier.result()\n",
    "accuracy_scores[result['Classifier']] = result['Accuracy']\n",
    "\"\"\""
   ]
  },
  {
   "cell_type": "markdown",
   "metadata": {
    "editable": false
   },
   "source": [
    "# KNN"
   ]
  },
  {
   "cell_type": "code",
   "execution_count": null,
   "metadata": {},
   "outputs": [],
   "source": [
    "\"\"\"\n",
    "x = {'algorithm': 'kd_tree', 'n_jobs': 1, 'n_neighbors': 1, 'weights': 'uniform'}\n",
    "classifier =  Classification(predictor = 'knn',params=x, smote = 'y')\n",
    "classifier.fit(features, labels)\n",
    "result = classifier.result()\n",
    "accuracy_scores[result['Classifier']] = result['Accuracy']\n",
    "\"\"\""
   ]
  },
  {
   "cell_type": "markdown",
   "metadata": {
    "editable": false
   },
   "source": [
    "# Decision Trees"
   ]
  },
  {
   "cell_type": "code",
   "execution_count": null,
   "metadata": {},
   "outputs": [],
   "source": [
    "\"\"\"\n",
    "x = {'criterion': 'entropy', 'max_depth': 30, 'max_features': 'sqrt', 'splitter': 'best', 'random_state': 42}\n",
    "classifier =  Classification(predictor = 'dt',params=x, smote = 'y')\n",
    "classifier.fit(features, labels)\n",
    "result = classifier.result()\n",
    "accuracy_scores[result['Classifier']] = result['Accuracy']\n",
    "\"\"\""
   ]
  },
  {
   "cell_type": "markdown",
   "metadata": {
    "editable": false
   },
   "source": [
    "# Random Forest Classifier"
   ]
  },
  {
   "cell_type": "code",
   "execution_count": null,
   "metadata": {},
   "outputs": [],
   "source": [
    "\"\"\"\n",
    "x = {'criterion': 'gini', 'max_features': 'auto', 'n_estimators': 150,'random_state':0}\n",
    "classifier =  Classification(predictor = 'rfc',params=x, smote = 'y')\n",
    "classifier.fit(features, labels)\n",
    "result = classifier.result()\n",
    "accuracy_scores[result['Classifier']] = result['Accuracy']\n",
    "\"\"\""
   ]
  },
  {
   "cell_type": "markdown",
   "metadata": {
    "editable": false
   },
   "source": [
    "# XGBOOST"
   ]
  },
  {
   "cell_type": "code",
   "execution_count": null,
   "metadata": {
    "editable": false
   },
   "outputs": [],
   "source": [
    "x = {'learning_rate':0.02, 'n_estimators':600, 'objective':'binary:logistic', 'eval_metric':'logloss', 'nthread':-1}\n",
    "classifier =  Classification(predictor = 'xgb',params=x, smote = 'y')\n",
    "classifier.fit(features, labels)\n",
    "result = classifier.result()\n",
    "accuracy_scores[result['Classifier']] = result['Accuracy']"
   ]
  },
  {
   "cell_type": "code",
   "execution_count": null,
   "metadata": {},
   "outputs": [],
   "source": [
    "\"\"\"\"\n",
    "x = {'learning_rate':0.02, 'n_estimators':600, 'objective':'binary:logistic', 'eval_metric':'logloss', 'nthread':-1}\n",
    "classifier =  Classification(predictor = 'xgb',params=x, smote = 'y')\n",
    "classifier.fit(features, labels)\n",
    "result = classifier.result()\n",
    "accuracy_scores[result['Classifier']] = result['Accuracy']\n",
    "\"\"\""
   ]
  },
  {
   "cell_type": "code",
   "execution_count": null,
   "metadata": {},
   "outputs": [],
   "source": [
    "\"\"\"\n",
    "Vis = max(accuracy_scores, key=lambda x: accuracy_scores[x])\n",
    "print('The highest K-Fold Validation Accuracy score is  {0} with an accuracy of  {1:.2f}'.format(\n",
    "    Vis, accuracy_scores[Vis]))\n",
    "\"\"\""
   ]
  },
  {
   "cell_type": "code",
   "execution_count": null,
   "metadata": {},
   "outputs": [],
   "source": [
    "\"\"\"\n",
    "plt.figure(figsize=(12, 6))\n",
    "model_accuracies = list(accuracy_scores.values())\n",
    "model_names = list(accuracy_scores.keys())\n",
    "sns.barplot(x=model_accuracies, y=model_names, palette='mako');\n",
    "\"\"\"\""
   ]
  },
  {
   "cell_type": "markdown",
   "metadata": {},
   "source": [
    "\n",
    "# <span style='background :#ffecef' > **Conclusion:** </span>\n",
    "\n",
    "## <span style='background :#ffecef' > After Handeling the Missing Data, Fixing the Imbalanced data, Fixing the Skewness, and fixing the wrong classified potable water, we conclude that: </span>\n",
    "\n",
    "### <span style='background :#ffecef' >- Potability is super sensitive to some features like its pH level, and the Carboon levels.  </span>\n",
    "\n",
    "### <span style='background :#ffecef' > - water could be classified as potable without being really drinkable, which is really dangerous for human use as we visuallized each feature with its reccomended limits. </span>\n",
    "### <span style='background :#ffecef' >- Some countries and places my recive drinkable water without filtering it while they should filter it and take a closer look to each feature which may effect the water health so that no harm could be done to the water users. </span>\n",
    "### <span style='background :#ffecef' > - Considering this data as a global water sample lets us understand that unpotable water exists more than the potable one, and that we should consider more sustainble ways to filter out our water instead of using fussil fuels. </span>\n",
    "### <span style='background :#ffecef' > - also, people should be more aware of consuming plastics, as plastic endes in water and decays to microplastics which effects the water carbon levels and lasts between 450 and 1,000 years. </span>"
   ]
  }
 ],
 "metadata": {
  "kernelspec": {
   "display_name": "Python 3",
   "language": "python",
   "name": "python3"
  },
  "language_info": {
   "codemirror_mode": {
    "name": "ipython",
    "version": 3
   },
   "file_extension": ".py",
   "mimetype": "text/x-python",
   "name": "python",
   "nbconvert_exporter": "python",
   "pygments_lexer": "ipython3",
   "version": "3.6.4"
  }
 },
 "nbformat": 4,
 "nbformat_minor": 4
}
