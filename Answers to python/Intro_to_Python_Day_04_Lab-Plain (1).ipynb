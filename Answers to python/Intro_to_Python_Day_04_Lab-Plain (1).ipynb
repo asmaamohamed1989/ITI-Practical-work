{
 "cells": [
  {
   "cell_type": "markdown",
   "metadata": {},
   "source": [
    "# Intro to Python Day 04 Lab Plain"
   ]
  },
  {
   "cell_type": "markdown",
   "metadata": {},
   "source": [
    "Compiled by Ali Heikal"
   ]
  },
  {
   "cell_type": "markdown",
   "metadata": {},
   "source": [
    "## Problem 01"
   ]
  },
  {
   "cell_type": "markdown",
   "metadata": {},
   "source": [
    "Write a program to check if a file is empty or not, as a boolean."
   ]
  },
  {
   "cell_type": "code",
   "execution_count": 19,
   "metadata": {},
   "outputs": [
    {
     "name": "stdout",
     "output_type": "stream",
     "text": [
      "True\n"
     ]
    }
   ],
   "source": [
    "with open (\"test.txt\" , \"r+\") as f:\n",
    "    f.seek(0)\n",
    "    if f.read(1):\n",
    "        print(bool(\"True\"))\n",
    "    else:\n",
    "        print(bool(\"True\"))"
   ]
  },
  {
   "cell_type": "code",
   "execution_count": 21,
   "metadata": {},
   "outputs": [
    {
     "name": "stdout",
     "output_type": "stream",
     "text": [
      "True\n"
     ]
    }
   ],
   "source": [
    "import os\n",
    "if os.path.getsize(\"test.txt\"):\n",
    "    print(bool(\"True\"))\n",
    "else:\n",
    "    print(bool(\"True\"))"
   ]
  },
  {
   "cell_type": "code",
   "execution_count": 27,
   "metadata": {},
   "outputs": [
    {
     "name": "stdout",
     "output_type": "stream",
     "text": [
      "True\n"
     ]
    }
   ],
   "source": [
    "with open (\"test.txt\" , \"r+\") as f:\n",
    "    lines=f.readlines()\n",
    "    if (len(lines) == 0):\n",
    "         print(bool(\"True\"))\n",
    "    else:\n",
    "        print(bool(\"True\"))"
   ]
  },
  {
   "cell_type": "markdown",
   "metadata": {},
   "source": [
    "## Problem 02"
   ]
  },
  {
   "cell_type": "markdown",
   "metadata": {},
   "source": [
    "Write a program to sort given JSON keys and write save the output in a JSON file called \"sampleJson.json\"."
   ]
  },
  {
   "cell_type": "raw",
   "metadata": {},
   "source": [
    "sampleJson = {\"id\" : 1, \"name\" : \"value2\", \"age\" : 29}"
   ]
  },
  {
   "cell_type": "code",
   "execution_count": 37,
   "metadata": {},
   "outputs": [
    {
     "name": "stdout",
     "output_type": "stream",
     "text": [
      "Started writing JSON data into a file\n",
      "Done writing JSON data into a file\n"
     ]
    }
   ],
   "source": [
    "# Import the module    \n",
    "import json\n",
    "\n",
    "sampleJson = {\"id\" : 1, \"name\" : \"value2\", \"age\" : 29}\n",
    "\n",
    "print(\"Started writing JSON data into a file\")\n",
    "with open(\"sampleJson.json\", \"w\") as write_file:\n",
    "    json.dump(sampleJson, write_file, indent=4, sort_keys=True)\n",
    "print(\"Done writing JSON data into a file\")"
   ]
  },
  {
   "cell_type": "markdown",
   "metadata": {},
   "source": [
    "## Problem 03"
   ]
  },
  {
   "cell_type": "markdown",
   "metadata": {},
   "source": [
    "You are given JSON data that has nested key \"salary\""
   ]
  },
  {
   "cell_type": "raw",
   "metadata": {},
   "source": [
    "{\n",
    "    \"company\": {\n",
    "        \"employee\": {\n",
    "            \"name\": \"emma\",\n",
    "            \"payble\": {\n",
    "                \"salary\": 7000,\n",
    "                \"bonus\": 800\n",
    "            }\n",
    "        }\n",
    "    }\n",
    "}"
   ]
  },
  {
   "cell_type": "markdown",
   "metadata": {},
   "source": [
    "Write a program to print the value of \"salary\""
   ]
  },
  {
   "cell_type": "code",
   "execution_count": 38,
   "metadata": {
    "scrolled": true
   },
   "outputs": [
    {
     "name": "stdout",
     "output_type": "stream",
     "text": [
      "7000\n"
     ]
    }
   ],
   "source": [
    "import json\n",
    "\n",
    "sampleJson = \"\"\"{ \n",
    "   \"company\":{ \n",
    "      \"employee\":{ \n",
    "         \"name\":\"emma\",\n",
    "         \"payble\":{ \n",
    "            \"salary\":7000,\n",
    "            \"bonus\":800\n",
    "         }\n",
    "      }\n",
    "   }\n",
    "}\"\"\"\n",
    "\n",
    "data = json.loads(sampleJson)\n",
    "print(data['company']['employee']['payble']['salary'])\n",
    "\n"
   ]
  },
  {
   "cell_type": "markdown",
   "metadata": {},
   "source": [
    "## Problem 04"
   ]
  },
  {
   "cell_type": "markdown",
   "metadata": {},
   "source": [
    "Write a program to convert Vehicle Object to JSON format and print it."
   ]
  },
  {
   "cell_type": "code",
   "execution_count": 1,
   "metadata": {},
   "outputs": [],
   "source": [
    "import json\n",
    "\n",
    "class Vehicle:\n",
    "    def __init__(self, name, engine, price):\n",
    "        self.name = name\n",
    "        self.engine = engine\n",
    "        self.price = price\n",
    "\n",
    "vehicle = Vehicle(\"Toyota Rav4\", \"2.5L\", 32000)\n",
    "\n",
    "# Modify this code to achieve the solution to this problem"
   ]
  },
  {
   "cell_type": "code",
   "execution_count": 39,
   "metadata": {},
   "outputs": [
    {
     "name": "stdout",
     "output_type": "stream",
     "text": [
      "Encode Vehicle Object into JSON\n",
      "{\n",
      "    \"name\": \"Toyota Rav4\",\n",
      "    \"engine\": \"2.5L\",\n",
      "    \"price\": 32000\n",
      "}\n"
     ]
    }
   ],
   "source": [
    "import json\n",
    "from json import JSONEncoder\n",
    "\n",
    "class Vehicle:\n",
    "    def __init__(self, name, engine, price):\n",
    "        self.name = name\n",
    "        self.engine = engine\n",
    "        self.price = price\n",
    "\n",
    "class VehicleEncoder(JSONEncoder):\n",
    "        def default(self, o):\n",
    "            return o.__dict__\n",
    "\n",
    "vehicle = Vehicle(\"Toyota Rav4\", \"2.5L\", 32000)\n",
    "\n",
    "print(\"Encode Vehicle Object into JSON\")\n",
    "vehicleJson = json.dumps(vehicle, indent=4, cls=VehicleEncoder)\n",
    "print(vehicleJson)"
   ]
  },
  {
   "cell_type": "markdown",
   "metadata": {},
   "source": [
    "## Problem 05"
   ]
  },
  {
   "cell_type": "markdown",
   "metadata": {},
   "source": [
    "Write a program to parse the following JSON to get all the values of key \"name\" and add them to an array and print it."
   ]
  },
  {
   "cell_type": "raw",
   "metadata": {},
   "source": [
    "[\n",
    "    {\n",
    "        \"id\": 1,\n",
    "        \"name\": \"name1\",\n",
    "        \"color\": [\n",
    "            \"red\",\n",
    "            \"green\"\n",
    "        ]\n",
    "    },\n",
    "    {\n",
    "        \"id\": 2,\n",
    "        \"name\": \"name2\",\n",
    "        \"color\": [\n",
    "            \"pink\",\n",
    "            \"yellow\"\n",
    "        ]\n",
    "    }\n",
    "]"
   ]
  },
  {
   "cell_type": "code",
   "execution_count": 40,
   "metadata": {},
   "outputs": [
    {
     "name": "stdout",
     "output_type": "stream",
     "text": [
      "['name1', 'name2']\n"
     ]
    }
   ],
   "source": [
    "import json\n",
    "\n",
    "sampleJson = \"\"\"[ \n",
    "   { \n",
    "      \"id\":1,\n",
    "      \"name\":\"name1\",\n",
    "      \"color\":[ \n",
    "         \"red\",\n",
    "         \"green\"\n",
    "      ]\n",
    "   },\n",
    "   { \n",
    "      \"id\":2,\n",
    "      \"name\":\"name2\",\n",
    "      \"color\":[ \n",
    "         \"pink\",\n",
    "         \"yellow\"\n",
    "      ]\n",
    "   }\n",
    "]\"\"\"\n",
    "\n",
    "data = []\n",
    "try:\n",
    "    data = json.loads(sampleJson)\n",
    "except Exception as e:\n",
    "    print(e)\n",
    "\n",
    "dataList = [item.get('name') for item in data]\n",
    "print(dataList)\n"
   ]
  },
  {
   "cell_type": "markdown",
   "metadata": {},
   "source": [
    "## Problem 06"
   ]
  },
  {
   "cell_type": "markdown",
   "metadata": {},
   "source": [
    "Write a program that raises an exception when x is bigger than 5"
   ]
  },
  {
   "cell_type": "code",
   "execution_count": 43,
   "metadata": {},
   "outputs": [
    {
     "name": "stdout",
     "output_type": "stream",
     "text": [
      "There was an exception.\n"
     ]
    },
    {
     "ename": "ValueError",
     "evalue": "x should not exceed 5.The value of x was 10",
     "output_type": "error",
     "traceback": [
      "\u001b[1;31m---------------------------------------------------------------------------\u001b[0m",
      "\u001b[1;31mValueError\u001b[0m                                Traceback (most recent call last)",
      "\u001b[1;32m<ipython-input-43-870f96d417ec>\u001b[0m in \u001b[0;36m<module>\u001b[1;34m\u001b[0m\n\u001b[0;32m      5\u001b[0m     \u001b[0mx\u001b[0m \u001b[1;33m=\u001b[0m \u001b[1;36m10\u001b[0m\u001b[1;33m\u001b[0m\u001b[1;33m\u001b[0m\u001b[0m\n\u001b[0;32m      6\u001b[0m \u001b[1;32mif\u001b[0m \u001b[0mx\u001b[0m \u001b[1;33m>\u001b[0m \u001b[1;36m5\u001b[0m\u001b[1;33m:\u001b[0m\u001b[1;33m\u001b[0m\u001b[1;33m\u001b[0m\u001b[0m\n\u001b[1;32m----> 7\u001b[1;33m     \u001b[1;32mraise\u001b[0m \u001b[0mValueError\u001b[0m\u001b[1;33m(\u001b[0m\u001b[1;34m'x should not exceed 5.The value of x was 10'\u001b[0m\u001b[1;33m)\u001b[0m\u001b[1;33m\u001b[0m\u001b[1;33m\u001b[0m\u001b[0m\n\u001b[0m",
      "\u001b[1;31mValueError\u001b[0m: x should not exceed 5.The value of x was 10"
     ]
    }
   ],
   "source": [
    "try:\n",
    "    raise ValueError\n",
    "except ValueError:\n",
    "    print('There was an exception.')\n",
    "    x = 10\n",
    "if x > 5:\n",
    "    raise ValueError('x should not exceed 5.The value of x was 10')"
   ]
  },
  {
   "cell_type": "markdown",
   "metadata": {},
   "source": [
    "## Problem 07"
   ]
  },
  {
   "cell_type": "markdown",
   "metadata": {},
   "source": [
    "Write a program that will assert that the code will be executed on a Linux system."
   ]
  },
  {
   "cell_type": "code",
   "execution_count": 44,
   "metadata": {},
   "outputs": [
    {
     "ename": "AssertionError",
     "evalue": "The condition is false",
     "output_type": "error",
     "traceback": [
      "\u001b[1;31m---------------------------------------------------------------------------\u001b[0m",
      "\u001b[1;31mAssertionError\u001b[0m                            Traceback (most recent call last)",
      "\u001b[1;32m<ipython-input-44-a3230b299eb7>\u001b[0m in \u001b[0;36m<module>\u001b[1;34m\u001b[0m\n\u001b[0;32m      7\u001b[0m \u001b[1;31m# The condition is false, assert statement will be executed\u001b[0m\u001b[1;33m\u001b[0m\u001b[1;33m\u001b[0m\u001b[1;33m\u001b[0m\u001b[0m\n\u001b[0;32m      8\u001b[0m \u001b[1;33m\u001b[0m\u001b[0m\n\u001b[1;32m----> 9\u001b[1;33m \u001b[1;32massert\u001b[0m \u001b[0mval\u001b[0m\u001b[1;33m!=\u001b[0m\u001b[1;34m\"LinuxHint\"\u001b[0m\u001b[1;33m,\u001b[0m \u001b[1;34m\"The condition is false\"\u001b[0m\u001b[1;33m\u001b[0m\u001b[1;33m\u001b[0m\u001b[0m\n\u001b[0m",
      "\u001b[1;31mAssertionError\u001b[0m: The condition is false"
     ]
    }
   ],
   "source": [
    "#declaring a string variable\n",
    "\n",
    "val =\"LinuxHint\"\n",
    "\n",
    "#inserting an assert statement\n",
    "\n",
    "# The condition is false, assert statement will be executed\n",
    "\n",
    "assert val!=\"LinuxHint\", \"The condition is false\""
   ]
  },
  {
   "cell_type": "markdown",
   "metadata": {},
   "source": [
    "## Problem 08"
   ]
  },
  {
   "cell_type": "markdown",
   "metadata": {},
   "source": [
    "Write a program that implements a function linux_interaction() that asserts that the code will be executed on a Linux system."
   ]
  },
  {
   "cell_type": "markdown",
   "metadata": {},
   "source": [
    "Add linux_interaction() in a \"try\" clause, then create an exception handler to handle exceptions on machines not using Linux."
   ]
  },
  {
   "cell_type": "markdown",
   "metadata": {},
   "source": [
    "If there is not exception since the user is using a Linux machine, then use an \"else\" clause to try and open a file that does not exist, and implement an exception handler that will throw FileNotFoundError error and print it."
   ]
  },
  {
   "cell_type": "markdown",
   "metadata": {},
   "source": [
    "Also, implement a \"finally\" clause that prints the same message at the end of the program execution."
   ]
  },
  {
   "cell_type": "markdown",
   "metadata": {},
   "source": [
    "The main idea of this problem is to practice using try, except, else, and finally clauses, thus, feel free to create your own context if want."
   ]
  },
  {
   "cell_type": "code",
   "execution_count": 94,
   "metadata": {},
   "outputs": [
    {
     "name": "stdout",
     "output_type": "stream",
     "text": [
      "function runs only on linux.\n",
      "linux function can't executed\n",
      "Thanks no exception\n"
     ]
    }
   ],
   "source": [
    "import sys\n",
    "def linux_interaction() :\n",
    "    assert( 'linux' in sys. platform), \"function runs only on linux.\"\n",
    "    print (\"do something\")\n",
    "try :\n",
    "    linux_interaction()\n",
    "except AssertionError as err:\n",
    "        print (err)\n",
    "        print (\"linux function can't executed\")\n",
    "else:\n",
    "    try:\n",
    "        with open('file.log')as file:\n",
    "          resd_data = file.read()\n",
    "    except:\n",
    "        print(\"FileNotFoundError error \")\n",
    "finally:\n",
    "        print(\"Thanks no exception\")\n"
   ]
  },
  {
   "cell_type": "markdown",
   "metadata": {},
   "source": [
    "## Problem 09"
   ]
  },
  {
   "cell_type": "markdown",
   "metadata": {},
   "source": [
    "Write a program to read and write DNA and protein sequences."
   ]
  },
  {
   "cell_type": "markdown",
   "metadata": {},
   "source": [
    "You are presented with a file input.txt that contains a number of DNA and protein sequences, one per line."
   ]
  },
  {
   "cell_type": "markdown",
   "metadata": {},
   "source": [
    "You are presented with a file input.txt which contains a number of DNA sequences and protein sequences, one per line. Each sequence starts with the same 14 base pair fragment – a sequencing adapter that should have been removed."
   ]
  },
  {
   "cell_type": "markdown",
   "metadata": {},
   "source": [
    "Write a program that will do the following."
   ]
  },
  {
   "cell_type": "raw",
   "metadata": {},
   "source": [
    "(a) Trim this adapter.\n",
    "(b) Write the cleaned sequences to a new file.\n",
    "(c) Print the length of each sequence to the screen."
   ]
  },
  {
   "cell_type": "code",
   "execution_count": 48,
   "metadata": {},
   "outputs": [
    {
     "name": "stdout",
     "output_type": "stream",
     "text": [
      "TCGATCGATCGATCGATCGATCGATCGATCGATCGATCGATC\n",
      "\n",
      "ACTGATCGATCGATCGATCGATCGATGCTATCGTCGT\n",
      "\n",
      "ATCGATCACGATCTATCGTACGTATGCATATCGATATCGATCGTAGTC\n",
      "\n",
      "ACTATCGATGATCTAGCTACGATCGTAGCTGTA\n",
      "\n",
      "ACTAGCTAGTCTCGATGCATGATCAGCTTAGCTGATGATGCTATGCA\n",
      "\n"
     ]
    }
   ],
   "source": [
    "#a\n",
    "file = open(\"input.txt\")\n",
    "for dna in file:\n",
    "\tlast_character_position = len(dna)\n",
    "\ttrimmed_dna = dna[14:last_character_position]\n",
    "\tprint(trimmed_dna)"
   ]
  },
  {
   "cell_type": "code",
   "execution_count": 49,
   "metadata": {},
   "outputs": [
    {
     "name": "stdout",
     "output_type": "stream",
     "text": [
      "processed sequence with length 43\n",
      "processed sequence with length 38\n",
      "processed sequence with length 49\n",
      "processed sequence with length 34\n",
      "processed sequence with length 48\n"
     ]
    }
   ],
   "source": [
    "#b and c\n",
    "file = open(\"input.txt\")\n",
    "output = open(\"trimmed.txt\", \"w\")\n",
    "for dna in file:\n",
    "\tlast_character_position = len(dna)\n",
    "\ttrimmed_dna = dna[14:last_character_position]\n",
    "\toutput.write(trimmed_dna)\n",
    "\tprint(\"processed sequence with length \" + str(len(trimmed_dna)))\n",
    "file.close()\n",
    "output.close()"
   ]
  },
  {
   "cell_type": "markdown",
   "metadata": {},
   "source": [
    "## Problem 10"
   ]
  },
  {
   "cell_type": "markdown",
   "metadata": {},
   "source": [
    "You are given a dataset \"Automobile_data.csv\""
   ]
  },
  {
   "cell_type": "markdown",
   "metadata": {},
   "source": [
    "Write a program that prints the first and last five rows."
   ]
  },
  {
   "cell_type": "code",
   "execution_count": 51,
   "metadata": {},
   "outputs": [
    {
     "name": "stdout",
     "output_type": "stream",
     "text": [
      "First 5 rows of the DataFrame:\n",
      "   symboling normalized-losses         make fuel-type aspiration num-of-doors  \\\n",
      "0          3                 ?  alfa-romero       gas        std          two   \n",
      "1          3                 ?  alfa-romero       gas        std          two   \n",
      "2          1                 ?  alfa-romero       gas        std          two   \n",
      "3          2               164         audi       gas        std         four   \n",
      "4          2               164         audi       gas        std         four   \n",
      "\n",
      "    body-style drive-wheels engine-location  wheel-base  ...  engine-size  \\\n",
      "0  convertible          rwd           front        88.6  ...          130   \n",
      "1  convertible          rwd           front        88.6  ...          130   \n",
      "2    hatchback          rwd           front        94.5  ...          152   \n",
      "3        sedan          fwd           front        99.8  ...          109   \n",
      "4        sedan          4wd           front        99.4  ...          136   \n",
      "\n",
      "   fuel-system  bore  stroke compression-ratio horsepower  peak-rpm city-mpg  \\\n",
      "0         mpfi  3.47    2.68               9.0        111      5000       21   \n",
      "1         mpfi  3.47    2.68               9.0        111      5000       21   \n",
      "2         mpfi  2.68    3.47               9.0        154      5000       19   \n",
      "3         mpfi  3.19     3.4              10.0        102      5500       24   \n",
      "4         mpfi  3.19     3.4               8.0        115      5500       18   \n",
      "\n",
      "  highway-mpg  price  \n",
      "0          27  13495  \n",
      "1          27  16500  \n",
      "2          26  16500  \n",
      "3          30  13950  \n",
      "4          22  17450  \n",
      "\n",
      "[5 rows x 26 columns]\n",
      "last 5 rows of the DataFrame:\n",
      "     symboling normalized-losses   make fuel-type aspiration num-of-doors  \\\n",
      "200         -1                95  volvo       gas        std         four   \n",
      "201         -1                95  volvo       gas      turbo         four   \n",
      "202         -1                95  volvo       gas        std         four   \n",
      "203         -1                95  volvo    diesel      turbo         four   \n",
      "204         -1                95  volvo       gas      turbo         four   \n",
      "\n",
      "    body-style drive-wheels engine-location  wheel-base  ...  engine-size  \\\n",
      "200      sedan          rwd           front       109.1  ...          141   \n",
      "201      sedan          rwd           front       109.1  ...          141   \n",
      "202      sedan          rwd           front       109.1  ...          173   \n",
      "203      sedan          rwd           front       109.1  ...          145   \n",
      "204      sedan          rwd           front       109.1  ...          141   \n",
      "\n",
      "     fuel-system  bore  stroke compression-ratio horsepower  peak-rpm  \\\n",
      "200         mpfi  3.78    3.15               9.5        114      5400   \n",
      "201         mpfi  3.78    3.15               8.7        160      5300   \n",
      "202         mpfi  3.58    2.87               8.8        134      5500   \n",
      "203          idi  3.01     3.4              23.0        106      4800   \n",
      "204         mpfi  3.78    3.15               9.5        114      5400   \n",
      "\n",
      "    city-mpg highway-mpg  price  \n",
      "200       23          28  16845  \n",
      "201       19          25  19045  \n",
      "202       18          23  21485  \n",
      "203       26          27  22470  \n",
      "204       19          25  22625  \n",
      "\n",
      "[5 rows x 26 columns]\n"
     ]
    }
   ],
   "source": [
    "import pandas as pd\n",
    "df = pd.read_csv('Automobile_data.csv')\n",
    "#Display the first 5 rows\n",
    "result1 = df.head(5)\n",
    "print(\"First 5 rows of the DataFrame:\")\n",
    "print(result1)\n",
    "#Display the last 5 rows\n",
    "result2 = df.tail(5)\n",
    "print(\"last 5 rows of the DataFrame:\")\n",
    "print(result2)\n"
   ]
  },
  {
   "cell_type": "markdown",
   "metadata": {},
   "source": [
    "## Problem 11"
   ]
  },
  {
   "cell_type": "markdown",
   "metadata": {},
   "source": [
    "You are given a dataset \"employee_birthday.csv\""
   ]
  },
  {
   "cell_type": "markdown",
   "metadata": {},
   "source": [
    "Write a program to print column names, then print the name of each employee name, their job, and which month they were born."
   ]
  },
  {
   "cell_type": "markdown",
   "metadata": {},
   "source": [
    "Also, print how many lines were processed from the csv."
   ]
  },
  {
   "cell_type": "markdown",
   "metadata": {},
   "source": [
    "Print the title of each column\n",
    "\n",
    "- Use the data given to build meaningful sentences like the output given in the pdf\n",
    "\n",
    "- Print how many lines you processed, aka rows"
   ]
  },
  {
   "cell_type": "code",
   "execution_count": 87,
   "metadata": {},
   "outputs": [
    {
     "name": "stdout",
     "output_type": "stream",
     "text": [
      "name working in the department and was born in  birthday month\n",
      "John Smith working in the Accounting and was born in  November\n",
      "Erica Meyers working in the IT and was born in  March\n",
      "Number of lines from csv: 0\n"
     ]
    }
   ],
   "source": [
    "# Import pandas package\n",
    "import csv\n",
    "\t\n",
    "# making data frame\n",
    "file=open(\"employee_birthday.csv\",'r')\n",
    "data = csv.reader(file)\n",
    "\n",
    "\n",
    "for line in data:\n",
    "\tprint(line[0],\"working in the\", line[1],\"and was born in \",line[2])\n",
    "    \n",
    "print(\"Number of lines from csv:\" ,len(lines))\n"
   ]
  },
  {
   "cell_type": "code",
   "execution_count": 59,
   "metadata": {},
   "outputs": [
    {
     "name": "stdout",
     "output_type": "stream",
     "text": [
      "           name  department birthday month\n",
      "0    John Smith  Accounting       November\n",
      "1  Erica Meyers          IT          March\n"
     ]
    }
   ],
   "source": [
    "import pandas as pd\n",
    "data = pd.read_csv('employee_birthday.csv')\n",
    "data.head() \n",
    "print(data)"
   ]
  },
  {
   "cell_type": "code",
   "execution_count": 63,
   "metadata": {},
   "outputs": [
    {
     "name": "stdout",
     "output_type": "stream",
     "text": [
      "3\n"
     ]
    }
   ],
   "source": [
    " #  csv.reader\n",
    "row_count = sum(1 for row in data)\n",
    "print(row_count)"
   ]
  },
  {
   "cell_type": "markdown",
   "metadata": {},
   "source": [
    "## Problem 12"
   ]
  },
  {
   "cell_type": "markdown",
   "metadata": {},
   "source": [
    "Based on problem no. 11 instead of reading data and processing it, this time you are tasked to use the data you found in the csv file to create a dictionary and write its data to a csv file."
   ]
  },
  {
   "cell_type": "markdown",
   "metadata": {},
   "source": [
    "Write a program that implements a dictionary then write the dictionary keys and values to a csv file called \"employee_file2.csv\" so that your file matches the given file of problem no. 11"
   ]
  },
  {
   "cell_type": "code",
   "execution_count": 103,
   "metadata": {},
   "outputs": [
    {
     "name": "stdout",
     "output_type": "stream",
     "text": [
      "{'name': 'John Smith', 'department': 'Accounting', 'birthday month': 'November'}\n",
      "{'name': 'Erica Meyers', 'department': 'IT', 'birthday month': ' March'}\n"
     ]
    }
   ],
   "source": [
    "import csv \n",
    "    \n",
    "# field names \n",
    "fields = ['name', 'department', 'birthday month'] \n",
    "    \n",
    "# data rows of csv file \n",
    "rows = [ ['John Smith', 'Accounting', 'November'], \n",
    "         ['Erica Meyers', 'IT', ' March']] \n",
    "    \n",
    "# name of csv file \n",
    "filename = \"employee_file2.csv\"\n",
    "    \n",
    "# writing to csv file \n",
    "with open(filename, 'w') as csvfile: \n",
    "    # creating a csv writer object \n",
    "    csvwriter = csv.writer(csvfile) \n",
    "        \n",
    "    # writing the fields \n",
    "    csvwriter.writerow(fields) \n",
    "        \n",
    "    # writing the data rows \n",
    "    csvwriter.writerows(rows)\n",
    "\n",
    "import csv\n",
    "\n",
    "with open('employee_file2.csv','r')as f:\n",
    "    data = csv.DictReader(f)\n",
    "    for row in data:\n",
    "        print(row)   \n",
    "        \n",
    "        \n",
    "    "
   ]
  },
  {
   "cell_type": "markdown",
   "metadata": {},
   "source": [
    "Create a dictionary and pass data similar to that of no. 11\n",
    "\n",
    "Then save this dictionary to a csv, so that your new csv is identical to that of no. 11\n"
   ]
  },
  {
   "cell_type": "code",
   "execution_count": null,
   "metadata": {},
   "outputs": [],
   "source": []
  }
 ],
 "metadata": {
  "kernelspec": {
   "display_name": "Python 3",
   "language": "python",
   "name": "python3"
  },
  "language_info": {
   "codemirror_mode": {
    "name": "ipython",
    "version": 3
   },
   "file_extension": ".py",
   "mimetype": "text/x-python",
   "name": "python",
   "nbconvert_exporter": "python",
   "pygments_lexer": "ipython3",
   "version": "3.8.5"
  }
 },
 "nbformat": 4,
 "nbformat_minor": 4
}
