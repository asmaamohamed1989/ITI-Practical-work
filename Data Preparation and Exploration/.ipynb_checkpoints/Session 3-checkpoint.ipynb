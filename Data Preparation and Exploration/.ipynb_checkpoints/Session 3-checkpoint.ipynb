{
 "cells": [
  {
   "cell_type": "code",
   "execution_count": 1,
   "id": "multiple-swift",
   "metadata": {},
   "outputs": [
    {
     "name": "stdout",
     "output_type": "stream",
     "text": [
      "test({\"coord\":{\"lon\":-0.1257,\"lat\":51.5085},\"weather\":[{\"id\":802,\"main\":\"Clouds\",\"description\":\"scattered clouds\",\"icon\":\"03n\"}],\"base\":\"stations\",\"main\":{\"temp\":278.04,\"feels_like\":276.92,\"temp_min\":276.48,\"temp_max\":279.15,\"pressure\":1019,\"humidity\":87},\"visibility\":7000,\"wind\":{\"speed\":1.54,\"deg\":70},\"clouds\":{\"all\":50},\"dt\":1618889850,\"sys\":{\"type\":1,\"id\":1414,\"country\":\"GB\",\"sunrise\":1618894425,\"sunset\":1618945477},\"timezone\":3600,\"id\":2643743,\"name\":\"London\",\"cod\":200})\n"
     ]
    }
   ],
   "source": [
    "import requests\n",
    "\n",
    "url = \"https://community-open-weather-map.p.rapidapi.com/weather\"\n",
    "\n",
    "querystring = {\"q\":\"London,uk\",\"lat\":\"0\",\"lon\":\"0\",\"callback\":\"test\",\"id\":\"2172797\",\"lang\":\"null\",\"units\":\"\\\"metric\\\" or \\\"imperial\\\"\",\"mode\":\"xml, html\"}\n",
    "\n",
    "headers = {\n",
    "    'x-rapidapi-key': \"5a8271234amshf8eb5cbf101588ap12ad8ajsn4e0f53a152e2\",\n",
    "    'x-rapidapi-host': \"community-open-weather-map.p.rapidapi.com\"\n",
    "    }\n",
    "\n",
    "response = requests.request(\"GET\", url, headers=headers, params=querystring)\n",
    "\n",
    "print(response.text)"
   ]
  },
  {
   "cell_type": "code",
   "execution_count": 2,
   "id": "equal-final",
   "metadata": {},
   "outputs": [
    {
     "name": "stdout",
     "output_type": "stream",
     "text": [
      "{\"status\": \"success\",\"phone\": \"+4915123577723\",\"phone_valid\": true,\"phone_type\": \"mobile\",\"phone_region\": \"Germany\",\"country\": \"Germany\",\"country_code\": \"DE\",\"country_prefix\": \"49\",\"international_number\": \"+49 1512 3577723\",\"local_number\": \"01512 3577723\",\"e164\": \"+4915123577723\",\"carrier\": \"T-Mobile\"}\n",
      "\n"
     ]
    }
   ],
   "source": [
    "import requests\n",
    "\n",
    "url = \"https://veriphone.p.rapidapi.com/verify\"\n",
    "\n",
    "querystring = {\"phone\":\"+4915123577723\"}\n",
    "\n",
    "headers = {\n",
    "    'x-rapidapi-key': \"5a8271234amshf8eb5cbf101588ap12ad8ajsn4e0f53a152e2\",\n",
    "    'x-rapidapi-host': \"veriphone.p.rapidapi.com\"\n",
    "    }\n",
    "\n",
    "response = requests.request(\"GET\", url, headers=headers, params=querystring)\n",
    "\n",
    "print(response.text)"
   ]
  },
  {
   "cell_type": "code",
   "execution_count": 3,
   "id": "obvious-yacht",
   "metadata": {},
   "outputs": [
    {
     "name": "stdout",
     "output_type": "stream",
     "text": [
      "{\"status\": \"success\",\"phone_type\": \"MOBILE\",\"country_code\": \"GB\",\"country_prefix\": \"44\",\"international_number\": \"+44 7400 123456\",\"local_number\": \"07400 123456\",\"e164\": \"+447400123456\"}\n",
      "\n"
     ]
    }
   ],
   "source": [
    "import requests\n",
    "\n",
    "url = \"https://veriphone.p.rapidapi.com/example\"\n",
    "\n",
    "querystring = {\"country_code\":\"GB\",\"type\":\"mobile\"}\n",
    "\n",
    "headers = {\n",
    "    'x-rapidapi-key': \"5a8271234amshf8eb5cbf101588ap12ad8ajsn4e0f53a152e2\",\n",
    "    'x-rapidapi-host': \"veriphone.p.rapidapi.com\"\n",
    "    }\n",
    "\n",
    "response = requests.request(\"GET\", url, headers=headers, params=querystring)\n",
    "\n",
    "print(response.text)"
   ]
  },
  {
   "cell_type": "code",
   "execution_count": null,
   "id": "blocked-accounting",
   "metadata": {},
   "outputs": [],
   "source": []
  }
 ],
 "metadata": {
  "kernelspec": {
   "display_name": "Python 3",
   "language": "python",
   "name": "python3"
  },
  "language_info": {
   "codemirror_mode": {
    "name": "ipython",
    "version": 3
   },
   "file_extension": ".py",
   "mimetype": "text/x-python",
   "name": "python",
   "nbconvert_exporter": "python",
   "pygments_lexer": "ipython3",
   "version": "3.8.5"
  }
 },
 "nbformat": 4,
 "nbformat_minor": 5
}
