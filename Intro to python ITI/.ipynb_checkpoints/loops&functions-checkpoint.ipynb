{
 "cells": [
  {
   "cell_type": "code",
   "execution_count": null,
   "metadata": {},
   "outputs": [],
   "source": [
    "project to"
   ]
  },
  {
   "cell_type": "code",
   "execution_count": 4,
   "metadata": {},
   "outputs": [
    {
     "name": "stdout",
     "output_type": "stream",
     "text": [
      "please input your name: abdallah\n",
      "please input your ID: 1\n",
      "please input your password: 111\n",
      "welcome abdallah to salary system\n",
      " \n",
      "please input your total working hour : 35\n",
      "your salary = 7000\n",
      "do you need check again: no\n",
      "goodbye\n"
     ]
    }
   ],
   "source": [
    "\n",
    "def login():\n",
    "    user_name = (input(\"please input your name: \"))\n",
    "    user_id = (input(\"please input your ID: \"))\n",
    "    user_pass = (input(\"please input your password: \"))\n",
    "    users(user_id,user_pass,user_name)    \n",
    "\n",
    "def check():\n",
    "    check = (input(\"do you need check again: \"))\n",
    "    if check == \"yes\":\n",
    "        login()\n",
    "    else:\n",
    "        print(\"goodbye\")\n",
    "\n",
    "def welcome(x):\n",
    "    print(\"welcome \"+x+ \" to salary system\\n \")\n",
    "     \n",
    "\n",
    "    \n",
    "def user_1():\n",
    "    x_in =int(input(\"please input your total working hour : \"))\n",
    "    total_hour_basic = 35 # 7 hous 5 days\n",
    "    hour_salary = 200\n",
    "    total_basic_salary = x_in * hour_salary\n",
    "    if x_in<=total_hour_basic:       \n",
    "        return (total_basic_salary)\n",
    "    elif x_in>total_hour_basic:\n",
    "        offer = x_in % total_hour_basic\n",
    "        total = total_basic_salary +(offer * 70)\n",
    "        return int(total)\n",
    "        \n",
    "def user_2():\n",
    "    x_in =int(input(\"please input your total working hour : \"))\n",
    "    total_hour_basic = 35 # 7 hous 5 days\n",
    "    hour_salary = 150\n",
    "    total_basic_salary = x_in * hour_salary\n",
    "    \n",
    "    while x_in<=total_hour_basic: \n",
    "        return (total_basic_salary)\n",
    "\n",
    "    if x_in>total_hour_basic:\n",
    "        offer = x_in % total_hour_basic\n",
    "        total = total_basic_salary +(offer * 50)\n",
    "        return int(total)\n",
    " \n",
    "def user_3():\n",
    "    x_in =int(input(\"please input your total working hour : \"))\n",
    "    total_hour_basic = 35 # 7 hous 5 days\n",
    "    hour_salary = 150\n",
    "    total_basic_salary = x_in * hour_salary\n",
    "    if x_in<=total_hour_basic:       \n",
    "        return (total_basic_salary)\n",
    "    elif x_in>total_hour_basic:\n",
    "        offer = x_in % total_hour_basic\n",
    "        total = total_basic_salary +(offer * 50)\n",
    "        return int(total)\n",
    "    \n",
    "def users(user_id,user_pass,user_name):\n",
    "    \n",
    "    ID = [\"1\",\"2\",\"3\"]\n",
    "    password = [\"111\",\"222\",\"333\"]\n",
    "    \n",
    "    if (user_id =='1') & (user_pass == '111'):\n",
    "        welcome(user_name)\n",
    "        x=user_1()\n",
    "        print(\"your salary = \"+str(x))\n",
    "        check()\n",
    "           \n",
    "    elif (user_id == '2') & (user_pass == '222'):\n",
    "        welcome(user_name) \n",
    "        x=user_2()\n",
    "        print(\"your salary = \"+str(x))\n",
    "        check()\n",
    "            \n",
    "        \n",
    "    elif (user_id == '3') & (user_pass == '333'):\n",
    "        welcome(user_name)\n",
    "        x=user_3()\n",
    "        print(\"your salary = \"+str(x))\n",
    "        check()\n",
    "                    \n",
    "    else:  \n",
    "        print(\"Faild to login\\n\")\n",
    "        login()    \n",
    "\n",
    "    \n",
    "\n",
    "login() #main function  \n",
    "\n",
    "        \n",
    "\n",
    "\n"
   ]
  },
  {
   "cell_type": "code",
   "execution_count": null,
   "metadata": {},
   "outputs": [],
   "source": []
  },
  {
   "cell_type": "code",
   "execution_count": null,
   "metadata": {},
   "outputs": [],
   "source": []
  },
  {
   "cell_type": "code",
   "execution_count": null,
   "metadata": {},
   "outputs": [],
   "source": []
  },
  {
   "cell_type": "code",
   "execution_count": null,
   "metadata": {},
   "outputs": [],
   "source": []
  },
  {
   "cell_type": "code",
   "execution_count": 5,
   "metadata": {},
   "outputs": [
    {
     "name": "stdout",
     "output_type": "stream",
     "text": [
      "The factorial of  3 is  6\n"
     ]
    }
   ],
   "source": [
    "def factorial(x):\n",
    "\n",
    "    if x == 1:\n",
    "        return 1\n",
    "    else:\n",
    "        return (x * factorial(x-1))\n",
    "\n",
    "\n",
    "num = 3\n",
    "print(\"The factorial of \", num, \"is \", factorial(num))"
   ]
  },
  {
   "cell_type": "code",
   "execution_count": null,
   "metadata": {},
   "outputs": [],
   "source": []
  },
  {
   "cell_type": "code",
   "execution_count": null,
   "metadata": {},
   "outputs": [],
   "source": []
  },
  {
   "cell_type": "code",
   "execution_count": null,
   "metadata": {},
   "outputs": [],
   "source": []
  },
  {
   "cell_type": "code",
   "execution_count": null,
   "metadata": {},
   "outputs": [],
   "source": []
  },
  {
   "cell_type": "code",
   "execution_count": null,
   "metadata": {},
   "outputs": [],
   "source": []
  },
  {
   "cell_type": "code",
   "execution_count": null,
   "metadata": {},
   "outputs": [],
   "source": []
  },
  {
   "cell_type": "code",
   "execution_count": null,
   "metadata": {},
   "outputs": [],
   "source": []
  },
  {
   "cell_type": "code",
   "execution_count": null,
   "metadata": {},
   "outputs": [],
   "source": []
  },
  {
   "cell_type": "code",
   "execution_count": null,
   "metadata": {},
   "outputs": [],
   "source": []
  },
  {
   "cell_type": "code",
   "execution_count": null,
   "metadata": {},
   "outputs": [],
   "source": []
  },
  {
   "cell_type": "code",
   "execution_count": null,
   "metadata": {},
   "outputs": [],
   "source": []
  },
  {
   "cell_type": "code",
   "execution_count": null,
   "metadata": {},
   "outputs": [],
   "source": []
  },
  {
   "cell_type": "code",
   "execution_count": null,
   "metadata": {},
   "outputs": [],
   "source": []
  },
  {
   "cell_type": "code",
   "execution_count": null,
   "metadata": {},
   "outputs": [],
   "source": []
  },
  {
   "cell_type": "code",
   "execution_count": null,
   "metadata": {},
   "outputs": [],
   "source": []
  },
  {
   "cell_type": "code",
   "execution_count": null,
   "metadata": {},
   "outputs": [],
   "source": []
  },
  {
   "cell_type": "code",
   "execution_count": null,
   "metadata": {},
   "outputs": [],
   "source": []
  },
  {
   "cell_type": "code",
   "execution_count": null,
   "metadata": {},
   "outputs": [],
   "source": []
  },
  {
   "cell_type": "code",
   "execution_count": 5,
   "metadata": {},
   "outputs": [
    {
     "data": {
      "text/plain": [
       "4"
      ]
     },
     "execution_count": 5,
     "metadata": {},
     "output_type": "execute_result"
    }
   ],
   "source": [
    "def printx():\n",
    "    "
   ]
  },
  {
   "cell_type": "code",
   "execution_count": null,
   "metadata": {},
   "outputs": [],
   "source": []
  }
 ],
 "metadata": {
  "kernelspec": {
   "display_name": "Python 3",
   "language": "python",
   "name": "python3"
  },
  "language_info": {
   "codemirror_mode": {
    "name": "ipython",
    "version": 3
   },
   "file_extension": ".py",
   "mimetype": "text/x-python",
   "name": "python",
   "nbconvert_exporter": "python",
   "pygments_lexer": "ipython3",
   "version": "3.8.5"
  }
 },
 "nbformat": 4,
 "nbformat_minor": 2
}
