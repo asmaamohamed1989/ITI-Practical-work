{
 "cells": [
  {
   "cell_type": "code",
   "execution_count": 47,
   "metadata": {},
   "outputs": [],
   "source": [
    "import pandas as pd\n",
    "import numpy as np"
   ]
  },
  {
   "cell_type": "code",
   "execution_count": 42,
   "metadata": {},
   "outputs": [],
   "source": [
    "names= ('ahmed', 'mohammed', 'mostafa', None)\n",
    "students = ['student_1', 'student_2', 'student_3', 'student_4']\n",
    "Books = {'science':['ram',1], 'math':'goel', 'automate':'kracs'}"
   ]
  },
  {
   "cell_type": "code",
   "execution_count": 43,
   "metadata": {},
   "outputs": [
    {
     "data": {
      "text/plain": [
       "student_1       ahmed\n",
       "student_2    mohammed\n",
       "student_3     mostafa\n",
       "student_4        None\n",
       "dtype: object"
      ]
     },
     "execution_count": 43,
     "metadata": {},
     "output_type": "execute_result"
    }
   ],
   "source": [
    "series_1 = pd.Series(names, students)\n",
    "series_1"
   ]
  },
  {
   "cell_type": "code",
   "execution_count": 44,
   "metadata": {},
   "outputs": [
    {
     "data": {
      "text/plain": [
       "science     [ram, 1]\n",
       "math            goel\n",
       "automate       kracs\n",
       "dtype: object"
      ]
     },
     "execution_count": 44,
     "metadata": {},
     "output_type": "execute_result"
    }
   ],
   "source": [
    "series_2 = pd.Series(Books)\n",
    "series_2"
   ]
  },
  {
   "cell_type": "code",
   "execution_count": 45,
   "metadata": {},
   "outputs": [
    {
     "data": {
      "text/plain": [
       "Index(['student_1', 'student_2', 'student_3', 'student_4'], dtype='object')"
      ]
     },
     "execution_count": 45,
     "metadata": {},
     "output_type": "execute_result"
    }
   ],
   "source": [
    "series_1.index"
   ]
  },
  {
   "cell_type": "code",
   "execution_count": 46,
   "metadata": {},
   "outputs": [
    {
     "data": {
      "text/plain": [
       "Index(['science', 'math', 'automate'], dtype='object')"
      ]
     },
     "execution_count": 46,
     "metadata": {},
     "output_type": "execute_result"
    }
   ],
   "source": [
    "series_2.index"
   ]
  },
  {
   "cell_type": "markdown",
   "metadata": {},
   "source": [
    "# Start of the Presentation"
   ]
  },
  {
   "cell_type": "code",
   "execution_count": 251,
   "metadata": {},
   "outputs": [
    {
     "name": "stdout",
     "output_type": "stream",
     "text": [
      "['Programming language', ' Designed by', ' Appeared', ' Extension']\n",
      "['Python', 'Guido van Rossum', ' 1991', ' .py']\n",
      "['Java', 'James Gosling', ' 1995', '.java']\n",
      "['C++', 'Bjarne Stroustrup', '1983', '.cpp']\n"
     ]
    }
   ],
   "source": [
    "import csv\n",
    "\n",
    "file_csv_1 = open('Example.csv','r')\n",
    "out = csv.reader(file_csv_1)\n",
    "for line in out:\n",
    "    print(line)"
   ]
  },
  {
   "cell_type": "code",
   "execution_count": 253,
   "metadata": {},
   "outputs": [
    {
     "name": "stdout",
     "output_type": "stream",
     "text": [
      "{'Programming language': 'Python', ' Designed by': 'Guido van Rossum', ' Appeared': ' 1991', ' Extension': ' .py'}\n",
      "{'Programming language': 'Java', ' Designed by': 'James Gosling', ' Appeared': ' 1995', ' Extension': '.java'}\n",
      "{'Programming language': 'C++', ' Designed by': 'Bjarne Stroustrup', ' Appeared': '1983', ' Extension': '.cpp'}\n"
     ]
    }
   ],
   "source": [
    "import csv\n",
    "\n",
    "with open('Example.csv','r')as f:\n",
    "    data = csv.DictReader(f)\n",
    "    for row in data:\n",
    "        print(row)"
   ]
  },
  {
   "cell_type": "code",
   "execution_count": 256,
   "metadata": {},
   "outputs": [
    {
     "name": "stdout",
     "output_type": "stream",
     "text": [
      "{'Name': 'Nikhil', 'Branch': 'COE', 'Year': '2', 'CGPA': '9.0'}\n",
      "{'Name': 'Sanchit', 'Branch': 'COE', 'Year': '2', 'CGPA': '9.1'}\n",
      "{'Name': 'Aditya', 'Branch': 'IT', 'Year': '2', 'CGPA': '9.3'}\n",
      "{'Name': 'Sagar', 'Branch': 'SE', 'Year': '1', 'CGPA': '9.5'}\n",
      "{'Name': 'Prateek', 'Branch': 'MCE', 'Year': '3', 'CGPA': '7.8'}\n",
      "{'Name': 'Sahil', 'Branch': 'EP', 'Year': '2', 'CGPA': '9.1'}\n"
     ]
    }
   ],
   "source": [
    "import csv \n",
    "    \n",
    "# field names \n",
    "fields = ['Name', 'Branch', 'Year', 'CGPA'] \n",
    "    \n",
    "# data rows of csv file \n",
    "rows = [ ['Nikhil', 'COE', '2', '9.0'], \n",
    "         ['Sanchit', 'COE', '2', '9.1'], \n",
    "         ['Aditya', 'IT', '2', '9.3'], \n",
    "         ['Sagar', 'SE', '1', '9.5'], \n",
    "         ['Prateek', 'MCE', '3', '7.8'], \n",
    "         ['Sahil', 'EP', '2', '9.1']] \n",
    "    \n",
    "# name of csv file \n",
    "filename = \"university_records.csv\"\n",
    "    \n",
    "# writing to csv file \n",
    "with open(filename, 'w') as csvfile: \n",
    "    # creating a csv writer object \n",
    "    csvwriter = csv.writer(csvfile) \n",
    "        \n",
    "    # writing the fields \n",
    "    csvwriter.writerow(fields) \n",
    "        \n",
    "    # writing the data rows \n",
    "    csvwriter.writerows(rows)\n",
    "\n",
    "import csv\n",
    "\n",
    "with open('university_records.csv','r')as f:\n",
    "    data = csv.DictReader(f)\n",
    "    for row in data:\n",
    "        print(row)"
   ]
  },
  {
   "cell_type": "code",
   "execution_count": 87,
   "metadata": {},
   "outputs": [
    {
     "name": "stdout",
     "output_type": "stream",
     "text": [
      "Series([], dtype: float64)\n"
     ]
    },
    {
     "name": "stderr",
     "output_type": "stream",
     "text": [
      "<ipython-input-87-d08149822242>:3: DeprecationWarning: The default dtype for empty Series will be 'object' instead of 'float64' in a future version. Specify a dtype explicitly to silence this warning.\n",
      "  s = pd.Series()\n"
     ]
    }
   ],
   "source": [
    "#import the pandas library and aliasing as pd\n",
    "import pandas as pd\n",
    "s = pd.Series()\n",
    "print (s)"
   ]
  },
  {
   "cell_type": "code",
   "execution_count": 265,
   "metadata": {},
   "outputs": [
    {
     "name": "stdout",
     "output_type": "stream",
     "text": [
      "0        a\n",
      "1        b\n",
      "2    ahmed\n",
      "3     25.5\n",
      "dtype: object\n",
      "4\n",
      "<class 'numpy.ndarray'>\n"
     ]
    },
    {
     "data": {
      "text/plain": [
       "pandas.core.series.Series"
      ]
     },
     "execution_count": 265,
     "metadata": {},
     "output_type": "execute_result"
    }
   ],
   "source": [
    "#import the pandas library and aliasing as pd\n",
    "import pandas as pd\n",
    "import numpy as np\n",
    "data = np.array(['a','b',\"ahmed\",25.5])\n",
    "s = pd.Series(data)\n",
    "print (s)\n",
    "print(len(data))\n",
    "print(type(data))\n",
    "type(s)"
   ]
  },
  {
   "cell_type": "code",
   "execution_count": 110,
   "metadata": {},
   "outputs": [
    {
     "name": "stdout",
     "output_type": "stream",
     "text": [
      "100    a\n",
      "101    b\n",
      "102    c\n",
      "103    d\n",
      "dtype: object\n"
     ]
    }
   ],
   "source": [
    "#import the pandas library and aliasing as pd\n",
    "import pandas as pd\n",
    "import numpy as np\n",
    "data = np.array(['a','b','c','d'])\n",
    "s = pd.Series(data,index=[100,101,102,103])\n",
    "print (s)"
   ]
  },
  {
   "cell_type": "code",
   "execution_count": 282,
   "metadata": {},
   "outputs": [
    {
     "name": "stdout",
     "output_type": "stream",
     "text": [
      "[ 2.4  5.   6.6 10. ]\n"
     ]
    }
   ],
   "source": [
    "list_1 = [1.2,2.5,3.3,5]\n",
    "import numpy as np\n",
    "array = np.array(list_1)\n",
    "#for i in array:\n",
    "#    print(i*2)\n",
    "print(array*2)"
   ]
  },
  {
   "cell_type": "code",
   "execution_count": 97,
   "metadata": {},
   "outputs": [
    {
     "name": "stdout",
     "output_type": "stream",
     "text": [
      "a    0.0\n",
      "b    1.0\n",
      "c    2.0\n",
      "dtype: float64\n"
     ]
    }
   ],
   "source": [
    "#import the pandas library and aliasing as pd\n",
    "import pandas as pd\n",
    "import numpy as np\n",
    "data = {'a' : 0., 'b' : 1., 'c' : 2.}\n",
    "s = pd.Series(data)\n",
    "print (s)"
   ]
  },
  {
   "cell_type": "code",
   "execution_count": 103,
   "metadata": {},
   "outputs": [
    {
     "name": "stdout",
     "output_type": "stream",
     "text": [
      "1\n"
     ]
    }
   ],
   "source": [
    "import pandas as pd\n",
    "s = pd.Series([1,2,3,4,5],index = ['a','b','c','d','e'])\n",
    "\n",
    "#retrieve the first element\n",
    "print (s[0])"
   ]
  },
  {
   "cell_type": "code",
   "execution_count": 121,
   "metadata": {},
   "outputs": [
    {
     "name": "stdout",
     "output_type": "stream",
     "text": [
      "1\n"
     ]
    }
   ],
   "source": [
    "import pandas as pd\n",
    "s = pd.Series([1,2,3,4,5],index = ['a','b','c','d','e'])\n",
    "\n",
    "#retrieve a single element\n",
    "print (s['a'])"
   ]
  },
  {
   "cell_type": "code",
   "execution_count": 115,
   "metadata": {},
   "outputs": [
    {
     "name": "stdout",
     "output_type": "stream",
     "text": [
      "1\n"
     ]
    }
   ],
   "source": [
    "import pandas as pd\n",
    "s = pd.Series([1,2,3,4,5],index = ['a','b','c','d','e'])\n",
    "\n",
    "#retrieve the first three element\n",
    "print (s[:3])"
   ]
  },
  {
   "cell_type": "code",
   "execution_count": 107,
   "metadata": {},
   "outputs": [
    {
     "name": "stdout",
     "output_type": "stream",
     "text": [
      "c    3\n",
      "d    4\n",
      "e    5\n",
      "dtype: int64\n"
     ]
    }
   ],
   "source": [
    "import pandas as pd\n",
    "s = pd.Series([1,2,3,4,5],index = ['a','b','c','d','e'])\n",
    "\n",
    "#retrieve the first three element\n",
    "print (s[-3:])"
   ]
  },
  {
   "cell_type": "code",
   "execution_count": 116,
   "metadata": {},
   "outputs": [
    {
     "name": "stdout",
     "output_type": "stream",
     "text": [
      "a    1\n",
      "c    3\n",
      "d    4\n",
      "dtype: int64\n"
     ]
    }
   ],
   "source": [
    "import pandas as pd\n",
    "s = pd.Series([1,2,3,4,5],index = ['a','b','c','d','e'])\n",
    "\n",
    "#retrieve multiple elements\n",
    "print (s[['a','c','d']])"
   ]
  },
  {
   "cell_type": "code",
   "execution_count": 122,
   "metadata": {},
   "outputs": [
    {
     "name": "stdout",
     "output_type": "stream",
     "text": [
      "0    8\n",
      "1    8\n",
      "2    8\n",
      "3    8\n",
      "dtype: int64\n"
     ]
    }
   ],
   "source": [
    "#import the pandas library and aliasing as pd\n",
    "import pandas as pd\n",
    "import numpy as np\n",
    "s = pd.Series(8, index=[0, 1, 2, 3])\n",
    "print (s)"
   ]
  },
  {
   "cell_type": "code",
   "execution_count": 123,
   "metadata": {},
   "outputs": [
    {
     "name": "stdout",
     "output_type": "stream",
     "text": [
      "Empty DataFrame\n",
      "Columns: []\n",
      "Index: []\n"
     ]
    }
   ],
   "source": [
    "#import the pandas library and aliasing as pd\n",
    "import pandas as pd\n",
    "df = pd.DataFrame()\n",
    "print (df)"
   ]
  },
  {
   "cell_type": "code",
   "execution_count": 124,
   "metadata": {},
   "outputs": [
    {
     "name": "stdout",
     "output_type": "stream",
     "text": [
      "   0\n",
      "0  1\n",
      "1  2\n",
      "2  3\n",
      "3  4\n",
      "4  5\n"
     ]
    }
   ],
   "source": [
    "import pandas as pd\n",
    "data = [1,2,3,4,5]\n",
    "df = pd.DataFrame(data)\n",
    "print (df)"
   ]
  },
  {
   "cell_type": "code",
   "execution_count": 125,
   "metadata": {},
   "outputs": [
    {
     "name": "stdout",
     "output_type": "stream",
     "text": [
      "     Name  Age\n",
      "0    Alex   10\n",
      "1     Bob   12\n",
      "2  Clarke   13\n"
     ]
    }
   ],
   "source": [
    "import pandas as pd\n",
    "data = [['Alex',10],['Bob',12],['Clarke',13]]\n",
    "df = pd.DataFrame(data,columns=['Name','Age'])\n",
    "print (df)"
   ]
  },
  {
   "cell_type": "code",
   "execution_count": 127,
   "metadata": {},
   "outputs": [
    {
     "name": "stdout",
     "output_type": "stream",
     "text": [
      "    Name  Age\n",
      "0    Tom   28\n",
      "1   Jack   34\n",
      "2  Steve   29\n",
      "3  Ricky   42\n"
     ]
    }
   ],
   "source": [
    "import pandas as pd\n",
    "data = {'Name':['Tom', 'Jack', 'Steve', 'Ricky'],'Age':[28,34,29,42]}\n",
    "df = pd.DataFrame(data)\n",
    "print (df)"
   ]
  },
  {
   "cell_type": "code",
   "execution_count": 128,
   "metadata": {},
   "outputs": [
    {
     "name": "stdout",
     "output_type": "stream",
     "text": [
      "        Name  Age\n",
      "rank1    Tom   28\n",
      "rank2   Jack   34\n",
      "rank3  Steve   29\n",
      "rank4  Ricky   42\n"
     ]
    }
   ],
   "source": [
    "import pandas as pd\n",
    "data = {'Name':['Tom', 'Jack', 'Steve', 'Ricky'],'Age':[28,34,29,42]}\n",
    "df = pd.DataFrame(data, index=['rank1','rank2','rank3','rank4'])\n",
    "print (df)"
   ]
  },
  {
   "cell_type": "code",
   "execution_count": 129,
   "metadata": {},
   "outputs": [
    {
     "name": "stdout",
     "output_type": "stream",
     "text": [
      "   a   b     c\n",
      "0  1   2   NaN\n",
      "1  5  10  20.0\n"
     ]
    }
   ],
   "source": [
    "import pandas as pd\n",
    "data = [{'a': 1, 'b': 2},{'a': 5, 'b': 10, 'c': 20}]\n",
    "df = pd.DataFrame(data)\n",
    "print (df)"
   ]
  },
  {
   "cell_type": "code",
   "execution_count": 130,
   "metadata": {},
   "outputs": [
    {
     "name": "stdout",
     "output_type": "stream",
     "text": [
      "        a   b     c\n",
      "first   1   2   NaN\n",
      "second  5  10  20.0\n"
     ]
    }
   ],
   "source": [
    "import pandas as pd\n",
    "data = [{'a': 1, 'b': 2},{'a': 5, 'b': 10, 'c': 20}]\n",
    "df = pd.DataFrame(data, index=['first', 'second'])\n",
    "print (df)"
   ]
  },
  {
   "cell_type": "code",
   "execution_count": 131,
   "metadata": {},
   "outputs": [
    {
     "name": "stdout",
     "output_type": "stream",
     "text": [
      "        a   b\n",
      "first   1   2\n",
      "second  5  10\n",
      "        a  b1\n",
      "first   1 NaN\n",
      "second  5 NaN\n"
     ]
    }
   ],
   "source": [
    "import pandas as pd\n",
    "data = [{'a': 1, 'b': 2},{'a': 5, 'b': 10, 'c': 20}]\n",
    "\n",
    "#With two column indices, values same as dictionary keys\n",
    "df1 = pd.DataFrame(data, index=['first', 'second'], columns=['a', 'b'])\n",
    "\n",
    "#With two column indices with one index with other name\n",
    "df2 = pd.DataFrame(data, index=['first', 'second'], columns=['a', 'b1'])\n",
    "print (df1)\n",
    "print (df2)"
   ]
  },
  {
   "cell_type": "code",
   "execution_count": 132,
   "metadata": {},
   "outputs": [
    {
     "name": "stdout",
     "output_type": "stream",
     "text": [
      "   one  two\n",
      "a  1.0    1\n",
      "b  2.0    2\n",
      "c  3.0    3\n",
      "d  NaN    4\n"
     ]
    }
   ],
   "source": [
    "import pandas as pd\n",
    "\n",
    "d = {'one' : pd.Series([1, 2, 3], index=['a', 'b', 'c']),\n",
    "   'two' : pd.Series([1, 2, 3, 4], index=['a', 'b', 'c', 'd'])}\n",
    "\n",
    "df = pd.DataFrame(d)\n",
    "print (df)"
   ]
  },
  {
   "cell_type": "code",
   "execution_count": 133,
   "metadata": {},
   "outputs": [
    {
     "name": "stdout",
     "output_type": "stream",
     "text": [
      "a    1.0\n",
      "b    2.0\n",
      "c    3.0\n",
      "d    NaN\n",
      "Name: one, dtype: float64\n"
     ]
    }
   ],
   "source": [
    "import pandas as pd\n",
    "\n",
    "d = {'one' : pd.Series([1, 2, 3], index=['a', 'b', 'c']),\n",
    "   'two' : pd.Series([1, 2, 3, 4], index=['a', 'b', 'c', 'd'])}\n",
    "\n",
    "df = pd.DataFrame(d)\n",
    "print (df ['one'])"
   ]
  },
  {
   "cell_type": "code",
   "execution_count": 134,
   "metadata": {},
   "outputs": [
    {
     "name": "stdout",
     "output_type": "stream",
     "text": [
      "Adding a new column by passing as Series:\n",
      "   one  two  three\n",
      "a  1.0    1   10.0\n",
      "b  2.0    2   20.0\n",
      "c  3.0    3   30.0\n",
      "d  NaN    4    NaN\n",
      "Adding a new column using the existing columns in DataFrame:\n",
      "   one  two  three  four\n",
      "a  1.0    1   10.0  11.0\n",
      "b  2.0    2   20.0  22.0\n",
      "c  3.0    3   30.0  33.0\n",
      "d  NaN    4    NaN   NaN\n"
     ]
    }
   ],
   "source": [
    "import pandas as pd\n",
    "\n",
    "d = {'one' : pd.Series([1, 2, 3], index=['a', 'b', 'c']),\n",
    "   'two' : pd.Series([1, 2, 3, 4], index=['a', 'b', 'c', 'd'])}\n",
    "\n",
    "df = pd.DataFrame(d)\n",
    "\n",
    "# Adding a new column to an existing DataFrame object with column label by passing new series\n",
    "\n",
    "print (\"Adding a new column by passing as Series:\")\n",
    "df['three']=pd.Series([10,20,30],index=['a','b','c'])\n",
    "print (df)\n",
    "\n",
    "print (\"Adding a new column using the existing columns in DataFrame:\")\n",
    "df['four']=df['one']+df['three']\n",
    "\n",
    "print (df)"
   ]
  },
  {
   "cell_type": "code",
   "execution_count": 135,
   "metadata": {},
   "outputs": [
    {
     "name": "stdout",
     "output_type": "stream",
     "text": [
      "Our dataframe is:\n",
      "   one  two  three\n",
      "a  1.0    1   10.0\n",
      "b  2.0    2   20.0\n",
      "c  3.0    3   30.0\n",
      "d  NaN    4    NaN\n",
      "Deleting the first column using DEL function:\n",
      "   two  three\n",
      "a    1   10.0\n",
      "b    2   20.0\n",
      "c    3   30.0\n",
      "d    4    NaN\n",
      "Deleting another column using POP function:\n",
      "   three\n",
      "a   10.0\n",
      "b   20.0\n",
      "c   30.0\n",
      "d    NaN\n"
     ]
    }
   ],
   "source": [
    "# Using the previous DataFrame, we will delete a column\n",
    "# using del function\n",
    "import pandas as pd\n",
    "\n",
    "d = {'one' : pd.Series([1, 2, 3], index=['a', 'b', 'c']), \n",
    "   'two' : pd.Series([1, 2, 3, 4], index=['a', 'b', 'c', 'd']), \n",
    "   'three' : pd.Series([10,20,30], index=['a','b','c'])}\n",
    "\n",
    "df = pd.DataFrame(d)\n",
    "print (\"Our dataframe is:\")\n",
    "print (df)\n",
    "\n",
    "# using del function\n",
    "print (\"Deleting the first column using DEL function:\")\n",
    "del df['one']\n",
    "print (df)\n",
    "\n",
    "# using pop function\n",
    "print (\"Deleting another column using POP function:\")\n",
    "df.pop('two')\n",
    "print (df)\n",
    "\n",
    "# using drop function\n",
    "#df = df.drop(columns = 'a')\n",
    "#df.drop('a', axis = 1, inplace = True)  # Axis=1 is used if we want to drop the column\n",
    "                                         # Axis=0 is used if we want to drop the row(by default)"
   ]
  },
  {
   "cell_type": "code",
   "execution_count": 136,
   "metadata": {},
   "outputs": [
    {
     "name": "stdout",
     "output_type": "stream",
     "text": [
      "one    2.0\n",
      "two    2.0\n",
      "Name: b, dtype: float64\n"
     ]
    }
   ],
   "source": [
    "import pandas as pd\n",
    "\n",
    "d = {'one' : pd.Series([1, 2, 3], index=['a', 'b', 'c']), \n",
    "   'two' : pd.Series([1, 2, 3, 4], index=['a', 'b', 'c', 'd'])}\n",
    "\n",
    "df = pd.DataFrame(d)\n",
    "print (df.loc['b'])"
   ]
  },
  {
   "cell_type": "code",
   "execution_count": 137,
   "metadata": {},
   "outputs": [
    {
     "name": "stdout",
     "output_type": "stream",
     "text": [
      "one    3.0\n",
      "two    3.0\n",
      "Name: c, dtype: float64\n"
     ]
    }
   ],
   "source": [
    "import pandas as pd\n",
    "\n",
    "d = {'one' : pd.Series([1, 2, 3], index=['a', 'b', 'c']),\n",
    "   'two' : pd.Series([1, 2, 3, 4], index=['a', 'b', 'c', 'd'])}\n",
    "\n",
    "df = pd.DataFrame(d)\n",
    "print (df.iloc[2])"
   ]
  },
  {
   "cell_type": "code",
   "execution_count": 140,
   "metadata": {},
   "outputs": [
    {
     "name": "stdout",
     "output_type": "stream",
     "text": [
      "   one  two\n",
      "c  3.0    3\n",
      "d  NaN    4\n"
     ]
    }
   ],
   "source": [
    "import pandas as pd\n",
    "\n",
    "d = {'one' : pd.Series([1, 2, 3], index=['a', 'b', 'c']), \n",
    "   'two' : pd.Series([1, 2, 3, 4], index=['a', 'b', 'c', 'd'])}\n",
    "\n",
    "df = pd.DataFrame(d)\n",
    "print (df[2:4])"
   ]
  },
  {
   "cell_type": "code",
   "execution_count": 141,
   "metadata": {},
   "outputs": [
    {
     "name": "stdout",
     "output_type": "stream",
     "text": [
      "   a  b\n",
      "0  1  2\n",
      "1  3  4\n",
      "0  5  6\n",
      "1  7  8\n"
     ]
    }
   ],
   "source": [
    "import pandas as pd\n",
    "\n",
    "df = pd.DataFrame([[1, 2], [3, 4]], columns = ['a','b'])\n",
    "df2 = pd.DataFrame([[5, 6], [7, 8]], columns = ['a','b'])\n",
    "\n",
    "df = df.append(df2)\n",
    "print (df)"
   ]
  },
  {
   "cell_type": "code",
   "execution_count": 223,
   "metadata": {},
   "outputs": [
    {
     "name": "stdout",
     "output_type": "stream",
     "text": [
      "   a  b\n",
      "1  3  4\n",
      "1  7  8\n"
     ]
    }
   ],
   "source": [
    "import pandas as pd\n",
    "\n",
    "df = pd.DataFrame([[1, 2], [3, 4]], columns = ['a','b'])\n",
    "df2 = pd.DataFrame([[5, 6], [7, 8]], columns = ['a','b'])\n",
    "\n",
    "df = df.append(df2)\n",
    "\n",
    "# Drop rows with label 0\n",
    "df = df.drop(index = 0)\n",
    "\n",
    "print (df)"
   ]
  },
  {
   "cell_type": "code",
   "execution_count": 221,
   "metadata": {
    "scrolled": true
   },
   "outputs": [
    {
     "name": "stdout",
     "output_type": "stream",
     "text": [
      "Lalita\n",
      "        cost Student\n",
      "Shop_1    30  Monika\n",
      "Shop_2    70  Lalita\n",
      "Shop_3    20   Purva\n",
      "       Students Purchase  Price\n",
      "Shop_1   Monika   Pencil     30\n",
      "Shop_2   Lalita      Pen     70\n",
      "Shop_3    Purva   Eraser     20\n",
      "       Students Purchase  Price\n",
      "Shop_1   Monika   Pencil   30.0\n",
      "Shop_2   Lalita      Pen   70.0\n",
      "Shop_3      NaN      NaN    NaN\n",
      "       Students Purchase  Price\n",
      "Shop_1   Monika   Pencil   30.0\n",
      "Shop_2   Lalita      Pen   70.0\n",
      "       Students Purchase  Price\n",
      "Shop_2   Lalita      Pen   70.0\n",
      "       Students Purchase  Price\n",
      "Shop_1   Monika   Pencil   30.0\n",
      "Shop_2   Lalita      Pen   70.0\n"
     ]
    },
    {
     "data": {
      "text/html": [
       "<div>\n",
       "<style scoped>\n",
       "    .dataframe tbody tr th:only-of-type {\n",
       "        vertical-align: middle;\n",
       "    }\n",
       "\n",
       "    .dataframe tbody tr th {\n",
       "        vertical-align: top;\n",
       "    }\n",
       "\n",
       "    .dataframe thead th {\n",
       "        text-align: right;\n",
       "    }\n",
       "</style>\n",
       "<table border=\"1\" class=\"dataframe\">\n",
       "  <thead>\n",
       "    <tr style=\"text-align: right;\">\n",
       "      <th></th>\n",
       "      <th>Price</th>\n",
       "      <th>Students</th>\n",
       "      <th>Purchase</th>\n",
       "    </tr>\n",
       "  </thead>\n",
       "  <tbody>\n",
       "    <tr>\n",
       "      <th>Shop_1</th>\n",
       "      <td>30.0</td>\n",
       "      <td>Monika</td>\n",
       "      <td>Pencil</td>\n",
       "    </tr>\n",
       "    <tr>\n",
       "      <th>Shop_2</th>\n",
       "      <td>70.0</td>\n",
       "      <td>Lalita</td>\n",
       "      <td>Pen</td>\n",
       "    </tr>\n",
       "  </tbody>\n",
       "</table>\n",
       "</div>"
      ],
      "text/plain": [
       "        Price Students Purchase\n",
       "Shop_1   30.0   Monika   Pencil\n",
       "Shop_2   70.0   Lalita      Pen"
      ]
     },
     "execution_count": 221,
     "metadata": {},
     "output_type": "execute_result"
    }
   ],
   "source": [
    "import pandas as pd\n",
    "names_1 = pd.Series({'Student':'Monika', 'Purchase':'Pencil', 'cost':30})\n",
    "names_2 = pd.Series({'Student':'Lalita', 'Purchase':'Pen', 'cost':70})\n",
    "names_3 = pd.Series({'Student':'Purva', 'Purchase':'Eraser', 'cost':20})\n",
    "df = pd.DataFrame([names_1, names_2, names_3], index=['Shop_1', 'Shop_2', 'Shop_3'])\n",
    "# used to print first 5 rows of a DataFrame\n",
    "df.head()\n",
    "# Student who bought from shop_2\n",
    "print(df.loc['Shop_2','Student'])\n",
    "# 2 columns are shown only with all indices\n",
    "print(df.loc[:,['cost','Student']])\n",
    "df.rename(columns={'Student':'Students', 'cost':'Price'}, inplace=True)\n",
    "print(df)\n",
    "df.where(df['Price']>20,inplace=True)\n",
    "print(df)\n",
    "df.dropna(inplace=True)\n",
    "print(df)\n",
    "print(df[(df['Price']>20) & (df['Purchase']=='Pen')])\n",
    "print(df[(df['Price']>20) | (df['Purchase']=='Pen')])\n",
    "\n",
    "df.set_index(['Price','Students'], inplace=True)\n",
    "df.reset_index(inplace=True)\n",
    "df.set_index(pd.Series(['Shop_1','Shop_2']),inplace=True)\n",
    "df"
   ]
  },
  {
   "cell_type": "code",
   "execution_count": 250,
   "metadata": {},
   "outputs": [
    {
     "data": {
      "text/html": [
       "<div>\n",
       "<style scoped>\n",
       "    .dataframe tbody tr th:only-of-type {\n",
       "        vertical-align: middle;\n",
       "    }\n",
       "\n",
       "    .dataframe tbody tr th {\n",
       "        vertical-align: top;\n",
       "    }\n",
       "\n",
       "    .dataframe thead th {\n",
       "        text-align: right;\n",
       "    }\n",
       "</style>\n",
       "<table border=\"1\" class=\"dataframe\">\n",
       "  <thead>\n",
       "    <tr style=\"text-align: right;\">\n",
       "      <th></th>\n",
       "      <th>Name</th>\n",
       "      <th>Team</th>\n",
       "      <th>Number</th>\n",
       "      <th>Position</th>\n",
       "      <th>Age</th>\n",
       "      <th>Height</th>\n",
       "      <th>Weight</th>\n",
       "      <th>College</th>\n",
       "      <th>Salary</th>\n",
       "    </tr>\n",
       "  </thead>\n",
       "  <tbody>\n",
       "    <tr>\n",
       "      <th>453</th>\n",
       "      <td>False</td>\n",
       "      <td>False</td>\n",
       "      <td>False</td>\n",
       "      <td>False</td>\n",
       "      <td>False</td>\n",
       "      <td>False</td>\n",
       "      <td>False</td>\n",
       "      <td>False</td>\n",
       "      <td>False</td>\n",
       "    </tr>\n",
       "    <tr>\n",
       "      <th>454</th>\n",
       "      <td>False</td>\n",
       "      <td>False</td>\n",
       "      <td>False</td>\n",
       "      <td>False</td>\n",
       "      <td>False</td>\n",
       "      <td>False</td>\n",
       "      <td>False</td>\n",
       "      <td>True</td>\n",
       "      <td>False</td>\n",
       "    </tr>\n",
       "    <tr>\n",
       "      <th>455</th>\n",
       "      <td>False</td>\n",
       "      <td>False</td>\n",
       "      <td>False</td>\n",
       "      <td>False</td>\n",
       "      <td>False</td>\n",
       "      <td>False</td>\n",
       "      <td>False</td>\n",
       "      <td>True</td>\n",
       "      <td>False</td>\n",
       "    </tr>\n",
       "    <tr>\n",
       "      <th>456</th>\n",
       "      <td>False</td>\n",
       "      <td>False</td>\n",
       "      <td>False</td>\n",
       "      <td>False</td>\n",
       "      <td>False</td>\n",
       "      <td>False</td>\n",
       "      <td>False</td>\n",
       "      <td>False</td>\n",
       "      <td>False</td>\n",
       "    </tr>\n",
       "    <tr>\n",
       "      <th>457</th>\n",
       "      <td>True</td>\n",
       "      <td>True</td>\n",
       "      <td>True</td>\n",
       "      <td>True</td>\n",
       "      <td>True</td>\n",
       "      <td>True</td>\n",
       "      <td>True</td>\n",
       "      <td>True</td>\n",
       "      <td>True</td>\n",
       "    </tr>\n",
       "  </tbody>\n",
       "</table>\n",
       "</div>"
      ],
      "text/plain": [
       "      Name   Team  Number  Position    Age  Height  Weight  College  Salary\n",
       "453  False  False   False     False  False   False   False    False   False\n",
       "454  False  False   False     False  False   False   False     True   False\n",
       "455  False  False   False     False  False   False   False     True   False\n",
       "456  False  False   False     False  False   False   False    False   False\n",
       "457   True   True    True      True   True    True    True     True    True"
      ]
     },
     "execution_count": 250,
     "metadata": {},
     "output_type": "execute_result"
    }
   ],
   "source": [
    "import csv\n",
    "import pandas as pd\n",
    "df = pd.read_csv('nba.csv')\n",
    "df.isnull().tail()\n",
    "#df.notnull().head()\n",
    "#print(df['Salary'].fillna(value=100000).head())"
   ]
  },
  {
   "cell_type": "code",
   "execution_count": 245,
   "metadata": {},
   "outputs": [],
   "source": [
    "import pickle\n",
    "mylist = ['a', 'b', 'c', 'd']\n",
    "with open('datafile.txt', 'wb') as fh:\n",
    "    pickle.dump(mylist, fh)"
   ]
  },
  {
   "cell_type": "code",
   "execution_count": 246,
   "metadata": {},
   "outputs": [
    {
     "name": "stdout",
     "output_type": "stream",
     "text": [
      "['a', 'b', 'c', 'd']\n"
     ]
    }
   ],
   "source": [
    "import pickle\n",
    "pickle_off = open (\"datafile.txt\", \"rb\")\n",
    "emp = pickle.load(pickle_off)\n",
    "print(emp)"
   ]
  },
  {
   "cell_type": "code",
   "execution_count": 248,
   "metadata": {},
   "outputs": [],
   "source": [
    "import pickle\n",
    "EmpID = {1:\"Zack\",2:\"53050\",3:\"IT\",4:\"38\",5:\"Flipkart\"}\n",
    "pickling_on = open(\"EmpID.pickle.txt\",\"wb\")\n",
    "pickle.dump(EmpID, pickling_on)\n",
    "pickling_on.close()"
   ]
  },
  {
   "cell_type": "code",
   "execution_count": 249,
   "metadata": {},
   "outputs": [
    {
     "name": "stdout",
     "output_type": "stream",
     "text": [
      "{1: 'Zack', 2: '53050', 3: 'IT', 4: '38', 5: 'Flipkart'}\n"
     ]
    }
   ],
   "source": [
    "import pickle\n",
    "pickle_off = open(\"EmpID.pickle.\", 'rb')\n",
    "EmpID = pickle.load(pickle_off)\n",
    "print(EmpID)"
   ]
  },
  {
   "cell_type": "markdown",
   "metadata": {},
   "source": [
    "# End of the Presentation"
   ]
  },
  {
   "cell_type": "code",
   "execution_count": 84,
   "metadata": {},
   "outputs": [
    {
     "data": {
      "text/plain": [
       "0    [Programming language,  Designed by,  Appeared...\n",
       "1              [Python, Guido van Rossum,  1991,  .py]\n",
       "2                  [Java, James Gosling,  1995, .java]\n",
       "3                 [C++, Bjarne Stroustrup, 1983, .cpp]\n",
       "dtype: object"
      ]
     },
     "execution_count": 84,
     "metadata": {},
     "output_type": "execute_result"
    }
   ],
   "source": [
    "import csv\n",
    "import pandas as pd\n",
    "file_csv_1 = open('Example.csv','r')\n",
    "out = pd.Series(csv.reader(file_csv_1))\n",
    "out"
   ]
  },
  {
   "cell_type": "code",
   "execution_count": 86,
   "metadata": {},
   "outputs": [
    {
     "name": "stdout",
     "output_type": "stream",
     "text": [
      "Series([], dtype: float64)\n"
     ]
    },
    {
     "name": "stderr",
     "output_type": "stream",
     "text": [
      "<ipython-input-86-d08149822242>:3: DeprecationWarning: The default dtype for empty Series will be 'object' instead of 'float64' in a future version. Specify a dtype explicitly to silence this warning.\n",
      "  s = pd.Series()\n"
     ]
    }
   ],
   "source": []
  },
  {
   "cell_type": "code",
   "execution_count": 294,
   "metadata": {},
   "outputs": [
    {
     "name": "stdout",
     "output_type": "stream",
     "text": [
      "A\n",
      "p\n",
      "p\n",
      "l\n",
      "e\n",
      "{'fruit': 'Apple', 'size': 'Large', 'color': 'Red'}\n"
     ]
    }
   ],
   "source": [
    "# Python program to read\n",
    "# json file\n",
    "  \n",
    "import json\n",
    "  \n",
    "# Opening JSON file\n",
    "f = open('data.json','r')\n",
    "  \n",
    "# returns JSON object as \n",
    "# a dictionary\n",
    "data = json.load(f)\n",
    "  \n",
    "# Iterating through the json\n",
    "# list\n",
    "for i in data['fruit']:\n",
    "    print(i)\n",
    "    \n",
    "print(data)\n",
    "# Closing file\n",
    "f.close()"
   ]
  },
  {
   "cell_type": "code",
   "execution_count": 298,
   "metadata": {},
   "outputs": [
    {
     "data": {
      "text/plain": [
       "{'name': 'sathiyajith', 'rollno': 56, 'cgpa': 8.6, 'phonenumber': '9976770500'}"
      ]
     },
     "execution_count": 298,
     "metadata": {},
     "output_type": "execute_result"
    }
   ],
   "source": [
    "# Python program to write JSON\n",
    "# to a file\n",
    "  \n",
    "import json\n",
    "  \n",
    "# Data to be written\n",
    "dictionary ={\n",
    "    \"name\" : \"sathiyajith\",\n",
    "    \"rollno\" : 56,\n",
    "    \"cgpa\" : 8.6,\n",
    "    \"phonenumber\" : \"9976770500\"\n",
    "}\n",
    "  \n",
    "# Serializing json \n",
    "json_object = json.dumps(dictionary, indent=4)\n",
    "  \n",
    "# Writing to sample.json\n",
    "with open(\"sample.json\", \"w\") as outfile:\n",
    "    outfile.write(json_object)\n",
    "    \n",
    "# Opening JSON file\n",
    "f = open('sample.json','r')\n",
    "  \n",
    "# returns JSON object as \n",
    "# a dictionary\n",
    "sample = json.load(f)\n",
    "sample"
   ]
  },
  {
   "cell_type": "code",
   "execution_count": null,
   "metadata": {},
   "outputs": [],
   "source": []
  }
 ],
 "metadata": {
  "kernelspec": {
   "display_name": "Python 3",
   "language": "python",
   "name": "python3"
  },
  "language_info": {
   "codemirror_mode": {
    "name": "ipython",
    "version": 3
   },
   "file_extension": ".py",
   "mimetype": "text/x-python",
   "name": "python",
   "nbconvert_exporter": "python",
   "pygments_lexer": "ipython3",
   "version": "3.8.5"
  }
 },
 "nbformat": 4,
 "nbformat_minor": 4
}
