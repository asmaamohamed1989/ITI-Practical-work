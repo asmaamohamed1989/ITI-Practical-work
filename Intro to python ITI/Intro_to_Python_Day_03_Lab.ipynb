{
 "cells": [
  {
   "cell_type": "markdown",
   "metadata": {},
   "source": [
    "# Intro to Python Day 03 Lab"
   ]
  },
  {
   "cell_type": "markdown",
   "metadata": {},
   "source": [
    "Compiled by Ali Heikal"
   ]
  },
  {
   "cell_type": "markdown",
   "metadata": {},
   "source": [
    "## Problem 1"
   ]
  },
  {
   "cell_type": "markdown",
   "metadata": {},
   "source": [
    "Define a class called Songs, it will show the lyrics of a song. Its __init__() method should have two arguments: self and lyrics. lyrics is a list. Inside your class create a method called sing_me_a_song that prints each element of lyrics on its own line."
   ]
  },
  {
   "cell_type": "code",
   "execution_count": 53,
   "metadata": {},
   "outputs": [
    {
     "name": "stdout",
     "output_type": "stream",
     "text": [
      "May god bless you, \n",
      "Have a sunshine on you,\n",
      "Happy Birthday to you !\n",
      "None\n"
     ]
    }
   ],
   "source": [
    "class Song(object):\n",
    "    def __init__(self, lyrics):\n",
    "        self.lyrics=lyrics\n",
    "    def sing_me_a_song(self):\n",
    "        for line in self.lyrics:\n",
    "            print(line)\n",
    "            \n",
    "happy_bday = Song([\"May god bless you, \", \"Have a sunshine on you,\", \"Happy Birthday to you !\"])\n",
    "print(happy_bday.sing_me_a_song())"
   ]
  },
  {
   "cell_type": "markdown",
   "metadata": {},
   "source": [
    "## Problem 2"
   ]
  },
  {
   "cell_type": "markdown",
   "metadata": {},
   "source": [
    "Write a program to show that the variables with a value assigned in the class declaration, are class variables and variables inside methods and constructors are instance variables."
   ]
  },
  {
   "cell_type": "code",
   "execution_count": 54,
   "metadata": {},
   "outputs": [
    {
     "name": "stdout",
     "output_type": "stream",
     "text": [
      "Rodger details:\n",
      "Rodger is a dog\n",
      "Breed: Pug\n",
      "Color: brown\n",
      "\n",
      "Buzo details:\n",
      "Buzo is a dog\n",
      "Breed: Bulldog\n",
      "Color: black\n",
      "\n",
      "Accessing class variable using class name\n",
      "dog\n"
     ]
    }
   ],
   "source": [
    "# Class for Dog\n",
    "class Dog:\n",
    "\n",
    "    # Class Variable\n",
    "    animal = 'dog'\n",
    "\n",
    "    # The init method or constructor\n",
    "    def __init__(self, breed, color):\n",
    "        # Instance Variable\n",
    "        self.breed = breed\n",
    "        self.color = color\n",
    "# Objects of Dog class\n",
    "Rodger = Dog(\"Pug\", \"brown\")\n",
    "Buzo = Dog(\"Bulldog\", \"black\")\n",
    "\n",
    "print('Rodger details:')\n",
    "print('Rodger is a', Rodger.animal)\n",
    "print('Breed:', Rodger.breed)\n",
    "print('Color:', Rodger.color)\n",
    "\n",
    "print('\\nBuzo details:')\n",
    "print('Buzo is a', Buzo.animal)\n",
    "print('Breed:', Buzo.breed)\n",
    "print('Color:', Buzo.color)\n",
    "\n",
    "# Class variables can be accessed using class\n",
    "# name also\n",
    "print(\"\\nAccessing class variable using class name\")\n",
    "print(Dog.animal)"
   ]
  },
  {
   "cell_type": "markdown",
   "metadata": {},
   "source": [
    "## Problem 3"
   ]
  },
  {
   "cell_type": "markdown",
   "metadata": {},
   "source": [
    "Write a program that implements child class Bus that inherits all of the variables and methods of the class Vehicle then create an object from the child class and print its values."
   ]
  },
  {
   "cell_type": "code",
   "execution_count": 55,
   "metadata": {},
   "outputs": [],
   "source": [
    "class Vehicle:\n",
    "\n",
    "    def __init__(self, name, max_speed, mileage):\n",
    "        self.name = name\n",
    "        self.max_speed = max_speed\n",
    "        self.mileage = mileage"
   ]
  },
  {
   "cell_type": "code",
   "execution_count": 56,
   "metadata": {},
   "outputs": [],
   "source": [
    "class Bus(Vehicle):\n",
    "    pass"
   ]
  },
  {
   "cell_type": "code",
   "execution_count": 57,
   "metadata": {},
   "outputs": [
    {
     "name": "stdout",
     "output_type": "stream",
     "text": [
      "Vehicle Name: Mercedes Speed: 180 Mileage: 12\n"
     ]
    }
   ],
   "source": [
    "schoolBus = Bus(\"Mercedes\", 180, 12)\n",
    "print(\"Vehicle Name:\", schoolBus.name, \"Speed:\", schoolBus.max_speed, \"Mileage:\", schoolBus.mileage)"
   ]
  },
  {
   "cell_type": "markdown",
   "metadata": {},
   "source": [
    "## Problem 4"
   ]
  },
  {
   "cell_type": "markdown",
   "metadata": {},
   "source": [
    "Write a program that implements child class Bus that inherits all of the variables and methods of the class Vehicle, then give the capacity argument of Bus.seating_capacity() a default value of 50, and print."
   ]
  },
  {
   "cell_type": "code",
   "execution_count": 73,
   "metadata": {},
   "outputs": [],
   "source": [
    "class Vehicle:\n",
    "    def __init__(self, name, max_speed, mileage):\n",
    "        self.name = name\n",
    "        self.max_speed = max_speed\n",
    "        self.mileage = mileage\n",
    "\n",
    "    def seating_capacity(self, capacity):\n",
    "        return f\"The seating capacity of a {self.name} is {capacity} passengers\""
   ]
  },
  {
   "cell_type": "code",
   "execution_count": 74,
   "metadata": {},
   "outputs": [],
   "source": [
    "class Bus(Vehicle):\n",
    "    def seating_capacity(self, capacity=50):\n",
    "        return super().seating_capacity(capacity=50)"
   ]
  },
  {
   "cell_type": "code",
   "execution_count": 75,
   "metadata": {},
   "outputs": [
    {
     "name": "stdout",
     "output_type": "stream",
     "text": [
      "The seating capacity of a Mercedes is 50 passengers\n"
     ]
    }
   ],
   "source": [
    "schoolBus = Bus(\"Mercedes\", 180, 12)\n",
    "print(schoolBus.seating_capacity())"
   ]
  },
  {
   "cell_type": "markdown",
   "metadata": {},
   "source": [
    "## Problem 5"
   ]
  },
  {
   "cell_type": "markdown",
   "metadata": {},
   "source": [
    "Write a program that implements child class Bus that inherits all of the variables and methods of the class Vehicle. The default fare charge of any vehicle is seating capacity * 100. If Vehicle is a Bus, you need to add an extra 10% on full fare as a maintenance charge. In other words, the fare for a bus will become the final amount = total fare + 10% of the total fare."
   ]
  },
  {
   "cell_type": "markdown",
   "metadata": {},
   "source": [
    "Keep in mind that the bus seating capacity is 50, thus, the final fare amount should be 5500. You need to override the fare() function of class Vehicle in class Bus."
   ]
  },
  {
   "cell_type": "code",
   "execution_count": 61,
   "metadata": {},
   "outputs": [],
   "source": [
    "class Vehicle:\n",
    "    def __init__(self, name, mileage, capacity):\n",
    "        self.name = name\n",
    "        self.mileage = mileage\n",
    "        self.capacity = capacity\n",
    "\n",
    "    def fare(self):\n",
    "        return self.capacity * 100"
   ]
  },
  {
   "cell_type": "code",
   "execution_count": 62,
   "metadata": {},
   "outputs": [],
   "source": [
    "class Bus(Vehicle):\n",
    "    def fare(self):\n",
    "        amount = super().fare()\n",
    "        amount += amount * 10 / 100\n",
    "        return amount"
   ]
  },
  {
   "cell_type": "code",
   "execution_count": 63,
   "metadata": {},
   "outputs": [
    {
     "name": "stdout",
     "output_type": "stream",
     "text": [
      "Total Bus fare is: 5500.0\n"
     ]
    }
   ],
   "source": [
    "schoolBus = Bus(\"Mercedes\", 12, 50)\n",
    "print(\"Total Bus fare is:\", schoolBus.fare())"
   ]
  },
  {
   "cell_type": "code",
   "execution_count": 64,
   "metadata": {},
   "outputs": [
    {
     "name": "stdout",
     "output_type": "stream",
     "text": [
      "Total Bus fare is: 6600.0\n"
     ]
    }
   ],
   "source": [
    "schoolBus = Bus(\"Mercedes\", 12, 60)\n",
    "print(\"Total Bus fare is:\", schoolBus.fare())"
   ]
  },
  {
   "cell_type": "markdown",
   "metadata": {},
   "source": [
    "## Problem 6"
   ]
  },
  {
   "cell_type": "markdown",
   "metadata": {},
   "source": [
    "Write a program using OOP concepts to perform some simple bank operations like deposit and withdrawal of money.\n",
    "\n"
   ]
  },
  {
   "cell_type": "markdown",
   "metadata": {},
   "source": [
    "First of all, define class Bankacccount. This step is followed by defining a function using __init__. It is run as soon as an object of a class is instantiated. This __init__ method is useful to do any initialization you want to do with an object, then you have the default argument self."
   ]
  },
  {
   "cell_type": "markdown",
   "metadata": {},
   "source": [
    "This step is followed by declaring that balance is 0 using self argument then simply print a statement welcoming to Machine. In function deposit and withdraw, amount is taken as input(in float) and is then added/subtracted to the balance. Then resultant balance is printed in next line."
   ]
  },
  {
   "cell_type": "markdown",
   "metadata": {},
   "source": [
    "Use an if condition to check whether there is a sufficient\n",
    "amount of money available in the account to process a fund withdrawal."
   ]
  },
  {
   "cell_type": "markdown",
   "metadata": {},
   "source": [
    "Then use a display function to display the remianing balnce in the account. Then create a object and call it to get the program executed.\n",
    "\n"
   ]
  },
  {
   "cell_type": "code",
   "execution_count": 65,
   "metadata": {},
   "outputs": [
    {
     "name": "stdout",
     "output_type": "stream",
     "text": [
      "Welcome to the Deposit & Withdrawal Machine\n",
      "Enter amount to be Deposited: 100\n",
      "\n",
      "Amount Deposited: 100.0\n",
      "Enter amount to be Withdrawn: 50\n",
      "\n",
      "You Withdrew: 50.0\n",
      "\n",
      "Net Available Balance= 50.0\n"
     ]
    }
   ],
   "source": [
    "class Bank_Account:\n",
    "    def __init__(self):\n",
    "        self.balance=0\n",
    "        print(\"Welcome to the Deposit & Withdrawal Machine\")\n",
    "  \n",
    "    def deposit(self):\n",
    "        amount=float(input(\"Enter amount to be Deposited: \"))\n",
    "        self.balance += amount\n",
    "        print(\"\\nAmount Deposited:\",amount)\n",
    "  \n",
    "    def withdraw(self):\n",
    "        amount = float(input(\"Enter amount to be Withdrawn: \"))\n",
    "        if self.balance>=amount:\n",
    "            self.balance-=amount\n",
    "            print(\"\\nYou Withdrew:\", amount)\n",
    "        else:\n",
    "            print(\"\\nInsufficient balance  \")\n",
    "  \n",
    "    def display(self):\n",
    "        print(\"\\nNet Available Balance=\",self.balance)\n",
    "\n",
    "        \n",
    "# creating an object of class\n",
    "s = Bank_Account()\n",
    "   \n",
    "# Calling functions with that class object\n",
    "s.deposit()\n",
    "s.withdraw()\n",
    "s.display()"
   ]
  },
  {
   "cell_type": "markdown",
   "metadata": {},
   "source": [
    "## Problem 7"
   ]
  },
  {
   "cell_type": "markdown",
   "metadata": {},
   "source": [
    "Create a class and use the constructor to initialize values of that class."
   ]
  },
  {
   "cell_type": "markdown",
   "metadata": {},
   "source": [
    "Create methods for adding, subtracting, multiplying and dividing two numbers and returning the respective results."
   ]
  },
  {
   "cell_type": "markdown",
   "metadata": {},
   "source": [
    "Take the two numbers as inputs and create an object for the class passing the two numbers as parameters to the class."
   ]
  },
  {
   "cell_type": "markdown",
   "metadata": {},
   "source": [
    "Using the object, call the respective function depending on the choice taken from the user."
   ]
  },
  {
   "cell_type": "markdown",
   "metadata": {},
   "source": [
    "Print the final result."
   ]
  },
  {
   "cell_type": "markdown",
   "metadata": {},
   "source": [
    "Exit the program."
   ]
  },
  {
   "cell_type": "code",
   "execution_count": 66,
   "metadata": {},
   "outputs": [
    {
     "name": "stdout",
     "output_type": "stream",
     "text": [
      "Enter first number: 5\n",
      "Enter second number: 5\n",
      "0. Exit\n",
      "1. Add\n",
      "2. Subtraction\n",
      "3. Multiplication\n",
      "4. Division\n",
      "Enter choice: 1\n",
      "Result:  10\n",
      "0. Exit\n",
      "1. Add\n",
      "2. Subtraction\n",
      "3. Multiplication\n",
      "4. Division\n",
      "Enter choice: 0\n",
      "Exiting!\n",
      "\n"
     ]
    }
   ],
   "source": [
    "class cal():\n",
    "    def __init__(self,a,b):\n",
    "        self.a=a\n",
    "        self.b=b\n",
    "    def add(self):\n",
    "        return self.a+self.b\n",
    "    def mul(self):\n",
    "        return self.a*self.b\n",
    "    def div(self):\n",
    "        return self.a/self.b\n",
    "    def sub(self):\n",
    "        return self.a-self.b\n",
    "a=int(input(\"Enter first number: \"))\n",
    "b=int(input(\"Enter second number: \"))\n",
    "obj=cal(a,b)\n",
    "choice=1\n",
    "while choice!=0:\n",
    "    print(\"0. Exit\")\n",
    "    print(\"1. Add\")\n",
    "    print(\"2. Subtraction\")\n",
    "    print(\"3. Multiplication\")\n",
    "    print(\"4. Division\")\n",
    "    choice=int(input(\"Enter choice: \"))\n",
    "    if choice==1:\n",
    "        print(\"Result: \",obj.add())\n",
    "    elif choice==2:\n",
    "        print(\"Result: \",obj.sub())\n",
    "    elif choice==3:\n",
    "        print(\"Result: \",obj.mul())\n",
    "    elif choice==4:\n",
    "        print(\"Result: \",round(obj.div(),2))\n",
    "    elif choice==0:\n",
    "        print(\"Exiting!\")\n",
    "    else:\n",
    "        print(\"Invalid choice!!\")\n",
    "        \n",
    "print()"
   ]
  },
  {
   "cell_type": "markdown",
   "metadata": {},
   "source": [
    "## Problem 8"
   ]
  },
  {
   "cell_type": "markdown",
   "metadata": {},
   "source": [
    "Given a deck of cards, the task is to distribute them between two players.\n",
    "\n"
   ]
  },
  {
   "cell_type": "markdown",
   "metadata": {},
   "source": [
    "To shuffle the deck of cards you need to use the shuffle module."
   ]
  },
  {
   "cell_type": "markdown",
   "metadata": {},
   "source": [
    "Import the required module"
   ]
  },
  {
   "cell_type": "markdown",
   "metadata": {},
   "source": [
    "Declare a class named Cards which will have variables suites and values, now instead of using self.suites and self.values, you are going to declare them as global variables."
   ]
  },
  {
   "cell_type": "markdown",
   "metadata": {},
   "source": [
    "Declare a class Deck which will have an empty list named as mycardset, and the suites and values will be appended to mycardset  list."
   ]
  },
  {
   "cell_type": "markdown",
   "metadata": {},
   "source": [
    "Declare a class ShuffleCards along with a method named shuffle() that would check the number of cards and then shuffles them."
   ]
  },
  {
   "cell_type": "markdown",
   "metadata": {},
   "source": [
    "To remove some cards you will create a popCard() method in ShuffleCards class."
   ]
  },
  {
   "cell_type": "code",
   "execution_count": 71,
   "metadata": {},
   "outputs": [
    {
     "name": "stdout",
     "output_type": "stream",
     "text": [
      "\n",
      "Player 1 Cards:\n",
      " ['A of Hearts', '2 of Hearts', '3 of Hearts', '4 of Hearts', '5 of Hearts', '6 of Hearts', '7 of Hearts', '8 of Hearts', '9 of Hearts', '10 of Hearts', 'J of Hearts', 'Q of Hearts', 'K of Hearts', 'A of Diamonds', '2 of Diamonds', '3 of Diamonds', '4 of Diamonds', '5 of Diamonds', '6 of Diamonds', '7 of Diamonds', '8 of Diamonds', '9 of Diamonds', '10 of Diamonds', 'J of Diamonds', 'Q of Diamonds', 'K of Diamonds', 'A of Clubs', '2 of Clubs', '3 of Clubs', '4 of Clubs', '5 of Clubs', '6 of Clubs', '7 of Clubs', '8 of Clubs', '9 of Clubs', '10 of Clubs', 'J of Clubs', 'Q of Clubs', 'K of Clubs', 'A of Spades', '2 of Spades', '3 of Spades', '4 of Spades', '5 of Spades', '6 of Spades', '7 of Spades', '8 of Spades', '9 of Spades', '10 of Spades', 'J of Spades', 'Q of Spades', 'K of Spades']\n",
      "\n",
      "Player 2 Cards:\n",
      " ['6 of Clubs', 'A of Hearts', '10 of Hearts', '4 of Hearts', '2 of Hearts', '3 of Clubs', 'A of Diamonds', '10 of Spades', 'J of Clubs', '7 of Diamonds', 'J of Hearts', 'Q of Diamonds', 'Q of Hearts', '8 of Diamonds', '9 of Diamonds', 'K of Spades', '3 of Hearts', '8 of Clubs', 'J of Spades', '5 of Spades', 'K of Diamonds', '9 of Hearts', '4 of Diamonds', '2 of Diamonds', '7 of Spades', 'K of Clubs', '2 of Clubs', 'K of Hearts', '4 of Spades', '8 of Spades', '4 of Clubs', 'Q of Clubs', '5 of Diamonds', '7 of Clubs', '6 of Spades', '6 of Hearts', '9 of Spades', '5 of Hearts', 'A of Spades', '10 of Diamonds', 'J of Diamonds', '6 of Diamonds', '8 of Hearts', '5 of Clubs', 'Q of Spades', '3 of Spades', '3 of Diamonds', '10 of Clubs', '9 of Clubs', 'A of Clubs', '2 of Spades', '7 of Hearts']\n",
      "\n",
      "Removing a card from the deck: 7 of Hearts\n",
      "\n",
      "Removing another card from the deck: 2 of Spades\n"
     ]
    }
   ],
   "source": [
    "# Import required modules\n",
    "from random import shuffle\n",
    "\n",
    "\n",
    "# Define a class to create\n",
    "# all type of cards\n",
    "class Cards:\n",
    "    global suites, values\n",
    "    suites = ['Hearts', 'Diamonds', 'Clubs', 'Spades']\n",
    "    values = ['A', '2', '3', '4', '5', '6', '7', '8', '9', '10', 'J', 'Q', 'K']\n",
    "\n",
    "    def __init__(self):\n",
    "        pass\n",
    "\n",
    "\n",
    "# Define a class to categorize each card\n",
    "class Deck(Cards):\n",
    "    def __init__(self):\n",
    "        Cards.__init__(self)\n",
    "        self.mycardset = []\n",
    "        for n in suites:\n",
    "            for c in values:\n",
    "                self.mycardset.append((c)+\" \"+\"of\"+\" \"+n)\n",
    "\n",
    "    # Method to remove a card from the deck\n",
    "    def popCard(self):\n",
    "        if len(self.mycardset) == 0:\n",
    "            return \"NO CARDS CAN BE POPPED FURTHER\"\n",
    "        else:\n",
    "            cardpopped = self.mycardset.pop()\n",
    "            print(\"Card removed is\", cardpopped)\n",
    "\n",
    "\n",
    "# Define a class gto shuffle the deck of cards\n",
    "class ShuffleCards(Deck):\n",
    "\n",
    "    # Constructor\n",
    "    def __init__(self):\n",
    "        Deck.__init__(self)\n",
    "\n",
    "    # Method to shuffle cards\n",
    "    def shuffle(self):\n",
    "        if len(self.mycardset) < 52:\n",
    "            print(\"cannot shuffle the cards\")\n",
    "        else:\n",
    "            shuffle(self.mycardset)\n",
    "            return self.mycardset\n",
    "\n",
    "    # Method to remove a card from the deck\n",
    "    def popCard(self):\n",
    "        if len(self.mycardset) == 0:\n",
    "            return \"NO CARDS CAN BE POPPED FURTHER\"\n",
    "        else:\n",
    "            cardpopped = self.mycardset.pop()\n",
    "            return (cardpopped)\n",
    "\n",
    "\n",
    "# Driver Code\n",
    "# Creating objects\n",
    "objCards = Cards()\n",
    "objDeck = Deck()\n",
    "\n",
    "# Player 1\n",
    "player1Cards = objDeck.mycardset\n",
    "print('\\nPlayer 1 Cards:\\n', player1Cards)\n",
    "\n",
    "# Creating object\n",
    "objShuffleCards = ShuffleCards()\n",
    "\n",
    "# Player 2\n",
    "player2Cards = objShuffleCards.shuffle()\n",
    "print('\\nPlayer 2 Cards:\\n', player2Cards)\n",
    "\n",
    "# Remove some cards\n",
    "print('\\nRemoving a card from the deck:', objShuffleCards.popCard())\n",
    "print('\\nRemoving another card from the deck:', objShuffleCards.popCard())"
   ]
  },
  {
   "cell_type": "code",
   "execution_count": null,
   "metadata": {},
   "outputs": [],
   "source": []
  }
 ],
 "metadata": {
  "kernelspec": {
   "display_name": "Python 3",
   "language": "python",
   "name": "python3"
  },
  "language_info": {
   "codemirror_mode": {
    "name": "ipython",
    "version": 3
   },
   "file_extension": ".py",
   "mimetype": "text/x-python",
   "name": "python",
   "nbconvert_exporter": "python",
   "pygments_lexer": "ipython3",
   "version": "3.8.5"
  }
 },
 "nbformat": 4,
 "nbformat_minor": 4
}
