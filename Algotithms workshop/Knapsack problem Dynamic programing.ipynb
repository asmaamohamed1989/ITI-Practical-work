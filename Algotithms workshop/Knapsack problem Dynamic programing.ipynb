{
 "cells": [
  {
   "cell_type": "code",
   "execution_count": 5,
   "metadata": {},
   "outputs": [
    {
     "name": "stdout",
     "output_type": "stream",
     "text": [
      "220\n"
     ]
    }
   ],
   "source": [
    "# A Dynamic Programming based Python\n",
    "# Program for 0-1 Knapsack problem\n",
    "# Returns the maximum value that can\n",
    "# be put in a knapsack of capacity W\n",
    "\n",
    "\n",
    "def knapSack(W, wt, val, n):\n",
    "\tK = [[0 for x in range(W + 1)] for x in range(n + 1)]\n",
    "\n",
    "\t# Build table K[][] in bottom up manner\n",
    "\tfor i in range(n + 1):\n",
    "\t\tfor w in range(W + 1):\n",
    "\t\t\tif i == 0 or w == 0:\n",
    "\t\t\t\tK[i][w] = 0\n",
    "\t\t\telif wt[i-1] <= w:\n",
    "\t\t\t\tK[i][w] = max(val[i-1]\n",
    "\t\t\t\t\t\t+ K[i-1][w-wt[i-1]],\n",
    "\t\t\t\t\t\t\tK[i-1][w])\n",
    "\t\t\telse:\n",
    "\t\t\t\tK[i][w] = K[i-1][w]\n",
    "\n",
    "\treturn K[n][W]\n",
    "\n",
    "\n",
    "# Driver code\n",
    "val = [60, 100, 120]\n",
    "wt = [10, 20, 30]\n",
    "W = 50\n",
    "n = len(val)\n",
    "print(knapSack(W, wt, val, n))\n",
    "\n",
    "\n"
   ]
  },
  {
   "cell_type": "code",
   "execution_count": 6,
   "metadata": {},
   "outputs": [
    {
     "name": "stdout",
     "output_type": "stream",
     "text": [
      "220\n"
     ]
    }
   ],
   "source": [
    "# code\n",
    "# A Dynamic Programming based Python\n",
    "# Program for 0-1 Knapsack problem\n",
    "# Returns the maximum value that can\n",
    "# be put in a knapsack of capacity W\n",
    "\n",
    "\n",
    "def knapSack(W, wt, val, n):\n",
    "\tdp = [0 for i in range(W+1)] # Making the dp array\n",
    "\n",
    "\tfor i in range(1, n+1): # taking first i elements\n",
    "\t\tfor w in range(W, 0, -1): # starting from back,so that we also have data of\n",
    "\t\t\t\t\t\t\t\t# previous computation when taking i-1 items\n",
    "\t\t\tif wt[i-1] <= w:\n",
    "\t\t\t\t# finding the maximum value\n",
    "\t\t\t\tdp[w] = max(dp[w], dp[w-wt[i-1]]+val[i-1])\n",
    "\n",
    "\treturn dp[W] # returning the maximum value of knapsack\n",
    "\n",
    "\n",
    "# Driver code\n",
    "val = [60, 100, 120]\n",
    "wt = [10, 20, 30]\n",
    "W = 50\n",
    "n = len(val)\n",
    "\n",
    "print(knapSack(W, wt, val, n))\n"
   ]
  },
  {
   "cell_type": "code",
   "execution_count": null,
   "metadata": {},
   "outputs": [],
   "source": []
  }
 ],
 "metadata": {
  "kernelspec": {
   "display_name": "Python 3",
   "language": "python",
   "name": "python3"
  },
  "language_info": {
   "codemirror_mode": {
    "name": "ipython",
    "version": 3
   },
   "file_extension": ".py",
   "mimetype": "text/x-python",
   "name": "python",
   "nbconvert_exporter": "python",
   "pygments_lexer": "ipython3",
   "version": "3.8.5"
  }
 },
 "nbformat": 4,
 "nbformat_minor": 4
}
