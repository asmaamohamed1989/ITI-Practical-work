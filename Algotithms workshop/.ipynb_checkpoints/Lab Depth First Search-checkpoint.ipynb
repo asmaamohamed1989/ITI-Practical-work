{
 "cells": [
  {
   "cell_type": "code",
   "execution_count": 4,
   "metadata": {},
   "outputs": [],
   "source": [
    "class Stack:\n",
    "    def __init__(self):\n",
    "        self.items = []\n",
    "\n",
    "    def isEmpty(self):\n",
    "         return self.items == []\n",
    "\n",
    "    def push(self, item):\n",
    "         self.items.append(item)\n",
    "\n",
    "    def pop(self):\n",
    "         return self.items.pop()\n",
    "\n",
    "    def peek(self):\n",
    "         return self.items[len(self.items)-1]\n",
    "\n",
    "    def size(self):\n",
    "         return len(self.items)\n",
    " \n",
    "\n",
    "        "
   ]
  },
  {
   "cell_type": "code",
   "execution_count": 5,
   "metadata": {},
   "outputs": [
    {
     "name": "stdout",
     "output_type": "stream",
     "text": [
      "true\n",
      "['hello']\n"
     ]
    }
   ],
   "source": [
    "s = Stack()\n",
    "s.push('hello')\n",
    "s.push('true')\n",
    "print(s.pop())\n",
    "print(s.items)"
   ]
  },
  {
   "cell_type": "code",
   "execution_count": 6,
   "metadata": {},
   "outputs": [],
   "source": [
    "class Queue:\n",
    "    def __init__(self):\n",
    "        self.items = []\n",
    "\n",
    "    def isEmpty(self):\n",
    "        return self.items == []\n",
    "\n",
    "    def push(self, item):\n",
    "        self.items.insert(0,item)\n",
    "\n",
    "    def pop(self):\n",
    "        return self.items.pop()\n",
    "\n",
    "    def size(self):\n",
    "        return len(self.items)"
   ]
  },
  {
   "cell_type": "code",
   "execution_count": 7,
   "metadata": {},
   "outputs": [
    {
     "name": "stdout",
     "output_type": "stream",
     "text": [
      "3\n",
      "[True, 'dog', 4]\n"
     ]
    }
   ],
   "source": [
    "q=Queue()\n",
    "q.push(4)\n",
    "q.push('dog')\n",
    "q.push(True)\n",
    "print(q.size())\n",
    "print(q.items)"
   ]
  },
  {
   "cell_type": "markdown",
   "metadata": {},
   "source": [
    "### DFS implementation "
   ]
  },
  {
   "cell_type": "code",
   "execution_count": 8,
   "metadata": {},
   "outputs": [],
   "source": [
    "graph = {\"a\":[\"b\",\"c\",\"e\"],\"b\":[\"a\",\"d\"],\"c\":[\"a\",\"d\",\"e\",\"f\"],\"d\":[\"b\",\"c\",\"e\"],\"e\":[\"a\",\"d\",\"c\"],\"f\":[\"c\"]}"
   ]
  },
  {
   "cell_type": "code",
   "execution_count": 9,
   "metadata": {},
   "outputs": [
    {
     "name": "stdout",
     "output_type": "stream",
     "text": [
      "a\n",
      "b\n",
      "d\n",
      "c\n",
      "e\n",
      "f\n"
     ]
    }
   ],
   "source": [
    "visited = set()\n",
    "\n",
    "def dfs(visited, graph, node):\n",
    "    if node not in visited:\n",
    "        print (node)\n",
    "        visited.add(node)\n",
    "        for neighbour in graph[node]:\n",
    "            dfs(visited, graph, neighbour)\n",
    "\n",
    "# Driver Code\n",
    "dfs(visited, graph, 'a')"
   ]
  },
  {
   "cell_type": "code",
   "execution_count": 10,
   "metadata": {},
   "outputs": [
    {
     "name": "stdout",
     "output_type": "stream",
     "text": [
      "Following is Depth First Traversal\n",
      "0 3 2 1 4 "
     ]
    }
   ],
   "source": [
    "# An Iterative Python program to do DFS traversal from\n",
    "# a given source vertex. DFS(int s) traverses vertices\n",
    "# reachable from s.\n",
    "\n",
    "# This class represents a directed graph using adjacency\n",
    "# list representation\n",
    "class Graph:\n",
    "\tdef __init__(self,V): # Constructor\n",
    "\t\tself.V = V\t # No. of vertices\n",
    "\t\tself.adj = [[] for i in range(V)] # adjacency lists\n",
    "\n",
    "\tdef addEdge(self,v, w):\t # to add an edge to graph\n",
    "\t\tself.adj[v].append(w) # Add w to v’s list.\n",
    "\n",
    "\n",
    "\t# prints all not yet visited vertices reachable from s\n",
    "\tdef DFS(self,s):\t\t # prints all vertices in DFS manner from a given source.\n",
    "\t\t\t\t\t\t\t\t# Initially mark all verices as not visited\n",
    "\t\tvisited = [False for i in range(self.V)]\n",
    "\n",
    "\t\t# Create a stack for DFS\n",
    "\t\tstack = []\n",
    "\n",
    "\t\t# Push the current source node.\n",
    "\t\tstack.append(s)\n",
    "\n",
    "\t\twhile (len(stack)):\n",
    "\t\t\t# Pop a vertex from stack and print it\n",
    "\t\t\ts = stack[-1]\n",
    "\t\t\tstack.pop()\n",
    "\n",
    "\t\t\t# Stack may contain same vertex twice. So\n",
    "\t\t\t# we need to print the popped item only\n",
    "\t\t\t# if it is not visited.\n",
    "\t\t\tif (not visited[s]):\n",
    "\t\t\t\tprint(s,end=' ')\n",
    "\t\t\t\tvisited[s] = True\n",
    "\n",
    "\t\t\t# Get all adjacent vertices of the popped vertex s\n",
    "\t\t\t# If a adjacent has not been visited, then push it\n",
    "\t\t\t# to the stack.\n",
    "\t\t\tfor node in self.adj[s]:\n",
    "\t\t\t\tif (not visited[node]):\n",
    "\t\t\t\t\tstack.append(node)\n",
    "\n",
    "\n",
    "\n",
    "# Driver program to test methods of graph class\n",
    "\n",
    "g = Graph(5); # Total 5 vertices in graph\n",
    "g.addEdge(1, 0);\n",
    "g.addEdge(0, 2);\n",
    "g.addEdge(2, 1);\n",
    "g.addEdge(0, 3);\n",
    "g.addEdge(1, 4);\n",
    "\n",
    "print(\"Following is Depth First Traversal\")\n",
    "g.DFS(0)\n",
    "\n",
    "\n"
   ]
  },
  {
   "cell_type": "code",
   "execution_count": 14,
   "metadata": {},
   "outputs": [],
   "source": [
    "def dfs(G,elememt):\n",
    "    visited = []\n",
    "    s = Stack(10)\n",
    "    s.push(elememt)\n",
    "    explored = []\n",
    "    # is Empty\n",
    "    while not s.isEmpty():\n",
    "        node = s.pull()\n",
    "        if not node in visited:\n",
    "            explored.append(node)\n",
    "            print('explored: ',explored)\n",
    "            visited.append(node)\n",
    "            print('visited:' ,visited)\n",
    "            \n",
    "            for val in G[node]:\n",
    "                s.push(val)"
   ]
  },
  {
   "cell_type": "code",
   "execution_count": 15,
   "metadata": {},
   "outputs": [],
   "source": [
    "G = {\"a\":[\"b\",\"c\",\"e\"],\"b\":[\"a\",\"d\"],\"c\":[\"a\",\"d\",\"e\",\"f\"],\"d\":[\"b\",\"c\",\"e\"],\"e\":[\"a\",\"d\",\"c\"],\"f\":[\"c\"]}"
   ]
  },
  {
   "cell_type": "markdown",
   "metadata": {},
   "source": [
    "### BFS Algorithm"
   ]
  },
  {
   "cell_type": "code",
   "execution_count": null,
   "metadata": {},
   "outputs": [],
   "source": [
    "graph = {\n",
    "    'a': ['b','c','e'],\n",
    "    'b': ['a','d'],\n",
    "    'c': ['a','e','d','f'],\n",
    "    'd': ['b','c','e'],\n",
    "    'e': ['a','c','d'],\n",
    "    'f': ['c'],\n",
    "    }\n",
    "# print(graph['a'])\n",
    "\n",
    "def bfs(graph,start):\n",
    "    list_of_nodes = list(graph.keys())\n",
    "    nodes_to_visit_queue = Queue(len(list_of_nodes))\n",
    "    nodes_to_visit_queue.push(start)\n",
    "    visited_nodes = []\n",
    "    inner_list = []\n",
    "    for i in range(len(list_of_nodes)):\n",
    "        if nodes_to_visit_queue.is_empty():\n",
    "            break\n",
    "        start = nodes_to_visit_queue.pop()\n",
    "        print('start',start)\n",
    "        inner_list = list(graph[start])\n",
    "        visited_nodes.append(start)\n",
    "        \n",
    "        print('visited_nodes',visited_nodes)\n",
    "        \n",
    "        for j in inner_list:\n",
    "            if j not in visited_nodes and j not in nodes_to_visit_queue.arr:\n",
    "                nodes_to_visit_queue.push(j)\n",
    "        print('nodes_to_visit_stack',nodes_to_visit_queue.arr)\n",
    "                \n",
    "bfs(graph,'a')        \n",
    "    "
   ]
  }
 ],
 "metadata": {
  "kernelspec": {
   "display_name": "Python 3",
   "language": "python",
   "name": "python3"
  },
  "language_info": {
   "codemirror_mode": {
    "name": "ipython",
    "version": 3
   },
   "file_extension": ".py",
   "mimetype": "text/x-python",
   "name": "python",
   "nbconvert_exporter": "python",
   "pygments_lexer": "ipython3",
   "version": "3.8.5"
  }
 },
 "nbformat": 4,
 "nbformat_minor": 4
}
