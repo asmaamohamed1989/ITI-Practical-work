{
 "cells": [
  {
   "cell_type": "markdown",
   "metadata": {},
   "source": [
    "### Read Data"
   ]
  },
  {
   "cell_type": "code",
   "execution_count": 20,
   "metadata": {},
   "outputs": [],
   "source": [
    "import pandas as pd\n",
    "class ReadData:\n",
    "\n",
    "    def __init__(self, weight, value):\n",
    "        self.weight = weight\n",
    "        self.value = value\n",
    "        self.value_per_weight = [self.value[i] / self.weight[i] for i in range(len(self.weight))]\n",
    "\n",
    "    def create_dataframe(self):\n",
    "        items = {\"Weight\": self.weight,\n",
    "                 \"Value\": self.value,\n",
    "                 \"Value Per Weight\": self.value_per_weight\n",
    "                 }\n",
    "        return pd.DataFrame.from_dict(items)"
   ]
  },
  {
   "cell_type": "code",
   "execution_count": 21,
   "metadata": {},
   "outputs": [],
   "source": [
    "class FractionalKnapSack:\n",
    "\n",
    "    @staticmethod\n",
    "    def get_max_profit(df, capacity):\n",
    "        total_value = 0\n",
    "        df.sort_values(by='Value', ascending=False)\n",
    "        for _ in df:\n",
    "            if capacity - df['Weight'] >= 0:\n",
    "                total_value += df['Value']\n",
    "            else:\n",
    "                fraction = capacity / df['Weight']\n",
    "                total_value += df['Value'] * fraction\n",
    "                break\n",
    "        return total_value\n",
    "\n",
    "    @staticmethod\n",
    "    def get_minimum_weight(df, capacity):\n",
    "        total_value = 0\n",
    "        df.sort_values(by='Weight')\n",
    "        for _ in df:\n",
    "            if capacity - df['Weight'] >= 0:\n",
    "                total_value += df['Value']\n",
    "            else:\n",
    "                fraction = capacity / df['Weight']\n",
    "                total_value += df['Value'] * fraction\n",
    "                break\n",
    "        return total_value\n",
    "\n",
    "    @staticmethod\n",
    "    def get_maximum_profit_over_weight(df, capacity):\n",
    "        total_value = 0\n",
    "        df.sort_values(by='Value Per Weight')\n",
    "        for _ in df:\n",
    "            if capacity - df['Weight'] >= 0:\n",
    "                total_value += df['Value']\n",
    "            else:\n",
    "                fraction = capacity / df['Weight']\n",
    "                total_value += df['Value'] * fraction\n",
    "                break\n",
    "        return total_value"
   ]
  },
  {
   "cell_type": "code",
   "execution_count": 22,
   "metadata": {},
   "outputs": [],
   "source": [
    "\n",
    "class HomeScreenMenu:\n",
    "\n",
    "    def __init__(self, choice):\n",
    "        self.choice = choice\n",
    "        self.menu_sub = {\n",
    "                    \"1\": \"A\",\n",
    "                    \"2\": \"B\",\n",
    "                    \"3\": \"C\",\n",
    "                    \"4\": \"D\",\n",
    "                }\n",
    "        self.menu_choices = {\n",
    "            \"1\": {\n",
    "                \"1\": self.menu_sub,\n",
    "                \"2\": self.menu_sub\n",
    "            },\n",
    "            \"2\": \"C\",\n",
    "            \"3\": False,\n",
    "        }\n",
    "        # self.menu()\n",
    "\n",
    "    # 1 - The type of Knapsack(Fractional - I / 0)\n",
    "    # 2 - The cost function based on(Maximum Profit - Minimum Weight - Maximum Profit / Weight - All)\n",
    "    # 3 - Update the objects and the maximum weight of the knapsack(constraint)\n",
    "    # 4 - Close the program\n",
    "\n",
    "    def menu(self):\n",
    "        if self.choice in self.menu_choices:\n",
    "            if self.choice == \"1\":\n",
    "                function_choice = input(\"1- Fractional Knapsack\\n2- I/O Knapsack\\n\")\n",
    "                if function_choice in [\"1\", \"2\"]:\n",
    "                    choice = input(\"1- Maximum Profit\\n2- Minimum Weight\\n3- Maximum Profit / Weight\\n4- All\\n\")\n",
    "                    if choice in self.menu_sub:\n",
    "                        pass\n",
    "                    else:\n",
    "                        print(\"Entered a wrong choice please try again.\")\n",
    "                        return True\n",
    "                else:\n",
    "                    print(\"Entered a wrong choice please try again.\")\n",
    "                    return True\n",
    "            else:\n",
    "                return self.menu_choices[self.choice]\n",
    "        else:\n",
    "            print(\"Entered a wrong choice please try again.\")\n",
    "            return True"
   ]
  },
  {
   "cell_type": "code",
   "execution_count": 23,
   "metadata": {},
   "outputs": [],
   "source": [
    "class IOKnapSack:\n",
    "    pass"
   ]
  },
  {
   "cell_type": "code",
   "execution_count": 24,
   "metadata": {},
   "outputs": [
    {
     "name": "stdout",
     "output_type": "stream",
     "text": [
      "1- Fractional Knapsack OR I/O Knapsack\n",
      "2- Update input Data\n",
      "3- Exit\n",
      "1\n",
      "1- Fractional Knapsack\n",
      "2- I/O Knapsack\n",
      "2\n",
      "1- Maximum Profit\n",
      "2- Minimum Weight\n",
      "3- Maximum Profit / Weight\n",
      "4- All\n",
      "3\n",
      "   Weight  Value  Value Per Weight\n",
      "0       1      1               1.0\n",
      "1       2      2               1.0\n",
      "2       3      3               1.0\n",
      "3       4      4               1.0\n",
      "4       5      5               1.0\n",
      "5       6      6               1.0\n",
      "6       7      7               1.0\n",
      "7       8      8               1.0\n"
     ]
    }
   ],
   "source": [
    "\n",
    "\n",
    "weight = [1, 2, 3, 4, 5, 6, 7, 8]\n",
    "value = [1, 2, 3, 4, 5, 6, 7, 8]\n",
    "read_data = ReadData(weight, value)\n",
    "\n",
    "\n",
    "on = True\n",
    "while on:\n",
    "    user_choice = input(\"1- Fractional Knapsack OR I/O Knapsack\\n\"\n",
    "                        \"2- Update input Data\\n\"\n",
    "                        \"3- Exit\\n\")\n",
    "    on = HomeScreenMenu(user_choice).menu()\n",
    "print(read_data.create_dataframe())"
   ]
  },
  {
   "cell_type": "code",
   "execution_count": null,
   "metadata": {},
   "outputs": [],
   "source": []
  }
 ],
 "metadata": {
  "kernelspec": {
   "display_name": "Python 3",
   "language": "python",
   "name": "python3"
  },
  "language_info": {
   "codemirror_mode": {
    "name": "ipython",
    "version": 3
   },
   "file_extension": ".py",
   "mimetype": "text/x-python",
   "name": "python",
   "nbconvert_exporter": "python",
   "pygments_lexer": "ipython3",
   "version": "3.8.5"
  }
 },
 "nbformat": 4,
 "nbformat_minor": 4
}
