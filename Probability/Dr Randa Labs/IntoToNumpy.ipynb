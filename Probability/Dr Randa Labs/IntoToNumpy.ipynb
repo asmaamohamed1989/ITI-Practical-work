{
 "cells": [
  {
   "cell_type": "markdown",
   "metadata": {
    "id": "a8aP0LsHrCMF"
   },
   "source": [
    "# Introduction to Numpy (Numerical Python)\n",
    "This notebook introduces the main functions of Numpy library essential for coding linear algebra problems in Python\n",
    "\n",
    "One dimensional array (Vectors)\n",
    "1. Creating 1D array (vector)\n",
    "2. Retrieving the array information\n",
    "3. Basic vector (elementwise) operations\n",
    "4. Indexing, Slicing and Iterating One dimensional array\n",
    "5. Operations on vectors\n",
    "\n",
    "Two dimensional arrays (Matrices)\n",
    "1. Creating a matrix\n",
    "2. Operations on matrices\n",
    "3. Printing multidimensional array\n",
    "4. Indexing, Slicing and Iterating two dimensional array\n",
    "5. Changing the shape of a multidimensional array\n",
    "\n",
    "Examples credit to Numpy documentation: https://numpy.org/doc/stable/user/quickstart.html"
   ]
  },
  {
   "cell_type": "code",
   "execution_count": 1,
   "metadata": {
    "id": "yrITNUDfrCMK"
   },
   "outputs": [],
   "source": [
    "import numpy as np  #First you need to import the numpy library"
   ]
  },
  {
   "cell_type": "markdown",
   "metadata": {
    "id": "69IxjhoKrCML"
   },
   "source": [
    "## Creating 1D array (vector)\n",
    "There are several ways to create a numpy array. \n",
    "\n",
    "I. Create an array from scratch specifying all the elements in advance:"
   ]
  },
  {
   "cell_type": "code",
   "execution_count": 2,
   "metadata": {
    "id": "aEEG3UFzrCML"
   },
   "outputs": [],
   "source": [
    "a = np.array([2,3,4])"
   ]
  },
  {
   "cell_type": "code",
   "execution_count": 3,
   "metadata": {
    "colab": {
     "base_uri": "https://localhost:8080/"
    },
    "id": "_MT7T9YGrCMM",
    "outputId": "3bdb8496-ea6e-47a3-a89c-b3cd992ee4cd"
   },
   "outputs": [
    {
     "data": {
      "text/plain": [
       "array([2, 3, 4])"
      ]
     },
     "execution_count": 3,
     "metadata": {},
     "output_type": "execute_result"
    }
   ],
   "source": [
    "a"
   ]
  },
  {
   "cell_type": "code",
   "execution_count": 4,
   "metadata": {
    "colab": {
     "base_uri": "https://localhost:8080/"
    },
    "id": "U9ugnXMNrCMN",
    "outputId": "1ee29721-5847-4f45-f0f5-7f85fdf32205"
   },
   "outputs": [
    {
     "data": {
      "text/plain": [
       "numpy.ndarray"
      ]
     },
     "execution_count": 4,
     "metadata": {},
     "output_type": "execute_result"
    }
   ],
   "source": [
    "type(a)"
   ]
  },
  {
   "cell_type": "code",
   "execution_count": 5,
   "metadata": {
    "id": "pywktWtwrCMO"
   },
   "outputs": [],
   "source": [
    "b = np.array([1.2, 3.5, 5.1])"
   ]
  },
  {
   "cell_type": "code",
   "execution_count": 6,
   "metadata": {
    "colab": {
     "base_uri": "https://localhost:8080/"
    },
    "id": "sS_pOeQerCMO",
    "outputId": "1d5d88e8-d010-459e-e6dd-3762d4bca427"
   },
   "outputs": [
    {
     "data": {
      "text/plain": [
       "array([1.2, 3.5, 5.1])"
      ]
     },
     "execution_count": 6,
     "metadata": {},
     "output_type": "execute_result"
    }
   ],
   "source": [
    "b"
   ]
  },
  {
   "cell_type": "markdown",
   "metadata": {
    "id": "Stt7vQAerCMO"
   },
   "source": [
    "II. Creating arrays using built in methods"
   ]
  },
  {
   "cell_type": "code",
   "execution_count": 7,
   "metadata": {
    "colab": {
     "base_uri": "https://localhost:8080/"
    },
    "id": "UoAxOrOyrCMP",
    "outputId": "9f14eac2-ea19-4299-ca44-7a3fbb022e6d"
   },
   "outputs": [
    {
     "data": {
      "text/plain": [
       "array([0., 0.])"
      ]
     },
     "execution_count": 7,
     "metadata": {},
     "output_type": "execute_result"
    }
   ],
   "source": [
    "np.zeros(2)"
   ]
  },
  {
   "cell_type": "code",
   "execution_count": 8,
   "metadata": {
    "colab": {
     "base_uri": "https://localhost:8080/"
    },
    "id": "2rZTcgc0rCMP",
    "outputId": "407fbe72-414d-4193-b877-3f355a9887b1"
   },
   "outputs": [
    {
     "data": {
      "text/plain": [
       "array([1., 1., 1.])"
      ]
     },
     "execution_count": 8,
     "metadata": {},
     "output_type": "execute_result"
    }
   ],
   "source": [
    "np.ones(3)"
   ]
  },
  {
   "cell_type": "code",
   "execution_count": 9,
   "metadata": {
    "colab": {
     "base_uri": "https://localhost:8080/"
    },
    "id": "RbgO8rR9rCMQ",
    "outputId": "74683238-f27b-42e7-982c-116f2214956b"
   },
   "outputs": [
    {
     "data": {
      "text/plain": [
       "array([4.67065214e-310, 0.00000000e+000, 6.90315011e-310, 6.90315011e-310,\n",
       "       2.37151510e-322])"
      ]
     },
     "execution_count": 9,
     "metadata": {},
     "output_type": "execute_result"
    }
   ],
   "source": [
    "# Create an empty array with 5 elements\n",
    "np.empty(5)"
   ]
  },
  {
   "cell_type": "markdown",
   "metadata": {
    "id": "Vb_35LD0rCMQ"
   },
   "source": [
    "You can also create an array of evenly spaced content by specifying the first number, last number, and the step size."
   ]
  },
  {
   "cell_type": "code",
   "execution_count": 10,
   "metadata": {
    "id": "pNPPMTHMrCMQ"
   },
   "outputs": [],
   "source": [
    "A = np.arange( 10, 30, 5 )"
   ]
  },
  {
   "cell_type": "code",
   "execution_count": 11,
   "metadata": {
    "id": "iOmuH_-NrCMR"
   },
   "outputs": [],
   "source": [
    "B = np.arange( 0, 2, 0.3 )"
   ]
  },
  {
   "cell_type": "code",
   "execution_count": 12,
   "metadata": {
    "colab": {
     "base_uri": "https://localhost:8080/"
    },
    "id": "tNMeo2UgrCMR",
    "outputId": "f13678d4-f826-459f-e8f3-0da56d117dcc"
   },
   "outputs": [
    {
     "data": {
      "text/plain": [
       "4"
      ]
     },
     "execution_count": 12,
     "metadata": {},
     "output_type": "execute_result"
    }
   ],
   "source": [
    "A.size"
   ]
  },
  {
   "cell_type": "code",
   "execution_count": 13,
   "metadata": {
    "colab": {
     "base_uri": "https://localhost:8080/"
    },
    "id": "36w26vxTrCMR",
    "outputId": "ef25e42c-af11-424e-86ef-132ef4488a8d"
   },
   "outputs": [
    {
     "data": {
      "text/plain": [
       "7"
      ]
     },
     "execution_count": 13,
     "metadata": {},
     "output_type": "execute_result"
    }
   ],
   "source": [
    "B.size"
   ]
  },
  {
   "cell_type": "code",
   "execution_count": 14,
   "metadata": {},
   "outputs": [
    {
     "data": {
      "text/plain": [
       "array([10, 15, 20, 25])"
      ]
     },
     "execution_count": 14,
     "metadata": {},
     "output_type": "execute_result"
    }
   ],
   "source": [
    "A"
   ]
  },
  {
   "cell_type": "markdown",
   "metadata": {
    "id": "-F1_qp7_rCMR"
   },
   "source": [
    "It is generally not possible to predict the number of elements obtained\n",
    "It is usually better to use the function \"linspace\" that receives as an argument the number of elements that we want, instead of the step.It creates an array with values that are spaced linearly in a specified interval:"
   ]
  },
  {
   "cell_type": "code",
   "execution_count": 15,
   "metadata": {
    "colab": {
     "base_uri": "https://localhost:8080/"
    },
    "id": "nI02tvEsrCMS",
    "outputId": "8e3ec5c1-e58a-41ad-e60a-4d23000a6159"
   },
   "outputs": [
    {
     "data": {
      "text/plain": [
       "array([0.  , 0.25, 0.5 , 0.75, 1.  , 1.25, 1.5 , 1.75, 2.  ])"
      ]
     },
     "execution_count": 15,
     "metadata": {},
     "output_type": "execute_result"
    }
   ],
   "source": [
    "np.linspace( 0, 2, 9 )"
   ]
  },
  {
   "cell_type": "code",
   "execution_count": 16,
   "metadata": {
    "colab": {
     "base_uri": "https://localhost:8080/"
    },
    "id": "cF-BG5gorCMS",
    "outputId": "475a1fdc-b355-4e73-c177-63545ccdeb47"
   },
   "outputs": [
    {
     "name": "stdout",
     "output_type": "stream",
     "text": [
      "[ 0.00000000e+00  6.34239197e-02  1.26592454e-01  1.89251244e-01\n",
      "  2.51147987e-01  3.12033446e-01  3.71662456e-01  4.29794912e-01\n",
      "  4.86196736e-01  5.40640817e-01  5.92907929e-01  6.42787610e-01\n",
      "  6.90079011e-01  7.34591709e-01  7.76146464e-01  8.14575952e-01\n",
      "  8.49725430e-01  8.81453363e-01  9.09631995e-01  9.34147860e-01\n",
      "  9.54902241e-01  9.71811568e-01  9.84807753e-01  9.93838464e-01\n",
      "  9.98867339e-01  9.99874128e-01  9.96854776e-01  9.89821442e-01\n",
      "  9.78802446e-01  9.63842159e-01  9.45000819e-01  9.22354294e-01\n",
      "  8.95993774e-01  8.66025404e-01  8.32569855e-01  7.95761841e-01\n",
      "  7.55749574e-01  7.12694171e-01  6.66769001e-01  6.18158986e-01\n",
      "  5.67059864e-01  5.13677392e-01  4.58226522e-01  4.00930535e-01\n",
      "  3.42020143e-01  2.81732557e-01  2.20310533e-01  1.58001396e-01\n",
      "  9.50560433e-02  3.17279335e-02 -3.17279335e-02 -9.50560433e-02\n",
      " -1.58001396e-01 -2.20310533e-01 -2.81732557e-01 -3.42020143e-01\n",
      " -4.00930535e-01 -4.58226522e-01 -5.13677392e-01 -5.67059864e-01\n",
      " -6.18158986e-01 -6.66769001e-01 -7.12694171e-01 -7.55749574e-01\n",
      " -7.95761841e-01 -8.32569855e-01 -8.66025404e-01 -8.95993774e-01\n",
      " -9.22354294e-01 -9.45000819e-01 -9.63842159e-01 -9.78802446e-01\n",
      " -9.89821442e-01 -9.96854776e-01 -9.99874128e-01 -9.98867339e-01\n",
      " -9.93838464e-01 -9.84807753e-01 -9.71811568e-01 -9.54902241e-01\n",
      " -9.34147860e-01 -9.09631995e-01 -8.81453363e-01 -8.49725430e-01\n",
      " -8.14575952e-01 -7.76146464e-01 -7.34591709e-01 -6.90079011e-01\n",
      " -6.42787610e-01 -5.92907929e-01 -5.40640817e-01 -4.86196736e-01\n",
      " -4.29794912e-01 -3.71662456e-01 -3.12033446e-01 -2.51147987e-01\n",
      " -1.89251244e-01 -1.26592454e-01 -6.34239197e-02 -2.44929360e-16]\n"
     ]
    }
   ],
   "source": [
    "from numpy import pi\n",
    "x = np.linspace( 0, 2*pi, 100 )\n",
    "f = np.sin(x)\n",
    "print(f)"
   ]
  },
  {
   "cell_type": "markdown",
   "metadata": {
    "id": "Nk5JEdtWrCMT"
   },
   "source": [
    "These are sorted arrays but it this is not the case you can use np.sort() to sort it"
   ]
  },
  {
   "cell_type": "markdown",
   "metadata": {
    "id": "FLpbDnljrCMT"
   },
   "source": [
    "III. Creating an array by combining other arrays"
   ]
  },
  {
   "cell_type": "code",
   "execution_count": 17,
   "metadata": {
    "id": "mHx6bv35rCMT"
   },
   "outputs": [],
   "source": [
    "a = np.array([1, 2, 3, 4])\n",
    "b = np.array([5, 6, 7, 8])"
   ]
  },
  {
   "cell_type": "code",
   "execution_count": 18,
   "metadata": {
    "colab": {
     "base_uri": "https://localhost:8080/"
    },
    "id": "1B61oQaTrCMU",
    "outputId": "04ed5b66-806a-43d0-ce7b-4c1b52ef0d56"
   },
   "outputs": [
    {
     "data": {
      "text/plain": [
       "array([1, 2, 3, 4, 5, 6, 7, 8])"
      ]
     },
     "execution_count": 18,
     "metadata": {},
     "output_type": "execute_result"
    }
   ],
   "source": [
    "np.concatenate((a, b))"
   ]
  },
  {
   "cell_type": "markdown",
   "metadata": {
    "id": "OEQJz1cCrCMU"
   },
   "source": [
    "## Retrieving the array information\n",
    "Getting information about the numpy aray size and content"
   ]
  },
  {
   "cell_type": "code",
   "execution_count": 19,
   "metadata": {
    "colab": {
     "base_uri": "https://localhost:8080/"
    },
    "id": "P8ZXm4d2rCMV",
    "outputId": "dca0f8e2-98ca-4466-a693-5548444f2fe8"
   },
   "outputs": [
    {
     "data": {
      "text/plain": [
       "1"
      ]
     },
     "execution_count": 19,
     "metadata": {},
     "output_type": "execute_result"
    }
   ],
   "source": [
    "a.ndim   #returns the number of dimensions of the array"
   ]
  },
  {
   "cell_type": "code",
   "execution_count": 20,
   "metadata": {
    "colab": {
     "base_uri": "https://localhost:8080/"
    },
    "id": "xT_nmMPorCMV",
    "outputId": "3a830f05-7790-4ef0-d0f0-3ad59d300cf9"
   },
   "outputs": [
    {
     "data": {
      "text/plain": [
       "4"
      ]
     },
     "execution_count": 20,
     "metadata": {},
     "output_type": "execute_result"
    }
   ],
   "source": [
    "a.size   #returns the total number of elements of the array. This is equal to the product of the elements of shape."
   ]
  },
  {
   "cell_type": "code",
   "execution_count": 21,
   "metadata": {
    "colab": {
     "base_uri": "https://localhost:8080/"
    },
    "id": "sgEzw03jrCMW",
    "outputId": "09f4353d-db58-4f3c-9eda-8ec8891d0615"
   },
   "outputs": [
    {
     "data": {
      "text/plain": [
       "(4,)"
      ]
     },
     "execution_count": 21,
     "metadata": {},
     "output_type": "execute_result"
    }
   ],
   "source": [
    "a.shape   #returns the size of the array in each dimension"
   ]
  },
  {
   "cell_type": "code",
   "execution_count": 22,
   "metadata": {
    "colab": {
     "base_uri": "https://localhost:8080/"
    },
    "id": "FZlnNGuVrCMW",
    "outputId": "ab3d774f-e128-4cbb-f11f-7330d6cbc79e"
   },
   "outputs": [
    {
     "data": {
      "text/plain": [
       "dtype('int64')"
      ]
     },
     "execution_count": 22,
     "metadata": {},
     "output_type": "execute_result"
    }
   ],
   "source": [
    "a.dtype   #returns the type of the elements in the array"
   ]
  },
  {
   "cell_type": "code",
   "execution_count": 23,
   "metadata": {
    "colab": {
     "base_uri": "https://localhost:8080/"
    },
    "id": "IInw49tJrCMW",
    "outputId": "76a6e259-6675-4409-bc3f-25b0494d6309"
   },
   "outputs": [
    {
     "data": {
      "text/plain": [
       "dtype('int64')"
      ]
     },
     "execution_count": 23,
     "metadata": {},
     "output_type": "execute_result"
    }
   ],
   "source": [
    "b.dtype"
   ]
  },
  {
   "cell_type": "markdown",
   "metadata": {
    "id": "e_hbd_8rrCMX"
   },
   "source": [
    "Creating row and column vectors"
   ]
  },
  {
   "cell_type": "code",
   "execution_count": 24,
   "metadata": {
    "colab": {
     "base_uri": "https://localhost:8080/"
    },
    "id": "f7W6YV8DrCMX",
    "outputId": "1f5e3181-d2b1-4cf0-c898-e5b19d4600c8"
   },
   "outputs": [
    {
     "data": {
      "text/plain": [
       "(6,)"
      ]
     },
     "execution_count": 24,
     "metadata": {},
     "output_type": "execute_result"
    }
   ],
   "source": [
    "a = np.array([1, 2, 3, 4, 5, 6])\n",
    "a.shape"
   ]
  },
  {
   "cell_type": "code",
   "execution_count": 25,
   "metadata": {
    "colab": {
     "base_uri": "https://localhost:8080/"
    },
    "id": "W-BAySNUrCMX",
    "outputId": "8d15cb21-6032-448d-ac1b-6d95183b528b"
   },
   "outputs": [
    {
     "data": {
      "text/plain": [
       "(1, 6)"
      ]
     },
     "execution_count": 25,
     "metadata": {},
     "output_type": "execute_result"
    }
   ],
   "source": [
    "row_vector = a[np.newaxis, :]\n",
    "row_vector.shape"
   ]
  },
  {
   "cell_type": "code",
   "execution_count": 26,
   "metadata": {
    "colab": {
     "base_uri": "https://localhost:8080/"
    },
    "id": "-xSgxOMrrCMX",
    "outputId": "b292d8c7-eb97-4440-da29-b1dd53d38c28"
   },
   "outputs": [
    {
     "data": {
      "text/plain": [
       "(6, 1)"
      ]
     },
     "execution_count": 26,
     "metadata": {},
     "output_type": "execute_result"
    }
   ],
   "source": [
    "col_vector = a[:, np.newaxis]\n",
    "col_vector.shape\n"
   ]
  },
  {
   "cell_type": "code",
   "execution_count": 27,
   "metadata": {
    "colab": {
     "base_uri": "https://localhost:8080/"
    },
    "id": "x-Fz1AAYrCMY",
    "outputId": "e9742e23-296c-4ac2-f3f0-3dd390df169a"
   },
   "outputs": [
    {
     "data": {
      "text/plain": [
       "(6, 1)"
      ]
     },
     "execution_count": 27,
     "metadata": {},
     "output_type": "execute_result"
    }
   ],
   "source": [
    "b = np.expand_dims(a, axis=1)\n",
    "b.shape\n"
   ]
  },
  {
   "cell_type": "code",
   "execution_count": 28,
   "metadata": {
    "colab": {
     "base_uri": "https://localhost:8080/"
    },
    "id": "V1zO4SlJrCMY",
    "outputId": "d9caef80-8d75-4c0c-be94-396a4b92dfa9"
   },
   "outputs": [
    {
     "data": {
      "text/plain": [
       "(1, 6)"
      ]
     },
     "execution_count": 28,
     "metadata": {},
     "output_type": "execute_result"
    }
   ],
   "source": [
    "c = np.expand_dims(a, axis=0)\n",
    "c.shape\n"
   ]
  },
  {
   "cell_type": "markdown",
   "metadata": {
    "id": "nWFzezggrCMY"
   },
   "source": [
    "There are some methods of manipulating 1D array for better codeing, see (unique, transpose, flip, )"
   ]
  },
  {
   "cell_type": "markdown",
   "metadata": {
    "id": "ka_mPzigrCMZ"
   },
   "source": [
    "## Basic vector (elementwise) operations"
   ]
  },
  {
   "cell_type": "code",
   "execution_count": 29,
   "metadata": {
    "colab": {
     "base_uri": "https://localhost:8080/"
    },
    "id": "hJlazjBYrCMZ",
    "outputId": "356973c7-32a7-409f-c9d6-749ffa131f63"
   },
   "outputs": [
    {
     "name": "stdout",
     "output_type": "stream",
     "text": [
      "[0 1 2 3]\n",
      "[20 29 38 47]\n",
      "[0 1 2 3]\n",
      "[200 300 400 500]\n",
      "[ True  True False False]\n"
     ]
    }
   ],
   "source": [
    "a = np.array( [20,30,40,50] )\n",
    "b = np.arange( 4 )\n",
    "print(b)\n",
    "\n",
    "c = a-b            # Subtraction of two vectors \n",
    "print(c)\n",
    "\n",
    "b**2               # Squaring vector elements\n",
    "print(b)\n",
    "\n",
    "d = 10*a           # muliplication with a scalar\n",
    "print(d)\n",
    "\n",
    "print(a<35)        # Logical operations\n"
   ]
  },
  {
   "cell_type": "markdown",
   "metadata": {
    "id": "Z1eON6sMrCMZ"
   },
   "source": [
    "NumPy provides familiar mathematical functions such as sin, cos, and exp, etc. called \"Universal functions\""
   ]
  },
  {
   "cell_type": "code",
   "execution_count": 30,
   "metadata": {
    "colab": {
     "base_uri": "https://localhost:8080/"
    },
    "id": "KTRZO3D0rCMZ",
    "outputId": "90c1522c-a87d-4480-ff7e-dc3ee1989daa"
   },
   "outputs": [
    {
     "name": "stdout",
     "output_type": "stream",
     "text": [
      "[0 1 2]\n",
      "[1.         2.71828183 7.3890561 ]\n",
      "[0.         1.         1.41421356]\n",
      "[0.         0.84147098 0.90929743]\n",
      "[2. 0. 6.]\n"
     ]
    }
   ],
   "source": [
    "B = np.arange(3)\n",
    "print(B)\n",
    "\n",
    "print(np.exp(B))\n",
    "\n",
    "print(np.sqrt(B))\n",
    "\n",
    "print(np.sin(B))   \n",
    "\n",
    "C = np.array([2., -1., 4.])\n",
    "print(np.add(B, C))\n"
   ]
  },
  {
   "cell_type": "markdown",
   "metadata": {
    "id": "EZ4CUoKIrCMa"
   },
   "source": [
    "Try these functions as well:\n",
    "\n",
    "all, any, apply_along_axis, argmax, argmin, argsort, average, bincount, ceil, clip, conj, corrcoef, cov, cross, cumprod, cumsum, diff, dot, floor, inner, invert, lexsort, max, maximum, mean, median, min, minimum, nonzero, outer, prod, re, round, sort, std, sum, trace, transpose, var, vdot, vectorize, where\n",
    "\n"
   ]
  },
  {
   "cell_type": "markdown",
   "metadata": {
    "id": "D7DiD-I-rCMa"
   },
   "source": [
    "## Indexing, Slicing and Iterating One dimensional array"
   ]
  },
  {
   "cell_type": "code",
   "execution_count": 31,
   "metadata": {
    "colab": {
     "base_uri": "https://localhost:8080/"
    },
    "id": "nShRJBaFrCMa",
    "outputId": "c0947b90-a130-4f7a-85c3-c7db338cf631"
   },
   "outputs": [
    {
     "name": "stdout",
     "output_type": "stream",
     "text": [
      "[  0   1   8  27  64 125 216 343 512 729]\n",
      "8\n",
      "[ 8 27 64]\n"
     ]
    }
   ],
   "source": [
    "a = np.arange(10)**3\n",
    "print(a)\n",
    "\n",
    "print(a[2])\n",
    "\n",
    "print(a[2:5])"
   ]
  },
  {
   "cell_type": "code",
   "execution_count": 32,
   "metadata": {
    "colab": {
     "base_uri": "https://localhost:8080/"
    },
    "id": "JHhakqP1rCMb",
    "outputId": "7eb3e3c0-c4fe-455e-de8d-70118397f7c6"
   },
   "outputs": [
    {
     "name": "stdout",
     "output_type": "stream",
     "text": [
      "[1000    1 1000   27 1000  125  216  343  512  729]\n"
     ]
    }
   ],
   "source": [
    "# equivalent to a[0:6:2] = 1000;\n",
    "# from start to position 6, exclusive, set every 2nd element to 1000\n",
    "a[:6:2] = 1000\n",
    "print(a)\n"
   ]
  },
  {
   "cell_type": "code",
   "execution_count": 33,
   "metadata": {
    "colab": {
     "base_uri": "https://localhost:8080/"
    },
    "id": "B4fcEpjTrCMb",
    "outputId": "6f0d23cc-6b20-49e1-8310-ff3546966418"
   },
   "outputs": [
    {
     "name": "stdout",
     "output_type": "stream",
     "text": [
      "[1000    1 1000   27 1000  125  216  343  512  729]\n",
      "9.999999999999998\n",
      "1.0\n",
      "9.999999999999998\n",
      "3.0\n",
      "9.999999999999998\n",
      "4.999999999999999\n",
      "5.999999999999999\n",
      "6.999999999999999\n",
      "7.999999999999999\n",
      "8.999999999999998\n"
     ]
    }
   ],
   "source": [
    "a[ : :-1]                                 # reversed a\n",
    "print(a)\n",
    "      \n",
    "for i in a:\n",
    "    print(i**(1/3.))"
   ]
  },
  {
   "cell_type": "markdown",
   "metadata": {
    "id": "03yG3FuVrCMb"
   },
   "source": [
    "## Operations on vectors\n"
   ]
  },
  {
   "cell_type": "code",
   "execution_count": 34,
   "metadata": {
    "colab": {
     "base_uri": "https://localhost:8080/"
    },
    "id": "VpwPDZ2lrCMb",
    "outputId": "98430064-9361-4e86-d822-0b8bbfa94f29"
   },
   "outputs": [
    {
     "name": "stdout",
     "output_type": "stream",
     "text": [
      "[ 8. 10.]\n",
      "[ 8. 10.]\n"
     ]
    }
   ],
   "source": [
    "x = np.array([1,2], dtype=np.float64)\n",
    "y = np.array([7,8], dtype=np.float64)\n",
    "\n",
    "# Elementwise sum; both produce the array\n",
    "print(x + y)\n",
    "print(np.add(x, y))"
   ]
  },
  {
   "cell_type": "code",
   "execution_count": 35,
   "metadata": {
    "colab": {
     "base_uri": "https://localhost:8080/"
    },
    "id": "3rnZrpDZrCMc",
    "outputId": "5ed0d1e3-fde9-4adf-97b0-d0c6f8b46400"
   },
   "outputs": [
    {
     "name": "stdout",
     "output_type": "stream",
     "text": [
      "[-6. -6.]\n",
      "[-6. -6.]\n"
     ]
    }
   ],
   "source": [
    "# Elementwise difference; both produce the array\n",
    "print(x - y)\n",
    "print(np.subtract(x, y))"
   ]
  },
  {
   "cell_type": "code",
   "execution_count": 36,
   "metadata": {
    "colab": {
     "base_uri": "https://localhost:8080/"
    },
    "id": "zaxP5GuGrCMc",
    "outputId": "980103ae-6601-4add-ee11-55e9157d84e6"
   },
   "outputs": [
    {
     "name": "stdout",
     "output_type": "stream",
     "text": [
      "[ 7. 16.]\n",
      "[ 7. 16.]\n"
     ]
    }
   ],
   "source": [
    "# Elementwise product; both produce the array\n",
    "print(x * y)\n",
    "print(np.multiply(x, y))"
   ]
  },
  {
   "cell_type": "code",
   "execution_count": 37,
   "metadata": {
    "colab": {
     "base_uri": "https://localhost:8080/"
    },
    "id": "8duSa-2GrCMc",
    "outputId": "69be73a7-dd63-4e55-be45-c51daa72efc5"
   },
   "outputs": [
    {
     "name": "stdout",
     "output_type": "stream",
     "text": [
      "[0.14285714 0.25      ]\n",
      "[0.14285714 0.25      ]\n"
     ]
    }
   ],
   "source": [
    "# Elementwise division\n",
    "print(x / y)\n",
    "print(np.divide(x, y))"
   ]
  },
  {
   "cell_type": "code",
   "execution_count": 38,
   "metadata": {
    "colab": {
     "base_uri": "https://localhost:8080/"
    },
    "id": "MAeQHqS9rCMd",
    "outputId": "2252680d-df16-497f-834c-05ca7d707686"
   },
   "outputs": [
    {
     "name": "stdout",
     "output_type": "stream",
     "text": [
      "23.0\n",
      "23.0\n",
      "23.0\n"
     ]
    }
   ],
   "source": [
    "# vectors dot product\n",
    "print(x.dot(y))\n",
    "print(np.dot(x, y))\n",
    "print(x @ y)"
   ]
  },
  {
   "cell_type": "code",
   "execution_count": 39,
   "metadata": {
    "colab": {
     "base_uri": "https://localhost:8080/"
    },
    "id": "9AsmEURkrCMd",
    "outputId": "40ae77a3-e128-45c0-bc4f-da7193ed75b9"
   },
   "outputs": [
    {
     "name": "stdout",
     "output_type": "stream",
     "text": [
      "[1. 4.]\n",
      "[1.         1.41421356]\n"
     ]
    }
   ],
   "source": [
    "print(x**2)\n",
    "print(np.sqrt(x))"
   ]
  },
  {
   "cell_type": "code",
   "execution_count": 40,
   "metadata": {
    "colab": {
     "base_uri": "https://localhost:8080/"
    },
    "id": "GTAzyzQ6rCMe",
    "outputId": "3385bf38-1648-4c94-cf94-b718fcfc0f90"
   },
   "outputs": [
    {
     "data": {
      "text/plain": [
       "array([2.71828183, 7.3890561 ])"
      ]
     },
     "execution_count": 40,
     "metadata": {},
     "output_type": "execute_result"
    }
   ],
   "source": [
    "np.exp(x)"
   ]
  },
  {
   "cell_type": "code",
   "execution_count": 41,
   "metadata": {
    "colab": {
     "base_uri": "https://localhost:8080/"
    },
    "id": "8Cqez4UmrCMe",
    "outputId": "c762220d-8ff8-4e80-a434-898ce799a1dc"
   },
   "outputs": [
    {
     "data": {
      "text/plain": [
       "array([7., 8.])"
      ]
     },
     "execution_count": 41,
     "metadata": {},
     "output_type": "execute_result"
    }
   ],
   "source": [
    "np.maximum(x, y) # element-wise maximum"
   ]
  },
  {
   "cell_type": "markdown",
   "metadata": {
    "id": "vKQGPbjFrCMe"
   },
   "source": [
    "# Plotting vectors\n",
    "Plot a 2D field of arrows.\n",
    "\n",
    "Call signature: quiver([X, Y], U, V, [C], **kw)\n",
    "\n",
    "X, Y define the arrow locations, U, V define the arrow directions, and C optionally sets the color.\n",
    "\n",
    "More details: https://www.tutorialspoint.com/matplotlib/matplotlib_quiver_plot.htm\n",
    "https://matplotlib.org/stable/api/_as_gen/matplotlib.pyplot.quiver.html"
   ]
  },
  {
   "cell_type": "code",
   "execution_count": 42,
   "metadata": {
    "colab": {
     "base_uri": "https://localhost:8080/",
     "height": 265
    },
    "id": "Yp9Hq9kdrCMf",
    "outputId": "1bc740b0-6e61-4e54-bf93-d27e3ab938e6"
   },
   "outputs": [
    {
     "data": {
      "image/png": "[encoded data removed]",
      "text/plain": [
       "<Figure size 432x288 with 1 Axes>"
      ]
     },
     "metadata": {
      "needs_background": "light"
     },
     "output_type": "display_data"
    }
   ],
   "source": [
    "import matplotlib.pyplot as plt\n",
    "\n",
    "V = np.array([[3,5], [0,5], [4,0],[3,3],[0,2]])\n",
    "origin = np.array([[0, 0,0,0,0],[0, 0,0,0,0]]) # origin point\n",
    "\n",
    "plt.quiver(*origin, V[:,0], V[:,1], color=['r','b','g','y','m'], scale=15)\n",
    "plt.show()"
   ]
  },
  {
   "cell_type": "markdown",
   "metadata": {
    "id": "JYl-rhlGrCMf"
   },
   "source": [
    "## Creating a matrix\n",
    "\n",
    "I. Creating a matrix specifying all the elements in advance\n",
    "\n",
    "\"array\" transforms sequences of sequences into two-dimensional arrays, sequences of sequences of sequences into three-dimensional arrays, and so on."
   ]
  },
  {
   "cell_type": "code",
   "execution_count": 43,
   "metadata": {
    "colab": {
     "base_uri": "https://localhost:8080/"
    },
    "id": "T8Y_ng5rrCMf",
    "outputId": "35858c2e-6a3a-481d-faa5-643b58200326"
   },
   "outputs": [
    {
     "data": {
      "text/plain": [
       "array([[1.5, 2. , 3. ],\n",
       "       [4. , 5. , 6. ]])"
      ]
     },
     "execution_count": 43,
     "metadata": {},
     "output_type": "execute_result"
    }
   ],
   "source": [
    "M = np.array([(1.5,2,3), (4,5,6)])\n",
    "M"
   ]
  },
  {
   "cell_type": "markdown",
   "metadata": {
    "id": "IDHwapvorCMf"
   },
   "source": [
    "II. Creating a matrix by stacking vectors\n",
    "\n",
    "In general, for arrays with more than two dimensions, hstack stacks along their second axes, vstack stacks along their first axes\n",
    "See also (column_stack, concatenate, c_, r_, hsplit, vsplit)"
   ]
  },
  {
   "cell_type": "code",
   "execution_count": 44,
   "metadata": {
    "colab": {
     "base_uri": "https://localhost:8080/"
    },
    "id": "wCHQmYzIrCMg",
    "outputId": "eca03f92-daca-4141-bd46-e68d5fa928f8",
    "scrolled": true
   },
   "outputs": [
    {
     "name": "stdout",
     "output_type": "stream",
     "text": [
      "[[5. 9.]\n",
      " [1. 9.]]\n",
      "[[3. 4.]\n",
      " [8. 4.]]\n",
      "[[5. 9.]\n",
      " [1. 9.]\n",
      " [3. 4.]\n",
      " [8. 4.]]\n",
      "[[5. 9. 3. 4.]\n",
      " [1. 9. 8. 4.]]\n"
     ]
    }
   ],
   "source": [
    "rg = np.random.default_rng(1)     # create instance of default random number generator\n",
    "\n",
    "a = np.floor(10*rg.random((2,2)))\n",
    "print(a)\n",
    "\n",
    "b = np.floor(10*rg.random((2,2)))\n",
    "print(b)\n",
    "\n",
    "print(np.vstack((a,b)))\n",
    "\n",
    "print(np.hstack((a,b)))\n"
   ]
  },
  {
   "cell_type": "markdown",
   "metadata": {
    "id": "qmhX0VwxrCMg"
   },
   "source": [
    "III. Creating matrices using built in methods\n",
    "\n",
    "See (arange, array, copy, empty, empty_like, eye, fromfile, fromfunction, identity, linspace, logspace, mgrid, ogrid, ones, ones_like, r_, zeros, zeros_like)\n",
    "\n",
    "We will consider only the methods ccreating the commonly known matrices"
   ]
  },
  {
   "cell_type": "markdown",
   "metadata": {
    "id": "4u508bCDrCMg"
   },
   "source": [
    "## Common matrices\n",
    "\n",
    "The function zeros creates an array full of zeros, \n",
    "the function ones creates an array full of ones, and \n",
    "the function empty creates an array whose initial content is random and depends on the state of the memory. By default, the dtype of the created array is float64."
   ]
  },
  {
   "cell_type": "code",
   "execution_count": 45,
   "metadata": {
    "colab": {
     "base_uri": "https://localhost:8080/"
    },
    "id": "-U-aQfxfrCMg",
    "outputId": "abf9b01e-f103-4801-b684-27f7125a0c50"
   },
   "outputs": [
    {
     "data": {
      "text/plain": [
       "array([[0., 0., 0., 0.],\n",
       "       [0., 0., 0., 0.],\n",
       "       [0., 0., 0., 0.]])"
      ]
     },
     "execution_count": 45,
     "metadata": {},
     "output_type": "execute_result"
    }
   ],
   "source": [
    "np.zeros((3, 4))"
   ]
  },
  {
   "cell_type": "code",
   "execution_count": 46,
   "metadata": {
    "colab": {
     "base_uri": "https://localhost:8080/"
    },
    "id": "5OSuEXPjrCMh",
    "outputId": "17e66865-1c86-454f-fd1b-b610a817bdf6"
   },
   "outputs": [
    {
     "data": {
      "text/plain": [
       "array([[[1, 1, 1, 1],\n",
       "        [1, 1, 1, 1],\n",
       "        [1, 1, 1, 1]],\n",
       "\n",
       "       [[1, 1, 1, 1],\n",
       "        [1, 1, 1, 1],\n",
       "        [1, 1, 1, 1]]], dtype=int16)"
      ]
     },
     "execution_count": 46,
     "metadata": {},
     "output_type": "execute_result"
    }
   ],
   "source": [
    "np.ones( (2,3,4), dtype=np.int16 )                # dtype can also be specified"
   ]
  },
  {
   "cell_type": "code",
   "execution_count": 47,
   "metadata": {
    "colab": {
     "base_uri": "https://localhost:8080/"
    },
    "id": "qPcU-btqrCMh",
    "outputId": "eaa7f451-ee03-4dc3-fede-c0592c20c566"
   },
   "outputs": [
    {
     "data": {
      "text/plain": [
       "array([[1.5, 2. , 3. ],\n",
       "       [4. , 5. , 6. ]])"
      ]
     },
     "execution_count": 47,
     "metadata": {},
     "output_type": "execute_result"
    }
   ],
   "source": [
    "np.empty( (2,3) )                                 # uninitialized"
   ]
  },
  {
   "cell_type": "markdown",
   "metadata": {
    "id": "tcJ9k1DurCMh"
   },
   "source": [
    "## Operations on matrices"
   ]
  },
  {
   "cell_type": "markdown",
   "metadata": {
    "id": "uITbEYN7rCMh"
   },
   "source": [
    "### Elementwise computations"
   ]
  },
  {
   "cell_type": "code",
   "execution_count": 48,
   "metadata": {
    "colab": {
     "base_uri": "https://localhost:8080/"
    },
    "id": "wCVlGngDrCMi",
    "outputId": "5f6fa7dd-7138-4010-c597-5fd500c71928"
   },
   "outputs": [
    {
     "name": "stdout",
     "output_type": "stream",
     "text": [
      "[[ 6.  8.]\n",
      " [10. 12.]]\n",
      "[[ 6.  8.]\n",
      " [10. 12.]]\n"
     ]
    }
   ],
   "source": [
    "x = np.array([[1,2],[3,4]], dtype=np.float64)\n",
    "y = np.array([[5,6],[7,8]], dtype=np.float64)\n",
    "\n",
    "# Elementwise sum; both produce the array\n",
    "print(x + y)\n",
    "print(np.add(x, y))"
   ]
  },
  {
   "cell_type": "code",
   "execution_count": 49,
   "metadata": {
    "colab": {
     "base_uri": "https://localhost:8080/"
    },
    "id": "JJEQiX3ErCMi",
    "outputId": "8f317e56-1896-41c7-cd15-0ba7c3bd2cc3"
   },
   "outputs": [
    {
     "name": "stdout",
     "output_type": "stream",
     "text": [
      "[[-4. -4.]\n",
      " [-4. -4.]]\n",
      "[[-4. -4.]\n",
      " [-4. -4.]]\n"
     ]
    }
   ],
   "source": [
    "# Elementwise difference; both produce the array\n",
    "print(x - y)\n",
    "print(np.subtract(x, y))"
   ]
  },
  {
   "cell_type": "code",
   "execution_count": 50,
   "metadata": {
    "colab": {
     "base_uri": "https://localhost:8080/"
    },
    "id": "2MowAtffrCMi",
    "outputId": "1505fbef-7d1b-40c1-998b-defb80bb3cd4"
   },
   "outputs": [
    {
     "name": "stdout",
     "output_type": "stream",
     "text": [
      "[[ 5. 12.]\n",
      " [21. 32.]]\n",
      "[[ 5. 12.]\n",
      " [21. 32.]]\n"
     ]
    }
   ],
   "source": [
    "# Elementwise product; both produce the array\n",
    "print(x * y)\n",
    "print(np.multiply(x, y))"
   ]
  },
  {
   "cell_type": "code",
   "execution_count": 51,
   "metadata": {
    "colab": {
     "base_uri": "https://localhost:8080/"
    },
    "id": "KlT7nZJUrCMj",
    "outputId": "ca964a90-362a-4889-9d37-a27441db4510"
   },
   "outputs": [
    {
     "name": "stdout",
     "output_type": "stream",
     "text": [
      "[[0.2        0.33333333]\n",
      " [0.42857143 0.5       ]]\n",
      "[[0.2        0.33333333]\n",
      " [0.42857143 0.5       ]]\n"
     ]
    }
   ],
   "source": [
    "# Elementwise division; both produce the array\n",
    "# [[ 0.2         0.33333333]\n",
    "#  [ 0.42857143  0.5       ]]\n",
    "print(x / y)\n",
    "print(np.divide(x, y))"
   ]
  },
  {
   "cell_type": "code",
   "execution_count": 52,
   "metadata": {
    "colab": {
     "base_uri": "https://localhost:8080/"
    },
    "id": "41mrVTkRrCMj",
    "outputId": "9c539671-78d5-4247-b824-e71e2d370a81"
   },
   "outputs": [
    {
     "name": "stdout",
     "output_type": "stream",
     "text": [
      "[[1.         1.41421356]\n",
      " [1.73205081 2.        ]]\n"
     ]
    }
   ],
   "source": [
    "# Elementwise square root; produces the array\n",
    "# [[ 1.          1.41421356]\n",
    "#  [ 1.73205081  2.        ]]\n",
    "print(np.sqrt(x))"
   ]
  },
  {
   "cell_type": "markdown",
   "metadata": {
    "id": "1wrNgYlirCMj"
   },
   "source": [
    "### Matrix transpose"
   ]
  },
  {
   "cell_type": "code",
   "execution_count": 53,
   "metadata": {
    "colab": {
     "base_uri": "https://localhost:8080/"
    },
    "id": "x5KiWpzSrCMk",
    "outputId": "a4baa81d-5d51-44ec-dc21-f2f4d1a056ec"
   },
   "outputs": [
    {
     "name": "stdout",
     "output_type": "stream",
     "text": [
      "[[5. 9. 1. 9.]\n",
      " [3. 4. 8. 4.]\n",
      " [5. 0. 7. 5.]]\n",
      "[[5. 3. 5.]\n",
      " [9. 4. 0.]\n",
      " [1. 8. 7.]\n",
      " [9. 4. 5.]]\n",
      "(4, 3)\n",
      "(3, 4)\n"
     ]
    }
   ],
   "source": [
    "rg = np.random.default_rng(1)     # create instance of default random number generator\n",
    "\n",
    "a = np.floor(10*rg.random((3,4)))\n",
    "print(a)\n",
    "\n",
    "print(a.T)  # returns the array, transposed\n",
    "\n",
    "print(a.T.shape)\n",
    "\n",
    "print(a.shape)"
   ]
  },
  {
   "cell_type": "markdown",
   "metadata": {
    "id": "tvCoGKnXrCMk"
   },
   "source": [
    "### Matrix multiplication: "
   ]
  },
  {
   "cell_type": "code",
   "execution_count": 54,
   "metadata": {
    "colab": {
     "base_uri": "https://localhost:8080/"
    },
    "id": "m1voR93qrCMk",
    "outputId": "875f9070-57af-4d98-e9cf-c3e089dc6733"
   },
   "outputs": [
    {
     "data": {
      "text/plain": [
       "array([[5, 4],\n",
       "       [3, 4]])"
      ]
     },
     "execution_count": 54,
     "metadata": {},
     "output_type": "execute_result"
    }
   ],
   "source": [
    "A = np.array( [[1,1],\n",
    "                [0,1]] )\n",
    "B = np.array( [[2,0],\n",
    "                [3,4]] )\n",
    "np.matmul(A,B)                       "
   ]
  },
  {
   "cell_type": "code",
   "execution_count": 55,
   "metadata": {
    "colab": {
     "base_uri": "https://localhost:8080/"
    },
    "id": "62c2e8M9rCMl",
    "outputId": "83821441-d0c3-441b-d55a-fd2d3ecc4a91"
   },
   "outputs": [
    {
     "data": {
      "text/plain": [
       "array([[5, 4],\n",
       "       [3, 4]])"
      ]
     },
     "execution_count": 55,
     "metadata": {},
     "output_type": "execute_result"
    }
   ],
   "source": [
    "A @ B                       # matrix product"
   ]
  },
  {
   "cell_type": "code",
   "execution_count": 56,
   "metadata": {
    "colab": {
     "base_uri": "https://localhost:8080/"
    },
    "id": "Z7gIJcb8rCMl",
    "outputId": "a0546097-3be1-43fd-f04c-b96a1883a919"
   },
   "outputs": [
    {
     "name": "stdout",
     "output_type": "stream",
     "text": [
      "[[5 4]\n",
      " [3 4]]\n",
      "[[5 4]\n",
      " [3 4]]\n"
     ]
    }
   ],
   "source": [
    "print(A.dot(B))                    # another matrix product\n",
    "print(np.dot(A,B))"
   ]
  },
  {
   "cell_type": "markdown",
   "metadata": {
    "id": "Q8HCsIQXrCMl"
   },
   "source": [
    "### More computation functions"
   ]
  },
  {
   "cell_type": "code",
   "execution_count": 57,
   "metadata": {
    "colab": {
     "base_uri": "https://localhost:8080/"
    },
    "id": "bmfuo_MUrCMl",
    "outputId": "9a2b5a96-2b6d-469a-9de4-2d08f4df4966"
   },
   "outputs": [
    {
     "name": "stdout",
     "output_type": "stream",
     "text": [
      "[[0.51182162 0.9504637  0.14415961]\n",
      " [0.94864945 0.31183145 0.42332645]]\n",
      "3.290252281866131\n",
      "0.14415961271963373\n",
      "0.9504636963259353\n"
     ]
    }
   ],
   "source": [
    "rg = np.random.default_rng(1)     # create instance of default random number generator\n",
    "M = rg.random((2,3))\n",
    "print(M)\n",
    "print(M.sum())\n",
    "\n",
    "print(M.min())\n",
    "\n",
    "print(M.max())"
   ]
  },
  {
   "cell_type": "code",
   "execution_count": 58,
   "metadata": {
    "colab": {
     "base_uri": "https://localhost:8080/"
    },
    "id": "Ak4m4P0YrCMm",
    "outputId": "23725314-74c6-4673-fb18-d5a006e69500"
   },
   "outputs": [
    {
     "name": "stdout",
     "output_type": "stream",
     "text": [
      "[1.46047107 1.26229515 0.56748606]\n",
      "[0.14415961 0.31183145]\n"
     ]
    }
   ],
   "source": [
    "print(M.sum(axis=0))                            # sum of each column\n",
    "\n",
    "print(M.min(axis=1))                            # min of each row"
   ]
  },
  {
   "cell_type": "markdown",
   "metadata": {
    "id": "3zz2wwUQrCMm"
   },
   "source": [
    "## Printing multidimensional array\n",
    "\n",
    "It is important to know how the matrix content is arranged so you can access the right element \n",
    "When you print an array, NumPy displays it in a similar way to nested lists, but with the following layout:\n",
    "\n",
    "* the last axis is printed from left to right,\n",
    "* the second-to-last is printed from top to bottom,\n",
    "* the rest are also printed from top to bottom, with each slice separated from the next by an empty line."
   ]
  },
  {
   "cell_type": "code",
   "execution_count": 59,
   "metadata": {
    "colab": {
     "base_uri": "https://localhost:8080/"
    },
    "id": "fY76gFmQrCMm",
    "outputId": "3eff19d1-9412-4bd6-e285-35ce9fb0d048"
   },
   "outputs": [
    {
     "name": "stdout",
     "output_type": "stream",
     "text": [
      "[0 1 2 3 4 5]\n"
     ]
    }
   ],
   "source": [
    "a = np.arange(6)                         # 1d array\n",
    "print(a)"
   ]
  },
  {
   "cell_type": "code",
   "execution_count": 60,
   "metadata": {
    "colab": {
     "base_uri": "https://localhost:8080/"
    },
    "id": "fILOZoulrCMn",
    "outputId": "3111b893-d2ac-4e9e-ab23-07e285cde004"
   },
   "outputs": [
    {
     "name": "stdout",
     "output_type": "stream",
     "text": [
      "[[ 0  1  2]\n",
      " [ 3  4  5]\n",
      " [ 6  7  8]\n",
      " [ 9 10 11]]\n"
     ]
    }
   ],
   "source": [
    "b = np.arange(12).reshape(4,3)           # 2d array\n",
    "print(b)"
   ]
  },
  {
   "cell_type": "code",
   "execution_count": 61,
   "metadata": {
    "colab": {
     "base_uri": "https://localhost:8080/"
    },
    "id": "9HsuyBMUrCMn",
    "outputId": "2f561343-c386-48c2-cbbc-3cb4cbc13fdb"
   },
   "outputs": [
    {
     "name": "stdout",
     "output_type": "stream",
     "text": [
      "[[[ 0  1  2  3]\n",
      "  [ 4  5  6  7]\n",
      "  [ 8  9 10 11]]\n",
      "\n",
      " [[12 13 14 15]\n",
      "  [16 17 18 19]\n",
      "  [20 21 22 23]]]\n"
     ]
    }
   ],
   "source": [
    "c = np.arange(24).reshape(2,3,4)         # 3d array\n",
    "print(c)"
   ]
  },
  {
   "cell_type": "markdown",
   "metadata": {
    "id": "1ouOAUQSrCMn"
   },
   "source": [
    "## Indexing, Slicing and Iterating two dimensional array"
   ]
  },
  {
   "cell_type": "code",
   "execution_count": 62,
   "metadata": {
    "colab": {
     "base_uri": "https://localhost:8080/"
    },
    "id": "8tkwiclHrCMn",
    "outputId": "8e287a5c-2402-4bbb-8a43-decab0490f6c"
   },
   "outputs": [
    {
     "name": "stdout",
     "output_type": "stream",
     "text": [
      "[[ 0  1  2  3]\n",
      " [10 11 12 13]\n",
      " [20 21 22 23]\n",
      " [30 31 32 33]\n",
      " [40 41 42 43]]\n",
      "23\n",
      "[ 1 11 21 31 41]\n",
      "[ 1 11 21 31 41]\n",
      "[[10 11 12 13]\n",
      " [20 21 22 23]]\n"
     ]
    }
   ],
   "source": [
    "def f(x,y):\n",
    "    return 10*x+y\n",
    "\n",
    "b = np.fromfunction(f,(5,4),dtype=int) # Construct an array by executing a function over each coordinate. (Read more https://numpy.org/doc/stable/reference/generated/numpy.fromfunction.html)\n",
    "print(b)\n",
    "\n",
    "print(b[2,3])\n",
    "\n",
    "print(b[0:5, 1])                       # each row in the second column of b\n",
    "\n",
    "print(b[ : ,1])                        # equivalent to the previous example\n",
    "\n",
    "print(b[1:3, : ])                      # each column in the second and third row of b\n"
   ]
  },
  {
   "cell_type": "markdown",
   "metadata": {
    "id": "sWaDME0qrCMo"
   },
   "source": [
    "When fewer indices are provided than the number of axes, the missing indices are considered complete slices:"
   ]
  },
  {
   "cell_type": "code",
   "execution_count": 63,
   "metadata": {
    "colab": {
     "base_uri": "https://localhost:8080/"
    },
    "id": "zrxY4TQ3rCMo",
    "outputId": "c3d85624-1bd1-4acb-951a-6942237fb248"
   },
   "outputs": [
    {
     "data": {
      "text/plain": [
       "array([40, 41, 42, 43])"
      ]
     },
     "execution_count": 63,
     "metadata": {},
     "output_type": "execute_result"
    }
   ],
   "source": [
    "b[-1]"
   ]
  },
  {
   "cell_type": "markdown",
   "metadata": {
    "id": "1ZZGpvhCrCMo"
   },
   "source": [
    "The dots (...) represent as many colons as needed to produce a complete indexing tuple. For example, if x is an array with 5 axes, then\n",
    "\n",
    "x[1,2,...] is equivalent to x[1,2,:,:,:],\n",
    "\n",
    "x[...,3] to x[:,:,:,:,3] and\n",
    "\n",
    "x[4,...,5,:] to x[4,:,:,5,:]."
   ]
  },
  {
   "cell_type": "code",
   "execution_count": 64,
   "metadata": {
    "colab": {
     "base_uri": "https://localhost:8080/"
    },
    "id": "2gD4oZ6PrCMp",
    "outputId": "7133fa92-b4e9-41e7-a95f-03432edc5353"
   },
   "outputs": [
    {
     "name": "stdout",
     "output_type": "stream",
     "text": [
      "(2, 2, 3)\n",
      "[[100 101 102]\n",
      " [110 112 113]]\n",
      "[[  2  13]\n",
      " [102 113]]\n"
     ]
    }
   ],
   "source": [
    "c = np.array( [[[  0,  1,  2],               # a 3D array (two stacked 2D arrays)\n",
    "                [ 10, 12, 13]],\n",
    "               [[100,101,102],\n",
    "                [110,112,113]]])\n",
    "print(c.shape)\n",
    "\n",
    "print(c[1,...])                                   # same as c[1,:,:] or c[1]\n",
    "\n",
    "print(c[...,2])                                   # same as c[:,:,2]\n"
   ]
  },
  {
   "cell_type": "markdown",
   "metadata": {
    "id": "d_AMgiBDrCMp"
   },
   "source": [
    "Read more about a-dvanced indexing and index tricks here (https://numpy.org/doc/stable/user/quickstart.html#advanced-indexing-and-index-tricks)"
   ]
  },
  {
   "cell_type": "markdown",
   "metadata": {
    "id": "F1xHnPc5rCMp"
   },
   "source": [
    "Iterating over multidimensional arrays is done with respect to the first axis:"
   ]
  },
  {
   "cell_type": "code",
   "execution_count": 65,
   "metadata": {
    "colab": {
     "base_uri": "https://localhost:8080/"
    },
    "id": "FiF57UPKrCMq",
    "outputId": "9963b476-0e0c-4933-9b6c-a0a220b753a2"
   },
   "outputs": [
    {
     "name": "stdout",
     "output_type": "stream",
     "text": [
      "[0 1 2 3]\n",
      "[10 11 12 13]\n",
      "[20 21 22 23]\n",
      "[30 31 32 33]\n",
      "[40 41 42 43]\n"
     ]
    }
   ],
   "source": [
    "for row in b:\n",
    "    print(row)"
   ]
  },
  {
   "cell_type": "markdown",
   "metadata": {
    "id": "ZKsncCSWrCMq"
   },
   "source": [
    " to perform an operation on each element in the array, use the flat attribute which is an iterator over all the elements of the array:"
   ]
  },
  {
   "cell_type": "code",
   "execution_count": 66,
   "metadata": {
    "colab": {
     "base_uri": "https://localhost:8080/"
    },
    "id": "f6cXz3ThrCMq",
    "outputId": "a6db5ea9-8c7b-405e-f914-3a3afcd78495"
   },
   "outputs": [
    {
     "name": "stdout",
     "output_type": "stream",
     "text": [
      "0\n",
      "1\n",
      "2\n",
      "3\n",
      "10\n",
      "11\n",
      "12\n",
      "13\n",
      "20\n",
      "21\n",
      "22\n",
      "23\n",
      "30\n",
      "31\n",
      "32\n",
      "33\n",
      "40\n",
      "41\n",
      "42\n",
      "43\n"
     ]
    }
   ],
   "source": [
    "for element in b.flat:\n",
    "    print(element)"
   ]
  },
  {
   "cell_type": "markdown",
   "metadata": {
    "id": "jwIbSPzDrCMq"
   },
   "source": [
    "## Changing the shape of a multidimensional array\n",
    "\n",
    "Not only \"flat\" function that can help changing the shape of a multidimentional array. we also have other functions like \"reshape\", \"resize\", \"ravel\""
   ]
  },
  {
   "cell_type": "code",
   "execution_count": 67,
   "metadata": {
    "colab": {
     "base_uri": "https://localhost:8080/"
    },
    "id": "7TjuVs2srCMr",
    "outputId": "4e5faafa-7aa5-47ee-97a5-1171fa71022f"
   },
   "outputs": [
    {
     "name": "stdout",
     "output_type": "stream",
     "text": [
      "[[8. 4. 5. 0.]\n",
      " [7. 5. 3. 7.]\n",
      " [3. 4. 1. 4.]]\n",
      "(3, 4)\n"
     ]
    }
   ],
   "source": [
    "M1 = np.floor(10*rg.random((3,4)))\n",
    "print(M1)\n",
    "print(M1.shape)"
   ]
  },
  {
   "cell_type": "code",
   "execution_count": 68,
   "metadata": {
    "colab": {
     "base_uri": "https://localhost:8080/"
    },
    "id": "OrMOZovfrCMr",
    "outputId": "8f10dbb2-b9cb-4134-c84e-e21e9ba111b6"
   },
   "outputs": [
    {
     "data": {
      "text/plain": [
       "array([8., 4., 5., 0., 7., 5., 3., 7., 3., 4., 1., 4.])"
      ]
     },
     "execution_count": 68,
     "metadata": {},
     "output_type": "execute_result"
    }
   ],
   "source": [
    "M1.ravel() # returns the array, flattened"
   ]
  },
  {
   "cell_type": "code",
   "execution_count": 69,
   "metadata": {
    "colab": {
     "base_uri": "https://localhost:8080/"
    },
    "id": "ppPgUytkrCMr",
    "outputId": "e30a55fa-2dff-4b5a-d55c-b20ae6f17c4a",
    "scrolled": false
   },
   "outputs": [
    {
     "data": {
      "text/plain": [
       "array([[8., 4.],\n",
       "       [5., 0.],\n",
       "       [7., 5.],\n",
       "       [3., 7.],\n",
       "       [3., 4.],\n",
       "       [1., 4.]])"
      ]
     },
     "execution_count": 69,
     "metadata": {},
     "output_type": "execute_result"
    }
   ],
   "source": [
    "M1.reshape(6,2)"
   ]
  },
  {
   "cell_type": "code",
   "execution_count": 70,
   "metadata": {
    "colab": {
     "base_uri": "https://localhost:8080/"
    },
    "id": "F4g-pJlMrCMr",
    "outputId": "155d9cd7-7b30-45dc-dd87-562cdd7e31ce"
   },
   "outputs": [
    {
     "name": "stdout",
     "output_type": "stream",
     "text": [
      "[[8. 4. 5.]\n",
      " [0. 7. 5.]\n",
      " [3. 7. 3.]\n",
      " [4. 1. 4.]]\n",
      "[[8. 4. 5. 0.]\n",
      " [7. 5. 3. 7.]\n",
      " [3. 4. 1. 4.]]\n"
     ]
    }
   ],
   "source": [
    "M1.reshape(4,-1)   # If a dimension is given as -1 in a reshaping operation, the other dimensions are automatically\n",
    "print(M1.reshape(4,-1))\n",
    "print(M1)          # \"reshape\" function does not change the original array"
   ]
  },
  {
   "cell_type": "code",
   "execution_count": 71,
   "metadata": {
    "colab": {
     "base_uri": "https://localhost:8080/"
    },
    "id": "dGli1tdjrCMs",
    "outputId": "df939248-0e15-4e99-c227-ca06bb6108a2"
   },
   "outputs": [
    {
     "name": "stdout",
     "output_type": "stream",
     "text": [
      "[[8. 4. 5. 0. 7. 5.]\n",
      " [3. 7. 3. 4. 1. 4.]]\n"
     ]
    }
   ],
   "source": [
    "M1.resize(2,6)  # returns the array with a modified shape\n",
    "print(M1)"
   ]
  },
  {
   "cell_type": "markdown",
   "metadata": {
    "id": "JDG7fubQrCMs"
   },
   "source": [
    "NOTE: For better coding, consider knowing more about these methods here https://numpy.org/doc/stable/user/quickstart.html#functions-and-methods-overview\n",
    "    "
   ]
  },
  {
   "cell_type": "markdown",
   "metadata": {
    "id": "fsVHSNdzrCMs"
   },
   "source": [
    "Final note:\n",
    "    \n",
    "It is important in general to know how to save and load numpy objects, read numpy objects from/ write them to a file so it is recommended you go through the documetation to know how to do that. Also using Matplotlib to plot your results is recommended as well. The numpy documentation is a great source of learning.\n",
    "\n",
    "One more recommednded source is \"Python for Data Analysis by Wes McKinney\" Chapter 4: https://www.oreilly.com/library/view/python-for-data/9781449323592/ch04.html"
   ]
  },
  {
   "cell_type": "code",
   "execution_count": 72,
   "metadata": {
    "id": "OzZyjFNqrCMt"
   },
   "outputs": [
    {
     "name": "stdout",
     "output_type": "stream",
     "text": [
      "1.19.2\n"
     ]
    }
   ],
   "source": [
    "print(np.version.version)"
   ]
  },
  {
   "cell_type": "code",
   "execution_count": 73,
   "metadata": {},
   "outputs": [
    {
     "name": "stdout",
     "output_type": "stream",
     "text": [
      "add(x1, x2, /, out=None, *, where=True, casting='same_kind', order='K', dtype=None, subok=True[, signature, extobj])\n",
      "\n",
      "Add arguments element-wise.\n",
      "\n",
      "Parameters\n",
      "----------\n",
      "x1, x2 : array_like\n",
      "    The arrays to be added.\n",
      "    If ``x1.shape != x2.shape``, they must be broadcastable to a common\n",
      "    shape (which becomes the shape of the output).\n",
      "out : ndarray, None, or tuple of ndarray and None, optional\n",
      "    A location into which the result is stored. If provided, it must have\n",
      "    a shape that the inputs broadcast to. If not provided or None,\n",
      "    a freshly-allocated array is returned. A tuple (possible only as a\n",
      "    keyword argument) must have length equal to the number of outputs.\n",
      "where : array_like, optional\n",
      "    This condition is broadcast over the input. At locations where the\n",
      "    condition is True, the `out` array will be set to the ufunc result.\n",
      "    Elsewhere, the `out` array will retain its original value.\n",
      "    Note that if an uninitialized `out` array is created via the default\n",
      "    ``out=None``, locations within it where the condition is False will\n",
      "    remain uninitialized.\n",
      "**kwargs\n",
      "    For other keyword-only arguments, see the\n",
      "    :ref:`ufunc docs <ufuncs.kwargs>`.\n",
      "\n",
      "Returns\n",
      "-------\n",
      "add : ndarray or scalar\n",
      "    The sum of `x1` and `x2`, element-wise.\n",
      "    This is a scalar if both `x1` and `x2` are scalars.\n",
      "\n",
      "Notes\n",
      "-----\n",
      "Equivalent to `x1` + `x2` in terms of array broadcasting.\n",
      "\n",
      "Examples\n",
      "--------\n",
      ">>> np.add(1.0, 4.0)\n",
      "5.0\n",
      ">>> x1 = np.arange(9.0).reshape((3, 3))\n",
      ">>> x2 = np.arange(3.0)\n",
      ">>> np.add(x1, x2)\n",
      "array([[  0.,   2.,   4.],\n",
      "       [  3.,   5.,   7.],\n",
      "       [  6.,   8.,  10.]])\n",
      "None\n"
     ]
    }
   ],
   "source": [
    "print(np.info(np.add))"
   ]
  },
  {
   "cell_type": "code",
   "execution_count": 74,
   "metadata": {},
   "outputs": [
    {
     "name": "stdout",
     "output_type": "stream",
     "text": [
      "True\n",
      "True\n",
      "False\n"
     ]
    }
   ],
   "source": [
    "x = np.array([(1, 2, 3, 4, 5)])\n",
    "y = np.array([(1, 2, 0, 0, 5)])\n",
    "z = np.array([(0, 0, 0, 0, 0)])\n",
    "\n",
    "print(x.any())\n",
    "print(y.any())\n",
    "print(z.any())"
   ]
  },
  {
   "cell_type": "code",
   "execution_count": 75,
   "metadata": {},
   "outputs": [
    {
     "data": {
      "text/plain": [
       "[<matplotlib.lines.Line2D at 0x7f1339a8bd30>]"
      ]
     },
     "execution_count": 75,
     "metadata": {},
     "output_type": "execute_result"
    },
    {
     "data": {
      "image/png": "[encoded data removed]",
      "text/plain": [
       "<Figure size 432x288 with 1 Axes>"
      ]
     },
     "metadata": {
      "needs_background": "light"
     },
     "output_type": "display_data"
    }
   ],
   "source": [
    "import numpy as np\n",
    "import matplotlib.pyplot as plt\n",
    "x = np.arange(0, 3 * np.pi, 0.2)\n",
    "y = np.sin(x)\n",
    "plt.plot(x, y)"
   ]
  },
  {
   "cell_type": "code",
   "execution_count": 76,
   "metadata": {},
   "outputs": [
    {
     "name": "stdout",
     "output_type": "stream",
     "text": [
      "[-20 -19 -18 -17 -16 -15 -14 -13 -12 -11 -10  -9  -8  -7  -6  -5  -4  -3\n",
      "  -2  -1   0   1   2   3   4   5   6   7   8   9  10  11  12  13  14  15\n",
      "  16  17  18  19]\n",
      "\n",
      "[-4 -3 -2 -1  0  1  2  3  4]\n"
     ]
    }
   ],
   "source": [
    "xy = np.arange(-20, 20, 1)\n",
    "print(xy)\n",
    "yx = np.extract((xy < 5) & (xy > -5), xy)\n",
    "print()\n",
    "print(yx)"
   ]
  },
  {
   "cell_type": "code",
   "execution_count": 77,
   "metadata": {},
   "outputs": [
    {
     "name": "stdout",
     "output_type": "stream",
     "text": [
      "[[ 0]\n",
      " [ 5]\n",
      " [10]\n",
      " [15]\n",
      " [20]\n",
      " [25]\n",
      " [30]\n",
      " [35]\n",
      " [40]\n",
      " [45]]\n"
     ]
    }
   ],
   "source": [
    "zz = np.arange(0, 3 * np.pi, 0.2)\n",
    "zz[0:-1:5] = None\n",
    "indices = np.argwhere(np.isnan(zz))\n",
    "print(indices)"
   ]
  },
  {
   "cell_type": "code",
   "execution_count": null,
   "metadata": {},
   "outputs": [],
   "source": []
  }
 ],
 "metadata": {
  "colab": {
   "collapsed_sections": [
    "OEQJz1cCrCMU",
    "ka_mPzigrCMZ",
    "D7DiD-I-rCMa",
    "03yG3FuVrCMb",
    "JYl-rhlGrCMf",
    "4u508bCDrCMg",
    "tcJ9k1DurCMh",
    "uITbEYN7rCMh",
    "1wrNgYlirCMj",
    "tvCoGKnXrCMk",
    "Q8HCsIQXrCMl",
    "3zz2wwUQrCMm",
    "1ouOAUQSrCMn",
    "jwIbSPzDrCMq"
   ],
   "name": "IntoToNumpy.ipynb",
   "provenance": []
  },
  "kernelspec": {
   "display_name": "Python 3",
   "language": "python",
   "name": "python3"
  },
  "language_info": {
   "codemirror_mode": {
    "name": "ipython",
    "version": 3
   },
   "file_extension": ".py",
   "mimetype": "text/x-python",
   "name": "python",
   "nbconvert_exporter": "python",
   "pygments_lexer": "ipython3",
   "version": "3.8.5"
  }
 },
 "nbformat": 4,
 "nbformat_minor": 1
}
