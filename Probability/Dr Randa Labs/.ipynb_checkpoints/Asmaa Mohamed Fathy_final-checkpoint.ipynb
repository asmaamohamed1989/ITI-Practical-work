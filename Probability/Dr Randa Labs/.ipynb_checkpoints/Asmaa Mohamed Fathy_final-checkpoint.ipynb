{
 "cells": [
  {
   "cell_type": "markdown",
   "metadata": {},
   "source": [
    "# Problem 1\n",
    "## 1. Your data table rows represent 1000 different clients picked at random and are independent\n",
    "## 2. Each data sample (i.e. table row) has some attributes with random values (continuous and discrete), namely: \n",
    "M = Marital status\n",
    "\n",
    "ND = No. of dependents\n",
    "\n",
    "AI = Client’s annual income\n",
    "\n",
    "R = Risk associated to No-cashback\n",
    "\n",
    "HA = Has previous approved loan\n",
    "\n",
    "AA = Amount of previously approved loan\n",
    "\n",
    "TA = Time until loan is approved\n",
    "\n",
    "YA = Year of last approved loan\n"
   ]
  },
  {
   "cell_type": "markdown",
   "metadata": {},
   "source": [
    "## Import Libararies"
   ]
  },
  {
   "cell_type": "code",
   "execution_count": 11,
   "metadata": {},
   "outputs": [],
   "source": [
    "# Make all numpy available via shorter 'np' prefix\n",
    "import numpy as np\n",
    "\n",
    "# matplotlib library\n",
    "import matplotlib.pyplot as plt\n",
    "%matplotlib inline\n",
    "\n",
    "import random\n",
    "import scipy . stats"
   ]
  },
  {
   "cell_type": "markdown",
   "metadata": {},
   "source": [
    "## 3. The marital status (M) is either Married (1) or Other (0). “Other” may represent singles, widows and divorced. Construct a 1000 samples with probability of being married = 0.6 [Hint: n=1]"
   ]
  },
  {
   "cell_type": "code",
   "execution_count": 13,
   "metadata": {},
   "outputs": [
    {
     "name": "stdout",
     "output_type": "stream",
     "text": [
      "[0 0 1 0 1 0 0 1 1 0 0 0 1 0 1 0 0 1 1 1 0 1 1 1 0 1 1 0 1 0 0 1 1 1 0 0 0\n",
      " 0 1 1 0 0 1 1 0 1 0 0 0 1 1 0 1 1 0 1 0 0 1 1 1 1 0 1 1 0 1 1 1 1 1 1 0 0\n",
      " 1 1 1 1 1 0 0 0 1 0 0 0 1 0 1 1 0 0 0 1 1 0 1 0 0 1 1 1 1 1 1 0 1 1 0 1 0\n",
      " 1 1 1 0 1 0 1 1 0 1 0 1 1 0 1 0 1 1 1 1 1 0 1 0 0 1 1 0 1 0 0 1 1 0 1 1 1\n",
      " 0 1 1 0 0 1 1 1 1 1 0 0 0 1 1 1 0 0 1 0 1 0 0 0 1 1 1 0 1 1 1 0 0 1 1 0 1\n",
      " 1 0 1 1 1 0 0 0 0 1 1 1 1 1 1 0 1 0 0 1 1 1 0 1 1 1 0 1 1 1 0 1 1 1 1 1 0\n",
      " 0 0 1 1 1 1 1 1 0 1 1 1 1 1 0 0 0 1 1 1 0 0 1 1 1 1 0 0 1 0 1 0 0 0 1 1 0\n",
      " 0 1 1 1 0 1 1 1 1 1 0 1 1 1 1 0 1 0 0 0 0 1 0 1 1 0 0 1 1 0 0 1 0 1 1 1 1\n",
      " 1 1 1 1 1 0 1 1 1 0 0 1 1 1 1 1 1 0 1 1 1 1 0 1 1 0 1 0 1 0 1 1 0 1 1 1 1\n",
      " 0 1 1 0 1 0 0 0 0 1 1 1 1 1 1 1 1 1 1 0 1 1 1 1 0 0 0 0 0 1 0 0 1 0 1 1 1\n",
      " 1 1 1 0 1 1 0 1 1 1 0 1 1 1 1 1 0 1 1 1 1 1 1 1 1 0 1 1 1 1 0 1 0 1 1 0 1\n",
      " 0 1 1 1 0 1 1 0 1 1 1 1 1 1 0 1 1 1 0 0 0 1 1 1 1 1 0 0 1 1 1 0 1 0 0 1 1\n",
      " 1 1 1 0 1 1 0 0 0 1 1 0 0 1 1 0 0 0 1 0 1 1 1 0 0 0 0 1 0 0 0 1 1 1 1 0 1\n",
      " 0 0 1 1 1 1 1 0 0 1 0 0 1 1 1 1 1 0 0 1 1 0 1 1 1 0 1 1 0 1 0 1 0 1 1 1 0\n",
      " 1 1 1 0 1 1 1 0 1 1 1 0 0 1 0 0 1 0 1 0 0 0 0 1 1 1 0 1 1 1 0 0 0 1 1 0 0\n",
      " 1 1 0 1 0 1 1 0 0 0 1 1 1 1 0 1 0 1 1 0 1 0 0 0 1 0 1 0 0 0 0 1 0 0 0 1 1\n",
      " 1 1 1 0 1 1 1 1 1 1 1 1 1 0 1 0 0 0 1 1 1 0 1 1 1 1 1 0 1 0 0 1 1 1 0 1 1\n",
      " 0 1 1 1 1 1 1 0 0 0 0 0 0 1 1 0 1 1 1 1 1 1 1 0 1 1 1 1 0 1 0 1 0 1 1 1 1\n",
      " 0 1 0 1 1 1 0 1 1 0 0 0 1 0 1 1 0 1 1 1 0 1 0 0 1 0 0 1 0 0 1 1 0 1 1 1 1\n",
      " 1 1 0 1 0 1 1 1 1 1 1 0 0 1 0 1 1 0 0 0 1 0 0 1 1 1 1 1 1 0 0 0 0 0 0 0 0\n",
      " 0 1 0 0 1 0 0 0 1 1 0 1 1 1 0 1 0 1 1 0 0 1 0 1 1 0 0 0 1 1 1 0 1 1 1 1 0\n",
      " 1 0 1 1 1 0 1 0 1 1 1 1 0 1 1 0 0 1 1 1 0 1 0 1 1 1 0 1 1 0 1 1 1 0 1 1 1\n",
      " 0 1 0 0 0 1 0 0 0 0 0 0 1 1 1 1 1 1 0 1 1 1 0 1 1 0 0 1 0 1 0 0 0 0 0 0 0\n",
      " 1 0 0 1 1 1 1 1 0 1 0 1 0 0 0 0 1 0 1 1 0 1 0 1 1 0 1 0 1 1 1 0 1 1 0 1 0\n",
      " 0 1 1 0 1 1 1 0 1 1 0 0 1 1 1 1 1 0 0 0 0 1 1 0 0 0 0 1 1 1 1 1 1 1 1 1 0\n",
      " 1 1 0 0 1 0 1 0 0 1 0 1 1 1 0 0 0 1 0 0 1 1 1 1 0 1 0 1 0 0 0 1 1 1 0 0 1\n",
      " 1 1 1 1 0 1 0 1 1 1 1 1 0 1 0 1 0 0 0 1 1 1 1 0 1 1 1 1 1 1 1 1 1 0 0 1 1\n",
      " 1]\n"
     ]
    }
   ],
   "source": [
    "n = 1000  # number of trials\n",
    "p = .6  # probability of each trial (success)\n",
    "M=np . random. binomial( 1, 0.6, 1000)\n",
    "#lambda = 2\n",
    "print(M)\n"
   ]
  },
  {
   "cell_type": "code",
   "execution_count": 12,
   "metadata": {},
   "outputs": [
    {
     "data": {
      "image/png": "[encoded data removed]",
      "text/plain": [
       "<Figure size 432x288 with 1 Axes>"
      ]
     },
     "metadata": {
      "needs_background": "light"
     },
     "output_type": "display_data"
    }
   ],
   "source": [
    "plt.hist(M)  # The hist() function will read the array and produce a histogram of the random variables values\n",
    "\n",
    "plt.title(\"Binomial distribution simulation (%d,%.2f)\" % (n, p))\n",
    "plt.xlabel(\"M\")\n",
    "plt.ylabel (\"Frequency\")\n",
    "plt.show()"
   ]
  },
  {
   "cell_type": "code",
   "execution_count": 26,
   "metadata": {},
   "outputs": [],
   "source": [
    "import seaborn as sns\n",
    "sns.set()"
   ]
  },
  {
   "cell_type": "code",
   "execution_count": 27,
   "metadata": {},
   "outputs": [
    {
     "name": "stderr",
     "output_type": "stream",
     "text": [
      "C:\\Users\\Muslim\\anaconda3\\lib\\site-packages\\seaborn\\distributions.py:2551: FutureWarning: `distplot` is a deprecated function and will be removed in a future version. Please adapt your code to use either `displot` (a figure-level function with similar flexibility) or `histplot` (an axes-level function for histograms).\n",
      "  warnings.warn(msg, FutureWarning)\n"
     ]
    },
    {
     "data": {
      "text/plain": [
       "<AxesSubplot:ylabel='Density'>"
      ]
     },
     "execution_count": 27,
     "metadata": {},
     "output_type": "execute_result"
    },
    {
     "data": {
      "image/png": "[encoded data removed]",
      "text/plain": [
       "<Figure size 432x288 with 1 Axes>"
      ]
     },
     "metadata": {},
     "output_type": "display_data"
    }
   ],
   "source": [
    "sns.distplot(M)"
   ]
  },
  {
   "cell_type": "markdown",
   "metadata": {},
   "source": [
    "## 4. The No. of dependents (ND) like children, spouse, parents, in-laws, etc. whom the client might need to finance yearly over the duration of the loan is modelled by poisson  distribution. Construct a 1000 samples with average ND is 2. [Hint: lambda=2]"
   ]
  },
  {
   "cell_type": "code",
   "execution_count": 6,
   "metadata": {},
   "outputs": [
    {
     "name": "stdout",
     "output_type": "stream",
     "text": [
      "[1 1 0 1 0 4 1 5 4 4 1 0 0 3 2 6 2 0 4 0 1 1 1 3 4 2 2 2 0 3 1 3 1 2 1 0 2\n",
      " 1 0 3 8 2 0 3 1 1 3 1 5 1 2 1 1 2 3 2 2 3 1 0 1 3 1 3 2 1 1 1 1 2 1 0 1 1\n",
      " 1 2 1 0 1 0 1 1 1 4 1 2 3 2 1 1 3 2 4 1 5 2 1 4 3 1 2 2 0 5 4 1 2 1 6 1 0\n",
      " 1 1 2 4 4 2 1 0 3 1 1 3 5 3 0 3 2 2 4 1 0 4 2 0 0 3 1 1 2 1 4 1 5 2 4 0 1\n",
      " 0 3 1 3 4 2 4 2 3 4 2 2 2 2 1 1 3 1 1 2 0 2 4 3 3 4 2 3 2 2 3 2 3 2 0 1 1\n",
      " 2 3 1 6 4 3 2 0 2 1 2 4 3 1 2 2 1 2 1 4 2 1 4 3 2 3 1 5 2 1 1 4 0 1 1 0 0\n",
      " 2 4 1 2 3 3 1 4 4 2 4 2 2 3 1 5 1 0 2 1 0 3 0 2 1 2 2 1 1 2 1 0 3 3 0 2 1\n",
      " 1 1 1 1 2 1 2 3 1 4 5 2 5 1 0 2 2 3 1 2 0 4 5 2 0 3 1 1 3 0 3 2 1 3 2 5 3\n",
      " 2 3 2 3 2 3 2 2 2 0 2 2 3 3 2 2 1 1 1 0 2 6 2 2 1 5 2 1 1 3 6 0 5 2 1 1 2\n",
      " 0 1 2 1 0 6 4 2 2 2 4 1 3 1 2 1 2 2 4 0 3 2 3 0 2 2 2 4 1 0 2 0 2 2 7 1 2\n",
      " 3 2 4 1 0 2 0 1 3 1 3 1 4 4 1 2 1 2 4 3 2 0 1 2 0 1 3 0 3 4 1 1 1 2 4 2 0\n",
      " 4 3 0 1 2 1 2 2 0 2 0 3 2 1 4 1 3 1 1 2 2 2 1 2 4 3 4 2 3 2 3 2 1 2 1 1 2\n",
      " 1 2 2 1 0 2 1 1 1 4 1 3 6 1 2 1 2 2 2 1 3 1 3 1 2 1 2 2 4 1 3 4 2 1 3 2 4\n",
      " 2 2 4 0 1 1 1 4 2 0 4 1 3 1 2 4 2 5 2 2 6 2 1 1 2 2 2 2 0 2 2 1 2 2 1 2 3\n",
      " 3 5 4 1 0 1 2 1 2 0 1 4 3 0 1 1 2 2 2 3 1 3 1 3 3 2 2 4 3 1 3 1 1 0 2 0 3\n",
      " 4 1 1 1 4 1 1 0 2 1 1 2 6 1 2 3 2 2 1 0 4 5 2 2 1 4 3 1 2 0 1 3 2 2 0 2 2\n",
      " 2 2 3 3 2 1 3 4 2 1 0 1 1 3 1 6 2 1 2 2 2 1 2 1 1 3 1 1 3 1 3 2 0 2 3 3 0\n",
      " 1 3 0 2 4 2 4 1 3 1 2 2 2 4 4 1 2 6 0 1 7 4 2 2 4 2 1 2 2 3 1 2 2 0 2 3 1\n",
      " 1 2 2 3 1 2 1 2 4 2 1 3 1 4 3 1 2 3 2 2 0 2 3 2 1 1 3 2 1 4 2 4 0 2 2 1 4\n",
      " 2 2 3 1 2 2 1 1 1 3 2 5 1 0 1 1 0 0 2 1 5 0 1 0 2 3 0 2 3 1 1 0 4 2 2 1 1\n",
      " 5 4 2 2 3 2 0 3 2 2 2 4 2 1 2 5 1 2 0 3 2 3 1 4 1 1 2 1 1 1 4 3 2 2 4 1 1\n",
      " 2 2 3 2 3 1 2 2 4 1 3 4 2 2 2 3 0 2 2 4 1 2 0 4 4 1 5 3 1 1 3 2 3 1 2 1 2\n",
      " 1 4 2 2 3 1 3 2 4 0 4 3 3 4 1 1 1 1 2 6 1 1 0 1 1 1 1 0 1 1 2 2 2 0 2 2 2\n",
      " 4 5 1 0 0 1 4 1 1 1 1 1 0 1 1 3 2 2 1 0 2 3 3 5 2 1 1 3 0 1 4 3 2 1 3 0 3\n",
      " 2 1 2 2 3 2 0 0 4 2 0 1 2 4 1 2 2 2 4 4 1 3 1 3 1 3 0 3 1 3 1 2 4 2 2 3 1\n",
      " 3 5 1 2 1 2 1 4 1 0 4 3 5 2 2 1 2 2 2 3 1 1 2 4 1 2 3 5 5 1 4 3 0 2 0 2 3\n",
      " 3 3 3 2 1 2 0 4 3 1 3 1 2 0 2 0 0 2 1 0 0 3 2 1 3 0 2 1 5 5 0 1 1 1 0 3 1\n",
      " 1]\n"
     ]
    }
   ],
   "source": [
    "ND=np . random . poisson (2, 1000)\n",
    "print(ND)"
   ]
  },
  {
   "cell_type": "code",
   "execution_count": 23,
   "metadata": {},
   "outputs": [
    {
     "data": {
      "image/png": "[encoded data removed]",
      "text/plain": [
       "<Figure size 432x288 with 1 Axes>"
      ]
     },
     "metadata": {
      "needs_background": "light"
     },
     "output_type": "display_data"
    }
   ],
   "source": [
    "#count, bins, ignored = plt.hist(s, 14, density=True)\n",
    "plt.hist(ND, 14, density=True)\n",
    "plt.show()"
   ]
  },
  {
   "cell_type": "code",
   "execution_count": 24,
   "metadata": {},
   "outputs": [],
   "source": [
    "import seaborn as sns\n",
    "sns.set()"
   ]
  },
  {
   "cell_type": "code",
   "execution_count": 25,
   "metadata": {},
   "outputs": [
    {
     "name": "stderr",
     "output_type": "stream",
     "text": [
      "C:\\Users\\Muslim\\anaconda3\\lib\\site-packages\\seaborn\\distributions.py:2551: FutureWarning: `distplot` is a deprecated function and will be removed in a future version. Please adapt your code to use either `displot` (a figure-level function with similar flexibility) or `histplot` (an axes-level function for histograms).\n",
      "  warnings.warn(msg, FutureWarning)\n"
     ]
    },
    {
     "data": {
      "text/plain": [
       "<AxesSubplot:ylabel='Density'>"
      ]
     },
     "execution_count": 25,
     "metadata": {},
     "output_type": "execute_result"
    },
    {
     "data": {
      "image/png": "[encoded data removed]",
      "text/plain": [
       "<Figure size 432x288 with 1 Axes>"
      ]
     },
     "metadata": {},
     "output_type": "display_data"
    }
   ],
   "source": [
    "sns.distplot(ND)"
   ]
  },
  {
   "cell_type": "markdown",
   "metadata": {},
   "source": [
    "## 5. The client’s annual income in order of 1k (AI) is supposed to be obeying a normal distribution N(80,20). Construct 1000 samples."
   ]
  },
  {
   "cell_type": "code",
   "execution_count": 32,
   "metadata": {},
   "outputs": [
    {
     "name": "stdout",
     "output_type": "stream",
     "text": [
      "[ 83.31229161  67.36816804  67.31328209  28.87857048  85.24809212\n",
      "  77.36285107  69.68888898  80.59912966  52.71323097  89.72354123\n",
      "  47.70071175 122.89887769  88.40797945  89.78854129  70.91960138\n",
      "  64.2064608   66.90838901  66.8761239   93.70659417 123.21182535\n",
      "  89.38363333 105.4627279   49.17696095  47.65274485  62.90617949\n",
      "  93.19248246 113.77608178  59.09791812  72.39537354  65.55120893\n",
      "  83.61468863  71.19082837  85.84364644  97.47448714  89.28417768\n",
      "  95.33168132  63.75576787  79.26572881  72.43618238  67.41599007\n",
      "  80.62782971  50.82896425  46.9826278   62.44415828 112.22451907\n",
      "  73.98110396  45.21522878  61.34183254 101.18579621 106.20000244\n",
      " 102.54024449  75.76029457  71.34065578  89.35253163  73.82266698\n",
      "  96.77839568  79.25303408  83.8211649  103.06377827  65.27856618\n",
      "  81.65661801  73.5024842   73.15410281  66.3162759   79.0604743\n",
      "  97.91623601  55.54919364  24.46986609  43.20345867  64.13370927\n",
      "  61.76987199  69.85121009  87.16443313  78.20078686  65.79754466\n",
      "  61.57881939  74.75434553  99.88211234  34.3667704   95.6414913\n",
      "  60.71275211  54.87876092  50.48262771  75.32229614  83.68677681\n",
      "  60.95576966  79.63783985  66.69052461  86.82219092  71.88480461\n",
      " 117.43047927  68.21357944  97.48498828  96.34794312  91.81659628\n",
      "  80.34565323  49.28944172  87.97784452  77.24970562  59.43900578\n",
      " 116.0116279   65.76143207  85.47572298  87.51094258 103.54258898\n",
      "  70.98620362  82.17947914  89.91304523  65.09413783  42.35937909\n",
      "  77.43412481 109.13162089  44.81563395  86.38678157  81.13785565\n",
      "  89.53689632  74.18759764  77.66284488  66.97390054  68.87170206\n",
      "  79.0323435   82.36594856  79.19991312  26.707715    44.65563394\n",
      "  70.72336752  66.73107886  87.99186429 103.72433985  65.7617891\n",
      " 105.62658873  39.10450433  35.52318488 106.04546024  55.12774951\n",
      "  99.48819084  84.59238767  78.66134728 104.28096399  75.50410102\n",
      "  91.24670771  90.6901406   88.22987223  90.7455004  115.25901233\n",
      "  76.15172514  93.54611249  80.53129918  62.04797484  80.84068935\n",
      "  90.59250553  95.16618179  63.68846767  39.4534422   77.70363121\n",
      "  77.60936348  64.20407359  67.68070802  73.95711903 116.71705646\n",
      "  78.58257749  65.97945575  59.2696001   95.69190171  55.92158595\n",
      "  54.67444019  97.52399311  85.07664648  70.60862347  57.55946742\n",
      "  51.35432684  64.38218423 115.47002453  60.06650616  49.78963439\n",
      "  63.71389539  98.61756774  87.01886527  86.33436232  70.18207156\n",
      "  75.08653204  56.48436213 108.14769295 104.26506017  64.38835889\n",
      "  79.12408066 115.18118895  70.5677182  126.23494479  63.93060349\n",
      "  63.63624499  82.05808945  83.87199349  70.73870678  82.72175211\n",
      "  54.6127457   56.12127572  95.90436162  52.35040045  96.8797979\n",
      "  67.97707677  68.04157097 120.20487475  51.05280435  57.8064049\n",
      "  88.64815667 118.81473671  61.71504866  74.30034049 108.99139888\n",
      "  57.35882778  50.32797323  65.62750289  82.81530522  94.30941792\n",
      "  98.30951519 108.06692308  29.37968191 106.97469858 101.42470271\n",
      "  94.29034501  47.80268105 121.4783391   89.94427667 100.72357873\n",
      "  60.36428433  61.28679619 128.9083554   78.5515241  112.85502509\n",
      "  81.50561738  91.86763601 110.32693321  66.7949505  107.8586474\n",
      " 109.31244037  85.30980564  84.27851481  64.22252095 107.54170006\n",
      "  70.43086369  77.04711083  63.49207809  85.32396114  92.91599495\n",
      "  59.63039555  65.25416585 112.26053191  74.59727526 105.13585476\n",
      " 100.92829901  83.45395222  93.37747869  69.47756512  67.29884576\n",
      "  71.03690445  95.94063763  85.30886073 129.38890102  95.41463087\n",
      "  68.62717548  83.64937587  75.0757592   82.77480325  96.51061455\n",
      "  60.815237    51.75091771  73.71250188  53.46828539 101.39935229\n",
      "  68.98909012  68.36121451 108.23608704  57.96363904  47.75985189\n",
      "  55.48442157  36.88817441  76.59700537 112.0497715  117.450779\n",
      "  98.13759555  63.45579727  74.15541257  68.20830495  93.73939923\n",
      "  80.14990994  87.78931928  50.25486551  75.39144097  85.43236593\n",
      "  69.36002682  82.47152623  54.8724609   57.05435765  80.73011826\n",
      "  62.64877695 106.2578731  109.69463197  82.1428944   77.35517293\n",
      " 108.57459529  67.83653907  59.34172727 141.70912562  83.93139548\n",
      " 100.20552331  68.37445373  77.47289827 107.31580506  65.08020808\n",
      " 104.3464517   45.91452503  97.11690222  46.15822959  89.68380882\n",
      "  54.20448238 102.62989928  61.25043089  68.74153134 100.02630158\n",
      " 120.64703472  53.41103338  95.15523557  73.67611702  95.72964709\n",
      " 101.7533184   99.57451891  84.31319204  68.69767612  48.65588197\n",
      "  95.24292296  90.59264627  70.7638746   89.31946654  49.92035081\n",
      "  89.18245082  78.89264196  88.44558657  88.95097499 110.8833012\n",
      "  40.22133308  50.96334405 105.10189398  75.1859867   71.05492313\n",
      "  85.37342212  70.4387111   62.94616245  85.56153423  70.52505905\n",
      "  68.24713278 102.57614926  97.10308146  78.59617513  79.76135128\n",
      "  97.27569289  74.78333572  86.53357111  84.86712216  78.53423109\n",
      "  81.83242828  78.97861561  99.79229371  89.42126113  50.98762009\n",
      "  41.42491526  66.46259701 106.64748291  54.19655691 130.29062561\n",
      " 105.94513121  58.04414801  92.75972462  53.03490978  57.55179785\n",
      "  45.46903997  69.03231038 100.09273072 100.94362338  97.44450983\n",
      "  52.52919745  63.64679819 122.14313494  74.03054416  91.53020666\n",
      "  94.2698736   60.61234885 122.78356112  77.83100695  61.99984315\n",
      "  73.16656583  78.25361543 108.4737198  116.94453424  68.84100327\n",
      "  51.57211174  73.0882364   88.27400747  94.09617338 100.41199108\n",
      "  56.46789402  71.172037    91.74382936  82.79500913 101.06681305\n",
      "  75.38060487  91.08866326  73.94177972  61.65882097  86.13182259\n",
      "  90.52661742  82.26802358  87.54260479  99.8949951   61.73498082\n",
      "  91.76237041  73.19991204  66.19343758  56.75247908  56.20709514\n",
      "  40.95401316  99.21386268  71.15110339  71.16196257  84.04290857\n",
      "  87.09553714 101.93968041  47.78512578  68.26917621  74.52463696\n",
      "  58.44803091  87.59934424  66.01009026 127.05677386  82.31126389\n",
      "  97.70020645 123.68908956  84.21551952  48.47116494  65.84229587\n",
      "  95.90853058  82.51767233  78.98996452  86.15379319  91.88866835\n",
      "  78.62195658  63.03458316  62.25724073 111.44413753  79.86924128\n",
      "  70.87589086  90.24475308  89.19741363  30.55402363  65.43806444\n",
      " 102.21106492  94.10565129  94.93107631  70.8581977   98.27997921\n",
      " 104.47520148  63.76792214  88.72761987 107.26757798  74.57973279\n",
      "  62.65794296  80.01546452 100.74028325  89.08937993  90.75946237\n",
      "  68.03017217 104.02482217  75.56378726  99.73795137  73.22123061\n",
      "  63.46519278  84.47227648  77.39085795  32.68487596  87.80725803\n",
      "  68.90361364  73.64940744  78.6470949   82.11429714  84.93858374\n",
      " 112.41207704 106.60888667  69.77052605  66.47384861  80.87451125\n",
      "  80.54476167  67.93550541  87.55698341 113.22204172  68.52317072\n",
      "  74.63619583 100.57528533  97.08903456  68.29812471  88.91349197\n",
      "  81.27440761  74.20120052  64.93334661 116.68680133  69.37571197\n",
      "  85.55380128  62.15582091  91.14421233  73.72360804  96.58424912\n",
      "  87.2059753   70.17579455  65.55467558 100.22537486  75.75488444\n",
      "  83.31593545 102.44215241 119.06076308 115.31358558  61.72316126\n",
      "  82.6753084   64.56113321  81.40179916  63.90303619  76.41899674\n",
      "  48.12451893  72.04988771  85.30219651  97.63632378  62.8218294\n",
      "  89.11881616  83.76818661  84.21603977  64.09697875  69.64674047\n",
      "  72.39453568  97.98493806  67.79937539  96.27215714  99.64790154\n",
      "  96.02492693  52.31455954  55.81529748  64.86661317  55.94943747\n",
      "  53.60172072  75.69090267  92.06351034  61.58924182  86.08115722\n",
      "  60.88898386  93.29605005  78.57502537  71.97390263  34.03279928\n",
      " 105.02828852  91.19996718 102.4238839   98.97573486  53.63108452\n",
      "  62.32474298  68.37495443 109.27036963  70.73417895  74.60951159\n",
      " 119.25068905  84.51721724  79.27513507  58.39329029  64.94766334\n",
      "  77.54917047  64.13871848  65.09571466  90.4514954   68.86397355\n",
      "  62.3517299   81.10600815  18.8947111   67.49348771  83.53759597\n",
      " 105.48580912 103.44604143 113.65434379  80.88195139  49.59011487\n",
      "  61.4504534   40.28611471  68.48187297  83.40731026  79.66600336\n",
      "  83.80176713 102.90101962 137.54546517  62.4275287   60.79470562\n",
      " 112.57295587  75.50231029  80.15793778  70.26898586  83.61777772\n",
      "  98.53795571 107.86372791  99.3943307   73.52751191 102.87051435\n",
      "  53.617433    84.53206338  73.37481395  87.08984585  87.7441199\n",
      "  49.03737363  61.29237561  76.077648    56.76179294  63.04449132\n",
      "  90.42266901  81.85850441  72.49952155 103.88435406  62.18465366\n",
      "  90.96348266  88.1294864   73.5173679   96.08552384  54.7862649\n",
      " 103.23394099  78.43159255  88.11495803  73.78166858 106.69246521\n",
      " 113.83918687  63.78594361  47.75942829  85.02889254  91.9471998\n",
      "  98.3122892   85.00024781  67.36910637  87.48514242  85.27956236\n",
      "  89.47739359  78.81681164  77.73514278 104.3104604   59.45811916\n",
      "  88.24751378  68.24860858  58.44921161  40.03927812  49.31096895\n",
      "  63.87938114  68.45991145 109.04566607  93.77888575  82.29215513\n",
      "  61.00602801  68.07305519  74.47128004  95.28776465  72.91563656\n",
      "  55.0273762  112.2373271   72.95324378  52.76502932  86.14977694\n",
      "  68.83332217  84.73529925  49.16891651  80.06338808  56.3093762\n",
      "  91.73398104  78.54310063  84.04463418  43.95803115  88.06700218\n",
      "  67.30069505  79.75054149  74.8822207   81.4274826   58.38802129\n",
      "  80.86212227 102.51246123  62.24635977  53.69307479  80.09961087\n",
      "  71.30114816  64.78422454  53.56921477  91.80616312 111.50361692\n",
      "  68.69008622  81.0788076   82.25649581  58.80116295  85.62633546\n",
      "  94.49027958  61.60888728  79.24896606  81.05182767  72.83939387\n",
      " 116.62831461  70.93266697  62.53668543  54.02357965  40.8773168\n",
      "  62.06884193  83.42339737  75.92083221  56.23366104  56.02731163\n",
      "  50.00531621  91.67996749 111.3554627   93.92631183  69.78782337\n",
      " 108.4990347   40.27051346  90.1695003   84.42033033  61.09877249\n",
      "  67.52638443  89.2999944   62.74789491  90.37507085 123.12352157\n",
      " 101.3267693   88.21319806 119.07801104  87.14774288  71.68430796\n",
      "  88.08734381  73.5987276   85.44874863  59.28096341 106.13694541\n",
      "  86.14047206  97.16294841  98.92281222  45.52304917  92.48817926\n",
      "  68.73297324  86.44526132 112.52050783 108.0426689   53.49273834\n",
      "  74.35292897  74.90225707 113.68011438 114.47749151 107.14826607\n",
      " 116.16482512  55.09506537 110.49130725  88.83819898  65.96143916\n",
      " 100.05437264  63.70798542  78.29518048  78.20322551 124.99768577\n",
      " 106.69522104  89.47012389  71.37383104  91.28053825  74.2847222\n",
      "  61.02132241  41.26068842  73.26166765  94.30875696 118.01664898\n",
      "  88.33471523  67.05369728  66.03494451 102.46330479  50.02233445\n",
      "  69.21210964  88.24840517  95.5913494   58.48740302  90.53084934\n",
      " 105.35411927  79.22409951  99.27175911  53.84041041  97.46169738\n",
      "  62.24327384  66.6107744  101.7470073   72.71144276  71.65826206\n",
      "  80.57496794  99.57443831  46.79803309  82.46147038  80.53195417\n",
      "  85.325269    99.30553096  37.69824235  78.62448777  56.783321\n",
      " 120.99841874  80.53959988 108.68056482  60.02059229  62.91395567\n",
      "  78.80143501 101.10913007  53.98180492  86.85319914  82.63575261\n",
      " 108.47427494 109.16998779 105.79571306  77.31712923  63.17745437\n",
      "  82.9547594   44.78540139  59.26538173  64.42806961  85.16572613\n",
      "  71.02177677 129.02336669  61.21337902  78.91004854  79.67621989\n",
      "  91.78647713  55.70953124  85.40695225  81.76618076  48.13325562\n",
      "  83.49736421  61.43176861  63.19581899  73.99849543  89.44592269\n",
      "  76.65258803  86.53838468  92.84055588  81.59847267  64.83320449\n",
      "  83.92083925  58.27946905  51.76297429  69.05270635  82.60025032\n",
      "  96.74322666  81.48803686  69.06376243  83.88050792 101.64497863\n",
      "  36.81463831  72.53376796  58.47294585  95.20963721  54.79210276\n",
      "  74.21869373  90.81349654  96.78975719  82.85909641  47.71857516\n",
      "  52.09475337  59.48363252  97.47684759  75.15442497  97.74147472\n",
      "  70.57973211  58.94411801  93.95263825  53.79940912 105.69314676\n",
      "  83.13789811  53.18240153  42.88894834  87.5195396   75.42086756\n",
      "  76.33731629  71.05166422  44.19170504  94.40384027 101.08166754\n",
      "  96.34008374  85.12793103  99.57005394  89.58993784 107.12695879\n",
      " 112.54849862  83.62387776  89.90560394  29.48280533  97.16442985\n",
      "  87.83608285  73.9714497   50.93258427  68.47846941  79.73943998\n",
      "  83.15555573  85.85481926  97.24717836  96.27928897  49.54894991\n",
      "  65.62879747 101.49817427  80.07921298  86.31087862  63.74328616\n",
      "  87.59215463  69.48645625  85.3491649   70.28394425  49.44858089\n",
      "  88.79218617 100.86600325  99.68723313  67.81337366  78.16798739\n",
      "  69.26793223  91.00625441  49.52140106  56.60424562  73.81956873\n",
      "  62.14667059  84.7601078   82.53586565  49.37529849  89.2427162\n",
      "  52.65720576  89.98066063  71.14224838  66.12446817  69.7259392\n",
      "  71.85035118  55.16398971  77.79602767  62.4955562  129.00492955\n",
      "  84.92844391  63.92747482  60.53249549 115.71996661 111.63179537\n",
      "  51.44333256  93.79518825  98.34185054 107.16058455  84.46872792\n",
      "  90.97527471  64.70030747  77.05287551  99.48653165  87.48109901\n",
      "  72.96472479  82.81837567  73.8865167   70.48197119  86.6431289\n",
      "  85.70037536  58.82803268  88.91472473  93.34324555 106.66644266\n",
      "  77.71256804  58.24657116  55.9029591   42.29558252 106.73117663\n",
      "  62.13848387  51.18912507  86.63392451  41.55679143  77.69879003\n",
      "  92.49640098  82.95345045  56.19916519  44.77604516  73.5067768\n",
      "  81.17391874  65.29404465  64.47434716  48.8252266   70.66960055\n",
      "  78.14467394  97.47537039  81.89245439  66.50248557  32.33630669\n",
      "  77.13699309  89.1552598   70.37186115  93.74599145  61.39671202\n",
      "  78.62272323  70.95880754  41.47586522  76.50194471 103.51060155\n",
      "  89.75669357  76.492302    68.63765834 105.97028809  89.57225767]\n"
     ]
    },
    {
     "data": {
      "text/plain": [
       "(array([0.00056997, 0.00195417, 0.00724671, 0.01457484, 0.01832033,\n",
       "        0.01872744, 0.01139931, 0.00643247, 0.00195417, 0.00024427]),\n",
       " array([ 18.8947111 ,  31.17615256,  43.45759401,  55.73903546,\n",
       "         68.02047691,  80.30191836,  92.58335982, 104.86480127,\n",
       "        117.14624272, 129.42768417, 141.70912562]),\n",
       " <BarContainer object of 10 artists>)"
      ]
     },
     "execution_count": 32,
     "metadata": {},
     "output_type": "execute_result"
    },
    {
     "data": {
      "image/png": "[encoded data removed]",
      "text/plain": [
       "<Figure size 432x288 with 1 Axes>"
      ]
     },
     "metadata": {},
     "output_type": "display_data"
    }
   ],
   "source": [
    "mu , sigma=80, 20 # mean and standard deviation\n",
    "\n",
    "# generating 1000 values for a normal random variable with standard values\n",
    "AI=np . random. normal (mu , sigma , 1000) #annual income\n",
    "print(AI)\n"
   ]
  },
  {
   "cell_type": "code",
   "execution_count": 33,
   "metadata": {},
   "outputs": [
    {
     "data": {
      "text/plain": [
       "(array([0.00056997, 0.00195417, 0.00724671, 0.01457484, 0.01832033,\n",
       "        0.01872744, 0.01139931, 0.00643247, 0.00195417, 0.00024427]),\n",
       " array([ 18.8947111 ,  31.17615256,  43.45759401,  55.73903546,\n",
       "         68.02047691,  80.30191836,  92.58335982, 104.86480127,\n",
       "        117.14624272, 129.42768417, 141.70912562]),\n",
       " <BarContainer object of 10 artists>)"
      ]
     },
     "execution_count": 33,
     "metadata": {},
     "output_type": "execute_result"
    },
    {
     "data": {
      "image/png": "[encoded data removed]",
      "text/plain": [
       "<Figure size 432x288 with 1 Axes>"
      ]
     },
     "metadata": {},
     "output_type": "display_data"
    }
   ],
   "source": [
    "plt.hist(AI, density=True)"
   ]
  },
  {
   "cell_type": "code",
   "execution_count": 29,
   "metadata": {},
   "outputs": [],
   "source": [
    "import seaborn as sns\n",
    "sns.set()"
   ]
  },
  {
   "cell_type": "code",
   "execution_count": 30,
   "metadata": {},
   "outputs": [
    {
     "name": "stderr",
     "output_type": "stream",
     "text": [
      "C:\\Users\\Muslim\\anaconda3\\lib\\site-packages\\seaborn\\distributions.py:2551: FutureWarning: `distplot` is a deprecated function and will be removed in a future version. Please adapt your code to use either `displot` (a figure-level function with similar flexibility) or `histplot` (an axes-level function for histograms).\n",
      "  warnings.warn(msg, FutureWarning)\n"
     ]
    },
    {
     "data": {
      "text/plain": [
       "<AxesSubplot:ylabel='Density'>"
      ]
     },
     "execution_count": 30,
     "metadata": {},
     "output_type": "execute_result"
    },
    {
     "data": {
      "image/png": "[encoded data removed]",
      "text/plain": [
       "<Figure size 432x288 with 1 Axes>"
      ]
     },
     "metadata": {},
     "output_type": "display_data"
    }
   ],
   "source": [
    "sns.distplot(AI)"
   ]
  },
  {
   "cell_type": "markdown",
   "metadata": {},
   "source": [
    "## 6. The risk associated to No-cashback (R), is either high (>0.5) or low (<=0.5) and is given be the following formula: \n",
    "R = 12*(ND+1)/AI\n",
    "\n",
    "Construct 1000 samples."
   ]
  },
  {
   "cell_type": "code",
   "execution_count": 34,
   "metadata": {},
   "outputs": [
    {
     "name": "stdout",
     "output_type": "stream",
     "text": [
      "[0.28807274 0.35625134 0.17827091 0.83106607 0.14076561 0.77556604\n",
      " 0.34438775 0.89330989 1.13823416 0.66872082 0.50313715 0.09764125\n",
      " 0.13573435 0.53458937 0.50761707 1.30827956 0.53804912 0.17943624\n",
      " 0.64029645 0.09739325 0.26850553 0.22756855 0.48803341 1.0072872\n",
      " 0.95380137 0.38629725 0.31641097 0.60915851 0.16575645 0.73225194\n",
      " 0.28703091 0.67424416 0.27957806 0.36932741 0.26880463 0.12587631\n",
      " 0.56465479 0.30277902 0.16566307 0.71199726 1.33948787 0.7082576\n",
      " 0.25541356 0.7686868  0.21385701 0.32440716 1.06158923 0.39125013\n",
      " 0.71156232 0.2259887  0.35108167 0.31678863 0.33641406 0.40289849\n",
      " 0.6502068  0.37198385 0.45424128 0.57264773 0.23286552 0.18382757\n",
      " 0.29391372 0.65303915 0.32807456 0.72380421 0.45534764 0.24510746\n",
      " 0.43204948 0.98079817 0.55551108 0.56132727 0.38853893 0.17179373\n",
      " 0.27534166 0.30690228 0.36475525 0.5846166  0.32105157 0.12014163\n",
      " 0.69834901 0.12546856 0.3953041  0.43732766 0.47541107 0.79657688\n",
      " 0.28678366 0.59059217 0.60272855 0.53980682 0.27642703 0.3338675\n",
      " 0.40875248 0.52775416 0.61547938 0.24909717 0.78417196 0.44806407\n",
      " 0.4869197  0.68198988 0.62136159 0.40377526 0.31031372 0.54743333\n",
      " 0.14039074 0.82275425 0.5794717  0.33809387 0.43806557 0.26692456\n",
      " 1.29043878 0.56658054 0.15497043 0.21991793 0.5355274  0.41673042\n",
      " 0.7394822  0.67011481 0.48525631 0.30902808 0.17917427 0.69694807\n",
      " 0.30367314 0.29138255 0.60606127 2.69585024 1.07489237 0.16967518\n",
      " 0.71930502 0.40912873 0.34707379 0.91238394 0.22721552 0.30687002\n",
      " 1.68903774 0.33947705 0.21767622 0.12061733 0.56742694 0.30510538\n",
      " 0.23014747 0.47679529 0.26302319 0.66159342 0.27201671 0.79342777\n",
      " 0.31234    0.78790073 0.12827898 0.29802077 0.19339874 0.5937604\n",
      " 0.26492258 0.50438085 0.94208578 0.91246791 0.77216469 0.46386155\n",
      " 0.74761611 0.88651555 0.48676856 0.30843821 0.45811681 0.54562439\n",
      " 0.40492934 0.25080492 0.85834476 0.43896197 0.24609329 0.42314785\n",
      " 0.16995091 0.62544012 1.16835335 0.74554787 0.4156923  0.99889279\n",
      " 0.72304206 0.75336784 0.36504652 0.4137034  0.55597793 0.51295152\n",
      " 0.63926244 0.63734454 0.11095937 0.23018257 0.37273818 0.45498159\n",
      " 0.41673472 0.34009885 0.66542589 0.93851765 0.75428712 0.4387136\n",
      " 0.14307517 0.50891516 0.29012925 0.65918678 1.06911326 0.50049861\n",
      " 0.45844922 0.3715945  0.52959029 0.35272554 0.29948869 0.4701015\n",
      " 1.03794727 0.40609981 0.20199515 0.9722102  0.64602665 0.33030129\n",
      " 0.83683719 0.47687198 1.09710101 0.43470226 0.25448148 0.24412693\n",
      " 0.55521151 0.40844554 0.22435212 0.23662874 0.12726648 0.25103194\n",
      " 0.29634913 0.66707969 0.23827589 0.59637914 0.78320296 0.37235755\n",
      " 0.30553195 0.53165555 0.73614558 0.39186814 0.54383819 0.5389629\n",
      " 0.33377018 0.4391083  0.28132757 0.85431026 0.37370068 0.11158462\n",
      " 0.51113955 0.31149773 0.18899996 0.56256179 0.12914892 0.60371895\n",
      " 0.36779261 0.32068261 0.48259135 0.22827607 0.23779257 0.43137562\n",
      " 0.25702129 0.17271762 0.7132366  0.67570512 0.12507734 0.42199602\n",
      " 0.18548732 0.25153375 0.34971569 0.28691188 0.31967709 0.43491496\n",
      " 0.24867731 0.59195691 0.92751978 0.32558927 1.12216054 0.71006371\n",
      " 0.52182164 1.0532288  0.22173751 0.20702634 0.75377118 0.64883077\n",
      " 1.30123002 0.31332818 0.3212858  0.10217046 0.61138649 1.1346481\n",
      " 0.48546692 0.17593166 0.5120579  0.29943889 0.27338178 0.9551314\n",
      " 0.15916926 0.56184795 0.51903094 0.29100953 0.87475574 0.63097722\n",
      " 0.89186045 0.76617617 0.33879842 0.43757839 0.43826067 0.62051442\n",
      " 0.33156928 0.70758327 0.60665575 0.25404151 0.42892174 0.11975388\n",
      " 0.52651243 0.46467863 0.44727801 0.73755142 0.34500454 0.78406561\n",
      " 0.24712485 0.51995062 0.26760683 0.22138391 0.35077497 1.37141892\n",
      " 0.52370087 0.35990534 0.19892739 1.34803608 0.37832916 0.32575007\n",
      " 0.25070603 0.47172909 0.84358931 0.14232648 1.04807039 0.73988999\n",
      " 0.25198723 0.26492217 0.50873416 0.13434921 0.48076585 0.40366686\n",
      " 0.30421088 0.13567664 0.94434041 0.54110943 0.89504741 0.70639007\n",
      " 0.34252475 0.79802105 0.33776688 0.56223587 0.34072174 0.57191731\n",
      " 0.28049988 0.51045686 0.52749469 0.5849313  0.12358001 0.61071674\n",
      " 0.45134642 0.4934429  0.16046356 0.41602351 0.42419254 0.45839883\n",
      " 0.73320567 0.30387973 0.12024977 0.40258882 0.23535125 0.86904221\n",
      " 0.54165804 0.90016189 0.44283256 0.27630537 0.45306471 0.62021756\n",
      " 0.64683245 0.45253212 0.20850782 0.79174753 0.17383164 0.23977765\n",
      " 0.47551295 0.24629402 0.91377752 0.37708103 0.49122695 0.81047628\n",
      " 0.26220852 0.38188234 0.39595892 0.29319886 0.77090099 0.77419551\n",
      " 0.49202801 0.15334755 0.22125175 0.30783824 0.17431472 0.4653678\n",
      " 0.65674043 0.13594036 0.51011639 0.5975382  0.42502028 0.33721109\n",
      " 0.26159798 0.43480882 0.59366669 0.47757643 0.13173977 0.81144923\n",
      " 0.77847742 0.13932133 0.2651154  0.43759408 0.27415223 0.36037841\n",
      " 0.58313779 0.13077256 0.49180387 0.18128685 0.84577803 0.64048853\n",
      " 0.58602316 0.6047542  0.3373103  0.67451765 0.28556841 0.27555947\n",
      " 0.35315002 0.75337251 0.52732437 0.32204115 0.61593178 0.68493663\n",
      " 0.72716156 0.47222984 0.4373642  0.49129886 0.29105235 0.5699662\n",
      " 0.74270961 0.36450734 0.37535764 0.29084679 0.30383607 0.4178574\n",
      " 0.26118563 0.45788736 0.57111506 0.38549733 0.10767727 0.45073672\n",
      " 0.33862008 0.26594344 0.2690661  1.96373482 0.36675901 0.46961647\n",
      " 0.89261377 0.252815   0.50805695 0.2442003  0.34457938 0.56454717\n",
      " 0.40573612 0.22373955 0.64360649 0.38303204 0.59988404 0.23823638\n",
      " 0.40408857 0.26443524 0.52917696 0.34607125 0.79403114 0.24063057\n",
      " 0.65554757 0.94540011 0.42617533 0.31011415 1.46856913 0.40998889\n",
      " 0.87078162 0.4888023  0.457741   0.73068883 0.14127855 0.21350019\n",
      " 0.22512195 0.34398479 0.90261059 0.44513407 0.14898548 0.8831906\n",
      " 0.2741072  0.42394572 0.35024649 0.4823397  0.59656803 0.37079368\n",
      " 1.05420171 0.40488793 0.44294386 1.13205716 0.55441467 0.20567879\n",
      " 0.3459424  0.42078785 0.57918952 0.39497845 0.48831034 0.12424386\n",
      " 0.41281575 0.5129974  0.36610661 0.35919047 0.47521688 0.28806014\n",
      " 0.35141784 0.40315549 0.41625624 1.1664989  0.72573059 0.37174069\n",
      " 0.14741689 0.37556901 0.47108705 0.49870628 0.4996538  0.14067633\n",
      " 0.24581016 0.95508202 0.5386068  0.14325247 0.28498134 0.37443262\n",
      " 0.51689425 0.4972751  0.36740341 0.70797112 0.24929326 0.48169604\n",
      " 0.2499351  0.9175266  0.85997929 0.55498504 0.6434381  1.11936705\n",
      " 0.63415811 0.2606896  0.77935689 0.27880666 0.39415997 0.12862281\n",
      " 0.45816084 0.1667271  1.41040411 0.57127466 0.26315799 0.23432035\n",
      " 0.24248368 1.11875418 0.38507981 0.35100572 0.10981934 0.50894773\n",
      " 0.3216748  0.2012567  0.42594871 1.05960084 0.41100613 0.55429246\n",
      " 0.61896213 0.56128343 0.5530318  0.26533558 0.17425657 0.96228284\n",
      " 0.88772708 1.90529507 0.53338479 0.28729579 0.56879689 0.46401002\n",
      " 0.21116659 0.44509312 0.24198371 0.39055855 1.19147752 0.52568656\n",
      " 0.43161684 0.15062887 0.42958521 0.34985076 0.26173164 0.57666867\n",
      " 0.78954244 0.42639015 0.4768066  0.2994089  0.68308941 0.71755076\n",
      " 0.36534145 0.22250297 0.12073123 0.32640843 0.233303   0.89523122\n",
      " 0.28391594 1.14480699 0.41336622 0.2735226  0.73413393 0.58734875\n",
      " 0.47320075 0.42281962 0.57102531 0.26542017 0.29318884 0.66207333\n",
      " 0.23102613 0.38594731 0.52768428 0.27232656 0.65290694 0.37466622\n",
      " 0.219033   0.34872252 0.61199828 0.54474293 0.16264203 0.22494559\n",
      " 0.42164742 0.18812922 0.75377787 0.7056425  0.39152905 0.6103001\n",
      " 0.28235212 0.71249275 0.2743323  0.422141   0.40233626 0.45675535\n",
      " 0.77185167 0.57520597 0.40364546 0.4079435  1.23079432 0.20530645\n",
      " 0.59941141 1.94682851 0.93927021 0.52585519 0.33013692 0.63980287\n",
      " 0.43746576 0.39340375 0.52884361 0.48340783 0.50373729 0.32914751\n",
      " 0.65421982 0.32074891 0.16448892 0.68227007 0.55716917 0.34866834\n",
      " 0.28323497 0.73216989 0.44964372 0.85243352 0.26162606 0.45834707\n",
      " 0.28556255 0.81896298 0.68129945 0.53491275 0.3009384  0.64100663\n",
      " 0.29474078 1.02760804 0.59360302 0.23411788 0.57834707 0.89397004\n",
      " 0.44944039 0.50490071 0.18523028 0.67202777 0.52284072 0.32285948\n",
      " 0.3493954  0.2960083  0.58354054 0.61223279 0.2802876  0.63498595\n",
      " 0.58433128 0.75710767 0.14805342 0.49423805 0.3086729  0.33834904\n",
      " 0.95943684 0.66637569 0.88068403 0.77333487 0.28768907 0.47417815\n",
      " 0.64018596 0.42836251 0.47994897 0.2617802  0.43105205 0.38327918\n",
      " 1.0316986  0.22120012 0.29798478 0.26616539 0.28429171 0.19640329\n",
      " 0.17770832 0.40313552 0.38248295 0.79667987 0.0974631  0.23685745\n",
      " 0.13603407 0.30232282 0.55078879 0.16740065 0.40868527 0.65218519\n",
      " 0.28087012 0.40485172 0.11306148 0.6965367  0.37051161 0.3639201\n",
      " 0.52720546 0.25949262 1.04753216 0.69408084 0.31994168 0.33320169\n",
      " 0.89731806 0.48417729 0.16020879 0.42223744 0.3144723  0.33598304\n",
      " 0.30990448 1.08902675 0.32581749 0.27015406 0.54577342 0.71960873\n",
      " 0.37671887 0.45979842 0.15344636 0.38400711 0.33740968 0.53649194\n",
      " 0.3362577  0.65731427 0.32308124 0.39330514 0.8725012  0.32759287\n",
      " 0.25448326 0.20336114 0.67923466 0.7158442  0.5451659  0.35134529\n",
      " 1.19946421 0.34676013 0.27195959 0.37660312 0.61551716 0.53020601\n",
      " 0.34170472 0.60587625 0.2417606  0.66864275 0.36937588 0.96395958\n",
      " 0.36030207 0.47175835 0.82517961 0.5023845  0.44678888 0.36153857\n",
      " 1.02568413 0.14552251 0.44702752 0.42191487 0.60419595 0.63663446\n",
      " 0.45787262 0.21132966 0.49587425 0.74497514 0.22083065 1.1995883\n",
      " 0.76294678 0.30456298 0.23736729 0.8891885  0.4144925  0.58086238\n",
      " 0.22125061 0.32976096 0.22685229 0.4656148  0.37988235 0.72328581\n",
      " 0.80383337 0.60743724 0.74501689 0.2818035  0.67584904 0.27901923\n",
      " 0.98017788 0.15207189 0.75304777 0.52295285 0.86161199 0.70251892\n",
      " 0.29351989 0.49861576 0.28743422 0.39067734 0.56965794 1.13515822\n",
      " 0.26831855 0.31310097 0.13866679 0.25850772 0.29412315 0.37018068\n",
      " 0.28598379 0.20590442 0.46365187 0.3475606  0.43583403 0.37211907\n",
      " 0.44178264 0.17375248 0.42918195 0.35417391 0.97787189 0.82720093\n",
      " 1.23133868 0.25207532 0.21900966 0.16168433 0.2642779  0.6199003\n",
      " 0.28964834 0.5029488  0.46069898 0.40347233 0.24621231 0.15967124\n",
      " 0.24554571 0.34004096 0.81433062 0.38317178 0.66915233 0.22707243\n",
      " 0.14433851 0.67691565 1.11916943 0.54844895 0.95464296 0.47159111\n",
      " 0.33778238 0.54308835 0.50845389 0.11871589 0.24911749 0.70482155\n",
      " 0.48207265 0.40183084 0.22403324 0.42648281 0.14349968 0.5338933\n",
      " 1.2210507  0.24700397 0.40985434 0.48667425 0.94242224 0.52571268\n",
      " 0.15049015 0.14430786 0.69885419 0.37019069 0.1246374  0.4843695\n",
      " 0.54853969 0.59114364 0.29970325 0.4170969  0.56476536 0.41099571\n",
      " 0.86347762 0.70299458 0.34147201 0.97070531 0.27029405 0.47587887\n",
      " 0.240753   0.70782498 0.15351553 0.69296135 0.26371814 0.96927791\n",
      " 0.42399646 0.48767557 0.965458   0.42472811 0.43617402 0.97214602\n",
      " 0.26892951 0.91155615 0.80017194 0.33735228 0.54442782 0.34420476\n",
      " 0.50104139 0.43506643 0.7712476  0.3840273  0.0930197  0.70647709\n",
      " 0.75085087 1.18944378 0.31109584 0.32248877 0.46653276 0.383815\n",
      " 0.36606999 0.33594442 0.56825764 0.26380794 0.37094105 0.46721164\n",
      " 0.60309671 0.27434498 0.4933891  0.57958152 0.97446738 1.02153783\n",
      " 0.27699831 0.70011362 0.81593754 0.13496077 0.38567333 0.11250024\n",
      " 0.46324553 0.82408284 0.85863076 1.13487029 0.44972801 0.57935112\n",
      " 0.46884958 0.4155416  0.28876147 0.7722128  0.51893911 0.28931889\n",
      " 0.85410521 0.53600089 0.48975076 0.14783073 0.55135197 0.18612054\n",
      " 0.24577459 0.50941281 0.30712266 0.12310802 0.14653365 0.72177753\n",
      " 1.11329968 0.31113476 0.53838663 0.1705227  0.38401642 0.39090041\n",
      " 0.91576579 1.0146732  0.28932489 0.31371752 0.23186031 0.26738953\n",
      " 0.15687853 0.69932456 0.22647858 0.2679401 ]\n"
     ]
    }
   ],
   "source": [
    "R=12*(ND+1) /AI\n",
    "print(R)"
   ]
  },
  {
   "cell_type": "code",
   "execution_count": 35,
   "metadata": {},
   "outputs": [
    {
     "name": "stderr",
     "output_type": "stream",
     "text": [
      "C:\\Users\\Muslim\\anaconda3\\lib\\site-packages\\seaborn\\distributions.py:2551: FutureWarning: `distplot` is a deprecated function and will be removed in a future version. Please adapt your code to use either `displot` (a figure-level function with similar flexibility) or `histplot` (an axes-level function for histograms).\n",
      "  warnings.warn(msg, FutureWarning)\n"
     ]
    },
    {
     "data": {
      "text/plain": [
       "<AxesSubplot:ylabel='Density'>"
      ]
     },
     "execution_count": 35,
     "metadata": {},
     "output_type": "execute_result"
    },
    {
     "data": {
      "image/png": "[encoded data removed]",
      "text/plain": [
       "<Figure size 432x288 with 1 Axes>"
      ]
     },
     "metadata": {},
     "output_type": "display_data"
    }
   ],
   "source": [
    "sns.distplot(R)"
   ]
  },
  {
   "cell_type": "markdown",
   "metadata": {},
   "source": [
    "## 7. The past experience whether or not the client has had a previous approved loan (HA) is either Yes (=1) or No (=0).  Construct a 1000 samples with probability of being cashed a loan = 0.3 [Hint: n=1]"
   ]
  },
  {
   "cell_type": "code",
   "execution_count": 36,
   "metadata": {},
   "outputs": [
    {
     "name": "stdout",
     "output_type": "stream",
     "text": [
      "[0 0 1 0 0 0 0 0 0 0 0 1 0 0 1 0 0 0 1 0 0 0 0 1 1 0 1 1 0 1 1 0 0 0 0 0 0\n",
      " 0 1 0 0 0 0 1 0 0 0 0 1 0 0 1 1 0 0 0 0 1 0 0 0 0 1 0 1 1 0 1 1 0 0 0 0 0\n",
      " 0 0 0 1 1 1 0 0 0 0 1 0 1 0 0 1 0 1 1 0 0 1 0 0 0 0 0 0 0 0 1 0 0 0 0 0 1\n",
      " 0 0 0 0 0 0 0 0 0 0 0 0 0 0 0 1 1 0 0 1 0 0 0 0 1 0 0 0 1 0 0 1 0 1 0 0 0\n",
      " 0 0 0 0 0 1 0 0 1 0 1 0 1 1 0 0 0 0 0 0 1 0 1 0 0 0 0 0 0 1 1 0 1 1 0 0 0\n",
      " 1 0 0 0 0 0 0 0 1 1 1 1 1 0 0 1 0 0 1 1 0 0 1 0 0 0 0 1 1 0 0 0 0 1 1 0 0\n",
      " 0 0 1 1 0 0 0 0 1 0 1 0 0 0 0 0 0 0 0 0 0 1 0 0 0 0 0 1 1 1 1 0 1 0 0 0 0\n",
      " 0 1 0 0 0 0 0 0 1 1 0 0 1 1 0 0 0 1 0 0 0 0 0 0 0 0 1 0 1 0 0 0 0 0 0 0 0\n",
      " 0 0 0 1 0 0 1 1 0 0 1 1 1 1 1 1 0 0 0 1 0 1 0 0 0 1 0 0 1 0 0 0 0 0 1 0 1\n",
      " 0 0 0 1 0 0 0 0 0 0 1 1 1 0 0 0 0 0 1 1 0 0 0 0 0 1 0 0 1 0 1 1 0 0 1 0 1\n",
      " 0 0 0 1 0 0 0 1 0 1 1 0 0 1 0 1 1 0 0 0 1 0 1 0 1 1 1 0 1 0 0 1 1 0 1 0 0\n",
      " 1 1 0 0 1 0 0 0 0 1 0 0 0 0 0 1 1 1 0 0 0 0 0 0 1 0 1 0 0 0 0 1 1 0 0 0 0\n",
      " 0 1 0 0 0 0 0 0 0 0 0 1 0 0 0 0 0 1 1 0 1 0 0 0 0 0 0 1 0 0 1 0 0 0 1 1 0\n",
      " 0 1 1 0 1 0 0 0 0 0 0 1 1 0 0 1 0 1 0 1 0 1 1 1 0 0 1 0 1 0 0 1 1 0 0 0 0\n",
      " 0 1 0 0 0 0 0 0 1 0 0 1 0 1 0 1 0 1 0 1 0 1 0 1 0 0 0 0 1 1 0 1 1 0 0 0 1\n",
      " 0 1 1 0 0 0 0 0 0 1 1 0 0 0 0 0 0 1 0 0 0 0 0 1 0 1 1 0 0 1 1 0 1 1 1 0 0\n",
      " 0 0 0 1 0 0 1 1 0 0 0 0 0 1 0 0 0 0 1 1 0 0 1 0 0 1 0 0 0 0 0 0 0 0 0 1 1\n",
      " 0 1 0 0 0 0 0 1 0 0 0 1 0 1 0 0 0 0 0 0 1 0 1 0 0 1 0 1 0 0 1 0 0 0 1 1 0\n",
      " 1 0 1 0 0 0 0 1 0 0 0 1 1 0 0 0 0 0 0 0 0 1 0 0 1 1 1 0 0 0 0 1 0 0 1 1 0\n",
      " 0 1 1 1 1 1 1 1 0 0 0 0 0 1 0 0 0 0 0 0 0 0 1 1 0 0 1 0 0 1 0 0 1 0 1 0 1\n",
      " 1 0 1 0 0 1 0 1 1 0 0 1 0 0 1 0 1 0 1 0 0 0 0 0 0 0 0 1 0 0 0 1 0 0 0 1 0\n",
      " 0 0 0 1 0 1 0 1 0 0 0 0 0 0 1 0 0 1 0 0 0 1 1 0 1 1 0 0 0 1 0 0 1 1 0 0 1\n",
      " 0 0 0 0 0 0 0 0 0 0 0 0 1 0 1 0 0 1 0 1 0 0 0 0 1 0 1 0 0 0 1 0 0 1 0 1 1\n",
      " 1 0 1 1 0 0 0 0 0 0 0 0 1 0 0 1 1 1 1 0 0 0 1 0 0 0 0 0 0 1 0 0 1 1 1 0 0\n",
      " 0 1 0 0 0 0 0 0 1 0 0 1 0 1 0 0 0 0 0 0 1 1 1 1 1 0 1 0 0 0 0 1 0 1 0 1 1\n",
      " 0 0 0 0 1 1 1 0 0 0 1 0 0 1 1 1 0 1 0 1 0 0 1 0 0 0 0 0 0 0 0 0 0 1 0 1 1\n",
      " 0 0 0 1 0 1 0 0 1 0 0 1 0 0 0 0 0 0 1 0 0 0 0 0 0 0 1 0 0 0 0 0 1 1 0 0 1\n",
      " 1]\n"
     ]
    }
   ],
   "source": [
    "HA=np . random . binomial (1 , 0.3, 1000)\n",
    "print(HA)\n"
   ]
  },
  {
   "cell_type": "code",
   "execution_count": 37,
   "metadata": {},
   "outputs": [
    {
     "data": {
      "image/png": "[encoded data removed]",
      "text/plain": [
       "<Figure size 432x288 with 1 Axes>"
      ]
     },
     "metadata": {},
     "output_type": "display_data"
    }
   ],
   "source": [
    "plt.hist(HA)  # The hist() function will read the array and produce a histogram of the random variables values\n",
    "n = 1\n",
    "p = 0.3\n",
    "plt.title(\"Binomial distribution simulation (%d,%.2f)\" % (n, p))\n",
    "plt.xlabel(\"HA\")\n",
    "plt.ylabel (\"Frequency\")\n",
    "plt.show()"
   ]
  },
  {
   "cell_type": "code",
   "execution_count": 38,
   "metadata": {},
   "outputs": [
    {
     "name": "stderr",
     "output_type": "stream",
     "text": [
      "C:\\Users\\Muslim\\anaconda3\\lib\\site-packages\\seaborn\\distributions.py:2551: FutureWarning: `distplot` is a deprecated function and will be removed in a future version. Please adapt your code to use either `displot` (a figure-level function with similar flexibility) or `histplot` (an axes-level function for histograms).\n",
      "  warnings.warn(msg, FutureWarning)\n"
     ]
    },
    {
     "data": {
      "text/plain": [
       "<AxesSubplot:ylabel='Density'>"
      ]
     },
     "execution_count": 38,
     "metadata": {},
     "output_type": "execute_result"
    },
    {
     "data": {
      "image/png": "[encoded data removed]",
      "text/plain": [
       "<Figure size 432x288 with 1 Axes>"
      ]
     },
     "metadata": {},
     "output_type": "display_data"
    }
   ],
   "source": [
    "sns.distplot(HA)"
   ]
  },
  {
   "cell_type": "markdown",
   "metadata": {},
   "source": [
    "## 8. The amount of previously approved loan (AA) is supposed to be a function of a normal distribution N(100,10). \n",
    "\n",
    "AA = HA * [0.1*AI + R * N(100,10)]\n",
    "\n",
    "In other words, if he was cashed a previous loan (HA = 1) he got a legal amount of 10% of his annual income in addition to a percentage of 100k with tolerance, conditioned with his risk factor. Construct 1000 samples.\n"
   ]
  },
  {
   "cell_type": "code",
   "execution_count": 39,
   "metadata": {},
   "outputs": [],
   "source": [
    "mu , sigma =100 , 10\n",
    "N=np . random. normal (mu , sigma , 1000)\n",
    "AA=HA* (0.1*AI*R*N)\n",
    "print(AA)"
   ]
  },
  {
   "cell_type": "code",
   "execution_count": 40,
   "metadata": {},
   "outputs": [
    {
     "data": {
      "text/plain": [
       "(array([6.61501028e-03, 2.90556821e-04, 9.49152281e-04, 8.71670462e-04,\n",
       "        4.45520458e-04, 3.29297730e-04, 1.16222728e-04, 2.90556821e-05,\n",
       "        2.90556821e-05, 9.68522736e-06]),\n",
       " array([   0.        ,  103.25002844,  206.50005687,  309.75008531,\n",
       "         413.00011375,  516.25014218,  619.50017062,  722.75019906,\n",
       "         826.00022749,  929.25025593, 1032.50028437]),\n",
       " <BarContainer object of 10 artists>)"
      ]
     },
     "execution_count": 40,
     "metadata": {},
     "output_type": "execute_result"
    },
    {
     "data": {
      "image/png": "[encoded data removed]",
      "text/plain": [
       "<Figure size 432x288 with 1 Axes>"
      ]
     },
     "metadata": {},
     "output_type": "display_data"
    }
   ],
   "source": [
    "plt.hist(AA, density=True)"
   ]
  },
  {
   "cell_type": "code",
   "execution_count": 41,
   "metadata": {},
   "outputs": [
    {
     "name": "stderr",
     "output_type": "stream",
     "text": [
      "C:\\Users\\Muslim\\anaconda3\\lib\\site-packages\\seaborn\\distributions.py:2551: FutureWarning: `distplot` is a deprecated function and will be removed in a future version. Please adapt your code to use either `displot` (a figure-level function with similar flexibility) or `histplot` (an axes-level function for histograms).\n",
      "  warnings.warn(msg, FutureWarning)\n"
     ]
    },
    {
     "data": {
      "text/plain": [
       "<AxesSubplot:ylabel='Density'>"
      ]
     },
     "execution_count": 41,
     "metadata": {},
     "output_type": "execute_result"
    },
    {
     "data": {
      "image/png": "[encoded data removed]",
      "text/plain": [
       "<Figure size 432x288 with 1 Axes>"
      ]
     },
     "metadata": {},
     "output_type": "display_data"
    }
   ],
   "source": [
    "sns.distplot(AA)"
   ]
  },
  {
   "cell_type": "markdown",
   "metadata": {},
   "source": [
    "## 9. The time until he was granted the approval of his previous loan (TA) is exponentially distributed with scale parameter = 2\n",
    "\n",
    "TA = HA* Exp(lambda)\n",
    "\n",
    "Construct 1000 samples."
   ]
  },
  {
   "cell_type": "code",
   "execution_count": 43,
   "metadata": {},
   "outputs": [
    {
     "name": "stdout",
     "output_type": "stream",
     "text": [
      "[0 0 2 0 0 0 0 0 0 0 0 3 0 0 1 0 0 0 2 0 0 0 0 0 6 0 1 2 0 1 3 0 0 0 0 0 0\n",
      " 0 4 0 0 0 0 1 0 0 0 0 3 0 0 5 0 0 0 0 0 4 0 0 0 0 4 0 3 0 0 1 1 0 0 0 0 0\n",
      " 0 0 0 4 0 1 0 0 0 0 3 0 2 0 0 0 0 6 2 0 0 2 0 0 0 0 0 0 0 0 1 0 0 0 0 0 2\n",
      " 0 0 0 0 0 0 0 0 0 0 0 0 0 0 0 5 0 0 0 2 0 0 0 0 3 0 0 0 2 0 0 2 0 1 0 0 0\n",
      " 0 0 0 0 0 2 0 0 0 0 1 0 0 1 0 0 0 0 0 0 1 0 4 0 0 0 0 0 0 0 2 0 1 1 0 0 0\n",
      " 0 0 0 0 0 0 0 0 1 2 1 0 2 0 0 1 0 0 2 5 0 0 2 0 0 0 0 0 1 0 0 0 0 0 1 0 0\n",
      " 0 0 1 1 0 0 0 0 1 0 2 0 0 0 0 0 0 0 0 0 0 1 0 0 0 0 0 1 2 3 3 0 1 0 0 0 0\n",
      " 0 3 0 0 0 0 0 0 1 1 0 0 0 0 0 0 0 2 0 0 0 0 0 0 0 0 1 0 2 0 0 0 0 0 0 0 0\n",
      " 0 0 0 4 0 0 2 2 0 0 2 3 3 2 4 1 0 0 0 1 0 1 0 0 0 2 0 0 2 0 0 0 0 0 3 0 2\n",
      " 0 0 0 0 0 0 0 0 0 0 1 2 3 0 0 0 0 0 2 2 0 0 0 0 0 0 0 0 1 0 2 3 0 0 1 0 2\n",
      " 0 0 0 1 0 0 0 1 0 2 1 0 0 3 0 0 2 0 0 0 1 0 1 0 0 7 3 0 3 0 0 2 1 0 2 0 0\n",
      " 1 2 0 0 2 0 0 0 0 2 0 0 0 0 0 2 4 1 0 0 0 0 0 0 2 0 2 0 0 0 0 1 1 0 0 0 0\n",
      " 0 2 0 0 0 0 0 0 0 0 0 6 0 0 0 0 0 0 3 0 2 0 0 0 0 0 0 3 0 0 2 0 0 0 1 4 0\n",
      " 0 0 0 0 3 0 0 0 0 0 0 3 4 0 0 2 0 1 0 0 0 2 2 2 0 0 1 0 2 0 0 2 2 0 0 0 0\n",
      " 0 2 0 0 0 0 0 0 2 0 0 1 0 0 0 1 0 0 0 1 0 3 0 3 0 0 0 0 0 1 0 6 4 0 0 0 1\n",
      " 0 2 0 0 0 0 0 0 0 4 1 0 0 0 0 0 0 2 0 0 0 0 0 4 0 2 2 0 0 3 2 0 3 6 1 0 0\n",
      " 0 0 0 2 0 0 4 4 0 0 0 0 0 2 0 0 0 0 4 1 0 0 1 0 0 2 0 0 0 0 0 0 0 0 0 1 3\n",
      " 0 0 0 0 0 0 0 2 0 0 0 2 0 1 0 0 0 0 0 0 1 0 1 0 0 2 0 4 0 0 2 0 0 0 2 1 0\n",
      " 3 0 4 0 0 0 0 3 0 0 0 3 1 0 0 0 0 0 0 0 0 4 0 0 1 1 3 0 0 0 0 1 0 0 2 1 0\n",
      " 0 3 0 3 1 1 5 3 0 0 0 0 0 1 0 0 0 0 0 0 0 0 5 1 0 0 1 0 0 1 0 0 3 0 5 0 2\n",
      " 3 0 4 0 0 3 0 2 2 0 0 3 0 0 1 0 2 0 2 0 0 0 0 0 0 0 0 6 0 0 0 0 0 0 0 3 0\n",
      " 0 0 0 4 0 3 0 2 0 0 0 0 0 0 0 0 0 3 0 0 0 2 3 0 1 3 0 0 0 1 0 0 3 1 0 0 1\n",
      " 0 0 0 0 0 0 0 0 0 0 0 0 2 0 2 0 0 0 0 1 0 0 0 0 0 0 2 0 0 0 4 0 0 3 0 0 0\n",
      " 3 0 2 1 0 0 0 0 0 0 0 0 2 0 0 4 1 0 1 0 0 0 2 0 0 0 0 0 0 3 0 0 2 2 2 0 0\n",
      " 0 1 0 0 0 0 0 0 2 0 0 0 0 2 0 0 0 0 0 0 0 2 4 3 4 0 1 0 0 0 0 1 0 1 0 2 1\n",
      " 0 0 0 0 1 3 0 0 0 0 5 0 0 1 4 2 0 2 0 4 0 0 3 0 0 0 0 0 0 0 0 0 0 5 0 0 1\n",
      " 0 0 0 2 0 3 0 0 4 0 0 0 0 0 0 0 0 0 1 0 0 0 0 0 0 0 4 0 0 0 0 0 1 3 0 0 2\n",
      " 3]\n"
     ]
    }
   ],
   "source": [
    "#lambda = 2\n",
    "TA=HA*np . random . poisson ( 2 , 1000)\n",
    "print(TA)"
   ]
  },
  {
   "cell_type": "code",
   "execution_count": 44,
   "metadata": {},
   "outputs": [
    {
     "data": {
      "image/png": "[encoded data removed]",
      "text/plain": [
       "<Figure size 432x288 with 1 Axes>"
      ]
     },
     "metadata": {},
     "output_type": "display_data"
    }
   ],
   "source": [
    "#count, bins, ignored = plt.hist(s, 14, density=True)\n",
    "plt.hist(TA, 14, density=True)\n",
    "plt.show()"
   ]
  },
  {
   "cell_type": "code",
   "execution_count": 45,
   "metadata": {},
   "outputs": [
    {
     "name": "stderr",
     "output_type": "stream",
     "text": [
      "C:\\Users\\Muslim\\anaconda3\\lib\\site-packages\\seaborn\\distributions.py:2551: FutureWarning: `distplot` is a deprecated function and will be removed in a future version. Please adapt your code to use either `displot` (a figure-level function with similar flexibility) or `histplot` (an axes-level function for histograms).\n",
      "  warnings.warn(msg, FutureWarning)\n"
     ]
    },
    {
     "data": {
      "text/plain": [
       "<AxesSubplot:ylabel='Density'>"
      ]
     },
     "execution_count": 45,
     "metadata": {},
     "output_type": "execute_result"
    },
    {
     "data": {
      "image/png": "[encoded data removed]",
      "text/plain": [
       "<Figure size 432x288 with 1 Axes>"
      ]
     },
     "metadata": {},
     "output_type": "display_data"
    }
   ],
   "source": [
    "sns.distplot(TA)"
   ]
  },
  {
   "cell_type": "markdown",
   "metadata": {},
   "source": [
    "## 10. The year of last approved loan (YA) is uniformly distributed between 2000-2020.\n",
    "\n",
    "YA = HA* {U(2000,2020)}\n",
    "\n",
    "Construct 1000 samples."
   ]
  },
  {
   "cell_type": "code",
   "execution_count": 48,
   "metadata": {},
   "outputs": [
    {
     "name": "stdout",
     "output_type": "stream",
     "text": [
      "[   0    0 2011    0    0    0    0    0    0    0    0 2002    0    0\n",
      " 2011    0    0    0 2003    0    0    0    0 2001 2008    0 2015 2007\n",
      "    0 2008 2019    0    0    0    0    0    0    0 2000    0    0    0\n",
      "    0 2012    0    0    0    0 2009    0    0 2019 2019    0    0    0\n",
      "    0 2004    0    0    0    0 2009    0 2017 2016    0 2004 2014    0\n",
      "    0    0    0    0    0    0    0 2003 2012 2017    0    0    0    0\n",
      " 2018    0 2005    0    0 2001    0 2013 2006    0    0 2016    0    0\n",
      "    0    0    0    0    0    0 2004    0    0    0    0    0 2008    0\n",
      "    0    0    0    0    0    0    0    0    0    0    0    0    0    0\n",
      " 2007 2015    0    0 2002    0    0    0    0 2001    0    0    0 2005\n",
      "    0    0 2012    0 2012    0    0    0    0    0    0    0    0 2018\n",
      "    0    0 2012    0 2014    0 2017 2014    0    0    0    0    0    0\n",
      " 2015    0 2009    0    0    0    0    0    0 2002 2009    0 2001 2012\n",
      "    0    0    0 2009    0    0    0    0    0    0    0 2002 2005 2014\n",
      " 2011 2012    0    0 2005    0    0 2003 2009    0    0 2014    0    0\n",
      "    0    0 2018 2019    0    0    0    0 2009 2002    0    0    0    0\n",
      " 2009 2008    0    0    0    0 2006    0 2011    0    0    0    0    0\n",
      "    0    0    0    0    0 2013    0    0    0    0    0 2013 2000 2009\n",
      " 2010    0 2019    0    0    0    0    0 2008    0    0    0    0    0\n",
      "    0 2010 2011    0    0 2016 2018    0    0    0 2005    0    0    0\n",
      "    0    0    0    0    0 2011    0 2009    0    0    0    0    0    0\n",
      "    0    0    0    0    0 2013    0    0 2003 2010    0    0 2001 2010\n",
      " 2018 2007 2017 2000    0    0    0 2005    0 2000    0    0    0 2007\n",
      "    0    0 2001    0    0    0    0    0 2013    0 2015    0    0    0\n",
      " 2013    0    0    0    0    0    0 2006 2003 2008    0    0    0    0\n",
      "    0 2011 2014    0    0    0    0    0 2016    0    0 2009    0 2007\n",
      " 2004    0    0 2016    0 2008    0    0    0 2017    0    0    0 2012\n",
      "    0 2004 2015    0    0 2011    0 2001 2004    0    0    0 2001    0\n",
      " 2006    0 2013 2006 2015    0 2011    0    0 2010 2004    0 2018    0\n",
      "    0 2019 2014    0    0 2004    0    0    0    0 2019    0    0    0\n",
      "    0    0 2018 2008 2010    0    0    0    0    0    0 2018    0 2004\n",
      "    0    0    0    0 2015 2004    0    0    0    0    0 2005    0    0\n",
      "    0    0    0    0    0    0    0 2005    0    0    0    0    0 2003\n",
      " 2011    0 2000    0    0    0    0    0    0 2016    0    0 2010    0\n",
      "    0    0 2010 2005    0    0 2011 2001    0 2000    0    0    0    0\n",
      "    0    0 2017 2006    0    0 2018    0 2009    0 2012    0 2000 2017\n",
      " 2009    0    0 2017    0 2016    0    0 2007 2001    0    0    0    0\n",
      "    0 2014    0    0    0    0    0    0 2001    0    0 2005    0 2008\n",
      "    0 2001    0 2007    0 2015    0 2009    0 2006    0    0    0    0\n",
      " 2011 2006    0 2000 2000    0    0    0 2003    0 2017 2017    0    0\n",
      "    0    0    0    0 2007 2010    0    0    0    0    0    0 2012    0\n",
      "    0    0    0    0 2001    0 2004 2014    0    0 2013 2001    0 2007\n",
      " 2016 2015    0    0    0    0    0 2017    0    0 2013 2018    0    0\n",
      "    0    0    0 2016    0    0    0    0 2017 2000    0    0 2012    0\n",
      "    0 2012    0    0    0    0    0    0    0    0    0 2004 2012    0\n",
      " 2008    0    0    0    0    0 2017    0    0    0 2010    0 2012    0\n",
      "    0    0    0    0    0 2013    0 2008    0    0 2001    0 2008    0\n",
      "    0 2017    0    0    0 2012 2011    0 2013    0 2006    0    0    0\n",
      "    0 2002    0    0    0 2018 2005    0    0    0    0    0    0    0\n",
      "    0 2003    0    0 2015 2003 2011    0    0    0    0 2009    0    0\n",
      " 2003 2001    0    0 2004 2015 2012 2005 2005 2007 2008    0    0    0\n",
      "    0    0 2010    0    0    0    0    0    0    0    0 2016 2000    0\n",
      "    0 2004    0    0 2014    0    0 2017    0 2014    0 2017 2003    0\n",
      " 2011    0    0 2015    0 2003 2003    0    0 2008    0    0 2016    0\n",
      " 2019    0 2011    0    0    0    0    0    0    0    0 2014    0    0\n",
      "    0 2007    0    0    0 2012    0    0    0    0 2014    0 2017    0\n",
      " 2010    0    0    0    0    0    0 2015    0    0 2012    0    0    0\n",
      " 2016 2016    0 2019 2003    0    0    0 2012    0    0 2013 2004    0\n",
      "    0 2003    0    0    0    0    0    0    0    0    0    0    0    0\n",
      " 2001    0 2005    0    0 2013    0 2009    0    0    0    0 2005    0\n",
      " 2018    0    0    0 2011    0    0 2018    0 2019 2017 2013    0 2015\n",
      " 2018    0    0    0    0    0    0    0    0 2017    0    0 2016 2002\n",
      " 2014 2015    0    0    0 2017    0    0    0    0    0    0 2002    0\n",
      "    0 2007 2008 2019    0    0    0 2019    0    0    0    0    0    0\n",
      " 2005    0    0 2005    0 2008    0    0    0    0    0    0 2016 2008\n",
      " 2005 2013 2006    0 2019    0    0    0    0 2014    0 2016    0 2000\n",
      " 2018    0    0    0    0 2019 2004 2007    0    0    0 2000    0    0\n",
      " 2013 2012 2005    0 2010    0 2003    0    0 2009    0    0    0    0\n",
      "    0    0    0    0    0    0 2010    0 2003 2009    0    0    0 2003\n",
      "    0 2010    0    0 2013    0    0 2007    0    0    0    0    0    0\n",
      " 2018    0    0    0    0    0    0    0 2000    0    0    0    0    0\n",
      " 2012 2014    0    0 2002 2002]\n"
     ]
    }
   ],
   "source": [
    "YA=(HA*np . random. uniform(2000, 2020, 1000) ) . astype(int)\n",
    "print(YA)"
   ]
  },
  {
   "cell_type": "code",
   "execution_count": 50,
   "metadata": {},
   "outputs": [
    {
     "data": {
      "text/plain": [
       "[<matplotlib.lines.Line2D at 0x1ddadb39cd0>]"
      ]
     },
     "execution_count": 50,
     "metadata": {},
     "output_type": "execute_result"
    },
    {
     "data": {
      "image/png": "[encoded data removed]",
      "text/plain": [
       "<Figure size 432x288 with 1 Axes>"
      ]
     },
     "metadata": {},
     "output_type": "display_data"
    }
   ],
   "source": [
    "count, bins, ignored = plt.hist(YA, 15, density=True)\n",
    "plt.plot(bins, np.ones_like(bins), linewidth=2, color='r')"
   ]
  },
  {
   "cell_type": "code",
   "execution_count": 51,
   "metadata": {},
   "outputs": [
    {
     "name": "stderr",
     "output_type": "stream",
     "text": [
      "C:\\Users\\Muslim\\anaconda3\\lib\\site-packages\\seaborn\\distributions.py:2551: FutureWarning: `distplot` is a deprecated function and will be removed in a future version. Please adapt your code to use either `displot` (a figure-level function with similar flexibility) or `histplot` (an axes-level function for histograms).\n",
      "  warnings.warn(msg, FutureWarning)\n"
     ]
    },
    {
     "data": {
      "text/plain": [
       "<AxesSubplot:ylabel='Density'>"
      ]
     },
     "execution_count": 51,
     "metadata": {},
     "output_type": "execute_result"
    },
    {
     "data": {
      "image/png": "[encoded data removed]",
      "text/plain": [
       "<Figure size 432x288 with 1 Axes>"
      ]
     },
     "metadata": {},
     "output_type": "display_data"
    }
   ],
   "source": [
    "sns.distplot(YA)"
   ]
  },
  {
   "cell_type": "markdown",
   "metadata": {},
   "source": [
    "### a. Probability to get a loan application by a single client with 2 parent dependents"
   ]
  },
  {
   "cell_type": "code",
   "execution_count": 55,
   "metadata": {},
   "outputs": [
    {
     "name": "stdout",
     "output_type": "stream",
     "text": [
      "0.116\n"
     ]
    }
   ],
   "source": [
    "\n",
    "\n",
    "event = [1 if (M[i] == 0 )and ND[i]==2 else 0 for i in range(len(M))]\n",
    "\n",
    "print(np.mean(np.array(event)))"
   ]
  },
  {
   "cell_type": "markdown",
   "metadata": {},
   "source": [
    "### b. Probability that a loan application will take more than 5 months to get approved"
   ]
  },
  {
   "cell_type": "code",
   "execution_count": 60,
   "metadata": {},
   "outputs": [
    {
     "name": "stdout",
     "output_type": "stream",
     "text": [
      "320\n"
     ]
    }
   ],
   "source": [
    "approved = HA.sum()\n",
    "print(approved)"
   ]
  },
  {
   "cell_type": "code",
   "execution_count": 64,
   "metadata": {},
   "outputs": [
    {
     "data": {
      "text/plain": [
       "0.021875"
      ]
     },
     "execution_count": 64,
     "metadata": {},
     "output_type": "execute_result"
    }
   ],
   "source": [
    "event = np.array([1 if (TA[i] > 5)  else 0 for i in range (len(TA))]).sum()\n",
    "event/HA.sum()"
   ]
  },
  {
   "cell_type": "markdown",
   "metadata": {},
   "source": [
    "### c. Probability that a loan less than 100k will be approved to a client given that he has been cashed a previous loan?"
   ]
  },
  {
   "cell_type": "code",
   "execution_count": null,
   "metadata": {},
   "outputs": [],
   "source": [
    "////////"
   ]
  },
  {
   "cell_type": "markdown",
   "metadata": {},
   "source": [
    "### d. Describe the relationship between the no. of dependents (ND) and the risk factor (R)"
   ]
  },
  {
   "cell_type": "code",
   "execution_count": 66,
   "metadata": {},
   "outputs": [
    {
     "name": "stdout",
     "output_type": "stream",
     "text": [
      "[[1.85165566 0.3039875 ]\n",
      " [0.3039875  0.07741481]]\n"
     ]
    }
   ],
   "source": [
    "relationship = np.cov(ND,R)\n",
    "print(relationship)\n"
   ]
  },
  {
   "cell_type": "code",
   "execution_count": 68,
   "metadata": {},
   "outputs": [
    {
     "data": {
      "text/plain": [
       "[<matplotlib.lines.Line2D at 0x1ddadc349d0>,\n",
       " <matplotlib.lines.Line2D at 0x1ddadc34a90>]"
      ]
     },
     "execution_count": 68,
     "metadata": {},
     "output_type": "execute_result"
    },
    {
     "data": {
      "image/png": "[encoded data removed]",
      "text/plain": [
       "<Figure size 432x288 with 1 Axes>"
      ]
     },
     "metadata": {},
     "output_type": "display_data"
    }
   ],
   "source": [
    "plt.plot(relationship)"
   ]
  },
  {
   "cell_type": "markdown",
   "metadata": {},
   "source": [
    "### e. Describe the relationship between the annual income (AI) and the risk factor (R)"
   ]
  },
  {
   "cell_type": "code",
   "execution_count": 67,
   "metadata": {},
   "outputs": [
    {
     "name": "stdout",
     "output_type": "stream",
     "text": [
      "[[ 3.90754981e+02 -2.78857748e+00]\n",
      " [-2.78857748e+00  7.74148106e-02]]\n"
     ]
    }
   ],
   "source": [
    "relationship1 = np.cov(AI,R)\n",
    "print(relationship1)"
   ]
  },
  {
   "cell_type": "code",
   "execution_count": 69,
   "metadata": {},
   "outputs": [
    {
     "data": {
      "text/plain": [
       "[<matplotlib.lines.Line2D at 0x1ddae0acd30>,\n",
       " <matplotlib.lines.Line2D at 0x1ddae0acdf0>]"
      ]
     },
     "execution_count": 69,
     "metadata": {},
     "output_type": "execute_result"
    },
    {
     "data": {
      "image/png": "[encoded data removed]",
      "text/plain": [
       "<Figure size 432x288 with 1 Axes>"
      ]
     },
     "metadata": {},
     "output_type": "display_data"
    }
   ],
   "source": [
    "plt.plot(relationship1)"
   ]
  },
  {
   "cell_type": "markdown",
   "metadata": {},
   "source": [
    "# Problem 2: Calculating the probability of a given event for a random variable with a binomial distribution\n",
    "\n",
    "### Step 1: Write the a function that will simulate the same experiment $m$ times of flipping a coin $n$ times (with a probability $p = 1/2$ of getting Head) and calculate the empirical probability of getting $k$ of times of Head to appear among the $n$ coin flips"
   ]
  },
  {
   "cell_type": "code",
   "execution_count": 78,
   "metadata": {},
   "outputs": [],
   "source": [
    "\n",
    "def calc_emprical(k, n, m):\n",
    "    tests = np.random.binomial(n,0.5,m)\n",
    "    result = (tests == k).mean()\n",
    "    return result"
   ]
  },
  {
   "cell_type": "markdown",
   "metadata": {},
   "source": [
    "### Step 2: Write a function that calculate analytically what is the probability of getting k times Head among n flipping of the coin"
   ]
  },
  {
   "cell_type": "code",
   "execution_count": 81,
   "metadata": {},
   "outputs": [],
   "source": [
    "import math\n",
    "def calc_analyt(k, n):\n",
    "    math.factorial(n)\n",
    "    fact = (math.factorial(n))/((math.factorial(n-k))*(math.factorial(k)))\n",
    "    result = fact/pow(2,n)\n",
    "   \n",
    "    print(result)\n",
    "    \n"
   ]
  },
  {
   "cell_type": "markdown",
   "metadata": {},
   "source": [
    "### Step 3: Test your functions with the following values:\n",
    "- $m=1000$, $n=20$, and $k=10$"
   ]
  },
  {
   "cell_type": "code",
   "execution_count": 79,
   "metadata": {},
   "outputs": [
    {
     "data": {
      "text/plain": [
       "0.182"
      ]
     },
     "execution_count": 79,
     "metadata": {},
     "output_type": "execute_result"
    }
   ],
   "source": [
    "calc_emprical(10,20,1000)"
   ]
  },
  {
   "cell_type": "code",
   "execution_count": 83,
   "metadata": {},
   "outputs": [
    {
     "name": "stdout",
     "output_type": "stream",
     "text": [
      "0.17619705200195312\n"
     ]
    }
   ],
   "source": [
    "calc_analyt(10,20)"
   ]
  },
  {
   "cell_type": "markdown",
   "metadata": {},
   "source": [
    "### Compare  the two values of calculating the probability emprically and analytically. Is this always the same number? If not, what are the possible explanations for these differences?\n",
    "\n",
    "\n",
    "#### There is slightly difference because the randomization of the simulating for binomial distribution.\n",
    "\n",
    "\n",
    "\n",
    "### --------------------------------------------------------------------------------------------"
   ]
  }
 ],
 "metadata": {
  "kernelspec": {
   "display_name": "Python 3",
   "language": "python",
   "name": "python3"
  },
  "language_info": {
   "codemirror_mode": {
    "name": "ipython",
    "version": 3
   },
   "file_extension": ".py",
   "mimetype": "text/x-python",
   "name": "python",
   "nbconvert_exporter": "python",
   "pygments_lexer": "ipython3",
   "version": "3.8.5"
  }
 },
 "nbformat": 4,
 "nbformat_minor": 4
}
