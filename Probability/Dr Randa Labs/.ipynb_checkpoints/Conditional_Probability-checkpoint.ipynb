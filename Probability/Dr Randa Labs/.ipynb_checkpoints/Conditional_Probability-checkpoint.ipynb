{
 "cells": [
  {
   "cell_type": "markdown",
   "metadata": {
    "id": "W4pM-ihzCAqN"
   },
   "source": [
    "## Conditional probabilities\n",
    "\n",
    "Code credit: https://www.coursera.org/lecture/probability-theory-statistics/python-for-conditional-probabilities-WeFdr"
   ]
  },
  {
   "cell_type": "code",
   "execution_count": 1,
   "metadata": {
    "id": "IRYuZ3XLCAqd"
   },
   "outputs": [],
   "source": [
    "from itertools import product"
   ]
  },
  {
   "cell_type": "code",
   "execution_count": 2,
   "metadata": {
    "id": "XvDDyTPYCAqg",
    "outputId": "62a70837-2cfa-4cd5-922e-4d0dbbbb961b"
   },
   "outputs": [
    {
     "name": "stdout",
     "output_type": "stream",
     "text": [
      "{('H', 'T', 'H'), ('T', 'T', 'T'), ('T', 'H', 'T'), ('H', 'H', 'T'), ('T', 'T', 'H'), ('H', 'T', 'T'), ('T', 'H', 'H'), ('H', 'H', 'H')}\n"
     ]
    }
   ],
   "source": [
    "n = 3 # no. of a coin tosses\n",
    "omega = set(product(['H','T'],repeat = n)) #create the sample space\n",
    "print(omega)"
   ]
  },
  {
   "cell_type": "code",
   "execution_count": 3,
   "metadata": {
    "id": "xhVzkZzQCAqm",
    "outputId": "da079694-0b79-4d90-a28b-3e50e308701f"
   },
   "outputs": [
    {
     "data": {
      "text/plain": [
       "8"
      ]
     },
     "execution_count": 3,
     "metadata": {},
     "output_type": "execute_result"
    }
   ],
   "source": [
    "len(omega)"
   ]
  },
  {
   "cell_type": "code",
   "execution_count": 4,
   "metadata": {
    "id": "BOjRL5qSCAqo"
   },
   "outputs": [],
   "source": [
    "A = {om for om in omega if om[0] == 'T'} #Event that first tossing is tail\n",
    "B = {om for om in omega if om.count('T')==2} # Event of having exactly two tails"
   ]
  },
  {
   "cell_type": "code",
   "execution_count": 5,
   "metadata": {
    "id": "TGkQ7sQnCAqr",
    "outputId": "7ed148ba-5ba8-4901-b05e-80d8f61d263e"
   },
   "outputs": [
    {
     "data": {
      "text/plain": [
       "{('T', 'H', 'H'), ('T', 'H', 'T'), ('T', 'T', 'H'), ('T', 'T', 'T')}"
      ]
     },
     "execution_count": 5,
     "metadata": {},
     "output_type": "execute_result"
    }
   ],
   "source": [
    "A"
   ]
  },
  {
   "cell_type": "code",
   "execution_count": 6,
   "metadata": {
    "id": "nS50O4E4CAqs",
    "outputId": "5a29f261-3343-4563-d7a0-b4f5944b8c68"
   },
   "outputs": [
    {
     "data": {
      "text/plain": [
       "{('H', 'T', 'T'), ('T', 'H', 'T'), ('T', 'T', 'H')}"
      ]
     },
     "execution_count": 6,
     "metadata": {},
     "output_type": "execute_result"
    }
   ],
   "source": [
    "B"
   ]
  },
  {
   "cell_type": "code",
   "execution_count": 7,
   "metadata": {
    "id": "rMhCmX7FCAqu"
   },
   "outputs": [],
   "source": [
    "def Prob(X):\n",
    "    return len(X)/len(omega)"
   ]
  },
  {
   "cell_type": "code",
   "execution_count": 8,
   "metadata": {
    "id": "bOGElOlCCAqv"
   },
   "outputs": [],
   "source": [
    "def Cond_Prob (X,Y): \n",
    "    return len(X&Y)/len(Y)"
   ]
  },
  {
   "cell_type": "code",
   "execution_count": 9,
   "metadata": {
    "id": "CkDEKm4-CAqx",
    "outputId": "9ab4a708-7f5b-4645-f3e7-62073cfa7d6c"
   },
   "outputs": [
    {
     "data": {
      "text/plain": [
       "0.5"
      ]
     },
     "execution_count": 9,
     "metadata": {},
     "output_type": "execute_result"
    }
   ],
   "source": [
    "Prob (A)"
   ]
  },
  {
   "cell_type": "code",
   "execution_count": 10,
   "metadata": {
    "id": "V5qUqdqOCAqz",
    "outputId": "10b56d3b-66aa-41a4-a2b1-af6b6108e9d8"
   },
   "outputs": [
    {
     "data": {
      "text/plain": [
       "0.375"
      ]
     },
     "execution_count": 10,
     "metadata": {},
     "output_type": "execute_result"
    }
   ],
   "source": [
    "Prob (B)"
   ]
  },
  {
   "cell_type": "code",
   "execution_count": 11,
   "metadata": {
    "id": "NqRyStTkCAq2",
    "outputId": "775e33b3-cb42-4599-a61c-9487dd23a9cb"
   },
   "outputs": [
    {
     "data": {
      "text/plain": [
       "0.6666666666666666"
      ]
     },
     "execution_count": 11,
     "metadata": {},
     "output_type": "execute_result"
    }
   ],
   "source": [
    "Cond_Prob (A,B)"
   ]
  },
  {
   "cell_type": "code",
   "execution_count": 12,
   "metadata": {
    "id": "67KgsdW6CAq3",
    "outputId": "c273fd7a-fc1f-49ce-95e8-d5363264f203"
   },
   "outputs": [
    {
     "data": {
      "text/plain": [
       "0.1875"
      ]
     },
     "execution_count": 12,
     "metadata": {},
     "output_type": "execute_result"
    }
   ],
   "source": [
    "Prob (A) * Prob (B)"
   ]
  },
  {
   "cell_type": "code",
   "execution_count": 13,
   "metadata": {
    "id": "pG8zm8lZCAq4"
   },
   "outputs": [],
   "source": [
    "def are_indep(X,Y):\n",
    "    return Prob(X & Y) == Prob(X) * Prob(Y)"
   ]
  },
  {
   "cell_type": "code",
   "execution_count": 14,
   "metadata": {
    "id": "SOzRWNvXCAq6",
    "outputId": "7adb06de-b25d-42e7-8f91-faf1211fe836"
   },
   "outputs": [
    {
     "data": {
      "text/plain": [
       "False"
      ]
     },
     "execution_count": 14,
     "metadata": {},
     "output_type": "execute_result"
    }
   ],
   "source": [
    "are_indep(A,B)"
   ]
  },
  {
   "cell_type": "code",
   "execution_count": 15,
   "metadata": {
    "id": "Aat4ho7iCAq7"
   },
   "outputs": [],
   "source": [
    "C = {om for om in omega if om[1] == 'H'} #Event that second tossing is head"
   ]
  },
  {
   "cell_type": "code",
   "execution_count": 16,
   "metadata": {
    "id": "lQw-5_eACAq7",
    "outputId": "ef3db59e-ad5c-4c8f-a330-6577f384b502"
   },
   "outputs": [
    {
     "data": {
      "text/plain": [
       "True"
      ]
     },
     "execution_count": 16,
     "metadata": {},
     "output_type": "execute_result"
    }
   ],
   "source": [
    "are_indep(A,C)"
   ]
  },
  {
   "cell_type": "code",
   "execution_count": null,
   "metadata": {
    "id": "dTzCO9vqCAq9"
   },
   "outputs": [],
   "source": []
  }
 ],
 "metadata": {
  "colab": {
   "name": "Conditional Probability.ipynb",
   "provenance": []
  },
  "kernelspec": {
   "display_name": "Python 3",
   "language": "python",
   "name": "python3"
  },
  "language_info": {
   "codemirror_mode": {
    "name": "ipython",
    "version": 3
   },
   "file_extension": ".py",
   "mimetype": "text/x-python",
   "name": "python",
   "nbconvert_exporter": "python",
   "pygments_lexer": "ipython3",
   "version": "3.8.5"
  }
 },
 "nbformat": 4,
 "nbformat_minor": 1
}
