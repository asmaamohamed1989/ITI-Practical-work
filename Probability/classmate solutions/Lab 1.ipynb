{
 "cells": [
  {
   "cell_type": "markdown",
   "metadata": {},
   "source": [
    "# LAB 1: Probability Concepts\n",
    "\n",
    "In this lab you will use python to study the following topics:\n",
    "\n",
    "- How to simulate random experiment outcomes using numpy arrays.\n",
    "\n",
    "- How to estimate the probability of an event using the relative frequency approach.\n"
   ]
  },
  {
   "cell_type": "markdown",
   "metadata": {},
   "source": [
    "# First: you should run this cell"
   ]
  },
  {
   "cell_type": "code",
   "execution_count": 4,
   "metadata": {},
   "outputs": [
    {
     "name": "stdout",
     "output_type": "stream",
     "text": [
      "[   1    2    3    4    5    6    7    8    9   10   11   12   13   14\n",
      "   15   16   17   18   19   20   21   22   23   24   25   26   27   28\n",
      "   29   30   31   32   33   34   35   36   37   38   39   40   41   42\n",
      "   43   44   45   46   47   48   49   50   51   52   53   54   55   56\n",
      "   57   58   59   60   61   62   63   64   65   66   67   68   69   70\n",
      "   71   72   73   74   75   76   77   78   79   80   81   82   83   84\n",
      "   85   86   87   88   89   90   91   92   93   94   95   96   97   98\n",
      "   99  100  101  102  103  104  105  106  107  108  109  110  111  112\n",
      "  113  114  115  116  117  118  119  120  121  122  123  124  125  126\n",
      "  127  128  129  130  131  132  133  134  135  136  137  138  139  140\n",
      "  141  142  143  144  145  146  147  148  149  150  151  152  153  154\n",
      "  155  156  157  158  159  160  161  162  163  164  165  166  167  168\n",
      "  169  170  171  172  173  174  175  176  177  178  179  180  181  182\n",
      "  183  184  185  186  187  188  189  190  191  192  193  194  195  196\n",
      "  197  198  199  200  201  202  203  204  205  206  207  208  209  210\n",
      "  211  212  213  214  215  216  217  218  219  220  221  222  223  224\n",
      "  225  226  227  228  229  230  231  232  233  234  235  236  237  238\n",
      "  239  240  241  242  243  244  245  246  247  248  249  250  251  252\n",
      "  253  254  255  256  257  258  259  260  261  262  263  264  265  266\n",
      "  267  268  269  270  271  272  273  274  275  276  277  278  279  280\n",
      "  281  282  283  284  285  286  287  288  289  290  291  292  293  294\n",
      "  295  296  297  298  299  300  301  302  303  304  305  306  307  308\n",
      "  309  310  311  312  313  314  315  316  317  318  319  320  321  322\n",
      "  323  324  325  326  327  328  329  330  331  332  333  334  335  336\n",
      "  337  338  339  340  341  342  343  344  345  346  347  348  349  350\n",
      "  351  352  353  354  355  356  357  358  359  360  361  362  363  364\n",
      "  365  366  367  368  369  370  371  372  373  374  375  376  377  378\n",
      "  379  380  381  382  383  384  385  386  387  388  389  390  391  392\n",
      "  393  394  395  396  397  398  399  400  401  402  403  404  405  406\n",
      "  407  408  409  410  411  412  413  414  415  416  417  418  419  420\n",
      "  421  422  423  424  425  426  427  428  429  430  431  432  433  434\n",
      "  435  436  437  438  439  440  441  442  443  444  445  446  447  448\n",
      "  449  450  451  452  453  454  455  456  457  458  459  460  461  462\n",
      "  463  464  465  466  467  468  469  470  471  472  473  474  475  476\n",
      "  477  478  479  480  481  482  483  484  485  486  487  488  489  490\n",
      "  491  492  493  494  495  496  497  498  499  500  501  502  503  504\n",
      "  505  506  507  508  509  510  511  512  513  514  515  516  517  518\n",
      "  519  520  521  522  523  524  525  526  527  528  529  530  531  532\n",
      "  533  534  535  536  537  538  539  540  541  542  543  544  545  546\n",
      "  547  548  549  550  551  552  553  554  555  556  557  558  559  560\n",
      "  561  562  563  564  565  566  567  568  569  570  571  572  573  574\n",
      "  575  576  577  578  579  580  581  582  583  584  585  586  587  588\n",
      "  589  590  591  592  593  594  595  596  597  598  599  600  601  602\n",
      "  603  604  605  606  607  608  609  610  611  612  613  614  615  616\n",
      "  617  618  619  620  621  622  623  624  625  626  627  628  629  630\n",
      "  631  632  633  634  635  636  637  638  639  640  641  642  643  644\n",
      "  645  646  647  648  649  650  651  652  653  654  655  656  657  658\n",
      "  659  660  661  662  663  664  665  666  667  668  669  670  671  672\n",
      "  673  674  675  676  677  678  679  680  681  682  683  684  685  686\n",
      "  687  688  689  690  691  692  693  694  695  696  697  698  699  700\n",
      "  701  702  703  704  705  706  707  708  709  710  711  712  713  714\n",
      "  715  716  717  718  719  720  721  722  723  724  725  726  727  728\n",
      "  729  730  731  732  733  734  735  736  737  738  739  740  741  742\n",
      "  743  744  745  746  747  748  749  750  751  752  753  754  755  756\n",
      "  757  758  759  760  761  762  763  764  765  766  767  768  769  770\n",
      "  771  772  773  774  775  776  777  778  779  780  781  782  783  784\n",
      "  785  786  787  788  789  790  791  792  793  794  795  796  797  798\n",
      "  799  800  801  802  803  804  805  806  807  808  809  810  811  812\n",
      "  813  814  815  816  817  818  819  820  821  822  823  824  825  826\n",
      "  827  828  829  830  831  832  833  834  835  836  837  838  839  840\n",
      "  841  842  843  844  845  846  847  848  849  850  851  852  853  854\n",
      "  855  856  857  858  859  860  861  862  863  864  865  866  867  868\n",
      "  869  870  871  872  873  874  875  876  877  878  879  880  881  882\n",
      "  883  884  885  886  887  888  889  890  891  892  893  894  895  896\n",
      "  897  898  899  900  901  902  903  904  905  906  907  908  909  910\n",
      "  911  912  913  914  915  916  917  918  919  920  921  922  923  924\n",
      "  925  926  927  928  929  930  931  932  933  934  935  936  937  938\n",
      "  939  940  941  942  943  944  945  946  947  948  949  950  951  952\n",
      "  953  954  955  956  957  958  959  960  961  962  963  964  965  966\n",
      "  967  968  969  970  971  972  973  974  975  976  977  978  979  980\n",
      "  981  982  983  984  985  986  987  988  989  990  991  992  993  994\n",
      "  995  996  997  998  999 1000]\n",
      "Help on built-in function arange in module numpy:\n",
      "\n",
      "arange(...)\n",
      "    arange([start,] stop[, step,], dtype=None)\n",
      "    \n",
      "    Return evenly spaced values within a given interval.\n",
      "    \n",
      "    Values are generated within the half-open interval ``[start, stop)``\n",
      "    (in other words, the interval including `start` but excluding `stop`).\n",
      "    For integer arguments the function is equivalent to the Python built-in\n",
      "    `range` function, but returns an ndarray rather than a list.\n",
      "    \n",
      "    When using a non-integer step, such as 0.1, the results will often not\n",
      "    be consistent.  It is better to use `numpy.linspace` for these cases.\n",
      "    \n",
      "    Parameters\n",
      "    ----------\n",
      "    start : number, optional\n",
      "        Start of interval.  The interval includes this value.  The default\n",
      "        start value is 0.\n",
      "    stop : number\n",
      "        End of interval.  The interval does not include this value, except\n",
      "        in some cases where `step` is not an integer and floating point\n",
      "        round-off affects the length of `out`.\n",
      "    step : number, optional\n",
      "        Spacing between values.  For any output `out`, this is the distance\n",
      "        between two adjacent values, ``out[i+1] - out[i]``.  The default\n",
      "        step size is 1.  If `step` is specified as a position argument,\n",
      "        `start` must also be given.\n",
      "    dtype : dtype\n",
      "        The type of the output array.  If `dtype` is not given, infer the data\n",
      "        type from the other input arguments.\n",
      "    \n",
      "    Returns\n",
      "    -------\n",
      "    arange : ndarray\n",
      "        Array of evenly spaced values.\n",
      "    \n",
      "        For floating point arguments, the length of the result is\n",
      "        ``ceil((stop - start)/step)``.  Because of floating point overflow,\n",
      "        this rule may result in the last element of `out` being greater\n",
      "        than `stop`.\n",
      "    \n",
      "    See Also\n",
      "    --------\n",
      "    numpy.linspace : Evenly spaced numbers with careful handling of endpoints.\n",
      "    numpy.ogrid: Arrays of evenly spaced numbers in N-dimensions.\n",
      "    numpy.mgrid: Grid-shaped arrays of evenly spaced numbers in N-dimensions.\n",
      "    \n",
      "    Examples\n",
      "    --------\n",
      "    >>> np.arange(3)\n",
      "    array([0, 1, 2])\n",
      "    >>> np.arange(3.0)\n",
      "    array([ 0.,  1.,  2.])\n",
      "    >>> np.arange(3,7)\n",
      "    array([3, 4, 5, 6])\n",
      "    >>> np.arange(3,7,2)\n",
      "    array([3, 5])\n",
      "\n"
     ]
    }
   ],
   "source": [
    "# Make all numpy available via shorter 'np' prefix:\n",
    "import numpy as np\n",
    "\n",
    "# matplotlib library:\n",
    "import matplotlib.pyplot as plt\n",
    "\n",
    "# Number of trials:\n",
    "n = 1000\n",
    "arr_y = np.arange(1, 1001)\n",
    "print(arr_y)\n",
    "#help(np.arange)"
   ]
  },
  {
   "cell_type": "markdown",
   "metadata": {},
   "source": [
    "# Problem 1\n",
    "\n",
    "Use numpy to simulate the vector outcomes for repeating the following random experiments $1000$ times and use the relative frequency to compute the probability of the corresponding events:\n",
    "    \n",
    "1. **Experiment:** Flipping a fair coin, **Event:** A head occurs.\n",
    "     \n",
    "Observe how changing the number of repetition affects the computed probabilities.\n",
    "\n",
    "**Hints:** \n",
    "- Use [numpy.random.randint](https://numpy.org/doc/stable/reference/random/generated/numpy.random.randint.html) or [numpy.random.choice](https://numpy.org/doc/stable/reference/random/generated/numpy.random.choice.html) to simulate the experiment.\n",
    "- Other useful functions [numpy.arange](https://numpy.org/doc/stable/reference/generated/numpy.arange.html), [numpy.cumsum](https://numpy.org/doc/stable/reference/generated/numpy.cumsum.html), [numpy.sum](https://numpy.org/doc/stable/reference/generated/numpy.sum.html), and [matplotlib.pyplot.plot](https://matplotlib.org/stable/api/_as_gen/matplotlib.pyplot.plot.html)"
   ]
  },
  {
   "cell_type": "code",
   "execution_count": 7,
   "metadata": {},
   "outputs": [
    {
     "name": "stdout",
     "output_type": "stream",
     "text": [
      "[  0   1   1   1   1   1   2   3   3   4   4   4   5   5   6   7   8   8\n",
      "   8   8   9  10  11  11  11  12  12  12  12  13  14  14  15  15  16  16\n",
      "  16  17  17  18  18  18  18  18  18  19  19  19  20  20  21  21  22  23\n",
      "  23  23  23  24  25  26  27  27  28  29  29  29  30  31  32  33  34  34\n",
      "  35  35  36  36  36  36  36  36  36  36  37  38  39  39  40  41  42  42\n",
      "  42  43  44  45  45  45  45  45  46  47  47  48  48  49  50  50  51  52\n",
      "  52  52  53  53  53  54  54  55  56  56  56  56  57  58  59  60  60  61\n",
      "  62  62  62  62  63  63  64  65  65  65  65  65  65  65  66  66  66  66\n",
      "  66  66  67  67  68  69  69  69  69  69  69  69  69  70  70  70  71  72\n",
      "  73  73  73  74  74  75  75  76  76  76  77  78  79  80  81  82  83  84\n",
      "  85  86  87  87  88  88  88  88  88  89  89  89  89  89  89  89  89  89\n",
      "  90  90  91  92  92  92  92  93  94  95  96  97  98  99 100 101 102 103\n",
      " 104 104 104 105 106 106 107 108 109 109 109 109 110 111 112 113 114 115\n",
      " 115 115 116 117 118 119 120 120 120 120 121 122 123 123 124 125 125 126\n",
      " 126 127 127 128 128 128 129 129 129 129 130 130 130 130 130 130 130 131\n",
      " 132 132 132 133 133 134 134 134 135 136 137 138 138 138 139 140 141 142\n",
      " 142 142 142 143 144 145 146 147 148 149 150 150 150 151 152 152 152 152\n",
      " 152 152 152 152 152 153 153 153 153 154 155 156 157 158 158 158 158 158\n",
      " 158 158 158 159 160 161 162 162 162 162 163 163 163 164 164 165 165 166\n",
      " 166 166 167 168 168 168 168 169 170 171 171 171 171 171 172 172 173 173\n",
      " 174 174 174 174 175 176 176 176 176 176 176 176 177 178 179 179 180 180\n",
      " 180 180 181 181 181 181 181 181 181 182 183 183 183 184 184 185 185 185\n",
      " 185 186 186 187 187 187 187 188 189 190 191 191 191 192 192 193 194 195\n",
      " 196 196 197 198 199 199 199 200 201 202 203 204 204 205 206 206 206 206\n",
      " 206 206 207 207 208 208 208 209 210 211 212 213 213 213 213 214 215 215\n",
      " 216 216 217 217 217 218 218 219 220 221 222 223 224 225 226 227 228 228\n",
      " 229 229 230 230 230 231 231 232 232 233 234 235 235 236 236 237 237 238\n",
      " 239 240 241 242 243 244 244 244 245 245 245 246 247 248 248 248 249 250\n",
      " 250 251 252 252 253 253 253 253 253 253 254 254 255 256 256 256 257 257\n",
      " 257 257 257 258 258 259 259 259 260 261 262 263 264 264 264 265 266 266\n",
      " 266 267 268 268 268 269 269 270 270 271 272 272 273 274 274 275 275 275\n",
      " 276 277 278 279 279 280 280 281 281 281 282 282 282 282 283 283 284 284\n",
      " 285 286 287 288 289 289 290 291 292 292 292 292 292 292 292 292 293 293\n",
      " 293 293 293 294 295 296 296 296 297 298 298 299 299 300 301 302 303 303\n",
      " 304 305 305 306 307 307 307 308 309 309 309 310 310 311 311 312 312 312\n",
      " 313 313 314 314 314 315 315 316 317 317 317 318 319 320 321 322 323 324\n",
      " 324 324 325 326 326 327 327 327 328 328 329 329 330 331 331 332 332 333\n",
      " 333 333 334 334 335 335 335 336 336 337 337 337 337 338 339 340 341 341\n",
      " 342 342 342 342 343 343 344 345 345 345 345 346 346 346 346 346 346 347\n",
      " 347 348 349 349 349 349 349 350 350 350 351 352 352 352 353 353 354 354\n",
      " 355 355 356 357 357 357 357 358 358 358 358 358 359 360 360 361 361 361\n",
      " 362 362 363 364 364 364 365 366 366 367 367 367 368 368 368 369 370 370\n",
      " 370 371 372 373 373 374 374 375 375 376 377 377 377 378 379 380 381 381\n",
      " 382 382 382 383 384 384 385 385 385 386 387 388 388 388 388 388 388 388\n",
      " 388 388 388 389 390 390 391 391 392 393 394 395 396 397 398 399 400 400\n",
      " 400 400 401 402 403 403 403 403 404 404 404 404 405 405 405 405 405 405\n",
      " 406 406 406 406 407 407 407 408 409 409 410 410 411 412 412 412 413 413\n",
      " 413 413 413 414 415 416 417 417 417 418 418 419 420 421 421 421 422 423\n",
      " 423 423 424 425 425 425 426 426 427 427 427 427 428 428 429 429 430 431\n",
      " 432 432 432 433 433 434 435 436 436 437 437 437 437 438 439 439 440 440\n",
      " 440 441 441 442 443 443 444 444 445 445 446 447 448 449 450 450 450 451\n",
      " 452 453 453 453 454 454 455 455 455 455 456 456 456 456 456 456 457 457\n",
      " 458 458 458 458 458 459 460 460 461 461 461 462 462 462 463 464 464 464\n",
      " 464 465 465 465 466 467 468 469 470 470 471 471 471 471 471 471 471 472\n",
      " 472 472 473 474 474 475 476 477 478 478 479 480 481 481 482 482 482 482\n",
      " 483 483 483 484 485 486 486 486 487 487]\n"
     ]
    },
    {
     "data": {
      "text/plain": [
       "[<matplotlib.lines.Line2D at 0x1573d5c16d0>]"
      ]
     },
     "execution_count": 7,
     "metadata": {},
     "output_type": "execute_result"
    },
    {
     "data": {
      "image/png": "[encoded data removed]",
      "text/plain": [
       "<Figure size 432x288 with 1 Axes>"
      ]
     },
     "metadata": {
      "needs_background": "light"
     },
     "output_type": "display_data"
    }
   ],
   "source": [
    "arr = np.random.randint(2, size=n)\n",
    "cummulative_sum = np.cumsum(arr)\n",
    "print(cummulative_sum)\n",
    "plt.plot(cummulative_sum/arr_y)\n",
    "#help(np.cumsum)"
   ]
  },
  {
   "cell_type": "markdown",
   "metadata": {},
   "source": [
    "2. **Experiment:** Rolling a fair die, **Event:** A number greater than 3 occurs."
   ]
  },
  {
   "cell_type": "code",
   "execution_count": 8,
   "metadata": {},
   "outputs": [
    {
     "name": "stdout",
     "output_type": "stream",
     "text": [
      "[4 4 6 5 1 5 1 4 2 5 6 3 5 6 2 3 5 4 5 1 3 1 2 6 1 5 1 2 1 4 1 5 4 1 5 1 1\n",
      " 4 6 3 2 5 6 2 3 3 5 5 1 5 2 5 4 4 2 3 6 4 2 6 2 6 3 6 3 5 3 6 4 4 4 4 6 1\n",
      " 5 4 4 3 6 6 2 4 6 3 1 5 2 5 6 1 6 2 2 3 1 2 5 1 1 6 2 2 5 1 5 5 3 6 4 1 6\n",
      " 1 3 3 2 3 6 3 5 3 4 5 6 3 1 6 6 4 1 6 6 6 2 2 2 2 2 4 6 3 6 3 2 5 4 2 1 5\n",
      " 3 5 6 4 5 2 2 6 3 2 5 6 3 6 1 6 1 5 3 2 6 5 1 3 2 1 4 1 6 6 6 4 3 1 4 5 4\n",
      " 1 3 6 4 5 4 2 5 5 4 1 6 3 4 6 6 1 1 4 4 6 6 2 4 1 4 1 3 3 3 4 4 1 1 4 4 6\n",
      " 5 5 1 5 5 1 5 3 3 1 3 1 2 2 1 3 4 5 5 1 5 5 5 5 4 2 2 3 5 1 6 4 1 3 2 5 3\n",
      " 6 3 2 4 5 4 2 5 4 6 2 3 1 3 2 4 5 2 2 5 5 6 4 1 4 3 4 1 3 1 6 5 2 4 3 3 6\n",
      " 6 5 1 4 3 5 5 5 6 5 3 1 1 5 2 3 4 6 1 2 1 4 5 5 1 4 4 5 3 4 6 5 1 1 1 6 5\n",
      " 1 4 6 6 4 3 6 5 1 2 2 3 3 1 1 1 6 4 2 2 4 5 3 3 3 2 3 1 4 1 1 5 3 1 5 6 2\n",
      " 2 4 1 4 6 5 3 5 3 6 3 6 5 3 1 2 4 5 2 4 2 6 4 3 3 3 4 6 2 3 6 2 4 1 1 5 6\n",
      " 3 6 6 3 3 1 1 2 6 5 3 1 1 6 5 5 6 1 4 3 2 6 5 4 2 2 2 5 5 2 6 6 3 3 4 4 3\n",
      " 1 1 6 4 2 4 1 3 2 5 2 1 3 4 4 1 5 2 3 2 6 6 4 3 3 4 4 4 5 4 3 6 2 2 3 3 5\n",
      " 4 1 1 5 5 5 1 5 4 4 5 3 1 4 4 5 4 2 1 4 2 1 2 2 3 3 2 4 1 1 4 2 1 1 2 4 6\n",
      " 6 3 2 6 2 4 4 6 4 5 6 4 2 2 3 1 6 5 3 1 1 4 5 2 5 2 3 2 5 3 1 1 4 4 1 5 1\n",
      " 5 6 4 3 1 6 5 2 2 3 4 3 4 6 3 6 2 3 5 4 2 6 5 6 5 2 2 3 3 6 2 3 6 5 5 5 2\n",
      " 3 6 2 5 5 3 5 5 2 6 5 3 5 2 3 1 2 4 2 2 6 3 1 1 2 5 2 4 3 6 3 2 6 4 6 3 4\n",
      " 2 5 4 3 3 1 2 2 2 6 2 6 6 6 5 5 3 6 5 1 2 6 3 4 1 1 3 5 4 5 4 1 6 2 6 3 2\n",
      " 2 3 5 3 4 3 5 6 3 3 4 1 1 2 2 3 4 4 6 5 2 4 5 1 1 4 2 6 6 5 3 6 1 6 2 2 2\n",
      " 4 1 1 4 4 4 5 5 5 6 2 3 6 6 2 1 6 6 3 5 4 4 3 6 1 3 3 2 2 1 1 4 6 6 4 3 1\n",
      " 2 1 6 2 3 6 3 5 5 6 1 1 2 4 6 5 1 3 2 1 2 2 4 6 6 4 3 2 1 3 1 2 5 1 6 4 6\n",
      " 1 4 4 3 2 4 2 2 6 3 5 6 1 4 5 4 2 5 1 5 2 3 3 5 1 4 3 1 3 5 2 4 1 4 3 4 2\n",
      " 6 4 5 4 4 2 4 4 6 6 6 2 6 6 6 6 2 4 4 6 3 2 1 6 1 3 3 6 6 3 2 3 4 3 4 5 1\n",
      " 5 3 6 1 1 5 5 2 4 6 3 6 2 5 3 3 3 5 1 2 5 4 1 3 2 1 3 3 2 5 1 4 1 4 5 2 3\n",
      " 3 6 6 3 1 6 6 4 1 4 4 6 5 6 6 1 4 3 3 2 2 2 4 4 2 1 4 6 2 5 4 5 2 1 1 3 5\n",
      " 4 3 5 6 2 4 1 3 1 5 6 6 1 2 4 6 1 3 6 1 5 5 3 2 4 1 4 6 6 6 6 4 3 6 2 5 5\n",
      " 2 6 4 3 4 2 5 2 4 1 2 5 3 4 5 3 3 2 5 4 6 3 5 2 6 1 3 1 1 5 4 1 2 5 2 6 5\n",
      " 4]\n",
      "[1, 1, 1, 1, 0, 1, 0, 1, 0, 1, 1, 0, 1, 1, 0, 0, 1, 1, 1, 0, 0, 0, 0, 1, 0, 1, 0, 0, 0, 1, 0, 1, 1, 0, 1, 0, 0, 1, 1, 0, 0, 1, 1, 0, 0, 0, 1, 1, 0, 1, 0, 1, 1, 1, 0, 0, 1, 1, 0, 1, 0, 1, 0, 1, 0, 1, 0, 1, 1, 1, 1, 1, 1, 0, 1, 1, 1, 0, 1, 1, 0, 1, 1, 0, 0, 1, 0, 1, 1, 0, 1, 0, 0, 0, 0, 0, 1, 0, 0, 1, 0, 0, 1, 0, 1, 1, 0, 1, 1, 0, 1, 0, 0, 0, 0, 0, 1, 0, 1, 0, 1, 1, 1, 0, 0, 1, 1, 1, 0, 1, 1, 1, 0, 0, 0, 0, 0, 1, 1, 0, 1, 0, 0, 1, 1, 0, 0, 1, 0, 1, 1, 1, 1, 0, 0, 1, 0, 0, 1, 1, 0, 1, 0, 1, 0, 1, 0, 0, 1, 1, 0, 0, 0, 0, 1, 0, 1, 1, 1, 1, 0, 0, 1, 1, 1, 0, 0, 1, 1, 1, 1, 0, 1, 1, 1, 0, 1, 0, 1, 1, 1, 0, 0, 1, 1, 1, 1, 0, 1, 0, 1, 0, 0, 0, 0, 1, 1, 0, 0, 1, 1, 1, 1, 1, 0, 1, 1, 0, 1, 0, 0, 0, 0, 0, 0, 0, 0, 0, 1, 1, 1, 0, 1, 1, 1, 1, 1, 0, 0, 0, 1, 0, 1, 1, 0, 0, 0, 1, 0, 1, 0, 0, 1, 1, 1, 0, 1, 1, 1, 0, 0, 0, 0, 0, 1, 1, 0, 0, 1, 1, 1, 1, 0, 1, 0, 1, 0, 0, 0, 1, 1, 0, 1, 0, 0, 1, 1, 1, 0, 1, 0, 1, 1, 1, 1, 1, 0, 0, 0, 1, 0, 0, 1, 1, 0, 0, 0, 1, 1, 1, 0, 1, 1, 1, 0, 1, 1, 1, 0, 0, 0, 1, 1, 0, 1, 1, 1, 1, 0, 1, 1, 0, 0, 0, 0, 0, 0, 0, 0, 1, 1, 0, 0, 1, 1, 0, 0, 0, 0, 0, 0, 1, 0, 0, 1, 0, 0, 1, 1, 0, 0, 1, 0, 1, 1, 1, 0, 1, 0, 1, 0, 1, 1, 0, 0, 0, 1, 1, 0, 1, 0, 1, 1, 0, 0, 0, 1, 1, 0, 0, 1, 0, 1, 0, 0, 1, 1, 0, 1, 1, 0, 0, 0, 0, 0, 1, 1, 0, 0, 0, 1, 1, 1, 1, 0, 1, 0, 0, 1, 1, 1, 0, 0, 0, 1, 1, 0, 1, 1, 0, 0, 1, 1, 0, 0, 0, 1, 1, 0, 1, 0, 0, 0, 1, 0, 0, 0, 1, 1, 0, 1, 0, 0, 0, 1, 1, 1, 0, 0, 1, 1, 1, 1, 1, 0, 1, 0, 0, 0, 0, 1, 1, 0, 0, 1, 1, 1, 0, 1, 1, 1, 1, 0, 0, 1, 1, 1, 1, 0, 0, 1, 0, 0, 0, 0, 0, 0, 0, 1, 0, 0, 1, 0, 0, 0, 0, 1, 1, 1, 0, 0, 1, 0, 1, 1, 1, 1, 1, 1, 1, 0, 0, 0, 0, 1, 1, 0, 0, 0, 1, 1, 0, 1, 0, 0, 0, 1, 0, 0, 0, 1, 1, 0, 1, 0, 1, 1, 1, 0, 0, 1, 1, 0, 0, 0, 1, 0, 1, 1, 0, 1, 0, 0, 1, 1, 0, 1, 1, 1, 1, 0, 0, 0, 0, 1, 0, 0, 1, 1, 1, 1, 0, 0, 1, 0, 1, 1, 0, 1, 1, 0, 1, 1, 0, 1, 0, 0, 0, 0, 1, 0, 0, 1, 0, 0, 0, 0, 1, 0, 1, 0, 1, 0, 0, 1, 1, 1, 0, 1, 0, 1, 1, 0, 0, 0, 0, 0, 0, 1, 0, 1, 1, 1, 1, 1, 0, 1, 1, 0, 0, 1, 0, 1, 0, 0, 0, 1, 1, 1, 1, 0, 1, 0, 1, 0, 0, 0, 0, 1, 0, 1, 0, 1, 1, 0, 0, 1, 0, 0, 0, 0, 0, 1, 1, 1, 1, 0, 1, 1, 0, 0, 1, 0, 1, 1, 1, 0, 1, 0, 1, 0, 0, 0, 1, 0, 0, 1, 1, 1, 1, 1, 1, 1, 0, 0, 1, 1, 0, 0, 1, 1, 0, 1, 1, 1, 0, 1, 0, 0, 0, 0, 0, 0, 0, 1, 1, 1, 1, 0, 0, 0, 0, 1, 0, 0, 1, 0, 1, 1, 1, 0, 0, 0, 1, 1, 1, 0, 0, 0, 0, 0, 0, 1, 1, 1, 1, 0, 0, 0, 0, 0, 0, 1, 0, 1, 1, 1, 0, 1, 1, 0, 0, 1, 0, 0, 1, 0, 1, 1, 0, 1, 1, 1, 0, 1, 0, 1, 0, 0, 0, 1, 0, 1, 0, 0, 0, 1, 0, 1, 0, 1, 0, 1, 0, 1, 1, 1, 1, 1, 0, 1, 1, 1, 1, 1, 0, 1, 1, 1, 1, 0, 1, 1, 1, 0, 0, 0, 1, 0, 0, 0, 1, 1, 0, 0, 0, 1, 0, 1, 1, 0, 1, 0, 1, 0, 0, 1, 1, 0, 1, 1, 0, 1, 0, 1, 0, 0, 0, 1, 0, 0, 1, 1, 0, 0, 0, 0, 0, 0, 0, 1, 0, 1, 0, 1, 1, 0, 0, 0, 1, 1, 0, 0, 1, 1, 1, 0, 1, 1, 1, 1, 1, 1, 0, 1, 0, 0, 0, 0, 0, 1, 1, 0, 0, 1, 1, 0, 1, 1, 1, 0, 0, 0, 0, 1, 1, 0, 1, 1, 0, 1, 0, 0, 0, 1, 1, 1, 0, 0, 1, 1, 0, 0, 1, 0, 1, 1, 0, 0, 1, 0, 1, 1, 1, 1, 1, 1, 0, 1, 0, 1, 1, 0, 1, 1, 0, 1, 0, 1, 0, 1, 0, 0, 1, 0, 1, 1, 0, 0, 0, 1, 1, 1, 0, 1, 0, 1, 0, 0, 0, 0, 1, 1, 0, 0, 1, 0, 1, 1, 1]\n"
     ]
    },
    {
     "data": {
      "text/plain": [
       "[<matplotlib.lines.Line2D at 0x1573d6211f0>]"
      ]
     },
     "execution_count": 8,
     "metadata": {},
     "output_type": "execute_result"
    },
    {
     "data": {
      "image/png": "[encoded data removed]",
      "text/plain": [
       "<Figure size 432x288 with 1 Axes>"
      ]
     },
     "metadata": {
      "needs_background": "light"
     },
     "output_type": "display_data"
    }
   ],
   "source": [
    "dice = np.random.randint(1, 7, size=n)\n",
    "print(dice)\n",
    "event = [1 if (event > 3) else 0 for event in dice]\n",
    "print(event)\n",
    "cummulative_sum = np.cumsum(event)\n",
    "plt.plot(cummulative_sum / arr_y)"
   ]
  },
  {
   "cell_type": "markdown",
   "metadata": {},
   "source": [
    "3. **Experiment:** Rolling two fair dice, **Event:** Sum of two dice equal 5."
   ]
  },
  {
   "cell_type": "code",
   "execution_count": 61,
   "metadata": {},
   "outputs": [
    {
     "data": {
      "text/plain": [
       "[<matplotlib.lines.Line2D at 0x7ff4017ea880>]"
      ]
     },
     "execution_count": 61,
     "metadata": {},
     "output_type": "execute_result"
    },
    {
     "data": {
      "image/png": "[encoded data removed]",
      "text/plain": [
       "<Figure size 432x288 with 1 Axes>"
      ]
     },
     "metadata": {
      "needs_background": "light"
     },
     "output_type": "display_data"
    }
   ],
   "source": [
    "dice1 = np.random.randint(1, 7, size=n)\n",
    "dice2 = np.random.randint(1, 7, size=n)\n",
    "event = [1 if (dice1[event] + dice2[event] == 5) else 0 for event in range(len(dice1))]\n",
    "cummulative_sum = np.cumsum(event)\n",
    "plt.plot(cummulative_sum / arr_y)"
   ]
  },
  {
   "cell_type": "markdown",
   "metadata": {},
   "source": [
    "# Problem 2\n",
    "\n",
    "Simulate the experiment of tossing $1000$ times a coin with probability of **head (coded as $1$) equal to $0.4$** and probability of **tail (coded as $0$) equal to $0.6$**. How can you check if the simulation of the experiment of been running as expected.\n",
    "\n",
    "**Hint**: Use [matplotlib.pyplot.hist¶\n",
    "](https://matplotlib.org/stable/api/_as_gen/matplotlib.pyplot.hist.html)"
   ]
  },
  {
   "cell_type": "code",
   "execution_count": 12,
   "metadata": {
    "scrolled": true
   },
   "outputs": [
    {
     "data": {
      "text/plain": [
       "(array([623.,   0.,   0.,   0.,   0.,   0.,   0.,   0.,   0., 377.]),\n",
       " array([0. , 0.1, 0.2, 0.3, 0.4, 0.5, 0.6, 0.7, 0.8, 0.9, 1. ]),\n",
       " <BarContainer object of 10 artists>)"
      ]
     },
     "execution_count": 12,
     "metadata": {},
     "output_type": "execute_result"
    },
    {
     "data": {
      "image/png": "[encoded data removed]",
      "text/plain": [
       "<Figure size 432x288 with 1 Axes>"
      ]
     },
     "metadata": {
      "needs_background": "light"
     },
     "output_type": "display_data"
    }
   ],
   "source": [
    "arr = np.random.choice([0, 1], size=n, p=(0.6, 0.4))\n",
    "plt.hist(arr)"
   ]
  }
 ],
 "metadata": {
  "kernelspec": {
   "display_name": "Python 3",
   "language": "python",
   "name": "python3"
  },
  "language_info": {
   "codemirror_mode": {
    "name": "ipython",
    "version": 3
   },
   "file_extension": ".py",
   "mimetype": "text/x-python",
   "name": "python",
   "nbconvert_exporter": "python",
   "pygments_lexer": "ipython3",
   "version": "3.8.5"
  }
 },
 "nbformat": 4,
 "nbformat_minor": 4
}
