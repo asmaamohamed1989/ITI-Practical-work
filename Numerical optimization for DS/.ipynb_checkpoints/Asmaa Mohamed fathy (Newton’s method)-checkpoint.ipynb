{
 "cells": [
  {
   "cell_type": "code",
   "execution_count": 48,
   "metadata": {},
   "outputs": [],
   "source": [
    "# F(x) function \n",
    "def f_Of_x(x):\n",
    "    return x**3-x**2-15*x+1"
   ]
  },
  {
   "cell_type": "code",
   "execution_count": 49,
   "metadata": {},
   "outputs": [],
   "source": [
    "# F'(x):Derivative of F(x) function \n",
    "def f_Dash_of_x(x):\n",
    "    return 3*x**2 - 2*x -15"
   ]
  },
  {
   "cell_type": "code",
   "execution_count": 51,
   "metadata": {},
   "outputs": [
    {
     "name": "stdout",
     "output_type": "stream",
     "text": [
      "x 0 = 4.5 F(x)= 4.375 F'(x)= 36.75\n",
      "x 1 = 4.380952380952381 F(x)= 0.17546701220172167 F'(x)= 33.81632653061226\n",
      "x 2 = 4.375763555606645 F(x)= 0.0003267934707906761 F'(x)= 33.69039297251264\n",
      "x 3 = 4.375753855705814 F(x)= 1.1410321576477145e-09 F'(x)= 33.69015770576127\n"
     ]
    }
   ],
   "source": [
    "# x0 = 4.5 the initial value to start with\n",
    "x = 4.5\n",
    "for i in range(1000):\n",
    "    x_old = x\n",
    "    print('x',i,'=',x,'F(x)=',f_Of_x(x),\"F'(x)=\",f_Dash_of_x(x))\n",
    "    x = x - f_Of_x(x)/f_Dash_of_x(x)\n",
    "    if round(x, 6) == round(x_old, 6):\n",
    "        break;\n",
    "# the round function rounds the float value to the number you entered, for example if \n",
    "# x = 4.375753855705814 \n",
    "# round(x, 3) = 4.375\n",
    "# round(x, 6) = 4.375754"
   ]
  }
 ],
 "metadata": {
  "kernelspec": {
   "display_name": "Python 3",
   "language": "python",
   "name": "python3"
  },
  "language_info": {
   "codemirror_mode": {
    "name": "ipython",
    "version": 3
   },
   "file_extension": ".py",
   "mimetype": "text/x-python",
   "name": "python",
   "nbconvert_exporter": "python",
   "pygments_lexer": "ipython3",
   "version": "3.8.5"
  }
 },
 "nbformat": 4,
 "nbformat_minor": 4
}
