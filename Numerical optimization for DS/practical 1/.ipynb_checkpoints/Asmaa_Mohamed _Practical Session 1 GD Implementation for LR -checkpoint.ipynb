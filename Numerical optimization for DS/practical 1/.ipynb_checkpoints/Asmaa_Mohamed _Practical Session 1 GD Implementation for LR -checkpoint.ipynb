{
 "cells": [
  {
   "cell_type": "markdown",
   "metadata": {},
   "source": [
    "## Practical Work 1"
   ]
  },
  {
   "cell_type": "markdown",
   "metadata": {},
   "source": [
    "For this practical work, the student will have to develop a Python program that is able to implement the gradient descent in order to achieve the linear regression of a set of datapoints."
   ]
  },
  {
   "cell_type": "markdown",
   "metadata": {},
   "source": [
    "#### Import numpy, matplotlib.pyplot and make it inline"
   ]
  },
  {
   "cell_type": "code",
   "execution_count": 2,
   "metadata": {},
   "outputs": [],
   "source": [
    "import numpy as np\n",
    "import matplotlib.pyplot as plt\n",
    "import pandas as pd\n",
    "import sklearn\n",
    "%matplotlib inline"
   ]
  },
  {
   "cell_type": "markdown",
   "metadata": {},
   "source": [
    "#### Read RegData csv file into numpy array  (check your data)\n",
    "##### Data source\n",
    "https://college.cengage.com/mathematics/brase/understandable_statistics/7e/students/datasets/slr/frames/frame.html\n"
   ]
  },
  {
   "cell_type": "code",
   "execution_count": 3,
   "metadata": {},
   "outputs": [
    {
     "name": "stdout",
     "output_type": "stream",
     "text": [
      "[[2.9000001  4.        ]\n",
      " [6.69999981 7.4000001 ]\n",
      " [4.9000001  5.        ]\n",
      " [7.9000001  7.19999981]\n",
      " [9.80000019 7.9000001 ]\n",
      " [6.9000001  6.0999999 ]\n",
      " [6.0999999  6.        ]\n",
      " [6.19999981 5.80000019]\n",
      " [6.         5.19999981]\n",
      " [5.0999999  4.19999981]\n",
      " [4.69999981 4.        ]\n",
      " [4.4000001  4.4000001 ]\n",
      " [5.80000019 5.19999981]]\n"
     ]
    }
   ],
   "source": [
    "from numpy import genfromtxt\n",
    "\n",
    "my_data = genfromtxt('RegData.csv', delimiter=',')\n",
    "print(my_data)"
   ]
  },
  {
   "cell_type": "markdown",
   "metadata": {},
   "source": [
    "#### Explore your data"
   ]
  },
  {
   "cell_type": "code",
   "execution_count": 4,
   "metadata": {},
   "outputs": [
    {
     "data": {
      "text/html": [
       "<div>\n",
       "<style scoped>\n",
       "    .dataframe tbody tr th:only-of-type {\n",
       "        vertical-align: middle;\n",
       "    }\n",
       "\n",
       "    .dataframe tbody tr th {\n",
       "        vertical-align: top;\n",
       "    }\n",
       "\n",
       "    .dataframe thead th {\n",
       "        text-align: right;\n",
       "    }\n",
       "</style>\n",
       "<table border=\"1\" class=\"dataframe\">\n",
       "  <thead>\n",
       "    <tr style=\"text-align: right;\">\n",
       "      <th></th>\n",
       "      <th>2.900000095</th>\n",
       "      <th>4</th>\n",
       "    </tr>\n",
       "  </thead>\n",
       "  <tbody>\n",
       "    <tr>\n",
       "      <th>0</th>\n",
       "      <td>6.7</td>\n",
       "      <td>7.4</td>\n",
       "    </tr>\n",
       "    <tr>\n",
       "      <th>1</th>\n",
       "      <td>4.9</td>\n",
       "      <td>5.0</td>\n",
       "    </tr>\n",
       "    <tr>\n",
       "      <th>2</th>\n",
       "      <td>7.9</td>\n",
       "      <td>7.2</td>\n",
       "    </tr>\n",
       "    <tr>\n",
       "      <th>3</th>\n",
       "      <td>9.8</td>\n",
       "      <td>7.9</td>\n",
       "    </tr>\n",
       "    <tr>\n",
       "      <th>4</th>\n",
       "      <td>6.9</td>\n",
       "      <td>6.1</td>\n",
       "    </tr>\n",
       "  </tbody>\n",
       "</table>\n",
       "</div>"
      ],
      "text/plain": [
       "   2.900000095    4\n",
       "0          6.7  7.4\n",
       "1          4.9  5.0\n",
       "2          7.9  7.2\n",
       "3          9.8  7.9\n",
       "4          6.9  6.1"
      ]
     },
     "execution_count": 4,
     "metadata": {},
     "output_type": "execute_result"
    }
   ],
   "source": [
    "df = pd.read_csv('RegData.csv')\n",
    "df.head()"
   ]
  },
  {
   "cell_type": "code",
   "execution_count": 5,
   "metadata": {},
   "outputs": [
    {
     "data": {
      "text/plain": [
       "(12, 2)"
      ]
     },
     "execution_count": 5,
     "metadata": {},
     "output_type": "execute_result"
    }
   ],
   "source": [
    "df.shape"
   ]
  },
  {
   "cell_type": "code",
   "execution_count": 6,
   "metadata": {},
   "outputs": [
    {
     "data": {
      "text/html": [
       "<div>\n",
       "<style scoped>\n",
       "    .dataframe tbody tr th:only-of-type {\n",
       "        vertical-align: middle;\n",
       "    }\n",
       "\n",
       "    .dataframe tbody tr th {\n",
       "        vertical-align: top;\n",
       "    }\n",
       "\n",
       "    .dataframe thead th {\n",
       "        text-align: right;\n",
       "    }\n",
       "</style>\n",
       "<table border=\"1\" class=\"dataframe\">\n",
       "  <thead>\n",
       "    <tr style=\"text-align: right;\">\n",
       "      <th></th>\n",
       "      <th>2.900000095</th>\n",
       "      <th>4</th>\n",
       "    </tr>\n",
       "  </thead>\n",
       "  <tbody>\n",
       "    <tr>\n",
       "      <th>count</th>\n",
       "      <td>12.000000</td>\n",
       "      <td>12.000000</td>\n",
       "    </tr>\n",
       "    <tr>\n",
       "      <th>mean</th>\n",
       "      <td>6.208333</td>\n",
       "      <td>5.700000</td>\n",
       "    </tr>\n",
       "    <tr>\n",
       "      <th>std</th>\n",
       "      <td>1.513250</td>\n",
       "      <td>1.281335</td>\n",
       "    </tr>\n",
       "    <tr>\n",
       "      <th>min</th>\n",
       "      <td>4.400000</td>\n",
       "      <td>4.000000</td>\n",
       "    </tr>\n",
       "    <tr>\n",
       "      <th>25%</th>\n",
       "      <td>5.050000</td>\n",
       "      <td>4.850000</td>\n",
       "    </tr>\n",
       "    <tr>\n",
       "      <th>50%</th>\n",
       "      <td>6.050000</td>\n",
       "      <td>5.500000</td>\n",
       "    </tr>\n",
       "    <tr>\n",
       "      <th>75%</th>\n",
       "      <td>6.750000</td>\n",
       "      <td>6.375000</td>\n",
       "    </tr>\n",
       "    <tr>\n",
       "      <th>max</th>\n",
       "      <td>9.800000</td>\n",
       "      <td>7.900000</td>\n",
       "    </tr>\n",
       "  </tbody>\n",
       "</table>\n",
       "</div>"
      ],
      "text/plain": [
       "       2.900000095          4\n",
       "count    12.000000  12.000000\n",
       "mean      6.208333   5.700000\n",
       "std       1.513250   1.281335\n",
       "min       4.400000   4.000000\n",
       "25%       5.050000   4.850000\n",
       "50%       6.050000   5.500000\n",
       "75%       6.750000   6.375000\n",
       "max       9.800000   7.900000"
      ]
     },
     "execution_count": 6,
     "metadata": {},
     "output_type": "execute_result"
    }
   ],
   "source": [
    "# some summary statistics\n",
    "\n",
    "df.describe()"
   ]
  },
  {
   "cell_type": "code",
   "execution_count": 7,
   "metadata": {},
   "outputs": [
    {
     "data": {
      "image/png": "[encoded data removed]",
      "text/plain": [
       "<Figure size 432x288 with 1 Axes>"
      ]
     },
     "metadata": {
      "needs_background": "light"
     },
     "output_type": "display_data"
    }
   ],
   "source": [
    "plt.plot(my_data)\n",
    "plt.show;"
   ]
  },
  {
   "cell_type": "markdown",
   "metadata": {},
   "source": [
    "#### Define variables X and y. Assign first column data to X and second column to y\n",
    "<b>Note:</b> X is the independent variable (input to LR model) and y is the dependent variable (output)"
   ]
  },
  {
   "cell_type": "code",
   "execution_count": 8,
   "metadata": {},
   "outputs": [
    {
     "name": "stdout",
     "output_type": "stream",
     "text": [
      "      X    y\n",
      "0   2.9  4.0\n",
      "1   6.7  7.4\n",
      "2   4.9  5.0\n",
      "3   7.9  7.2\n",
      "4   9.8  7.9\n",
      "5   6.9  6.1\n",
      "6   6.1  6.0\n",
      "7   6.2  5.8\n",
      "8   6.0  5.2\n",
      "9   5.1  4.2\n",
      "10  4.7  4.0\n",
      "11  4.4  4.4\n",
      "12  5.8  5.2\n"
     ]
    }
   ],
   "source": [
    "data = pd.read_csv('RegData.csv', sep= ',', header=None, names=['X','y'])\n",
    "print(data)"
   ]
  },
  {
   "cell_type": "markdown",
   "metadata": {},
   "source": [
    "#### Explore your data"
   ]
  },
  {
   "cell_type": "code",
   "execution_count": 9,
   "metadata": {},
   "outputs": [
    {
     "name": "stdout",
     "output_type": "stream",
     "text": [
      "<class 'pandas.core.frame.DataFrame'>\n",
      "RangeIndex: 12 entries, 0 to 11\n",
      "Data columns (total 2 columns):\n",
      " #   Column       Non-Null Count  Dtype  \n",
      "---  ------       --------------  -----  \n",
      " 0   2.900000095  12 non-null     float64\n",
      " 1   4            12 non-null     float64\n",
      "dtypes: float64(2)\n",
      "memory usage: 320.0 bytes\n"
     ]
    }
   ],
   "source": [
    "# check what is Data type of Variables\n",
    "df.info()"
   ]
  },
  {
   "cell_type": "code",
   "execution_count": 10,
   "metadata": {
    "scrolled": true
   },
   "outputs": [
    {
     "name": "stderr",
     "output_type": "stream",
     "text": [
      "C:\\Users\\Muslim\\anaconda3\\lib\\site-packages\\pandas\\plotting\\_matplotlib\\tools.py:331: MatplotlibDeprecationWarning: \n",
      "The is_first_col function was deprecated in Matplotlib 3.4 and will be removed two minor releases later. Use ax.get_subplotspec().is_first_col() instead.\n",
      "  if ax.is_first_col():\n"
     ]
    },
    {
     "data": {
      "image/png": "[encoded data removed]",
      "text/plain": [
       "<Figure size 720x576 with 2 Axes>"
      ]
     },
     "metadata": {
      "needs_background": "light"
     },
     "output_type": "display_data"
    }
   ],
   "source": [
    "#  look at the histogram of the whole data frame \n",
    "df.hist(figsize=(10,8));"
   ]
  },
  {
   "cell_type": "markdown",
   "metadata": {},
   "source": [
    "#### Plot the original data (scatter plot of X,y)"
   ]
  },
  {
   "cell_type": "code",
   "execution_count": 11,
   "metadata": {},
   "outputs": [],
   "source": [
    "x_points = my_data[:,0]\n",
    "y_points = my_data[:,1]"
   ]
  },
  {
   "cell_type": "code",
   "execution_count": 12,
   "metadata": {},
   "outputs": [
    {
     "name": "stdout",
     "output_type": "stream",
     "text": [
      "[2.9000001  6.69999981 4.9000001  7.9000001  9.80000019 6.9000001\n",
      " 6.0999999  6.19999981 6.         5.0999999  4.69999981 4.4000001\n",
      " 5.80000019]\n"
     ]
    }
   ],
   "source": [
    "print(x_points)\n"
   ]
  },
  {
   "cell_type": "code",
   "execution_count": 13,
   "metadata": {},
   "outputs": [
    {
     "name": "stdout",
     "output_type": "stream",
     "text": [
      "[4.         7.4000001  5.         7.19999981 7.9000001  6.0999999\n",
      " 6.         5.80000019 5.19999981 4.19999981 4.         4.4000001\n",
      " 5.19999981]\n"
     ]
    }
   ],
   "source": [
    "print(y_points)"
   ]
  },
  {
   "cell_type": "code",
   "execution_count": 14,
   "metadata": {},
   "outputs": [
    {
     "data": {
      "image/png": "[encoded data removed]",
      "text/plain": [
       "<Figure size 432x288 with 1 Axes>"
      ]
     },
     "metadata": {
      "needs_background": "light"
     },
     "output_type": "display_data"
    }
   ],
   "source": [
    "\n",
    "plt.scatter(x_points, y_points)\n",
    "plt.show()"
   ]
  },
  {
   "cell_type": "markdown",
   "metadata": {},
   "source": [
    "## LR Full Implementation"
   ]
  },
  {
   "cell_type": "markdown",
   "metadata": {},
   "source": [
    "### Step1: Initialize parameters (theta_0 & theta_1) with random value or simply zero. Also choose the Learning rate. "
   ]
  },
  {
   "attachments": {
    "image.png": {
     "image/png": "[encoded data removed]"
    }
   },
   "cell_type": "markdown",
   "metadata": {},
   "source": [
    "![image.png](attachment:image.png)"
   ]
  },
  {
   "cell_type": "code",
   "execution_count": 15,
   "metadata": {},
   "outputs": [],
   "source": [
    "theta0= 0\n",
    "theta1= 0\n",
    "#Learning Rate\n",
    "alpha=0.001\n"
   ]
  },
  {
   "attachments": {
    "image.png": {
     "image/png": "[encoded data removed]"
    }
   },
   "cell_type": "markdown",
   "metadata": {},
   "source": [
    "### Step2: Use (theta_0 & theta_1) to predict the output h(x)= theta_0 + theta_1 * x.![image.png](attachment:image.png)\n",
    "#### Note: you will need to iterate through all data points"
   ]
  },
  {
   "cell_type": "code",
   "execution_count": 16,
   "metadata": {},
   "outputs": [],
   "source": [
    "hypothesis = theta0 + theta1 * x_points\n"
   ]
  },
  {
   "attachments": {
    "image-2.png": {
     "image/png": "[encoded data removed]"
    },
    "image.png": {
     "image/png": "[encoded data removed]"
    }
   },
   "cell_type": "markdown",
   "metadata": {},
   "source": [
    "### Step3: Calculate Cost function 𝑱(theta_0,theta_1 ).![image.png](attachment:image.png)\n",
    "![image-2.png](attachment:image-2.png)"
   ]
  },
  {
   "cell_type": "code",
   "execution_count": 17,
   "metadata": {},
   "outputs": [],
   "source": [
    "cost_function = (sum(hypothesis - y_points)**2) / (2*len(my_data))"
   ]
  },
  {
   "attachments": {
    "image-2.png": {
     "image/png": "[encoded data removed]"
    },
    "image.png": {
     "image/png": "[encoded data removed]"
    }
   },
   "cell_type": "markdown",
   "metadata": {},
   "source": [
    "### Step4: Calculate the gradient.![image.png](attachment:image.png)\n",
    "![image-2.png](attachment:image-2.png)"
   ]
  },
  {
   "cell_type": "code",
   "execution_count": 18,
   "metadata": {},
   "outputs": [],
   "source": [
    "derivative_y =  (sum(hypothesis) - y_points) / (len(my_data))\n",
    "derivative_x =  ((sum(hypothesis) - y_points)* x_points) / (len(my_data))\n"
   ]
  },
  {
   "attachments": {
    "image-2.png": {
     "image/png": "[encoded data removed]"
    },
    "image.png": {
     "image/png": "[encoded data removed]"
    }
   },
   "cell_type": "markdown",
   "metadata": {},
   "source": [
    "### Step5: Update the parameters (simultaneously).![image.png](attachment:image.png)\n",
    "![image-2.png](attachment:image-2.png)"
   ]
  },
  {
   "cell_type": "code",
   "execution_count": 19,
   "metadata": {},
   "outputs": [],
   "source": [
    "theta0 = theta0 - alpha * derivative_y\n",
    "theta1 = theta1 - alpha * derivative_x"
   ]
  },
  {
   "attachments": {
    "image.png": {
     "image/png": "[encoded data removed]"
    }
   },
   "cell_type": "markdown",
   "metadata": {},
   "source": [
    "### Step6: Repeat from 2 to 5 until converge to the minimum or achieve maximum iterations.![image.png](attachment:image.png)"
   ]
  },
  {
   "cell_type": "code",
   "execution_count": 20,
   "metadata": {},
   "outputs": [],
   "source": [
    "def Gradient_Descent(x_points,y_points,alpha,iterations):\n",
    "    theta_0= 0\n",
    "    theta_1= 0\n",
    "    alpha =0.001\n",
    "   \n",
    "    cost =[]\n",
    "    All_theta_0 =[]\n",
    "    All_theta_1 =[]\n",
    "    All_hypothesis =[]\n",
    "    \n",
    "    max_iterations =500\n",
    "    \n",
    "    for i in range(0,max_iterations):\n",
    "        \n",
    "        hypothesis = theta_0 + theta_1 * x_points\n",
    "        All_hypothesis.append(hypothesis)\n",
    "        \n",
    "        All_theta_0.append(theta_0)\n",
    "        All_theta_1.append(theta_1)\n",
    "        \n",
    "        cost_function = (sum(hypothesis - y_points)**2) / (2*len(x_points))\n",
    "        cost.append(cost_function)\n",
    "        \n",
    "        \n",
    "        derivative_y =  np.sum(hypothesis - y_points) / (len(x_points))\n",
    "        derivative_x =  np.sum((hypothesis - y_points)* x_points) / (len(x_points))\n",
    "        \n",
    "        theta_0 = theta_0 - alpha * derivative_y\n",
    "        theta_1 = theta_1 - alpha * derivative_x\n",
    "        \n",
    "        optimum_theta0 = theta_0\n",
    "        optimum_theta1 = theta_1\n",
    "        \n",
    "        \n",
    "        \n",
    "          \n",
    "        \n",
    "        \n",
    "    return All_theta_0,All_theta_1,cost,All_hypothesis,optimum_theta0,optimum_theta1,hypothesis\n",
    "        \n",
    "        \n",
    "        \n",
    "        \n",
    "        \n",
    "    "
   ]
  },
  {
   "cell_type": "markdown",
   "metadata": {},
   "source": [
    "#### Predict y values using the LR equation\n",
    "##### h(x)= theta_0 + theta_1 * x"
   ]
  },
  {
   "cell_type": "code",
   "execution_count": 21,
   "metadata": {},
   "outputs": [],
   "source": [
    "All_theta_0,All_theta_1, cost , All_hypothesis,optimum_theta0,optimum_theta1,hypothesis = Gradient_Descent(x_points,y_points,0.001,500)"
   ]
  },
  {
   "cell_type": "code",
   "execution_count": 22,
   "metadata": {},
   "outputs": [
    {
     "name": "stdout",
     "output_type": "stream",
     "text": [
      "[2.76488137 6.14642145 4.54463944 7.21427655 8.9050468  6.32439751\n",
      " 5.61249411 5.70148193 5.52350629 4.72261508 4.36666338 4.09969992\n",
      " 5.34553066]\n"
     ]
    }
   ],
   "source": [
    "print(hypothesis)"
   ]
  },
  {
   "cell_type": "code",
   "execution_count": 23,
   "metadata": {},
   "outputs": [
    {
     "name": "stdout",
     "output_type": "stream",
     "text": [
      "[0, 0.00556923073976923, 0.010924246580564925, 0.01607342171768198, 0.021024802968708463, 0.025786122571909754, 0.030364810484277395, 0.03476800619880247, 0.03900257009976888, 0.04307509437412689, 0.04699191349630147, 0.05075911430311137, 0.054382545674823, 0.057867827837736724, 0.06122036130310127, 0.06444533545657348, 0.06754773681188486, 0.07053235694184237, 0.07340380009927748, 0.07616649054006468, 0.07882467955985663, 0.0813824522557277, 0.08384373402348032, 0.08621229680094801, 0.088491765067225, 0.09068562160736422, 0.0927972130517122, 0.09482975519869129, 0.09678633812949504, 0.09866993112283146, 0.10048338737753114, 0.10222944855053147, 0.10391074911745457, 0.10552982056271434, 0.10708909540581708, 0.10859091107025928, 0.11003751360117625, 0.11143106123765428, 0.11277362784538816, 0.11406720621514364, 0.11531371123227102, 0.11651498292231091, 0.11767278937753625, 0.11878882956908507, 0.11986473604915689, 0.12090207754757029, 0.1219023614668118, 0.12286703627954405, 0.12379749383238679, 0.12469507155963466, 0.12556105461043265, 0.12639667789279266, 0.1272031280377019, 0.12798154528644726, 0.12873302530415717, 0.12945862092244576, 0.13015934381393043, 0.13083616610128668, 0.131490021903399, 0.13212180882106725, 0.13273238936463116, 0.133322592325784, 0.13389321409575694, 0.13444501993197094, 0.13497874517517044, 0.13549509641897498, 0.13599475263370878, 0.1364783662462957, 0.1369465641779372, 0.13739994884122386, 0.13783909909826578, 0.13826457118136662, 0.13867689957770493, 0.1390765978794301, 0.13946415960052494, 0.13984005896173418, 0.1402047516448073, 0.14055867551725518, 0.1409022513287734, 0.14123588338043994, 0.14155996016775124, 0.14187485499851998, 0.1421809265866167, 0.14247851962250016, 0.1427679653214433, 0.1430495819503274, 0.14332367533384158, 0.1435905393408934, 0.14385045635200386, 0.14410369770843, 0.14435052414373006, 0.1445911861984568, 0.14482592461863913, 0.14505497073868578, 0.1452785468493196, 0.1454968665511281, 0.1457101350942925, 0.14591854970503546, 0.1461222998993066, 0.14632156778420533, 0.14651652834761955, 0.1467073497365416, 0.1468941935245036, 0.1470772149685581, 0.147256563256212, 0.14743238174270726, 0.14760480817902533, 0.147773974930978, 0.1479400091897333, 0.1481030331741111, 0.14826316432497033, 0.1484205154919967, 0.14857519511318845, 0.14872730738732523, 0.1488769524396945, 0.14902422648133928, 0.14916922196208, 0.14931202771755445, 0.14945272911050936, 0.14959140816656824, 0.14972814370469173, 0.1498630114625376, 0.14999608421692023, 0.15012743189956057, 0.1502571217083113, 0.15038521821403356, 0.15051178346329575, 0.15063687707705714, 0.15076055634549387, 0.15088287631911768, 0.15100388989633248, 0.1511236479075682, 0.1512421991961252, 0.1513595906958586, 0.1514758675058253, 0.151591072962013, 0.15170524870626478, 0.1518184347525097, 0.15193066955040355, 0.15204199004648214, 0.15215243174292373, 0.15226202875401415, 0.1523708138604046, 0.15247881856124823, 0.1525860731242986, 0.1526926066340495, 0.15279844703799297, 0.1529036211910688, 0.15300815489837621, 0.15311207295621623, 0.15321539919152902, 0.1533181564997898, 0.15342036688142327, 0.15352205147679424, 0.15362323059983063, 0.15372392377033184, 0.1538241497450141, 0.15392392654734216, 0.15402327149619477, 0.15412220123340953, 0.15422073175025086, 0.15431887841284325, 0.1544166559866103, 0.15451407865975827, 0.15461116006584158, 0.15470791330544623, 0.15480435096702536, 0.15490048514692054, 0.15499632746860004, 0.15509188910114527, 0.15518718077701438, 0.15528221280911142, 0.1553769951071883, 0.1554715371936054, 0.15556584821847616, 0.15565993697421954, 0.1557538119095436, 0.1558474811428824, 0.15594095247530768, 0.15603423340293554, 0.15612733112884844, 0.15622025257455086, 0.15631300439097723, 0.15640559296906947, 0.15649802444994107, 0.15659030473464375, 0.1566824394935524, 0.15677443417538306, 0.15686629401585833, 0.1569580240460341, 0.15704962910030065, 0.15714111382407114, 0.1572324826811693, 0.15732373996092844, 0.15741488978501297, 0.15750593611397315, 0.1575968827535436, 0.15768773336069566, 0.15777849144945302, 0.1578691603964801, 0.15795974344645194, 0.15805024371721413, 0.158140664204741, 0.15823100778790003, 0.15832127723303002, 0.1584114751983402, 0.1585016042381374, 0.158591666806888, 0.15868166526312102, 0.1587716018731787, 0.15886147881482043, 0.15895129818068568, 0.1590410619816217, 0.15913077214988117, 0.15922043054219456, 0.15931003894272272, 0.15939959906589382, 0.15948911255912945, 0.15957858100546418, 0.15966800592606264, 0.15975738878263832, 0.15984673097977758, 0.15993603386717317, 0.16002529874177002, 0.16011452684982744, 0.1602037193889006, 0.16029287750974452, 0.1603820023181437, 0.16047109487667013, 0.16056015620637268, 0.1606491872884003, 0.16073818906556198, 0.16082716244382547, 0.1609161082937576, 0.16100502745190826, 0.16109392072214013, 0.16118278887690668, 0.16127163265848, 0.16136045278013067, 0.16144924992726162, 0.1615380247584975, 0.1616267779067315, 0.16171550998013146, 0.16180422156310628, 0.16189291321723487, 0.16198158548215857, 0.16207023887643884, 0.1621588738983813, 0.1622474910268276, 0.16233609072191638, 0.1624246734258144, 0.16251323956341915, 0.16260178954303395, 0.16269032375701667, 0.16277884258240313, 0.16286734638150605, 0.16295583550249063, 0.16304431027992763, 0.16313277103532492, 0.16322121807763798, 0.16330965170376077, 0.16339807219899716, 0.16348647983751408, 0.16357487488277686, 0.16366325758796768, 0.16375162819638747, 0.16383998694184226, 0.16392833404901436, 0.164016669733819, 0.1641049942037472, 0.16419330765819487, 0.1642816102887795, 0.1643699022796441, 0.16445818380774951, 0.1645464550431551, 0.16463471614928857, 0.16472296728320526, 0.16481120859583723, 0.16489944023223266, 0.16498766233178586, 0.16507587502845827, 0.1651640784509909, 0.1652522727231084, 0.16534045796371516, 0.16542863428708374, 0.16551680180303593, 0.16560496061711683, 0.16569311083076188, 0.16578125254145773, 0.16586938584289646, 0.16595751082512392, 0.1660456275746824, 0.16613373617474742, 0.1662218367052595, 0.16630992924305057, 0.16639801386196548, 0.16648609063297878, 0.16657415962430694, 0.16666222090151614, 0.16675027452762597, 0.16683832056320888, 0.1669263590664859, 0.1670143900934185, 0.16710241369779708, 0.16719042993132566, 0.16727843884370353, 0.16736644048270363, 0.16745443489424786, 0.16754242212247938, 0.16763040220983222, 0.16771837519709804, 0.16780634112349038, 0.16789430002670633, 0.16798225194298577, 0.16807019690716846, 0.16815813495274864, 0.16824606611192772, 0.16833399041566474, 0.16842190789372502, 0.1685098185747268, 0.16859772248618604, 0.16868561965455955, 0.1687735101052864, 0.1688613938628277, 0.16894927095070478, 0.16903714139153603, 0.1691250052070721, 0.16921286241822991, 0.16930071304512515, 0.16938855710710365, 0.1694763946227715, 0.1695642256100239, 0.16965205008607304, 0.1697398680674747, 0.16982767957015404, 0.1699154846094301, 0.17000328320003957, 0.17009107535615958, 0.17017886109142955, 0.1702666404189722, 0.1703544133514137, 0.17044217990090327, 0.17052994007913155, 0.17061769389734874, 0.17070544136638172, 0.17079318249665063, 0.17088091729818478, 0.17096864578063786, 0.17105636795330273, 0.17114408382512544, 0.17123179340471884, 0.17131949670037552, 0.17140719372008045, 0.17149488447152292, 0.1715825689621081, 0.1716702471989682, 0.1717579191889731, 0.1718455849387406, 0.17193324445464633, 0.1720208977428331, 0.17210854480922014, 0.1721961856595117, 0.1722838202992056, 0.1723714487336012, 0.1724590709678071, 0.17254668700674883, 0.17263429685517573, 0.172721900517668, 0.17280949799864329, 0.172897089302363, 0.17298467443293847, 0.17307225339433674, 0.17315982619038628, 0.17324739282478235, 0.17333495330109228, 0.17342250762276037, 0.17351005579311277, 0.17359759781536208, 0.17368513369261177, 0.17377266342786044, 0.173860187024006, 0.1739477044838495, 0.17403521581009895, 0.174122721005373, 0.17421022007220435, 0.17429771301304323, 0.17438519983026046, 0.1744726805261507, 0.17456015510293535, 0.17464762356276545, 0.17473508590772438, 0.17482254213983053, 0.1749099922610399, 0.17499743627324843, 0.1750848741782944, 0.17517230597796074, 0.17525973167397707, 0.17534715126802186, 0.17543456476172442, 0.17552197215666684, 0.1756093734543858, 0.17569676865637432, 0.17578415776408357, 0.17587154077892436, 0.17595891770226885, 0.17604628853545198, 0.17613365327977296, 0.1762210119364966, 0.17630836450685483, 0.1763957109920477, 0.1764830513932449, 0.1765703857115868, 0.17665771394818564, 0.17674503610412653, 0.17683235218046872, 0.17691966217824642, 0.17700696609846983, 0.17709426394212613, 0.1771815557101803, 0.17726884140357604, 0.17735612102323658, 0.17744339457006553, 0.17753066204494752, 0.17761792344874908, 0.17770517878231926, 0.17779242804649037, 0.17787967124207857, 0.17796690836988457, 0.17805413943069417, 0.17814136442527886, 0.17822858335439642, 0.1783157962187914, 0.17840300301919565, 0.17849020375632885, 0.17857739843089893, 0.17866458704360258, 0.17875176959512565, 0.17883894608614356, 0.1789261165173218, 0.17901328088931617, 0.17910043920277333, 0.17918759145833096, 0.1792747376566183, 0.17936187779825638, 0.1794490118838583, 0.17953613991402964, 0.1796232618893687, 0.17971037781046675, 0.1797974876779084, 0.17988459149227176, 0.17997168925412874, 0.1800587809640453, 0.1801458666225816, 0.18023294623029243, 0.18032001978772716, 0.18040708729543012, 0.18049414875394074, 0.18058120416379372, 0.1806682535255193, 0.18075529683964334, 0.1808423341066875, 0.18092936532716952, 0.18101639050160317, 0.18110340963049856, 0.18119042271436225, 0.18127742975369734, 0.18136443074900369, 0.18145142570077794, 0.18153841460951373, 0.18162539747570175, 0.1817123742998299, 0.18179934508238332, 0.18188630982384466, 0.18197326852469395, 0.18206022118540888, 0.18214716780646484, 0.18223410838833498, 0.18232104293149035, 0.18240797143639986, 0.18249489390353058, 0.18258181033334756, 0.1826687207263141, 0.18275562508289173, 0.18284252340354026, 0.18292941568871796, 0.18301630193888144, 0.18310318215448587, 0.183190056335985, 0.18327692448383115, 0.1833637865984753, 0.18345064268036718, 0.18353749272995526, 0.18362433674768683, 0.18371117473400808, 0.18379800668936405, 0.18388483261419872, 0.1839716525089551, 0.18405846637407522, 0.1841452742100001, 0.18423207601716993]\n"
     ]
    }
   ],
   "source": [
    "print(All_theta_0)"
   ]
  },
  {
   "cell_type": "code",
   "execution_count": 24,
   "metadata": {},
   "outputs": [
    {
     "name": "stdout",
     "output_type": "stream",
     "text": [
      "[0, 0.03504384604321537, 0.06871715274511, 0.10107349950678265, 0.13216437111584672, 0.1620392396324827, 0.19074564307426725, 0.21832926102492636, 0.24483398728726768, 0.2703019996958457, 0.294773827200396, 0.3182884143267348, 0.34088318311764704, 0.3625940926522804, 0.38345569623870995, 0.40350119637063786, 0.4227624975356353, 0.441270256958919, 0.45905393336336897, 0.47614183382333963, 0.4925611587867857, 0.5083380453373092, 0.5234976087649361, 0.5380639825117403, 0.5520603565558473, 0.5655090142948689, 0.5784313679874293, 0.5908479928091541, 0.6027786595772858, 0.6142423661959764, 0.6252573678722684, 0.6358412061508236, 0.646010736813579, 0.6557821566887033, 0.6651710294114945, 0.6741923101781899, 0.6828603695320598, 0.6911890162196166, 0.6991915191532915, 0.7068806285155103, 0.7142685960377342, 0.7213671944867195, 0.7281877363889879, 0.7347410920232901, 0.7410377067096778, 0.747087617422684, 0.7529004687550324, 0.7584855282572687, 0.7638517011777092, 0.7690075446261515, 0.7739612811838744, 0.778720811981573, 0.7832937292660299, 0.7876873284755107, 0.7919086198430864, 0.7959643395463413, 0.7998609604211978, 0.8036047022568988, 0.807201541688522, 0.8106572217027597, 0.8139772607720832, 0.8171669616318197, 0.8202314197141007, 0.823175531252098, 0.8260040010674341, 0.8287213500531557, 0.83133192236417, 0.8338398923265803, 0.8362492710769119, 0.8385639129417851, 0.8407875215681843, 0.8429236558140725, 0.8449757354087205, 0.8469470463917528, 0.8488407463395616, 0.8506598693874017, 0.8524073310551527, 0.8540859328844251, 0.8556983668943856, 0.8572472198633866, 0.8587349774432124, 0.8601640281124842, 0.8615366669755122, 0.8628550994126368, 0.8641214445878643, 0.865337738819377, 0.8665059388182772, 0.8676279248007175, 0.8687055034783663, 0.869740410931965, 0.8707343153725478, 0.871688819794715, 0.8726054645261807, 0.8734857296776487, 0.8743310374969144, 0.8751427546309363, 0.8759221942994745, 0.8766706183837542, 0.8773892394334755, 0.878079222595362, 0.8787416874663155, 0.8793777098741239, 0.8799883235885549, 0.8805745219655571, 0.8811372595271825, 0.8816774534797452, 0.8821959851726291, 0.8826937015000652, 0.8831714162481091, 0.8836299113889597, 0.8840699383246787, 0.8844922190822881, 0.8848974474621473, 0.8852862901414359, 0.8856593877344975, 0.8860173558117305, 0.8863607858786469, 0.8866902463166564, 0.8870062832870712, 0.8873094215997709, 0.887600165547907, 0.8878789997099766, 0.8881463897205402, 0.8884027830108082, 0.888648609520277, 0.888884282380543, 0.8891101985723845, 0.8893267395571562, 0.8895342718834998, 0.8897331477703357, 0.8899237056670646, 0.8901062707918673, 0.8902811556489619, 0.8904486605256381, 0.8906090739698619, 0.890762673249208, 0.8909097247918516, 0.8910504846103197, 0.8911851987086767, 0.8913141034737918, 0.8914374260513096, 0.8915553847069236, 0.8916681891735256, 0.891776040984784, 0.891879133795681, 0.8919776536905192, 0.8920717794788873, 0.8921616829800545, 0.892247529296248, 0.8923294770752462, 0.8924076787627071, 0.892482280844631, 0.8925534240803457, 0.8926212437263826, 0.8926858697516015, 0.8927474270439043, 0.8928060356088686, 0.8928618107606151, 0.892914863305214, 0.8929652997169208, 0.8930132223075232, 0.8930587293890664, 0.893101915430218, 0.8931428712065195, 0.8931816839447639, 0.8932184374617296, 0.8932532122974896, 0.8932860858435102, 0.8933171324657418, 0.8933464236228966, 0.8933740279801037, 0.8934000115181199, 0.8934244376382721, 0.8934473672632962, 0.8934688589342346, 0.8934889689035446, 0.8935077512245683, 0.8935252578375035, 0.8935415386520141, 0.8935566416266117, 0.8935706128449326, 0.8935834965890335, 0.8935953354098222, 0.8936061701947343, 0.8936160402327643, 0.8936249832769544, 0.8936330356044409, 0.893640232074152, 0.8936466061822514, 0.8936521901154135, 0.8936570148020159, 0.8936611099613307, 0.8936645041507936, 0.8936672248114231, 0.8936692983114666, 0.8936707499883378, 0.8936716041889166, 0.8936718843082718, 0.8936716128268719, 0.8936708113463393, 0.8936695006238079, 0.8936677006049372, 0.8936654304556357, 0.8936627085925445, 0.8936595527123286, 0.8936559798198233, 0.8936520062550806, 0.8936476477193579, 0.8936429193000908, 0.8936378354948895, 0.8936324102345976, 0.8936266569054485, 0.8936205883703566, 0.8936142169893757, 0.8936075546393575, 0.8936006127328417, 0.8935934022362081, 0.8935859336871178, 0.8935782172112742, 0.8935702625385273, 0.8935620790183496, 0.8935536756347058, 0.8935450610203424, 0.8935362434705177, 0.893527230956196, 0.8935180311367245, 0.8935086513720163, 0.8934990987342564, 0.8934893800191493, 0.8934795017567287, 0.8934694702217425, 0.8934592914436333, 0.8934489712161287, 0.8934385151064552, 0.8934279284641942, 0.8934172164297896, 0.893406383942724, 0.8933954357493754, 0.8933843764105658, 0.8933732103088154, 0.8933619416553135, 0.8933505744966157, 0.8933391127210808, 0.8933275600650546, 0.8933159201188134, 0.8933041963322735, 0.893292392020479, 0.8932805103688745, 0.8932685544383709, 0.893256527170215, 0.8932444313906664, 0.8932322698154938, 0.8932200450542936, 0.8932077596146415, 0.8931954159060799, 0.893183016243951, 0.8931705628530794, 0.8931580578713104, 0.8931455033529108, 0.8931329012718358, 0.8931202535248691, 0.8931075619346396, 0.8930948282525203, 0.8930820541614143, 0.8930692412784311, 0.893056391157459, 0.8930435052916366, 0.8930305851157275, 0.8930176320084029, 0.8930046472944339, 0.8929916322467989, 0.8929785880887084, 0.8929655159955507, 0.8929524170967611, 0.8929392924776186, 0.8929261431809723, 0.8929129702088997, 0.892899774524301, 0.8928865570524306, 0.8928733186823684, 0.8928600602684348, 0.8928467826315489, 0.8928334865605345, 0.8928201728133748, 0.8928068421184181, 0.8927934951755364, 0.8927801326572385, 0.8927667552097398, 0.8927533634539903, 0.892739957986662, 0.8927265393810984, 0.8927131081882262, 0.8926996649374321, 0.8926862101374042, 0.8926727442769417, 0.8926592678257321, 0.892645781235099, 0.8926322849387189, 0.8926187793533121, 0.8926052648793052, 0.892591741901468, 0.8925782107895255, 0.8925646718987466, 0.8925511255705084, 0.8925375721328401, 0.8925240119009444, 0.8925104451776988, 0.8924968722541379, 0.8924832934099158, 0.8924697089137517, 0.8924561190238566, 0.8924425239883448, 0.8924289240456281, 0.8924153194247957, 0.8924017103459778, 0.8923880970206967, 0.8923744796522026, 0.8923608584357977, 0.8923472335591464, 0.8923336052025738, 0.8923199735393532, 0.8923063387359813, 0.8922927009524432, 0.892279060342467, 0.8922654170537684, 0.8922517712282859, 0.8922381230024066, 0.8922244725071828, 0.8922108198685413, 0.8921971652074832, 0.8921835086402765, 0.8921698502786416, 0.8921561902299284, 0.8921425285972878, 0.8921288654798355, 0.8921152009728097, 0.8921015351677231, 0.8920878681525078, 0.8920742000116563, 0.8920605308263548, 0.8920468606746136, 0.8920331896313902, 0.8920195177687097, 0.8920058451557784, 0.8919921718590947, 0.891978497942555, 0.8919648234675547, 0.8919511484930868, 0.8919374730758353, 0.8919237972702657, 0.8919101211287117, 0.8918964447014585, 0.8918827680368226, 0.8918690911812297, 0.8918554141792873, 0.8918417370738567, 0.8918280599061212, 0.8918143827156514, 0.8918007055404682, 0.8917870284171037, 0.8917733513806592, 0.8917596744648612, 0.8917459977021152, 0.8917323211235572, 0.8917186447591033, 0.8917049686374978, 0.8916912927863584, 0.8916776172322206, 0.8916639420005801, 0.8916502671159331, 0.8916365926018157, 0.8916229184808414, 0.8916092447747369, 0.8915955715043771, 0.8915818986898182, 0.8915682263503296, 0.8915545545044251, 0.8915408831698919, 0.8915272123638194, 0.8915135421026262, 0.8914998724020867, 0.8914862032773558, 0.8914725347429936, 0.8914588668129881, 0.8914451995007783, 0.8914315328192748, 0.8914178667808812, 0.8914042013975136, 0.8913905366806196, 0.8913768726411968, 0.89136320928981, 0.8913495466366089, 0.8913358846913434, 0.8913222234633799, 0.891308562961716, 0.8912949031949949, 0.8912812441715195, 0.8912675858992656, 0.8912539283858941, 0.8912402716387645, 0.8912266156649457, 0.8912129604712276, 0.8911993060641322, 0.8911856524499241, 0.8911719996346202, 0.8911583476239997, 0.8911446964236133, 0.891131046038792, 0.8911173964746562, 0.891103747736123, 0.8910900998279152, 0.8910764527545681, 0.8910628065204373, 0.8910491611297056, 0.8910355165863894, 0.8910218728943456, 0.8910082300572782, 0.8909945880787433, 0.8909809469621557, 0.8909673067107939, 0.8909536673278059, 0.8909400288162139, 0.8909263911789196, 0.8909127544187083, 0.8908991185382543, 0.8908854835401245, 0.890871849426783, 0.8908582162005949, 0.8908445838638305, 0.8908309524186684, 0.8908173218671998, 0.8908036922114314, 0.890790063453289, 0.8907764355946206, 0.8907628086371991, 0.8907491825827258, 0.890735557432833, 0.8907219331890861, 0.8907083098529873, 0.8906946874259773, 0.8906810659094381, 0.8906674453046947, 0.8906538256130179, 0.8906402068356265, 0.8906265889736888, 0.8906129720283251, 0.8905993560006092, 0.8905857408915704, 0.890572126702195, 0.8905585134334285, 0.8905449010861767, 0.8905312896613073, 0.890517679159652, 0.8905040695820068, 0.8904904609291344, 0.8904768532017652, 0.8904632464005982, 0.8904496405263025, 0.8904360355795188, 0.89042243156086, 0.8904088284709124, 0.8903952263102369, 0.89038162507937, 0.8903680247788246, 0.8903544254090908, 0.8903408269706373, 0.8903272294639117, 0.8903136328893417, 0.8903000372473356, 0.8902864425382833, 0.8902728487625566, 0.8902592559205106, 0.8902456640124837, 0.8902320730387986, 0.8902184829997628, 0.8902048938956693, 0.8901913057267969, 0.8901777184934112, 0.8901641321957647, 0.8901505468340974, 0.8901369624086376, 0.8901233789196019, 0.890109796367196, 0.8900962147516149, 0.8900826340730436, 0.890069054331657, 0.8900554755276209, 0.8900418976610919, 0.890028320732218, 0.890014744741139, 0.8900011696879863, 0.8899875955728839, 0.8899740223959482, 0.8899604501572889, 0.8899468788570083, 0.8899333084952026, 0.8899197390719614, 0.8899061705873684, 0.8898926030415014, 0.8898790364344327]\n"
     ]
    }
   ],
   "source": [
    "print(All_theta_1)"
   ]
  },
  {
   "cell_type": "code",
   "execution_count": 25,
   "metadata": {},
   "outputs": [
    {
     "name": "stdout",
     "output_type": "stream",
     "text": [
      "[201.6061517131385, 186.39526525862325, 172.34102985257897, 159.35514590460764, 147.3560683648879, 136.26848949260005, 126.02286125267808, 116.55495430389107, 107.80545077402891, 99.7195682329108, 92.24671247238952, 85.3401568857761, 78.95674640830963, 73.05662413652983, 67.60297888866458, 62.56181210134667, 57.901722580959344, 53.59370774147562, 49.61098006551025, 45.92879762212613, 42.524307564333135, 39.37640161176444, 36.46558260023537, 33.773841250265086, 31.284542371625506, 28.98231978098295, 26.85297926510138, 24.88340897323191, 23.061496669549335, 21.376053320111037, 19.816742529085445, 18.374015376183547, 17.03905024156124, 15.80369723616488, 14.660426884765815, 13.602282735960053, 12.622837598367806, 11.716153125313324, 10.87674249154504, 10.099535925204142, 9.37984887639345, 8.713352620449456, 8.096047109490183, 7.524235900093383, 6.994502998148786, 6.503691474105491, 6.04888371308006, 5.6273831746737155, 5.236697546934353, 4.874523187751099, 4.538730755143765, 4.227351935456935, 3.9385671854378206, 3.6706944106125294, 3.422178508317403, 3.1915817092291623, 2.9775746563039616, 2.77892816471384, 2.5945056106888718, 2.4232559011621477, 2.2642069797981397, 2.1164598283858607, 1.979182925718912, 1.851607128984372, 1.733020945360214, 1.6227661639936442, 1.5202338208158532, 1.4248604707571433, 1.3361247438730455, 1.2535441636898776, 1.17667220773815, 1.1050955917750662, 1.0384317606128783, 0.9763265697768885, 0.918452143423828, 0.8645048950659533, 0.8142036986752567, 0.7672881986927054, 0.7235172483449054, 0.6826674664810942, 0.6445319038916412, 0.6089188107603719, 0.5756504975411452, 0.5445622821384982, 0.515501516816242, 0.4883266887605989, 0.46290658868844964, 0.43911954231982775, 0.41685269992965013, 0.3960013795590612, 0.3764684598043455, 0.35816381841304323, 0.34100381320474443, 0.3249108020998949, 0.3098126992854012, 0.29564256477257905, 0.28233822481234566, 0.2698419208259502, 0.25809998468807527, 0.24706253836413794, 0.23668321605586423, 0.22691890714997773, 0.21772951839464572, 0.20907775384849547, 0.20092891125765264, 0.19325069361876016, 0.18601303478041317, 0.17918793802276475, 0.17274932663573528, 0.16667290559073855, 0.16093603346962274, 0.15551760387813957, 0.15039793562988552, 0.1455586710409418, 0.14098268172548664, 0.13665398132896167, 0.13255764467807418, 0.12867973286642, 0.12500722383098845, 0.12152794800846796, 0.11823052869145807, 0.11510432673336911, 0.11213938927742476, 0.10932640220968025, 0.10665664605866548, 0.10412195508519527, 0.10171467932526558, 0.09942764936681114, 0.09725414365763542, 0.09518785815711513, 0.09322287815833898, 0.09135365212042366, 0.08957496736278024, 0.08788192748422878, 0.08626993138015954, 0.08473465374044534, 0.08327202691959523, 0.08187822407875804, 0.08054964350670236, 0.07928289403383207, 0.07807478145970378, 0.07692229592046627, 0.07582260012807797, 0.0747730184182886, 0.0737710265490005, 0.07281424219497665, 0.0719004160888839, 0.07102742376234114, 0.07019325784406984, 0.06939602087542986, 0.0686339186065197, 0.06790525373877203, 0.06720842008243742, 0.06654189709970368, 0.06590424480631216, 0.06529409900654409, 0.06471016683826679, 0.06415122260643061, 0.06361610388498248, 0.06310370786862486, 0.0626129879571714, 0.0621429505565239, 0.06169265208142554, 0.06126119614623855, 0.06084773093094728, 0.06045144671054034, 0.060071573536756656, 0.05970737906195414, 0.05935816649560992, 0.05902327268462522, 0.05870206630921375, 0.05839394618677734, 0.0580983396766489, 0.057814701179131754, 0.057542510722697233, 0.057281272633632245, 0.05703051428283128, 0.056789784904797976, 0.05655865448424346, 0.05633671270600382, 0.05612356796428924, 0.0559188464275407, 0.05572219115542614, 0.05553326126474899, 0.05535173114125576, 0.05517728969452286, 0.055009639653309225, 0.054848496898920095, 0.05469358983429018, 0.05454465878666286, 0.054401455441852445, 0.054263742308242074, 0.05413129220875502, 0.054003887799180146, 0.05388132111132032, 0.053763393119531634, 0.053649913329325574, 0.05354069938676631, 0.053435576707501035, 0.05333437812431656, 0.053236943552192134, 0.053143119669880466, 0.053052759617101396, 0.05296572270651316, 0.05288187414963038, 0.0528010847959737, 0.05272323088470779, 0.05264819380812523, 0.052575859886348414, 0.05250612015264152, 0.05243887014881189, 0.05237400973014788, 0.052311442879413916, 0.052251077529446625, 0.052192825393899606, 0.05213660180573773, 0.052082325563085605, 0.05202991878206254, 0.051979306756266955, 0.05193041782256161, 0.05188318323287795, 0.051837537031726194, 0.05179341593914044, 0.05175075923879743, 0.05170950867106406, 0.05166960833073832, 0.05163100456924803, 0.051593645901121206, 0.05155748291450887, 0.05152246818557667, 0.051488556196588986, 0.05145570325751138, 0.051423867430969716, 0.0513930084604184, 0.051363087701357876, 0.05133406805548309, 0.05130591390761173, 0.051278591065278774, 0.051252066700873726, 0.05122630929621245, 0.05120128858942304, 0.0511769755240638, 0.051153342200348645, 0.051130361828418694, 0.05110800868354142, 0.051086258063172095, 0.0510650862457903, 0.05104447045143298, 0.05102438880385602, 0.05100482029425487, 0.05098574474646199, 0.05096714278358834, 0.05094899579601358, 0.050931285910692986, 0.0509139959617115, 0.05089710946204205, 0.05088061057644502, 0.05086448409547511, 0.05084871541053599, 0.05083329048995264, 0.05081819585600283, 0.050803418562887656, 0.050788946175574466, 0.050774766749513964, 0.050760868811151535, 0.050747241339243646, 0.05073387374690944, 0.05072075586440762, 0.050707877922608544, 0.05069523053712126, 0.05068280469306142, 0.05067059173042905, 0.050658583330063164, 0.05064677150016726, 0.05063514856336516, 0.0506237071442769, 0.0506124401575911, 0.050601340796604416, 0.0505904025222276, 0.05057961905242524, 0.050568984352066325, 0.0505584926231935, 0.05054813829566797, 0.05053791601818975, 0.050527820649671214, 0.05051784725095544, 0.050507991076862595, 0.05049824756855088, 0.050488612346176104, 0.05047908120185173, 0.05046965009287309, 0.050460315135225524, 0.05045107259733474, 0.050441918894072714, 0.050432850581001304, 0.05042386434883222, 0.0504149570181224, 0.050406125534162134, 0.050397366962081094, 0.05038867848212803, 0.05038005738515668, 0.050371501068275766, 0.050363007030674714, 0.05035457286961885, 0.050346196276589886, 0.05033787503359322, 0.0503296070095982, 0.0503213901571299, 0.05031322250898102, 0.05030510217506761, 0.05029702733940075, 0.050288996257175436, 0.050281007251980966, 0.050273058713113904, 0.05026514909300449, 0.05025727690473315, 0.050249440719658166, 0.050241639165123725, 0.050233870922266825, 0.050226134723908626, 0.050218429352522236, 0.05021075363829108, 0.05020310645723564, 0.05019548672941665, 0.050187893417205164, 0.05018032552362827, 0.05017278209077146, 0.05016526219824898, 0.05015776496173284, 0.050150289531537474, 0.05014283509126378, 0.050135400856492374, 0.05012798607353361, 0.05012059001821843, 0.050113211994743535, 0.05010585133456012, 0.050098507395305365, 0.0500911795597755, 0.050083867234941445, 0.050076569850998114, 0.05006928686045816, 0.05006201773727721, 0.050054761976009256, 0.05004751909100342, 0.050040288615628745, 0.05003307010152596, 0.05002586311789417, 0.05001866725080036, 0.050011482102523035, 0.05000430729091077, 0.049997142448777857, 0.04998998722331406, 0.04998284127552473, 0.049975704279685576, 0.049968575922827094, 0.04996145590423191, 0.04995434393495626, 0.04994723973736766, 0.049940143044701846, 0.04993305360063889, 0.049925971158891844, 0.0499188954828169, 0.04991182634502867, 0.04990476352704655, 0.049897706818940166, 0.04989065601899567, 0.049883610933394724, 0.049876571375903726, 0.049869537167578644, 0.04986250813647848, 0.04985548411739033, 0.04984846495156625, 0.04984145048647149, 0.049834440575539166, 0.04982743507793662, 0.049820433858342755, 0.04981343678673041, 0.04980644373816019, 0.04979945459257884, 0.0497924692346311, 0.04978548755347397, 0.04977850944260077, 0.04977153479966771, 0.04976456352633674, 0.04975759552811616, 0.04975063071420774, 0.04974366899736485, 0.04973671029375203, 0.049729754522812544, 0.04972280160713802, 0.049715851472347944, 0.049708904046968115, 0.04970195926231932, 0.0496950170524066, 0.04968807735381139, 0.04968114010559851, 0.04967420524921135, 0.049667272728380035, 0.04966034248903534, 0.04965341447921916, 0.049646488649003374, 0.049639564950409845, 0.049632643337333644, 0.049625723765470635, 0.04961880619224702, 0.049611890576749466, 0.04960497687966398, 0.04959806506320921, 0.04959115509107752, 0.0495842469283806, 0.04957734054158927, 0.049570435898482014, 0.049563532968096236, 0.04955663172067332, 0.04954973212761679, 0.04954283416144611, 0.049535937795748324, 0.049529043005143054, 0.04952214976523647, 0.049515258052585435, 0.04950836784466072, 0.049501479119808, 0.049494591857217954, 0.0494877060368906, 0.049480821639602594, 0.049473938646879406, 0.049467057040964144, 0.049460176804791096, 0.04945329792195688, 0.04944642037669548, 0.04943954415385277, 0.04943266923886377, 0.04942579561772885, 0.04941892327698937, 0.049412052203711435, 0.049405182385460086, 0.0493983138102833, 0.04939144646669199, 0.049384580343641966, 0.04937771543051535, 0.04937085171710552, 0.04936398919360147, 0.049357127850569976, 0.04935026767894084, 0.049343408669996876, 0.04933655081535571, 0.049329694106956874, 0.049322838537050995, 0.04931598409818941, 0.04930913078320698, 0.04930227858521486, 0.0492954274975899, 0.04928857751396201, 0.049281728628204964, 0.04927488083442898, 0.0492680341269678, 0.04926118850037331, 0.04925434394940621, 0.04924750046902475, 0.04924065805438168, 0.04923381670081329, 0.04922697640383432, 0.04922013715912911, 0.04921329896254608, 0.04920646181009179, 0.04919962569792272, 0.04919279062234158, 0.049185956579790885, 0.04917912356684649, 0.049172291580213696, 0.04916546061672196, 0.04915863067332011, 0.049151801747068916, 0.04914497383514256, 0.049138146934819035, 0.04913132104347661, 0.0491244961585935, 0.049117672277740304, 0.04911084939857662, 0.04910402751885057, 0.049097206636392686, 0.04909038674911229, 0.04908356785499557, 0.04907674995210395, 0.04906993303856809, 0.049063117112588116, 0.04905630217242773, 0.049049488216415686, 0.049042675242939524, 0.04903586325044461, 0.04902905223743269, 0.049022242202459314, 0.04901543314413111, 0.04900862506110396, 0.04900181795208191, 0.04899501181581355, 0.04898820665109216, 0.04898140245675302, 0.04897459923167198, 0.04896779697476415]\n"
     ]
    }
   ],
   "source": [
    "print(cost)"
   ]
  },
  {
   "cell_type": "code",
   "execution_count": 26,
   "metadata": {},
   "outputs": [
    {
     "name": "stdout",
     "output_type": "stream",
     "text": [
      "[array([0., 0., 0., 0., 0., 0., 0., 0., 0., 0., 0., 0., 0.]), array([0.10719639, 0.24036299, 0.17728408, 0.28241562, 0.34899893,\n",
      "       0.24737177, 0.21933669, 0.22284107, 0.21583231, 0.18429284,\n",
      "       0.1702753 , 0.15976216, 0.20882354]), array([0.210204  , 0.47132916, 0.3476383 , 0.55378976, 0.68435236,\n",
      "       0.48507261, 0.43009887, 0.43697058, 0.42322716, 0.36138172,\n",
      "       0.33389485, 0.31327973, 0.40948375]), array([0.30918658, 0.69326585, 0.51133358, 0.81455408, 1.00659374,\n",
      "       0.71348058, 0.63262176, 0.6427291 , 0.62251442, 0.53154826,\n",
      "       0.49111885, 0.46079683, 0.60229974]), array([0.40430149, 0.90652606, 0.66863023, 1.06512335, 1.31623567,\n",
      "       0.93295898, 0.82722745, 0.84044388, 0.81401103, 0.69506308,\n",
      "       0.64219732, 0.60254805, 0.78757818]), array([0.49569993, 1.111449  , 0.81977841, 1.30589613, 1.6137707 ,\n",
      "       1.14385689, 1.01422547, 1.03042938, 0.99802156, 0.85218623,\n",
      "       0.78737052, 0.73875879, 0.96561374]), array([0.58352719, 1.30836058, 0.96501848, 1.53725541, 1.89967215,\n",
      "       1.34650977, 1.19391322, 1.21298776, 1.17483867, 1.00316757,\n",
      "       0.9268693 , 0.86964566, 1.13668958]), array([0.66792288, 1.49757401, 1.10458141, 1.75956919, 2.17439481,\n",
      "       1.54123993, 1.36657648, 1.38840938, 1.34474357, 1.14824722,\n",
      "       1.06091549, 0.99541678, 1.30107776]), array([0.74902116, 1.67939024, 1.23868913, 1.97319109, 2.43837569,\n",
      "       1.72835711, 1.53248987, 1.55697324, 1.50800649, 1.28765588,\n",
      "       1.18972226, 1.11627214, 1.45903974]), array([0.82695092, 1.85409844, 1.36755492, 2.17846092, 2.69203474,\n",
      "       1.90815892, 1.69191727, 1.71894744, 1.66488709, 1.42161527,\n",
      "       1.31349444, 1.23240392, 1.61082674]), array([0.90183604, 2.0219765 , 1.49138369, 2.37570518, 2.93577548,\n",
      "       2.08093135, 1.84511223, 1.87458959, 1.81563488, 1.5503384 ,\n",
      "       1.43242885, 1.34399678, 1.75668017]), array([0.97379555, 2.18329143, 1.61037237, 2.56523762, 3.16998564,\n",
      "       2.2469492 , 1.99231841, 2.02414722, 1.9604896 , 1.67403   ,\n",
      "       1.5467146 , 1.45122817, 1.89683198]), array([1.04294381, 2.33829981, 1.72471018, 2.74735972, 3.39503781,\n",
      "       2.40647654, 2.13376993, 2.16785822, 2.09968164, 1.79288675,\n",
      "       1.65653344, 1.55426858, 2.03150507]), array([1.10939073, 2.48724818, 1.83457892, 2.92236119, 3.61129001,\n",
      "       2.5597671 , 2.26969176, 2.30595113, 2.23343238, 1.90709767,\n",
      "       1.76205999, 1.65328187, 2.16091363]), array([1.17324192, 2.63037345, 1.94015331, 3.0905204 , 3.81908626,\n",
      "       2.7070647 , 2.40030007, 2.4386456 , 2.36195454, 2.01684438,\n",
      "       1.86346206, 1.74842546, 2.28526347]), array([1.23459884, 2.76790327, 2.04160124, 3.25210483, 4.01875714,\n",
      "       2.84860363, 2.52580259, 2.56615268, 2.48545251, 2.1223014 ,\n",
      "       1.96090088, 1.83985064, 2.40475235]), array([1.29355902, 2.90005639, 2.13908401, 3.40737151, 4.21062029,\n",
      "       2.98460901, 2.64639893, 2.68867514, 2.60412272, 2.22363643,\n",
      "       2.05453139, 1.92770277, 2.5195703 ]), array([1.35021614, 3.02704299, 2.23275666, 3.55656743, 4.39498096,\n",
      "       3.11529717, 2.76228088, 2.80640787, 2.7181539 , 2.32101063,\n",
      "       2.14450248, 2.01212153, 2.62989993]), array([1.40466025, 3.14906507, 2.32276812, 3.69992992, 4.57213243,\n",
      "       3.24087598, 2.87363275, 2.9195381 , 2.8277274 , 2.41457882,\n",
      "       2.2309572 , 2.09324115, 2.7359167 ]), array([1.45697785, 3.26631669, 2.40926152, 3.83768702, 4.74235655,\n",
      "       3.36154519, 2.98063163, 3.02824577, 2.93301749, 2.5044898 ,\n",
      "       2.31403302, 2.1711906 , 2.83778922]), array([1.50725209, 3.37898435, 2.4923744 , 3.97005788, 4.90592413,\n",
      "       3.47749672, 3.0834477 , 3.13270377, 3.03419163, 2.59088654,\n",
      "       2.39386203, 2.24609383, 2.93567949]), array([1.55556283, 3.48724726, 2.57223892, 4.09725306, 5.06309539,\n",
      "       3.58891501, 3.18224448, 3.23307824, 3.13141072, 2.67390644,\n",
      "       2.47057117, 2.3180699 , 3.02974321]), array([1.60198685, 3.59127761, 2.64898207, 4.21947489, 5.2141204 ,\n",
      "       3.69597728, 3.2771791 , 3.32952881, 3.22482939, 2.75368149,\n",
      "       2.5442824 , 2.38723326, 3.12012996]), array([1.6465979 , 3.69124088, 2.72272586, 4.33691781, 5.35923943,\n",
      "       3.79885383, 3.36840254, 3.42220889, 3.31459619, 2.83033856,\n",
      "       2.61511291, 2.45369387, 3.2069835 ]), array([1.68946685, 3.78729605, 2.79358756, 4.44976863, 5.49868336,\n",
      "       3.89770828, 3.45605989, 3.51126587, 3.4008539 , 2.90399953,\n",
      "       2.68317534, 2.51755739, 3.29044194]), array([1.73066182, 3.87959591, 2.86167985, 4.55820689, 5.63267407,\n",
      "       3.99269787, 3.54029056, 3.5968414 , 3.48373971, 2.97478154,\n",
      "       2.74857788, 2.57892534, 3.37063801]), array([1.77024824, 3.96828727, 2.92711097, 4.66240508, 5.76142473,\n",
      "       4.08397371, 3.6212285 , 3.67907158, 3.56338542, 3.04279713,\n",
      "       2.81142453, 2.63789529, 3.44769926]), array([1.80828899, 4.05351119, 2.98998498, 4.76252895, 5.8851402 ,\n",
      "       4.17168096, 3.69900246, 3.7580872 , 3.63991771, 3.10815446,\n",
      "       2.87181521, 2.69456098, 3.52174823]), array([1.84484451, 4.13540324, 3.05040183, 4.85873781, 6.00401732,\n",
      "       4.25595915, 3.7737361 , 3.83401391, 3.7134583 , 3.17095744,\n",
      "       2.92984592, 2.7490125 , 3.59290268]), array([1.87997285, 4.21409367, 3.10845758, 4.95118468, 6.11824524,\n",
      "       4.33694232, 3.84554831, 3.90697248, 3.78412413, 3.23130594,\n",
      "       2.98560893, 2.8013364 , 3.66127577]), array([1.91372981, 4.28970763, 3.16424455, 5.04001665, 6.22800571,\n",
      "       4.41475929, 3.91455327, 3.97707895, 3.85202759, 3.2892959 ,\n",
      "       3.0391929 , 2.85161587, 3.72697624]), array([1.94616901, 4.36236541, 3.21785142, 5.12537504, 6.33347339,\n",
      "       4.48953383, 3.98086075, 4.04444481, 3.91727669, 3.34501954,\n",
      "       3.090683  , 2.89993082, 3.79010857]), array([1.97734195, 4.43218256, 3.26936342, 5.20739563, 6.43481609,\n",
      "       4.56138489, 4.04457618, 4.10917719, 3.97997517, 3.39856545,\n",
      "       3.14016109, 2.94635805, 3.85077315]), array([2.00729814, 4.49927015, 3.31886245, 5.28620892, 6.53219508,\n",
      "       4.63042676, 4.10580091, 4.17137907, 4.04022276, 3.45001876,\n",
      "       3.18770583, 2.99097137, 3.90906645]), array([2.03608514, 4.56373487, 3.3664272 , 5.36194029, 6.62576531,\n",
      "       4.69676926, 4.16463231, 4.23114935, 4.09811527, 3.49946128,\n",
      "       3.23339281, 3.03384169, 3.96508119]), array([2.06374867, 4.62567926, 3.41213329, 5.43471023, 6.71567568,\n",
      "       4.76051792, 4.22116394, 4.28858311, 4.15374477, 3.54697163,\n",
      "       3.27729464, 3.07503714, 4.01890644]), array([2.09033265, 4.68520186, 3.45605339, 5.5046345 , 6.80206927,\n",
      "       4.82177413, 4.2754857 , 4.34377167, 4.20719973, 3.59262533,\n",
      "       3.31948112, 3.1146232 , 4.07062779]), array([2.11587927, 4.74239734, 3.49825731, 5.57182436, 6.88508355,\n",
      "       4.88063534, 4.32768399, 4.39680283, 4.25856516, 3.63649498,\n",
      "       3.36001931, 3.1526628 , 4.12032749]), array([2.1404291 , 4.79735667, 3.53881214, 5.6363867 , 6.96485065,\n",
      "       4.93719518, 4.37784183, 4.44776091, 4.30792274, 3.67865031,\n",
      "       3.39897363, 3.18921638, 4.16808457]), array([2.1640211 , 4.85016728, 3.57778235, 5.69842424, 7.0414975 ,\n",
      "       4.99154361, 4.42603897, 4.49672697, 4.35535098, 3.71915834,\n",
      "       3.43640603, 3.22434204, 4.21397499]), array([2.18669271, 4.90091317, 3.6152299 , 5.75803569, 7.11514609,\n",
      "       5.04376709, 4.47235208, 4.54377887, 4.40092529, 3.75808348,\n",
      "       3.47237598, 3.2580956 , 4.2580717 ]), array([2.20847992, 4.94967505, 3.6512143 , 5.81531589, 7.18591363,\n",
      "       5.09394869, 4.5168548 , 4.58899145, 4.44471815, 3.79548761,\n",
      "       3.50694066, 3.29053071, 4.30044485]), array([2.22941729, 4.99653048, 3.68579277, 5.87035598, 7.25391275,\n",
      "       5.14216824, 4.55961791, 4.63243662, 4.48679921, 3.83143018,\n",
      "       3.54015501, 3.3216989 , 4.3411618 ]), array([2.24953807, 5.04155401, 3.71902025, 5.92324353, 7.31925167,\n",
      "       5.18850243, 4.60070942, 4.67418346, 4.52723538, 3.86596833,\n",
      "       3.57207182, 3.3516497 , 4.3802873 ]), array([2.26887416, 5.08481723, 3.75094957, 5.97406269, 7.3820344 ,\n",
      "       5.23302498, 4.64019468, 4.71429838, 4.56609098, 3.89915697,\n",
      "       3.60274182, 3.38043072, 4.41788358]), array([2.28745624, 5.12638897, 3.78163147, 6.02289433, 7.44236087,\n",
      "       5.27580671, 4.67813647, 4.75284516, 4.60342778, 3.93104886,\n",
      "       3.63221374, 3.40808767, 4.4540104 ]), array([2.30531379, 5.16633536, 3.81111473, 6.06981614, 7.5003271 ,\n",
      "       5.31691567, 4.71459515, 4.78988512, 4.63930517, 3.96169468,\n",
      "       3.66053442, 3.4346645 , 4.48872522]), array([2.32247514, 5.20471993, 3.8394462 , 6.11490278, 7.55602536,\n",
      "       5.35641725, 4.74962869, 4.82547717, 4.67378021, 3.99114316,\n",
      "       3.68774887, 3.46020343, 4.52208325]), array([2.3389675 , 5.24160375, 3.8666709 , 6.15822601, 7.60954431,\n",
      "       5.3943743 , 4.7832928 , 4.8596779 , 4.7069077 , 4.0194411 ,\n",
      "       3.71390034, 3.48474505, 4.55413751]), array([2.35481702, 5.27704547, 3.89283211, 6.19985475, 7.66096916,\n",
      "       5.4308472 , 4.81564102, 4.8925417 , 4.73874034, 4.04663348,\n",
      "       3.73903038, 3.50832834, 4.58493898]), array([2.37004884, 5.31110149, 3.91797141, 6.23985525, 7.71038176,\n",
      "       5.46589397, 4.8467248 , 4.92412085, 4.76932874, 4.07276352,\n",
      "       3.76317893, 3.53099077, 4.61453663]), array([2.38468711, 5.34382597, 3.94212873, 6.27829117, 7.75786078,\n",
      "       5.49957035, 4.87659356, 4.95446556, 4.79872155, 4.09787275,\n",
      "       3.78638435, 3.55276832, 4.64297754]), array([2.39875502, 5.37527096, 3.96534248, 6.31522366, 7.80348182,\n",
      "       5.53192993, 4.9052948 , 4.9836241 , 4.8269655 , 4.12200107,\n",
      "       3.80868351, 3.57369561, 4.67030691]), array([2.41227487, 5.4054865 , 3.98764953, 6.35071152, 7.84731751,\n",
      "       5.56302419, 4.93287417, 5.01164283, 4.85410552, 4.14518685,\n",
      "       3.83011184, 3.59380587, 4.6965682 ]), array([2.4252681 , 5.43452063, 4.00908534, 6.3848112 , 7.88943765,\n",
      "       5.59290258, 4.95937553, 5.03856632, 4.88018474, 4.16746691,\n",
      "       3.85070339, 3.61313103, 4.72180317]), array([2.43775528, 5.46241954, 4.02968396, 6.41757698, 7.9299093 ,\n",
      "       5.62161264, 4.98484102, 5.06443737, 4.90524466, 4.18887668,\n",
      "       3.87049086, 3.63170179, 4.74605194]), array([2.44975621, 5.48922763, 4.04947813, 6.44906101, 7.96879691,\n",
      "       5.64920005, 5.00931113, 5.08929715, 4.92932511, 4.20945017,\n",
      "       3.88950571, 3.64954765, 4.76935307]), array([2.46128988, 5.51498752, 4.06849928, 6.47931339, 8.0061624 ,\n",
      "       5.67570869, 5.03282477, 5.11318517, 4.95246438, 4.22922007,\n",
      "       3.90777811, 3.66669693, 4.79174359]), array([2.47237457, 5.5397402 , 4.08677765, 6.50838228, 8.04206528,\n",
      "       5.70118074, 5.05541935, 5.13613943, 4.97469927, 4.24821781,\n",
      "       3.92533711, 3.68317688, 4.81325912]), array([2.48302783, 5.56352504, 4.10434227, 6.53631394, 8.07656274,\n",
      "       5.72565672, 5.07713078, 5.15819643, 4.99606514, 4.26647356,\n",
      "       3.9422106 , 3.69901366, 4.83393385]), array([2.49326652, 5.58637988, 4.12122104, 6.56315283, 8.1097097 ,\n",
      "       5.74917557, 5.0979936 , 5.17939125, 5.01659595, 4.28401634,\n",
      "       3.95842536, 3.71423241, 4.85380066]), array([2.50310686, 5.60834108, 4.13744078, 6.58894167, 8.14155897,\n",
      "       5.77177471, 5.11804098, 5.1997576 , 5.03632436, 4.30087402,\n",
      "       3.97400716, 3.7288573 , 4.87289113]), array([2.51256441, 5.62944357, 4.15302725, 6.61372151, 8.17216128,\n",
      "       5.79349009, 5.1373048 , 5.21932786, 5.05528173, 4.31707338,\n",
      "       3.98898073, 3.74291154, 4.89123561]), array([2.52165414, 5.64972092, 4.1680052 , 6.6375318 , 8.20156538,\n",
      "       5.81435626, 5.15581568, 5.23813316, 5.07349821, 4.33264015,\n",
      "       4.00336986, 3.75641744, 4.90886326]), array([2.53039043, 5.66920539, 4.18239843, 6.66041043, 8.22981811,\n",
      "       5.83440643, 5.17360307, 5.25620339, 5.09100275, 4.34759907,\n",
      "       4.01719739, 3.76939643, 4.92580211]), array([2.53878709, 5.68792798, 4.19622979, 6.68239384, 8.25696449,\n",
      "       5.85367249, 5.19069525, 5.27356731, 5.1078232 , 4.3619739 ,\n",
      "       4.03048528, 3.78186912, 4.94207909]), array([2.54685741, 5.70591847, 4.20952125, 6.70351702, 8.28304775,\n",
      "       5.8721851 , 5.2071194 , 5.29025251, 5.12398629, 4.37578748,\n",
      "       4.04325463, 3.79385529, 4.95772006]), array([2.55461413, 5.72320549, 4.22229392, 6.72381359, 8.30810947,\n",
      "       5.8899737 , 5.22290163, 5.30628554, 5.13951772, 4.38906174,\n",
      "       4.0555257 , 3.80537397, 4.9727499 ]), array([2.56206953, 5.73981652, 4.23456807, 6.74331589, 8.33218958,\n",
      "       5.90706661, 5.23806704, 5.32169189, 5.15444219, 4.40181777,\n",
      "       4.06731798, 3.81644344, 4.9871925 ]), array([2.56923538, 5.75577801, 4.2463632 , 6.76205494, 8.35532646,\n",
      "       5.92349103, 5.25263974, 5.33649605, 5.16878343, 4.41407583,\n",
      "       4.07865018, 3.82708125, 5.0010708 ]), array([2.57612299, 5.77111533, 4.25769803, 6.7800606 , 8.37755697,\n",
      "       5.93927308, 5.2666429 , 5.35072157, 5.18256423, 4.42585538,\n",
      "       4.08954029, 3.83730427, 5.01440688]), array([2.58274325, 5.7858529 , 4.26859056, 6.79736153, 8.39891656,\n",
      "       5.95443788, 5.28009879, 5.36439108, 5.19580651, 4.43717514,\n",
      "       4.10000559, 3.84712874, 5.02722194]), array([2.58910661, 5.80001417, 4.27905808, 6.81398529, 8.41943927,\n",
      "       5.96900955, 5.29302881, 5.3775263 , 5.20853131, 4.44805307,\n",
      "       4.11006269, 3.85657022, 5.03953633]), array([2.59522311, 5.81362165, 4.28911721, 6.82995834, 8.43915781,\n",
      "       5.9830113 , 5.3054535 , 5.39014812, 5.22075888, 4.45850645,\n",
      "       4.11972755, 3.86564368, 5.05136963]), array([2.6011024 , 5.826697  , 4.2987839 , 6.84530614, 8.45810364,\n",
      "       5.99646539, 5.31739263, 5.40227662, 5.23250864, 4.46855189,\n",
      "       4.12901551, 3.87436352, 5.06274065]), array([2.60675376, 5.83926102, 4.3080735 , 6.86005311, 8.47630694,\n",
      "       6.00939324, 5.32886518, 5.41393109, 5.24379928, 4.47820531,\n",
      "       4.13794128, 3.88274357, 5.07366746]), array([2.61218609, 5.85133371, 4.31700075, 6.87422275, 8.49379676,\n",
      "       6.02181542, 5.33988939, 5.42513004, 5.25464874, 4.48748206,\n",
      "       4.14651904, 3.89079709, 5.08416743]), array([2.61740796, 5.86293426, 4.32557983, 6.88783763, 8.51060098,\n",
      "       6.03375169, 5.35048278, 5.4358913 , 5.26507427, 4.49639685,\n",
      "       4.1547624 , 3.89853686, 5.09425725]), array([2.6224276 , 5.87408115, 4.33382433, 6.90091943, 8.52674641,\n",
      "       6.04522106, 5.36066221, 5.44623196, 5.27509245, 4.50496384,\n",
      "       4.16268441, 3.90597515, 5.10395294]), array([2.6272529 , 5.88479209, 4.34174734, 6.913489  , 8.5422588 ,\n",
      "       6.05624178, 5.37044384, 5.45616848, 5.2847192 , 4.51319662,\n",
      "       4.17029765, 3.91312373, 5.11326992]), array([2.63189148, 5.89508415, 4.34936143, 6.92556636, 8.5571629 ,\n",
      "       6.06683139, 5.37984324, 5.46571666, 5.29396982, 4.52110826,\n",
      "       4.17761419, 3.91999394, 5.12222299]), array([2.63635062, 5.90497368, 4.35667867, 6.93717076, 8.57148249,\n",
      "       6.07700673, 5.38887534, 5.47489167, 5.30285902, 4.52871132,\n",
      "       4.18464562, 3.92659666, 5.13082638]), array([2.64063734, 5.91447643, 4.36371068, 6.94832068, 8.58524043,\n",
      "       6.08678401, 5.39755451, 5.4837081 , 5.31140093, 4.53601785,\n",
      "       4.1914031 , 3.93294234, 5.13909376]), array([2.64475839, 5.92360752, 4.37046859, 6.95903389, 8.59845866,\n",
      "       6.09617879, 5.40589454, 5.49217997, 5.31960912, 4.54303944,\n",
      "       4.19789732, 3.93904104, 5.14703826]), array([2.64872024, 5.93238148, 4.37696313, 6.96932746, 8.61115829,\n",
      "       6.10520602, 5.4139087 , 5.50032076, 5.32749663, 4.54978725,\n",
      "       4.20413859, 3.9449024 , 5.15467251]), array([2.65252911, 5.94081227, 4.38320458, 6.9792178 , 8.62335959,\n",
      "       6.11388006, 5.42160971, 5.5081434 , 5.33507601, 4.55627197,\n",
      "       4.21013679, 3.95053571, 5.16200863]), array([2.65619098, 5.9489133 , 4.38920286, 6.98872067, 8.63508204,\n",
      "       6.12221474, 5.42900982, 5.51566033, 5.34235931, 4.56250388,\n",
      "       4.21590142, 3.95594989, 5.16905829]), array([2.6597116 , 5.95669747, 4.39496745, 6.99785123, 8.64634437,\n",
      "       6.1302233 , 5.4361208 , 5.52288351, 5.34935809, 4.56849287,\n",
      "       4.22144162, 3.96115349, 5.17583267]), array([2.6630965 , 5.96417716, 4.40050751, 7.00662402, 8.65716456,\n",
      "       6.13791851, 5.44295395, 5.52982441, 5.35608348, 4.57424844,\n",
      "       4.22676616, 3.96615475, 5.18234254]), array([2.66635097, 5.97136428, 4.40583179, 7.01505303, 8.66755989,\n",
      "       6.14531262, 5.44952012, 5.53649408, 5.36254616, 4.57977971,\n",
      "       4.23188346, 3.97096159, 5.18859825]), array([2.66948012, 5.97827027, 4.41094875, 7.0231517 , 8.67754698,\n",
      "       6.15241738, 5.45582977, 5.54290311, 5.36875642, 4.58509545,\n",
      "       4.23680164, 3.97558159, 5.19460972]), array([2.67248885, 5.98490611, 4.41586649, 7.03093295, 8.68714179,\n",
      "       6.15924413, 5.4618929 , 5.5490617 , 5.3747241 , 4.59020408,\n",
      "       4.24152847, 3.98002208, 5.20038651]), array([2.67538185, 5.99128237, 4.42059278, 7.03840918, 8.69635964,\n",
      "       6.16580371, 5.46771918, 5.55497964, 5.38045871, 4.59511371,\n",
      "       4.24607144, 3.98429005, 5.20593779]), array([2.67816367, 5.99740919, 4.42513513, 7.04559232, 8.70521529,\n",
      "       6.17210659, 5.47331784, 5.56066633, 5.38596935, 4.59983211,\n",
      "       4.25043773, 3.98839226, 5.21127237]), array([2.68083864, 6.00329633, 4.42950071, 7.05249383, 8.71372288,\n",
      "       6.17816279, 5.47869779, 5.56613081, 5.39126477, 4.60436676,\n",
      "       4.25463426, 3.99233519, 5.21639873]), array([2.68341094, 6.00895316, 4.43369645, 7.05912471, 8.72189603,\n",
      "       6.18398196, 5.48386759, 5.57138178, 5.39635339, 4.60872483,\n",
      "       4.25866765, 3.99612507, 5.22132501]), array([2.68588458, 6.01438867, 4.43772897, 7.06549555, 8.72974781,\n",
      "       6.18957336, 5.48883544, 5.57642757, 5.4012433 , 4.61291324,\n",
      "       4.26254428, 3.99976787, 5.22605903]), array([2.68826343, 6.01961153, 4.44160466, 7.07161652, 8.73729078,\n",
      "       6.1949459 , 5.49360924, 5.58127622, 5.40594226, 4.61693862,\n",
      "       4.26627029, 4.00326935, 5.2306083 ]), array([2.69055118, 6.02463004, 4.44532966, 7.07749737, 8.74453701,\n",
      "       6.20010814, 5.49819658, 5.58593542, 5.41045774, 4.62080734,\n",
      "       4.26985156, 4.00663504, 5.23498006]), array([2.6927514 , 6.02945219, 4.44890984, 7.08314751, 8.75149812,\n",
      "       6.20506829, 5.50260474, 5.59041258, 5.4147969 , 4.62452552,\n",
      "       4.27329375, 4.00987023, 5.23918123]), array([2.69486751, 6.03408567, 4.45235088, 7.08857594, 8.75818523,\n",
      "       6.20983426, 5.50684074, 5.59471482, 5.41896665, 4.62809905,\n",
      "       4.27660229, 4.01298004, 5.24321848]), array([2.69690279, 6.03853784, 4.45565821, 7.09379134, 8.76460907,\n",
      "       6.21441363, 5.5109113 , 5.59884898, 5.42297361, 4.63153359,\n",
      "       4.27978242, 4.01596936, 5.24709823]), array([2.69886042, 6.04281579, 4.45883706, 7.09880203, 8.77077993,\n",
      "       6.21881371, 5.51482288, 5.60282163, 5.42682414, 4.63483456,\n",
      "       4.28283915, 4.0188429 , 5.25082664]), array([2.70074341, 6.04692634, 4.46189246, 7.10361602, 8.7767077 ,\n",
      "       6.2230415 , 5.51858172, 5.60663908, 5.43052435, 4.63800719,\n",
      "       4.2857773 , 4.0216052 , 5.25440961]), array([2.7025547 , 6.05087603, 4.46482922, 7.108241  , 8.78240187,\n",
      "       6.22710374, 5.52219376, 5.6103074 , 5.43408012, 4.6410565 ,\n",
      "       4.28860151, 4.02426059, 5.25785284]), array([2.70429708, 6.05467115, 4.46765199, 7.11268435, 8.78787159,\n",
      "       6.23100689, 5.52566476, 5.61383242, 5.4374971 , 4.64398731,\n",
      "       4.29131624, 4.02681326, 5.26116178]), array([2.70597325, 6.05831774, 4.47036522, 7.11695317, 8.79312563,\n",
      "       6.23475719, 5.52900023, 5.61721975, 5.44078072, 4.64680425,\n",
      "       4.29392577, 4.02926723, 5.26434169]), array([2.70758579, 6.06182161, 4.4729732 , 7.1210543 , 8.79817242,\n",
      "       6.2383606 , 5.53220547, 5.62047476, 5.44393618, 4.64951177,\n",
      "       4.2964342 , 4.03162635, 5.26739761]), array([2.7091372 , 6.06518833, 4.47548003, 7.12499428, 8.80302006,\n",
      "       6.24182287, 5.53528556, 5.62360262, 5.44696851, 4.65211415,\n",
      "       4.2988455 , 4.03389432, 5.27033439]), array([2.71062986, 6.06842327, 4.47788968, 7.12877942, 8.80767633,\n",
      "       6.24514951, 5.53824541, 5.62660832, 5.4498825 , 4.6546155 ,\n",
      "       4.30116345, 4.03607473, 5.27315669]), array([2.71206607, 6.07153158, 4.48020595, 7.13241576, 8.81214873,\n",
      "       6.24834582, 5.5410897 , 5.62949661, 5.45268279, 4.65701977,\n",
      "       4.30339171, 4.03817098, 5.27586898]), array([2.71344803, 6.07451821, 4.48243247, 7.13590913, 8.81644443,\n",
      "       6.25141691, 5.54382297, 5.6322721 , 5.45537383, 4.65933075,\n",
      "       4.30553378, 4.04018636, 5.27847556]), array([2.71477788, 6.07738792, 4.48457277, 7.13926511, 8.82057035,\n",
      "       6.25436767, 5.54644954, 5.6349392 , 5.45795988, 4.66155209,\n",
      "       4.30759303, 4.04212405, 5.28098056]), array([2.71605763, 6.08014528, 4.48663021, 7.14248908, 8.82453312,\n",
      "       6.25720279, 5.54897359, 5.63750214, 5.46044505, 4.6636873 ,\n",
      "       4.3095727 , 4.04398707, 5.28338796]), array([2.71728926, 6.08279468, 4.48860804, 7.1455862 , 8.82833912,\n",
      "       6.25992681, 5.55139913, 5.63996499, 5.46283328, 4.66573975,\n",
      "       4.31147591, 4.04577834, 5.28570157]), array([2.71847464, 6.08534034, 4.49050935, 7.14856142, 8.83199448,\n",
      "       6.26254407, 5.55373001, 5.64233166, 5.46512836, 4.66771266,\n",
      "       4.31330563, 4.04750068, 5.28792506]), array([2.71961559, 6.08778632, 4.49233716, 7.15141951, 8.83550509,\n",
      "       6.26505873, 5.55596993, 5.64460593, 5.46733394, 4.66960915,\n",
      "       4.31506475, 4.04915676, 5.29006195]), array([2.72071383, 6.09013651, 4.49409432, 7.15416506, 8.83887661,\n",
      "       6.26747481, 5.55812245, 5.64679139, 5.46945351, 4.6714322 ,\n",
      "       4.31675602, 4.0507492 , 5.29211563]), array([2.72177103, 6.09239466, 4.4957836 , 7.15680245, 8.84211447,\n",
      "       6.26979617, 5.56019097, 5.64889152, 5.47149043, 4.67318469,\n",
      "       4.31838209, 4.05228046, 5.29408934]), array([2.72278882, 6.09456436, 4.49740766, 7.15933592, 8.84522391,\n",
      "       6.2720265 , 5.5621788 , 5.65090965, 5.47344794, 4.67486937,\n",
      "       4.31994552, 4.05375295, 5.29598622]), array([2.72376871, 6.09664908, 4.49896904, 7.16176954, 8.84820994,\n",
      "       6.27416937, 5.56408907, 5.652849  , 5.47532914, 4.6764889 ,\n",
      "       4.32144875, 4.05516896, 5.29780927]), array([2.72471219, 6.09865214, 4.50047019, 7.16410719, 8.85107738,\n",
      "       6.27622819, 5.56592483, 5.65471264, 5.47713701, 4.67804583,\n",
      "       4.32289414, 4.05653069, 5.29956138]), array([2.7256207 , 6.10057673, 4.50191348, 7.16635265, 8.85383087,\n",
      "       6.27820626, 5.56768898, 5.65650353, 5.47887442, 4.67954259,\n",
      "       4.32428395, 4.05784028, 5.30124531]), array([2.72649559, 6.10242591, 4.50330115, 7.1685095 , 8.85647488,\n",
      "       6.28010672, 5.56938432, 5.65822452, 5.48054413, 4.68098154,\n",
      "       4.32562034, 4.05909976, 5.30286374]), array([2.72733817, 6.10420264, 4.50463539, 7.17058122, 8.85901366,\n",
      "       6.28193261, 5.57101356, 5.65987833, 5.48214878, 4.68236495,\n",
      "       4.32690542, 4.06031109, 5.30441923]), array([2.72814972, 6.10590974, 4.50591829, 7.17257113, 8.86145136,\n",
      "       6.28368685, 5.57257926, 5.6614676 , 5.48369091, 4.68369497,\n",
      "       4.32814118, 4.06147615, 5.30591423]), array([2.72893144, 6.10754994, 4.50715184, 7.17448244, 8.8637919 ,\n",
      "       6.28537224, 5.57408391, 5.66299484, 5.48517297, 4.68497371,\n",
      "       4.32932955, 4.06259674, 5.30735111]), array([2.72968451, 6.10912586, 4.50833799, 7.1763182 , 8.86603909,\n",
      "       6.28699146, 5.5755299 , 5.66446249, 5.48659731, 4.68620316,\n",
      "       4.33047238, 4.06367462, 5.30873214]), array([2.73041003, 6.11064001, 4.50947857, 7.17808139, 8.86819659,\n",
      "       6.28854712, 5.57691953, 5.66587287, 5.48796619, 4.68738526,\n",
      "       4.33157146, 4.06471144, 5.3100595 ]), array([2.73110909, 6.1120948 , 4.51057538, 7.17977483, 8.87026789,\n",
      "       6.29004168, 5.57825499, 5.66722822, 5.48928176, 4.68852185,\n",
      "       4.3326285 , 4.06570881, 5.3113353 ]), array([2.73178272, 6.11349255, 4.51163013, 7.18140125, 8.87225638,\n",
      "       6.29147754, 5.57953841, 5.6685307 , 5.49054612, 4.6896147 ,\n",
      "       4.33364514, 4.06666828, 5.31256155]), array([2.73243192, 6.11483549, 4.51264446, 7.18296327, 8.87416527,\n",
      "       6.292857  , 5.58077182, 5.66978236, 5.49176127, 4.69066554,\n",
      "       4.33462295, 4.06759132, 5.31374019]), array([2.73305764, 6.11612577, 4.51361995, 7.18446341, 8.87599769,\n",
      "       6.29418226, 5.58195716, 5.67098519, 5.49292913, 4.69167601,\n",
      "       4.33556346, 4.06847937, 5.31487307]), array([2.73366079, 6.11736545, 4.51455811, 7.18590409, 8.87775663,\n",
      "       6.29545543, 5.58309634, 5.67214112, 5.49405155, 4.69264767,\n",
      "       4.33646813, 4.06933378, 5.31596199]), array([2.73424227, 6.11855649, 4.51546041, 7.18728764, 8.87944496,\n",
      "       6.29667856, 5.58419113, 5.67325196, 5.49513031, 4.69358206,\n",
      "       4.33733835, 4.07015588, 5.31700867]), array([2.73480291, 6.11970081, 4.51632826, 7.18861628, 8.88106544,\n",
      "       6.2978536 , 5.5852433 , 5.67431948, 5.49616711, 4.69448062,\n",
      "       4.33817547, 4.07094692, 5.31801475]), array([2.73534354, 6.12080023, 4.51716298, 7.18989216, 8.88262072,\n",
      "       6.29898243, 5.58625449, 5.67534537, 5.4971636 , 4.69534476,\n",
      "       4.33898079, 4.07170812, 5.31898182]), array([2.73586492, 6.12185651, 4.51796589, 7.19111735, 8.88411335,\n",
      "       6.30006686, 5.58722631, 5.67633127, 5.49812134, 4.69617582,\n",
      "       4.33975554, 4.07244065, 5.31991142]), array([2.73636783, 6.12287133, 4.51873823, 7.19229382, 8.88554579,\n",
      "       6.30110863, 5.5881603 , 5.67727873, 5.49904186, 4.6969751 ,\n",
      "       4.34050093, 4.07314563, 5.32080499]), array([2.73685297, 6.12384631, 4.51948118, 7.19342349, 8.88692037,\n",
      "       6.30210939, 5.58905794, 5.67818926, 5.49992661, 4.69774383,\n",
      "       4.34121811, 4.07382413, 5.32166396]), array([2.73732105, 6.12478302, 4.5201959 , 7.19450818, 8.88823938,\n",
      "       6.30307076, 5.58992065, 5.6790643 , 5.50077699, 4.69848322,\n",
      "       4.34190816, 4.07447719, 5.32248967]), array([2.73777273, 6.12568294, 4.5208835 , 7.19554965, 8.88950497,\n",
      "       6.30399427, 5.59074979, 5.67990524, 5.50159434, 4.69919441,\n",
      "       4.34257217, 4.07510581, 5.32328343]), array([2.73820865, 6.12654751, 4.52154503, 7.19654959, 8.89071924,\n",
      "       6.3048814 , 5.59154668, 5.68071342, 5.50237995, 4.69987849,\n",
      "       4.34321113, 4.07571093, 5.32404648]), array([2.73862942, 6.12737812, 4.5221815 , 7.19750963, 8.89188419,\n",
      "       6.30573359, 5.59231258, 5.6814901 , 5.50313506, 4.70053654,\n",
      "       4.34382604, 4.07629348, 5.32478003]), array([2.73903565, 6.1281761 , 4.52279391, 7.19843131, 8.89300175,\n",
      "       6.30655218, 5.5930487 , 5.68223653, 5.50386088, 4.70116957,\n",
      "       4.34441783, 4.07685435, 5.32548522]), array([2.73942789, 6.12894272, 4.52338319, 7.19931616, 8.89407378,\n",
      "       6.3073385 , 5.59375621, 5.68295389, 5.50455853, 4.70177856,\n",
      "       4.34498741, 4.07739437, 5.32616317]), array([2.73980669, 6.1296792 , 4.52395025, 7.20016559, 8.89510206,\n",
      "       6.30809381, 5.59443622, 5.68364331, 5.50522912, 4.70236444,\n",
      "       4.34553564, 4.07791436, 5.32681494]), array([2.74017259, 6.13038673, 4.52449595, 7.200981  , 8.89608828,\n",
      "       6.30881932, 5.5950898 , 5.68430589, 5.50587372, 4.70292812,\n",
      "       4.34606336, 4.07841511, 5.32744155]), array([2.74052607, 6.13106643, 4.52502113, 7.20176372, 8.89703411,\n",
      "       6.30951619, 5.595718  , 5.68494267, 5.50649333, 4.70347047,\n",
      "       4.34657137, 4.07889737, 5.328044  ]), array([2.74086764, 6.1317194 , 4.5255266 , 7.20251503, 8.89794112,\n",
      "       6.31018555, 5.5963218 , 5.68555466, 5.50708894, 4.70399232,\n",
      "       4.34706044, 4.07936186, 5.32862321]), array([2.74119775, 6.13234668, 4.52601311, 7.20323615, 8.89881082,\n",
      "       6.31082847, 5.59690215, 5.68614284, 5.50766147, 4.70449448,\n",
      "       4.34753132, 4.07980927, 5.32918011]), array([2.74151686, 6.13294927, 4.52648142, 7.20392826, 8.89964468,\n",
      "       6.31144598, 5.59745998, 5.68670813, 5.50821184, 4.7049777 ,\n",
      "       4.34798471, 4.08024028, 5.32971556]), array([2.74182538, 6.13352814, 4.52693223, 7.2045925 , 8.90044409,\n",
      "       6.31203908, 5.59799617, 5.68725143, 5.50874091, 4.70544274,\n",
      "       4.34842129, 4.08065552, 5.3302304 ]), array([2.74212374, 6.13408421, 4.52736623, 7.20522996, 8.90121041,\n",
      "       6.31260872, 5.59851155, 5.68777359, 5.50924951, 4.70589031,\n",
      "       4.34884173, 4.08105561, 5.33072544]), array([2.74241234, 6.13461839, 4.52778408, 7.20584169, 8.90194492,\n",
      "       6.31315582, 5.59900695, 5.68827545, 5.50973845, 4.70632108,\n",
      "       4.34924665, 4.08144114, 5.33120145]), array([2.74269155, 6.13513151, 4.5281864 , 7.20642868, 8.90264888,\n",
      "       6.31368126, 5.59948314, 5.6887578 , 5.51020849, 4.70673572,\n",
      "       4.34963666, 4.08181269, 5.33165917]), array([2.74296174, 6.13562442, 4.52857381, 7.20699192, 8.90332347,\n",
      "       6.31418588, 5.59994088, 5.6892214 , 5.51066036, 4.70713485,\n",
      "       4.35001235, 4.08217079, 5.33209933]), array([2.74322326, 6.13609789, 4.52894688, 7.20753232, 8.90396984,\n",
      "       6.31467051, 5.60038089, 5.68966698, 5.51109479, 4.70751908,\n",
      "       4.35037427, 4.08251598, 5.3325226 ]), array([2.74347646, 6.13655269, 4.52930619, 7.20805078, 8.9045891 ,\n",
      "       6.31513591, 5.60080385, 5.69009525, 5.51151245, 4.70788899,\n",
      "       4.35072296, 4.08284875, 5.33292965]), array([2.74372166, 6.13698954, 4.52965225, 7.20854815, 8.90518231,\n",
      "       6.31558285, 5.60121044, 5.69050689, 5.511914  , 4.70824514,\n",
      "       4.35105894, 4.0831696 , 5.33332111]), array([2.74395916, 6.13740915, 4.52998561, 7.20902527, 8.90575048,\n",
      "       6.31601205, 5.6016013 , 5.69090254, 5.51230007, 4.70858808,\n",
      "       4.35138271, 4.08347899, 5.33369759]), array([2.74418928, 6.13781219, 4.53030674, 7.20948293, 8.9062946 ,\n",
      "       6.3164242 , 5.60197704, 5.69128283, 5.51267125, 4.70891831,\n",
      "       4.35169474, 4.08377737, 5.33405968]), array([2.7444123 , 6.13819932, 4.53061613, 7.20992187, 8.9068156 ,\n",
      "       6.31681996, 5.60233826, 5.69164836, 5.51302815, 4.70923634,\n",
      "       4.35199549, 4.08406517, 5.33440794]), array([2.74462849, 6.13857115, 4.53091423, 7.21034285, 8.90731439,\n",
      "       6.31719997, 5.60268551, 5.69199971, 5.51337131, 4.70954264,\n",
      "       4.3522854 , 4.0843428 , 5.3347429 ]), array([2.74483813, 6.13892827, 4.5312015 , 7.21074655, 8.90779183,\n",
      "       6.31756486, 5.60301935, 5.69233743, 5.51370126, 4.70983766,\n",
      "       4.3525649 , 4.08461065, 5.3350651 ]), array([2.74504147, 6.13927127, 4.53147834, 7.21113365, 8.90824877,\n",
      "       6.31791522, 5.6033403 , 5.69266205, 5.51401854, 4.71012186,\n",
      "       4.3528344 , 4.08486912, 5.33537502]), array([2.74523875, 6.1396007 , 4.53174518, 7.21150481, 8.908686  ,\n",
      "       6.3182516 , 5.60364886, 5.6929741 , 5.51432362, 4.71039565,\n",
      "       4.35309428, 4.08511857, 5.33567315]), array([2.74543022, 6.13991709, 4.53200239, 7.21186065, 8.9091043 ,\n",
      "       6.31857456, 5.60394552, 5.69327405, 5.514617  , 4.71065944,\n",
      "       4.35334492, 4.08535935, 5.33595995]), array([2.7456161 , 6.14022094, 4.53225036, 7.21220176, 8.9095044 ,\n",
      "       6.31888463, 5.60423075, 5.69356238, 5.51489912, 4.71091362,\n",
      "       4.35358668, 4.0855918 , 5.33623587]), array([2.7457966 , 6.14051276, 4.53248945, 7.21252872, 8.90988701,\n",
      "       6.3191823 , 5.60450499, 5.69383954, 5.51517043, 4.71115856,\n",
      "       4.35381991, 4.08581624, 5.33650132]), array([2.74597195, 6.140793  , 4.53272   , 7.21284209, 8.91025283,\n",
      "       6.31946806, 5.60476867, 5.69410598, 5.51543135, 4.71139464,\n",
      "       4.35404494, 4.08603299, 5.33675671]), array([2.74614233, 6.14106212, 4.53294235, 7.21314239, 8.9106025 ,\n",
      "       6.31974238, 5.6050222 , 5.69436211, 5.51568228, 4.71162219,\n",
      "       4.3542621 , 4.08624235, 5.33700245]), array([2.74630795, 6.14132056, 4.53315682, 7.21343014, 8.91093665,\n",
      "       6.3200057 , 5.60526598, 5.69460834, 5.51592362, 4.71184154,\n",
      "       4.35447168, 4.08644461, 5.3372389 ]), array([2.74646899, 6.14156873, 4.53336372, 7.21370582, 8.91125591,\n",
      "       6.32025846, 5.60550039, 5.69484504, 5.51615574, 4.71205303,\n",
      "       4.35467399, 4.08664004, 5.33746644]), array([2.74662562, 6.14180703, 4.53356334, 7.21396992, 8.91156084,\n",
      "       6.32050106, 5.6057258 , 5.6950726 , 5.516379  , 4.71225694,\n",
      "       4.35486931, 4.08682891, 5.3376854 ]), array([2.74677803, 6.14203586, 4.53375597, 7.21422288, 8.911852  ,\n",
      "       6.32073391, 5.60594256, 5.69529137, 5.51659375, 4.71245359,\n",
      "       4.35505792, 4.08701149, 5.33789613]), array([2.74692638, 6.14225557, 4.53394188, 7.21446513, 8.91212994,\n",
      "       6.32095738, 5.60615101, 5.6955017 , 5.51680032, 4.71264326,\n",
      "       4.35524007, 4.087188  , 5.33809894]), array([2.74707081, 6.14246654, 4.53412133, 7.2146971 , 8.91239518,\n",
      "       6.32117185, 5.60635147, 5.69570391, 5.51699903, 4.71282621,\n",
      "       4.35541602, 4.0873587 , 5.33829415]), array([2.7472115 , 6.14266909, 4.53429458, 7.21491919, 8.9126482 ,\n",
      "       6.32137765, 5.60654425, 5.69589832, 5.51719018, 4.71300271,\n",
      "       4.35558601, 4.08752381, 5.33848205]), array([2.74734858, 6.14286356, 4.53446186, 7.21513179, 8.91288949,\n",
      "       6.32157515, 5.60672966, 5.69608524, 5.51737408, 4.71317302,\n",
      "       4.35575028, 4.08768354, 5.33866293]), array([2.74748219, 6.14305027, 4.53462342, 7.21533526, 8.91311951,\n",
      "       6.32176464, 5.60690798, 5.69626496, 5.51755101, 4.71333737,\n",
      "       4.35590904, 4.08783811, 5.33883706]), array([2.74761248, 6.14322951, 4.53477947, 7.21552996, 8.91333869,\n",
      "       6.32194646, 5.6070795 , 5.69643776, 5.51772123, 4.713496  ,\n",
      "       4.35606252, 4.08798772, 5.3390047 ]), array([2.74773956, 6.14340158, 4.53493023, 7.21571624, 8.91354746,\n",
      "       6.3221209 , 5.60724447, 5.69660391, 5.51788502, 4.71364913,\n",
      "       4.35621091, 4.08813257, 5.33916612]), array([2.74786357, 6.14356676, 4.53507591, 7.21589442, 8.91374623,\n",
      "       6.32228825, 5.60740315, 5.69676368, 5.51804261, 4.71379698,\n",
      "       4.35635442, 4.08827283, 5.33932155]), array([2.74798463, 6.14372532, 4.53521671, 7.21606483, 8.91393539,\n",
      "       6.32244879, 5.60755578, 5.6969173 , 5.51819427, 4.71393974,\n",
      "       4.35649324, 4.08840869, 5.33947123]), array([2.74810284, 6.14387752, 4.53535281, 7.21622776, 8.91411531,\n",
      "       6.32260277, 5.60770262, 5.69706503, 5.5183402 , 4.71407763,\n",
      "       4.35662756, 4.08854032, 5.33961538]), array([2.74821833, 6.14402361, 4.5354844 , 7.21638351, 8.91428636,\n",
      "       6.32275047, 5.60784387, 5.69720709, 5.51848065, 4.71421084,\n",
      "       4.35675754, 4.08866788, 5.33975422]), array([2.74833119, 6.14416382, 4.53561166, 7.21653235, 8.91444888,\n",
      "       6.32289212, 5.60797976, 5.6973437 , 5.51861583, 4.71433953,\n",
      "       4.35688335, 4.08879154, 5.33988795]), array([2.74844154, 6.14429838, 4.53573475, 7.21667457, 8.91460321,\n",
      "       6.32302796, 5.60811051, 5.69747508, 5.51874593, 4.7144639 ,\n",
      "       4.35700517, 4.08891145, 5.34001678]), array([2.74854946, 6.14442753, 4.53585384, 7.21681041, 8.91474966,\n",
      "       6.32315822, 5.6082363 , 5.69760143, 5.51887116, 4.71458411,\n",
      "       4.35712315, 4.08902775, 5.3401409 ]), array([2.74865506, 6.14455146, 4.53596909, 7.21694013, 8.91488854,\n",
      "       6.32328312, 5.60835733, 5.69772295, 5.51899172, 4.71470032,\n",
      "       4.35723743, 4.08914058, 5.34026049]), array([2.74875842, 6.14467038, 4.53608064, 7.21706397, 8.91502016,\n",
      "       6.32340286, 5.6084738 , 5.69783982, 5.51910777, 4.71481269,\n",
      "       4.35734816, 4.08925008, 5.34037572]), array([2.74885963, 6.14478449, 4.53618864, 7.21718215, 8.91514479,\n",
      "       6.32351765, 5.60858587, 5.69795224, 5.51921951, 4.71492137,\n",
      "       4.35745548, 4.08935639, 5.34048678]), array([2.74895878, 6.14489398, 4.53629323, 7.2172949 , 8.91526271,\n",
      "       6.32362768, 5.60869373, 5.69806036, 5.51932709, 4.7150265 ,\n",
      "       4.35755953, 4.08945961, 5.34059381]), array([2.74905594, 6.14499902, 4.53639454, 7.21740243, 8.91537418,\n",
      "       6.32373313, 5.60879752, 5.69816437, 5.51943068, 4.71512823,\n",
      "       4.35766042, 4.08955989, 5.34069699]), array([2.7491512 , 6.14509979, 4.5364927 , 7.21750495, 8.91547946,\n",
      "       6.3238342 , 5.60889743, 5.69826442, 5.51953044, 4.71522668,\n",
      "       4.35775829, 4.08965732, 5.34079646]), array([2.74924462, 6.14519646, 4.53658783, 7.21760264, 8.91557877,\n",
      "       6.32393104, 5.60899358, 5.69836066, 5.51962651, 4.71532198,\n",
      "       4.35785325, 4.08975203, 5.34089236]), array([2.74933628, 6.14528919, 4.53668005, 7.2176957 , 8.91567237,\n",
      "       6.32402382, 5.60908614, 5.69845325, 5.51971904, 4.71541426,\n",
      "       4.35794542, 4.08984411, 5.34098483]), array([2.74942625, 6.14537813, 4.53676948, 7.21778432, 8.91576047,\n",
      "       6.3241127 , 5.60917524, 5.69854232, 5.51980817, 4.71550363,\n",
      "       4.3580349 , 4.08993367, 5.34107402]), array([2.7495146 , 6.14546343, 4.53685622, 7.21786865, 8.91584328,\n",
      "       6.32419784, 5.60926102, 5.69862802, 5.51989403, 4.71559021,\n",
      "       4.3581218 , 4.09002082, 5.34116004]), array([2.74960138, 6.14554523, 4.53694038, 7.21794888, 8.91592102,\n",
      "       6.32427938, 5.60934361, 5.69871048, 5.51997675, 4.71567411,\n",
      "       4.35820623, 4.09010563, 5.34124302]), array([2.74968666, 6.14562367, 4.53702206, 7.21802516, 8.91599388,\n",
      "       6.32435746, 5.60942313, 5.69878982, 5.52005645, 4.71575543,\n",
      "       4.35828827, 4.09018821, 5.34132308]), array([2.7497705 , 6.14569888, 4.53710136, 7.21809765, 8.91606205,\n",
      "       6.32443222, 5.60949971, 5.69886616, 5.52013325, 4.71583427,\n",
      "       4.35836802, 4.09026864, 5.34140033]), array([2.74985295, 6.14577098, 4.53717836, 7.21816649, 8.91612572,\n",
      "       6.32450378, 5.60957345, 5.69893963, 5.52020726, 4.71591074,\n",
      "       4.35844557, 4.09034701, 5.34147489]), array([2.74993406, 6.14584011, 4.53725317, 7.21823183, 8.91618506,\n",
      "       6.32457228, 5.60964446, 5.69901033, 5.52027859, 4.71598491,\n",
      "       4.358521  , 4.09042339, 5.34154685]), array([2.7500139 , 6.14590637, 4.53732586, 7.2182938 , 8.91624025,\n",
      "       6.32463782, 5.60971287, 5.69907838, 5.52034735, 4.71605689,\n",
      "       4.35859441, 4.09049787, 5.34161633]), array([2.75009251, 6.14596988, 4.53739652, 7.21835254, 8.91629144,\n",
      "       6.32470053, 5.60977876, 5.69914387, 5.52041364, 4.71612675,\n",
      "       4.35866586, 4.09057052, 5.34168341]), array([2.75016993, 6.14603074, 4.53746523, 7.21840817, 8.91633879,\n",
      "       6.32476052, 5.60984223, 5.69920691, 5.52047755, 4.71619459,\n",
      "       4.35873544, 4.0906414 , 5.34174819]), array([2.75024622, 6.14608905, 4.53753205, 7.21846081, 8.91638245,\n",
      "       6.32481789, 5.60990339, 5.69926759, 5.52053918, 4.71626047,\n",
      "       4.35880322, 4.0907106 , 5.34181077]), array([2.75032141, 6.14614493, 4.53759708, 7.21851059, 8.91642256,\n",
      "       6.32487275, 5.60996231, 5.69932601, 5.52059861, 4.71632448,\n",
      "       4.35886926, 4.09077816, 5.34187122]), array([2.75039555, 6.14619846, 4.53766037, 7.2185576 , 8.91645927,\n",
      "       6.32492519, 5.6100191 , 5.69938225, 5.52065594, 4.71638669,\n",
      "       4.35893364, 4.09084417, 5.34192963]), array([2.75046869, 6.14624973, 4.537722  , 7.21860197, 8.91649271,\n",
      "       6.32497532, 5.61007382, 5.6994364 , 5.52071124, 4.71644716,\n",
      "       4.35899641, 4.09090867, 5.34198608]), array([2.75054085, 6.14629883, 4.53778203, 7.2186438 , 8.916523  ,\n",
      "       6.32502321, 5.61012657, 5.69948854, 5.52076459, 4.71650598,\n",
      "       4.35905766, 4.09097174, 5.34204065]), array([2.75061209, 6.14634586, 4.53784052, 7.21868317, 8.91655027,\n",
      "       6.32506895, 5.61017741, 5.69953875, 5.52081607, 4.71656319,\n",
      "       4.35911742, 4.09103341, 5.3420934 ]), array([2.75068242, 6.14639088, 4.53789753, 7.2187202 , 8.91657464,\n",
      "       6.32511264, 5.61022643, 5.6995871 , 5.52086576, 4.71661887,\n",
      "       4.35917577, 4.09109376, 5.34214442]), array([2.7507519 , 6.14643397, 4.53795313, 7.21875496, 8.91659621,\n",
      "       6.32515435, 5.61027369, 5.69963367, 5.52091372, 4.71667308,\n",
      "       4.35923275, 4.09115282, 5.34219376]), array([2.75082055, 6.14647522, 4.53800735, 7.21878756, 8.91661511,\n",
      "       6.32519416, 5.61031927, 5.69967852, 5.52096001, 4.71672587,\n",
      "       4.35928842, 4.09121065, 5.3422415 ]), array([2.75088841, 6.1465147 , 4.53806027, 7.21881807, 8.91663143,\n",
      "       6.32523214, 5.61036322, 5.69972173, 5.52100471, 4.71677729,\n",
      "       4.35934283, 4.09126731, 5.3422877 ]), array([2.7509555 , 6.14655247, 4.53811193, 7.21884658, 8.91664528,\n",
      "       6.32526836, 5.61040562, 5.69976336, 5.52104788, 4.7168274 ,\n",
      "       4.35939603, 4.09132282, 5.34233241]), array([2.75102185, 6.14658859, 4.53816238, 7.21887316, 8.91665675,\n",
      "       6.3253029 , 5.61044652, 5.69980346, 5.52108958, 4.71687626,\n",
      "       4.35944807, 4.09137725, 5.3423757 ]), array([2.7510875 , 6.14662315, 4.53821166, 7.2188979 , 8.91666593,\n",
      "       6.32533582, 5.61048599, 5.69984211, 5.52112986, 4.71692391,\n",
      "       4.35949899, 4.09143062, 5.34241762]), array([2.75115248, 6.14665619, 4.53825983, 7.21892085, 8.91667292,\n",
      "       6.32536718, 5.61052407, 5.69987935, 5.52116878, 4.71697039,\n",
      "       4.35954884, 4.09148299, 5.34245822]), array([2.7512168 , 6.14668777, 4.53830692, 7.2189421 , 8.9166778 ,\n",
      "       6.32539704, 5.61056082, 5.69991524, 5.5212064 , 4.71701576,\n",
      "       4.35959765, 4.09153439, 5.34249756]), array([2.75128049, 6.14671796, 4.53835298, 7.21896171, 8.91668066,\n",
      "       6.32542546, 5.6105963 , 5.69994984, 5.52124276, 4.71706006,\n",
      "       4.35964547, 4.09158485, 5.34253568]), array([2.75134358, 6.1467468 , 4.53839804, 7.21897974, 8.91668156,\n",
      "       6.32545251, 5.61063055, 5.69998319, 5.52127791, 4.71710332,\n",
      "       4.35969234, 4.09163443, 5.34257264]), array([2.75140609, 6.14677436, 4.53844216, 7.21899625, 8.9166806 ,\n",
      "       6.32547822, 5.61066362, 5.70001534, 5.52131191, 4.71714559,\n",
      "       4.3597383 , 4.09168314, 5.34260847]), array([2.75146805, 6.14680067, 4.53848535, 7.21901131, 8.91667783,\n",
      "       6.32550266, 5.61069557, 5.70004635, 5.52134479, 4.71718691,\n",
      "       4.35978337, 4.09173103, 5.34264323]), array([2.75152947, 6.14682579, 4.53852767, 7.21902497, 8.91667334,\n",
      "       6.32552587, 5.61072642, 5.70007624, 5.52137659, 4.71722732,\n",
      "       4.3598276 , 4.09177812, 5.34267695]), array([2.75159038, 6.14684977, 4.53856914, 7.21903728, 8.91666719,\n",
      "       6.3255479 , 5.61075623, 5.70010508, 5.52140737, 4.71726685,\n",
      "       4.35987101, 4.09182445, 5.34270967]), array([2.7516508 , 6.14687265, 4.5386098 , 7.2190483 , 8.91665944,\n",
      "       6.3255688 , 5.61078503, 5.7001329 , 5.52143717, 4.71730553,\n",
      "       4.35991364, 4.09187005, 5.34274144]), array([2.75171074, 6.14689447, 4.53864968, 7.21905809, 8.91665017,\n",
      "       6.32558862, 5.61081287, 5.70015973, 5.52146601, 4.7173434 ,\n",
      "       4.35995553, 4.09191494, 5.34277229]), array([2.75177022, 6.14691527, 4.5386888 , 7.21906668, 8.91663942,\n",
      "       6.32560738, 5.61083978, 5.70018563, 5.52149394, 4.71738049,\n",
      "       4.35999669, 4.09195916, 5.34280225]), array([2.75182926, 6.1469351 , 4.53872721, 7.21907412, 8.91662725,\n",
      "       6.32562515, 5.6108658 , 5.70021061, 5.52152099, 4.71741683,\n",
      "       4.36003716, 4.09200272, 5.34283137]), array([2.75188789, 6.14695399, 4.53876492, 7.21908046, 8.91661373,\n",
      "       6.32564195, 5.61089097, 5.70023473, 5.5215472 , 4.71745245,\n",
      "       4.36007696, 4.09204566, 5.34285967]), array([2.7519461 , 6.14697198, 4.53880196, 7.21908575, 8.9165989 ,\n",
      "       6.32565782, 5.61091531, 5.70025801, 5.5215726 , 4.71748738,\n",
      "       4.36011612, 4.092088  , 5.34288718]), array([2.75200393, 6.1469891 , 4.53883837, 7.21909002, 8.91658281,\n",
      "       6.3256728 , 5.61093886, 5.70028049, 5.52159722, 4.71752164,\n",
      "       4.36015467, 4.09212976, 5.34291395]), array([2.75206139, 6.14700539, 4.53887416, 7.21909331, 8.91656552,\n",
      "       6.32568692, 5.61096165, 5.7003022 , 5.52162109, 4.71755526,\n",
      "       4.36019262, 4.09217096, 5.34293999]), array([2.75211848, 6.14702088, 4.53890935, 7.21909566, 8.91654707,\n",
      "       6.32570022, 5.61098371, 5.70032316, 5.52164425, 4.71758827,\n",
      "       4.36023001, 4.09221163, 5.34296533]), array([2.75217523, 6.1470356 , 4.53894398, 7.21909711, 8.91652751,\n",
      "       6.32571273, 5.61100506, 5.70034342, 5.52166671, 4.71762069,\n",
      "       4.36026685, 4.09225179, 5.34299001]), array([2.75223164, 6.14704959, 4.53897807, 7.2190977 , 8.91650688,\n",
      "       6.32572449, 5.61102575, 5.70036298, 5.52168851, 4.71765254,\n",
      "       4.36030317, 4.09229146, 5.34301404]), array([2.75228774, 6.14706286, 4.53901162, 7.21909745, 8.91648522,\n",
      "       6.32573551, 5.61104578, 5.70038189, 5.52170967, 4.71768384,\n",
      "       4.36033898, 4.09233065, 5.34303746]), array([2.75234353, 6.14707546, 4.53904468, 7.2190964 , 8.91646258,\n",
      "       6.32574583, 5.6110652 , 5.70040017, 5.52173022, 4.71771462,\n",
      "       4.36037431, 4.09236939, 5.34306028]), array([2.75239902, 6.14708739, 4.53907725, 7.21909459, 8.91643899,\n",
      "       6.32575547, 5.61108401, 5.70041784, 5.52175019, 4.7177449 ,\n",
      "       4.36040917, 4.09240769, 5.34308253]), array([2.75245423, 6.1470987 , 4.53910935, 7.21909203, 8.91641448,\n",
      "       6.32576447, 5.61110225, 5.70043492, 5.52176958, 4.71777469,\n",
      "       4.36044358, 4.09244557, 5.34310424]), array([2.75250917, 6.14710941, 4.53914101, 7.21908877, 8.9163891 ,\n",
      "       6.32577285, 5.61111994, 5.70045145, 5.52178843, 4.71780402,\n",
      "       4.36047757, 4.09248305, 5.34312542]), array([2.75256384, 6.14711953, 4.53917223, 7.21908482, 8.91636288,\n",
      "       6.32578063, 5.6111371 , 5.70046743, 5.52180676, 4.7178329 ,\n",
      "       4.36051114, 4.09252013, 5.34314609]), array([2.75261826, 6.14712909, 4.53920304, 7.21908022, 8.91633585,\n",
      "       6.32578783, 5.61115375, 5.7004829 , 5.52182459, 4.71786135,\n",
      "       4.36054431, 4.09255685, 5.34316628]), array([2.75267244, 6.14713812, 4.53923346, 7.21907499, 8.91630805,\n",
      "       6.32579448, 5.6111699 , 5.70049787, 5.52184194, 4.71788939,\n",
      "       4.3605771 , 4.0925932 , 5.343186  ]), array([2.75272638, 6.14714664, 4.53926349, 7.21906916, 8.9162795 ,\n",
      "       6.3258006 , 5.61118559, 5.70051236, 5.52185882, 4.71791703,\n",
      "       4.36060953, 4.09262922, 5.34320528]), array([2.7527801 , 6.14715465, 4.53929316, 7.21906274, 8.91625023,\n",
      "       6.32580621, 5.61120082, 5.70052639, 5.52187525, 4.71794429,\n",
      "       4.3606416 , 4.0926649 , 5.34322412]), array([2.75283361, 6.14716219, 4.53932247, 7.21905577, 8.91622027,\n",
      "       6.32581133, 5.61121562, 5.70053998, 5.52189126, 4.71797119,\n",
      "       4.36067333, 4.09270026, 5.34324255]), array([2.75288691, 6.14716928, 4.53935145, 7.21904826, 8.91618965,\n",
      "       6.32581599, 5.61123   , 5.70055314, 5.52190686, 4.71799773,\n",
      "       4.36070474, 4.09273531, 5.34326058]), array([2.75294001, 6.14717592, 4.5393801 , 7.21904023, 8.9161584 ,\n",
      "       6.32582019, 5.61124398, 5.7005659 , 5.52192206, 4.71802393,\n",
      "       4.36073583, 4.09277007, 5.34327822]), array([2.75299291, 6.14718214, 4.53940843, 7.21903171, 8.91612654,\n",
      "       6.32582395, 5.61125757, 5.70057826, 5.52193688, 4.71804981,\n",
      "       4.36076662, 4.09280455, 5.3432955 ]), array([2.75304563, 6.14718796, 4.53943647, 7.21902271, 8.91609409,\n",
      "       6.3258273 , 5.61127079, 5.70059025, 5.52195134, 4.71807538,\n",
      "       4.36079713, 4.09283876, 5.34331243]), array([2.75309818, 6.14719338, 4.53946421, 7.21901326, 8.91606108,\n",
      "       6.32583024, 5.61128366, 5.70060188, 5.52196544, 4.71810064,\n",
      "       4.36082735, 4.0928727 , 5.34332901]), array([2.75315055, 6.14719844, 4.53949168, 7.21900337, 8.91602752,\n",
      "       6.3258328 , 5.61129618, 5.70061315, 5.52197921, 4.71812562,\n",
      "       4.36085731, 4.0929064 , 5.34334527]), array([2.75320276, 6.14720313, 4.53951888, 7.21899305, 8.91599345,\n",
      "       6.32583499, 5.61130838, 5.7006241 , 5.52199266, 4.71815032,\n",
      "       4.36088701, 4.09293985, 5.34336122]), array([2.75325482, 6.14720747, 4.53954582, 7.21898233, 8.91595887,\n",
      "       6.32583683, 5.61132026, 5.70063472, 5.52200579, 4.71817475,\n",
      "       4.36091647, 4.09297307, 5.34337686]), array([2.75330672, 6.14721149, 4.53957252, 7.21897122, 8.91592382,\n",
      "       6.32583832, 5.61133183, 5.70064504, 5.52201863, 4.71819893,\n",
      "       4.36094568, 4.09300607, 5.34339222]), array([2.75335847, 6.14721518, 4.53959898, 7.21895974, 8.91588831,\n",
      "       6.32583949, 5.61134311, 5.70065505, 5.52203117, 4.71822286,\n",
      "       4.36097467, 4.09303885, 5.34340729]), array([2.75341009, 6.14721857, 4.53962521, 7.2189479 , 8.91585235,\n",
      "       6.32584033, 5.61135412, 5.70066479, 5.52204344, 4.71824655,\n",
      "       4.36100344, 4.09307143, 5.3434221 ]), array([2.75346157, 6.14722166, 4.53965122, 7.21893571, 8.91581597,\n",
      "       6.32584088, 5.61136485, 5.70067424, 5.52205545, 4.71827002,\n",
      "       4.361032  , 4.09310381, 5.34343665]), array([2.75351292, 6.14722447, 4.53967703, 7.21892319, 8.91577918,\n",
      "       6.32584113, 5.61137532, 5.70068344, 5.5220672 , 4.71829327,\n",
      "       4.36106036, 4.093136  , 5.34345096]), array([2.75356414, 6.147227  , 4.53970262, 7.21891035, 8.91574199,\n",
      "       6.32584111, 5.61138554, 5.70069238, 5.52207871, 4.7183163 ,\n",
      "       4.36108852, 4.093168  , 5.34346503]), array([2.75361525, 6.14722928, 4.53972803, 7.2188972 , 8.91570443,\n",
      "       6.32584081, 5.61139553, 5.70070108, 5.52208998, 4.71833914,\n",
      "       4.3611165 , 4.09319983, 5.34347887]), array([2.75366624, 6.1472313 , 4.53975325, 7.21888376, 8.91566651,\n",
      "       6.32584026, 5.61140528, 5.70070955, 5.52210102, 4.71836178,\n",
      "       4.36114429, 4.0932315 , 5.34349249]), array([2.75371712, 6.14723308, 4.53977829, 7.21887004, 8.91562824,\n",
      "       6.32583946, 5.61141482, 5.70071779, 5.52211184, 4.71838423,\n",
      "       4.36117191, 4.09326299, 5.3435059 ]), array([2.75376789, 6.14723463, 4.53980315, 7.21885605, 8.91558963,\n",
      "       6.32583842, 5.61142414, 5.70072582, 5.52212246, 4.71840651,\n",
      "       4.36119937, 4.09329434, 5.34351911]), array([2.75381856, 6.14723596, 4.53982785, 7.21884179, 8.91555071,\n",
      "       6.32583715, 5.61143326, 5.70073364, 5.52213288, 4.71842861,\n",
      "       4.36122667, 4.09332553, 5.34353212]), array([2.75386913, 6.14723707, 4.53985239, 7.21882729, 8.91551147,\n",
      "       6.32583565, 5.61144218, 5.70074126, 5.5221431 , 4.71845055,\n",
      "       4.36125381, 4.09335657, 5.34354495]), array([2.7539196 , 6.14723798, 4.53987678, 7.21881254, 8.91547194,\n",
      "       6.32583395, 5.61145091, 5.70074869, 5.52215314, 4.71847232,\n",
      "       4.3612808 , 4.09338748, 5.34355759]), array([2.75396998, 6.14723869, 4.53990102, 7.21879756, 8.91543213,\n",
      "       6.32583205, 5.61145947, 5.70075593, 5.522163  , 4.71849395,\n",
      "       4.36130766, 4.09341826, 5.34357007]), array([2.75402028, 6.14723921, 4.53992511, 7.21878236, 8.91539204,\n",
      "       6.32582995, 5.61146784, 5.700763  , 5.52217269, 4.71851543,\n",
      "       4.36133437, 4.0934489 , 5.34358237]), array([2.75407049, 6.14723954, 4.53994907, 7.21876695, 8.91535169,\n",
      "       6.32582766, 5.61147605, 5.7007699 , 5.52218221, 4.71853676,\n",
      "       4.36136096, 4.09347943, 5.34359452]), array([2.75412062, 6.1472397 , 4.5399729 , 7.21875133, 8.91531109,\n",
      "       6.32582519, 5.6114841 , 5.70077663, 5.52219158, 4.71855796,\n",
      "       4.36138742, 4.09350983, 5.34360652]), array([2.75417067, 6.1472397 , 4.53999661, 7.21873552, 8.91527025,\n",
      "       6.32582255, 5.611492  , 5.70078321, 5.52220079, 4.71857903,\n",
      "       4.36141376, 4.09354012, 5.34361837]), array([2.75422064, 6.14723953, 4.54002019, 7.21871951, 8.91522917,\n",
      "       6.32581974, 5.61149975, 5.70078964, 5.52220986, 4.71859997,\n",
      "       4.36143998, 4.0935703 , 5.34363007]), array([2.75427054, 6.1472392 , 4.54004365, 7.21870333, 8.91518787,\n",
      "       6.32581677, 5.61150735, 5.70079592, 5.52221878, 4.7186208 ,\n",
      "       4.36146609, 4.09360038, 5.34364164]), array([2.75432037, 6.14723873, 4.54006701, 7.21868696, 8.91514636,\n",
      "       6.32581365, 5.61151482, 5.70080207, 5.52222757, 4.7186415 ,\n",
      "       4.36149209, 4.09363035, 5.34365308]), array([2.75437013, 6.14723811, 4.54009026, 7.21867044, 8.91510464,\n",
      "       6.32581038, 5.61152216, 5.70080808, 5.52223624, 4.7186621 ,\n",
      "       4.36151799, 4.09366023, 5.3436644 ]), array([2.75441983, 6.14723735, 4.5401134 , 7.21865375, 8.91506272,\n",
      "       6.32580696, 5.61152937, 5.70081396, 5.52224477, 4.71868259,\n",
      "       4.36154379, 4.09369001, 5.34367559]), array([2.75446947, 6.14723646, 4.54013644, 7.2186369 , 8.91502061,\n",
      "       6.32580341, 5.61153646, 5.70081972, 5.52225319, 4.71870297,\n",
      "       4.36156949, 4.0937197 , 5.34368667]), array([2.75451904, 6.14723545, 4.54015939, 7.21861991, 8.91497832,\n",
      "       6.32579974, 5.61154343, 5.70082536, 5.52226149, 4.71872325,\n",
      "       4.3615951 , 4.0937493 , 5.34369763]), array([2.75456856, 6.14723431, 4.54018225, 7.21860277, 8.91493586,\n",
      "       6.32579593, 5.61155029, 5.70083088, 5.52226969, 4.71874344,\n",
      "       4.36162062, 4.09377882, 5.34370849]), array([2.75461802, 6.14723305, 4.54020501, 7.2185855 , 8.91489323,\n",
      "       6.325792  , 5.61155704, 5.7008363 , 5.52227777, 4.71876354,\n",
      "       4.36164606, 4.09380827, 5.34371924]), array([2.75466743, 6.14723168, 4.5402277 , 7.21856809, 8.91485043,\n",
      "       6.32578796, 5.61156369, 5.70084161, 5.52228576, 4.71878355,\n",
      "       4.36167141, 4.09383763, 5.3437299 ]), array([2.75471679, 6.1472302 , 4.5402503 , 7.21855056, 8.91480748,\n",
      "       6.32578381, 5.61157023, 5.70084682, 5.52229364, 4.71880348,\n",
      "       4.36169669, 4.09386692, 5.34374046]), array([2.75476609, 6.14722862, 4.54027282, 7.21853291, 8.91476438,\n",
      "       6.32577955, 5.61157668, 5.70085194, 5.52230143, 4.71882332,\n",
      "       4.36172189, 4.09389614, 5.34375093]), array([2.75481535, 6.14722693, 4.54029526, 7.21851514, 8.91472114,\n",
      "       6.32577518, 5.61158304, 5.70085695, 5.52230913, 4.71884309,\n",
      "       4.36174702, 4.09392529, 5.34376131]), array([2.75486456, 6.14722515, 4.54031764, 7.21849726, 8.91467777,\n",
      "       6.32577072, 5.61158932, 5.70086188, 5.52231675, 4.71886278,\n",
      "       4.36177208, 4.09395437, 5.34377161]), array([2.75491373, 6.14722328, 4.54033994, 7.21847927, 8.91463426,\n",
      "       6.32576616, 5.6115955 , 5.70086673, 5.52232428, 4.71888239,\n",
      "       4.36179707, 4.09398339, 5.34378183]), array([2.75496285, 6.14722132, 4.54036218, 7.21846117, 8.91459062,\n",
      "       6.32576151, 5.61160161, 5.70087149, 5.52233173, 4.71890194,\n",
      "       4.36182199, 4.09401235, 5.34379196]), array([2.75501193, 6.14721927, 4.54038435, 7.21844298, 8.91454687,\n",
      "       6.32575677, 5.61160763, 5.70087617, 5.5223391 , 4.71892142,\n",
      "       4.36184685, 4.09404125, 5.34380203]), array([2.75506097, 6.14721715, 4.54040646, 7.21842469, 8.91450299,\n",
      "       6.32575195, 5.61161358, 5.70088077, 5.52234639, 4.71894084,\n",
      "       4.36187166, 4.09407009, 5.34381202]), array([2.75510998, 6.14721494, 4.54042851, 7.21840631, 8.91445901,\n",
      "       6.32574705, 5.61161946, 5.7008853 , 5.52235362, 4.71896019,\n",
      "       4.3618964 , 4.09409888, 5.34382194]), array([2.75515894, 6.14721265, 4.5404505 , 7.21838785, 8.91441492,\n",
      "       6.32574207, 5.61162527, 5.70088976, 5.52236078, 4.71897949,\n",
      "       4.36192109, 4.09412761, 5.34383179]), array([2.75520787, 6.1472103 , 4.54047244, 7.2183693 , 8.91437072,\n",
      "       6.32573701, 5.61163101, 5.70089416, 5.52236787, 4.71899873,\n",
      "       4.36194573, 4.0941563 , 5.34384158]), array([2.75525677, 6.14720787, 4.54049432, 7.21835066, 8.91432643,\n",
      "       6.32573188, 5.61163669, 5.70089848, 5.5223749 , 4.71901791,\n",
      "       4.36197031, 4.09418493, 5.34385131]), array([2.75530563, 6.14720538, 4.54051616, 7.21833195, 8.91428204,\n",
      "       6.32572669, 5.61164231, 5.70090275, 5.52238186, 4.71903704,\n",
      "       4.36199485, 4.09421352, 5.34386098]), array([2.75535446, 6.14720282, 4.54053794, 7.21831317, 8.91423756,\n",
      "       6.32572142, 5.61164786, 5.70090695, 5.52238877, 4.71905612,\n",
      "       4.36201934, 4.09424207, 5.34387059]), array([2.75540326, 6.1472002 , 4.54055968, 7.21829431, 8.914193  ,\n",
      "       6.3257161 , 5.61165336, 5.7009111 , 5.52239562, 4.71907515,\n",
      "       4.36204378, 4.09427057, 5.34388015]), array([2.75545202, 6.14719752, 4.54058137, 7.21827538, 8.91414835,\n",
      "       6.32571071, 5.6116588 , 5.70091519, 5.52240242, 4.71909413,\n",
      "       4.36206818, 4.09429903, 5.34388966]), array([2.75550076, 6.14719478, 4.54060301, 7.21825639, 8.91410361,\n",
      "       6.32570526, 5.61166419, 5.70091922, 5.52240917, 4.71911307,\n",
      "       4.36209253, 4.09432745, 5.34389911]), array([2.75554947, 6.14719199, 4.54062462, 7.21823733, 8.91405881,\n",
      "       6.32569976, 5.61166954, 5.70092321, 5.52241586, 4.71913196,\n",
      "       4.36211685, 4.09435583, 5.34390852]), array([2.75559816, 6.14718915, 4.54064618, 7.21821822, 8.91401393,\n",
      "       6.32569421, 5.61167483, 5.70092714, 5.52242251, 4.71915081,\n",
      "       4.36214112, 4.09438418, 5.34391788]), array([2.75564682, 6.14718625, 4.54066771, 7.21819904, 8.91396897,\n",
      "       6.3256886 , 5.61168007, 5.70093103, 5.52242911, 4.71916963,\n",
      "       4.36216536, 4.09441248, 5.34392719]), array([2.75569545, 6.14718331, 4.54068919, 7.21817981, 8.91392395,\n",
      "       6.32568294, 5.61168527, 5.70093487, 5.52243567, 4.7191884 ,\n",
      "       4.36218956, 4.09444076, 5.34393646]), array([2.75574406, 6.14718032, 4.54071064, 7.21816052, 8.91387887,\n",
      "       6.32567723, 5.61169043, 5.70093867, 5.52244218, 4.71920713,\n",
      "       4.36221373, 4.094469  , 5.34394569]), array([2.75579264, 6.14717728, 4.54073206, 7.21814119, 8.91383372,\n",
      "       6.32567148, 5.61169554, 5.70094243, 5.52244866, 4.71922583,\n",
      "       4.36223786, 4.09449721, 5.34395488]), array([2.75584121, 6.1471742 , 4.54075344, 7.2181218 , 8.91378851,\n",
      "       6.32566568, 5.61170062, 5.70094614, 5.52245509, 4.7192445 ,\n",
      "       4.36226196, 4.09452538, 5.34396404]), array([2.75588975, 6.14717108, 4.54077479, 7.21810237, 8.91374325,\n",
      "       6.32565984, 5.61170565, 5.70094982, 5.52246149, 4.71926313,\n",
      "       4.36228603, 4.09455353, 5.34397315]), array([2.75593826, 6.14716792, 4.54079611, 7.21808288, 8.91369793,\n",
      "       6.32565396, 5.61171065, 5.70095346, 5.52246784, 4.71928173,\n",
      "       4.36231007, 4.09458165, 5.34398223]), array([2.75598676, 6.14716472, 4.5408174 , 7.21806336, 8.91365255,\n",
      "       6.32564804, 5.61171562, 5.70095706, 5.52247417, 4.7193003 ,\n",
      "       4.36233408, 4.09460974, 5.34399128]), array([2.75603524, 6.14716149, 4.54083866, 7.21804379, 8.91360713,\n",
      "       6.32564208, 5.61172055, 5.70096063, 5.52248046, 4.71931883,\n",
      "       4.36235807, 4.09463781, 5.34400029]), array([2.7560837 , 6.14715821, 4.5408599 , 7.21802419, 8.91356166,\n",
      "       6.32563609, 5.61172544, 5.70096417, 5.52248672, 4.71933734,\n",
      "       4.36238202, 4.09466585, 5.34400927]), array([2.75613214, 6.14715491, 4.5408811 , 7.21800454, 8.91351614,\n",
      "       6.32563006, 5.61173031, 5.70096767, 5.52249294, 4.71935583,\n",
      "       4.36240595, 4.09469386, 5.34401822]), array([2.75618056, 6.14715157, 4.54090228, 7.21798486, 8.91347057,\n",
      "       6.325624  , 5.61173514, 5.70097114, 5.52249914, 4.71937428,\n",
      "       4.36242985, 4.09472185, 5.34402714]), array([2.75622897, 6.1471482 , 4.54092344, 7.21796514, 8.91342497,\n",
      "       6.3256179 , 5.61173995, 5.70097459, 5.52250531, 4.71939271,\n",
      "       4.36245374, 4.09474982, 5.34403603]), array([2.75627736, 6.1471448 , 4.54094457, 7.21794538, 8.91337932,\n",
      "       6.32561178, 5.61174473, 5.700978  , 5.52251145, 4.71941112,\n",
      "       4.36247759, 4.09477777, 5.3440449 ]), array([2.75632573, 6.14714137, 4.54096568, 7.2179256 , 8.91333363,\n",
      "       6.32560562, 5.61174948, 5.70098139, 5.52251756, 4.7194295 ,\n",
      "       4.36250143, 4.09480569, 5.34405374]), array([2.75637409, 6.14713792, 4.54098676, 7.21790578, 8.91328791,\n",
      "       6.32559944, 5.6117542 , 5.70098475, 5.52252365, 4.71944786,\n",
      "       4.36252524, 4.09483359, 5.34406255]), array([2.75642243, 6.14713444, 4.54100783, 7.21788593, 8.91324215,\n",
      "       6.32559323, 5.6117589 , 5.70098809, 5.52252972, 4.7194662 ,\n",
      "       4.36254903, 4.09486148, 5.34407135]), array([2.75647075, 6.14713093, 4.54102887, 7.21786606, 8.91319636,\n",
      "       6.32558699, 5.61176358, 5.7009914 , 5.52253576, 4.71948452,\n",
      "       4.36257281, 4.09488934, 5.34408011]), array([2.75651907, 6.14712739, 4.5410499 , 7.21784615, 8.91315053,\n",
      "       6.32558073, 5.61176823, 5.70099469, 5.52254177, 4.71950281,\n",
      "       4.36259656, 4.09491719, 5.34408886]), array([2.75656736, 6.14712384, 4.54107091, 7.21782622, 8.91310467,\n",
      "       6.32557445, 5.61177286, 5.70099795, 5.52254777, 4.71952109,\n",
      "       4.3626203 , 4.09494502, 5.34409758]), array([2.75661565, 6.14712026, 4.54109189, 7.21780626, 8.91305878,\n",
      "       6.32556814, 5.61177747, 5.7010012 , 5.52255374, 4.71953935,\n",
      "       4.36264401, 4.09497283, 5.34410629]), array([2.75666392, 6.14711666, 4.54111286, 7.21778628, 8.91301286,\n",
      "       6.32556181, 5.61178206, 5.70100442, 5.5225597 , 4.71955759,\n",
      "       4.36266771, 4.09500063, 5.34411497]), array([2.75671218, 6.14711304, 4.54113382, 7.21776627, 8.91296692,\n",
      "       6.32555545, 5.61178663, 5.70100763, 5.52256563, 4.71957581,\n",
      "       4.3626914 , 4.09502841, 5.34412364]), array([2.75676042, 6.14710939, 4.54115475, 7.21774625, 8.91292095,\n",
      "       6.32554908, 5.61179118, 5.70101081, 5.52257155, 4.71959401,\n",
      "       4.36271506, 4.09505617, 5.34413229]), array([2.75680865, 6.14710573, 4.54117567, 7.2177262 , 8.91287495,\n",
      "       6.32554269, 5.61179571, 5.70101398, 5.52257745, 4.7196122 ,\n",
      "       4.36273871, 4.09508392, 5.34414092]), array([2.75685688, 6.14710205, 4.54119658, 7.21770613, 8.91282893,\n",
      "       6.32553628, 5.61180023, 5.70101713, 5.52258333, 4.71963038,\n",
      "       4.36276235, 4.09511165, 5.34414953]), array([2.75690509, 6.14709835, 4.54121747, 7.21768604, 8.91278288,\n",
      "       6.32552985, 5.61180473, 5.70102026, 5.52258919, 4.71964854,\n",
      "       4.36278597, 4.09513937, 5.34415812]), array([2.75695329, 6.14709464, 4.54123834, 7.21766593, 8.91273682,\n",
      "       6.3255234 , 5.61180921, 5.70102337, 5.52259504, 4.71966668,\n",
      "       4.36280958, 4.09516708, 5.3441667 ]), array([2.75700147, 6.14709091, 4.54125921, 7.2176458 , 8.91269073,\n",
      "       6.32551694, 5.61181367, 5.70102648, 5.52260087, 4.71968481,\n",
      "       4.36283318, 4.09519477, 5.34417527]), array([2.75704965, 6.14708716, 4.54128005, 7.21762566, 8.91264462,\n",
      "       6.32551046, 5.61181813, 5.70102956, 5.52260669, 4.71970292,\n",
      "       4.36285676, 4.09522245, 5.34418382]), array([2.75709782, 6.1470834 , 4.54130089, 7.2176055 , 8.9125985 ,\n",
      "       6.32550396, 5.61182256, 5.70103263, 5.52261249, 4.71972103,\n",
      "       4.36288033, 4.09525012, 5.34419236]), array([2.75714598, 6.14707962, 4.54132171, 7.21758532, 8.91255235,\n",
      "       6.32549745, 5.61182699, 5.70103569, 5.52261828, 4.71973912,\n",
      "       4.36290389, 4.09527778, 5.34420088]), array([2.75719413, 6.14707583, 4.54134253, 7.21756513, 8.91250619,\n",
      "       6.32549093, 5.6118314 , 5.70103873, 5.52262406, 4.7197572 ,\n",
      "       4.36292743, 4.09530543, 5.34420939]), array([2.75724226, 6.14707203, 4.54136333, 7.21754492, 8.91246001,\n",
      "       6.32548439, 5.61183579, 5.70104176, 5.52262983, 4.71977526,\n",
      "       4.36295096, 4.09533306, 5.34421789]), array([2.75729039, 6.14706821, 4.54138412, 7.2175247 , 8.91241382,\n",
      "       6.32547784, 5.61184018, 5.70104478, 5.52263558, 4.71979332,\n",
      "       4.36297449, 4.09536069, 5.34422638]), array([2.75733851, 6.14706438, 4.54140489, 7.21750446, 8.91236761,\n",
      "       6.32547127, 5.61184455, 5.70104779, 5.52264132, 4.71981136,\n",
      "       4.362998  , 4.0953883 , 5.34423485]), array([2.75738663, 6.14706054, 4.54142566, 7.21748422, 8.91232138,\n",
      "       6.3254647 , 5.61184891, 5.70105078, 5.52264705, 4.7198294 ,\n",
      "       4.3630215 , 4.0954159 , 5.34424331]), array([2.75743473, 6.14705669, 4.54144642, 7.21746396, 8.91227515,\n",
      "       6.32545811, 5.61185326, 5.70105376, 5.52265276, 4.71984742,\n",
      "       4.363045  , 4.0954435 , 5.34425177]), array([2.75748282, 6.14705282, 4.54146717, 7.21744368, 8.9122289 ,\n",
      "       6.32545151, 5.6118576 , 5.70105674, 5.52265847, 4.71986543,\n",
      "       4.36306848, 4.09547108, 5.34426021]), array([2.75753091, 6.14704895, 4.54148791, 7.2174234 , 8.91218263,\n",
      "       6.3254449 , 5.61186194, 5.7010597 , 5.52266417, 4.71988344,\n",
      "       4.36309195, 4.09549866, 5.34426864]), array([2.75757899, 6.14704506, 4.54150864, 7.21740311, 8.91213636,\n",
      "       6.32543828, 5.61186626, 5.70106265, 5.52266986, 4.71990143,\n",
      "       4.36311542, 4.09552623, 5.34427706]), array([2.75762706, 6.14704117, 4.54152936, 7.2173828 , 8.91209007,\n",
      "       6.32543166, 5.61187057, 5.7010656 , 5.52267554, 4.71991942,\n",
      "       4.36313887, 4.09555378, 5.34428548]), array([2.75767512, 6.14703727, 4.54155007, 7.21736249, 8.91204377,\n",
      "       6.32542502, 5.61187487, 5.70106853, 5.52268121, 4.7199374 ,\n",
      "       4.36316232, 4.09558133, 5.34429388]), array([2.75772318, 6.14703336, 4.54157078, 7.21734217, 8.91199747,\n",
      "       6.32541837, 5.61187916, 5.70107146, 5.52268687, 4.71995537,\n",
      "       4.36318576, 4.09560888, 5.34430228]), array([2.75777123, 6.14702943, 4.54159147, 7.21732184, 8.91195115,\n",
      "       6.32541171, 5.61188345, 5.70107437, 5.52269252, 4.71997333,\n",
      "       4.36320919, 4.09563641, 5.34431067]), array([2.75781927, 6.14702551, 4.54161216, 7.21730149, 8.91190483,\n",
      "       6.32540505, 5.61188772, 5.70107728, 5.52269816, 4.71999128,\n",
      "       4.36323262, 4.09566394, 5.34431905]), array([2.75786731, 6.14702157, 4.54163284, 7.21728115, 8.91185849,\n",
      "       6.32539838, 5.61189199, 5.70108019, 5.5227038 , 4.72000923,\n",
      "       4.36325603, 4.09569146, 5.34432742]), array([2.75791533, 6.14701763, 4.54165352, 7.21726079, 8.91181215,\n",
      "       6.3253917 , 5.61189626, 5.70108308, 5.52270943, 4.72002716,\n",
      "       4.36327944, 4.09571897, 5.34433578]), array([2.75796335, 6.14701367, 4.54167418, 7.21724043, 8.9117658 ,\n",
      "       6.32538501, 5.61190051, 5.70108597, 5.52271505, 4.7200451 ,\n",
      "       4.36330285, 4.09574648, 5.34434414]), array([2.75801137, 6.14700972, 4.54169484, 7.21722005, 8.91171944,\n",
      "       6.32537832, 5.61190476, 5.70108885, 5.52272067, 4.72006302,\n",
      "       4.36332624, 4.09577398, 5.34435249]), array([2.75805938, 6.14700575, 4.5417155 , 7.21719968, 8.91167308,\n",
      "       6.32537162, 5.611909  , 5.70109172, 5.52272628, 4.72008094,\n",
      "       4.36334963, 4.09580147, 5.34436084]), array([2.75810738, 6.14700178, 4.54173614, 7.21717929, 8.91162671,\n",
      "       6.32536491, 5.61191323, 5.70109459, 5.52273188, 4.72009885,\n",
      "       4.36337301, 4.09582895, 5.34436918]), array([2.75815538, 6.1469978 , 4.54175679, 7.2171589 , 8.91158033,\n",
      "       6.3253582 , 5.61191746, 5.70109745, 5.52273748, 4.72011676,\n",
      "       4.36339639, 4.09585643, 5.34437751]), array([2.75820336, 6.14699382, 4.54177742, 7.21713851, 8.91153395,\n",
      "       6.32535148, 5.61192169, 5.7011003 , 5.52274307, 4.72013466,\n",
      "       4.36341976, 4.09588391, 5.34438583]), array([2.75825135, 6.14698983, 4.54179805, 7.21711811, 8.91148756,\n",
      "       6.32534475, 5.6119259 , 5.70110315, 5.52274865, 4.72015255,\n",
      "       4.36344313, 4.09591138, 5.34439415]), array([2.75829933, 6.14698583, 4.54181868, 7.2170977 , 8.91144117,\n",
      "       6.32533802, 5.61193012, 5.701106  , 5.52275423, 4.72017044,\n",
      "       4.36346649, 4.09593884, 5.34440247]), array([2.7583473 , 6.14698183, 4.54183929, 7.21707729, 8.91139477,\n",
      "       6.32533129, 5.61193432, 5.70110884, 5.52275981, 4.72018832,\n",
      "       4.36348984, 4.09596629, 5.34441078]), array([2.75839526, 6.14697783, 4.54185991, 7.21705687, 8.91134837,\n",
      "       6.32532455, 5.61193852, 5.70111167, 5.52276538, 4.7202062 ,\n",
      "       4.36351319, 4.09599375, 5.34441908]), array([2.75844323, 6.14697382, 4.54188052, 7.21703645, 8.91130196,\n",
      "       6.3253178 , 5.61194272, 5.7011145 , 5.52277094, 4.72022407,\n",
      "       4.36353653, 4.09602119, 5.34442738]), array([2.75849118, 6.14696981, 4.54190112, 7.21701602, 8.91125555,\n",
      "       6.32531106, 5.61194691, 5.70111732, 5.5227765 , 4.72024194,\n",
      "       4.36355987, 4.09604863, 5.34443568]), array([2.75853913, 6.14696579, 4.54192172, 7.21699559, 8.91120914,\n",
      "       6.3253043 , 5.6119511 , 5.70112014, 5.52278205, 4.72025981,\n",
      "       4.3635832 , 4.09607607, 5.34444397]), array([2.75858708, 6.14696177, 4.54194231, 7.21697516, 8.91116272,\n",
      "       6.32529754, 5.61195528, 5.70112296, 5.5227876 , 4.72027766,\n",
      "       4.36360653, 4.0961035 , 5.34445225]), array([2.75863501, 6.14695774, 4.5419629 , 7.21695472, 8.9111163 ,\n",
      "       6.32529078, 5.61195946, 5.70112577, 5.52279315, 4.72029552,\n",
      "       4.36362986, 4.09613093, 5.34446053]), array([2.75868295, 6.14695371, 4.54198348, 7.21693428, 8.91106988,\n",
      "       6.32528402, 5.61196363, 5.70112858, 5.52279869, 4.72031337,\n",
      "       4.36365317, 4.09615835, 5.34446881]), array([2.75873088, 6.14694967, 4.54200406, 7.21691384, 8.91102345,\n",
      "       6.32527725, 5.6119678 , 5.70113138, 5.52280423, 4.72033121,\n",
      "       4.36367649, 4.09618577, 5.34447708]), array([2.7587788 , 6.14694564, 4.54202464, 7.21689339, 8.91097702,\n",
      "       6.32527048, 5.61197197, 5.70113418, 5.52280976, 4.72034905,\n",
      "       4.3636998 , 4.09621318, 5.34448535]), array([2.75882672, 6.1469416 , 4.54204521, 7.21687294, 8.9109306 ,\n",
      "       6.3252637 , 5.61197613, 5.70113697, 5.52281529, 4.72036689,\n",
      "       4.36372311, 4.09624059, 5.34449362]), array([2.75887463, 6.14693755, 4.54206578, 7.21685249, 8.91088416,\n",
      "       6.32525692, 5.61198029, 5.70113977, 5.52282082, 4.72038472,\n",
      "       4.36374641, 4.09626799, 5.34450188]), array([2.75892254, 6.1469335 , 4.54208634, 7.21683204, 8.91083773,\n",
      "       6.32525014, 5.61198445, 5.70114255, 5.52282635, 4.72040255,\n",
      "       4.36376971, 4.09629539, 5.34451014]), array([2.75897045, 6.14692945, 4.5421069 , 7.21681158, 8.9107913 ,\n",
      "       6.32524335, 5.6119886 , 5.70114534, 5.52283187, 4.72042038,\n",
      "       4.363793  , 4.09632279, 5.34451839]), array([2.75901835, 6.1469254 , 4.54212746, 7.21679112, 8.91074486,\n",
      "       6.32523657, 5.61199275, 5.70114812, 5.52283738, 4.7204382 ,\n",
      "       4.36381629, 4.09635018, 5.34452664]), array([2.75906624, 6.14692134, 4.54214801, 7.21677066, 8.91069842,\n",
      "       6.32522978, 5.6119969 , 5.7011509 , 5.5228429 , 4.72045602,\n",
      "       4.36383958, 4.09637757, 5.34453489]), array([2.75911413, 6.14691729, 4.54216856, 7.2167502 , 8.91065199,\n",
      "       6.32522298, 5.61200104, 5.70115368, 5.52284841, 4.72047383,\n",
      "       4.36386286, 4.09640495, 5.34454314]), array([2.75916202, 6.14691323, 4.5421891 , 7.21672973, 8.91060555,\n",
      "       6.32521619, 5.61200519, 5.70115645, 5.52285392, 4.72049164,\n",
      "       4.36388614, 4.09643233, 5.34455138]), array([2.7592099 , 6.14690916, 4.54220965, 7.21670926, 8.91055911,\n",
      "       6.32520939, 5.61200932, 5.70115923, 5.52285942, 4.72050945,\n",
      "       4.36390942, 4.09645971, 5.34455962]), array([2.75925778, 6.1469051 , 4.54223019, 7.2166888 , 8.91051267,\n",
      "       6.32520259, 5.61201346, 5.70116199, 5.52286492, 4.72052726,\n",
      "       4.36393269, 4.09648708, 5.34456785]), array([2.75930565, 6.14690103, 4.54225072, 7.21666832, 8.91046623,\n",
      "       6.32519579, 5.61201759, 5.70116476, 5.52287042, 4.72054506,\n",
      "       4.36395596, 4.09651445, 5.34457609]), array([2.75935352, 6.14689696, 4.54227125, 7.21664785, 8.91041979,\n",
      "       6.32518899, 5.61202172, 5.70116752, 5.52287592, 4.72056286,\n",
      "       4.36397922, 4.09654182, 5.34458432]), array([2.75940138, 6.14689289, 4.54229178, 7.21662738, 8.91037335,\n",
      "       6.32518218, 5.61202585, 5.70117029, 5.52288142, 4.72058065,\n",
      "       4.36400249, 4.09656918, 5.34459255]), array([2.75944924, 6.14688881, 4.54231231, 7.21660691, 8.9103269 ,\n",
      "       6.32517537, 5.61202998, 5.70117305, 5.52288691, 4.72059845,\n",
      "       4.36402575, 4.09659654, 5.34460077]), array([2.7594971 , 6.14688474, 4.54233283, 7.21658643, 8.91028046,\n",
      "       6.32516857, 5.6120341 , 5.7011758 , 5.5228924 , 4.72061624,\n",
      "       4.364049  , 4.0966239 , 5.344609  ]), array([2.75954495, 6.14688066, 4.54235335, 7.21656596, 8.91023402,\n",
      "       6.32516175, 5.61203822, 5.70117856, 5.52289789, 4.72063402,\n",
      "       4.36407226, 4.09665125, 5.34461722]), array([2.7595928 , 6.14687658, 4.54237387, 7.21654548, 8.91018758,\n",
      "       6.32515494, 5.61204234, 5.70118131, 5.52290338, 4.72065181,\n",
      "       4.36409551, 4.0966786 , 5.34462544]), array([2.75964064, 6.1468725 , 4.54239438, 7.216525  , 8.91014115,\n",
      "       6.32514813, 5.61204646, 5.70118406, 5.52290886, 4.72066959,\n",
      "       4.36411875, 4.09670595, 5.34463366]), array([2.75968848, 6.14686842, 4.5424149 , 7.21650452, 8.91009471,\n",
      "       6.32514131, 5.61205058, 5.70118681, 5.52291434, 4.72068737,\n",
      "       4.364142  , 4.09673329, 5.34464187]), array([2.75973631, 6.14686433, 4.54243541, 7.21648405, 8.91004827,\n",
      "       6.3251345 , 5.61205469, 5.70118956, 5.52291982, 4.72070515,\n",
      "       4.36416524, 4.09676063, 5.34465008]), array([2.75978414, 6.14686025, 4.54245591, 7.21646357, 8.91000183,\n",
      "       6.32512768, 5.6120588 , 5.70119231, 5.5229253 , 4.72072292,\n",
      "       4.36418848, 4.09678797, 5.34465829]), array([2.75983197, 6.14685616, 4.54247642, 7.21644309, 8.9099554 ,\n",
      "       6.32512086, 5.61206291, 5.70119505, 5.52293078, 4.72074069,\n",
      "       4.36421172, 4.0968153 , 5.3446665 ]), array([2.75987979, 6.14685208, 4.54249692, 7.21642261, 8.90990896,\n",
      "       6.32511404, 5.61206702, 5.70119779, 5.52293625, 4.72075846,\n",
      "       4.36423495, 4.09684264, 5.34467471]), array([2.75992761, 6.14684799, 4.54251742, 7.21640213, 8.90986253,\n",
      "       6.32510722, 5.61207113, 5.70120054, 5.52294173, 4.72077623,\n",
      "       4.36425818, 4.09686996, 5.34468291]), array([2.75997542, 6.1468439 , 4.54253791, 7.21638165, 8.90981609,\n",
      "       6.3251004 , 5.61207524, 5.70120328, 5.5229472 , 4.72079399,\n",
      "       4.36428141, 4.09689729, 5.34469112]), array([2.76002324, 6.14683981, 4.54255841, 7.21636116, 8.90976966,\n",
      "       6.32509358, 5.61207934, 5.70120601, 5.52295267, 4.72081175,\n",
      "       4.36430463, 4.09692461, 5.34469932]), array([2.76007104, 6.14683571, 4.5425789 , 7.21634068, 8.90972323,\n",
      "       6.32508676, 5.61208344, 5.70120875, 5.52295814, 4.72082951,\n",
      "       4.36432786, 4.09695193, 5.34470752]), array([2.76011884, 6.14683162, 4.54259939, 7.2163202 , 8.9096768 ,\n",
      "       6.32507993, 5.61208754, 5.70121149, 5.5229636 , 4.72084727,\n",
      "       4.36435108, 4.09697925, 5.34471572]), array([2.76016664, 6.14682753, 4.54261987, 7.21629972, 8.90963038,\n",
      "       6.32507311, 5.61209164, 5.70121422, 5.52296907, 4.72086503,\n",
      "       4.3643743 , 4.09700657, 5.34472391]), array([2.76021444, 6.14682343, 4.54264036, 7.21627924, 8.90958395,\n",
      "       6.32506628, 5.61209574, 5.70121695, 5.52297453, 4.72088278,\n",
      "       4.36439751, 4.09703388, 5.34473211]), array([2.76026223, 6.14681934, 4.54266084, 7.21625876, 8.90953753,\n",
      "       6.32505945, 5.61209984, 5.70121969, 5.52297999, 4.72090053,\n",
      "       4.36442073, 4.09706119, 5.3447403 ]), array([2.76031002, 6.14681524, 4.54268132, 7.21623828, 8.90949111,\n",
      "       6.32505263, 5.61210394, 5.70122242, 5.52298546, 4.72091828,\n",
      "       4.36444394, 4.0970885 , 5.3447485 ]), array([2.7603578 , 6.14681115, 4.5427018 , 7.2162178 , 8.90944468,\n",
      "       6.3250458 , 5.61210803, 5.70122515, 5.52299092, 4.72093603,\n",
      "       4.36446715, 4.0971158 , 5.34475669]), array([2.76040558, 6.14680705, 4.54272228, 7.21619732, 8.90939827,\n",
      "       6.32503897, 5.61211212, 5.70122787, 5.52299637, 4.72095378,\n",
      "       4.36449035, 4.0971431 , 5.34476487]), array([2.76045336, 6.14680295, 4.54274275, 7.21617684, 8.90935185,\n",
      "       6.32503214, 5.61211622, 5.7012306 , 5.52300183, 4.72097152,\n",
      "       4.36451356, 4.0971704 , 5.34477306]), array([2.76050113, 6.14679885, 4.54276322, 7.21615636, 8.90930543,\n",
      "       6.32502531, 5.61212031, 5.70123333, 5.52300729, 4.72098926,\n",
      "       4.36453676, 4.0971977 , 5.34478125]), array([2.7605489 , 6.14679475, 4.54278369, 7.21613588, 8.90925902,\n",
      "       6.32501848, 5.6121244 , 5.70123605, 5.52301274, 4.721007  ,\n",
      "       4.36455996, 4.09722499, 5.34478943]), array([2.76059666, 6.14679065, 4.54280416, 7.2161154 , 8.90921261,\n",
      "       6.32501166, 5.61212849, 5.70123878, 5.5230182 , 4.72102474,\n",
      "       4.36458316, 4.09725229, 5.34479762]), array([2.76064443, 6.14678655, 4.54282463, 7.21609492, 8.9091662 ,\n",
      "       6.32500482, 5.61213258, 5.7012415 , 5.52302365, 4.72104248,\n",
      "       4.36460635, 4.09727958, 5.3448058 ]), array([2.76069218, 6.14678245, 4.54284509, 7.21607445, 8.90911979,\n",
      "       6.32499799, 5.61213666, 5.70124422, 5.5230291 , 4.72106021,\n",
      "       4.36462954, 4.09730686, 5.34481398]), array([2.76073994, 6.14677835, 4.54286555, 7.21605397, 8.90907339,\n",
      "       6.32499116, 5.61214075, 5.70124694, 5.52303455, 4.72107794,\n",
      "       4.36465273, 4.09733415, 5.34482216]), array([2.76078769, 6.14677425, 4.54288601, 7.21603349, 8.90902699,\n",
      "       6.32498433, 5.61214483, 5.70124966, 5.52304   , 4.72109567,\n",
      "       4.36467592, 4.09736143, 5.34483034]), array([2.76083543, 6.14677014, 4.54290647, 7.21601302, 8.90898058,\n",
      "       6.3249775 , 5.61214892, 5.70125238, 5.52304545, 4.7211134 ,\n",
      "       4.36469911, 4.09738871, 5.34483852]), array([2.76088318, 6.14676604, 4.54292692, 7.21599254, 8.90893419,\n",
      "       6.32497067, 5.612153  , 5.7012551 , 5.5230509 , 4.72113113,\n",
      "       4.36472229, 4.09741599, 5.3448467 ]), array([2.76093092, 6.14676194, 4.54294738, 7.21597207, 8.90888779,\n",
      "       6.32496384, 5.61215708, 5.70125782, 5.52305635, 4.72114885,\n",
      "       4.36474548, 4.09744326, 5.34485487]), array([2.76097865, 6.14675783, 4.54296783, 7.21595159, 8.9088414 ,\n",
      "       6.32495701, 5.61216117, 5.70126054, 5.52306179, 4.72116658,\n",
      "       4.36476866, 4.09747054, 5.34486304]), array([2.76102639, 6.14675373, 4.54298828, 7.21593112, 8.90879501,\n",
      "       6.32495017, 5.61216525, 5.70126326, 5.52306724, 4.7211843 ,\n",
      "       4.36479184, 4.09749781, 5.34487122]), array([2.76107412, 6.14674963, 4.54300873, 7.21591065, 8.90874862,\n",
      "       6.32494334, 5.61216933, 5.70126597, 5.52307268, 4.72120202,\n",
      "       4.36481501, 4.09752508, 5.34487939]), array([2.76112184, 6.14674552, 4.54302918, 7.21589018, 8.90870223,\n",
      "       6.32493651, 5.61217341, 5.70126869, 5.52307812, 4.72121974,\n",
      "       4.36483819, 4.09755234, 5.34488756]), array([2.76116956, 6.14674142, 4.54304962, 7.21586971, 8.90865585,\n",
      "       6.32492968, 5.61217749, 5.7012714 , 5.52308357, 4.72123746,\n",
      "       4.36486136, 4.09757961, 5.34489573]), array([2.76121728, 6.14673731, 4.54307006, 7.21584924, 8.90860947,\n",
      "       6.32492285, 5.61218156, 5.70127412, 5.52308901, 4.72125517,\n",
      "       4.36488453, 4.09760687, 5.3449039 ]), array([2.761265  , 6.14673321, 4.5430905 , 7.21582877, 8.90856309,\n",
      "       6.32491601, 5.61218564, 5.70127683, 5.52309445, 4.72127289,\n",
      "       4.3649077 , 4.09763413, 5.34491207]), array([2.76131271, 6.1467291 , 4.54311094, 7.2158083 , 8.90851671,\n",
      "       6.32490918, 5.61218972, 5.70127954, 5.52309989, 4.7212906 ,\n",
      "       4.36493087, 4.09766138, 5.34492024]), array([2.76136041, 6.146725  , 4.54313138, 7.21578783, 8.90847034,\n",
      "       6.32490235, 5.61219379, 5.70128226, 5.52310533, 4.72130831,\n",
      "       4.36495403, 4.09768864, 5.3449284 ]), array([2.76140812, 6.14672089, 4.54315182, 7.21576737, 8.90842397,\n",
      "       6.32489552, 5.61219787, 5.70128497, 5.52311077, 4.72132602,\n",
      "       4.36497719, 4.09771589, 5.34493657]), array([2.76145582, 6.14671679, 4.54317225, 7.2157469 , 8.9083776 ,\n",
      "       6.32488868, 5.61220194, 5.70128768, 5.52311621, 4.72134373,\n",
      "       4.36500035, 4.09774314, 5.34494473]), array([2.76150352, 6.14671268, 4.54319268, 7.21572644, 8.90833123,\n",
      "       6.32488185, 5.61220602, 5.70129039, 5.52312164, 4.72136143,\n",
      "       4.36502351, 4.09777039, 5.3449529 ]), array([2.76155121, 6.14670858, 4.54321312, 7.21570597, 8.90828487,\n",
      "       6.32487502, 5.61221009, 5.7012931 , 5.52312708, 4.72137914,\n",
      "       4.36504667, 4.09779764, 5.34496106]), array([2.7615989 , 6.14670447, 4.54323355, 7.21568551, 8.90823851,\n",
      "       6.32486819, 5.61221416, 5.70129581, 5.52313251, 4.72139684,\n",
      "       4.36506983, 4.09782488, 5.34496922]), array([2.76164659, 6.14670036, 4.54325397, 7.21566505, 8.90819215,\n",
      "       6.32486136, 5.61221823, 5.70129852, 5.52313795, 4.72141454,\n",
      "       4.36509298, 4.09785213, 5.34497738]), array([2.76169427, 6.14669626, 4.5432744 , 7.21564459, 8.9081458 ,\n",
      "       6.32485453, 5.61222231, 5.70130123, 5.52314338, 4.72143224,\n",
      "       4.36511613, 4.09787937, 5.34498554]), array([2.76174195, 6.14669215, 4.54329482, 7.21562413, 8.90809944,\n",
      "       6.32484769, 5.61222638, 5.70130393, 5.52314882, 4.72144994,\n",
      "       4.36513928, 4.0979066 , 5.3449937 ]), array([2.76178963, 6.14668805, 4.54331525, 7.21560367, 8.90805309,\n",
      "       6.32484086, 5.61223045, 5.70130664, 5.52315425, 4.72146764,\n",
      "       4.36516243, 4.09793384, 5.34500186]), array([2.7618373 , 6.14668394, 4.54333567, 7.21558321, 8.90800675,\n",
      "       6.32483403, 5.61223452, 5.70130935, 5.52315968, 4.72148533,\n",
      "       4.36518558, 4.09796108, 5.34501002]), array([2.76188497, 6.14667983, 4.54335609, 7.21556276, 8.9079604 ,\n",
      "       6.3248272 , 5.61223859, 5.70131206, 5.52316511, 4.72150303,\n",
      "       4.36520872, 4.09798831, 5.34501817]), array([2.76193264, 6.14667573, 4.5433765 , 7.2155423 , 8.90791406,\n",
      "       6.32482037, 5.61224265, 5.70131476, 5.52317055, 4.72152072,\n",
      "       4.36523186, 4.09801554, 5.34502633]), array([2.7619803 , 6.14667162, 4.54339692, 7.21552185, 8.90786772,\n",
      "       6.32481354, 5.61224672, 5.70131747, 5.52317598, 4.72153841,\n",
      "       4.365255  , 4.09804276, 5.34503448]), array([2.76202796, 6.14666752, 4.54341733, 7.2155014 , 8.90782139,\n",
      "       6.32480671, 5.61225079, 5.70132017, 5.52318141, 4.7215561 ,\n",
      "       4.36527814, 4.09806999, 5.34504264]), array([2.76207561, 6.14666341, 4.54343775, 7.21548094, 8.90777506,\n",
      "       6.32479988, 5.61225486, 5.70132288, 5.52318683, 4.72157379,\n",
      "       4.36530128, 4.09809721, 5.34505079]), array([2.76212327, 6.1466593 , 4.54345816, 7.21546049, 8.90772873,\n",
      "       6.32479305, 5.61225892, 5.70132558, 5.52319226, 4.72159148,\n",
      "       4.36532441, 4.09812444, 5.34505894]), array([2.76217092, 6.1466552 , 4.54347857, 7.21544004, 8.9076824 ,\n",
      "       6.32478622, 5.61226299, 5.70132829, 5.52319769, 4.72160916,\n",
      "       4.36534755, 4.09815165, 5.3450671 ]), array([2.76221856, 6.14665109, 4.54349898, 7.2154196 , 8.90763607,\n",
      "       6.32477939, 5.61226705, 5.70133099, 5.52320312, 4.72162685,\n",
      "       4.36537068, 4.09817887, 5.34507525]), array([2.7622662 , 6.14664699, 4.54351938, 7.21539915, 8.90758975,\n",
      "       6.32477256, 5.61227112, 5.70133369, 5.52320855, 4.72164453,\n",
      "       4.36539381, 4.09820609, 5.3450834 ]), array([2.76231384, 6.14664288, 4.54353979, 7.2153787 , 8.90754344,\n",
      "       6.32476573, 5.61227518, 5.7013364 , 5.52321397, 4.72166221,\n",
      "       4.36541694, 4.0982333 , 5.34509155]), array([2.76236148, 6.14663878, 4.54356019, 7.21535826, 8.90749712,\n",
      "       6.3247589 , 5.61227925, 5.7013391 , 5.5232194 , 4.72167989,\n",
      "       4.36544006, 4.09826051, 5.3450997 ]), array([2.76240911, 6.14663467, 4.54358059, 7.21533782, 8.90745081,\n",
      "       6.32475207, 5.61228331, 5.7013418 , 5.52322482, 4.72169757,\n",
      "       4.36546319, 4.09828772, 5.34510785]), array([2.76245674, 6.14663057, 4.54360099, 7.21531737, 8.9074045 ,\n",
      "       6.32474525, 5.61228738, 5.7013445 , 5.52323025, 4.72171525,\n",
      "       4.36548631, 4.09831493, 5.34511599]), array([2.76250437, 6.14662646, 4.54362139, 7.21529693, 8.90735819,\n",
      "       6.32473842, 5.61229144, 5.7013472 , 5.52323567, 4.72173293,\n",
      "       4.36550943, 4.09834214, 5.34512414]), array([2.76255199, 6.14662236, 4.54364179, 7.21527649, 8.90731189,\n",
      "       6.32473159, 5.6122955 , 5.70134991, 5.5232411 , 4.7217506 ,\n",
      "       4.36553255, 4.09836934, 5.34513229]), array([2.76259961, 6.14661825, 4.54366218, 7.21525605, 8.90726559,\n",
      "       6.32472476, 5.61229956, 5.70135261, 5.52324652, 4.72176827,\n",
      "       4.36555567, 4.09839654, 5.34514043]), array([2.76264722, 6.14661415, 4.54368258, 7.21523562, 8.90721929,\n",
      "       6.32471794, 5.61230362, 5.70135531, 5.52325194, 4.72178595,\n",
      "       4.36557879, 4.09842374, 5.34514858]), array([2.76269483, 6.14661004, 4.54370297, 7.21521518, 8.907173  ,\n",
      "       6.32471111, 5.61230769, 5.70135801, 5.52325736, 4.72180362,\n",
      "       4.3656019 , 4.09845094, 5.34515672]), array([2.76274244, 6.14660594, 4.54372336, 7.21519475, 8.90712671,\n",
      "       6.32470428, 5.61231175, 5.70136071, 5.52326279, 4.72182129,\n",
      "       4.36562502, 4.09847813, 5.34516486]), array([2.76279005, 6.14660183, 4.54374375, 7.21517431, 8.90708042,\n",
      "       6.32469746, 5.61231581, 5.70136341, 5.52326821, 4.72183895,\n",
      "       4.36564813, 4.09850533, 5.34517301]), array([2.76283765, 6.14659773, 4.54376414, 7.21515388, 8.90703413,\n",
      "       6.32469063, 5.61231987, 5.70136611, 5.52327363, 4.72185662,\n",
      "       4.36567124, 4.09853252, 5.34518115]), array([2.76288525, 6.14659363, 4.54378453, 7.21513345, 8.90698785,\n",
      "       6.32468381, 5.61232393, 5.70136881, 5.52327905, 4.72187429,\n",
      "       4.36569434, 4.09855971, 5.34518929]), array([2.76293284, 6.14658952, 4.54380491, 7.21511302, 8.90694157,\n",
      "       6.32467698, 5.61232799, 5.7013715 , 5.52328447, 4.72189195,\n",
      "       4.36571745, 4.09858689, 5.34519743]), array([2.76298043, 6.14658542, 4.5438253 , 7.21509259, 8.9068953 ,\n",
      "       6.32467016, 5.61233204, 5.7013742 , 5.52328989, 4.72190961,\n",
      "       4.36574056, 4.09861408, 5.34520557]), array([2.76302802, 6.14658131, 4.54384568, 7.21507216, 8.90684902,\n",
      "       6.32466334, 5.6123361 , 5.7013769 , 5.5232953 , 4.72192727,\n",
      "       4.36576366, 4.09864126, 5.34521371]), array([2.76307561, 6.14657721, 4.54386606, 7.21505174, 8.90680275,\n",
      "       6.32465651, 5.61234016, 5.7013796 , 5.52330072, 4.72194493,\n",
      "       4.36578676, 4.09866845, 5.34522185]), array([2.76312319, 6.14657311, 4.54388644, 7.21503131, 8.90675649,\n",
      "       6.32464969, 5.61234422, 5.7013823 , 5.52330614, 4.72196259,\n",
      "       4.36580986, 4.09869563, 5.34522999]), array([2.76317077, 6.14656901, 4.54390682, 7.21501089, 8.90671022,\n",
      "       6.32464287, 5.61234828, 5.70138499, 5.52331156, 4.72198025,\n",
      "       4.36583296, 4.0987228 , 5.34523812]), array([2.76321834, 6.1465649 , 4.54392719, 7.21499047, 8.90666396,\n",
      "       6.32463604, 5.61235233, 5.70138769, 5.52331698, 4.72199791,\n",
      "       4.36585605, 4.09874998, 5.34524626]), array([2.76326591, 6.1465608 , 4.54394757, 7.21497005, 8.9066177 ,\n",
      "       6.32462922, 5.61235639, 5.70139039, 5.52332239, 4.72201556,\n",
      "       4.36587915, 4.09877715, 5.3452544 ]), array([2.76331348, 6.1465567 , 4.54396794, 7.21494963, 8.90657145,\n",
      "       6.3246224 , 5.61236045, 5.70139308, 5.52332781, 4.72203322,\n",
      "       4.36590224, 4.09880432, 5.34526253]), array([2.76336105, 6.1465526 , 4.54398831, 7.21492921, 8.9065252 ,\n",
      "       6.32461558, 5.6123645 , 5.70139578, 5.52333322, 4.72205087,\n",
      "       4.36592533, 4.09883149, 5.34527067]), array([2.76340861, 6.14654849, 4.54400868, 7.21490879, 8.90647895,\n",
      "       6.32460876, 5.61236856, 5.70139848, 5.52333864, 4.72206852,\n",
      "       4.36594842, 4.09885866, 5.3452788 ]), array([2.76345617, 6.14654439, 4.54402905, 7.21488838, 8.9064327 ,\n",
      "       6.32460194, 5.61237261, 5.70140117, 5.52334405, 4.72208617,\n",
      "       4.36597151, 4.09888583, 5.34528693]), array([2.76350372, 6.14654029, 4.54404942, 7.21486796, 8.90638646,\n",
      "       6.32459512, 5.61237667, 5.70140387, 5.52334947, 4.72210382,\n",
      "       4.36599459, 4.09891299, 5.34529507]), array([2.76355127, 6.14653619, 4.54406978, 7.21484755, 8.90634022,\n",
      "       6.3245883 , 5.61238072, 5.70140656, 5.52335488, 4.72212147,\n",
      "       4.36601768, 4.09894016, 5.3453032 ]), array([2.76359882, 6.14653209, 4.54409015, 7.21482714, 8.90629399,\n",
      "       6.32458148, 5.61238478, 5.70140926, 5.52336029, 4.72213911,\n",
      "       4.36604076, 4.09896732, 5.34531133]), array([2.76364636, 6.14652799, 4.54411051, 7.21480673, 8.90624775,\n",
      "       6.32457466, 5.61238883, 5.70141195, 5.52336571, 4.72215676,\n",
      "       4.36606384, 4.09899447, 5.34531946]), array([2.76369391, 6.14652389, 4.54413087, 7.21478632, 8.90620152,\n",
      "       6.32456784, 5.61239288, 5.70141465, 5.52337112, 4.7221744 ,\n",
      "       4.36608692, 4.09902163, 5.34532759]), array([2.76374144, 6.14651979, 4.54415123, 7.21476591, 8.9061553 ,\n",
      "       6.32456102, 5.61239694, 5.70141734, 5.52337653, 4.72219204,\n",
      "       4.36611   , 4.09904879, 5.34533572]), array([2.76378898, 6.14651569, 4.54417159, 7.21474551, 8.90610907,\n",
      "       6.3245542 , 5.61240099, 5.70142003, 5.52338194, 4.72220968,\n",
      "       4.36613308, 4.09907594, 5.34534385]), array([2.76383651, 6.14651159, 4.54419195, 7.2147251 , 8.90606285,\n",
      "       6.32454739, 5.61240504, 5.70142273, 5.52338735, 4.72222732,\n",
      "       4.36615615, 4.09910309, 5.34535198]), array([2.76388404, 6.14650749, 4.5442123 , 7.2147047 , 8.90601664,\n",
      "       6.32454057, 5.61240909, 5.70142542, 5.52339276, 4.72224496,\n",
      "       4.36617922, 4.09913024, 5.34536011]), array([2.76393156, 6.14650339, 4.54423266, 7.2146843 , 8.90597042,\n",
      "       6.32453375, 5.61241315, 5.70142811, 5.52339817, 4.7222626 ,\n",
      "       4.36620229, 4.09915738, 5.34536824]), array([2.76397909, 6.14649929, 4.54425301, 7.2146639 , 8.90592421,\n",
      "       6.32452694, 5.6124172 , 5.70143081, 5.52340358, 4.72228023,\n",
      "       4.36622536, 4.09918453, 5.34537636]), array([2.7640266 , 6.14649519, 4.54427336, 7.2146435 , 8.905878  ,\n",
      "       6.32452012, 5.61242125, 5.7014335 , 5.52340899, 4.72229787,\n",
      "       4.36624843, 4.09921167, 5.34538449]), array([2.76407412, 6.14649109, 4.54429371, 7.2146231 , 8.9058318 ,\n",
      "       6.3245133 , 5.6124253 , 5.70143619, 5.5234144 , 4.7223155 ,\n",
      "       4.3662715 , 4.09923881, 5.34539261]), array([2.76412163, 6.14648699, 4.54431406, 7.2146027 , 8.9057856 ,\n",
      "       6.32450649, 5.61242935, 5.70143888, 5.52341981, 4.72233313,\n",
      "       4.36629456, 4.09926595, 5.34540074]), array([2.76416914, 6.14648289, 4.54433441, 7.21458231, 8.9057394 ,\n",
      "       6.32449968, 5.6124334 , 5.70144158, 5.52342522, 4.72235076,\n",
      "       4.36631763, 4.09929309, 5.34540886]), array([2.76421664, 6.1464788 , 4.54435475, 7.21456192, 8.9056932 ,\n",
      "       6.32449286, 5.61243745, 5.70144427, 5.52343063, 4.72236839,\n",
      "       4.36634069, 4.09932023, 5.34541699]), array([2.76426415, 6.1464747 , 4.5443751 , 7.21454152, 8.90564701,\n",
      "       6.32448605, 5.6124415 , 5.70144696, 5.52343604, 4.72238602,\n",
      "       4.36636375, 4.09934736, 5.34542511]), array([2.76431164, 6.1464706 , 4.54439544, 7.21452113, 8.90560082,\n",
      "       6.32447923, 5.61244555, 5.70144965, 5.52344144, 4.72240365,\n",
      "       4.36638681, 4.09937449, 5.34543323]), array([2.76435914, 6.1464665 , 4.54441578, 7.21450074, 8.90555464,\n",
      "       6.32447242, 5.6124496 , 5.70145234, 5.52344685, 4.72242128,\n",
      "       4.36640986, 4.09940162, 5.34544135]), array([2.76440663, 6.14646241, 4.54443612, 7.21448035, 8.90550846,\n",
      "       6.32446561, 5.61245364, 5.70145503, 5.52345226, 4.7224389 ,\n",
      "       4.36643292, 4.09942875, 5.34544948]), array([2.76445412, 6.14645831, 4.54445646, 7.21445997, 8.90546228,\n",
      "       6.3244588 , 5.61245769, 5.70145772, 5.52345766, 4.72245652,\n",
      "       4.36645597, 4.09945587, 5.3454576 ]), array([2.7645016 , 6.14645421, 4.5444768 , 7.21443958, 8.9054161 ,\n",
      "       6.32445199, 5.61246174, 5.70146042, 5.52346307, 4.72247415,\n",
      "       4.36647902, 4.099483  , 5.34546572]), array([2.76454909, 6.14645012, 4.54449713, 7.2144192 , 8.90536993,\n",
      "       6.32444518, 5.61246579, 5.70146311, 5.52346847, 4.72249177,\n",
      "       4.36650207, 4.09951012, 5.34547384]), array([2.76459656, 6.14644602, 4.54451747, 7.21439882, 8.90532376,\n",
      "       6.32443837, 5.61246984, 5.7014658 , 5.52347388, 4.72250939,\n",
      "       4.36652512, 4.09953724, 5.34548196]), array([2.76464404, 6.14644193, 4.5445378 , 7.21437843, 8.90527759,\n",
      "       6.32443156, 5.61247388, 5.70146849, 5.52347928, 4.722527  ,\n",
      "       4.36654817, 4.09956436, 5.34549007]), array([2.76469151, 6.14643783, 4.54455813, 7.21435805, 8.90523143,\n",
      "       6.32442475, 5.61247793, 5.70147118, 5.52348468, 4.72254462,\n",
      "       4.36657121, 4.09959147, 5.34549819]), array([2.76473898, 6.14643373, 4.54457846, 7.21433768, 8.90518527,\n",
      "       6.32441794, 5.61248198, 5.70147386, 5.52349009, 4.72256224,\n",
      "       4.36659426, 4.09961859, 5.34550631]), array([2.76478645, 6.14642964, 4.54459879, 7.2143173 , 8.90513911,\n",
      "       6.32441113, 5.61248602, 5.70147655, 5.52349549, 4.72257985,\n",
      "       4.3666173 , 4.0996457 , 5.34551443]), array([2.76483391, 6.14642554, 4.54461911, 7.21429692, 8.90509295,\n",
      "       6.32440432, 5.61249007, 5.70147924, 5.52350089, 4.72259747,\n",
      "       4.36664034, 4.09967281, 5.34552254]), array([2.76488137, 6.14642145, 4.54463944, 7.21427655, 8.9050468 ,\n",
      "       6.32439751, 5.61249411, 5.70148193, 5.52350629, 4.72261508,\n"
     ]
    },
    {
     "name": "stdout",
     "output_type": "stream",
     "text": [
      "       4.36666338, 4.09969992, 5.34553066])]\n"
     ]
    }
   ],
   "source": [
    "print(All_hypothesis)"
   ]
  },
  {
   "cell_type": "code",
   "execution_count": 27,
   "metadata": {},
   "outputs": [
    {
     "name": "stdout",
     "output_type": "stream",
     "text": [
      "0.18431887179602402\n"
     ]
    }
   ],
   "source": [
    "print(optimum_theta0)"
   ]
  },
  {
   "cell_type": "code",
   "execution_count": 28,
   "metadata": {},
   "outputs": [
    {
     "name": "stdout",
     "output_type": "stream",
     "text": [
      "0.889865470766229\n"
     ]
    }
   ],
   "source": [
    "print(optimum_theta1)"
   ]
  },
  {
   "cell_type": "markdown",
   "metadata": {},
   "source": [
    "### Plot cost function Vs. Iterations"
   ]
  },
  {
   "cell_type": "code",
   "execution_count": 29,
   "metadata": {},
   "outputs": [
    {
     "data": {
      "image/png": "[encoded data removed]",
      "text/plain": [
       "<Figure size 432x288 with 1 Axes>"
      ]
     },
     "metadata": {
      "needs_background": "light"
     },
     "output_type": "display_data"
    }
   ],
   "source": [
    "plt.plot(cost)\n",
    "plt.xlabel('the number of iterations')\n",
    "plt.ylabel('cost function')\n",
    "plt.title('cost function values across iterations')\n",
    "plt.show()"
   ]
  },
  {
   "cell_type": "markdown",
   "metadata": {},
   "source": [
    "### Plot theta_0 Vs. cost function"
   ]
  },
  {
   "cell_type": "code",
   "execution_count": 30,
   "metadata": {},
   "outputs": [
    {
     "data": {
      "image/png": "[encoded data removed]",
      "text/plain": [
       "<Figure size 432x288 with 1 Axes>"
      ]
     },
     "metadata": {
      "needs_background": "light"
     },
     "output_type": "display_data"
    }
   ],
   "source": [
    "plt.plot(All_theta_0, cost)\n",
    "plt.xlabel('theta_0')\n",
    "plt.ylabel('cost')\n",
    "plt.title('Theta_0 vs. loss')\n",
    "plt.show()"
   ]
  },
  {
   "cell_type": "markdown",
   "metadata": {},
   "source": [
    "### Plot theta_1 Vs. cost function"
   ]
  },
  {
   "cell_type": "code",
   "execution_count": 31,
   "metadata": {},
   "outputs": [
    {
     "data": {
      "image/png": "[encoded data removed]",
      "text/plain": [
       "<Figure size 432x288 with 1 Axes>"
      ]
     },
     "metadata": {
      "needs_background": "light"
     },
     "output_type": "display_data"
    }
   ],
   "source": [
    "plt.plot(All_theta_1, cost)\n",
    "plt.xlabel('theta_1')\n",
    "plt.ylabel('cost')\n",
    "plt.title('Theta_1 vs. loss')\n",
    "plt.show()"
   ]
  },
  {
   "cell_type": "code",
   "execution_count": 32,
   "metadata": {},
   "outputs": [
    {
     "data": {
      "text/plain": [
       "[0,\n",
       " 0.00556923073976923,\n",
       " 0.010924246580564925,\n",
       " 0.01607342171768198,\n",
       " 0.021024802968708463,\n",
       " 0.025786122571909754,\n",
       " 0.030364810484277395,\n",
       " 0.03476800619880247,\n",
       " 0.03900257009976888,\n",
       " 0.04307509437412689,\n",
       " 0.04699191349630147,\n",
       " 0.05075911430311137,\n",
       " 0.054382545674823,\n",
       " 0.057867827837736724,\n",
       " 0.06122036130310127,\n",
       " 0.06444533545657348,\n",
       " 0.06754773681188486,\n",
       " 0.07053235694184237,\n",
       " 0.07340380009927748,\n",
       " 0.07616649054006468,\n",
       " 0.07882467955985663,\n",
       " 0.0813824522557277,\n",
       " 0.08384373402348032,\n",
       " 0.08621229680094801,\n",
       " 0.088491765067225,\n",
       " 0.09068562160736422,\n",
       " 0.0927972130517122,\n",
       " 0.09482975519869129,\n",
       " 0.09678633812949504,\n",
       " 0.09866993112283146,\n",
       " 0.10048338737753114,\n",
       " 0.10222944855053147,\n",
       " 0.10391074911745457,\n",
       " 0.10552982056271434,\n",
       " 0.10708909540581708,\n",
       " 0.10859091107025928,\n",
       " 0.11003751360117625,\n",
       " 0.11143106123765428,\n",
       " 0.11277362784538816,\n",
       " 0.11406720621514364,\n",
       " 0.11531371123227102,\n",
       " 0.11651498292231091,\n",
       " 0.11767278937753625,\n",
       " 0.11878882956908507,\n",
       " 0.11986473604915689,\n",
       " 0.12090207754757029,\n",
       " 0.1219023614668118,\n",
       " 0.12286703627954405,\n",
       " 0.12379749383238679,\n",
       " 0.12469507155963466,\n",
       " 0.12556105461043265,\n",
       " 0.12639667789279266,\n",
       " 0.1272031280377019,\n",
       " 0.12798154528644726,\n",
       " 0.12873302530415717,\n",
       " 0.12945862092244576,\n",
       " 0.13015934381393043,\n",
       " 0.13083616610128668,\n",
       " 0.131490021903399,\n",
       " 0.13212180882106725,\n",
       " 0.13273238936463116,\n",
       " 0.133322592325784,\n",
       " 0.13389321409575694,\n",
       " 0.13444501993197094,\n",
       " 0.13497874517517044,\n",
       " 0.13549509641897498,\n",
       " 0.13599475263370878,\n",
       " 0.1364783662462957,\n",
       " 0.1369465641779372,\n",
       " 0.13739994884122386,\n",
       " 0.13783909909826578,\n",
       " 0.13826457118136662,\n",
       " 0.13867689957770493,\n",
       " 0.1390765978794301,\n",
       " 0.13946415960052494,\n",
       " 0.13984005896173418,\n",
       " 0.1402047516448073,\n",
       " 0.14055867551725518,\n",
       " 0.1409022513287734,\n",
       " 0.14123588338043994,\n",
       " 0.14155996016775124,\n",
       " 0.14187485499851998,\n",
       " 0.1421809265866167,\n",
       " 0.14247851962250016,\n",
       " 0.1427679653214433,\n",
       " 0.1430495819503274,\n",
       " 0.14332367533384158,\n",
       " 0.1435905393408934,\n",
       " 0.14385045635200386,\n",
       " 0.14410369770843,\n",
       " 0.14435052414373006,\n",
       " 0.1445911861984568,\n",
       " 0.14482592461863913,\n",
       " 0.14505497073868578,\n",
       " 0.1452785468493196,\n",
       " 0.1454968665511281,\n",
       " 0.1457101350942925,\n",
       " 0.14591854970503546,\n",
       " 0.1461222998993066,\n",
       " 0.14632156778420533,\n",
       " 0.14651652834761955,\n",
       " 0.1467073497365416,\n",
       " 0.1468941935245036,\n",
       " 0.1470772149685581,\n",
       " 0.147256563256212,\n",
       " 0.14743238174270726,\n",
       " 0.14760480817902533,\n",
       " 0.147773974930978,\n",
       " 0.1479400091897333,\n",
       " 0.1481030331741111,\n",
       " 0.14826316432497033,\n",
       " 0.1484205154919967,\n",
       " 0.14857519511318845,\n",
       " 0.14872730738732523,\n",
       " 0.1488769524396945,\n",
       " 0.14902422648133928,\n",
       " 0.14916922196208,\n",
       " 0.14931202771755445,\n",
       " 0.14945272911050936,\n",
       " 0.14959140816656824,\n",
       " 0.14972814370469173,\n",
       " 0.1498630114625376,\n",
       " 0.14999608421692023,\n",
       " 0.15012743189956057,\n",
       " 0.1502571217083113,\n",
       " 0.15038521821403356,\n",
       " 0.15051178346329575,\n",
       " 0.15063687707705714,\n",
       " 0.15076055634549387,\n",
       " 0.15088287631911768,\n",
       " 0.15100388989633248,\n",
       " 0.1511236479075682,\n",
       " 0.1512421991961252,\n",
       " 0.1513595906958586,\n",
       " 0.1514758675058253,\n",
       " 0.151591072962013,\n",
       " 0.15170524870626478,\n",
       " 0.1518184347525097,\n",
       " 0.15193066955040355,\n",
       " 0.15204199004648214,\n",
       " 0.15215243174292373,\n",
       " 0.15226202875401415,\n",
       " 0.1523708138604046,\n",
       " 0.15247881856124823,\n",
       " 0.1525860731242986,\n",
       " 0.1526926066340495,\n",
       " 0.15279844703799297,\n",
       " 0.1529036211910688,\n",
       " 0.15300815489837621,\n",
       " 0.15311207295621623,\n",
       " 0.15321539919152902,\n",
       " 0.1533181564997898,\n",
       " 0.15342036688142327,\n",
       " 0.15352205147679424,\n",
       " 0.15362323059983063,\n",
       " 0.15372392377033184,\n",
       " 0.1538241497450141,\n",
       " 0.15392392654734216,\n",
       " 0.15402327149619477,\n",
       " 0.15412220123340953,\n",
       " 0.15422073175025086,\n",
       " 0.15431887841284325,\n",
       " 0.1544166559866103,\n",
       " 0.15451407865975827,\n",
       " 0.15461116006584158,\n",
       " 0.15470791330544623,\n",
       " 0.15480435096702536,\n",
       " 0.15490048514692054,\n",
       " 0.15499632746860004,\n",
       " 0.15509188910114527,\n",
       " 0.15518718077701438,\n",
       " 0.15528221280911142,\n",
       " 0.1553769951071883,\n",
       " 0.1554715371936054,\n",
       " 0.15556584821847616,\n",
       " 0.15565993697421954,\n",
       " 0.1557538119095436,\n",
       " 0.1558474811428824,\n",
       " 0.15594095247530768,\n",
       " 0.15603423340293554,\n",
       " 0.15612733112884844,\n",
       " 0.15622025257455086,\n",
       " 0.15631300439097723,\n",
       " 0.15640559296906947,\n",
       " 0.15649802444994107,\n",
       " 0.15659030473464375,\n",
       " 0.1566824394935524,\n",
       " 0.15677443417538306,\n",
       " 0.15686629401585833,\n",
       " 0.1569580240460341,\n",
       " 0.15704962910030065,\n",
       " 0.15714111382407114,\n",
       " 0.1572324826811693,\n",
       " 0.15732373996092844,\n",
       " 0.15741488978501297,\n",
       " 0.15750593611397315,\n",
       " 0.1575968827535436,\n",
       " 0.15768773336069566,\n",
       " 0.15777849144945302,\n",
       " 0.1578691603964801,\n",
       " 0.15795974344645194,\n",
       " 0.15805024371721413,\n",
       " 0.158140664204741,\n",
       " 0.15823100778790003,\n",
       " 0.15832127723303002,\n",
       " 0.1584114751983402,\n",
       " 0.1585016042381374,\n",
       " 0.158591666806888,\n",
       " 0.15868166526312102,\n",
       " 0.1587716018731787,\n",
       " 0.15886147881482043,\n",
       " 0.15895129818068568,\n",
       " 0.1590410619816217,\n",
       " 0.15913077214988117,\n",
       " 0.15922043054219456,\n",
       " 0.15931003894272272,\n",
       " 0.15939959906589382,\n",
       " 0.15948911255912945,\n",
       " 0.15957858100546418,\n",
       " 0.15966800592606264,\n",
       " 0.15975738878263832,\n",
       " 0.15984673097977758,\n",
       " 0.15993603386717317,\n",
       " 0.16002529874177002,\n",
       " 0.16011452684982744,\n",
       " 0.1602037193889006,\n",
       " 0.16029287750974452,\n",
       " 0.1603820023181437,\n",
       " 0.16047109487667013,\n",
       " 0.16056015620637268,\n",
       " 0.1606491872884003,\n",
       " 0.16073818906556198,\n",
       " 0.16082716244382547,\n",
       " 0.1609161082937576,\n",
       " 0.16100502745190826,\n",
       " 0.16109392072214013,\n",
       " 0.16118278887690668,\n",
       " 0.16127163265848,\n",
       " 0.16136045278013067,\n",
       " 0.16144924992726162,\n",
       " 0.1615380247584975,\n",
       " 0.1616267779067315,\n",
       " 0.16171550998013146,\n",
       " 0.16180422156310628,\n",
       " 0.16189291321723487,\n",
       " 0.16198158548215857,\n",
       " 0.16207023887643884,\n",
       " 0.1621588738983813,\n",
       " 0.1622474910268276,\n",
       " 0.16233609072191638,\n",
       " 0.1624246734258144,\n",
       " 0.16251323956341915,\n",
       " 0.16260178954303395,\n",
       " 0.16269032375701667,\n",
       " 0.16277884258240313,\n",
       " 0.16286734638150605,\n",
       " 0.16295583550249063,\n",
       " 0.16304431027992763,\n",
       " 0.16313277103532492,\n",
       " 0.16322121807763798,\n",
       " 0.16330965170376077,\n",
       " 0.16339807219899716,\n",
       " 0.16348647983751408,\n",
       " 0.16357487488277686,\n",
       " 0.16366325758796768,\n",
       " 0.16375162819638747,\n",
       " 0.16383998694184226,\n",
       " 0.16392833404901436,\n",
       " 0.164016669733819,\n",
       " 0.1641049942037472,\n",
       " 0.16419330765819487,\n",
       " 0.1642816102887795,\n",
       " 0.1643699022796441,\n",
       " 0.16445818380774951,\n",
       " 0.1645464550431551,\n",
       " 0.16463471614928857,\n",
       " 0.16472296728320526,\n",
       " 0.16481120859583723,\n",
       " 0.16489944023223266,\n",
       " 0.16498766233178586,\n",
       " 0.16507587502845827,\n",
       " 0.1651640784509909,\n",
       " 0.1652522727231084,\n",
       " 0.16534045796371516,\n",
       " 0.16542863428708374,\n",
       " 0.16551680180303593,\n",
       " 0.16560496061711683,\n",
       " 0.16569311083076188,\n",
       " 0.16578125254145773,\n",
       " 0.16586938584289646,\n",
       " 0.16595751082512392,\n",
       " 0.1660456275746824,\n",
       " 0.16613373617474742,\n",
       " 0.1662218367052595,\n",
       " 0.16630992924305057,\n",
       " 0.16639801386196548,\n",
       " 0.16648609063297878,\n",
       " 0.16657415962430694,\n",
       " 0.16666222090151614,\n",
       " 0.16675027452762597,\n",
       " 0.16683832056320888,\n",
       " 0.1669263590664859,\n",
       " 0.1670143900934185,\n",
       " 0.16710241369779708,\n",
       " 0.16719042993132566,\n",
       " 0.16727843884370353,\n",
       " 0.16736644048270363,\n",
       " 0.16745443489424786,\n",
       " 0.16754242212247938,\n",
       " 0.16763040220983222,\n",
       " 0.16771837519709804,\n",
       " 0.16780634112349038,\n",
       " 0.16789430002670633,\n",
       " 0.16798225194298577,\n",
       " 0.16807019690716846,\n",
       " 0.16815813495274864,\n",
       " 0.16824606611192772,\n",
       " 0.16833399041566474,\n",
       " 0.16842190789372502,\n",
       " 0.1685098185747268,\n",
       " 0.16859772248618604,\n",
       " 0.16868561965455955,\n",
       " 0.1687735101052864,\n",
       " 0.1688613938628277,\n",
       " 0.16894927095070478,\n",
       " 0.16903714139153603,\n",
       " 0.1691250052070721,\n",
       " 0.16921286241822991,\n",
       " 0.16930071304512515,\n",
       " 0.16938855710710365,\n",
       " 0.1694763946227715,\n",
       " 0.1695642256100239,\n",
       " 0.16965205008607304,\n",
       " 0.1697398680674747,\n",
       " 0.16982767957015404,\n",
       " 0.1699154846094301,\n",
       " 0.17000328320003957,\n",
       " 0.17009107535615958,\n",
       " 0.17017886109142955,\n",
       " 0.1702666404189722,\n",
       " 0.1703544133514137,\n",
       " 0.17044217990090327,\n",
       " 0.17052994007913155,\n",
       " 0.17061769389734874,\n",
       " 0.17070544136638172,\n",
       " 0.17079318249665063,\n",
       " 0.17088091729818478,\n",
       " 0.17096864578063786,\n",
       " 0.17105636795330273,\n",
       " 0.17114408382512544,\n",
       " 0.17123179340471884,\n",
       " 0.17131949670037552,\n",
       " 0.17140719372008045,\n",
       " 0.17149488447152292,\n",
       " 0.1715825689621081,\n",
       " 0.1716702471989682,\n",
       " 0.1717579191889731,\n",
       " 0.1718455849387406,\n",
       " 0.17193324445464633,\n",
       " 0.1720208977428331,\n",
       " 0.17210854480922014,\n",
       " 0.1721961856595117,\n",
       " 0.1722838202992056,\n",
       " 0.1723714487336012,\n",
       " 0.1724590709678071,\n",
       " 0.17254668700674883,\n",
       " 0.17263429685517573,\n",
       " 0.172721900517668,\n",
       " 0.17280949799864329,\n",
       " 0.172897089302363,\n",
       " 0.17298467443293847,\n",
       " 0.17307225339433674,\n",
       " 0.17315982619038628,\n",
       " 0.17324739282478235,\n",
       " 0.17333495330109228,\n",
       " 0.17342250762276037,\n",
       " 0.17351005579311277,\n",
       " 0.17359759781536208,\n",
       " 0.17368513369261177,\n",
       " 0.17377266342786044,\n",
       " 0.173860187024006,\n",
       " 0.1739477044838495,\n",
       " 0.17403521581009895,\n",
       " 0.174122721005373,\n",
       " 0.17421022007220435,\n",
       " 0.17429771301304323,\n",
       " 0.17438519983026046,\n",
       " 0.1744726805261507,\n",
       " 0.17456015510293535,\n",
       " 0.17464762356276545,\n",
       " 0.17473508590772438,\n",
       " 0.17482254213983053,\n",
       " 0.1749099922610399,\n",
       " 0.17499743627324843,\n",
       " 0.1750848741782944,\n",
       " 0.17517230597796074,\n",
       " 0.17525973167397707,\n",
       " 0.17534715126802186,\n",
       " 0.17543456476172442,\n",
       " 0.17552197215666684,\n",
       " 0.1756093734543858,\n",
       " 0.17569676865637432,\n",
       " 0.17578415776408357,\n",
       " 0.17587154077892436,\n",
       " 0.17595891770226885,\n",
       " 0.17604628853545198,\n",
       " 0.17613365327977296,\n",
       " 0.1762210119364966,\n",
       " 0.17630836450685483,\n",
       " 0.1763957109920477,\n",
       " 0.1764830513932449,\n",
       " 0.1765703857115868,\n",
       " 0.17665771394818564,\n",
       " 0.17674503610412653,\n",
       " 0.17683235218046872,\n",
       " 0.17691966217824642,\n",
       " 0.17700696609846983,\n",
       " 0.17709426394212613,\n",
       " 0.1771815557101803,\n",
       " 0.17726884140357604,\n",
       " 0.17735612102323658,\n",
       " 0.17744339457006553,\n",
       " 0.17753066204494752,\n",
       " 0.17761792344874908,\n",
       " 0.17770517878231926,\n",
       " 0.17779242804649037,\n",
       " 0.17787967124207857,\n",
       " 0.17796690836988457,\n",
       " 0.17805413943069417,\n",
       " 0.17814136442527886,\n",
       " 0.17822858335439642,\n",
       " 0.1783157962187914,\n",
       " 0.17840300301919565,\n",
       " 0.17849020375632885,\n",
       " 0.17857739843089893,\n",
       " 0.17866458704360258,\n",
       " 0.17875176959512565,\n",
       " 0.17883894608614356,\n",
       " 0.1789261165173218,\n",
       " 0.17901328088931617,\n",
       " 0.17910043920277333,\n",
       " 0.17918759145833096,\n",
       " 0.1792747376566183,\n",
       " 0.17936187779825638,\n",
       " 0.1794490118838583,\n",
       " 0.17953613991402964,\n",
       " 0.1796232618893687,\n",
       " 0.17971037781046675,\n",
       " 0.1797974876779084,\n",
       " 0.17988459149227176,\n",
       " 0.17997168925412874,\n",
       " 0.1800587809640453,\n",
       " 0.1801458666225816,\n",
       " 0.18023294623029243,\n",
       " 0.18032001978772716,\n",
       " 0.18040708729543012,\n",
       " 0.18049414875394074,\n",
       " 0.18058120416379372,\n",
       " 0.1806682535255193,\n",
       " 0.18075529683964334,\n",
       " 0.1808423341066875,\n",
       " 0.18092936532716952,\n",
       " 0.18101639050160317,\n",
       " 0.18110340963049856,\n",
       " 0.18119042271436225,\n",
       " 0.18127742975369734,\n",
       " 0.18136443074900369,\n",
       " 0.18145142570077794,\n",
       " 0.18153841460951373,\n",
       " 0.18162539747570175,\n",
       " 0.1817123742998299,\n",
       " 0.18179934508238332,\n",
       " 0.18188630982384466,\n",
       " 0.18197326852469395,\n",
       " 0.18206022118540888,\n",
       " 0.18214716780646484,\n",
       " 0.18223410838833498,\n",
       " 0.18232104293149035,\n",
       " 0.18240797143639986,\n",
       " 0.18249489390353058,\n",
       " 0.18258181033334756,\n",
       " 0.1826687207263141,\n",
       " 0.18275562508289173,\n",
       " 0.18284252340354026,\n",
       " 0.18292941568871796,\n",
       " 0.18301630193888144,\n",
       " 0.18310318215448587,\n",
       " 0.183190056335985,\n",
       " 0.18327692448383115,\n",
       " 0.1833637865984753,\n",
       " 0.18345064268036718,\n",
       " 0.18353749272995526,\n",
       " 0.18362433674768683,\n",
       " 0.18371117473400808,\n",
       " 0.18379800668936405,\n",
       " 0.18388483261419872,\n",
       " 0.1839716525089551,\n",
       " 0.18405846637407522,\n",
       " 0.1841452742100001,\n",
       " 0.18423207601716993]"
      ]
     },
     "execution_count": 32,
     "metadata": {},
     "output_type": "execute_result"
    }
   ],
   "source": [
    "All_theta_0"
   ]
  },
  {
   "cell_type": "code",
   "execution_count": 33,
   "metadata": {},
   "outputs": [
    {
     "data": {
      "text/plain": [
       "[0,\n",
       " 0.03504384604321537,\n",
       " 0.06871715274511,\n",
       " 0.10107349950678265,\n",
       " 0.13216437111584672,\n",
       " 0.1620392396324827,\n",
       " 0.19074564307426725,\n",
       " 0.21832926102492636,\n",
       " 0.24483398728726768,\n",
       " 0.2703019996958457,\n",
       " 0.294773827200396,\n",
       " 0.3182884143267348,\n",
       " 0.34088318311764704,\n",
       " 0.3625940926522804,\n",
       " 0.38345569623870995,\n",
       " 0.40350119637063786,\n",
       " 0.4227624975356353,\n",
       " 0.441270256958919,\n",
       " 0.45905393336336897,\n",
       " 0.47614183382333963,\n",
       " 0.4925611587867857,\n",
       " 0.5083380453373092,\n",
       " 0.5234976087649361,\n",
       " 0.5380639825117403,\n",
       " 0.5520603565558473,\n",
       " 0.5655090142948689,\n",
       " 0.5784313679874293,\n",
       " 0.5908479928091541,\n",
       " 0.6027786595772858,\n",
       " 0.6142423661959764,\n",
       " 0.6252573678722684,\n",
       " 0.6358412061508236,\n",
       " 0.646010736813579,\n",
       " 0.6557821566887033,\n",
       " 0.6651710294114945,\n",
       " 0.6741923101781899,\n",
       " 0.6828603695320598,\n",
       " 0.6911890162196166,\n",
       " 0.6991915191532915,\n",
       " 0.7068806285155103,\n",
       " 0.7142685960377342,\n",
       " 0.7213671944867195,\n",
       " 0.7281877363889879,\n",
       " 0.7347410920232901,\n",
       " 0.7410377067096778,\n",
       " 0.747087617422684,\n",
       " 0.7529004687550324,\n",
       " 0.7584855282572687,\n",
       " 0.7638517011777092,\n",
       " 0.7690075446261515,\n",
       " 0.7739612811838744,\n",
       " 0.778720811981573,\n",
       " 0.7832937292660299,\n",
       " 0.7876873284755107,\n",
       " 0.7919086198430864,\n",
       " 0.7959643395463413,\n",
       " 0.7998609604211978,\n",
       " 0.8036047022568988,\n",
       " 0.807201541688522,\n",
       " 0.8106572217027597,\n",
       " 0.8139772607720832,\n",
       " 0.8171669616318197,\n",
       " 0.8202314197141007,\n",
       " 0.823175531252098,\n",
       " 0.8260040010674341,\n",
       " 0.8287213500531557,\n",
       " 0.83133192236417,\n",
       " 0.8338398923265803,\n",
       " 0.8362492710769119,\n",
       " 0.8385639129417851,\n",
       " 0.8407875215681843,\n",
       " 0.8429236558140725,\n",
       " 0.8449757354087205,\n",
       " 0.8469470463917528,\n",
       " 0.8488407463395616,\n",
       " 0.8506598693874017,\n",
       " 0.8524073310551527,\n",
       " 0.8540859328844251,\n",
       " 0.8556983668943856,\n",
       " 0.8572472198633866,\n",
       " 0.8587349774432124,\n",
       " 0.8601640281124842,\n",
       " 0.8615366669755122,\n",
       " 0.8628550994126368,\n",
       " 0.8641214445878643,\n",
       " 0.865337738819377,\n",
       " 0.8665059388182772,\n",
       " 0.8676279248007175,\n",
       " 0.8687055034783663,\n",
       " 0.869740410931965,\n",
       " 0.8707343153725478,\n",
       " 0.871688819794715,\n",
       " 0.8726054645261807,\n",
       " 0.8734857296776487,\n",
       " 0.8743310374969144,\n",
       " 0.8751427546309363,\n",
       " 0.8759221942994745,\n",
       " 0.8766706183837542,\n",
       " 0.8773892394334755,\n",
       " 0.878079222595362,\n",
       " 0.8787416874663155,\n",
       " 0.8793777098741239,\n",
       " 0.8799883235885549,\n",
       " 0.8805745219655571,\n",
       " 0.8811372595271825,\n",
       " 0.8816774534797452,\n",
       " 0.8821959851726291,\n",
       " 0.8826937015000652,\n",
       " 0.8831714162481091,\n",
       " 0.8836299113889597,\n",
       " 0.8840699383246787,\n",
       " 0.8844922190822881,\n",
       " 0.8848974474621473,\n",
       " 0.8852862901414359,\n",
       " 0.8856593877344975,\n",
       " 0.8860173558117305,\n",
       " 0.8863607858786469,\n",
       " 0.8866902463166564,\n",
       " 0.8870062832870712,\n",
       " 0.8873094215997709,\n",
       " 0.887600165547907,\n",
       " 0.8878789997099766,\n",
       " 0.8881463897205402,\n",
       " 0.8884027830108082,\n",
       " 0.888648609520277,\n",
       " 0.888884282380543,\n",
       " 0.8891101985723845,\n",
       " 0.8893267395571562,\n",
       " 0.8895342718834998,\n",
       " 0.8897331477703357,\n",
       " 0.8899237056670646,\n",
       " 0.8901062707918673,\n",
       " 0.8902811556489619,\n",
       " 0.8904486605256381,\n",
       " 0.8906090739698619,\n",
       " 0.890762673249208,\n",
       " 0.8909097247918516,\n",
       " 0.8910504846103197,\n",
       " 0.8911851987086767,\n",
       " 0.8913141034737918,\n",
       " 0.8914374260513096,\n",
       " 0.8915553847069236,\n",
       " 0.8916681891735256,\n",
       " 0.891776040984784,\n",
       " 0.891879133795681,\n",
       " 0.8919776536905192,\n",
       " 0.8920717794788873,\n",
       " 0.8921616829800545,\n",
       " 0.892247529296248,\n",
       " 0.8923294770752462,\n",
       " 0.8924076787627071,\n",
       " 0.892482280844631,\n",
       " 0.8925534240803457,\n",
       " 0.8926212437263826,\n",
       " 0.8926858697516015,\n",
       " 0.8927474270439043,\n",
       " 0.8928060356088686,\n",
       " 0.8928618107606151,\n",
       " 0.892914863305214,\n",
       " 0.8929652997169208,\n",
       " 0.8930132223075232,\n",
       " 0.8930587293890664,\n",
       " 0.893101915430218,\n",
       " 0.8931428712065195,\n",
       " 0.8931816839447639,\n",
       " 0.8932184374617296,\n",
       " 0.8932532122974896,\n",
       " 0.8932860858435102,\n",
       " 0.8933171324657418,\n",
       " 0.8933464236228966,\n",
       " 0.8933740279801037,\n",
       " 0.8934000115181199,\n",
       " 0.8934244376382721,\n",
       " 0.8934473672632962,\n",
       " 0.8934688589342346,\n",
       " 0.8934889689035446,\n",
       " 0.8935077512245683,\n",
       " 0.8935252578375035,\n",
       " 0.8935415386520141,\n",
       " 0.8935566416266117,\n",
       " 0.8935706128449326,\n",
       " 0.8935834965890335,\n",
       " 0.8935953354098222,\n",
       " 0.8936061701947343,\n",
       " 0.8936160402327643,\n",
       " 0.8936249832769544,\n",
       " 0.8936330356044409,\n",
       " 0.893640232074152,\n",
       " 0.8936466061822514,\n",
       " 0.8936521901154135,\n",
       " 0.8936570148020159,\n",
       " 0.8936611099613307,\n",
       " 0.8936645041507936,\n",
       " 0.8936672248114231,\n",
       " 0.8936692983114666,\n",
       " 0.8936707499883378,\n",
       " 0.8936716041889166,\n",
       " 0.8936718843082718,\n",
       " 0.8936716128268719,\n",
       " 0.8936708113463393,\n",
       " 0.8936695006238079,\n",
       " 0.8936677006049372,\n",
       " 0.8936654304556357,\n",
       " 0.8936627085925445,\n",
       " 0.8936595527123286,\n",
       " 0.8936559798198233,\n",
       " 0.8936520062550806,\n",
       " 0.8936476477193579,\n",
       " 0.8936429193000908,\n",
       " 0.8936378354948895,\n",
       " 0.8936324102345976,\n",
       " 0.8936266569054485,\n",
       " 0.8936205883703566,\n",
       " 0.8936142169893757,\n",
       " 0.8936075546393575,\n",
       " 0.8936006127328417,\n",
       " 0.8935934022362081,\n",
       " 0.8935859336871178,\n",
       " 0.8935782172112742,\n",
       " 0.8935702625385273,\n",
       " 0.8935620790183496,\n",
       " 0.8935536756347058,\n",
       " 0.8935450610203424,\n",
       " 0.8935362434705177,\n",
       " 0.893527230956196,\n",
       " 0.8935180311367245,\n",
       " 0.8935086513720163,\n",
       " 0.8934990987342564,\n",
       " 0.8934893800191493,\n",
       " 0.8934795017567287,\n",
       " 0.8934694702217425,\n",
       " 0.8934592914436333,\n",
       " 0.8934489712161287,\n",
       " 0.8934385151064552,\n",
       " 0.8934279284641942,\n",
       " 0.8934172164297896,\n",
       " 0.893406383942724,\n",
       " 0.8933954357493754,\n",
       " 0.8933843764105658,\n",
       " 0.8933732103088154,\n",
       " 0.8933619416553135,\n",
       " 0.8933505744966157,\n",
       " 0.8933391127210808,\n",
       " 0.8933275600650546,\n",
       " 0.8933159201188134,\n",
       " 0.8933041963322735,\n",
       " 0.893292392020479,\n",
       " 0.8932805103688745,\n",
       " 0.8932685544383709,\n",
       " 0.893256527170215,\n",
       " 0.8932444313906664,\n",
       " 0.8932322698154938,\n",
       " 0.8932200450542936,\n",
       " 0.8932077596146415,\n",
       " 0.8931954159060799,\n",
       " 0.893183016243951,\n",
       " 0.8931705628530794,\n",
       " 0.8931580578713104,\n",
       " 0.8931455033529108,\n",
       " 0.8931329012718358,\n",
       " 0.8931202535248691,\n",
       " 0.8931075619346396,\n",
       " 0.8930948282525203,\n",
       " 0.8930820541614143,\n",
       " 0.8930692412784311,\n",
       " 0.893056391157459,\n",
       " 0.8930435052916366,\n",
       " 0.8930305851157275,\n",
       " 0.8930176320084029,\n",
       " 0.8930046472944339,\n",
       " 0.8929916322467989,\n",
       " 0.8929785880887084,\n",
       " 0.8929655159955507,\n",
       " 0.8929524170967611,\n",
       " 0.8929392924776186,\n",
       " 0.8929261431809723,\n",
       " 0.8929129702088997,\n",
       " 0.892899774524301,\n",
       " 0.8928865570524306,\n",
       " 0.8928733186823684,\n",
       " 0.8928600602684348,\n",
       " 0.8928467826315489,\n",
       " 0.8928334865605345,\n",
       " 0.8928201728133748,\n",
       " 0.8928068421184181,\n",
       " 0.8927934951755364,\n",
       " 0.8927801326572385,\n",
       " 0.8927667552097398,\n",
       " 0.8927533634539903,\n",
       " 0.892739957986662,\n",
       " 0.8927265393810984,\n",
       " 0.8927131081882262,\n",
       " 0.8926996649374321,\n",
       " 0.8926862101374042,\n",
       " 0.8926727442769417,\n",
       " 0.8926592678257321,\n",
       " 0.892645781235099,\n",
       " 0.8926322849387189,\n",
       " 0.8926187793533121,\n",
       " 0.8926052648793052,\n",
       " 0.892591741901468,\n",
       " 0.8925782107895255,\n",
       " 0.8925646718987466,\n",
       " 0.8925511255705084,\n",
       " 0.8925375721328401,\n",
       " 0.8925240119009444,\n",
       " 0.8925104451776988,\n",
       " 0.8924968722541379,\n",
       " 0.8924832934099158,\n",
       " 0.8924697089137517,\n",
       " 0.8924561190238566,\n",
       " 0.8924425239883448,\n",
       " 0.8924289240456281,\n",
       " 0.8924153194247957,\n",
       " 0.8924017103459778,\n",
       " 0.8923880970206967,\n",
       " 0.8923744796522026,\n",
       " 0.8923608584357977,\n",
       " 0.8923472335591464,\n",
       " 0.8923336052025738,\n",
       " 0.8923199735393532,\n",
       " 0.8923063387359813,\n",
       " 0.8922927009524432,\n",
       " 0.892279060342467,\n",
       " 0.8922654170537684,\n",
       " 0.8922517712282859,\n",
       " 0.8922381230024066,\n",
       " 0.8922244725071828,\n",
       " 0.8922108198685413,\n",
       " 0.8921971652074832,\n",
       " 0.8921835086402765,\n",
       " 0.8921698502786416,\n",
       " 0.8921561902299284,\n",
       " 0.8921425285972878,\n",
       " 0.8921288654798355,\n",
       " 0.8921152009728097,\n",
       " 0.8921015351677231,\n",
       " 0.8920878681525078,\n",
       " 0.8920742000116563,\n",
       " 0.8920605308263548,\n",
       " 0.8920468606746136,\n",
       " 0.8920331896313902,\n",
       " 0.8920195177687097,\n",
       " 0.8920058451557784,\n",
       " 0.8919921718590947,\n",
       " 0.891978497942555,\n",
       " 0.8919648234675547,\n",
       " 0.8919511484930868,\n",
       " 0.8919374730758353,\n",
       " 0.8919237972702657,\n",
       " 0.8919101211287117,\n",
       " 0.8918964447014585,\n",
       " 0.8918827680368226,\n",
       " 0.8918690911812297,\n",
       " 0.8918554141792873,\n",
       " 0.8918417370738567,\n",
       " 0.8918280599061212,\n",
       " 0.8918143827156514,\n",
       " 0.8918007055404682,\n",
       " 0.8917870284171037,\n",
       " 0.8917733513806592,\n",
       " 0.8917596744648612,\n",
       " 0.8917459977021152,\n",
       " 0.8917323211235572,\n",
       " 0.8917186447591033,\n",
       " 0.8917049686374978,\n",
       " 0.8916912927863584,\n",
       " 0.8916776172322206,\n",
       " 0.8916639420005801,\n",
       " 0.8916502671159331,\n",
       " 0.8916365926018157,\n",
       " 0.8916229184808414,\n",
       " 0.8916092447747369,\n",
       " 0.8915955715043771,\n",
       " 0.8915818986898182,\n",
       " 0.8915682263503296,\n",
       " 0.8915545545044251,\n",
       " 0.8915408831698919,\n",
       " 0.8915272123638194,\n",
       " 0.8915135421026262,\n",
       " 0.8914998724020867,\n",
       " 0.8914862032773558,\n",
       " 0.8914725347429936,\n",
       " 0.8914588668129881,\n",
       " 0.8914451995007783,\n",
       " 0.8914315328192748,\n",
       " 0.8914178667808812,\n",
       " 0.8914042013975136,\n",
       " 0.8913905366806196,\n",
       " 0.8913768726411968,\n",
       " 0.89136320928981,\n",
       " 0.8913495466366089,\n",
       " 0.8913358846913434,\n",
       " 0.8913222234633799,\n",
       " 0.891308562961716,\n",
       " 0.8912949031949949,\n",
       " 0.8912812441715195,\n",
       " 0.8912675858992656,\n",
       " 0.8912539283858941,\n",
       " 0.8912402716387645,\n",
       " 0.8912266156649457,\n",
       " 0.8912129604712276,\n",
       " 0.8911993060641322,\n",
       " 0.8911856524499241,\n",
       " 0.8911719996346202,\n",
       " 0.8911583476239997,\n",
       " 0.8911446964236133,\n",
       " 0.891131046038792,\n",
       " 0.8911173964746562,\n",
       " 0.891103747736123,\n",
       " 0.8910900998279152,\n",
       " 0.8910764527545681,\n",
       " 0.8910628065204373,\n",
       " 0.8910491611297056,\n",
       " 0.8910355165863894,\n",
       " 0.8910218728943456,\n",
       " 0.8910082300572782,\n",
       " 0.8909945880787433,\n",
       " 0.8909809469621557,\n",
       " 0.8909673067107939,\n",
       " 0.8909536673278059,\n",
       " 0.8909400288162139,\n",
       " 0.8909263911789196,\n",
       " 0.8909127544187083,\n",
       " 0.8908991185382543,\n",
       " 0.8908854835401245,\n",
       " 0.890871849426783,\n",
       " 0.8908582162005949,\n",
       " 0.8908445838638305,\n",
       " 0.8908309524186684,\n",
       " 0.8908173218671998,\n",
       " 0.8908036922114314,\n",
       " 0.890790063453289,\n",
       " 0.8907764355946206,\n",
       " 0.8907628086371991,\n",
       " 0.8907491825827258,\n",
       " 0.890735557432833,\n",
       " 0.8907219331890861,\n",
       " 0.8907083098529873,\n",
       " 0.8906946874259773,\n",
       " 0.8906810659094381,\n",
       " 0.8906674453046947,\n",
       " 0.8906538256130179,\n",
       " 0.8906402068356265,\n",
       " 0.8906265889736888,\n",
       " 0.8906129720283251,\n",
       " 0.8905993560006092,\n",
       " 0.8905857408915704,\n",
       " 0.890572126702195,\n",
       " 0.8905585134334285,\n",
       " 0.8905449010861767,\n",
       " 0.8905312896613073,\n",
       " 0.890517679159652,\n",
       " 0.8905040695820068,\n",
       " 0.8904904609291344,\n",
       " 0.8904768532017652,\n",
       " 0.8904632464005982,\n",
       " 0.8904496405263025,\n",
       " 0.8904360355795188,\n",
       " 0.89042243156086,\n",
       " 0.8904088284709124,\n",
       " 0.8903952263102369,\n",
       " 0.89038162507937,\n",
       " 0.8903680247788246,\n",
       " 0.8903544254090908,\n",
       " 0.8903408269706373,\n",
       " 0.8903272294639117,\n",
       " 0.8903136328893417,\n",
       " 0.8903000372473356,\n",
       " 0.8902864425382833,\n",
       " 0.8902728487625566,\n",
       " 0.8902592559205106,\n",
       " 0.8902456640124837,\n",
       " 0.8902320730387986,\n",
       " 0.8902184829997628,\n",
       " 0.8902048938956693,\n",
       " 0.8901913057267969,\n",
       " 0.8901777184934112,\n",
       " 0.8901641321957647,\n",
       " 0.8901505468340974,\n",
       " 0.8901369624086376,\n",
       " 0.8901233789196019,\n",
       " 0.890109796367196,\n",
       " 0.8900962147516149,\n",
       " 0.8900826340730436,\n",
       " 0.890069054331657,\n",
       " 0.8900554755276209,\n",
       " 0.8900418976610919,\n",
       " 0.890028320732218,\n",
       " 0.890014744741139,\n",
       " 0.8900011696879863,\n",
       " 0.8899875955728839,\n",
       " 0.8899740223959482,\n",
       " 0.8899604501572889,\n",
       " 0.8899468788570083,\n",
       " 0.8899333084952026,\n",
       " 0.8899197390719614,\n",
       " 0.8899061705873684,\n",
       " 0.8898926030415014,\n",
       " 0.8898790364344327]"
      ]
     },
     "execution_count": 33,
     "metadata": {},
     "output_type": "execute_result"
    }
   ],
   "source": [
    "All_theta_1"
   ]
  },
  {
   "cell_type": "markdown",
   "metadata": {},
   "source": [
    "#### Plot all regression lines till converge"
   ]
  },
  {
   "cell_type": "code",
   "execution_count": 34,
   "metadata": {},
   "outputs": [
    {
     "data": {
      "image/png": "[encoded data removed]",
      "text/plain": [
       "<Figure size 432x288 with 1 Axes>"
      ]
     },
     "metadata": {
      "needs_background": "light"
     },
     "output_type": "display_data"
    }
   ],
   "source": [
    "for i in range(len(All_hypothesis)):\n",
    "    plt.plot(x_points,All_hypothesis[i])\n",
    "plt.show()"
   ]
  },
  {
   "cell_type": "markdown",
   "metadata": {},
   "source": [
    "#### Plot  LR equation output (fitted line) with the original data (scatter plot of X,y)"
   ]
  },
  {
   "cell_type": "code",
   "execution_count": 35,
   "metadata": {},
   "outputs": [
    {
     "data": {
      "image/png": "[encoded data removed]",
      "text/plain": [
       "<Figure size 432x288 with 1 Axes>"
      ]
     },
     "metadata": {
      "needs_background": "light"
     },
     "output_type": "display_data"
    }
   ],
   "source": [
    "plt.scatter(x_points, y_points)\n",
    "plt.plot(x_points,hypothesis)\n",
    "plt.title('Best Linear Regression line - using optimum thetas')\n",
    "plt.show()"
   ]
  },
  {
   "attachments": {
    "image-2.png": {
     "image/png": "[encoded data removed]"
    },
    "image-3.png": {
     "image/png": "[encoded data removed]"
    },
    "image.png": {
     "image/png": "[encoded data removed]"
    }
   },
   "cell_type": "markdown",
   "metadata": {},
   "source": [
    "#### Use R2 score to evaluate LR equation output\n",
    "![image.png](attachment:image.png)\n",
    "![image-2.png](attachment:image-2.png)\n",
    "![image-3.png](attachment:image-3.png)\n",
    "https://en.wikipedia.org/wiki/Coefficient_of_determination"
   ]
  },
  {
   "cell_type": "markdown",
   "metadata": {},
   "source": [
    "In statistics, the coefficient of determination, denoted R2 or r2, is the proportion of the variance in the dependent variable that is predictable from the independent variable(s)."
   ]
  },
  {
   "cell_type": "code",
   "execution_count": 36,
   "metadata": {},
   "outputs": [],
   "source": [
    "from sklearn.metrics import r2_score"
   ]
  },
  {
   "cell_type": "code",
   "execution_count": 37,
   "metadata": {},
   "outputs": [
    {
     "data": {
      "text/plain": [
       "0.8157806549488565"
      ]
     },
     "execution_count": 37,
     "metadata": {},
     "output_type": "execute_result"
    }
   ],
   "source": [
    "sklearn.metrics.r2_score(hypothesis,y_points)"
   ]
  },
  {
   "cell_type": "markdown",
   "metadata": {},
   "source": [
    "## GD vectorize Implementation\n",
    "### Implement GD without iterate through data points i.e. use vector operations"
   ]
  },
  {
   "cell_type": "code",
   "execution_count": 38,
   "metadata": {},
   "outputs": [],
   "source": [
    "cost_function = (sum(hypothesis - y_points)**2) / (2*len(my_data))"
   ]
  },
  {
   "cell_type": "code",
   "execution_count": 39,
   "metadata": {},
   "outputs": [],
   "source": [
    "def Gradient_Descent(x_points,y_points,alpha,iterations):\n",
    "    theta_0= 0\n",
    "    theta_1= 0\n",
    "    alpha =0.001\n",
    "   \n",
    "    cost =[]\n",
    "    All_theta_0 =[]\n",
    "    All_theta_1 =[]\n",
    "    All_hypothesis =[]\n",
    "    \n",
    "    max_iterations =1700\n",
    "    \n",
    "    for i in range(0,max_iterations):\n",
    "        \n",
    "        hypothesis = theta_0 + theta_1 * x_points\n",
    "       \n",
    "        \n",
    "    \n",
    "        cost_function = (sum(hypothesis - y_points)**2) / (2*len(x_points))\n",
    "        cost.append(cost_function)\n",
    "        \n",
    "        \n",
    "        derivative_y =  np.sum(hypothesis - y_points) / (len(x_points))\n",
    "        derivative_x =  np.sum((hypothesis - y_points)* x_points) / (len(x_points))\n",
    "        \n",
    "        theta_0 = theta_0 - alpha * derivative_y\n",
    "        theta_1 = theta_1 - alpha * derivative_x\n",
    "        \n",
    "        optimum_theta0 = theta_0\n",
    "        optimum_theta1 = theta_1\n",
    "        \n",
    "        \n",
    "        \n",
    "          \n",
    "        \n",
    "        \n",
    "    return cost,optimum_theta0,optimum_theta1,hypothesis\n",
    "        \n",
    "        \n",
    "        \n",
    "        \n",
    "        \n",
    "    "
   ]
  },
  {
   "cell_type": "code",
   "execution_count": 40,
   "metadata": {},
   "outputs": [],
   "source": [
    "theta=(theta0,theta1)\n",
    "max_iterations =1700\n",
    "cost,optimum_theta0,optimum_theta1,hypothesis = Gradient_Descent(x_points,y_points,0.001,1700)"
   ]
  },
  {
   "cell_type": "markdown",
   "metadata": {},
   "source": [
    "#### Plot the output and calculate R2 score\n",
    "##### Make sure that you obtained the same results"
   ]
  },
  {
   "cell_type": "code",
   "execution_count": 41,
   "metadata": {},
   "outputs": [
    {
     "data": {
      "image/png": "[encoded data removed]",
      "text/plain": [
       "<Figure size 432x288 with 1 Axes>"
      ]
     },
     "metadata": {
      "needs_background": "light"
     },
     "output_type": "display_data"
    }
   ],
   "source": [
    "plt.scatter(x_points,y_points);\n",
    "plt.plot(x_points,hypothesis,'r');\n",
    "plt.show()"
   ]
  },
  {
   "cell_type": "code",
   "execution_count": 42,
   "metadata": {},
   "outputs": [],
   "source": [
    "from sklearn.metrics import r2_score"
   ]
  },
  {
   "cell_type": "code",
   "execution_count": 43,
   "metadata": {},
   "outputs": [
    {
     "data": {
      "text/plain": [
       "0.7623150679988931"
      ]
     },
     "execution_count": 43,
     "metadata": {},
     "output_type": "execute_result"
    }
   ],
   "source": [
    "r2_score(y_points, hypothesis)"
   ]
  },
  {
   "cell_type": "markdown",
   "metadata": {},
   "source": [
    "## Plot loss function\n",
    "### Repeat your last vectorized implementaion version and save loss for each iteration (epoch)"
   ]
  },
  {
   "cell_type": "code",
   "execution_count": 44,
   "metadata": {},
   "outputs": [
    {
     "data": {
      "image/png": "[encoded data removed]",
      "text/plain": [
       "<Figure size 432x288 with 1 Axes>"
      ]
     },
     "metadata": {
      "needs_background": "light"
     },
     "output_type": "display_data"
    }
   ],
   "source": [
    "#Already done in the gradient descent step\n",
    "plt.plot(cost)\n",
    "plt.xlabel('the number of iterations')\n",
    "plt.ylabel('cost function')\n",
    "plt.title('cost function values across iterations')\n",
    "plt.show()"
   ]
  },
  {
   "cell_type": "markdown",
   "metadata": {},
   "source": [
    "### Plot loss vs. iterations"
   ]
  },
  {
   "cell_type": "code",
   "execution_count": 45,
   "metadata": {},
   "outputs": [
    {
     "data": {
      "image/png": "[encoded data removed]",
      "text/plain": [
       "<Figure size 432x288 with 1 Axes>"
      ]
     },
     "metadata": {
      "needs_background": "light"
     },
     "output_type": "display_data"
    }
   ],
   "source": [
    "plt.plot(list(range(max_iterations)),cost);\n",
    "plt.show();"
   ]
  },
  {
   "cell_type": "markdown",
   "metadata": {},
   "source": [
    "## Multivariate LR"
   ]
  },
  {
   "cell_type": "markdown",
   "metadata": {},
   "source": [
    "#### Read MultipleLR csv file into numpy array  (check your data)\n",
    "##### Data source\n",
    "https://college.cengage.com/mathematics/brase/understandable_statistics/7e/students/datasets/slr/frames/frame.html\n"
   ]
  },
  {
   "cell_type": "code",
   "execution_count": 46,
   "metadata": {},
   "outputs": [
    {
     "name": "stdout",
     "output_type": "stream",
     "text": [
      "[[ 73.  80.  75. 152.]\n",
      " [ 93.  88.  93. 185.]\n",
      " [ 89.  91.  90. 180.]\n",
      " [ 96.  98. 100. 196.]\n",
      " [ 73.  66.  70. 142.]\n",
      " [ 53.  46.  55. 101.]\n",
      " [ 69.  74.  77. 149.]\n",
      " [ 47.  56.  60. 115.]\n",
      " [ 87.  79.  90. 175.]\n",
      " [ 79.  70.  88. 164.]\n",
      " [ 69.  70.  73. 141.]\n",
      " [ 70.  65.  74. 141.]\n",
      " [ 93.  95.  91. 184.]\n",
      " [ 79.  80.  73. 152.]\n",
      " [ 70.  73.  78. 148.]\n",
      " [ 93.  89.  96. 192.]\n",
      " [ 78.  75.  68. 147.]\n",
      " [ 81.  90.  93. 183.]\n",
      " [ 88.  92.  86. 177.]\n",
      " [ 78.  83.  77. 159.]\n",
      " [ 82.  86.  90. 177.]\n",
      " [ 86.  82.  89. 175.]\n",
      " [ 78.  83.  85. 175.]\n",
      " [ 76.  83.  71. 149.]\n",
      " [ 96.  93.  95. 192.]]\n"
     ]
    }
   ],
   "source": [
    "#Read Data into numpy array\n",
    "from numpy import genfromtxt\n",
    "\n",
    "data = genfromtxt('MultipleLR.csv', delimiter=',')\n",
    "print(data)"
   ]
  },
  {
   "cell_type": "code",
   "execution_count": 76,
   "metadata": {},
   "outputs": [
    {
     "name": "stdout",
     "output_type": "stream",
     "text": [
      "[[ 73.  80.  75.]\n",
      " [ 93.  88.  93.]\n",
      " [ 89.  91.  90.]\n",
      " [ 96.  98. 100.]\n",
      " [ 73.  66.  70.]\n",
      " [ 53.  46.  55.]\n",
      " [ 69.  74.  77.]\n",
      " [ 47.  56.  60.]\n",
      " [ 87.  79.  90.]\n",
      " [ 79.  70.  88.]\n",
      " [ 69.  70.  73.]\n",
      " [ 70.  65.  74.]\n",
      " [ 93.  95.  91.]\n",
      " [ 79.  80.  73.]\n",
      " [ 70.  73.  78.]\n",
      " [ 93.  89.  96.]\n",
      " [ 78.  75.  68.]\n",
      " [ 81.  90.  93.]\n",
      " [ 88.  92.  86.]\n",
      " [ 78.  83.  77.]\n",
      " [ 82.  86.  90.]\n",
      " [ 86.  82.  89.]\n",
      " [ 78.  83.  85.]\n",
      " [ 76.  83.  71.]\n",
      " [ 96.  93.  95.]]\n",
      "[[152.]\n",
      " [185.]\n",
      " [180.]\n",
      " [196.]\n",
      " [142.]\n",
      " [101.]\n",
      " [149.]\n",
      " [115.]\n",
      " [175.]\n",
      " [164.]\n",
      " [141.]\n",
      " [141.]\n",
      " [184.]\n",
      " [152.]\n",
      " [148.]\n",
      " [192.]\n",
      " [147.]\n",
      " [183.]\n",
      " [177.]\n",
      " [159.]\n",
      " [177.]\n",
      " [175.]\n",
      " [175.]\n",
      " [149.]\n",
      " [192.]]\n"
     ]
    },
    {
     "data": {
      "text/plain": [
       "(25, 1)"
      ]
     },
     "execution_count": 76,
     "metadata": {},
     "output_type": "execute_result"
    }
   ],
   "source": [
    "#print(arr)\n",
    "features= data[:,:-1]\n",
    "exact_output= data[:,-1].reshape(-1,1)\n",
    "print(features)\n",
    "print(exact_output)\n",
    "exact_output.shape"
   ]
  },
  {
   "cell_type": "code",
   "execution_count": 77,
   "metadata": {},
   "outputs": [
    {
     "name": "stdout",
     "output_type": "stream",
     "text": [
      "[1. 1. 1. 1. 1. 1. 1. 1. 1. 1. 1. 1. 1. 1. 1. 1. 1. 1. 1. 1. 1. 1. 1. 1.\n",
      " 1.]\n"
     ]
    }
   ],
   "source": [
    "# Create x_0 features and it equals ones\n",
    "ones=np.ones(features.shape[0])\n",
    "print(ones)"
   ]
  },
  {
   "cell_type": "code",
   "execution_count": 78,
   "metadata": {},
   "outputs": [
    {
     "name": "stdout",
     "output_type": "stream",
     "text": [
      "[[  1.  73.  80.  75.]\n",
      " [  1.  93.  88.  93.]\n",
      " [  1.  89.  91.  90.]\n",
      " [  1.  96.  98. 100.]\n",
      " [  1.  73.  66.  70.]\n",
      " [  1.  53.  46.  55.]\n",
      " [  1.  69.  74.  77.]\n",
      " [  1.  47.  56.  60.]\n",
      " [  1.  87.  79.  90.]\n",
      " [  1.  79.  70.  88.]\n",
      " [  1.  69.  70.  73.]\n",
      " [  1.  70.  65.  74.]\n",
      " [  1.  93.  95.  91.]\n",
      " [  1.  79.  80.  73.]\n",
      " [  1.  70.  73.  78.]\n",
      " [  1.  93.  89.  96.]\n",
      " [  1.  78.  75.  68.]\n",
      " [  1.  81.  90.  93.]\n",
      " [  1.  88.  92.  86.]\n",
      " [  1.  78.  83.  77.]\n",
      " [  1.  82.  86.  90.]\n",
      " [  1.  86.  82.  89.]\n",
      " [  1.  78.  83.  85.]\n",
      " [  1.  76.  83.  71.]\n",
      " [  1.  96.  93.  95.]] \n",
      "\n",
      " [[152.]\n",
      " [185.]\n",
      " [180.]\n",
      " [196.]\n",
      " [142.]\n",
      " [101.]\n",
      " [149.]\n",
      " [115.]\n",
      " [175.]\n",
      " [164.]\n",
      " [141.]\n",
      " [141.]\n",
      " [184.]\n",
      " [152.]\n",
      " [148.]\n",
      " [192.]\n",
      " [147.]\n",
      " [183.]\n",
      " [177.]\n",
      " [159.]\n",
      " [177.]\n",
      " [175.]\n",
      " [175.]\n",
      " [149.]\n",
      " [192.]]\n"
     ]
    }
   ],
   "source": [
    "# Add x_0 features to data\n",
    "features= np.insert(features, 0, ones, axis=1)\n",
    "print(features,'\\n\\n',exact_output)"
   ]
  },
  {
   "cell_type": "code",
   "execution_count": 79,
   "metadata": {},
   "outputs": [
    {
     "name": "stdout",
     "output_type": "stream",
     "text": [
      "25\n"
     ]
    }
   ],
   "source": [
    "print(len(features))"
   ]
  },
  {
   "cell_type": "code",
   "execution_count": 80,
   "metadata": {},
   "outputs": [
    {
     "name": "stdout",
     "output_type": "stream",
     "text": [
      "25\n"
     ]
    }
   ],
   "source": [
    "print(len(exact_output))"
   ]
  },
  {
   "cell_type": "code",
   "execution_count": 81,
   "metadata": {},
   "outputs": [
    {
     "data": {
      "text/plain": [
       "(4, 1)"
      ]
     },
     "execution_count": 81,
     "metadata": {},
     "output_type": "execute_result"
    }
   ],
   "source": [
    "# create x_0 vector\n",
    "thetas=np.zeros(features.shape[1])\n",
    "thetas.reshape(-1,1).shape\n",
    "\n",
    "\n"
   ]
  },
  {
   "cell_type": "code",
   "execution_count": 82,
   "metadata": {},
   "outputs": [],
   "source": [
    "def hypothesis2(x,thetas):\n",
    "    hypothesis= (x@thetas)\n",
    "    return hypothesis"
   ]
  },
  {
   "cell_type": "code",
   "execution_count": 83,
   "metadata": {},
   "outputs": [
    {
     "data": {
      "text/plain": [
       "array([0., 0., 0., 0., 0., 0., 0., 0., 0., 0., 0., 0., 0., 0., 0., 0., 0.,\n",
       "       0., 0., 0., 0., 0., 0., 0., 0.])"
      ]
     },
     "execution_count": 83,
     "metadata": {},
     "output_type": "execute_result"
    }
   ],
   "source": [
    "hypothesis2(features,thetas)\n"
   ]
  },
  {
   "cell_type": "code",
   "execution_count": 88,
   "metadata": {},
   "outputs": [],
   "source": [
    "def cost2(x,y,thetas):\n",
    "    hypothesis= hypothesis2(x,thetas).reshape(-1.1)\n",
    "    print(hypothesis)\n",
    "    mean_square_error= (1/(2*x.shape[0]))*((hypothesis-y).T((hypothesis-y)))\n",
    "    return mean_square_error"
   ]
  },
  {
   "cell_type": "code",
   "execution_count": null,
   "metadata": {},
   "outputs": [],
   "source": []
  },
  {
   "cell_type": "code",
   "execution_count": 89,
   "metadata": {},
   "outputs": [
    {
     "ename": "TypeError",
     "evalue": "'float' object cannot be interpreted as an integer",
     "output_type": "error",
     "traceback": [
      "\u001b[1;31m---------------------------------------------------------------------------\u001b[0m",
      "\u001b[1;31mTypeError\u001b[0m                                 Traceback (most recent call last)",
      "\u001b[1;32m<ipython-input-89-67534b3a3bae>\u001b[0m in \u001b[0;36m<module>\u001b[1;34m\u001b[0m\n\u001b[1;32m----> 1\u001b[1;33m \u001b[0mcost2\u001b[0m\u001b[1;33m(\u001b[0m\u001b[0mfeatures\u001b[0m\u001b[1;33m,\u001b[0m\u001b[0mexact_output\u001b[0m\u001b[1;33m,\u001b[0m\u001b[0mthetas\u001b[0m\u001b[1;33m)\u001b[0m\u001b[1;33m\u001b[0m\u001b[1;33m\u001b[0m\u001b[0m\n\u001b[0m\u001b[0;32m      2\u001b[0m \u001b[0mcost2\u001b[0m\u001b[1;33m\u001b[0m\u001b[1;33m\u001b[0m\u001b[0m\n",
      "\u001b[1;32m<ipython-input-88-4e5f904d9745>\u001b[0m in \u001b[0;36mcost2\u001b[1;34m(x, y, thetas)\u001b[0m\n\u001b[0;32m      1\u001b[0m \u001b[1;32mdef\u001b[0m \u001b[0mcost2\u001b[0m\u001b[1;33m(\u001b[0m\u001b[0mx\u001b[0m\u001b[1;33m,\u001b[0m\u001b[0my\u001b[0m\u001b[1;33m,\u001b[0m\u001b[0mthetas\u001b[0m\u001b[1;33m)\u001b[0m\u001b[1;33m:\u001b[0m\u001b[1;33m\u001b[0m\u001b[1;33m\u001b[0m\u001b[0m\n\u001b[1;32m----> 2\u001b[1;33m     \u001b[0mhypothesis\u001b[0m\u001b[1;33m=\u001b[0m \u001b[0mhypothesis2\u001b[0m\u001b[1;33m(\u001b[0m\u001b[0mx\u001b[0m\u001b[1;33m,\u001b[0m\u001b[0mthetas\u001b[0m\u001b[1;33m)\u001b[0m\u001b[1;33m.\u001b[0m\u001b[0mreshape\u001b[0m\u001b[1;33m(\u001b[0m\u001b[1;33m-\u001b[0m\u001b[1;36m1.1\u001b[0m\u001b[1;33m)\u001b[0m\u001b[1;33m\u001b[0m\u001b[1;33m\u001b[0m\u001b[0m\n\u001b[0m\u001b[0;32m      3\u001b[0m     \u001b[0mprint\u001b[0m\u001b[1;33m(\u001b[0m\u001b[0mhypothesis\u001b[0m\u001b[1;33m)\u001b[0m\u001b[1;33m\u001b[0m\u001b[1;33m\u001b[0m\u001b[0m\n\u001b[0;32m      4\u001b[0m     \u001b[0mmean_square_error\u001b[0m\u001b[1;33m=\u001b[0m \u001b[1;33m(\u001b[0m\u001b[1;36m1\u001b[0m\u001b[1;33m/\u001b[0m\u001b[1;33m(\u001b[0m\u001b[1;36m2\u001b[0m\u001b[1;33m*\u001b[0m\u001b[0mx\u001b[0m\u001b[1;33m.\u001b[0m\u001b[0mshape\u001b[0m\u001b[1;33m[\u001b[0m\u001b[1;36m0\u001b[0m\u001b[1;33m]\u001b[0m\u001b[1;33m)\u001b[0m\u001b[1;33m)\u001b[0m\u001b[1;33m*\u001b[0m\u001b[1;33m(\u001b[0m\u001b[1;33m(\u001b[0m\u001b[0mhypothesis\u001b[0m\u001b[1;33m-\u001b[0m\u001b[0my\u001b[0m\u001b[1;33m)\u001b[0m\u001b[1;33m.\u001b[0m\u001b[0mT\u001b[0m\u001b[1;33m(\u001b[0m\u001b[1;33m(\u001b[0m\u001b[0mhypothesis\u001b[0m\u001b[1;33m-\u001b[0m\u001b[0my\u001b[0m\u001b[1;33m)\u001b[0m\u001b[1;33m)\u001b[0m\u001b[1;33m)\u001b[0m\u001b[1;33m\u001b[0m\u001b[1;33m\u001b[0m\u001b[0m\n\u001b[0;32m      5\u001b[0m     \u001b[1;32mreturn\u001b[0m \u001b[0mmean_square_error\u001b[0m\u001b[1;33m\u001b[0m\u001b[1;33m\u001b[0m\u001b[0m\n",
      "\u001b[1;31mTypeError\u001b[0m: 'float' object cannot be interpreted as an integer"
     ]
    }
   ],
   "source": [
    "cost2(features,exact_output,thetas)\n",
    "cost2"
   ]
  },
  {
   "cell_type": "code",
   "execution_count": 57,
   "metadata": {},
   "outputs": [],
   "source": [
    "def GD2(x,y,thetas,alpha,iter):\n",
    "    errors=[]\n",
    "    for i in range(iter):\n",
    "        hypothesis=hypothesis2(x,thetas)\n",
    "        #print(hypothesis)\n",
    "        mean_err= (1/len(y))*(np.transpose(x)@(hypothesis-y))\n",
    "        #print(mean_err)\n",
    "        for j in range(len(thetas)):\n",
    "            thetas[j]= thetas[j]-alpha*mean_err[j]\n",
    "            errors.append(cost2(x,y,thetas))\n",
    "        return thetas,errors"
   ]
  },
  {
   "cell_type": "code",
   "execution_count": null,
   "metadata": {},
   "outputs": [],
   "source": [
    "\n",
    "        \n",
    "        "
   ]
  },
  {
   "cell_type": "markdown",
   "metadata": {},
   "source": [
    "### Repeat your implementation but for more than one variable"
   ]
  },
  {
   "cell_type": "code",
   "execution_count": 58,
   "metadata": {},
   "outputs": [],
   "source": [
    "#Already done in the pervious steps"
   ]
  },
  {
   "cell_type": "markdown",
   "metadata": {},
   "source": [
    "#### Predict y values using the LR equation\n",
    "##### h(x)= theta_0 + theta_1 * x1 + theta_2 * x2 + theta_3 * x3"
   ]
  },
  {
   "cell_type": "code",
   "execution_count": 59,
   "metadata": {},
   "outputs": [
    {
     "data": {
      "text/plain": [
       "array([0., 0., 0., 0., 0., 0., 0., 0., 0., 0., 0., 0., 0., 0., 0., 0., 0.,\n",
       "       0., 0., 0., 0., 0., 0., 0., 0.])"
      ]
     },
     "execution_count": 59,
     "metadata": {},
     "output_type": "execute_result"
    }
   ],
   "source": [
    "hypothesis2(features,thetas)"
   ]
  },
  {
   "cell_type": "markdown",
   "metadata": {},
   "source": [
    "### Plot loss vs. iterations"
   ]
  },
  {
   "cell_type": "code",
   "execution_count": 60,
   "metadata": {
    "scrolled": false
   },
   "outputs": [
    {
     "data": {
      "text/plain": [
       "[8215452.02005, 33103071359.72623, 135890687790.95168, 318376285896.7073]"
      ]
     },
     "execution_count": 60,
     "metadata": {},
     "output_type": "execute_result"
    }
   ],
   "source": [
    "iter=500\n",
    "alpha =0.01\n",
    "thetas,j2= GD2(features,exact_output,thetas,alpha,iter)\n",
    "j2"
   ]
  },
  {
   "cell_type": "code",
   "execution_count": 61,
   "metadata": {},
   "outputs": [
    {
     "name": "stdout",
     "output_type": "stream",
     "text": [
      "25\n"
     ]
    }
   ],
   "source": [
    "print(len(features))"
   ]
  },
  {
   "cell_type": "code",
   "execution_count": 62,
   "metadata": {},
   "outputs": [
    {
     "name": "stdout",
     "output_type": "stream",
     "text": [
      "25\n"
     ]
    }
   ],
   "source": [
    "print(len(exact_output))"
   ]
  },
  {
   "cell_type": "code",
   "execution_count": 63,
   "metadata": {},
   "outputs": [
    {
     "ename": "ValueError",
     "evalue": "x and y must have same first dimension, but have shapes (500,) and (4,)",
     "output_type": "error",
     "traceback": [
      "\u001b[1;31m---------------------------------------------------------------------------\u001b[0m",
      "\u001b[1;31mValueError\u001b[0m                                Traceback (most recent call last)",
      "\u001b[1;32m<ipython-input-63-e55a559ecb93>\u001b[0m in \u001b[0;36m<module>\u001b[1;34m\u001b[0m\n\u001b[1;32m----> 1\u001b[1;33m \u001b[0mplt\u001b[0m\u001b[1;33m.\u001b[0m\u001b[0mplot\u001b[0m\u001b[1;33m(\u001b[0m\u001b[0mlist\u001b[0m\u001b[1;33m(\u001b[0m\u001b[0mrange\u001b[0m\u001b[1;33m(\u001b[0m\u001b[0miter\u001b[0m\u001b[1;33m)\u001b[0m\u001b[1;33m)\u001b[0m\u001b[1;33m,\u001b[0m\u001b[0mj2\u001b[0m\u001b[1;33m)\u001b[0m\u001b[1;33m;\u001b[0m\u001b[1;33m\u001b[0m\u001b[1;33m\u001b[0m\u001b[0m\n\u001b[0m\u001b[0;32m      2\u001b[0m \u001b[0mplt\u001b[0m\u001b[1;33m.\u001b[0m\u001b[0mshow\u001b[0m\u001b[1;33m(\u001b[0m\u001b[1;33m)\u001b[0m\u001b[1;33m;\u001b[0m\u001b[1;33m\u001b[0m\u001b[1;33m\u001b[0m\u001b[0m\n",
      "\u001b[1;32m~\\AppData\\Roaming\\Python\\Python38\\site-packages\\matplotlib\\pyplot.py\u001b[0m in \u001b[0;36mplot\u001b[1;34m(scalex, scaley, data, *args, **kwargs)\u001b[0m\n\u001b[0;32m   3017\u001b[0m \u001b[1;33m@\u001b[0m\u001b[0m_copy_docstring_and_deprecators\u001b[0m\u001b[1;33m(\u001b[0m\u001b[0mAxes\u001b[0m\u001b[1;33m.\u001b[0m\u001b[0mplot\u001b[0m\u001b[1;33m)\u001b[0m\u001b[1;33m\u001b[0m\u001b[1;33m\u001b[0m\u001b[0m\n\u001b[0;32m   3018\u001b[0m \u001b[1;32mdef\u001b[0m \u001b[0mplot\u001b[0m\u001b[1;33m(\u001b[0m\u001b[1;33m*\u001b[0m\u001b[0margs\u001b[0m\u001b[1;33m,\u001b[0m \u001b[0mscalex\u001b[0m\u001b[1;33m=\u001b[0m\u001b[1;32mTrue\u001b[0m\u001b[1;33m,\u001b[0m \u001b[0mscaley\u001b[0m\u001b[1;33m=\u001b[0m\u001b[1;32mTrue\u001b[0m\u001b[1;33m,\u001b[0m \u001b[0mdata\u001b[0m\u001b[1;33m=\u001b[0m\u001b[1;32mNone\u001b[0m\u001b[1;33m,\u001b[0m \u001b[1;33m**\u001b[0m\u001b[0mkwargs\u001b[0m\u001b[1;33m)\u001b[0m\u001b[1;33m:\u001b[0m\u001b[1;33m\u001b[0m\u001b[1;33m\u001b[0m\u001b[0m\n\u001b[1;32m-> 3019\u001b[1;33m     return gca().plot(\n\u001b[0m\u001b[0;32m   3020\u001b[0m         \u001b[1;33m*\u001b[0m\u001b[0margs\u001b[0m\u001b[1;33m,\u001b[0m \u001b[0mscalex\u001b[0m\u001b[1;33m=\u001b[0m\u001b[0mscalex\u001b[0m\u001b[1;33m,\u001b[0m \u001b[0mscaley\u001b[0m\u001b[1;33m=\u001b[0m\u001b[0mscaley\u001b[0m\u001b[1;33m,\u001b[0m\u001b[1;33m\u001b[0m\u001b[1;33m\u001b[0m\u001b[0m\n\u001b[0;32m   3021\u001b[0m         **({\"data\": data} if data is not None else {}), **kwargs)\n",
      "\u001b[1;32m~\\AppData\\Roaming\\Python\\Python38\\site-packages\\matplotlib\\axes\\_axes.py\u001b[0m in \u001b[0;36mplot\u001b[1;34m(self, scalex, scaley, data, *args, **kwargs)\u001b[0m\n\u001b[0;32m   1603\u001b[0m         \"\"\"\n\u001b[0;32m   1604\u001b[0m         \u001b[0mkwargs\u001b[0m \u001b[1;33m=\u001b[0m \u001b[0mcbook\u001b[0m\u001b[1;33m.\u001b[0m\u001b[0mnormalize_kwargs\u001b[0m\u001b[1;33m(\u001b[0m\u001b[0mkwargs\u001b[0m\u001b[1;33m,\u001b[0m \u001b[0mmlines\u001b[0m\u001b[1;33m.\u001b[0m\u001b[0mLine2D\u001b[0m\u001b[1;33m)\u001b[0m\u001b[1;33m\u001b[0m\u001b[1;33m\u001b[0m\u001b[0m\n\u001b[1;32m-> 1605\u001b[1;33m         \u001b[0mlines\u001b[0m \u001b[1;33m=\u001b[0m \u001b[1;33m[\u001b[0m\u001b[1;33m*\u001b[0m\u001b[0mself\u001b[0m\u001b[1;33m.\u001b[0m\u001b[0m_get_lines\u001b[0m\u001b[1;33m(\u001b[0m\u001b[1;33m*\u001b[0m\u001b[0margs\u001b[0m\u001b[1;33m,\u001b[0m \u001b[0mdata\u001b[0m\u001b[1;33m=\u001b[0m\u001b[0mdata\u001b[0m\u001b[1;33m,\u001b[0m \u001b[1;33m**\u001b[0m\u001b[0mkwargs\u001b[0m\u001b[1;33m)\u001b[0m\u001b[1;33m]\u001b[0m\u001b[1;33m\u001b[0m\u001b[1;33m\u001b[0m\u001b[0m\n\u001b[0m\u001b[0;32m   1606\u001b[0m         \u001b[1;32mfor\u001b[0m \u001b[0mline\u001b[0m \u001b[1;32min\u001b[0m \u001b[0mlines\u001b[0m\u001b[1;33m:\u001b[0m\u001b[1;33m\u001b[0m\u001b[1;33m\u001b[0m\u001b[0m\n\u001b[0;32m   1607\u001b[0m             \u001b[0mself\u001b[0m\u001b[1;33m.\u001b[0m\u001b[0madd_line\u001b[0m\u001b[1;33m(\u001b[0m\u001b[0mline\u001b[0m\u001b[1;33m)\u001b[0m\u001b[1;33m\u001b[0m\u001b[1;33m\u001b[0m\u001b[0m\n",
      "\u001b[1;32m~\\AppData\\Roaming\\Python\\Python38\\site-packages\\matplotlib\\axes\\_base.py\u001b[0m in \u001b[0;36m__call__\u001b[1;34m(self, data, *args, **kwargs)\u001b[0m\n\u001b[0;32m    313\u001b[0m                 \u001b[0mthis\u001b[0m \u001b[1;33m+=\u001b[0m \u001b[0margs\u001b[0m\u001b[1;33m[\u001b[0m\u001b[1;36m0\u001b[0m\u001b[1;33m]\u001b[0m\u001b[1;33m,\u001b[0m\u001b[1;33m\u001b[0m\u001b[1;33m\u001b[0m\u001b[0m\n\u001b[0;32m    314\u001b[0m                 \u001b[0margs\u001b[0m \u001b[1;33m=\u001b[0m \u001b[0margs\u001b[0m\u001b[1;33m[\u001b[0m\u001b[1;36m1\u001b[0m\u001b[1;33m:\u001b[0m\u001b[1;33m]\u001b[0m\u001b[1;33m\u001b[0m\u001b[1;33m\u001b[0m\u001b[0m\n\u001b[1;32m--> 315\u001b[1;33m             \u001b[1;32myield\u001b[0m \u001b[1;32mfrom\u001b[0m \u001b[0mself\u001b[0m\u001b[1;33m.\u001b[0m\u001b[0m_plot_args\u001b[0m\u001b[1;33m(\u001b[0m\u001b[0mthis\u001b[0m\u001b[1;33m,\u001b[0m \u001b[0mkwargs\u001b[0m\u001b[1;33m)\u001b[0m\u001b[1;33m\u001b[0m\u001b[1;33m\u001b[0m\u001b[0m\n\u001b[0m\u001b[0;32m    316\u001b[0m \u001b[1;33m\u001b[0m\u001b[0m\n\u001b[0;32m    317\u001b[0m     \u001b[1;32mdef\u001b[0m \u001b[0mget_next_color\u001b[0m\u001b[1;33m(\u001b[0m\u001b[0mself\u001b[0m\u001b[1;33m)\u001b[0m\u001b[1;33m:\u001b[0m\u001b[1;33m\u001b[0m\u001b[1;33m\u001b[0m\u001b[0m\n",
      "\u001b[1;32m~\\AppData\\Roaming\\Python\\Python38\\site-packages\\matplotlib\\axes\\_base.py\u001b[0m in \u001b[0;36m_plot_args\u001b[1;34m(self, tup, kwargs, return_kwargs)\u001b[0m\n\u001b[0;32m    499\u001b[0m \u001b[1;33m\u001b[0m\u001b[0m\n\u001b[0;32m    500\u001b[0m         \u001b[1;32mif\u001b[0m \u001b[0mx\u001b[0m\u001b[1;33m.\u001b[0m\u001b[0mshape\u001b[0m\u001b[1;33m[\u001b[0m\u001b[1;36m0\u001b[0m\u001b[1;33m]\u001b[0m \u001b[1;33m!=\u001b[0m \u001b[0my\u001b[0m\u001b[1;33m.\u001b[0m\u001b[0mshape\u001b[0m\u001b[1;33m[\u001b[0m\u001b[1;36m0\u001b[0m\u001b[1;33m]\u001b[0m\u001b[1;33m:\u001b[0m\u001b[1;33m\u001b[0m\u001b[1;33m\u001b[0m\u001b[0m\n\u001b[1;32m--> 501\u001b[1;33m             raise ValueError(f\"x and y must have same first dimension, but \"\n\u001b[0m\u001b[0;32m    502\u001b[0m                              f\"have shapes {x.shape} and {y.shape}\")\n\u001b[0;32m    503\u001b[0m         \u001b[1;32mif\u001b[0m \u001b[0mx\u001b[0m\u001b[1;33m.\u001b[0m\u001b[0mndim\u001b[0m \u001b[1;33m>\u001b[0m \u001b[1;36m2\u001b[0m \u001b[1;32mor\u001b[0m \u001b[0my\u001b[0m\u001b[1;33m.\u001b[0m\u001b[0mndim\u001b[0m \u001b[1;33m>\u001b[0m \u001b[1;36m2\u001b[0m\u001b[1;33m:\u001b[0m\u001b[1;33m\u001b[0m\u001b[1;33m\u001b[0m\u001b[0m\n",
      "\u001b[1;31mValueError\u001b[0m: x and y must have same first dimension, but have shapes (500,) and (4,)"
     ]
    },
    {
     "data": {
      "image/png": "[encoded data removed]",
      "text/plain": [
       "<Figure size 432x288 with 1 Axes>"
      ]
     },
     "metadata": {
      "needs_background": "light"
     },
     "output_type": "display_data"
    }
   ],
   "source": [
    "plt.plot(list(range(iter)),j2);\n",
    "plt.show();"
   ]
  },
  {
   "cell_type": "code",
   "execution_count": null,
   "metadata": {},
   "outputs": [],
   "source": [
    "plt.scatter(features,exact_output);\n",
    "plt.plot(features,hypothesis2(features,thetas),'r');\n",
    "plt.show()"
   ]
  },
  {
   "cell_type": "markdown",
   "metadata": {},
   "source": [
    "#### Use R2 score to evaluate LR equation output"
   ]
  },
  {
   "cell_type": "code",
   "execution_count": null,
   "metadata": {},
   "outputs": [],
   "source": [
    "from sklearn.metrics import r2_score\n",
    "r2_score(exact_output, hypothesis2(features,thetas))"
   ]
  },
  {
   "cell_type": "markdown",
   "metadata": {},
   "source": [
    "# Bonus\n",
    "## LR Using sklearn"
   ]
  },
  {
   "cell_type": "markdown",
   "metadata": {},
   "source": [
    "### Single Variable"
   ]
  },
  {
   "cell_type": "markdown",
   "metadata": {},
   "source": [
    "#### Build a LR model usin linearmodel.LinearRegression() from sklearn library"
   ]
  },
  {
   "cell_type": "code",
   "execution_count": null,
   "metadata": {},
   "outputs": [],
   "source": [
    "from sklearn import linear_model as lm\n",
    "from array import array"
   ]
  },
  {
   "cell_type": "markdown",
   "metadata": {},
   "source": [
    "#### Train the model (fit the model to the training data)"
   ]
  },
  {
   "cell_type": "code",
   "execution_count": null,
   "metadata": {},
   "outputs": [],
   "source": [
    "\n",
    "reg = lm.LinearRegression().fit(x_points.reshape(-1, 1), y_points.reshape(-1, 1))\n",
    "reg.score(x_points.reshape(-1, 1), y_points.reshape(-1, 1))"
   ]
  },
  {
   "cell_type": "code",
   "execution_count": null,
   "metadata": {
    "scrolled": true
   },
   "outputs": [],
   "source": [
    "reg.coef_"
   ]
  },
  {
   "cell_type": "markdown",
   "metadata": {},
   "source": [
    "#### Predict y values using the trained model"
   ]
  },
  {
   "cell_type": "code",
   "execution_count": null,
   "metadata": {},
   "outputs": [],
   "source": [
    "pred=reg.predict(x_points.reshape(-1, 1))\n",
    "pred"
   ]
  },
  {
   "cell_type": "markdown",
   "metadata": {},
   "source": [
    "#### Plot model output (fitted line) with the original data (scatter plot of X,y)"
   ]
  },
  {
   "cell_type": "code",
   "execution_count": null,
   "metadata": {},
   "outputs": [],
   "source": [
    "plt.scatter(x_points,y_points);\n",
    "plt.plot(x_points,pred,'r');\n",
    "plt.show()"
   ]
  },
  {
   "cell_type": "markdown",
   "metadata": {},
   "source": [
    "#### Use R2 score to evaluate model output"
   ]
  },
  {
   "cell_type": "code",
   "execution_count": null,
   "metadata": {},
   "outputs": [],
   "source": [
    "r2_score(y_points,pred)"
   ]
  },
  {
   "cell_type": "code",
   "execution_count": null,
   "metadata": {},
   "outputs": [],
   "source": []
  },
  {
   "cell_type": "markdown",
   "metadata": {},
   "source": [
    "### Repeat for Mulivariate"
   ]
  },
  {
   "cell_type": "code",
   "execution_count": null,
   "metadata": {},
   "outputs": [],
   "source": []
  }
 ],
 "metadata": {
  "kernelspec": {
   "display_name": "Python 3",
   "language": "python",
   "name": "python3"
  },
  "language_info": {
   "codemirror_mode": {
    "name": "ipython",
    "version": 3
   },
   "file_extension": ".py",
   "mimetype": "text/x-python",
   "name": "python",
   "nbconvert_exporter": "python",
   "pygments_lexer": "ipython3",
   "version": "3.8.5"
  }
 },
 "nbformat": 4,
 "nbformat_minor": 4
}
