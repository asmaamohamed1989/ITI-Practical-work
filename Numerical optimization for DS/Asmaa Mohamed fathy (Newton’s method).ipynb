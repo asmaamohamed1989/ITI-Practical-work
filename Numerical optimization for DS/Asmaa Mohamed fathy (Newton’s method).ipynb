{
 "cells": [
  {
   "cell_type": "code",
   "execution_count": 9,
   "metadata": {},
   "outputs": [],
   "source": [
    "import math\n",
    "from numpy import sin\n",
    "from numpy import cos"
   ]
  },
  {
   "cell_type": "code",
   "execution_count": 10,
   "metadata": {},
   "outputs": [],
   "source": [
    "# F(x) function \n",
    "def f_Of_x(x):\n",
    "    return x*cos(x)-x**2"
   ]
  },
  {
   "cell_type": "code",
   "execution_count": 11,
   "metadata": {},
   "outputs": [],
   "source": [
    "# F'(x):Derivative of F(x) function \n",
    "def f_Dash_of_x(x):\n",
    "    return cos(x)-x*sin(x)-2*x"
   ]
  },
  {
   "cell_type": "code",
   "execution_count": 12,
   "metadata": {},
   "outputs": [
    {
     "name": "stdout",
     "output_type": "stream",
     "text": [
      "x 0 = 1 F(x)= -0.45969769413186023 F'(x)= -2.3011686789397565\n",
      "x 1 = 0.800232943226195 F(x)= -0.08297883948264939 F'(x)= -1.4781081319261755\n",
      "x 2 = 0.7440943984943447 F(x)= -0.006245054317481014 F'(x)= -1.25646670233434\n",
      "x 3 = 0.7391240683567624 F(x)= -4.816345411129408e-05 F'(x)= -1.237093363683119\n",
      "x 4 = 0.7390851356007351 F(x)= -2.9508167020964038e-09 F'(x)= -1.2369417788275363\n"
     ]
    }
   ],
   "source": [
    "# x0 = 1 the initial value to start with\n",
    "x = 1\n",
    "for i in range(1000):\n",
    "    x_old = x\n",
    "    print('x',i,'=',x,'F(x)=',f_Of_x(x),\"F'(x)=\",f_Dash_of_x(x))\n",
    "    x = x - f_Of_x(x)/f_Dash_of_x(x)\n",
    "    if round(x, 6) == round(x_old, 6):\n",
    "        break;\n",
    "# the round function rounds the float value to the number you entered, for example if \n",
    "# x = 4.375753855705814 \n",
    "# round(x, 3) = 4.375\n",
    "# round(x, 6) = 4.375754"
   ]
  },
  {
   "cell_type": "code",
   "execution_count": null,
   "metadata": {},
   "outputs": [],
   "source": []
  }
 ],
 "metadata": {
  "kernelspec": {
   "display_name": "Python 3",
   "language": "python",
   "name": "python3"
  },
  "language_info": {
   "codemirror_mode": {
    "name": "ipython",
    "version": 3
   },
   "file_extension": ".py",
   "mimetype": "text/x-python",
   "name": "python",
   "nbconvert_exporter": "python",
   "pygments_lexer": "ipython3",
   "version": "3.8.5"
  }
 },
 "nbformat": 4,
 "nbformat_minor": 4
}
