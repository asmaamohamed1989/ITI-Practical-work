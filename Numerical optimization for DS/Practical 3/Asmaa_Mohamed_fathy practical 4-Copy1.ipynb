{
 "cells": [
  {
   "cell_type": "markdown",
   "metadata": {
    "id": "5uIc54YBL8ZF"
   },
   "source": [
    "## Practical Work 4"
   ]
  },
  {
   "cell_type": "markdown",
   "metadata": {
    "id": "VQJ48dEBL8ZP"
   },
   "source": [
    "<b>(Adagrad, RMSProp, and Adam)</b> "
   ]
  },
  {
   "cell_type": "markdown",
   "metadata": {
    "id": "KUfb0GwAL8ZW"
   },
   "source": [
    "#### Import numpy, matplotlib.pyplot and make it inline"
   ]
  },
  {
   "cell_type": "code",
   "execution_count": 304,
   "metadata": {
    "id": "7N1Z-AO_L8Za"
   },
   "outputs": [],
   "source": [
    "import numpy as np\n",
    "import matplotlib.pyplot as plt\n",
    "import pandas as pd\n",
    "import sklearn\n",
    "%matplotlib inline"
   ]
  },
  {
   "cell_type": "markdown",
   "metadata": {
    "id": "wi73MtGXL8Zb"
   },
   "source": [
    "To have a dataset or set of data points, the student must generate a pair of arrays <b>X</b> and <b>y</b> with the values in <b>X</b> equally distributed between <b>0</b> and <b>20</b> and the values in <b>y</b> such that: \n",
    "<b>yi = a*xi + b (and a = -1, b = 2)</b>\n"
   ]
  },
  {
   "cell_type": "code",
   "execution_count": 305,
   "metadata": {
    "colab": {
     "base_uri": "https://localhost:8080/"
    },
    "id": "jHHUzfApL8Zd",
    "outputId": "e8938eea-25b9-4a74-886a-d42ed782cbb7"
   },
   "outputs": [
    {
     "name": "stdout",
     "output_type": "stream",
     "text": [
      "[ 0.          0.40816327  0.81632653  1.2244898   1.63265306  2.04081633\n",
      "  2.44897959  2.85714286  3.26530612  3.67346939  4.08163265  4.48979592\n",
      "  4.89795918  5.30612245  5.71428571  6.12244898  6.53061224  6.93877551\n",
      "  7.34693878  7.75510204  8.16326531  8.57142857  8.97959184  9.3877551\n",
      "  9.79591837 10.20408163 10.6122449  11.02040816 11.42857143 11.83673469\n",
      " 12.24489796 12.65306122 13.06122449 13.46938776 13.87755102 14.28571429\n",
      " 14.69387755 15.10204082 15.51020408 15.91836735 16.32653061 16.73469388\n",
      " 17.14285714 17.55102041 17.95918367 18.36734694 18.7755102  19.18367347\n",
      " 19.59183673 20.        ]\n"
     ]
    }
   ],
   "source": [
    "a=-2\n",
    "b=1\n",
    "\n",
    "x=np.linspace(0,20)\n",
    "print(x)"
   ]
  },
  {
   "cell_type": "code",
   "execution_count": 306,
   "metadata": {},
   "outputs": [
    {
     "name": "stdout",
     "output_type": "stream",
     "text": [
      "[  1.           0.18367347  -0.63265306  -1.44897959  -2.26530612\n",
      "  -3.08163265  -3.89795918  -4.71428571  -5.53061224  -6.34693878\n",
      "  -7.16326531  -7.97959184  -8.79591837  -9.6122449  -10.42857143\n",
      " -11.24489796 -12.06122449 -12.87755102 -13.69387755 -14.51020408\n",
      " -15.32653061 -16.14285714 -16.95918367 -17.7755102  -18.59183673\n",
      " -19.40816327 -20.2244898  -21.04081633 -21.85714286 -22.67346939\n",
      " -23.48979592 -24.30612245 -25.12244898 -25.93877551 -26.75510204\n",
      " -27.57142857 -28.3877551  -29.20408163 -30.02040816 -30.83673469\n",
      " -31.65306122 -32.46938776 -33.28571429 -34.10204082 -34.91836735\n",
      " -35.73469388 -36.55102041 -37.36734694 -38.18367347 -39.        ]\n"
     ]
    }
   ],
   "source": [
    "y=a*x+b\n",
    "\n",
    "\n",
    "print(y)\n"
   ]
  },
  {
   "cell_type": "markdown",
   "metadata": {
    "id": "pb_kffcIL8Zh"
   },
   "source": [
    "#### Plot your data points. "
   ]
  },
  {
   "cell_type": "code",
   "execution_count": 307,
   "metadata": {
    "colab": {
     "base_uri": "https://localhost:8080/",
     "height": 265
    },
    "id": "FELKon0AL8Zx",
    "outputId": "ed065ab8-a83a-4e29-9767-e5fe22b00e14",
    "scrolled": false
   },
   "outputs": [
    {
     "data": {
      "text/plain": [
       "[<matplotlib.lines.Line2D at 0x2222796afd0>]"
      ]
     },
     "execution_count": 307,
     "metadata": {},
     "output_type": "execute_result"
    },
    {
     "data": {
      "image/png": "[encoded data removed]",
      "text/plain": [
       "<Figure size 432x288 with 1 Axes>"
      ]
     },
     "metadata": {
      "needs_background": "light"
     },
     "output_type": "display_data"
    }
   ],
   "source": [
    "plt.plot(x,y)"
   ]
  },
  {
   "cell_type": "markdown",
   "metadata": {
    "id": "-MU4FLs_L8Z1"
   },
   "source": [
    "## Adagrad"
   ]
  },
  {
   "cell_type": "code",
   "execution_count": 308,
   "metadata": {
    "id": "yDYzVKD5L8Z7"
   },
   "outputs": [],
   "source": [
    "def Adagrad(x,y,learning_rate,epslon,Max_iterations):\n",
    "    theta0=0\n",
    "    theta1=1\n",
    "    v0=0\n",
    "    v1=0\n",
    "    m=len(x)\n",
    "    alpha=learning_rate\n",
    "    theta0arr=[]\n",
    "    theta1arr=[]\n",
    "    lossarr=[]\n",
    "    harr=[]\n",
    "    \n",
    "    for i in range(Max_iterations):\n",
    "        h=theta0 + theta1 * x\n",
    "        harr.append(h)\n",
    "        \n",
    "        loss=(1/(2*m))*np.sum((h-y)**2)\n",
    "        lossarr.append(loss)\n",
    "\n",
    "        theta0arr.append(theta0)\n",
    "        theta1arr.append(theta1)\n",
    "        \n",
    "        gradient0=(1/m)*np.sum(h-y)\n",
    "        v0 = v0 + (gradient0**2)\n",
    "        theta0 = theta0 - (alpha/(np.sqrt(v0)+epslon)*gradient0)\n",
    "        \n",
    "        gradient1=(1/m)*np.sum((h-y)*x)\n",
    "        v1 = v1 + (gradient1**2)\n",
    "        theta1 = theta1 - (alpha/(np.sqrt(v1)+epslon)*gradient1)\n",
    "        \n",
    "        if loss < 0.1:\n",
    "            break;\n",
    "            \n",
    "            \n",
    "    return theta0arr,theta1arr,lossarr,harr,theta0,theta1,h\n",
    "    \n",
    "        \n"
   ]
  },
  {
   "cell_type": "code",
   "execution_count": 309,
   "metadata": {},
   "outputs": [],
   "source": [
    "theta0arr , theta1arr , lossarr , harr , theta0 , theta1 ,h = Adagrad (x,y,0.5,1e-8,1000)"
   ]
  },
  {
   "cell_type": "markdown",
   "metadata": {},
   "source": [
    "#### Calculate r2 score"
   ]
  },
  {
   "cell_type": "code",
   "execution_count": 310,
   "metadata": {},
   "outputs": [],
   "source": [
    "import sklearn\n",
    "from sklearn.metrics import r2_score"
   ]
  },
  {
   "cell_type": "code",
   "execution_count": 311,
   "metadata": {},
   "outputs": [
    {
     "data": {
      "text/plain": [
       "0.9984572073135131"
      ]
     },
     "execution_count": 311,
     "metadata": {},
     "output_type": "execute_result"
    }
   ],
   "source": [
    "sklearn.metrics.r2_score(h,y)"
   ]
  },
  {
   "cell_type": "markdown",
   "metadata": {},
   "source": [
    "#### Plot loss vs. epochs"
   ]
  },
  {
   "cell_type": "code",
   "execution_count": 312,
   "metadata": {},
   "outputs": [
    {
     "data": {
      "image/png": "[encoded data removed]",
      "text/plain": [
       "<Figure size 432x288 with 1 Axes>"
      ]
     },
     "metadata": {
      "needs_background": "light"
     },
     "output_type": "display_data"
    }
   ],
   "source": [
    "plt.plot(lossarr) \n",
    "plt.title('Loss vs Epochs')                   ###Loss vs epochs\n",
    "plt.show()"
   ]
  },
  {
   "cell_type": "markdown",
   "metadata": {},
   "source": [
    "#### Plot Theta_0 vs. loss and Theta_1 vs. loss"
   ]
  },
  {
   "cell_type": "code",
   "execution_count": 313,
   "metadata": {},
   "outputs": [
    {
     "data": {
      "image/png": "[encoded data removed]",
      "text/plain": [
       "<Figure size 432x288 with 1 Axes>"
      ]
     },
     "metadata": {
      "needs_background": "light"
     },
     "output_type": "display_data"
    }
   ],
   "source": [
    "plt.plot(theta0arr, lossarr)\n",
    "plt.xlabel('theta_0')\n",
    "plt.ylabel('cost')\n",
    "plt.title('Theta_0 vs. loss')\n",
    "plt.show()"
   ]
  },
  {
   "cell_type": "code",
   "execution_count": 314,
   "metadata": {},
   "outputs": [
    {
     "data": {
      "image/png": "[encoded data removed]",
      "text/plain": [
       "<Figure size 432x288 with 1 Axes>"
      ]
     },
     "metadata": {
      "needs_background": "light"
     },
     "output_type": "display_data"
    }
   ],
   "source": [
    "plt.plot(theta1arr, lossarr)\n",
    "plt.xlabel('theta_1')\n",
    "plt.ylabel('cost')\n",
    "plt.title('Theta_1 vs. loss')\n",
    "plt.show()"
   ]
  },
  {
   "cell_type": "markdown",
   "metadata": {},
   "source": [
    "#### Plot all regression lines till converge"
   ]
  },
  {
   "cell_type": "code",
   "execution_count": 315,
   "metadata": {},
   "outputs": [
    {
     "data": {
      "image/png": "[encoded data removed]",
      "text/plain": [
       "<Figure size 432x288 with 1 Axes>"
      ]
     },
     "metadata": {
      "needs_background": "light"
     },
     "output_type": "display_data"
    }
   ],
   "source": [
    "for i in range(len(harr)):\n",
    "    plt.plot(x,harr[i])\n",
    "    plt.scatter(x,y,color=\"Red\")\n",
    "plt.show()"
   ]
  },
  {
   "cell_type": "markdown",
   "metadata": {},
   "source": [
    "#### Plot the best regression line"
   ]
  },
  {
   "cell_type": "code",
   "execution_count": 316,
   "metadata": {},
   "outputs": [
    {
     "data": {
      "image/png": "[encoded data removed]",
      "text/plain": [
       "<Figure size 432x288 with 1 Axes>"
      ]
     },
     "metadata": {
      "needs_background": "light"
     },
     "output_type": "display_data"
    }
   ],
   "source": [
    "plt.scatter(x,y,color=\"red\")\n",
    "plt.plot(x,h)\n",
    "plt.title('Best regression line - using optimum thetas')\n",
    "plt.show()"
   ]
  },
  {
   "cell_type": "markdown",
   "metadata": {
    "id": "ABR-_eJXL8aM"
   },
   "source": [
    "## RMSProp"
   ]
  },
  {
   "cell_type": "code",
   "execution_count": 317,
   "metadata": {},
   "outputs": [],
   "source": [
    "def RMSProp(x,y,learning_rate,epslon,Max_iterations,beta):\n",
    "    theta0=0\n",
    "    theta1=1\n",
    "    v0=0\n",
    "    v1=0\n",
    "    m=len(x)\n",
    "    alpha=learning_rate\n",
    "    theta0arr=[]\n",
    "    theta1arr=[]\n",
    "    lossarr=[]\n",
    "    harr=[]\n",
    "    \n",
    "    for i in range(Max_iterations):\n",
    "        h=theta0 + theta1 * x\n",
    "        harr.append(h)\n",
    "        \n",
    "        loss=(1/(2*m))*np.sum((h-y)**2)\n",
    "        lossarr.append(loss)\n",
    "\n",
    "        theta0arr.append(theta0)\n",
    "        theta1arr.append(theta1)\n",
    "        \n",
    "        gradient0=(1/m)*np.sum(h-y)\n",
    "        v0 = beta * v0 + (1-beta) *(gradient0**2)\n",
    "        theta0 = theta0 - (alpha/(np.sqrt(v0)+epslon)*gradient0)\n",
    "        \n",
    "        gradient1=(1/m)*np.sum((h-y)*x)\n",
    "        v1 = beta * v1 + (1-beta) * (gradient1**2)\n",
    "        theta1 = theta1 - (alpha/(np.sqrt(v1)+epslon)*gradient1)\n",
    "        \n",
    "        if loss < 0.1:\n",
    "            break;\n",
    "            \n",
    "            \n",
    "    return theta0arr,theta1arr,lossarr,harr,theta0,theta1\n",
    "    "
   ]
  },
  {
   "cell_type": "code",
   "execution_count": 318,
   "metadata": {},
   "outputs": [],
   "source": [
    "theta0arr , theta1arr , lossarr , harr , theta0 , theta1 = RMSProp(x,y,0.25,1e-8,130,0.98)"
   ]
  },
  {
   "cell_type": "markdown",
   "metadata": {},
   "source": [
    "#### Calculate r2 score"
   ]
  },
  {
   "cell_type": "code",
   "execution_count": 319,
   "metadata": {},
   "outputs": [],
   "source": [
    "import sklearn\n",
    "from sklearn.metrics import r2_score"
   ]
  },
  {
   "cell_type": "code",
   "execution_count": 320,
   "metadata": {},
   "outputs": [
    {
     "data": {
      "text/plain": [
       "0.9984572073135131"
      ]
     },
     "execution_count": 320,
     "metadata": {},
     "output_type": "execute_result"
    }
   ],
   "source": [
    "sklearn.metrics.r2_score(h,y)"
   ]
  },
  {
   "cell_type": "code",
   "execution_count": 321,
   "metadata": {
    "id": "WJvG93YuL8aP"
   },
   "outputs": [
    {
     "data": {
      "text/plain": [
       "[0,\n",
       " -1.767766948656023,\n",
       " -2.3259978563231924,\n",
       " -2.507391838183567,\n",
       " -2.5449895414193247,\n",
       " -2.5271803840509497,\n",
       " -2.488405442059198,\n",
       " -2.4419316500183554,\n",
       " -2.392786185951125,\n",
       " -2.3428427856634233,\n",
       " -2.292789595951673,\n",
       " -2.2428770502280444,\n",
       " -2.193196951729943,\n",
       " -2.1437846895503907,\n",
       " -2.094655963362465,\n",
       " -2.045819718997952,\n",
       " -1.9972826118733142,\n",
       " -1.9490505139643868,\n",
       " -1.901129010511241,\n",
       " -1.853523558884056,\n",
       " -1.8062395369651585,\n",
       " -1.7592822562184607,\n",
       " -1.7126569637333042,\n",
       " -1.666368840905061,\n",
       " -1.6204230011116805,\n",
       " -1.5748244870951036,\n",
       " -1.5295782682559393,\n",
       " -1.484689237922027,\n",
       " -1.440162210609097,\n",
       " -1.3960019192799604,\n",
       " -1.352213012605515,\n",
       " -1.308800052230099,\n",
       " -1.265767510043578,\n",
       " -1.223119765462579,\n",
       " -1.1808611027233573,\n",
       " -1.138995708188842,\n",
       " -1.0975276676724977,\n",
       " -1.0564609637817048,\n",
       " -1.0157994732834397,\n",
       " -0.975546964495107,\n",
       " -0.935707094703448,\n",
       " -0.8962834076145187,\n",
       " -0.8572793308377961,\n",
       " -0.8186981734075358,\n",
       " -0.780543123344566,\n",
       " -0.7428172452617586,\n",
       " -0.7055234780164739,\n",
       " -0.6686646324133242,\n",
       " -0.6322433889606481,\n",
       " -0.5962622956841286,\n",
       " -0.5607237660010239,\n",
       " -0.5256300766585111,\n",
       " -0.49098336573966944,\n",
       " -0.4567856307406441,\n",
       " -0.4230387267225551,\n",
       " -0.3897443645417109,\n",
       " -0.35690410916169146,\n",
       " -0.3245193780508617,\n",
       " -0.29259143966885,\n",
       " -0.2611214120455173,\n",
       " -0.23011026145589833,\n",
       " -0.19955880119456632,\n",
       " -0.16946769045281673,\n",
       " -0.13983743330201784,\n",
       " -0.11066837778639808,\n",
       " -0.08196071512847342,\n",
       " -0.05371447905023066,\n",
       " -0.025929545213085783,\n",
       " 0.0013943692204687781,\n",
       " 0.028257705900718345,\n",
       " 0.0546610654774157,\n",
       " 0.08060520765675008,\n",
       " 0.10609105112620665,\n",
       " 0.13111967334506344]"
      ]
     },
     "execution_count": 321,
     "metadata": {},
     "output_type": "execute_result"
    }
   ],
   "source": [
    "theta0arr"
   ]
  },
  {
   "cell_type": "code",
   "execution_count": 322,
   "metadata": {},
   "outputs": [
    {
     "data": {
      "text/plain": [
       "[1,\n",
       " -0.767766952649175,\n",
       " -1.358419483160315,\n",
       " -1.5858474037752812,\n",
       " -1.6752381215259338,\n",
       " -1.7113916372654197,\n",
       " -1.7272522798096972,\n",
       " -1.735496126509077,\n",
       " -1.740922617920465,\n",
       " -1.7453173423186088,\n",
       " -1.74933254180998,\n",
       " -1.7532018961696,\n",
       " -1.7570073546745921,\n",
       " -1.76077690884869,\n",
       " -1.7645197384006752,\n",
       " -1.7682385980950486,\n",
       " -1.77193409555501,\n",
       " -1.7756061380162986,\n",
       " -1.7792544112309612,\n",
       " -1.7828785345820837,\n",
       " -1.7864781102726737,\n",
       " -1.790052738653515,\n",
       " -1.7936020229827632,\n",
       " -1.7971255709680534,\n",
       " -1.8006229953541273,\n",
       " -1.8040939142349794,\n",
       " -1.8075379512888325,\n",
       " -1.8109547359922096,\n",
       " -1.8143439038285405,\n",
       " -1.8177050964953227,\n",
       " -1.8210379621107609,\n",
       " -1.8243421554199923,\n",
       " -1.8276173380007907,\n",
       " -1.8308631784685838,\n",
       " -1.8340793526806038,\n",
       " -1.83726554393898,\n",
       " -1.8404214431925758,\n",
       " -1.843546749237367,\n",
       " -1.8466411689151543,\n",
       " -1.8497044173103943,\n",
       " -1.8527362179449283,\n",
       " -1.8557363029703862,\n",
       " -1.8587044133580328,\n",
       " -1.8616402990858236,\n",
       " -1.8645437193224275,\n",
       " -1.8674144426079735,\n",
       " -1.8702522470312741,\n",
       " -1.8730569204032697,\n",
       " -1.875828260426439,\n",
       " -1.8785660748599173,\n",
       " -1.8812701816800597,\n",
       " -1.8839404092361813,\n",
       " -1.8865765964012144,\n",
       " -1.8891785927170046,\n",
       " -1.8917462585339857,\n",
       " -1.8942794651449568,\n",
       " -1.8967780949126918,\n",
       " -1.8992420413911157,\n",
       " -1.9016712094397712,\n",
       " -1.9040655153313157,\n",
       " -1.9064248868517784,\n",
       " -1.9087492633933176,\n",
       " -1.9110385960392167,\n",
       " -1.9132928476408684,\n",
       " -1.915511992886494,\n",
       " -1.9176960183613534,\n",
       " -1.9198449225992107,\n",
       " -1.9219587161248235,\n",
       " -1.9240374214872284,\n",
       " -1.9260810732836195,\n",
       " -1.9280897181735992,\n",
       " -1.9300634148836218,\n",
       " -1.932002234201434,\n",
       " -1.9339062589603468]"
      ]
     },
     "execution_count": 322,
     "metadata": {},
     "output_type": "execute_result"
    }
   ],
   "source": [
    "theta1arr"
   ]
  },
  {
   "cell_type": "code",
   "execution_count": 323,
   "metadata": {},
   "outputs": [
    {
     "data": {
      "text/plain": [
       "[576.6224489795919,\n",
       " 71.98440412697289,\n",
       " 11.913897993484907,\n",
       " 3.1764511460126768,\n",
       " 1.8738011335353206,\n",
       " 1.6504120968367821,\n",
       " 1.579967547183717,\n",
       " 1.5311508780132517,\n",
       " 1.4859573540621462,\n",
       " 1.4419998351328849,\n",
       " 1.3989689873754834,\n",
       " 1.3568218829364402,\n",
       " 1.315548311205543,\n",
       " 1.2751417291918734,\n",
       " 1.235595784999646,\n",
       " 1.1969039197188227,\n",
       " 1.159059326953832,\n",
       " 1.1220549528764021,\n",
       " 1.0858835010057137,\n",
       " 1.0505374377287733,\n",
       " 1.016008998095632,\n",
       " 0.9822901918221785,\n",
       " 0.9493728094839982,\n",
       " 0.9172484288931617,\n",
       " 0.88590842165144,\n",
       " 0.8553439598736956,\n",
       " 0.8255460230750231,\n",
       " 0.7965054052149827,\n",
       " 0.7682127218919846,\n",
       " 0.7406584176805725,\n",
       " 0.7138327736041147,\n",
       " 0.687725914735098,\n",
       " 0.6623278179149706,\n",
       " 0.6376283195852268,\n",
       " 0.6136171237211405,\n",
       " 0.5902838098593651,\n",
       " 0.5676178412103324,\n",
       " 0.5456085728461958,\n",
       " 0.5242452599548512,\n",
       " 0.5035170661503555,\n",
       " 0.4834130718299058,\n",
       " 0.4639222825673475,\n",
       " 0.44503363753305797,\n",
       " 0.4267360179298847,\n",
       " 0.40901825543472087,\n",
       " 0.39186914063519446,\n",
       " 0.37527743145085224,\n",
       " 0.35923186152816416,\n",
       " 0.3437211485986426,\n",
       " 0.32873400278931514,\n",
       " 0.31425913487481655,\n",
       " 0.3002852644603696,\n",
       " 0.2868011280849611,\n",
       " 0.27379548723410163,\n",
       " 0.261257136251624,\n",
       " 0.24917491014007986,\n",
       " 0.23753769223947532,\n",
       " 0.226334421774162,\n",
       " 0.2155541012579662,\n",
       " 0.20518580374778028,\n",
       " 0.1952186799361072,\n",
       " 0.18564196507328137,\n",
       " 0.17644498571038,\n",
       " 0.16761716625413717,\n",
       " 0.15914803532547797,\n",
       " 0.15102723191367376,\n",
       " 0.14324451131845284,\n",
       " 0.1357897508728068,\n",
       " 0.12865295543965102,\n",
       " 0.12182426267590363,\n",
       " 0.11529394805803599,\n",
       " 0.10905242966357197,\n",
       " 0.10309027270353442,\n",
       " 0.09739819380131506]"
      ]
     },
     "execution_count": 323,
     "metadata": {},
     "output_type": "execute_result"
    }
   ],
   "source": [
    "lossarr"
   ]
  },
  {
   "cell_type": "code",
   "execution_count": 324,
   "metadata": {},
   "outputs": [
    {
     "data": {
      "text/plain": [
       "[array([ 0.        ,  0.40816327,  0.81632653,  1.2244898 ,  1.63265306,\n",
       "         2.04081633,  2.44897959,  2.85714286,  3.26530612,  3.67346939,\n",
       "         4.08163265,  4.48979592,  4.89795918,  5.30612245,  5.71428571,\n",
       "         6.12244898,  6.53061224,  6.93877551,  7.34693878,  7.75510204,\n",
       "         8.16326531,  8.57142857,  8.97959184,  9.3877551 ,  9.79591837,\n",
       "        10.20408163, 10.6122449 , 11.02040816, 11.42857143, 11.83673469,\n",
       "        12.24489796, 12.65306122, 13.06122449, 13.46938776, 13.87755102,\n",
       "        14.28571429, 14.69387755, 15.10204082, 15.51020408, 15.91836735,\n",
       "        16.32653061, 16.73469388, 17.14285714, 17.55102041, 17.95918367,\n",
       "        18.36734694, 18.7755102 , 19.18367347, 19.59183673, 20.        ]),\n",
       " array([ -1.76776695,  -2.08114122,  -2.39451548,  -2.70788975,\n",
       "         -3.02126401,  -3.33463828,  -3.64801255,  -3.96138681,\n",
       "         -4.27476108,  -4.58813535,  -4.90150961,  -5.21488388,\n",
       "         -5.52825815,  -5.84163241,  -6.15500668,  -6.46838094,\n",
       "         -6.78175521,  -7.09512948,  -7.40850374,  -7.72187801,\n",
       "         -8.03525228,  -8.34862654,  -8.66200081,  -8.97537508,\n",
       "         -9.28874934,  -9.60212361,  -9.91549787, -10.22887214,\n",
       "        -10.54224641, -10.85562067, -11.16899494, -11.48236921,\n",
       "        -11.79574347, -12.10911774, -12.42249201, -12.73586627,\n",
       "        -13.04924054, -13.3626148 , -13.67598907, -13.98936334,\n",
       "        -14.3027376 , -14.61611187, -14.92948614, -15.2428604 ,\n",
       "        -15.55623467, -15.86960894, -16.1829832 , -16.49635747,\n",
       "        -16.80973174, -17.123106  ]),\n",
       " array([ -2.32599786,  -2.88045479,  -3.43491172,  -3.98936865,\n",
       "         -4.54382558,  -5.09828252,  -5.65273945,  -6.20719638,\n",
       "         -6.76165331,  -7.31611024,  -7.87056718,  -8.42502411,\n",
       "         -8.97948104,  -9.53393797, -10.0883949 , -10.64285183,\n",
       "        -11.19730877, -11.7517657 , -12.30622263, -12.86067956,\n",
       "        -13.41513649, -13.96959343, -14.52405036, -15.07850729,\n",
       "        -15.63296422, -16.18742115, -16.74187809, -17.29633502,\n",
       "        -17.85079195, -18.40524888, -18.95970581, -19.51416275,\n",
       "        -20.06861968, -20.62307661, -21.17753354, -21.73199047,\n",
       "        -22.2864474 , -22.84090434, -23.39536127, -23.9498182 ,\n",
       "        -24.50427513, -25.05873206, -25.613189  , -26.16764593,\n",
       "        -26.72210286, -27.27655979, -27.83101672, -28.38547366,\n",
       "        -28.93993059, -29.49438752]),\n",
       " array([ -2.50739184,  -3.15467649,  -3.80196115,  -4.4492458 ,\n",
       "         -5.09653046,  -5.74381511,  -6.39109977,  -7.03838442,\n",
       "         -7.68566908,  -8.33295373,  -8.98023838,  -9.62752304,\n",
       "        -10.27480769, -10.92209235, -11.569377  , -12.21666166,\n",
       "        -12.86394631, -13.51123097, -14.15851562, -14.80580028,\n",
       "        -15.45308493, -16.10036958, -16.74765424, -17.39493889,\n",
       "        -18.04222355, -18.6895082 , -19.33679286, -19.98407751,\n",
       "        -20.63136217, -21.27864682, -21.92593148, -22.57321613,\n",
       "        -23.22050079, -23.86778544, -24.51507009, -25.16235475,\n",
       "        -25.8096394 , -26.45692406, -27.10420871, -27.75149337,\n",
       "        -28.39877802, -29.04606268, -29.69334733, -30.34063199,\n",
       "        -30.98791664, -31.6352013 , -32.28248595, -32.9297706 ,\n",
       "        -33.57705526, -34.22433991]),\n",
       " array([ -2.54498954,  -3.2287602 ,  -3.91253087,  -4.59630153,\n",
       "         -5.28007219,  -5.96384285,  -6.64761351,  -7.33138417,\n",
       "         -8.01515484,  -8.6989255 ,  -9.38269616, -10.06646682,\n",
       "        -10.75023748, -11.43400815, -12.11777881, -12.80154947,\n",
       "        -13.48532013, -14.16909079, -14.85286145, -15.53663212,\n",
       "        -16.22040278, -16.90417344, -17.5879441 , -18.27171476,\n",
       "        -18.95548543, -19.63925609, -20.32302675, -21.00679741,\n",
       "        -21.69056807, -22.37433873, -23.0581094 , -23.74188006,\n",
       "        -24.42565072, -25.10942138, -25.79319204, -26.47696271,\n",
       "        -27.16073337, -27.84450403, -28.52827469, -29.21204535,\n",
       "        -29.89581602, -30.57958668, -31.26335734, -31.947128  ,\n",
       "        -32.63089866, -33.31466932, -33.99843999, -34.68221065,\n",
       "        -35.36598131, -36.04975197]),\n",
       " array([ -2.52718038,  -3.22570758,  -3.92423478,  -4.62276198,\n",
       "         -5.32128918,  -6.01981638,  -6.71834358,  -7.41687078,\n",
       "         -8.11539798,  -8.81392517,  -9.51245237, -10.21097957,\n",
       "        -10.90950677, -11.60803397, -12.30656117, -13.00508837,\n",
       "        -13.70361557, -14.40214277, -15.10066996, -15.79919716,\n",
       "        -16.49772436, -17.19625156, -17.89477876, -18.59330596,\n",
       "        -19.29183316, -19.99036036, -20.68888756, -21.38741475,\n",
       "        -22.08594195, -22.78446915, -23.48299635, -24.18152355,\n",
       "        -24.88005075, -25.57857795, -26.27710515, -26.97563234,\n",
       "        -27.67415954, -28.37268674, -29.07121394, -29.76974114,\n",
       "        -30.46826834, -31.16679554, -31.86532274, -32.56384994,\n",
       "        -33.26237713, -33.96090433, -34.65943153, -35.35795873,\n",
       "        -36.05648593, -36.75501313]),\n",
       " array([ -2.48840544,  -3.19340637,  -3.8984073 ,  -4.60340823,\n",
       "         -5.30840916,  -6.01341009,  -6.71841103,  -7.42341196,\n",
       "         -8.12841289,  -8.83341382,  -9.53841475, -10.24341568,\n",
       "        -10.94841661, -11.65341754, -12.35841847, -13.0634194 ,\n",
       "        -13.76842033, -14.47342126, -15.17842219, -15.88342312,\n",
       "        -16.58842405, -17.29342498, -17.99842591, -18.70342684,\n",
       "        -19.40842777, -20.11342871, -20.81842964, -21.52343057,\n",
       "        -22.2284315 , -22.93343243, -23.63843336, -24.34343429,\n",
       "        -25.04843522, -25.75343615, -26.45843708, -27.16343801,\n",
       "        -27.86843894, -28.57343987, -29.2784408 , -29.98344173,\n",
       "        -30.68844266, -31.39344359, -32.09844452, -32.80344546,\n",
       "        -33.50844639, -34.21344732, -34.91844825, -35.62344918,\n",
       "        -36.32845011, -37.03345104]),\n",
       " array([ -2.44193165,  -3.15029742,  -3.85866318,  -4.56702895,\n",
       "         -5.27539471,  -5.98376048,  -6.69212625,  -7.40049201,\n",
       "         -8.10885778,  -8.81722354,  -9.52558931, -10.23395508,\n",
       "        -10.94232084, -11.65068661, -12.35905237, -13.06741814,\n",
       "        -13.7757839 , -14.48414967, -15.19251544, -15.9008812 ,\n",
       "        -16.60924697, -17.31761273, -18.0259785 , -18.73434427,\n",
       "        -19.44271003, -20.1510758 , -20.85944156, -21.56780733,\n",
       "        -22.2761731 , -22.98453886, -23.69290463, -24.40127039,\n",
       "        -25.10963616, -25.81800193, -26.52636769, -27.23473346,\n",
       "        -27.94309922, -28.65146499, -29.35983076, -30.06819652,\n",
       "        -30.77656229, -31.48492805, -32.19329382, -32.90165958,\n",
       "        -33.61002535, -34.31839112, -35.02675688, -35.73512265,\n",
       "        -36.44348841, -37.15185418]),\n",
       " array([ -2.39278619,  -3.10336685,  -3.81394751,  -4.52452817,\n",
       "         -5.23510883,  -5.94568949,  -6.65627015,  -7.36685081,\n",
       "         -8.07743147,  -8.78801213,  -9.49859279, -10.20917345,\n",
       "        -10.91975411, -11.63033477, -12.34091543, -13.05149609,\n",
       "        -13.76207675, -14.47265741, -15.18323807, -15.89381873,\n",
       "        -16.60439939, -17.31498005, -18.02556071, -18.73614137,\n",
       "        -19.44672203, -20.1573027 , -20.86788336, -21.57846402,\n",
       "        -22.28904468, -22.99962534, -23.710206  , -24.42078666,\n",
       "        -25.13136732, -25.84194798, -26.55252864, -27.2631093 ,\n",
       "        -27.97368996, -28.68427062, -29.39485128, -30.10543194,\n",
       "        -30.8160126 , -31.52659326, -32.23717392, -32.94775458,\n",
       "        -33.65833524, -34.3689159 , -35.07949656, -35.79007722,\n",
       "        -36.50065788, -37.21123854]),\n",
       " array([ -2.34284279,  -3.05521721,  -3.76759164,  -4.47996606,\n",
       "         -5.19234049,  -5.90471491,  -6.61708934,  -7.32946376,\n",
       "         -8.04183819,  -8.75421261,  -9.46658704, -10.17896147,\n",
       "        -10.89133589, -11.60371032, -12.31608474, -13.02845917,\n",
       "        -13.74083359, -14.45320802, -15.16558244, -15.87795687,\n",
       "        -16.59033129, -17.30270572, -18.01508015, -18.72745457,\n",
       "        -19.439829  , -20.15220342, -20.86457785, -21.57695227,\n",
       "        -22.2893267 , -23.00170112, -23.71407555, -24.42644997,\n",
       "        -25.1388244 , -25.85119883, -26.56357325, -27.27594768,\n",
       "        -27.9883221 , -28.70069653, -29.41307095, -30.12544538,\n",
       "        -30.8378198 , -31.55019423, -32.26256865, -32.97494308,\n",
       "        -33.6873175 , -34.39969193, -35.11206636, -35.82444078,\n",
       "        -36.53681521, -37.24918963]),\n",
       " array([ -2.2927896 ,  -3.00680288,  -3.72081616,  -4.43482944,\n",
       "         -5.14884273,  -5.86285601,  -6.57686929,  -7.29088257,\n",
       "         -8.00489585,  -8.71890914,  -9.43292242, -10.1469357 ,\n",
       "        -10.86094898, -11.57496227, -12.28897555, -13.00298883,\n",
       "        -13.71700211, -14.4310154 , -15.14502868, -15.85904196,\n",
       "        -16.57305524, -17.28706853, -18.00108181, -18.71509509,\n",
       "        -19.42910837, -20.14312166, -20.85713494, -21.57114822,\n",
       "        -22.2851615 , -22.99917478, -23.71318807, -24.42720135,\n",
       "        -25.14121463, -25.85522791, -26.5692412 , -27.28325448,\n",
       "        -27.99726776, -28.71128104, -29.42529433, -30.13930761,\n",
       "        -30.85332089, -31.56733417, -32.28134746, -32.99536074,\n",
       "        -33.70937402, -34.4233873 , -35.13740059, -35.85141387,\n",
       "        -36.56542715, -37.27944043]),\n",
       " array([ -2.24287705,  -2.95846966,  -3.67406227,  -4.38965488,\n",
       "         -5.10524749,  -5.8208401 ,  -6.53643271,  -7.25202532,\n",
       "         -7.96761794,  -8.68321055,  -9.39880316, -10.11439577,\n",
       "        -10.82998838, -11.54558099, -12.2611736 , -12.97676621,\n",
       "        -13.69235882, -14.40795143, -15.12354404, -15.83913665,\n",
       "        -16.55472926, -17.27032187, -17.98591449, -18.7015071 ,\n",
       "        -19.41709971, -20.13269232, -20.84828493, -21.56387754,\n",
       "        -22.27947015, -22.99506276, -23.71065537, -24.42624798,\n",
       "        -25.14184059, -25.8574332 , -26.57302581, -27.28861842,\n",
       "        -28.00421103, -28.71980365, -29.43539626, -30.15098887,\n",
       "        -30.86658148, -31.58217409, -32.2977667 , -33.01335931,\n",
       "        -33.72895192, -34.44454453, -35.16013714, -35.87572975,\n",
       "        -36.59132236, -37.30691497]),\n",
       " array([ -2.19319695,  -2.91034281,  -3.62748867,  -4.34463453,\n",
       "         -5.06178039,  -5.77892625,  -6.49607211,  -7.21321797,\n",
       "         -7.93036382,  -8.64750968,  -9.36465554, -10.0818014 ,\n",
       "        -10.79894726, -11.51609312, -12.23323898, -12.95038484,\n",
       "        -13.6675307 , -14.38467656, -15.10182241, -15.81896827,\n",
       "        -16.53611413, -17.25325999, -17.97040585, -18.68755171,\n",
       "        -19.40469757, -20.12184343, -20.83898929, -21.55613515,\n",
       "        -22.27328101, -22.99042686, -23.70757272, -24.42471858,\n",
       "        -25.14186444, -25.8590103 , -26.57615616, -27.29330202,\n",
       "        -28.01044788, -28.72759374, -29.4447396 , -30.16188545,\n",
       "        -30.87903131, -31.59617717, -32.31332303, -33.03046889,\n",
       "        -33.74761475, -34.46476061, -35.18190647, -35.89905233,\n",
       "        -36.61619819, -37.33334405]),\n",
       " array([ -2.14378469,  -2.86246914,  -3.58115359,  -4.29983805,\n",
       "         -5.0185225 ,  -5.73720695,  -6.45589141,  -7.17457586,\n",
       "         -7.89326031,  -8.61194476,  -9.33062922, -10.04931367,\n",
       "        -10.76799812, -11.48668257, -12.20536703, -12.92405148,\n",
       "        -13.64273593, -14.36142038, -15.08010484, -15.79878929,\n",
       "        -16.51747374, -17.23615819, -17.95484265, -18.6735271 ,\n",
       "        -19.39221155, -20.110896  , -20.82958046, -21.54826491,\n",
       "        -22.26694936, -22.98563381, -23.70431827, -24.42300272,\n",
       "        -25.14168717, -25.86037163, -26.57905608, -27.29774053,\n",
       "        -28.01642498, -28.73510944, -29.45379389, -30.17247834,\n",
       "        -30.89116279, -31.60984725, -32.3285317 , -33.04721615,\n",
       "        -33.7659006 , -34.48458506, -35.20326951, -35.92195396,\n",
       "        -36.64063841, -37.35932287]),\n",
       " array([ -2.09465596,  -2.8148681 ,  -3.53508024,  -4.25529238,\n",
       "         -4.97550452,  -5.69571665,  -6.41592879,  -7.13614093,\n",
       "         -7.85635307,  -8.57656521,  -9.29677734, -10.01698948,\n",
       "        -10.73720162, -11.45741376, -12.1776259 , -12.89783804,\n",
       "        -13.61805017, -14.33826231, -15.05847445, -15.77868659,\n",
       "        -16.49889873, -17.21911086, -17.939323  , -18.65953514,\n",
       "        -19.37974728, -20.09995942, -20.82017155, -21.54038369,\n",
       "        -22.26059583, -22.98080797, -23.70102011, -24.42123225,\n",
       "        -25.14144438, -25.86165652, -26.58186866, -27.3020808 ,\n",
       "        -28.02229294, -28.74250507, -29.46271721, -30.18292935,\n",
       "        -30.90314149, -31.62335363, -32.34356576, -33.0637779 ,\n",
       "        -33.78399004, -34.50420218, -35.22441432, -35.94462646,\n",
       "        -36.66483859, -37.38505073]),\n",
       " array([ -2.04581972,  -2.76754976,  -3.4892798 ,  -4.21100984,\n",
       "         -4.93273988,  -5.65446992,  -6.37619996,  -7.09793   ,\n",
       "         -7.81966004,  -8.54139008,  -9.26312012,  -9.98485016,\n",
       "        -10.7065802 , -11.42831024, -12.15004028, -12.87177032,\n",
       "        -13.59350036, -14.3152304 , -15.03696044, -15.75869048,\n",
       "        -16.48042052, -17.20215056, -17.9238806 , -18.64561064,\n",
       "        -19.36734068, -20.08907072, -20.81080076, -21.5325308 ,\n",
       "        -22.25426084, -22.97599088, -23.69772092, -24.41945096,\n",
       "        -25.141181  , -25.86291104, -26.58464108, -27.30637112,\n",
       "        -28.02810116, -28.7498312 , -29.47156124, -30.19329128,\n",
       "        -30.91502132, -31.63675136, -32.3584814 , -33.08021144,\n",
       "        -33.80194148, -34.52367152, -35.24540156, -35.9671316 ,\n",
       "        -36.68886164, -37.41059168]),\n",
       " array([ -1.99728261,  -2.72052102,  -3.44375942,  -4.16699783,\n",
       "         -4.89023624,  -5.61347464,  -6.33671305,  -7.05995146,\n",
       "         -7.78318986,  -8.50642827,  -9.22966668,  -9.95290508,\n",
       "        -10.67614349, -11.39938189, -12.1226203 , -12.84585871,\n",
       "        -13.56909711, -14.29233552, -15.01557393, -15.73881233,\n",
       "        -16.46205074, -17.18528915, -17.90852755, -18.63176596,\n",
       "        -19.35500436, -20.07824277, -20.80148118, -21.52471958,\n",
       "        -22.24795799, -22.9711964 , -23.6944348 , -24.41767321,\n",
       "        -25.14091162, -25.86415002, -26.58738843, -27.31062683,\n",
       "        -28.03386524, -28.75710365, -29.48034205, -30.20358046,\n",
       "        -30.92681887, -31.65005727, -32.37329568, -33.09653408,\n",
       "        -33.81977249, -34.5430109 , -35.2662493 , -35.98948771,\n",
       "        -36.71272612, -37.43596452]),\n",
       " array([ -1.94905051,  -2.67378771,  -3.39852491,  -4.12326211,\n",
       "         -4.84799931,  -5.57273651,  -6.29747371,  -7.02221091,\n",
       "         -7.74694811,  -8.47168531,  -9.19642251,  -9.92115971,\n",
       "        -10.6458969 , -11.3706341 , -12.0953713 , -12.8201085 ,\n",
       "        -13.5448457 , -14.2695829 , -14.9943201 , -15.7190573 ,\n",
       "        -16.4437945 , -17.1685317 , -17.8932689 , -18.6180061 ,\n",
       "        -19.34274329, -20.06748049, -20.79221769, -21.51695489,\n",
       "        -22.24169209, -22.96642929, -23.69116649, -24.41590369,\n",
       "        -25.14064089, -25.86537809, -26.59011529, -27.31485249,\n",
       "        -28.03958968, -28.76432688, -29.48906408, -30.21380128,\n",
       "        -30.93853848, -31.66327568, -32.38801288, -33.11275008,\n",
       "        -33.83748728, -34.56222448, -35.28696168, -36.01169888,\n",
       "        -36.73643608, -37.46117327]),\n",
       " array([ -1.90112901,  -2.6273553 ,  -3.35358159,  -4.07980788,\n",
       "         -4.80603417,  -5.53226046,  -6.25848675,  -6.98471304,\n",
       "         -7.71093933,  -8.43716562,  -9.16339191,  -9.8896182 ,\n",
       "        -10.61584449, -11.34207078, -12.06829707, -12.79452336,\n",
       "        -13.52074966, -14.24697595, -14.97320224, -15.69942853,\n",
       "        -16.42565482, -17.15188111, -17.8781074 , -18.60433369,\n",
       "        -19.33055998, -20.05678627, -20.78301256, -21.50923885,\n",
       "        -22.23546514, -22.96169143, -23.68791772, -24.41414401,\n",
       "        -25.1403703 , -25.86659659, -26.59282288, -27.31904917,\n",
       "        -28.04527546, -28.77150175, -29.49772804, -30.22395433,\n",
       "        -30.95018062, -31.67640691, -32.4026332 , -33.12885949,\n",
       "        -33.85508578, -34.58131207, -35.30753836, -36.03376465,\n",
       "        -36.75999094, -37.48621724]),\n",
       " array([ -1.85352356,  -2.58122908,  -3.30893461,  -4.03664013,\n",
       "         -4.76434566,  -5.49205118,  -6.2197567 ,  -6.94746223,\n",
       "         -7.67516775,  -8.40287328,  -9.1305788 ,  -9.85828433,\n",
       "        -10.58598985, -11.31369538, -12.0414009 , -12.76910642,\n",
       "        -13.49681195, -14.22451747, -14.952223  , -15.67992852,\n",
       "        -16.40763405, -17.13533957, -17.86304509, -18.59075062,\n",
       "        -19.31845614, -20.04616167, -20.77386719, -21.50157272,\n",
       "        -22.22927824, -22.95698376, -23.68468929, -24.41239481,\n",
       "        -25.14010034, -25.86780586, -26.59551139, -27.32321691,\n",
       "        -28.05092243, -28.77862796, -29.50633348, -30.23403901,\n",
       "        -30.96174453, -31.68945006, -32.41715558, -33.1448611 ,\n",
       "        -33.87256663, -34.60027215, -35.32797768, -36.0556832 ,\n",
       "        -36.78338873, -37.51109425]),\n",
       " array([ -1.80623954,  -2.53541428,  -3.26458901,  -3.99376375,\n",
       "         -4.72293849,  -5.45211323,  -6.18128797,  -6.91046271,\n",
       "         -7.63963745,  -8.36881219,  -9.09798693,  -9.82716166,\n",
       "        -10.5563364 , -11.28551114, -12.01468588, -12.74386062,\n",
       "        -13.47303536, -14.2022101 , -14.93138484, -15.66055958,\n",
       "        -16.38973431, -17.11890905, -17.84808379, -18.57725853,\n",
       "        -19.30643327, -20.03560801, -20.76478275, -21.49395749,\n",
       "        -22.22313223, -22.95230696, -23.6814817 , -24.41065644,\n",
       "        -25.13983118, -25.86900592, -26.59818066, -27.3273554 ,\n",
       "        -28.05653014, -28.78570488, -29.51487961, -30.24405435,\n",
       "        -30.97322909, -31.70240383, -32.43157857, -33.16075331,\n",
       "        -33.88992805, -34.61910279, -35.34827753, -36.07745226,\n",
       "        -36.806627  , -37.53580174]),\n",
       " array([ -1.75928226,  -2.48991603,  -3.2205498 ,  -3.95118357,\n",
       "         -4.68181734,  -5.41245111,  -6.14308488,  -6.87371865,\n",
       "         -7.60435242,  -8.33498619,  -9.06561997,  -9.79625374,\n",
       "        -10.52688751, -11.25752128, -11.98815505, -12.71878882,\n",
       "        -13.44942259, -14.18005636, -14.91069013, -15.6413239 ,\n",
       "        -16.37195767, -17.10259144, -17.83322522, -18.56385899,\n",
       "        -19.29449276, -20.02512653, -20.7557603 , -21.48639407,\n",
       "        -22.21702784, -22.94766161, -23.67829538, -24.40892915,\n",
       "        -25.13956292, -25.8701967 , -26.60083047, -27.33146424,\n",
       "        -28.06209801, -28.79273178, -29.52336555, -30.25399932,\n",
       "        -30.98463309, -31.71526686, -32.44590063, -33.1765344 ,\n",
       "        -33.90716817, -34.63780195, -35.36843572, -36.09906949,\n",
       "        -36.82970326, -37.56033703]),\n",
       " array([ -1.71265696,  -2.44473942,  -3.17682188,  -3.90890434,\n",
       "         -4.6409868 ,  -5.37306926,  -6.10515171,  -6.83723417,\n",
       "         -7.56931663,  -8.30139909,  -9.03348155,  -9.76556401,\n",
       "        -10.49764646, -11.22972892, -11.96181138, -12.69389384,\n",
       "        -13.4259763 , -14.15805876, -14.89014121, -15.62222367,\n",
       "        -16.35430613, -17.08638859, -17.81847105, -18.55055351,\n",
       "        -19.28263596, -20.01471842, -20.74680088, -21.47888334,\n",
       "        -22.2109658 , -22.94304826, -23.67513071, -24.40721317,\n",
       "        -25.13929563, -25.87137809, -26.60346055, -27.33554301,\n",
       "        -28.06762546, -28.79970792, -29.53179038, -30.26387284,\n",
       "        -30.9959553 , -31.72803776, -32.46012021, -33.19220267,\n",
       "        -33.92428513, -34.65636759, -35.38845005, -36.12053251,\n",
       "        -36.85261497, -37.58469742]),\n",
       " array([ -1.66636884,  -2.39988948,  -3.13341012,  -3.86693076,\n",
       "         -4.60045141,  -5.33397205,  -6.06749269,  -6.80101333,\n",
       "         -7.53453397,  -8.26805461,  -9.00157525,  -9.73509589,\n",
       "        -10.46861654, -11.20213718, -11.93565782, -12.66917846,\n",
       "        -13.4026991 , -14.13621974, -14.86974038, -15.60326102,\n",
       "        -16.33678167, -17.07030231, -17.80382295, -18.53734359,\n",
       "        -19.27086423, -20.00438487, -20.73790551, -21.47142615,\n",
       "        -22.20494679, -22.93846744, -23.67198808, -24.40550872,\n",
       "        -25.13902936, -25.87255   , -26.60607064, -27.33959128,\n",
       "        -28.07311192, -28.80663257, -29.54015321, -30.27367385,\n",
       "        -31.00719449, -31.74071513, -32.47423577, -33.20775641,\n",
       "        -33.94127705, -34.6747977 , -35.40831834, -36.14183898,\n",
       "        -36.87535962, -37.60888026]),\n",
       " array([ -1.620423  ,  -2.35537116,  -3.09031932,  -3.82526749,\n",
       "         -4.56021565,  -5.29516381,  -6.03011197,  -6.76506013,\n",
       "         -7.50000829,  -8.23495645,  -8.96990461,  -9.70485278,\n",
       "        -10.43980094, -11.1747491 , -11.90969726, -12.64464542,\n",
       "        -13.37959358, -14.11454174, -14.84948991, -15.58443807,\n",
       "        -16.31938623, -17.05433439, -17.78928255, -18.52423071,\n",
       "        -19.25917887, -19.99412704, -20.7290752 , -21.46402336,\n",
       "        -22.19897152, -22.93391968, -23.66886784, -24.403816  ,\n",
       "        -25.13876416, -25.87371233, -26.60866049, -27.34360865,\n",
       "        -28.07855681, -28.81350497, -29.54845313, -30.28340129,\n",
       "        -31.01834946, -31.75329762, -32.48824578, -33.22319394,\n",
       "        -33.9581421 , -34.69309026, -35.42803842, -36.16298659,\n",
       "        -36.89793475, -37.63288291]),\n",
       " array([ -1.57482449,  -2.31118935,  -3.04755421,  -3.78391908,\n",
       "         -4.52028394,  -5.2566488 ,  -5.99301366,  -6.72937853,\n",
       "         -7.46574339,  -8.20210825,  -8.93847312,  -9.67483798,\n",
       "        -10.41120284, -11.14756771, -11.88393257, -12.62029743,\n",
       "        -13.35666229, -14.09302716, -14.82939202, -15.56575688,\n",
       "        -16.30212175, -17.03848661, -17.77485147, -18.51121634,\n",
       "        -19.2475812 , -19.98394606, -20.72031092, -21.45667579,\n",
       "        -22.19304065, -22.92940551, -23.66577038, -24.40213524,\n",
       "        -25.1385001 , -25.87486496, -26.61122983, -27.34759469,\n",
       "        -28.08395955, -28.82032442, -29.55668928, -30.29305414,\n",
       "        -31.02941901, -31.76578387, -32.50214873, -33.23851359,\n",
       "        -33.97487846, -34.71124332, -35.44760818, -36.18397305,\n",
       "        -36.92033791, -37.65670277]),\n",
       " array([ -1.52957827,  -2.26734886,  -3.00511945,  -3.74289005,\n",
       "         -4.48066064,  -5.21843123,  -5.95620182,  -6.69397241,\n",
       "         -7.43174301,  -8.1695136 ,  -8.90728419,  -9.64505478,\n",
       "        -10.38282538, -11.12059597, -11.85836656, -12.59613715,\n",
       "        -13.33390775, -14.07167834, -14.80944893, -15.54721952,\n",
       "        -16.28499012, -17.02276071, -17.7605313 , -18.49830189,\n",
       "        -19.23607248, -19.97384308, -20.71161367, -21.44938426,\n",
       "        -22.18715485, -22.92492545, -23.66269604, -24.40046663,\n",
       "        -25.13823722, -25.87600782, -26.61377841, -27.351549  ,\n",
       "        -28.08931959, -28.82709019, -29.56486078, -30.30263137,\n",
       "        -31.04040196, -31.77817256, -32.51594315, -33.25371374,\n",
       "        -33.99148433, -34.72925492, -35.46702552, -36.20479611,\n",
       "        -36.9425667 , -37.68033729]),\n",
       " array([ -1.48468924,  -2.22385444,  -2.96301963,  -3.70218483,\n",
       "         -4.44135003,  -5.18051523,  -5.91968043,  -6.65884563,\n",
       "         -7.39801082,  -8.13717602,  -8.87634122,  -9.61550642,\n",
       "        -10.35467162, -11.09383682, -11.83300202, -12.57216721,\n",
       "        -13.31133241, -14.05049761, -14.78966281, -15.52882801,\n",
       "        -16.26799321, -17.0071584 , -17.7463236 , -18.4854888 ,\n",
       "        -19.224654  , -19.9638192 , -20.7029844 , -21.44214959,\n",
       "        -22.18131479, -22.92047999, -23.65964519, -24.39881039,\n",
       "        -25.13797559, -25.87714078, -26.61630598, -27.35547118,\n",
       "        -28.09463638, -28.83380158, -29.57296678, -30.31213197,\n",
       "        -31.05129717, -31.79046237, -32.52962757, -33.26879277,\n",
       "        -34.00795797, -34.74712316, -35.48628836, -36.22545356,\n",
       "        -36.96461876, -37.70378396]),\n",
       " array([ -1.44016221,  -2.18071074,  -2.92125927,  -3.66180781,\n",
       "         -4.40235634,  -5.14290487,  -5.8834534 ,  -6.62400194,\n",
       "         -7.36455047,  -8.105099  ,  -8.84564753,  -9.58619606,\n",
       "        -10.3267446 , -11.06729313, -11.80784166, -12.54839019,\n",
       "        -13.28893873, -14.02948726, -14.77003579, -15.51058432,\n",
       "        -16.25113285, -16.99168139, -17.73222992, -18.47277845,\n",
       "        -19.21332698, -19.95387551, -20.69442405, -21.43497258,\n",
       "        -22.17552111, -22.91606964, -23.65661818, -24.39716671,\n",
       "        -25.13771524, -25.87826377, -26.6188123 , -27.35936084,\n",
       "        -28.09990937, -28.8404579 , -29.58100643, -30.32155497,\n",
       "        -31.0621035 , -31.80265203, -32.54320056, -33.28374909,\n",
       "        -34.02429763, -34.76484616, -35.50539469, -36.24594322,\n",
       "        -36.98649176, -37.72704029]),\n",
       " array([ -1.39600192,  -2.13792237,  -2.87984281,  -3.62176326,\n",
       "         -4.36368371,  -5.10560416,  -5.8475246 ,  -6.58944505,\n",
       "         -7.3313655 ,  -8.07328595,  -8.81520639,  -9.55712684,\n",
       "        -10.29904729, -11.04096774, -11.78288818, -12.52480863,\n",
       "        -13.26672908, -14.00864953, -14.75056998, -15.49249042,\n",
       "        -16.23441087, -16.97633132, -17.71825177, -18.46017221,\n",
       "        -19.20209266, -19.94401311, -20.68593356, -21.427854  ,\n",
       "        -22.16977445, -22.9116949 , -23.65361535, -24.39553579,\n",
       "        -25.13745624, -25.87937669, -26.62129714, -27.36321758,\n",
       "        -28.10513803, -28.84705848, -29.58897893, -30.33089937,\n",
       "        -31.07281982, -31.81474027, -32.55666072, -33.29858116,\n",
       "        -34.04050161, -34.78242206, -35.52434251, -36.26626295,\n",
       "        -37.0081834 , -37.75010385]),\n",
       " array([ -1.35221301,  -2.09549381,  -2.83877461,  -3.58205542,\n",
       "         -4.32533622,  -5.06861702,  -5.81189782,  -6.55517862,\n",
       "         -7.29845942,  -8.04174022,  -8.78502102,  -9.52830182,\n",
       "        -10.27158262, -11.01486342, -11.75814422, -12.50142503,\n",
       "        -13.24470583, -13.98798663, -14.73126743, -15.47454823,\n",
       "        -16.21782903, -16.96110983, -17.70439063, -18.44767143,\n",
       "        -19.19095223, -19.93423303, -20.67751384, -21.42079464,\n",
       "        -22.16407544, -22.90735624, -23.65063704, -24.39391784,\n",
       "        -25.13719864, -25.88047944, -26.62376024, -27.36704104,\n",
       "        -28.11032184, -28.85360264, -29.59688345, -30.34016425,\n",
       "        -31.08344505, -31.82672585, -32.57000665, -33.31328745,\n",
       "        -34.05656825, -34.79984905, -35.54312985, -36.28641065,\n",
       "        -37.02969145, -37.77297225]),\n",
       " array([ -1.30880005,  -2.0534295 ,  -2.79805895,  -3.54268841,\n",
       "         -4.28731786,  -5.03194731,  -5.77657676,  -6.52120621,\n",
       "         -7.26583566,  -8.01046511,  -8.75509456,  -9.49972402,\n",
       "        -10.24435347, -10.98898292, -11.73361237, -12.47824182,\n",
       "        -13.22287127, -13.96750072, -14.71213017, -15.45675962,\n",
       "        -16.20138908, -16.94601853, -17.69064798, -18.43527743,\n",
       "        -19.17990688, -19.92453633, -20.66916578, -21.41379523,\n",
       "        -22.15842469, -22.90305414, -23.64768359, -24.39231304,\n",
       "        -25.13694249, -25.88157194, -26.62620139, -27.37083084,\n",
       "        -28.1154603 , -28.86008975, -29.6047192 , -30.34934865,\n",
       "        -31.0939781 , -31.83860755, -32.583237  , -33.32786645,\n",
       "        -34.0724959 , -34.81712536, -35.56175481, -36.30638426,\n",
       "        -37.05101371, -37.79564316]),\n",
       " array([ -1.26576751,  -2.01173377,  -2.75770003,  -3.50366629,\n",
       "         -4.24963255,  -4.99559881,  -5.74156507,  -6.48753133,\n",
       "         -7.23349759,  -7.97946385,  -8.72543011,  -9.47139637,\n",
       "        -10.21736263, -10.9633289 , -11.70929516, -12.45526142,\n",
       "        -13.20122768, -13.94719394, -14.6931602 , -15.43912646,\n",
       "        -16.18509272, -16.93105898, -17.67702524, -18.4229915 ,\n",
       "        -19.16895776, -19.91492402, -20.66089028, -21.40685654,\n",
       "        -22.1528228 , -22.89878906, -23.64475532, -24.39072158,\n",
       "        -25.13668784, -25.8826541 , -26.62862036, -27.37458662,\n",
       "        -28.12055288, -28.86651915, -29.61248541, -30.35845167,\n",
       "        -31.10441793, -31.85038419, -32.59635045, -33.34231671,\n",
       "        -34.08828297, -34.83424923, -35.58021549, -36.32618175,\n",
       "        -37.07214801, -37.81811427]),\n",
       " array([ -1.22311977,  -1.97041086,  -2.71770195,  -3.46499305,\n",
       "         -4.21228414,  -4.95957523,  -5.70686632,  -6.45415742,\n",
       "         -7.20144851,  -7.9487396 ,  -8.6960307 ,  -9.44332179,\n",
       "        -10.19061288, -10.93790398, -11.68519507, -12.43248616,\n",
       "        -13.17977726, -13.92706835, -14.67435944, -15.42165054,\n",
       "        -16.16894163, -16.91623272, -17.66352382, -18.41081491,\n",
       "        -19.158106  , -19.9053971 , -20.65268819, -21.39997928,\n",
       "        -22.14727038, -22.89456147, -23.64185256, -24.38914366,\n",
       "        -25.13643475, -25.88372584, -26.63101694, -27.37830803,\n",
       "        -28.12559912, -28.87289022, -29.62018131, -30.3674724 ,\n",
       "        -31.1147635 , -31.86205459, -32.60934568, -33.35663678,\n",
       "        -34.10392787, -34.85121896, -35.59851006, -36.34580115,\n",
       "        -37.09309224, -37.84038333]),\n",
       " array([ -1.1808611 ,  -1.92946492,  -2.67806874,  -3.42667255,\n",
       "         -4.17527637,  -4.92388019,  -5.67248401,  -6.42108782,\n",
       "         -7.16969164,  -7.91829546,  -8.66689928,  -9.41550309,\n",
       "        -10.16410691, -10.91271073, -11.66131455, -12.40991836,\n",
       "        -13.15852218, -13.907126  , -14.65572982, -15.40433363,\n",
       "        -16.15293745, -16.90154127, -17.65014509, -18.3987489 ,\n",
       "        -19.14735272, -19.89595654, -20.64456036, -21.39316417,\n",
       "        -22.14176799, -22.89037181, -23.63897563, -24.38757944,\n",
       "        -25.13618326, -25.88478708, -26.6333909 , -27.38199471,\n",
       "        -28.13059853, -28.87920235, -29.62780616, -30.37640998,\n",
       "        -31.1250138 , -31.87361762, -32.62222143, -33.37082525,\n",
       "        -34.11942907, -34.86803289, -35.6166367 , -36.36524052,\n",
       "        -37.11384434, -37.86244816]),\n",
       " array([ -1.13899571,  -1.88890001,  -2.63880432,  -3.38870862,\n",
       "         -4.13861292,  -4.88851723,  -5.63842153,  -6.38832583,\n",
       "         -7.13823014,  -7.88813444,  -8.63803874,  -9.38794305,\n",
       "        -10.13784735, -10.88775166, -11.63765596, -12.38756026,\n",
       "        -13.13746457, -13.88736887, -14.63727317, -15.38717748,\n",
       "        -16.13708178, -16.88698608, -17.63689039, -18.38679469,\n",
       "        -19.136699  , -19.8866033 , -20.6365076 , -21.38641191,\n",
       "        -22.13631621, -22.88622051, -23.63612482, -24.38602912,\n",
       "        -25.13593342, -25.88583773, -26.63574203, -27.38564634,\n",
       "        -28.13555064, -28.88545494, -29.63535925, -30.38526355,\n",
       "        -31.13516785, -31.88507216, -32.63497646, -33.38488077,\n",
       "        -34.13478507, -34.88468937, -35.63459368, -36.38449798,\n",
       "        -37.13440228, -37.88430659]),\n",
       " array([ -1.09752767,  -1.84872009,  -2.59991252,  -3.35110495,\n",
       "         -4.10229737,  -4.8534898 ,  -5.60468222,  -6.35587465,\n",
       "         -7.10706707,  -7.8582595 ,  -8.60945193,  -9.36064435,\n",
       "        -10.11183678, -10.8630292 , -11.61422163, -12.36541405,\n",
       "        -13.11660648, -13.86779891, -14.61899133, -15.37018376,\n",
       "        -16.12137618, -16.87256861, -17.62376104, -18.37495346,\n",
       "        -19.12614589, -19.87733831, -20.62853074, -21.37972316,\n",
       "        -22.13091559, -22.88210802, -23.63330044, -24.38449287,\n",
       "        -25.13568529, -25.88687772, -26.63807014, -27.38926257,\n",
       "        -28.140455  , -28.89164742, -29.64283985, -30.39403227,\n",
       "        -31.1452247 , -31.89641713, -32.64760955, -33.39880198,\n",
       "        -34.1499944 , -34.90118683, -35.65237925, -36.40357168,\n",
       "        -37.15476411, -37.90595653]),\n",
       " array([ -1.05646096,  -1.80892902,  -2.56139709,  -3.31386515,\n",
       "         -4.06633321,  -4.81880127,  -5.57126933,  -6.32373739,\n",
       "         -7.07620545,  -7.82867351,  -8.58114157,  -9.33360963,\n",
       "        -10.08607769, -10.83854576, -11.59101382, -12.34348188,\n",
       "        -13.09594994, -13.848418  , -14.60088606, -15.35335412,\n",
       "        -16.10582218, -16.85829024, -17.6107583 , -18.36322636,\n",
       "        -19.11569443, -19.86816249, -20.62063055, -21.37309861,\n",
       "        -22.12556667, -22.87803473, -23.63050279, -24.38297085,\n",
       "        -25.13543891, -25.88790697, -26.64037503, -27.3928431 ,\n",
       "        -28.14531116, -28.89777922, -29.65024728, -30.40271534,\n",
       "        -31.1551834 , -31.90765146, -32.66011952, -33.41258758,\n",
       "        -34.16505564, -34.9175237 , -35.66999177, -36.42245983,\n",
       "        -37.17492789, -37.92739595]),\n",
       " array([ -1.01579947,  -1.76953056,  -2.52326165,  -3.27699274,\n",
       "         -4.03072383,  -4.78445492,  -5.53818601,  -6.2919171 ,\n",
       "         -7.04564819,  -7.79937928,  -8.55311037,  -9.30684146,\n",
       "        -10.06057255, -10.81430363, -11.56803472, -12.32176581,\n",
       "        -13.0754969 , -13.82922799, -14.58295908, -15.33669017,\n",
       "        -16.09042126, -16.84415235, -17.59788344, -18.35161453,\n",
       "        -19.10534562, -19.85907671, -20.6128078 , -21.36653889,\n",
       "        -22.12026998, -22.87400106, -23.62773215, -24.38146324,\n",
       "        -25.13519433, -25.88892542, -26.64265651, -27.3963876 ,\n",
       "        -28.15011869, -28.90384978, -29.65758087, -30.41131196,\n",
       "        -31.16504305, -31.91877414, -32.67250523, -33.42623632,\n",
       "        -34.1799674 , -34.93369849, -35.68742958, -36.44116067,\n",
       "        -37.19489176, -37.94862285]),\n",
       " array([ -0.97554696,  -1.73052836,  -2.48550975,  -3.24049115,\n",
       "         -3.99547254,  -4.75045394,  -5.50543533,  -6.26041673,\n",
       "         -7.01539812,  -7.77037952,  -8.52536091,  -9.28034231,\n",
       "        -10.0353237 , -10.7903051 , -11.54528649, -12.30026789,\n",
       "        -13.05524928, -13.81023068, -14.56521207, -15.32019347,\n",
       "        -16.07517486, -16.83015626, -17.58513765, -18.34011905,\n",
       "        -19.09510044, -19.85008184, -20.60506323, -21.36004462,\n",
       "        -22.11502602, -22.87000741, -23.62498881, -24.3799702 ,\n",
       "        -25.1349516 , -25.88993299, -26.64491439, -27.39989578,\n",
       "        -28.15487718, -28.90985857, -29.66483997, -30.41982136,\n",
       "        -31.17480276, -31.92978415, -32.68476555, -33.43974694,\n",
       "        -34.19472834, -34.94970973, -35.70469113, -36.45967252,\n",
       "        -37.21465392, -37.96963531]),\n",
       " array([ -0.93570709,  -1.69192596,  -2.44814482,  -3.20436369,\n",
       "         -3.96058255,  -4.71680142,  -5.47302028,  -6.22923915,\n",
       "         -6.98545801,  -7.74167687,  -8.49789574,  -9.2541146 ,\n",
       "        -10.01033347, -10.76655233, -11.5227712 , -12.27899006,\n",
       "        -13.03520893, -13.79142779, -14.54764666, -15.30386552,\n",
       "        -16.06008438, -16.81630325, -17.57252211, -18.32874098,\n",
       "        -19.08495984, -19.84117871, -20.59739757, -21.35361644,\n",
       "        -22.1098353 , -22.86605416, -23.62227303, -24.37849189,\n",
       "        -25.13471076, -25.89092962, -26.64714849, -27.40336735,\n",
       "        -28.15958622, -28.91580508, -29.67202394, -30.42824281,\n",
       "        -31.18446167, -31.94068054, -32.6968994 , -33.45311827,\n",
       "        -34.20933713, -34.965556  , -35.72177486, -36.47799372,\n",
       "        -37.23421259, -37.99043145]),\n",
       " array([ -0.89628341,  -1.6537268 ,  -2.41117019,  -3.16861357,\n",
       "         -3.92605696,  -4.68350035,  -5.44094374,  -6.19838713,\n",
       "         -6.95583052,  -7.71327391,  -8.4707173 ,  -9.22816069,\n",
       "         -9.98560408, -10.74304746, -11.50049085, -12.25793424,\n",
       "        -13.01537763, -13.77282102, -14.53026441, -15.2877078 ,\n",
       "        -16.04515119, -16.80259458, -17.56003796, -18.31748135,\n",
       "        -19.07492474, -19.83236813, -20.58981152, -21.34725491,\n",
       "        -22.1046983 , -22.86214169, -23.61958508, -24.37702847,\n",
       "        -25.13447185, -25.89191524, -26.64935863, -27.40680202,\n",
       "        -28.16424541, -28.9216888 , -29.67913219, -30.43657558,\n",
       "        -31.19401897, -31.95146236, -32.70890574, -33.46634913,\n",
       "        -34.22379252, -34.98123591, -35.7386793 , -36.49612269,\n",
       "        -37.25356608, -38.01100947]),\n",
       " array([ -0.85727933,  -1.61593419,  -2.37458906,  -3.13324392,\n",
       "         -3.89189878,  -4.65055364,  -5.40920851,  -6.16786337,\n",
       "         -6.92651823,  -7.68517309,  -8.44382796,  -9.20248282,\n",
       "         -9.96113768, -10.71979254, -11.47844741, -12.23710227,\n",
       "        -12.99575713, -13.75441199, -14.51306686, -15.27172172,\n",
       "        -16.03037658, -16.78903145, -17.54768631, -18.30634117,\n",
       "        -19.06499603, -19.8236509 , -20.58230576, -21.34096062,\n",
       "        -22.09961548, -22.85827035, -23.61692521, -24.37558007,\n",
       "        -25.13423493, -25.8928898 , -26.65154466, -27.41019952,\n",
       "        -28.16885438, -28.92750925, -29.68616411, -30.44481897,\n",
       "        -31.20347383, -31.9621287 , -32.72078356, -33.47943842,\n",
       "        -34.23809329, -34.99674815, -35.75540301, -36.51405787,\n",
       "        -37.27271274, -38.0313676 ]),\n",
       " array([ -0.81869817,  -1.57855136,  -2.33840454,  -3.09825772,\n",
       "         -3.85811091,  -4.61796409,  -5.37781727,  -6.13767046,\n",
       "         -6.89752364,  -7.65737682,  -8.41723001,  -9.17708319,\n",
       "         -9.93693637, -10.69678956, -11.45664274, -12.21649592,\n",
       "        -12.97634911, -13.73620229, -14.49605547, -15.25590866,\n",
       "        -16.01576184, -16.77561502, -17.53546821, -18.29532139,\n",
       "        -19.05517457, -19.81502776, -20.57488094, -21.33473412,\n",
       "        -22.09458731, -22.85444049, -23.61429367, -24.37414686,\n",
       "        -25.13400004, -25.89385322, -26.65370641, -27.41355959,\n",
       "        -28.17341277, -28.93326596, -29.69311914, -30.45297232,\n",
       "        -31.21282551, -31.97267869, -32.73253187, -33.49238506,\n",
       "        -34.25223824, -35.01209142, -35.77194461, -36.53179779,\n",
       "        -37.29165097, -38.05150416]),\n",
       " array([ -0.78054312,  -1.54158138,  -2.30261963,  -3.06365788,\n",
       "         -3.82469613,  -4.58573439,  -5.34677264,  -6.10781089,\n",
       "         -6.86884915,  -7.6298874 ,  -8.39092565,  -9.1519639 ,\n",
       "         -9.91300216, -10.67404041, -11.43507866, -12.19611692,\n",
       "        -12.95715517, -13.71819342, -14.47923167, -15.24026993,\n",
       "        -16.00130818, -16.76234643, -17.52338468, -18.28442294,\n",
       "        -19.04546119, -19.80649944, -20.5675377 , -21.32857595,\n",
       "        -22.0896142 , -22.85065245, -23.61169071, -24.37272896,\n",
       "        -25.13376721, -25.89480547, -26.65584372, -27.41688197,\n",
       "        -28.17792022, -28.93895848, -29.69999673, -30.46103498,\n",
       "        -31.22207323, -31.98311149, -32.74414974, -33.50518799,\n",
       "        -34.26622625, -35.0272645 , -35.78830275, -36.549341  ,\n",
       "        -37.31037926, -38.07141751]),\n",
       " array([ -0.74281725,  -1.50502722,  -2.2672372 ,  -3.02944717,\n",
       "         -3.79165715,  -4.55386713,  -5.3160771 ,  -6.07828708,\n",
       "         -6.84049706,  -7.60270703,  -8.36491701,  -9.12712699,\n",
       "         -9.88933696, -10.65154694, -11.41375692, -12.17596689,\n",
       "        -12.93817687, -13.70038685, -14.46259682, -15.2248068 ,\n",
       "        -15.98701678, -16.74922675, -17.51143673, -18.27364671,\n",
       "        -19.03585668, -19.79806666, -20.56027664, -21.32248661,\n",
       "        -22.08469659, -22.84690657, -23.60911654, -24.37132652,\n",
       "        -25.1335365 , -25.89574647, -26.65795645, -27.42016643,\n",
       "        -28.1823764 , -28.94458638, -29.70679636, -30.46900633,\n",
       "        -31.23121631, -31.99342628, -32.75563626, -33.51784624,\n",
       "        -34.28005621, -35.04226619, -35.80447617, -36.56668614,\n",
       "        -37.32889612, -38.0911061 ]),\n",
       " array([ -0.70552348,  -1.46889174,  -2.23226001,  -2.99562827,\n",
       "         -3.75899653,  -4.5223648 ,  -5.28573306,  -6.04910133,\n",
       "         -6.81246959,  -7.57583785,  -8.33920612,  -9.10257438,\n",
       "         -9.86594265, -10.62931091, -11.39267918, -12.15604744,\n",
       "        -12.9194157 , -13.68278397, -14.44615223, -15.2095205 ,\n",
       "        -15.97288876, -16.73625702, -17.49962529, -18.26299355,\n",
       "        -19.02636182, -19.78973008, -20.55309834, -21.31646661,\n",
       "        -22.07983487, -22.84320314, -23.6065714 , -24.36993966,\n",
       "        -25.13330793, -25.89667619, -26.66004446, -27.42341272,\n",
       "        -28.18678099, -28.95014925, -29.71351751, -30.47688578,\n",
       "        -31.24025404, -32.00362231, -32.76699057, -33.53035883,\n",
       "        -34.2937271 , -35.05709536, -35.82046363, -36.58383189,\n",
       "        -37.34720015, -38.11056842]),\n",
       " array([ -0.66866463,  -1.43317766,  -2.19769069,  -2.96220372,\n",
       "         -3.72671675,  -4.49122978,  -5.2557428 ,  -6.02025583,\n",
       "         -6.78476886,  -7.54928189,  -8.31379492,  -9.07830795,\n",
       "         -9.84282098, -10.60733401, -11.37184703, -12.13636006,\n",
       "        -12.90087309, -13.66538612, -14.42989915, -15.19441218,\n",
       "        -15.95892521, -16.72343824, -17.48795126, -18.25246429,\n",
       "        -19.01697732, -19.78149035, -20.54600338, -21.31051641,\n",
       "        -22.07502944, -22.83954247, -23.60405549, -24.36856852,\n",
       "        -25.13308155, -25.89759458, -26.66210761, -27.42662064,\n",
       "        -28.19113367, -28.9556467 , -29.72015972, -30.48467275,\n",
       "        -31.24918578, -32.01369881, -32.77821184, -33.54272487,\n",
       "        -34.3072379 , -35.07175093, -35.83626395, -36.60077698,\n",
       "        -37.36529001, -38.12980304]),\n",
       " array([ -0.63224339,  -1.39788758,  -2.16353176,  -2.92917595,\n",
       "         -3.69482014,  -4.46046433,  -5.22610852,  -5.9917527 ,\n",
       "         -6.75739689,  -7.52304108,  -8.28868527,  -9.05432946,\n",
       "         -9.81997364, -10.58561783, -11.35126202, -12.11690621,\n",
       "        -12.8825504 , -13.64819458, -14.41383877, -15.17948296,\n",
       "        -15.94512715, -16.71077134, -17.47641552, -18.24205971,\n",
       "        -19.0077039 , -19.77334809, -20.53899228, -21.30463646,\n",
       "        -22.07028065, -22.83592484, -23.60156903, -24.36721321,\n",
       "        -25.1328574 , -25.89850159, -26.66414578, -27.42978997,\n",
       "        -28.19543415, -28.96107834, -29.72672253, -30.49236672,\n",
       "        -31.25801091, -32.02365509, -32.78929928, -33.55494347,\n",
       "        -34.32058766, -35.08623185, -35.85187603, -36.61752022,\n",
       "        -37.38316441, -38.1488086 ]),\n",
       " array([ -0.5962623 ,  -1.36302396,  -2.12978562,  -2.89654729,\n",
       "         -3.66330895,  -4.43007061,  -5.19683227,  -5.96359394,\n",
       "         -6.7303556 ,  -7.49711726,  -8.26387893,  -9.03064059,\n",
       "         -9.79740225, -10.56416392, -11.33092558, -12.09768724,\n",
       "        -12.86444891, -13.63121057, -14.39797223, -15.1647339 ,\n",
       "        -15.93149556, -16.69825722, -17.46501889, -18.23178055,\n",
       "        -18.99854221, -19.76530388, -20.53206554, -21.2988272 ,\n",
       "        -22.06558887, -22.83235053, -23.59911219, -24.36587386,\n",
       "        -25.13263552, -25.89939718, -26.66615884, -27.43292051,\n",
       "        -28.19968217, -28.96644383, -29.7332055 , -30.49996716,\n",
       "        -31.26672882, -32.03349049, -32.80025215, -33.56701381,\n",
       "        -34.33377548, -35.10053714, -35.8672988 , -36.63406047,\n",
       "        -37.40082213, -38.16758379]),\n",
       " array([ -0.56072377,  -1.32858915,  -2.09645453,  -2.86431991,\n",
       "         -3.63218529,  -4.40005067,  -5.16791605,  -5.93578143,\n",
       "         -6.70364681,  -7.47151219,  -8.23937757,  -9.00724295,\n",
       "         -9.77510833, -10.54297371, -11.31083909, -12.07870447,\n",
       "        -12.84656985, -13.61443523, -14.38230061, -15.15016599,\n",
       "        -15.91803137, -16.68589675, -17.45376213, -18.22162751,\n",
       "        -18.98949289, -19.75735827, -20.52522365, -21.29308903,\n",
       "        -22.06095441, -22.82881979, -23.59668517, -24.36455055,\n",
       "        -25.13241593, -25.90028132, -26.6681467 , -27.43601208,\n",
       "        -28.20387746, -28.97174284, -29.73960822, -30.5074736 ,\n",
       "        -31.27533898, -32.04320436, -32.81106974, -33.57893512,\n",
       "        -34.3468005 , -35.11466588, -35.88253126, -36.65039664,\n",
       "        -37.41826202, -38.1861274 ]),\n",
       " array([ -0.52563008,  -1.29458535,  -2.06354061,  -2.83249588,\n",
       "         -3.60145115,  -4.37040642,  -5.13936169,  -5.90831696,\n",
       "         -6.67727223,  -7.4462275 ,  -8.21518277,  -8.98413804,\n",
       "         -9.75309331, -10.52204857, -11.29100384, -12.05995911,\n",
       "        -12.82891438, -13.59786965, -14.36682492, -15.13578019,\n",
       "        -15.90473546, -16.67369073, -17.442646  , -18.21160127,\n",
       "        -18.98055653, -19.7495118 , -20.51846707, -21.28742234,\n",
       "        -22.05637761, -22.82533288, -23.59428815, -24.36324342,\n",
       "        -25.13219869, -25.90115396, -26.67010923, -27.43906449,\n",
       "        -28.20801976, -28.97697503, -29.7459303 , -30.51488557,\n",
       "        -31.28384084, -32.05279611, -32.82175138, -33.59070665,\n",
       "        -34.35966192, -35.12861719, -35.89757245, -36.66652772,\n",
       "        -37.43548299, -38.20443826]),\n",
       " array([ -0.49098337,  -1.26101463,  -2.03104589,  -2.80107716,\n",
       "         -3.57110842,  -4.34113968,  -5.11117095,  -5.88120221,\n",
       "         -6.65123348,  -7.42126474,  -8.191296  ,  -8.96132727,\n",
       "         -9.73135853, -10.5013898 , -11.27142106, -12.04145232,\n",
       "        -12.81148359, -13.58151485, -14.35154611, -15.12157738,\n",
       "        -15.89160864, -16.66163991, -17.43167117, -18.20170243,\n",
       "        -18.9717337 , -19.74176496, -20.51179623, -21.28182749,\n",
       "        -22.05185875, -22.82189002, -23.59192128, -24.36195254,\n",
       "        -25.13198381, -25.90201507, -26.67204634, -27.4420776 ,\n",
       "        -28.21210886, -28.98214013, -29.75217139, -30.52220266,\n",
       "        -31.29223392, -32.06226518, -32.83229645, -33.60232771,\n",
       "        -34.37235897, -35.14239024, -35.9124215 , -36.68245277,\n",
       "        -37.45248403, -38.22251529]),\n",
       " array([ -0.45678563,  -1.22787893,  -1.99897224,  -2.77006554,\n",
       "         -3.54115884,  -4.31225215,  -5.08334545,  -5.85443875,\n",
       "         -6.62553206,  -7.39662536,  -8.16771866,  -8.93881197,\n",
       "         -9.70990527, -10.48099857, -11.25209187, -12.02318518,\n",
       "        -12.79427848, -13.56537178, -14.33646509, -15.10755839,\n",
       "        -15.87865169, -16.649745  , -17.4208383 , -18.1919316 ,\n",
       "        -18.96302491, -19.73411821, -20.50521151, -21.27630482,\n",
       "        -22.04739812, -22.81849142, -23.58958473, -24.36067803,\n",
       "        -25.13177133, -25.90286463, -26.67395794, -27.44505124,\n",
       "        -28.21614454, -28.98723785, -29.75833115, -30.52942445,\n",
       "        -31.30051776, -32.07161106, -32.84270436, -33.61379767,\n",
       "        -34.38489097, -35.15598427, -35.92707758, -36.69817088,\n",
       "        -37.46926418, -38.24035749]),\n",
       " array([ -0.42303873,  -1.19518006,  -1.96732139,  -2.73946272,\n",
       "         -3.51160405,  -4.28374538,  -5.05588671,  -5.82802804,\n",
       "         -6.60016937,  -7.3723107 ,  -8.14445203,  -8.91659336,\n",
       "         -9.68873469, -10.46087602, -11.23301735, -12.00515868,\n",
       "        -12.77730001, -13.54944134, -14.32158267, -15.093724  ,\n",
       "        -15.86586533, -16.63800666, -17.41014799, -18.18228932,\n",
       "        -18.95443065, -19.72657198, -20.49871331, -21.27085464,\n",
       "        -22.04299597, -22.8151373 , -23.58727863, -24.35941996,\n",
       "        -25.13156129, -25.90370262, -26.67584395, -27.44798528,\n",
       "        -28.22012661, -28.99226794, -29.76440927, -30.5365506 ,\n",
       "        -31.30869193, -32.08083326, -32.85297459, -33.62511592,\n",
       "        -34.39725725, -35.16939858, -35.94153991, -36.71368124,\n",
       "        -37.48582257, -38.2579639 ]),\n",
       " array([ -0.38974436,  -1.16291966,  -1.93609495,  -2.70927024,\n",
       "         -3.48244553,  -4.25562082,  -5.02879612,  -5.80197141,\n",
       "         -6.5751467 ,  -7.34832199,  -8.12149728,  -8.89467258,\n",
       "         -9.66784787, -10.44102316, -11.21419845, -11.98737374,\n",
       "        -12.76054903, -13.53372433, -14.30689962, -15.08007491,\n",
       "        -15.8532502 , -16.62642549, -17.39960079, -18.17277608,\n",
       "        -18.94595137, -19.71912666, -20.49230195, -21.26547725,\n",
       "        -22.03865254, -22.81182783, -23.58500312, -24.35817841,\n",
       "        -25.13135371, -25.904529  , -26.67770429, -27.45087958,\n",
       "        -28.22405487, -28.99723016, -29.77040546, -30.54358075,\n",
       "        -31.31675604, -32.08993133, -32.86310662, -33.63628192,\n",
       "        -34.40945721, -35.1826325 , -35.95580779, -36.72898308,\n",
       "        -37.50215838, -38.27533367]),\n",
       " array([ -0.35690411,  -1.13109925,  -1.90529439,  -2.67948953,\n",
       "         -3.45368467,  -4.22787981,  -5.00207495,  -5.77627009,\n",
       "         -6.55046524,  -7.32466038,  -8.09885552,  -8.87305066,\n",
       "         -9.6472458 , -10.42144094, -11.19563608, -11.96983122,\n",
       "        -12.74402636, -13.5182215 , -14.29241664, -15.06661178,\n",
       "        -15.84080692, -16.61500207, -17.38919721, -18.16339235,\n",
       "        -18.93758749, -19.71178263, -20.48597777, -21.26017291,\n",
       "        -22.03436805, -22.80856319, -23.58275833, -24.35695347,\n",
       "        -25.13114861, -25.90534375, -26.6795389 , -27.45373404,\n",
       "        -28.22792918, -29.00212432, -29.77631946, -30.5505146 ,\n",
       "        -31.32470974, -32.09890488, -32.87310002, -33.64729516,\n",
       "        -34.4214903 , -35.19568544, -35.96988059, -36.74407573,\n",
       "        -37.51827087, -38.29246601]),\n",
       " array([ -0.32451938,  -1.09972021,  -1.87492104,  -2.65012188,\n",
       "         -3.42532271,  -4.20052354,  -4.97572438,  -5.75092521,\n",
       "         -6.52612604,  -7.30132688,  -8.07652771,  -8.85172854,\n",
       "         -9.62692938, -10.40213021, -11.17733104, -11.95253188,\n",
       "        -12.72773271, -13.50293354, -14.27813438, -15.05333521,\n",
       "        -15.82853604, -16.60373688, -17.37893771, -18.15413854,\n",
       "        -18.92933938, -19.70454021, -20.47974104, -21.25494188,\n",
       "        -22.03014271, -22.80534354, -23.58054437, -24.35574521,\n",
       "        -25.13094604, -25.90614687, -26.68134771, -27.45654854,\n",
       "        -28.23174937, -29.00695021, -29.78215104, -30.55735187,\n",
       "        -31.33255271, -32.10775354, -32.88295437, -33.65815521,\n",
       "        -34.43335604, -35.20855687, -35.98375771, -36.75895854,\n",
       "        -37.53415937, -38.30936021]),\n",
       " array([ -0.29259144,  -1.06878377,  -1.8449761 ,  -2.62116843,\n",
       "         -3.39736076,  -4.17355309,  -4.94974542,  -5.72593775,\n",
       "         -6.50213008,  -7.27832241,  -8.05451474,  -8.83070707,\n",
       "         -9.6068994 , -10.38309173, -11.15928407, -11.9354764 ,\n",
       "        -12.71166873, -13.48786106, -14.26405339, -15.04024572,\n",
       "        -15.81643805, -16.59263038, -17.36882271, -18.14501504,\n",
       "        -18.92120737, -19.6973997 , -20.47359203, -21.24978436,\n",
       "        -22.02597669, -22.80216902, -23.57836135, -24.35455368,\n",
       "        -25.13074601, -25.90693834, -26.68313067, -27.459323  ,\n",
       "        -28.23551533, -29.01170766, -29.78789999, -30.56409232,\n",
       "        -31.34028466, -32.11647699, -32.89266932, -33.66886165,\n",
       "        -34.44505398, -35.22124631, -35.99743864, -36.77363097,\n",
       "        -37.5498233 , -38.32601563]),\n",
       " array([ -0.26112141,  -1.03829101,  -1.81546061,  -2.59263021,\n",
       "         -3.3697998 ,  -4.1469694 ,  -4.924139  ,  -5.7013086 ,\n",
       "         -6.4784782 ,  -7.25564779,  -8.03281739,  -8.80998699,\n",
       "         -9.58715659, -10.36432619, -11.14149579, -11.91866538,\n",
       "        -12.69583498, -13.47300458, -14.25017418, -15.02734378,\n",
       "        -15.80451337, -16.58168297, -17.35885257, -18.13602217,\n",
       "        -18.91319177, -19.69036136, -20.46753096, -21.24470056,\n",
       "        -22.02187016, -22.79903976, -23.57620935, -24.35337895,\n",
       "        -25.13054855, -25.90771815, -26.68488775, -27.46205735,\n",
       "        -28.23922694, -29.01639654, -29.79356614, -30.57073574,\n",
       "        -31.34790534, -32.12507493, -32.90224453, -33.67941413,\n",
       "        -34.45658373, -35.23375333, -36.01092292, -36.78809252,\n",
       "        -37.56526212, -38.34243172]),\n",
       " array([ -0.23011026,  -1.00824287,  -1.78637548,  -2.56450808,\n",
       "         -3.34264069,  -4.1207733 ,  -4.8989059 ,  -5.67703851,\n",
       "         -6.45517112,  -7.23330372,  -8.01143633,  -8.78956894,\n",
       "         -9.56770154, -10.34583415, -11.12396676, -11.90209936,\n",
       "        -12.68023197, -13.45836458, -14.23649719, -15.01462979,\n",
       "        -15.7927624 , -16.57089501, -17.34902761, -18.12716022,\n",
       "        -18.90529283, -19.68342543, -20.46155804, -21.23969065,\n",
       "        -22.01782325, -22.79595586, -23.57408847, -24.35222107,\n",
       "        -25.13035368, -25.90848629, -26.6866189 , -27.4647515 ,\n",
       "        -28.24288411, -29.02101672, -29.79914932, -30.57728193,\n",
       "        -31.35541454, -32.13354714, -32.91167975, -33.68981236,\n",
       "        -34.46794496, -35.24607757, -36.02421018, -36.80234278,\n",
       "        -37.58047539, -38.358608  ]),\n",
       " array([ -0.1995588 ,  -0.97864013,  -1.75772147,  -2.5368028 ,\n",
       "         -3.31588413,  -4.09496546,  -4.87404679,  -5.65312813,\n",
       "         -6.43220946,  -7.21129079,  -7.99037212,  -8.76945345,\n",
       "         -9.54853479, -10.32761612, -11.10669745, -11.88577878,\n",
       "        -12.66486011, -13.44394145, -14.22302278, -15.00210411,\n",
       "        -15.78118544, -16.56026677, -17.33934811, -18.11842944,\n",
       "        -18.89751077, -19.6765921 , -20.45567343, -21.23475477,\n",
       "        -22.0138361 , -22.79291743, -23.57199876, -24.35108009,\n",
       "        -25.13016143, -25.90924276, -26.68832409, -27.46740542,\n",
       "        -28.24648675, -29.02556809, -29.80464942, -30.58373075,\n",
       "        -31.36281208, -32.14189341, -32.92097475, -33.70005608,\n",
       "        -34.47913741, -35.25821874, -36.03730007, -36.81638141,\n",
       "        -37.59546274, -38.37454407]),\n",
       " array([ -0.16946769,  -0.94948344,  -1.7294992 ,  -2.50951495,\n",
       "         -3.2895307 ,  -4.06954646,  -4.84956221,  -5.62957796,\n",
       "         -6.40959372,  -7.18960947,  -7.96962523,  -8.74964098,\n",
       "         -9.52965673, -10.30967249, -11.08968824, -11.86970399,\n",
       "        -12.64971975, -13.4297355 , -14.20975125, -14.98976701,\n",
       "        -15.76978276, -16.54979851, -17.32981427, -18.10983002,\n",
       "        -18.88984577, -19.66986153, -20.44987728, -21.22989303,\n",
       "        -22.00990879, -22.78992454, -23.5699403 , -24.34995605,\n",
       "        -25.1299718 , -25.90998756, -26.69000331, -27.47001906,\n",
       "        -28.25003482, -29.03005057, -29.81006632, -30.59008208,\n",
       "        -31.37009783, -32.15011358, -32.93012934, -33.71014509,\n",
       "        -34.49016084, -35.2701766 , -36.05019235, -36.8302081 ,\n",
       "        -37.61022386, -38.39023961]),\n",
       " array([ -0.13983743,  -0.92077329,  -1.70170915,  -2.482645  ,\n",
       "         -3.26358086,  -4.04451671,  -4.82545257,  -5.60638843,\n",
       "         -6.38732428,  -7.16826014,  -7.949196  ,  -8.73013185,\n",
       "         -9.51106771, -10.29200356, -11.07293942, -11.85387528,\n",
       "        -12.63481113, -13.41574699, -14.19668284, -14.9776187 ,\n",
       "        -15.75855456, -16.53949041, -17.32042627, -18.10136213,\n",
       "        -18.88229798, -19.66323384, -20.44416969, -21.22510555,\n",
       "        -22.00604141, -22.78697726, -23.56791312, -24.34884897,\n",
       "        -25.12978483, -25.91072069, -26.69165654, -27.4725924 ,\n",
       "        -28.25352826, -29.03446411, -29.81539997, -30.59633582,\n",
       "        -31.37727168, -32.15820754, -32.93914339, -33.72007925,\n",
       "        -34.50101511, -35.28195096, -36.06288682, -36.84382267,\n",
       "        -37.62475853, -38.40569439]),\n",
       " array([ -0.11066838,  -0.89251001,  -1.67435164,  -2.45619327,\n",
       "         -3.2380349 ,  -4.01987653,  -4.80171816,  -5.58355979,\n",
       "         -6.36540142,  -7.14724305,  -7.92908468,  -8.71092631,\n",
       "         -9.49276793, -10.27460956, -11.05645119, -11.83829282,\n",
       "        -12.62013445, -13.40197608, -14.18381771, -14.96565934,\n",
       "        -15.74750097, -16.5293426 , -17.31118423, -18.09302586,\n",
       "        -18.87486749, -19.65670912, -20.43855075, -21.22039238,\n",
       "        -22.00223401, -22.78407564, -23.56591727, -24.3477589 ,\n",
       "        -25.12960053, -25.91144216, -26.69328379, -27.47512542,\n",
       "        -28.25696705, -29.03880868, -29.82065031, -30.60249194,\n",
       "        -31.38433357, -32.1661752 , -32.94801683, -33.72985846,\n",
       "        -34.51170009, -35.29354172, -36.07538335, -36.85722498,\n",
       "        -37.63906661, -38.42090824]),\n",
       " array([ -0.08196072,  -0.86469378,  -1.64742685,  -2.43015992,\n",
       "         -3.21289299,  -3.99562606,  -4.77835913,  -5.5610922 ,\n",
       "         -6.34382526,  -7.12655833,  -7.9092914 ,  -8.69202447,\n",
       "         -9.47475754, -10.25749061, -11.04022368, -11.82295675,\n",
       "        -12.60568981, -13.38842288, -14.17115595, -14.95388902,\n",
       "        -15.73662209, -16.51935516, -17.30208823, -18.0848213 ,\n",
       "        -18.86755436, -19.65028743, -20.4330205 , -21.21575357,\n",
       "        -21.99848664, -22.78121971, -23.56395278, -24.34668585,\n",
       "        -25.12941891, -25.91215198, -26.69488505, -27.47761812,\n",
       "        -28.26035119, -29.04308426, -29.82581733, -30.6085504 ,\n",
       "        -31.39128346, -32.17401653, -32.9567496 , -33.73948267,\n",
       "        -34.52221574, -35.30494881, -36.08768188, -36.87041494,\n",
       "        -37.65314801, -38.43588108]),\n",
       " array([ -0.05371448,  -0.83732465,  -1.62093482,  -2.404545  ,\n",
       "         -3.18815517,  -3.97176534,  -4.75537551,  -5.53898569,\n",
       "         -6.32259586,  -7.10620603,  -7.8898162 ,  -8.67342638,\n",
       "         -9.45703655, -10.24064672, -11.02425689, -11.80786707,\n",
       "        -12.59147724, -13.37508741, -14.15869758, -14.94230776,\n",
       "        -15.72591793, -16.5095281 , -17.29313827, -18.07674845,\n",
       "        -18.86035862, -19.64396879, -20.42757896, -21.21118914,\n",
       "        -21.99479931, -22.77840948, -23.56201965, -24.34562983,\n",
       "        -25.12924   , -25.91285017, -26.69646034, -27.48007052,\n",
       "        -28.26368069, -29.04729086, -29.83090103, -30.61451121,\n",
       "        -31.39812138, -32.18173155, -32.96534172, -33.7489519 ,\n",
       "        -34.53256207, -35.31617224, -36.09978241, -36.88339259,\n",
       "        -37.66700276, -38.45061293]),\n",
       " array([-2.59295452e-02, -8.10402491e-01, -1.59487544e+00, -2.37934838e+00,\n",
       "        -3.16382133e+00, -3.94829427e+00, -4.73276722e+00, -5.51724016e+00,\n",
       "        -6.30171311e+00, -7.08618605e+00, -7.87065900e+00, -8.65513194e+00,\n",
       "        -9.43960489e+00, -1.02240778e+01, -1.10085508e+01, -1.17930237e+01,\n",
       "        -1.25774967e+01, -1.33619696e+01, -1.41464426e+01, -1.49309155e+01,\n",
       "        -1.57153885e+01, -1.64998614e+01, -1.72843343e+01, -1.80688073e+01,\n",
       "        -1.88532802e+01, -1.96377532e+01, -2.04222261e+01, -2.12066991e+01,\n",
       "        -2.19911720e+01, -2.27756450e+01, -2.35601179e+01, -2.43445909e+01,\n",
       "        -2.51290638e+01, -2.59135367e+01, -2.66980097e+01, -2.74824826e+01,\n",
       "        -2.82669556e+01, -2.90514285e+01, -2.98359015e+01, -3.06203744e+01,\n",
       "        -3.14048474e+01, -3.21893203e+01, -3.29737933e+01, -3.37582662e+01,\n",
       "        -3.45427391e+01, -3.53272121e+01, -3.61116850e+01, -3.68961580e+01,\n",
       "        -3.76806309e+01, -3.84651039e+01]),\n",
       " array([ 1.39436922e-03, -7.83927027e-01, -1.56924842e+00, -2.35456982e+00,\n",
       "        -3.13989122e+00, -3.92521261e+00, -4.71053401e+00, -5.49585541e+00,\n",
       "        -6.28117680e+00, -7.06649820e+00, -7.85181960e+00, -8.63714099e+00,\n",
       "        -9.42246239e+00, -1.02077838e+01, -1.09931052e+01, -1.17784266e+01,\n",
       "        -1.25637480e+01, -1.33490694e+01, -1.41343908e+01, -1.49197122e+01,\n",
       "        -1.57050336e+01, -1.64903550e+01, -1.72756764e+01, -1.80609978e+01,\n",
       "        -1.88463191e+01, -1.96316405e+01, -2.04169619e+01, -2.12022833e+01,\n",
       "        -2.19876047e+01, -2.27729261e+01, -2.35582475e+01, -2.43435689e+01,\n",
       "        -2.51288903e+01, -2.59142117e+01, -2.66995331e+01, -2.74848545e+01,\n",
       "        -2.82701759e+01, -2.90554973e+01, -2.98408187e+01, -3.06261401e+01,\n",
       "        -3.14114615e+01, -3.21967829e+01, -3.29821043e+01, -3.37674257e+01,\n",
       "        -3.45527471e+01, -3.53380685e+01, -3.61233899e+01, -3.69087113e+01,\n",
       "        -3.76940327e+01, -3.84793541e+01]),\n",
       " array([ 2.82577059e-02, -7.57897834e-01, -1.54405337e+00, -2.33020891e+00,\n",
       "        -3.11636445e+00, -3.90251999e+00, -4.68867553e+00, -5.47483107e+00,\n",
       "        -6.26098662e+00, -7.04714216e+00, -7.83329770e+00, -8.61945324e+00,\n",
       "        -9.40560878e+00, -1.01917643e+01, -1.09779199e+01, -1.17640754e+01,\n",
       "        -1.25502309e+01, -1.33363865e+01, -1.41225420e+01, -1.49086976e+01,\n",
       "        -1.56948531e+01, -1.64810086e+01, -1.72671642e+01, -1.80533197e+01,\n",
       "        -1.88394753e+01, -1.96256308e+01, -2.04117863e+01, -2.11979419e+01,\n",
       "        -2.19840974e+01, -2.27702530e+01, -2.35564085e+01, -2.43425640e+01,\n",
       "        -2.51287196e+01, -2.59148751e+01, -2.67010307e+01, -2.74871862e+01,\n",
       "        -2.82733417e+01, -2.90594973e+01, -2.98456528e+01, -3.06318084e+01,\n",
       "        -3.14179639e+01, -3.22041194e+01, -3.29902750e+01, -3.37764305e+01,\n",
       "        -3.45625861e+01, -3.53487416e+01, -3.61348971e+01, -3.69210527e+01,\n",
       "        -3.77072082e+01, -3.84933638e+01]),\n",
       " array([  0.05466107,  -0.73231433,  -1.51928972,  -2.30626512,\n",
       "         -3.09324052,  -3.88021591,  -4.66719131,  -5.4541667 ,\n",
       "         -6.2411421 ,  -7.02811749,  -7.81509289,  -8.60206828,\n",
       "         -9.38904368, -10.17601907, -10.96299447, -11.74996986,\n",
       "        -12.53694526, -13.32392065, -14.11089605, -14.89787144,\n",
       "        -15.68484684, -16.47182223, -17.25879763, -18.04577302,\n",
       "        -18.83274842, -19.61972381, -20.40669921, -21.1936746 ,\n",
       "        -21.98065   , -22.76762539, -23.55460079, -24.34157618,\n",
       "        -25.12855158, -25.91552698, -26.70250237, -27.48947777,\n",
       "        -28.27645316, -29.06342856, -29.85040395, -30.63737935,\n",
       "        -31.42435474, -32.21133014, -32.99830553, -33.78528093,\n",
       "        -34.57225632, -35.35923172, -36.14620711, -36.93318251,\n",
       "        -37.7201579 , -38.5071333 ]),\n",
       " array([  0.08060521,  -0.70717578,  -1.49495676,  -2.28273775,\n",
       "         -3.07051874,  -3.85829972,  -4.64608071,  -5.43386169,\n",
       "         -6.22164268,  -7.00942366,  -7.79720465,  -8.58498563,\n",
       "         -9.37276662, -10.16054761, -10.94832859, -11.73610958,\n",
       "        -12.52389056, -13.31167155, -14.09945253, -14.88723352,\n",
       "        -15.67501451, -16.46279549, -17.25057648, -18.03835746,\n",
       "        -18.82613845, -19.61391943, -20.40170042, -21.18948141,\n",
       "        -21.97726239, -22.76504338, -23.55282436, -24.34060535,\n",
       "        -25.12838633, -25.91616732, -26.70394831, -27.49172929,\n",
       "        -28.27951028, -29.06729126, -29.85507225, -30.64285323,\n",
       "        -31.43063422, -32.2184152 , -33.00619619, -33.79397718,\n",
       "        -34.58175816, -35.36953915, -36.15732013, -36.94510112,\n",
       "        -37.7328821 , -38.52066309]),\n",
       " array([  0.10609105,  -0.68248129,  -1.47105363,  -2.25962597,\n",
       "         -3.04819831,  -3.83677065,  -4.62534299,  -5.41391533,\n",
       "         -6.20248767,  -6.99106001,  -7.77963235,  -8.56820469,\n",
       "         -9.35677703, -10.14534938, -10.93392172, -11.72249406,\n",
       "        -12.5110664 , -13.29963874, -14.08821108, -14.87678342,\n",
       "        -15.66535576, -16.4539281 , -17.24250044, -18.03107278,\n",
       "        -18.81964512, -19.60821746, -20.3967898 , -21.18536214,\n",
       "        -21.97393448, -22.76250682, -23.55107916, -24.3396515 ,\n",
       "        -25.12822384, -25.91679619, -26.70536853, -27.49394087,\n",
       "        -28.28251321, -29.07108555, -29.85965789, -30.64823023,\n",
       "        -31.43680257, -32.22537491, -33.01394725, -33.80251959,\n",
       "        -34.59109193, -35.37966427, -36.16823661, -36.95680895,\n",
       "        -37.74538129, -38.53395363]),\n",
       " array([  0.13111967,  -0.65822982,  -1.44757931,  -2.23692881,\n",
       "         -3.0262783 ,  -3.81562779,  -4.60497729,  -5.39432678,\n",
       "         -6.18367627,  -6.97302577,  -7.76237526,  -8.55172475,\n",
       "         -9.34107425, -10.13042374, -10.91977323, -11.70912273,\n",
       "        -12.49847222, -13.28782172, -14.07717121, -14.8665207 ,\n",
       "        -15.6558702 , -16.44521969, -17.23456918, -18.02391868,\n",
       "        -18.81326817, -19.60261766, -20.39196716, -21.18131665,\n",
       "        -21.97066614, -22.76001564, -23.54936513, -24.33871462,\n",
       "        -25.12806412, -25.91741361, -26.7067631 , -27.4961126 ,\n",
       "        -28.28546209, -29.07481158, -29.86416108, -30.65351057,\n",
       "        -31.44286006, -32.23220956, -33.02155905, -33.81090855,\n",
       "        -34.60025804, -35.38960753, -36.17895703, -36.96830652,\n",
       "        -37.75765601, -38.54700551])]"
      ]
     },
     "execution_count": 324,
     "metadata": {},
     "output_type": "execute_result"
    }
   ],
   "source": [
    "harr"
   ]
  },
  {
   "cell_type": "code",
   "execution_count": 325,
   "metadata": {},
   "outputs": [
    {
     "data": {
      "text/plain": [
       "0.15569231019844712"
      ]
     },
     "execution_count": 325,
     "metadata": {},
     "output_type": "execute_result"
    }
   ],
   "source": [
    "theta0"
   ]
  },
  {
   "cell_type": "code",
   "execution_count": 326,
   "metadata": {},
   "outputs": [
    {
     "data": {
      "text/plain": [
       "-1.9357755840131747"
      ]
     },
     "execution_count": 326,
     "metadata": {},
     "output_type": "execute_result"
    }
   ],
   "source": [
    " theta1"
   ]
  },
  {
   "cell_type": "markdown",
   "metadata": {},
   "source": [
    "#### Plot loss vs. epochs"
   ]
  },
  {
   "cell_type": "code",
   "execution_count": 327,
   "metadata": {},
   "outputs": [
    {
     "data": {
      "image/png": "[encoded data removed]",
      "text/plain": [
       "<Figure size 432x288 with 1 Axes>"
      ]
     },
     "metadata": {
      "needs_background": "light"
     },
     "output_type": "display_data"
    }
   ],
   "source": [
    "\n",
    "plt.plot(lossarr) \n",
    "plt.title('Loss vs Epochs')                   ###Loss vs epochs\n",
    "plt.show()"
   ]
  },
  {
   "cell_type": "markdown",
   "metadata": {},
   "source": [
    "#### Plot Theta_0 vs. loss and Theta_1 vs. loss"
   ]
  },
  {
   "cell_type": "code",
   "execution_count": 328,
   "metadata": {},
   "outputs": [
    {
     "data": {
      "image/png": "[encoded data removed]",
      "text/plain": [
       "<Figure size 432x288 with 1 Axes>"
      ]
     },
     "metadata": {
      "needs_background": "light"
     },
     "output_type": "display_data"
    }
   ],
   "source": [
    "plt.plot(theta0arr, lossarr)\n",
    "plt.xlabel('theta_0')\n",
    "plt.ylabel('cost')\n",
    "plt.title('Theta_0 vs. loss')\n",
    "plt.show()"
   ]
  },
  {
   "cell_type": "code",
   "execution_count": 329,
   "metadata": {},
   "outputs": [
    {
     "data": {
      "image/png": "[encoded data removed]",
      "text/plain": [
       "<Figure size 432x288 with 1 Axes>"
      ]
     },
     "metadata": {
      "needs_background": "light"
     },
     "output_type": "display_data"
    }
   ],
   "source": [
    "\n",
    "plt.plot(theta1arr, lossarr)\n",
    "plt.xlabel('theta_1')\n",
    "plt.ylabel('cost')\n",
    "plt.title('Theta_1 vs. loss')\n",
    "plt.show()"
   ]
  },
  {
   "cell_type": "markdown",
   "metadata": {},
   "source": [
    "#### Plot all regression lines till converge"
   ]
  },
  {
   "cell_type": "code",
   "execution_count": 330,
   "metadata": {},
   "outputs": [
    {
     "data": {
      "image/png": "[encoded data removed]",
      "text/plain": [
       "<Figure size 432x288 with 1 Axes>"
      ]
     },
     "metadata": {
      "needs_background": "light"
     },
     "output_type": "display_data"
    }
   ],
   "source": [
    "for i in range(len(harr)):\n",
    "    plt.plot(x,harr[i])\n",
    "    plt.scatter(x,y,color=\"Red\")\n",
    "plt.show()"
   ]
  },
  {
   "cell_type": "markdown",
   "metadata": {},
   "source": [
    "#### Plot the best regression line"
   ]
  },
  {
   "cell_type": "code",
   "execution_count": 331,
   "metadata": {},
   "outputs": [
    {
     "data": {
      "image/png": "[encoded data removed]",
      "text/plain": [
       "<Figure size 432x288 with 1 Axes>"
      ]
     },
     "metadata": {
      "needs_background": "light"
     },
     "output_type": "display_data"
    }
   ],
   "source": [
    "plt.scatter(x,y,color=\"red\")\n",
    "plt.plot(x,h)\n",
    "plt.title('Best regression line - using optimum thetas')\n",
    "plt.show()"
   ]
  },
  {
   "cell_type": "markdown",
   "metadata": {
    "id": "5f6e8heiL8aX"
   },
   "source": [
    "## Adam"
   ]
  },
  {
   "cell_type": "code",
   "execution_count": 332,
   "metadata": {
    "id": "U17WQaJOL8aZ"
   },
   "outputs": [],
   "source": [
    "def Adam (x,y,learning_rate,epslon,Max_iterations,beta1,beta2):\n",
    "    theta0=0\n",
    "    theta1=1\n",
    "    v0=0\n",
    "    v1=0\n",
    "    m0=0\n",
    "    m1=0\n",
    "    m=len(x)\n",
    "    alpha=learning_rate\n",
    "    theta0arr=[]\n",
    "    theta1arr=[]\n",
    "    lossarr=[]\n",
    "    harr=[]\n",
    "    \n",
    "    for i in range(Max_iterations):\n",
    "        h=theta0 + theta1 * x\n",
    "        harr.append(h)\n",
    "        \n",
    "        loss=(1/(2*m))*np.sum((h-y)**2)\n",
    "        lossarr.append(loss)\n",
    "\n",
    "        theta0arr.append(theta0)\n",
    "        theta1arr.append(theta1)\n",
    "        \n",
    "        gradient0=(1/m)*np.sum(h-y)\n",
    "        m0= beta1 * m0 + (1-beta1) * (gradient0)\n",
    "        v0 = beta2 *v0 + (1-beta2) * (gradient0**2)\n",
    "        theta0 = theta0 - (alpha/(np.sqrt(v0)+epslon)*m0)\n",
    "        \n",
    "        gradient1=(1/m)*np.sum((h-y)*x)\n",
    "        m1= beta1 * m1 + (1-beta1) * (gradient1)\n",
    "        v1 = beta2 * v1 + (1-beta2) * (gradient1**2)\n",
    "        theta1 = theta1 - (alpha/(np.sqrt(v1)+epslon)*m1)\n",
    "        \n",
    "        if loss < 0.1:\n",
    "            break;\n",
    "            \n",
    "            \n",
    "    return theta0arr,theta1arr,lossarr,harr,theta0,theta1\n",
    "    "
   ]
  },
  {
   "cell_type": "code",
   "execution_count": 333,
   "metadata": {},
   "outputs": [],
   "source": [
    "theta0arr , theta1arr , lossarr , harr , theta0 , theta1 = Adam(x,y,0.3,1e-8,350,0.9,0.999)"
   ]
  },
  {
   "cell_type": "markdown",
   "metadata": {},
   "source": [
    "#### Calculate r2 score"
   ]
  },
  {
   "cell_type": "code",
   "execution_count": 349,
   "metadata": {},
   "outputs": [],
   "source": [
    "import sklearn\n",
    "from sklearn.metrics import r2_score"
   ]
  },
  {
   "cell_type": "code",
   "execution_count": 350,
   "metadata": {},
   "outputs": [
    {
     "data": {
      "text/plain": [
       "0.9984572073135131"
      ]
     },
     "execution_count": 350,
     "metadata": {},
     "output_type": "execute_result"
    }
   ],
   "source": [
    "sklearn.metrics.r2_score(h,y)"
   ]
  },
  {
   "cell_type": "code",
   "execution_count": 334,
   "metadata": {},
   "outputs": [
    {
     "data": {
      "text/plain": [
       "[0,\n",
       " -0.9486832877056856,\n",
       " -2.17969226302305,\n",
       " -3.4129902935322107,\n",
       " -4.258085684797691,\n",
       " -4.495654854903985,\n",
       " -4.227548025649222,\n",
       " -3.626782771077592,\n",
       " -2.8455076990176833,\n",
       " -2.0273199764257597,\n",
       " -1.3160272712538297,\n",
       " -0.8299064226499517,\n",
       " -0.6211526383127758,\n",
       " -0.6701442913707774,\n",
       " -0.9128288365813287,\n",
       " -1.2657523006645417,\n",
       " -1.6391029793251515,\n",
       " -1.9472287685990903,\n",
       " -2.1233320580897246,\n",
       " -2.133423595539241,\n",
       " -1.9797217601868695,\n",
       " -1.6929217651980308,\n",
       " -1.3210966433357487,\n",
       " -0.920270267216097,\n",
       " -0.5462228105531186,\n",
       " -0.24593808346599366,\n",
       " -0.049615158619889604,\n",
       " 0.033711218090757,\n",
       " 0.015241125025835797,\n",
       " -0.07846458070106814,\n",
       " -0.21185477666131125,\n",
       " -0.3468879066784762,\n",
       " -0.4492852420657738,\n",
       " -0.4939897907951246,\n",
       " -0.4687249000637382,\n",
       " -0.3747728755476129,\n",
       " -0.22511917328226866,\n",
       " -0.04090827223269866,\n",
       " 0.15282718268937975]"
      ]
     },
     "execution_count": 334,
     "metadata": {},
     "output_type": "execute_result"
    }
   ],
   "source": [
    "theta0arr"
   ]
  },
  {
   "cell_type": "code",
   "execution_count": 335,
   "metadata": {},
   "outputs": [
    {
     "data": {
      "text/plain": [
       "[1,\n",
       " 0.051316702710750506,\n",
       " -1.1824008443869891,\n",
       " -2.4341489363455766,\n",
       " -3.336180688293484,\n",
       " -3.660238468829631,\n",
       " -3.4841129814611365,\n",
       " -2.973554634797881,\n",
       " -2.2823266537748728,\n",
       " -1.557762859166664,\n",
       " -0.946527265831542,\n",
       " -0.5664705965310597,\n",
       " -0.4663021118049302,\n",
       " -0.6231160022110497,\n",
       " -0.9717523317299287,\n",
       " -1.4293538471381466,\n",
       " -1.9072176657284885,\n",
       " -2.3203018021038733,\n",
       " -2.601395428874718,\n",
       " -2.7153360769800816,\n",
       " -2.6632234407234794,\n",
       " -2.4752705932760692,\n",
       " -2.1996941249074946,\n",
       " -1.8929313860512966,\n",
       " -1.6110696080206497,\n",
       " -1.4010828287483483,\n",
       " -1.2928767222500384,\n",
       " -1.2951242657855524,\n",
       " -1.3964077455045782,\n",
       " -1.570158254337991,\n",
       " -1.7809487483475286,\n",
       " -1.9908659023909336,\n",
       " -2.1656726814407667,\n",
       " -2.280257036971022,\n",
       " -2.322249501983944,\n",
       " -2.2928770435758934,\n",
       " -2.2051459963929863,\n",
       " -2.0802852676716728,\n",
       " -1.9434330487423304]"
      ]
     },
     "execution_count": 335,
     "metadata": {},
     "output_type": "execute_result"
    }
   ],
   "source": [
    "theta1arr"
   ]
  },
  {
   "cell_type": "code",
   "execution_count": 336,
   "metadata": {},
   "outputs": [
    {
     "data": {
      "text/plain": [
       "[576.6224489795919,\n",
       " 245.31421565519793,\n",
       " 24.077383361523346,\n",
       " 41.59009997293054,\n",
       " 204.3210569027298,\n",
       " 291.9766351605954,\n",
       " 239.58413228074124,\n",
       " 119.57982708441446,\n",
       " 23.618970594499284,\n",
       " 4.365689053376123,\n",
       " 53.02523137060251,\n",
       " 113.84043248037925,\n",
       " 134.86592090377044,\n",
       " 106.07571073631365,\n",
       " 53.36630410968691,\n",
       " 11.568045648921608,\n",
       " 1.613571187540945,\n",
       " 20.692446516650485,\n",
       " 48.018980332672484,\n",
       " 61.7854937910302,\n",
       " 53.825167671530465,\n",
       " 31.637049506428294,\n",
       " 10.014482395538822,\n",
       " 0.559756490533597,\n",
       " 5.3690313245748715,\n",
       " 17.47151041185888,\n",
       " 26.803813464725295,\n",
       " 27.117034966221016,\n",
       " 19.07702656217412,\n",
       " 8.389136779257313,\n",
       " 1.3112514700388465,\n",
       " 0.7896463327248944,\n",
       " 5.299784463181391,\n",
       " 10.592712683074133,\n",
       " 12.805160541908705,\n",
       " 10.748210235649585,\n",
       " 6.098029255097927,\n",
       " 1.8115408015853485,\n",
       " 0.09512913647988556]"
      ]
     },
     "execution_count": 336,
     "metadata": {},
     "output_type": "execute_result"
    }
   ],
   "source": [
    " lossarr"
   ]
  },
  {
   "cell_type": "code",
   "execution_count": 337,
   "metadata": {},
   "outputs": [
    {
     "data": {
      "text/plain": [
       "[array([ 0.        ,  0.40816327,  0.81632653,  1.2244898 ,  1.63265306,\n",
       "         2.04081633,  2.44897959,  2.85714286,  3.26530612,  3.67346939,\n",
       "         4.08163265,  4.48979592,  4.89795918,  5.30612245,  5.71428571,\n",
       "         6.12244898,  6.53061224,  6.93877551,  7.34693878,  7.75510204,\n",
       "         8.16326531,  8.57142857,  8.97959184,  9.3877551 ,  9.79591837,\n",
       "        10.20408163, 10.6122449 , 11.02040816, 11.42857143, 11.83673469,\n",
       "        12.24489796, 12.65306122, 13.06122449, 13.46938776, 13.87755102,\n",
       "        14.28571429, 14.69387755, 15.10204082, 15.51020408, 15.91836735,\n",
       "        16.32653061, 16.73469388, 17.14285714, 17.55102041, 17.95918367,\n",
       "        18.36734694, 18.7755102 , 19.18367347, 19.59183673, 20.        ]),\n",
       " array([-0.94868329, -0.92773769, -0.9067921 , -0.88584651, -0.86490092,\n",
       "        -0.84395532, -0.82300973, -0.80206414, -0.78111854, -0.76017295,\n",
       "        -0.73922736, -0.71828177, -0.69733617, -0.67639058, -0.65544499,\n",
       "        -0.63449939, -0.6135538 , -0.59260821, -0.57166261, -0.55071702,\n",
       "        -0.52977143, -0.50882584, -0.48788024, -0.46693465, -0.44598906,\n",
       "        -0.42504346, -0.40409787, -0.38315228, -0.36220669, -0.34126109,\n",
       "        -0.3203155 , -0.29936991, -0.27842431, -0.25747872, -0.23653313,\n",
       "        -0.21558753, -0.19464194, -0.17369635, -0.15275076, -0.13180516,\n",
       "        -0.11085957, -0.08991398, -0.06896838, -0.04802279, -0.0270772 ,\n",
       "        -0.00613161,  0.01481399,  0.03575958,  0.05670517,  0.07765077]),\n",
       " array([ -2.17969226,  -2.66230485,  -3.14491744,  -3.62753003,\n",
       "         -4.11014262,  -4.59275521,  -5.0753678 ,  -5.55798039,\n",
       "         -6.04059298,  -6.52320557,  -7.00581816,  -7.48843075,\n",
       "         -7.97104334,  -8.45365593,  -8.93626852,  -9.41888111,\n",
       "         -9.9014937 , -10.38410629, -10.86671887, -11.34933146,\n",
       "        -11.83194405, -12.31455664, -12.79716923, -13.27978182,\n",
       "        -13.76239441, -14.245007  , -14.72761959, -15.21023218,\n",
       "        -15.69284477, -16.17545736, -16.65806995, -17.14068254,\n",
       "        -17.62329513, -18.10590772, -18.58852031, -19.0711329 ,\n",
       "        -19.55374549, -20.03635808, -20.51897067, -21.00158326,\n",
       "        -21.48419584, -21.96680843, -22.44942102, -22.93203361,\n",
       "        -23.4146462 , -23.89725879, -24.37987138, -24.86248397,\n",
       "        -25.34509656, -25.82770915]),\n",
       " array([ -3.41299029,  -4.40652047,  -5.40005065,  -6.39358083,\n",
       "         -7.38711101,  -8.38064118,  -9.37417136, -10.36770154,\n",
       "        -11.36123172, -12.3547619 , -13.34829207, -14.34182225,\n",
       "        -15.33535243, -16.32888261, -17.32241279, -18.31594297,\n",
       "        -19.30947314, -20.30300332, -21.2965335 , -22.29006368,\n",
       "        -23.28359386, -24.27712403, -25.27065421, -26.26418439,\n",
       "        -27.25771457, -28.25124475, -29.24477492, -30.2383051 ,\n",
       "        -31.23183528, -32.22536546, -33.21889564, -34.21242581,\n",
       "        -35.20595599, -36.19948617, -37.19301635, -38.18654653,\n",
       "        -39.18007671, -40.17360688, -41.16713706, -42.16066724,\n",
       "        -43.15419742, -44.1477276 , -45.14125777, -46.13478795,\n",
       "        -47.12831813, -48.12184831, -49.11537849, -50.10890866,\n",
       "        -51.10243884, -52.09596902]),\n",
       " array([ -4.25808568,  -5.61979209,  -6.98149849,  -8.34320489,\n",
       "         -9.7049113 , -11.0666177 , -12.42832411, -13.79003051,\n",
       "        -15.15173691, -16.51344332, -17.87514972, -19.23685612,\n",
       "        -20.59856253, -21.96026893, -23.32197533, -24.68368174,\n",
       "        -26.04538814, -27.40709454, -28.76880095, -30.13050735,\n",
       "        -31.49221375, -32.85392016, -34.21562656, -35.57733296,\n",
       "        -36.93903937, -38.30074577, -39.66245217, -41.02415858,\n",
       "        -42.38586498, -43.74757138, -45.10927779, -46.47098419,\n",
       "        -47.83269059, -49.194397  , -50.5561034 , -51.9178098 ,\n",
       "        -53.27951621, -54.64122261, -56.00292901, -57.36463542,\n",
       "        -58.72634182, -60.08804822, -61.44975463, -62.81146103,\n",
       "        -64.17316743, -65.53487384, -66.89658024, -68.25828664,\n",
       "        -69.61999305, -70.98169945]),\n",
       " array([ -4.49565485,  -5.98962974,  -7.48360463,  -8.97757951,\n",
       "        -10.4715544 , -11.96552928, -13.45950417, -14.95347905,\n",
       "        -16.44745394, -17.94142882, -19.43540371, -20.92937859,\n",
       "        -22.42335348, -23.91732836, -25.41130325, -26.90527813,\n",
       "        -28.39925302, -29.8932279 , -31.38720279, -32.88117767,\n",
       "        -34.37515256, -35.86912744, -37.36310233, -38.85707722,\n",
       "        -40.3510521 , -41.84502699, -43.33900187, -44.83297676,\n",
       "        -46.32695164, -47.82092653, -49.31490141, -50.8088763 ,\n",
       "        -52.30285118, -53.79682607, -55.29080095, -56.78477584,\n",
       "        -58.27875072, -59.77272561, -61.26670049, -62.76067538,\n",
       "        -64.25465026, -65.74862515, -67.24260003, -68.73657492,\n",
       "        -70.23054981, -71.72452469, -73.21849958, -74.71247446,\n",
       "        -76.20644935, -77.70042423]),\n",
       " array([ -4.22754803,  -5.64963496,  -7.07172189,  -8.49380882,\n",
       "         -9.91589575, -11.33798268, -12.76006961, -14.18215654,\n",
       "        -15.60424348, -17.02633041, -18.44841734, -19.87050427,\n",
       "        -21.2925912 , -22.71467813, -24.13676506, -25.55885199,\n",
       "        -26.98093892, -28.40302586, -29.82511279, -31.24719972,\n",
       "        -32.66928665, -34.09137358, -35.51346051, -36.93554744,\n",
       "        -38.35763437, -39.77972131, -41.20180824, -42.62389517,\n",
       "        -44.0459821 , -45.46806903, -46.89015596, -48.31224289,\n",
       "        -49.73432982, -51.15641676, -52.57850369, -54.00059062,\n",
       "        -55.42267755, -56.84476448, -58.26685141, -59.68893834,\n",
       "        -61.11102527, -62.53311221, -63.95519914, -65.37728607,\n",
       "        -66.799373  , -68.22145993, -69.64354686, -71.06563379,\n",
       "        -72.48772072, -73.90980765]),\n",
       " array([ -3.62678277,  -4.84047854,  -6.05417431,  -7.26787008,\n",
       "         -8.48156585,  -9.69526162, -10.90895739, -12.12265316,\n",
       "        -13.33634893, -14.55004469, -15.76374046, -16.97743623,\n",
       "        -18.191132  , -19.40482777, -20.61852354, -21.83221931,\n",
       "        -23.04591508, -24.25961085, -25.47330662, -26.68700239,\n",
       "        -27.90069816, -29.11439393, -30.3280897 , -31.54178547,\n",
       "        -32.75548123, -33.969177  , -35.18287277, -36.39656854,\n",
       "        -37.61026431, -38.82396008, -40.03765585, -41.25135162,\n",
       "        -42.46504739, -43.67874316, -44.89243893, -46.1061347 ,\n",
       "        -47.31983047, -48.53352624, -49.747222  , -50.96091777,\n",
       "        -52.17461354, -53.38830931, -54.60200508, -55.81570085,\n",
       "        -57.02939662, -58.24309239, -59.45678816, -60.67048393,\n",
       "        -61.8841797 , -63.09787547]),\n",
       " array([ -2.8455077 ,  -3.7770696 ,  -4.7086315 ,  -5.6401934 ,\n",
       "         -6.5717553 ,  -7.5033172 ,  -8.4348791 ,  -9.366441  ,\n",
       "        -10.2980029 , -11.22956479, -12.16112669, -13.09268859,\n",
       "        -14.02425049, -14.95581239, -15.88737429, -16.81893619,\n",
       "        -17.75049809, -18.68205999, -19.61362189, -20.54518379,\n",
       "        -21.47674569, -22.40830759, -23.33986949, -24.27143139,\n",
       "        -25.20299329, -26.13455519, -27.06611709, -27.99767899,\n",
       "        -28.92924089, -29.86080278, -30.79236468, -31.72392658,\n",
       "        -32.65548848, -33.58705038, -34.51861228, -35.45017418,\n",
       "        -36.38173608, -37.31329798, -38.24485988, -39.17642178,\n",
       "        -40.10798368, -41.03954558, -41.97110748, -42.90266938,\n",
       "        -43.83423128, -44.76579318, -45.69735508, -46.62891698,\n",
       "        -47.56047888, -48.49204077]),\n",
       " array([ -2.02731998,  -2.66314155,  -3.29896313,  -3.9347847 ,\n",
       "         -4.57060628,  -5.20642785,  -5.84224943,  -6.478071  ,\n",
       "         -7.11389258,  -7.74971415,  -8.38553573,  -9.0213573 ,\n",
       "         -9.65717888, -10.29300045, -10.92882203, -11.5646436 ,\n",
       "        -12.20046518, -12.83628675, -13.47210833, -14.1079299 ,\n",
       "        -14.74375148, -15.37957305, -16.01539463, -16.65121621,\n",
       "        -17.28703778, -17.92285936, -18.55868093, -19.19450251,\n",
       "        -19.83032408, -20.46614566, -21.10196723, -21.73778881,\n",
       "        -22.37361038, -23.00943196, -23.64525353, -24.28107511,\n",
       "        -24.91689668, -25.55271826, -26.18853983, -26.82436141,\n",
       "        -27.46018298, -28.09600456, -28.73182613, -29.36764771,\n",
       "        -30.00346928, -30.63929086, -31.27511243, -31.91093401,\n",
       "        -32.54675558, -33.18257716]),\n",
       " array([ -1.31602727,  -1.70236493,  -2.08870259,  -2.47504025,\n",
       "         -2.86137791,  -3.24771557,  -3.63405323,  -4.02039089,\n",
       "         -4.40672855,  -4.79306621,  -5.17940387,  -5.56574153,\n",
       "         -5.95207919,  -6.33841685,  -6.7247545 ,  -7.11109216,\n",
       "         -7.49742982,  -7.88376748,  -8.27010514,  -8.6564428 ,\n",
       "         -9.04278046,  -9.42911812,  -9.81545578, -10.20179344,\n",
       "        -10.5881311 , -10.97446876, -11.36080642, -11.74714408,\n",
       "        -12.13348174, -12.5198194 , -12.90615706, -13.29249472,\n",
       "        -13.67883238, -14.06517004, -14.4515077 , -14.83784535,\n",
       "        -15.22418301, -15.61052067, -15.99685833, -16.38319599,\n",
       "        -16.76953365, -17.15587131, -17.54220897, -17.92854663,\n",
       "        -18.31488429, -18.70122195, -19.08755961, -19.47389727,\n",
       "        -19.86023493, -20.24657259]),\n",
       " array([ -0.82990642,  -1.06111891,  -1.2923314 ,  -1.52354389,\n",
       "         -1.75475638,  -1.98596886,  -2.21718135,  -2.44839384,\n",
       "         -2.67960633,  -2.91081882,  -3.14203131,  -3.37324379,\n",
       "         -3.60445628,  -3.83566877,  -4.06688126,  -4.29809375,\n",
       "         -4.52930624,  -4.76051873,  -4.99173121,  -5.2229437 ,\n",
       "         -5.45415619,  -5.68536868,  -5.91658117,  -6.14779366,\n",
       "         -6.37900614,  -6.61021863,  -6.84143112,  -7.07264361,\n",
       "         -7.3038561 ,  -7.53506859,  -7.76628107,  -7.99749356,\n",
       "         -8.22870605,  -8.45991854,  -8.69113103,  -8.92234352,\n",
       "         -9.153556  ,  -9.38476849,  -9.61598098,  -9.84719347,\n",
       "        -10.07840596, -10.30961845, -10.54083093, -10.77204342,\n",
       "        -11.00325591, -11.2344684 , -11.46568089, -11.69689338,\n",
       "        -11.92810586, -12.15931835]),\n",
       " array([-0.62115264, -0.81148003, -1.00180742, -1.19213482, -1.38246221,\n",
       "        -1.5727896 , -1.76311699, -1.95344439, -2.14377178, -2.33409917,\n",
       "        -2.52442656, -2.71475396, -2.90508135, -3.09540874, -3.28573613,\n",
       "        -3.47606353, -3.66639092, -3.85671831, -4.0470457 , -4.2373731 ,\n",
       "        -4.42770049, -4.61802788, -4.80835527, -4.99868267, -5.18901006,\n",
       "        -5.37933745, -5.56966485, -5.75999224, -5.95031963, -6.14064702,\n",
       "        -6.33097442, -6.52130181, -6.7116292 , -6.90195659, -7.09228399,\n",
       "        -7.28261138, -7.47293877, -7.66326616, -7.85359356, -8.04392095,\n",
       "        -8.23424834, -8.42457573, -8.61490313, -8.80523052, -8.99555791,\n",
       "        -9.1858853 , -9.3762127 , -9.56654009, -9.75686748, -9.94719487]),\n",
       " array([ -0.67014429,  -0.92447735,  -1.17881042,  -1.43314348,\n",
       "         -1.68747654,  -1.9418096 ,  -2.19614266,  -2.45047573,\n",
       "         -2.70480879,  -2.95914185,  -3.21347491,  -3.46780797,\n",
       "         -3.72214104,  -3.9764741 ,  -4.23080716,  -4.48514022,\n",
       "         -4.73947329,  -4.99380635,  -5.24813941,  -5.50247247,\n",
       "         -5.75680553,  -6.0111386 ,  -6.26547166,  -6.51980472,\n",
       "         -6.77413778,  -7.02847084,  -7.28280391,  -7.53713697,\n",
       "         -7.79147003,  -8.04580309,  -8.30013616,  -8.55446922,\n",
       "         -8.80880228,  -9.06313534,  -9.3174684 ,  -9.57180147,\n",
       "         -9.82613453, -10.08046759, -10.33480065, -10.58913371,\n",
       "        -10.84346678, -11.09779984, -11.3521329 , -11.60646596,\n",
       "        -11.86079902, -12.11513209, -12.36946515, -12.62379821,\n",
       "        -12.87813127, -13.13246434]),\n",
       " array([ -0.91282884,  -1.30946244,  -1.70609605,  -2.10272965,\n",
       "         -2.49936326,  -2.89599686,  -3.29263047,  -3.68926407,\n",
       "         -4.08589767,  -4.48253128,  -4.87916488,  -5.27579849,\n",
       "         -5.67243209,  -6.0690657 ,  -6.4656993 ,  -6.86233291,\n",
       "         -7.25896651,  -7.65560012,  -8.05223372,  -8.44886733,\n",
       "         -8.84550093,  -9.24213454,  -9.63876814, -10.03540175,\n",
       "        -10.43203535, -10.82866896, -11.22530256, -11.62193617,\n",
       "        -12.01856977, -12.41520338, -12.81183698, -13.20847059,\n",
       "        -13.60510419, -14.00173779, -14.3983714 , -14.795005  ,\n",
       "        -15.19163861, -15.58827221, -15.98490582, -16.38153942,\n",
       "        -16.77817303, -17.17480663, -17.57144024, -17.96807384,\n",
       "        -18.36470745, -18.76134105, -19.15797466, -19.55460826,\n",
       "        -19.95124187, -20.34787547]),\n",
       " array([ -1.2657523 ,  -1.84916203,  -2.43257177,  -3.0159815 ,\n",
       "         -3.59939123,  -4.18280097,  -4.7662107 ,  -5.34962044,\n",
       "         -5.93303017,  -6.5164399 ,  -7.09984964,  -7.68325937,\n",
       "         -8.2666691 ,  -8.85007884,  -9.43348857, -10.0168983 ,\n",
       "        -10.60030804, -11.18371777, -11.7671275 , -12.35053724,\n",
       "        -12.93394697, -13.5173567 , -14.10076644, -14.68417617,\n",
       "        -15.26758591, -15.85099564, -16.43440537, -17.01781511,\n",
       "        -17.60122484, -18.18463457, -18.76804431, -19.35145404,\n",
       "        -19.93486377, -20.51827351, -21.10168324, -21.68509297,\n",
       "        -22.26850271, -22.85191244, -23.43532217, -24.01873191,\n",
       "        -24.60214164, -25.18555138, -25.76896111, -26.35237084,\n",
       "        -26.93578058, -27.51919031, -28.10260004, -28.68600978,\n",
       "        -29.26941951, -29.85282924]),\n",
       " array([ -1.63910298,  -2.41755917,  -3.19601536,  -3.97447155,\n",
       "         -4.75292774,  -5.53138393,  -6.30984012,  -7.08829631,\n",
       "         -7.8667525 ,  -8.64520869,  -9.42366488, -10.20212107,\n",
       "        -10.98057726, -11.75903345, -12.53748964, -13.31594583,\n",
       "        -14.09440202, -14.87285821, -15.6513144 , -16.42977059,\n",
       "        -17.20822678, -17.98668297, -18.76513916, -19.54359535,\n",
       "        -20.32205154, -21.10050773, -21.87896392, -22.65742011,\n",
       "        -23.4358763 , -24.21433249, -24.99278868, -25.77124487,\n",
       "        -26.54970106, -27.32815725, -28.10661344, -28.88506963,\n",
       "        -29.66352582, -30.44198201, -31.2204382 , -31.99889439,\n",
       "        -32.77735058, -33.55580677, -34.33426296, -35.11271915,\n",
       "        -35.89117534, -36.66963153, -37.44808772, -38.22654391,\n",
       "        -39.0050001 , -39.78345629]),\n",
       " array([ -1.94722877,  -2.89429073,  -3.84135269,  -4.78841465,\n",
       "         -5.73547661,  -6.68253857,  -7.62960053,  -8.57666249,\n",
       "         -9.52372445, -10.47078641, -11.41784837, -12.36491033,\n",
       "        -13.31197229, -14.25903425, -15.20609621, -16.15315817,\n",
       "        -17.10022013, -18.04728209, -18.99434405, -19.94140601,\n",
       "        -20.88846797, -21.83552993, -22.78259189, -23.72965385,\n",
       "        -24.67671581, -25.62377777, -26.57083973, -27.51790169,\n",
       "        -28.46496365, -29.41202561, -30.35908757, -31.30614953,\n",
       "        -32.25321149, -33.20027345, -34.14733541, -35.09439737,\n",
       "        -36.04145933, -36.98852129, -37.93558325, -38.88264521,\n",
       "        -39.82970717, -40.77676913, -41.72383109, -42.67089305,\n",
       "        -43.61795501, -44.56501697, -45.51207893, -46.45914089,\n",
       "        -47.40620285, -48.35326481]),\n",
       " array([ -2.12333206,  -3.18512611,  -4.24692016,  -5.30871422,\n",
       "         -6.37050827,  -7.43230232,  -8.49409637,  -9.55589043,\n",
       "        -10.61768448, -11.67947853, -12.74127258, -13.80306664,\n",
       "        -14.86486069, -15.92665474, -16.98844879, -18.05024285,\n",
       "        -19.1120369 , -20.17383095, -21.235625  , -22.29741906,\n",
       "        -23.35921311, -24.42100716, -25.48280122, -26.54459527,\n",
       "        -27.60638932, -28.66818337, -29.72997743, -30.79177148,\n",
       "        -31.85356553, -32.91535958, -33.97715364, -35.03894769,\n",
       "        -36.10074174, -37.16253579, -38.22432985, -39.2861239 ,\n",
       "        -40.34791795, -41.409712  , -42.47150606, -43.53330011,\n",
       "        -44.59509416, -45.65688821, -46.71868227, -47.78047632,\n",
       "        -48.84227037, -49.90406443, -50.96585848, -52.02765253,\n",
       "        -53.08944658, -54.15124064]),\n",
       " array([ -2.1334236 ,  -3.24172404,  -4.35002447,  -5.45832491,\n",
       "         -6.56662535,  -7.67492579,  -8.78322623,  -9.89152667,\n",
       "        -10.99982711, -12.10812755, -13.21642799, -14.32472843,\n",
       "        -15.43302887, -16.54132931, -17.64962975, -18.75793019,\n",
       "        -19.86623063, -20.97453107, -22.08283151, -23.19113195,\n",
       "        -24.29943239, -25.40773283, -26.51603327, -27.62433371,\n",
       "        -28.73263415, -29.84093459, -30.94923502, -32.05753546,\n",
       "        -33.1658359 , -34.27413634, -35.38243678, -36.49073722,\n",
       "        -37.59903766, -38.7073381 , -39.81563854, -40.92393898,\n",
       "        -42.03223942, -43.14053986, -44.2488403 , -45.35714074,\n",
       "        -46.46544118, -47.57374162, -48.68204206, -49.7903425 ,\n",
       "        -50.89864294, -52.00694338, -53.11524382, -54.22354426,\n",
       "        -55.3318447 , -56.44014514]),\n",
       " array([ -1.97972176,  -3.06675174,  -4.15378171,  -5.24081169,\n",
       "         -6.32784166,  -7.41487164,  -8.50190162,  -9.58893159,\n",
       "        -10.67596157, -11.76299154, -12.85002152, -13.93705149,\n",
       "        -15.02408147, -16.11111145, -17.19814142, -18.2851714 ,\n",
       "        -19.37220137, -20.45923135, -21.54626132, -22.6332913 ,\n",
       "        -23.72032128, -24.80735125, -25.89438123, -26.9814112 ,\n",
       "        -28.06844118, -29.15547116, -30.24250113, -31.32953111,\n",
       "        -32.41656108, -33.50359106, -34.59062103, -35.67765101,\n",
       "        -36.76468099, -37.85171096, -38.93874094, -40.02577091,\n",
       "        -41.11280089, -42.19983086, -43.28686084, -44.37389082,\n",
       "        -45.46092079, -46.54795077, -47.63498074, -48.72201072,\n",
       "        -49.8090407 , -50.89607067, -51.98310065, -53.07013062,\n",
       "        -54.1571606 , -55.24419057]),\n",
       " array([ -1.69292177,  -2.70323629,  -3.71355082,  -4.72386535,\n",
       "         -5.73417988,  -6.7444944 ,  -7.75480893,  -8.76512346,\n",
       "         -9.77543799, -10.78575252, -11.79606704, -12.80638157,\n",
       "        -13.8166961 , -14.82701063, -15.83732516, -16.84763968,\n",
       "        -17.85795421, -18.86826874, -19.87858327, -20.88889779,\n",
       "        -21.89921232, -22.90952685, -23.91984138, -24.93015591,\n",
       "        -25.94047043, -26.95078496, -27.96109949, -28.97141402,\n",
       "        -29.98172855, -30.99204307, -32.0023576 , -33.01267213,\n",
       "        -34.02298666, -35.03330118, -36.04361571, -37.05393024,\n",
       "        -38.06424477, -39.0745593 , -40.08487382, -41.09518835,\n",
       "        -42.10550288, -43.11581741, -44.12613194, -45.13644646,\n",
       "        -46.14676099, -47.15707552, -48.16739005, -49.17770457,\n",
       "        -50.1880191 , -51.19833363]),\n",
       " array([ -1.32109664,  -2.21893098,  -3.11676532,  -4.01459965,\n",
       "         -4.91243399,  -5.81026833,  -6.70810266,  -7.605937  ,\n",
       "         -8.50377134,  -9.40160567, -10.29944001, -11.19727435,\n",
       "        -12.09510868, -12.99294302, -13.89077736, -14.78861169,\n",
       "        -15.68644603, -16.58428037, -17.4821147 , -18.37994904,\n",
       "        -19.27778338, -20.17561771, -21.07345205, -21.97128639,\n",
       "        -22.86912072, -23.76695506, -24.6647894 , -25.56262373,\n",
       "        -26.46045807, -27.35829241, -28.25612674, -29.15396108,\n",
       "        -30.05179542, -30.94962975, -31.84746409, -32.74529843,\n",
       "        -33.64313276, -34.5409671 , -35.43880144, -36.33663577,\n",
       "        -37.23447011, -38.13230445, -39.03013878, -39.92797312,\n",
       "        -40.82580746, -41.72364179, -42.62147613, -43.51931047,\n",
       "        -44.4171448 , -45.31497914]),\n",
       " array([ -0.92027027,  -1.69289532,  -2.46552038,  -3.23814543,\n",
       "         -4.01077049,  -4.78339554,  -5.5560206 ,  -6.32864566,\n",
       "         -7.10127071,  -7.87389577,  -8.64652082,  -9.41914588,\n",
       "        -10.19177093, -10.96439599, -11.73702104, -12.5096461 ,\n",
       "        -13.28227116, -14.05489621, -14.82752127, -15.60014632,\n",
       "        -16.37277138, -17.14539643, -17.91802149, -18.69064654,\n",
       "        -19.4632716 , -20.23589666, -21.00852171, -21.78114677,\n",
       "        -22.55377182, -23.32639688, -24.09902193, -24.87164699,\n",
       "        -25.64427204, -26.4168971 , -27.18952216, -27.96214721,\n",
       "        -28.73477227, -29.50739732, -30.28002238, -31.05264743,\n",
       "        -31.82527249, -32.59789754, -33.3705226 , -34.14314766,\n",
       "        -34.91577271, -35.68839777, -36.46102282, -37.23364788,\n",
       "        -38.00627293, -38.77889799]),\n",
       " array([ -0.54622281,  -1.20380224,  -1.86138167,  -2.51896111,\n",
       "         -3.17654054,  -3.83411997,  -4.4916994 ,  -5.14927883,\n",
       "         -5.80685827,  -6.4644377 ,  -7.12201713,  -7.77959656,\n",
       "         -8.43717599,  -9.09475542,  -9.75233486, -10.40991429,\n",
       "        -11.06749372, -11.72507315, -12.38265258, -13.04023202,\n",
       "        -13.69781145, -14.35539088, -15.01297031, -15.67054974,\n",
       "        -16.32812917, -16.98570861, -17.64328804, -18.30086747,\n",
       "        -18.9584469 , -19.61602633, -20.27360577, -20.9311852 ,\n",
       "        -21.58876463, -22.24634406, -22.90392349, -23.56150293,\n",
       "        -24.21908236, -24.87666179, -25.53424122, -26.19182065,\n",
       "        -26.84940008, -27.50697952, -28.16455895, -28.82213838,\n",
       "        -29.47971781, -30.13729724, -30.79487668, -31.45245611,\n",
       "        -32.11003554, -32.76761497]),\n",
       " array([ -0.24593808,  -0.81780863,  -1.38967917,  -1.96154971,\n",
       "         -2.53342025,  -3.1052908 ,  -3.67716134,  -4.24903188,\n",
       "         -4.82090242,  -5.39277296,  -5.96464351,  -6.53651405,\n",
       "         -7.10838459,  -7.68025513,  -8.25212568,  -8.82399622,\n",
       "         -9.39586676,  -9.9677373 , -10.53960785, -11.11147839,\n",
       "        -11.68334893, -12.25521947, -12.82709002, -13.39896056,\n",
       "        -13.9708311 , -14.54270164, -15.11457218, -15.68644273,\n",
       "        -16.25831327, -16.83018381, -17.40205435, -17.9739249 ,\n",
       "        -18.54579544, -19.11766598, -19.68953652, -20.26140707,\n",
       "        -20.83327761, -21.40514815, -21.97701869, -22.54888923,\n",
       "        -23.12075978, -23.69263032, -24.26450086, -24.8363714 ,\n",
       "        -25.40824195, -25.98011249, -26.55198303, -27.12385357,\n",
       "        -27.69572412, -28.26759466]),\n",
       " array([ -0.04961516,  -0.57731994,  -1.10502473,  -1.63272951,\n",
       "         -2.1604343 ,  -2.68813908,  -3.21584387,  -3.74354865,\n",
       "         -4.27125344,  -4.79895822,  -5.326663  ,  -5.85436779,\n",
       "         -6.38207257,  -6.90977736,  -7.43748214,  -7.96518693,\n",
       "         -8.49289171,  -9.0205965 ,  -9.54830128, -10.07600607,\n",
       "        -10.60371085, -11.13141564, -11.65912042, -12.1868252 ,\n",
       "        -12.71452999, -13.24223477, -13.76993956, -14.29764434,\n",
       "        -14.82534913, -15.35305391, -15.8807587 , -16.40846348,\n",
       "        -16.93616827, -17.46387305, -17.99157783, -18.51928262,\n",
       "        -19.0469874 , -19.57469219, -20.10239697, -20.63010176,\n",
       "        -21.15780654, -21.68551133, -22.21321611, -22.7409209 ,\n",
       "        -23.26862568, -23.79633047, -24.32403525, -24.85174003,\n",
       "        -25.37944482, -25.9071496 ]),\n",
       " array([  0.03371122,  -0.49491093,  -1.02353308,  -1.55215523,\n",
       "         -2.08077738,  -2.60939953,  -3.13802168,  -3.66664383,\n",
       "         -4.19526598,  -4.72388813,  -5.25251027,  -5.78113242,\n",
       "         -6.30975457,  -6.83837672,  -7.36699887,  -7.89562102,\n",
       "         -8.42424317,  -8.95286532,  -9.48148747, -10.01010962,\n",
       "        -10.53873177, -11.06735392, -11.59597607, -12.12459822,\n",
       "        -12.65322037, -13.18184251, -13.71046466, -14.23908681,\n",
       "        -14.76770896, -15.29633111, -15.82495326, -16.35357541,\n",
       "        -16.88219756, -17.41081971, -17.93944186, -18.46806401,\n",
       "        -18.99668616, -19.52530831, -20.05393046, -20.5825526 ,\n",
       "        -21.11117475, -21.6397969 , -22.16841905, -22.6970412 ,\n",
       "        -23.22566335, -23.7542855 , -24.28290765, -24.8115298 ,\n",
       "        -25.34015195, -25.8687741 ]),\n",
       " array([ 1.52411250e-02, -5.54721220e-01, -1.12468357e+00, -1.69464591e+00,\n",
       "        -2.26460826e+00, -2.83457060e+00, -3.40453295e+00, -3.97449529e+00,\n",
       "        -4.54445764e+00, -5.11441998e+00, -5.68438233e+00, -6.25434467e+00,\n",
       "        -6.82430702e+00, -7.39426936e+00, -7.96423171e+00, -8.53419405e+00,\n",
       "        -9.10415640e+00, -9.67411874e+00, -1.02440811e+01, -1.08140434e+01,\n",
       "        -1.13840058e+01, -1.19539681e+01, -1.25239305e+01, -1.30938928e+01,\n",
       "        -1.36638552e+01, -1.42338175e+01, -1.48037798e+01, -1.53737422e+01,\n",
       "        -1.59437045e+01, -1.65136669e+01, -1.70836292e+01, -1.76535916e+01,\n",
       "        -1.82235539e+01, -1.87935163e+01, -1.93634786e+01, -1.99334410e+01,\n",
       "        -2.05034033e+01, -2.10733656e+01, -2.16433280e+01, -2.22132903e+01,\n",
       "        -2.27832527e+01, -2.33532150e+01, -2.39231774e+01, -2.44931397e+01,\n",
       "        -2.50631021e+01, -2.56330644e+01, -2.62030267e+01, -2.67729891e+01,\n",
       "        -2.73429514e+01, -2.79129138e+01]),\n",
       " array([ -0.07846458,  -0.7193455 ,  -1.36022642,  -2.00110734,\n",
       "         -2.64198826,  -3.28286918,  -3.9237501 ,  -4.56463102,\n",
       "         -5.20551194,  -5.84639286,  -6.48727378,  -7.1281547 ,\n",
       "         -7.76903562,  -8.40991654,  -9.05079746,  -9.69167838,\n",
       "        -10.3325593 , -10.97344022, -11.61432114, -12.25520206,\n",
       "        -12.89608298, -13.5369639 , -14.17784482, -14.81872574,\n",
       "        -15.45960666, -16.10048758, -16.7413685 , -17.38224942,\n",
       "        -18.02313034, -18.66401126, -19.30489218, -19.9457731 ,\n",
       "        -20.58665403, -21.22753495, -21.86841587, -22.50929679,\n",
       "        -23.15017771, -23.79105863, -24.43193955, -25.07282047,\n",
       "        -25.71370139, -26.35458231, -26.99546323, -27.63634415,\n",
       "        -28.27722507, -28.91810599, -29.55898691, -30.19986783,\n",
       "        -30.84074875, -31.48162967]),\n",
       " array([ -0.21185478,  -0.93877263,  -1.66569049,  -2.39260835,\n",
       "         -3.1195262 ,  -3.84644406,  -4.57336192,  -5.30027977,\n",
       "         -6.02719763,  -6.75411548,  -7.48103334,  -8.2079512 ,\n",
       "         -8.93486905,  -9.66178691, -10.38870477, -11.11562262,\n",
       "        -11.84254048, -12.56945834, -13.29637619, -14.02329405,\n",
       "        -14.75021191, -15.47712976, -16.20404762, -16.93096548,\n",
       "        -17.65788333, -18.38480119, -19.11171904, -19.8386369 ,\n",
       "        -20.56555476, -21.29247261, -22.01939047, -22.74630833,\n",
       "        -23.47322618, -24.20014404, -24.9270619 , -25.65397975,\n",
       "        -26.38089761, -27.10781547, -27.83473332, -28.56165118,\n",
       "        -29.28856904, -30.01548689, -30.74240475, -31.4693226 ,\n",
       "        -32.19624046, -32.92315832, -33.65007617, -34.37699403,\n",
       "        -35.10391189, -35.83082974]),\n",
       " array([ -0.34688791,  -1.15948623,  -1.97208456,  -2.78468289,\n",
       "         -3.59728122,  -4.40987954,  -5.22247787,  -6.0350762 ,\n",
       "         -6.84767453,  -7.66027285,  -8.47287118,  -9.28546951,\n",
       "        -10.09806784, -10.91066616, -11.72326449, -12.53586282,\n",
       "        -13.34846115, -14.16105947, -14.9736578 , -15.78625613,\n",
       "        -16.59885446, -17.41145278, -18.22405111, -19.03664944,\n",
       "        -19.84924777, -20.66184609, -21.47444442, -22.28704275,\n",
       "        -23.09964108, -23.9122394 , -24.72483773, -25.53743606,\n",
       "        -26.35003439, -27.16263271, -27.97523104, -28.78782937,\n",
       "        -29.6004277 , -30.41302602, -31.22562435, -32.03822268,\n",
       "        -32.85082101, -33.66341933, -34.47601766, -35.28861599,\n",
       "        -36.10121432, -36.91381264, -37.72641097, -38.5390093 ,\n",
       "        -39.35160763, -40.16420595]),\n",
       " array([ -0.44928524,  -1.33323328,  -2.21718131,  -3.10112934,\n",
       "         -3.98507738,  -4.86902541,  -5.75297344,  -6.63692147,\n",
       "         -7.52086951,  -8.40481754,  -9.28876557, -10.17271361,\n",
       "        -11.05666164, -11.94060967, -12.82455771, -13.70850574,\n",
       "        -14.59245377, -15.47640181, -16.36034984, -17.24429787,\n",
       "        -18.12824591, -19.01219394, -19.89614197, -20.78009001,\n",
       "        -21.66403804, -22.54798607, -23.43193411, -24.31588214,\n",
       "        -25.19983017, -26.08377821, -26.96772624, -27.85167427,\n",
       "        -28.73562231, -29.61957034, -30.50351837, -31.38746641,\n",
       "        -32.27141444, -33.15536247, -34.03931051, -34.92325854,\n",
       "        -35.80720657, -36.6911546 , -37.57510264, -38.45905067,\n",
       "        -39.3429987 , -40.22694674, -41.11089477, -41.9948428 ,\n",
       "        -42.87879084, -43.76273887]),\n",
       " array([ -0.49398979,  -1.42470695,  -2.35542411,  -3.28614126,\n",
       "         -4.21685842,  -5.14757558,  -6.07829274,  -7.0090099 ,\n",
       "         -7.93972705,  -8.87044421,  -9.80116137, -10.73187853,\n",
       "        -11.66259569, -12.59331284, -13.52403   , -14.45474716,\n",
       "        -15.38546432, -16.31618148, -17.24689863, -18.17761579,\n",
       "        -19.10833295, -20.03905011, -20.96976727, -21.90048442,\n",
       "        -22.83120158, -23.76191874, -24.6926359 , -25.62335306,\n",
       "        -26.55407021, -27.48478737, -28.41550453, -29.34622169,\n",
       "        -30.27693885, -31.207656  , -32.13837316, -33.06909032,\n",
       "        -33.99980748, -34.93052463, -35.86124179, -36.79195895,\n",
       "        -37.72267611, -38.65339327, -39.58411042, -40.51482758,\n",
       "        -41.44554474, -42.3762619 , -43.30697906, -44.23769621,\n",
       "        -45.16841337, -46.09913053]),\n",
       " array([ -0.4687249 ,  -1.41658184,  -2.36443878,  -3.31229572,\n",
       "         -4.26015266,  -5.2080096 ,  -6.15586654,  -7.10372348,\n",
       "         -8.05158042,  -8.99943736,  -9.9472943 , -10.89515124,\n",
       "        -11.84300818, -12.79086511, -13.73872205, -14.68657899,\n",
       "        -15.63443593, -16.58229287, -17.53014981, -18.47800675,\n",
       "        -19.42586369, -20.37372063, -21.32157757, -22.26943451,\n",
       "        -23.21729145, -24.16514839, -25.11300533, -26.06086227,\n",
       "        -27.00871921, -27.95657615, -28.90443309, -29.85229003,\n",
       "        -30.80014697, -31.74800391, -32.69586085, -33.64371779,\n",
       "        -34.59157473, -35.53943166, -36.4872886 , -37.43514554,\n",
       "        -38.38300248, -39.33085942, -40.27871636, -41.2265733 ,\n",
       "        -42.17443024, -43.12228718, -44.07014412, -45.01800106,\n",
       "        -45.965858  , -46.91371494]),\n",
       " array([ -0.37477288,  -1.31064106,  -2.24650924,  -3.18237742,\n",
       "         -4.1182456 ,  -5.05411378,  -5.98998196,  -6.92585014,\n",
       "         -7.86171832,  -8.79758651,  -9.73345469, -10.66932287,\n",
       "        -11.60519105, -12.54105923, -13.47692741, -14.41279559,\n",
       "        -15.34866377, -16.28453195, -17.22040013, -18.15626832,\n",
       "        -19.0921365 , -20.02800468, -20.96387286, -21.89974104,\n",
       "        -22.83560922, -23.7714774 , -24.70734558, -25.64321376,\n",
       "        -26.57908194, -27.51495013, -28.45081831, -29.38668649,\n",
       "        -30.32255467, -31.25842285, -32.19429103, -33.13015921,\n",
       "        -34.06602739, -35.00189557, -35.93776376, -36.87363194,\n",
       "        -37.80950012, -38.7453683 , -39.68123648, -40.61710466,\n",
       "        -41.55297284, -42.48884102, -43.4247092 , -44.36057738,\n",
       "        -45.29644557, -46.23231375]),\n",
       " array([ -0.22511917,  -1.12517876,  -2.02523835,  -2.92529794,\n",
       "         -3.82535753,  -4.72541713,  -5.62547672,  -6.52553631,\n",
       "         -7.4255959 ,  -8.32565549,  -9.22571508, -10.12577467,\n",
       "        -11.02583426, -11.92589385, -12.82595344, -13.72601303,\n",
       "        -14.62607262, -15.52613221, -16.4261918 , -17.32625139,\n",
       "        -18.22631098, -19.12637057, -20.02643016, -20.92648975,\n",
       "        -21.82654934, -22.72660893, -23.62666852, -24.52672811,\n",
       "        -25.4267877 , -26.32684729, -27.22690688, -28.12696647,\n",
       "        -29.02702606, -29.92708566, -30.82714525, -31.72720484,\n",
       "        -32.62726443, -33.52732402, -34.42738361, -35.3274432 ,\n",
       "        -36.22750279, -37.12756238, -38.02762197, -38.92768156,\n",
       "        -39.82774115, -40.72780074, -41.62786033, -42.52791992,\n",
       "        -43.42797951, -44.3280391 ]),\n",
       " array([-4.09082722e-02, -8.90004300e-01, -1.73910033e+00, -2.58819636e+00,\n",
       "        -3.43729238e+00, -4.28638841e+00, -5.13548444e+00, -5.98458047e+00,\n",
       "        -6.83367649e+00, -7.68277252e+00, -8.53186855e+00, -9.38096458e+00,\n",
       "        -1.02300606e+01, -1.10791566e+01, -1.19282527e+01, -1.27773487e+01,\n",
       "        -1.36264447e+01, -1.44755407e+01, -1.53246368e+01, -1.61737328e+01,\n",
       "        -1.70228288e+01, -1.78719249e+01, -1.87210209e+01, -1.95701169e+01,\n",
       "        -2.04192129e+01, -2.12683090e+01, -2.21174050e+01, -2.29665010e+01,\n",
       "        -2.38155970e+01, -2.46646931e+01, -2.55137891e+01, -2.63628851e+01,\n",
       "        -2.72119812e+01, -2.80610772e+01, -2.89101732e+01, -2.97592692e+01,\n",
       "        -3.06083653e+01, -3.14574613e+01, -3.23065573e+01, -3.31556533e+01,\n",
       "        -3.40047494e+01, -3.48538454e+01, -3.57029414e+01, -3.65520375e+01,\n",
       "        -3.74011335e+01, -3.82502295e+01, -3.90993255e+01, -3.99484216e+01,\n",
       "        -4.07975176e+01, -4.16466136e+01]),\n",
       " array([  0.15282718,  -0.6404108 ,  -1.43364878,  -2.22688675,\n",
       "         -3.02012473,  -3.81336271,  -4.60660069,  -5.39983867,\n",
       "         -6.19307665,  -6.98631463,  -7.77955261,  -8.57279059,\n",
       "         -9.36602857, -10.15926655, -10.95250452, -11.7457425 ,\n",
       "        -12.53898048, -13.33221846, -14.12545644, -14.91869442,\n",
       "        -15.7119324 , -16.50517038, -17.29840836, -18.09164634,\n",
       "        -18.88488432, -19.67812229, -20.47136027, -21.26459825,\n",
       "        -22.05783623, -22.85107421, -23.64431219, -24.43755017,\n",
       "        -25.23078815, -26.02402613, -26.81726411, -27.61050209,\n",
       "        -28.40374006, -29.19697804, -29.99021602, -30.783454  ,\n",
       "        -31.57669198, -32.36992996, -33.16316794, -33.95640592,\n",
       "        -34.7496439 , -35.54288188, -36.33611985, -37.12935783,\n",
       "        -37.92259581, -38.71583379])]"
      ]
     },
     "execution_count": 337,
     "metadata": {},
     "output_type": "execute_result"
    }
   ],
   "source": [
    "harr"
   ]
  },
  {
   "cell_type": "code",
   "execution_count": 338,
   "metadata": {},
   "outputs": [
    {
     "data": {
      "text/plain": [
       "0.3315416892941686"
      ]
     },
     "execution_count": 338,
     "metadata": {},
     "output_type": "execute_result"
    }
   ],
   "source": [
    "theta0"
   ]
  },
  {
   "cell_type": "code",
   "execution_count": 339,
   "metadata": {},
   "outputs": [
    {
     "data": {
      "text/plain": [
       "-1.819221516657904"
      ]
     },
     "execution_count": 339,
     "metadata": {},
     "output_type": "execute_result"
    }
   ],
   "source": [
    "theta1"
   ]
  },
  {
   "cell_type": "markdown",
   "metadata": {},
   "source": [
    "#### Plot loss vs. epochs"
   ]
  },
  {
   "cell_type": "code",
   "execution_count": 340,
   "metadata": {},
   "outputs": [
    {
     "data": {
      "image/png": "[encoded data removed]",
      "text/plain": [
       "<Figure size 432x288 with 1 Axes>"
      ]
     },
     "metadata": {
      "needs_background": "light"
     },
     "output_type": "display_data"
    }
   ],
   "source": [
    "plt.plot(lossarr) \n",
    "plt.title('Loss vs Epochs')                   ###Loss vs epochs\n",
    "plt.show()"
   ]
  },
  {
   "cell_type": "markdown",
   "metadata": {},
   "source": [
    "#### Plot Theta_0 vs. loss and Theta_1 vs. loss"
   ]
  },
  {
   "cell_type": "code",
   "execution_count": 341,
   "metadata": {},
   "outputs": [
    {
     "data": {
      "image/png": "[encoded data removed]",
      "text/plain": [
       "<Figure size 432x288 with 1 Axes>"
      ]
     },
     "metadata": {
      "needs_background": "light"
     },
     "output_type": "display_data"
    }
   ],
   "source": [
    "plt.plot(theta0arr, lossarr)\n",
    "plt.xlabel('theta_0')\n",
    "plt.ylabel('cost')\n",
    "plt.title('Theta_0 vs. loss')\n",
    "plt.show()"
   ]
  },
  {
   "cell_type": "code",
   "execution_count": 342,
   "metadata": {},
   "outputs": [
    {
     "data": {
      "image/png": "[encoded data removed]",
      "text/plain": [
       "<Figure size 432x288 with 1 Axes>"
      ]
     },
     "metadata": {
      "needs_background": "light"
     },
     "output_type": "display_data"
    }
   ],
   "source": [
    "\n",
    "plt.plot(theta1arr, lossarr)\n",
    "plt.xlabel('theta_1')\n",
    "plt.ylabel('cost')\n",
    "plt.title('Theta_1 vs. loss')\n",
    "plt.show()"
   ]
  },
  {
   "cell_type": "markdown",
   "metadata": {},
   "source": [
    "#### Plot all regression lines till converge"
   ]
  },
  {
   "cell_type": "code",
   "execution_count": 343,
   "metadata": {},
   "outputs": [
    {
     "data": {
      "image/png": "[encoded data removed]",
      "text/plain": [
       "<Figure size 432x288 with 1 Axes>"
      ]
     },
     "metadata": {
      "needs_background": "light"
     },
     "output_type": "display_data"
    }
   ],
   "source": [
    "for i in range(len(harr)):\n",
    "    plt.plot(x,harr[i])\n",
    "    plt.scatter(x,y,color=\"Red\")\n",
    "plt.show()"
   ]
  },
  {
   "cell_type": "markdown",
   "metadata": {},
   "source": [
    "#### Plot the best regression line"
   ]
  },
  {
   "cell_type": "code",
   "execution_count": 344,
   "metadata": {},
   "outputs": [
    {
     "data": {
      "image/png": "[encoded data removed]",
      "text/plain": [
       "<Figure size 432x288 with 1 Axes>"
      ]
     },
     "metadata": {
      "needs_background": "light"
     },
     "output_type": "display_data"
    }
   ],
   "source": [
    "plt.scatter(x,y,color=\"red\")\n",
    "plt.plot(x,h)\n",
    "plt.title('Best regression line - using optimum thetas')\n",
    "plt.show()"
   ]
  }
 ],
 "metadata": {
  "colab": {
   "collapsed_sections": [],
   "name": "Copy of Gouda Ibrahim_Practical Session 4 Adagrad-RMSProp-Adam.ipynb",
   "provenance": []
  },
  "kernelspec": {
   "display_name": "Python 3",
   "language": "python",
   "name": "python3"
  },
  "language_info": {
   "codemirror_mode": {
    "name": "ipython",
    "version": 3
   },
   "file_extension": ".py",
   "mimetype": "text/x-python",
   "name": "python",
   "nbconvert_exporter": "python",
   "pygments_lexer": "ipython3",
   "version": "3.8.5"
  }
 },
 "nbformat": 4,
 "nbformat_minor": 1
}
