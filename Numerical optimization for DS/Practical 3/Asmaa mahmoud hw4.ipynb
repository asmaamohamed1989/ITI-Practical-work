{
 "cells": [
  {
   "cell_type": "code",
   "execution_count": 8,
   "metadata": {},
   "outputs": [],
   "source": [
    "import numpy as np\n",
    "import matplotlib.pyplot as plt\n",
    "from sklearn.metrics import r2_score\n",
    "x=np.linspace(0,20)\n",
    "y=-1*x+2\n"
   ]
  },
  {
   "cell_type": "code",
   "execution_count": 9,
   "metadata": {},
   "outputs": [],
   "source": [
    "def Adagrad(x,y,learning_rate,epslon,Max_iterations):\n",
    "    theta0=0\n",
    "    theta1=1\n",
    "    v0=0\n",
    "    v1=0\n",
    "    m=len(x)\n",
    "    alpha=learning_rate\n",
    "    theta0arr=[]\n",
    "    theta1arr=[]\n",
    "    lossarr=[]\n",
    "    harr=[]\n",
    "    \n",
    "    for i in range(Max_iterations):\n",
    "        h=theta0 + theta1 * x\n",
    "        harr.append(h)\n",
    "        \n",
    "        loss=(1/(2*m))*np.sum((h-y)**2)\n",
    "        lossarr.append(loss)\n",
    "\n",
    "        theta0arr.append(theta0)\n",
    "        theta1arr.append(theta1)\n",
    "        \n",
    "        gradient0=(1/m)*np.sum(h-y)\n",
    "        v0 = v0 + (gradient0**2)\n",
    "        theta0 = theta0 - (alpha/(np.sqrt(v0)+epslon)*gradient0)\n",
    "        \n",
    "        gradient1=(1/m)*np.sum((h-y)*x)\n",
    "        v1 = v1 + (gradient1**2)\n",
    "        theta1 = theta1 - (alpha/(np.sqrt(v1)+epslon)*gradient1)\n",
    "        \n",
    "        if loss < 0.1:\n",
    "            break;\n",
    "            \n",
    "            \n",
    "    return theta0arr,theta1arr,lossarr,harr,theta0,theta1\n",
    "    \n",
    "        "
   ]
  },
  {
   "cell_type": "code",
   "execution_count": 10,
   "metadata": {},
   "outputs": [],
   "source": [
    "theta0arr , theta1arr , lossarr , harr , theta0 , theta1 = Adagrad (x,y,0.5,1e-8,1000)"
   ]
  },
  {
   "cell_type": "code",
   "execution_count": 11,
   "metadata": {},
   "outputs": [
    {
     "data": {
      "image/png": "[encoded data removed]",
      "text/plain": [
       "<Figure size 432x288 with 1 Axes>"
      ]
     },
     "metadata": {
      "needs_background": "light"
     },
     "output_type": "display_data"
    }
   ],
   "source": [
    "plt.plot(lossarr) \n",
    "plt.title('Loss vs Epochs')                   ###Loss vs epochs\n",
    "plt.show()"
   ]
  },
  {
   "cell_type": "code",
   "execution_count": null,
   "metadata": {},
   "outputs": [],
   "source": []
  }
 ],
 "metadata": {
  "kernelspec": {
   "display_name": "Python 3",
   "language": "python",
   "name": "python3"
  },
  "language_info": {
   "codemirror_mode": {
    "name": "ipython",
    "version": 3
   },
   "file_extension": ".py",
   "mimetype": "text/x-python",
   "name": "python",
   "nbconvert_exporter": "python",
   "pygments_lexer": "ipython3",
   "version": "3.8.5"
  }
 },
 "nbformat": 4,
 "nbformat_minor": 5
}
