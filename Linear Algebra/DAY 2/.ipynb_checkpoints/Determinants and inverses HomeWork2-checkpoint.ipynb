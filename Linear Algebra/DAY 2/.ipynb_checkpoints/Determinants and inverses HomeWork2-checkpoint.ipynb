{
 "cells": [
  {
   "cell_type": "markdown",
   "metadata": {},
   "source": [
    "In this notebook you will practice how to:\n",
    "1. Calculate the determinant of a 2x2 matrix with and without using numpy.linalg\n",
    "2. Calculate the determinant of a 3x3 matrix with and without using numpy.linalg\n",
    "3. Calculate the inverse of a 2x2 matrix using numpy.linalg\n",
    "4. Calculate the inverse of a 3x3 matrix using numpy.linalg\n",
    "5. Finding the rank of a matrix using numpy"
   ]
  },
  {
   "cell_type": "code",
   "execution_count": 1,
   "metadata": {},
   "outputs": [],
   "source": [
    "import numpy as np\n"
   ]
  },
  {
   "cell_type": "markdown",
   "metadata": {},
   "source": [
    "# Calculating the determinant using numpy.linalg"
   ]
  },
  {
   "cell_type": "code",
   "execution_count": 2,
   "metadata": {},
   "outputs": [
    {
     "name": "stdout",
     "output_type": "stream",
     "text": [
      "[[1 2]\n",
      " [3 4]]\n"
     ]
    }
   ],
   "source": [
    "a2 = np.array([[1,2],[3,4]])\n",
    "print(a2)"
   ]
  },
  {
   "cell_type": "code",
   "execution_count": 3,
   "metadata": {},
   "outputs": [
    {
     "name": "stdout",
     "output_type": "stream",
     "text": [
      "-2.0000000000000004\n"
     ]
    }
   ],
   "source": [
    "result2 =  np.linalg.det(a2)\n",
    "print(result2)"
   ]
  },
  {
   "cell_type": "code",
   "execution_count": 4,
   "metadata": {},
   "outputs": [
    {
     "name": "stdout",
     "output_type": "stream",
     "text": [
      "[[ 1  1  2]\n",
      " [ 2  3  1]\n",
      " [ 3  4 -5]]\n"
     ]
    }
   ],
   "source": [
    "a3 = np.array([[1,1,2],[2,3,1],[3,4,-5]])\n",
    "print(a3)"
   ]
  },
  {
   "cell_type": "code",
   "execution_count": 5,
   "metadata": {},
   "outputs": [
    {
     "name": "stdout",
     "output_type": "stream",
     "text": [
      "-7.999999999999998\n"
     ]
    }
   ],
   "source": [
    "result3 =  np.linalg.det(a3)\n",
    "print(result3)"
   ]
  },
  {
   "cell_type": "markdown",
   "metadata": {},
   "source": [
    "# Calculating the determinant of a 2x2 matrixwithout using numpy"
   ]
  },
  {
   "cell_type": "code",
   "execution_count": 6,
   "metadata": {},
   "outputs": [
    {
     "name": "stdout",
     "output_type": "stream",
     "text": [
      "-2\n"
     ]
    }
   ],
   "source": [
    "def Det2(Mat):\n",
    "    return Mat[0,0]*Mat[1,1] - Mat[0,1]*Mat[1,0]\n",
    "\n",
    "\n",
    "print(Det2(a2))"
   ]
  },
  {
   "cell_type": "markdown",
   "metadata": {},
   "source": [
    "# Calculating the determinant of a 3x3 matrixwithout using numpy\n",
    "\n",
    "One idea\n",
    "1. write a function to calculate the minor matrices. (hint, use slices)\n",
    "2. write a function to calculate the cofactors (this should call the first function, and the determinate function)\n",
    "3. the determinate function calls the function in step two and adds the results together.\n",
    "\n",
    "Another idea \n",
    "use recursion ==> code credit https://stackoverflow.com/questions/3819500/code-to-solve-determinant-using-python-without-using-scipy-linalg-det"
   ]
  },
  {
   "cell_type": "code",
   "execution_count": 7,
   "metadata": {},
   "outputs": [
    {
     "name": "stdout",
     "output_type": "stream",
     "text": [
      "[[ 1  2  3  4]\n",
      " [ 5  6  7  8]\n",
      " [ 9 10 11 12]]\n",
      "[[ 1  2  3  4]\n",
      " [ 9 10 11 12]]\n",
      "[[ 1  2  3]\n",
      " [ 5  6  7]\n",
      " [ 9 10 11]]\n"
     ]
    }
   ],
   "source": [
    "# delete function removes a sub-array from the input array\n",
    "# first argument is the original array\n",
    "# second argument is the index to the sub-array to be removed\n",
    "# thirs argument is the axis among which the deletion happens (0: x axis \"row\" and 1: y axis \"column\")\n",
    "arr = np.array([[1,2,3,4], [5,6,7,8], [9,10,11,12]])\n",
    "print(arr)\n",
    "\n",
    "arr2 = np.delete(arr, 1, 0)\n",
    "print(arr2)\n",
    "\n",
    "arr3 = np.delete(arr, 3, 1)\n",
    "print(arr3)"
   ]
  },
  {
   "cell_type": "code",
   "execution_count": 8,
   "metadata": {},
   "outputs": [
    {
     "name": "stdout",
     "output_type": "stream",
     "text": [
      "[[ 1  1  2]\n",
      " [ 2  3  1]\n",
      " [ 3  4 -5]]\n"
     ]
    },
    {
     "data": {
      "text/plain": [
       "-8"
      ]
     },
     "execution_count": 8,
     "metadata": {},
     "output_type": "execute_result"
    }
   ],
   "source": [
    "def minor(arr,i,j):\n",
    "    c = arr[:]\n",
    "    c = np.delete(c, (i),axis=0) #deleting the row containing the matrix minor from the original matrix copy\n",
    "    return [np.delete(row, (j),axis=0) for row in (c)] # Looping on each row and deleting the column element below the minor\n",
    "    \n",
    "\n",
    "def det(arr):\n",
    "    n = len(arr)\n",
    "    if n == 1 :return arr[0][0]\n",
    "    if n == 2 :return arr[0][0]*arr[1][1] - arr[0][1]*arr[1][0]\n",
    "    sum = 0\n",
    "    for i in range(0,n):                 #looping on columns of the first row (minor values)\n",
    "        m = minor(arr,0,i)               # Calculating the minor's corresponding cofactor matrix\n",
    "        #print(\"minor of 0 and\",i, \"is:\", m)\n",
    "        sum =sum + ((-1)**i)*arr[0][i] * det(m) # summing the product of the minor and the \"signed\" determinant of the cofactor\n",
    "    return sum\n",
    "\n",
    "\n",
    "\n",
    "print(a3)\n",
    "det(a3)\n"
   ]
  },
  {
   "cell_type": "markdown",
   "metadata": {},
   "source": [
    "# Calculating the inverse using numpy.linalg"
   ]
  },
  {
   "cell_type": "code",
   "execution_count": 9,
   "metadata": {},
   "outputs": [
    {
     "name": "stdout",
     "output_type": "stream",
     "text": [
      "[[1 2]\n",
      " [3 4]]\n",
      "-2.0000000000000004\n",
      "[[-2.   1. ]\n",
      " [ 1.5 -0.5]]\n"
     ]
    }
   ],
   "source": [
    "# The inverse of 2 x 2 matrix\n",
    "\n",
    "a2 = np.array([[1,2],[3,4]])\n",
    "\n",
    "print (a2)\n",
    "print (np.linalg.det(a2))\n",
    "print(np.linalg.inv(a2))"
   ]
  },
  {
   "cell_type": "code",
   "execution_count": 10,
   "metadata": {},
   "outputs": [
    {
     "name": "stdout",
     "output_type": "stream",
     "text": [
      "[[1 2]\n",
      " [2 4]]\n",
      "0.0\n"
     ]
    },
    {
     "ename": "LinAlgError",
     "evalue": "Singular matrix",
     "output_type": "error",
     "traceback": [
      "\u001b[1;31m---------------------------------------------------------------------------\u001b[0m",
      "\u001b[1;31mLinAlgError\u001b[0m                               Traceback (most recent call last)",
      "\u001b[1;32m<ipython-input-10-85f938418b94>\u001b[0m in \u001b[0;36m<module>\u001b[1;34m\u001b[0m\n\u001b[0;32m      5\u001b[0m \u001b[0mprint\u001b[0m \u001b[1;33m(\u001b[0m\u001b[0ma3\u001b[0m\u001b[1;33m)\u001b[0m\u001b[1;33m\u001b[0m\u001b[1;33m\u001b[0m\u001b[0m\n\u001b[0;32m      6\u001b[0m \u001b[0mprint\u001b[0m \u001b[1;33m(\u001b[0m\u001b[0mnp\u001b[0m\u001b[1;33m.\u001b[0m\u001b[0mlinalg\u001b[0m\u001b[1;33m.\u001b[0m\u001b[0mdet\u001b[0m\u001b[1;33m(\u001b[0m\u001b[0ma3\u001b[0m\u001b[1;33m)\u001b[0m\u001b[1;33m)\u001b[0m\u001b[1;33m\u001b[0m\u001b[1;33m\u001b[0m\u001b[0m\n\u001b[1;32m----> 7\u001b[1;33m \u001b[0mprint\u001b[0m\u001b[1;33m(\u001b[0m\u001b[0mnp\u001b[0m\u001b[1;33m.\u001b[0m\u001b[0mlinalg\u001b[0m\u001b[1;33m.\u001b[0m\u001b[0minv\u001b[0m\u001b[1;33m(\u001b[0m\u001b[0ma3\u001b[0m\u001b[1;33m)\u001b[0m\u001b[1;33m)\u001b[0m\u001b[1;33m\u001b[0m\u001b[1;33m\u001b[0m\u001b[0m\n\u001b[0m",
      "\u001b[1;32m<__array_function__ internals>\u001b[0m in \u001b[0;36minv\u001b[1;34m(*args, **kwargs)\u001b[0m\n",
      "\u001b[1;32m~\\Anaconda3\\lib\\site-packages\\numpy\\linalg\\linalg.py\u001b[0m in \u001b[0;36minv\u001b[1;34m(a)\u001b[0m\n\u001b[0;32m    545\u001b[0m     \u001b[0msignature\u001b[0m \u001b[1;33m=\u001b[0m \u001b[1;34m'D->D'\u001b[0m \u001b[1;32mif\u001b[0m \u001b[0misComplexType\u001b[0m\u001b[1;33m(\u001b[0m\u001b[0mt\u001b[0m\u001b[1;33m)\u001b[0m \u001b[1;32melse\u001b[0m \u001b[1;34m'd->d'\u001b[0m\u001b[1;33m\u001b[0m\u001b[1;33m\u001b[0m\u001b[0m\n\u001b[0;32m    546\u001b[0m     \u001b[0mextobj\u001b[0m \u001b[1;33m=\u001b[0m \u001b[0mget_linalg_error_extobj\u001b[0m\u001b[1;33m(\u001b[0m\u001b[0m_raise_linalgerror_singular\u001b[0m\u001b[1;33m)\u001b[0m\u001b[1;33m\u001b[0m\u001b[1;33m\u001b[0m\u001b[0m\n\u001b[1;32m--> 547\u001b[1;33m     \u001b[0mainv\u001b[0m \u001b[1;33m=\u001b[0m \u001b[0m_umath_linalg\u001b[0m\u001b[1;33m.\u001b[0m\u001b[0minv\u001b[0m\u001b[1;33m(\u001b[0m\u001b[0ma\u001b[0m\u001b[1;33m,\u001b[0m \u001b[0msignature\u001b[0m\u001b[1;33m=\u001b[0m\u001b[0msignature\u001b[0m\u001b[1;33m,\u001b[0m \u001b[0mextobj\u001b[0m\u001b[1;33m=\u001b[0m\u001b[0mextobj\u001b[0m\u001b[1;33m)\u001b[0m\u001b[1;33m\u001b[0m\u001b[1;33m\u001b[0m\u001b[0m\n\u001b[0m\u001b[0;32m    548\u001b[0m     \u001b[1;32mreturn\u001b[0m \u001b[0mwrap\u001b[0m\u001b[1;33m(\u001b[0m\u001b[0mainv\u001b[0m\u001b[1;33m.\u001b[0m\u001b[0mastype\u001b[0m\u001b[1;33m(\u001b[0m\u001b[0mresult_t\u001b[0m\u001b[1;33m,\u001b[0m \u001b[0mcopy\u001b[0m\u001b[1;33m=\u001b[0m\u001b[1;32mFalse\u001b[0m\u001b[1;33m)\u001b[0m\u001b[1;33m)\u001b[0m\u001b[1;33m\u001b[0m\u001b[1;33m\u001b[0m\u001b[0m\n\u001b[0;32m    549\u001b[0m \u001b[1;33m\u001b[0m\u001b[0m\n",
      "\u001b[1;32m~\\Anaconda3\\lib\\site-packages\\numpy\\linalg\\linalg.py\u001b[0m in \u001b[0;36m_raise_linalgerror_singular\u001b[1;34m(err, flag)\u001b[0m\n\u001b[0;32m     95\u001b[0m \u001b[1;33m\u001b[0m\u001b[0m\n\u001b[0;32m     96\u001b[0m \u001b[1;32mdef\u001b[0m \u001b[0m_raise_linalgerror_singular\u001b[0m\u001b[1;33m(\u001b[0m\u001b[0merr\u001b[0m\u001b[1;33m,\u001b[0m \u001b[0mflag\u001b[0m\u001b[1;33m)\u001b[0m\u001b[1;33m:\u001b[0m\u001b[1;33m\u001b[0m\u001b[1;33m\u001b[0m\u001b[0m\n\u001b[1;32m---> 97\u001b[1;33m     \u001b[1;32mraise\u001b[0m \u001b[0mLinAlgError\u001b[0m\u001b[1;33m(\u001b[0m\u001b[1;34m\"Singular matrix\"\u001b[0m\u001b[1;33m)\u001b[0m\u001b[1;33m\u001b[0m\u001b[1;33m\u001b[0m\u001b[0m\n\u001b[0m\u001b[0;32m     98\u001b[0m \u001b[1;33m\u001b[0m\u001b[0m\n\u001b[0;32m     99\u001b[0m \u001b[1;32mdef\u001b[0m \u001b[0m_raise_linalgerror_nonposdef\u001b[0m\u001b[1;33m(\u001b[0m\u001b[0merr\u001b[0m\u001b[1;33m,\u001b[0m \u001b[0mflag\u001b[0m\u001b[1;33m)\u001b[0m\u001b[1;33m:\u001b[0m\u001b[1;33m\u001b[0m\u001b[1;33m\u001b[0m\u001b[0m\n",
      "\u001b[1;31mLinAlgError\u001b[0m: Singular matrix"
     ]
    }
   ],
   "source": [
    "# The inverse of a singular matrix\n",
    "\n",
    "a3 = np.array([[1,2],[2,4]])\n",
    "\n",
    "print (a3)\n",
    "print (np.linalg.det(a3))\n",
    "print(np.linalg.inv(a3))"
   ]
  },
  {
   "cell_type": "code",
   "execution_count": 11,
   "metadata": {},
   "outputs": [
    {
     "name": "stdout",
     "output_type": "stream",
     "text": [
      "[[ 0.17647059 -0.00326797 -0.02287582]\n",
      " [ 0.05882353 -0.13071895  0.08496732]\n",
      " [-0.11764706  0.1503268   0.05228758]]\n"
     ]
    }
   ],
   "source": [
    "# The inverse of 3 x 3 matrix\n",
    "\n",
    "A = np.array([[6, 1, 1],\n",
    "              [4, -2, 5],\n",
    "              [2, 8, 7]])\n",
    "  \n",
    "# Calculating the inverse of the matrix\n",
    "print(np.linalg.inv(A))"
   ]
  },
  {
   "cell_type": "code",
   "execution_count": 12,
   "metadata": {
    "scrolled": true
   },
   "outputs": [
    {
     "name": "stdout",
     "output_type": "stream",
     "text": [
      "[[[-2.    1.  ]\n",
      "  [ 1.5  -0.5 ]]\n",
      "\n",
      " [[-1.25  0.75]\n",
      "  [ 0.75 -0.25]]]\n"
     ]
    }
   ],
   "source": [
    "# Inverses of several matrices can\n",
    "# be computed at once\n",
    "\n",
    "A = np.array([[[1., 2.], [3., 4.]],\n",
    "              [[1, 3], [3, 5]]])\n",
    "  \n",
    "# Calculating the inverse of the matrix\n",
    "print(np.linalg.inv(A))"
   ]
  },
  {
   "cell_type": "markdown",
   "metadata": {},
   "source": [
    "# Calculating the inverse of a 2x2 matrixwithout using numpy"
   ]
  },
  {
   "cell_type": "markdown",
   "metadata": {},
   "source": [
    "#This is your homework\n",
    "\n",
    "1. Code a function to calculate the determinant of 2x2 matrix\n",
    "2. Code a function that interchange the diagonal elements of a 2x2 matrix and inverse the sign of the off diagonal elements\n",
    "3. Code a function to compute the inverse of 2x2 matrix based on the two previous functions if it exists"
   ]
  },
  {
   "cell_type": "code",
   "execution_count": 1,
   "metadata": {},
   "outputs": [
    {
     "name": "stdout",
     "output_type": "stream",
     "text": [
      "5\n"
     ]
    }
   ],
   "source": [
    "# Code a function to calculate the determinant of 2x2 matrix\n",
    "# Determinant of a 2x2 matrix\n",
    "matrixG = [[2, 1],\n",
    "           [3, 4]]\n",
    "\n",
    "if len(matrixG) != 2 or len(matrixG[0]) != 2:\n",
    "    print(\"Matrix should be 2x2 matrix only\")\n",
    "else:\n",
    "    determinant = (matrixG[0][0] * matrixG[1][1]) - (matrixG[0][1] * matrixG[1][0])\n",
    "    print(determinant)"
   ]
  },
  {
   "cell_type": "code",
   "execution_count": 2,
   "metadata": {},
   "outputs": [
    {
     "name": "stdout",
     "output_type": "stream",
     "text": [
      "16 2 3 13 \n",
      "5 11 10 8 \n",
      "9 7 6 12 \n",
      "4 14 15 1 \n"
     ]
    }
   ],
   "source": [
    "# Code a function that interchange the diagonal elements of a 2x2 matrix and inverse the sign of the off diagonal elements\n",
    "\n",
    "# Diagonal elements of matrix\n",
    "\n",
    "N = 4\n",
    "\n",
    "# Function to swap diagonals elements\n",
    "def reverseDiagonal(array):\n",
    "\n",
    "\ti = 0\n",
    "\tj = N\n",
    "\twhile (i < j) :\n",
    "\n",
    "\t\t# For reversing elements of major\n",
    "\t\t# diagonal.\n",
    "\t\tarray[i][i], array[j - 1][j - 1] = array[j-1][j-1], array[i][i]\n",
    "\n",
    "\t\t# For reversing elements of minor\n",
    "\t\t# diagonal.\n",
    "\t\tarray[i][j - 1], array[j - 1][i] = array[j-1][i], array[i][j-1]\n",
    "\n",
    "\t\ti += 1\n",
    "\t\tj -= 1\n",
    "\n",
    "\t# Print matrix after reversals.\n",
    "\tfor i in range(N):\n",
    "\t\tfor j in range( N):\n",
    "\t\t\tprint( array[i][j],end=\" \")\n",
    "\t\tprint()\n",
    "\n",
    "# Driver function\n",
    "if __name__ == \"__main__\":\n",
    "\t\n",
    "\tmatrix = [[ 1, 2, 3, 4],\n",
    "\t\t\t\t\t\t[5, 6, 7, 8],\n",
    "\t\t\t\t\t\t[9, 10, 11, 12],\n",
    "\t\t\t\t\t\t[13, 14, 15, 16 ]]\n",
    "\treverseDiagonal(matrix)\n"
   ]
  },
  {
   "cell_type": "code",
   "execution_count": 6,
   "metadata": {},
   "outputs": [
    {
     "name": "stdout",
     "output_type": "stream",
     "text": [
      "[[ 0.17647059 -0.00326797 -0.02287582]\n",
      " [ 0.05882353 -0.13071895  0.08496732]\n",
      " [-0.11764706  0.1503268   0.05228758]]\n"
     ]
    }
   ],
   "source": [
    "# Code a function to compute the inverse of 2x2 matrix based on the two previous functions if it exists\n",
    "\n",
    "# Python program to inverse\n",
    "# a matrix using numpy\n",
    "  \n",
    "# Import required package\n",
    "import numpy as np\n",
    "  \n",
    "# Taking a 3 * 3 matrix\n",
    "A = np.array([[6, 1, 1],\n",
    "              [4, -2, 5],\n",
    "              [2, 8, 7]])\n",
    "  \n",
    "# Calculating the inverse of the matrix\n",
    "print(np.linalg.inv(A))"
   ]
  },
  {
   "cell_type": "markdown",
   "metadata": {},
   "source": [
    "# Calculating the inverse of a 3x3 matrixwithout using numpy"
   ]
  },
  {
   "cell_type": "markdown",
   "metadata": {},
   "source": [
    "#This is your homework ==> Use the adjoint matrix method\n",
    "\n",
    "Coding a Python code to inverse a 3x3 matrix in order to solve a linear system (no numpy.linalg.inv allowed) with 3 constraints and 3 variables:\n",
    "1. Coding a function that checks if a 3x3 matrix is invertible\n",
    "2. Coding a function that generates the transpose of a 3x3 matrix\n",
    "3. Coding a function that generates the matrix of minors of a 3x3 matrix\n",
    "4. Coding a function that generates the matrix of cofactors of a 3x3 matrix\n",
    "5. Coding a function that generates the inverse of a 3x3 matrix if it exists\n"
   ]
  },
  {
   "cell_type": "code",
   "execution_count": 7,
   "metadata": {},
   "outputs": [
    {
     "name": "stdout",
     "output_type": "stream",
     "text": [
      "Yes\n"
     ]
    }
   ],
   "source": [
    "# Coding a function that checks if a 3x3 matrix is invertible\n",
    "\n",
    "# Function to get cofactor of \n",
    "# mat[p][q] in temp[][]. n is \n",
    "# current dimension of mat[][]\n",
    "def getCofactor(mat, temp, p, q, n):\n",
    "    i = 0\n",
    "    j = 0\n",
    "  \n",
    "    # Looping for each element\n",
    "    # of the matrix\n",
    "    for row in range(n): \n",
    "          \n",
    "        for col in range(n):\n",
    "              \n",
    "            # Copying into temporary matrix\n",
    "            # only those element which are \n",
    "            # not in given row and column\n",
    "            if (row != p and col != q) :\n",
    "                  \n",
    "                temp[i][j] = mat[row][col]\n",
    "                j += 1\n",
    "  \n",
    "                # Row is filled, so increase \n",
    "                # row index and reset col index\n",
    "                if (j == n - 1):\n",
    "                    j = 0\n",
    "                    i += 1\n",
    "  \n",
    "# Recursive function for \n",
    "# finding determinant of matrix.\n",
    "# n is current dimension of mat[][]. \n",
    "def determinantOfMatrix(mat, n):\n",
    "    D = 0 # Initialize result\n",
    "  \n",
    "    # Base case : if matrix \n",
    "    # contains single element\n",
    "    if (n == 1):\n",
    "        return mat[0][0]\n",
    "          \n",
    "    # To store cofactors\n",
    "    temp = [[0 for x in range(N)] \n",
    "               for y in range(N)] \n",
    "  \n",
    "    sign = 1 # To store sign multiplier\n",
    "  \n",
    "    # Iterate for each \n",
    "    # element of first row\n",
    "    for f in range(n):\n",
    "          \n",
    "        # Getting Cofactor of mat[0][f]\n",
    "        getCofactor(mat, temp, 0, f, n)\n",
    "        D += (sign * mat[0][f] *\n",
    "              determinantOfMatrix(temp, n - 1))\n",
    "  \n",
    "        # terms are to be added \n",
    "        # with alternate sign\n",
    "        sign = -sign\n",
    "    return D\n",
    "  \n",
    "def isInvertible(mat, n):\n",
    "    if (determinantOfMatrix(mat, N) != 0):\n",
    "        return True\n",
    "    else:\n",
    "        return False\n",
    "      \n",
    "# Driver Code\n",
    "mat = [[ 1, 0, 2, -1 ],\n",
    "       [ 3, 0, 0, 5 ],\n",
    "       [ 2, 1, 4, -3 ],\n",
    "       [ 1, 0, 5, 0 ]];\n",
    "      \n",
    "N = 4\n",
    "if (isInvertible(mat, N)):\n",
    "    print(\"Yes\")\n",
    "else:\n",
    "    print(\"No\")"
   ]
  },
  {
   "cell_type": "code",
   "execution_count": 8,
   "metadata": {},
   "outputs": [
    {
     "name": "stdout",
     "output_type": "stream",
     "text": [
      "Result matrix is\n",
      "1  2  3  4  \n",
      "2  2  3  4  \n",
      "3  3  3  4  \n",
      "4  4  4  4  \n"
     ]
    }
   ],
   "source": [
    "# Coding a function that generates the transpose of a 3x3 matrix\n",
    "# Python3 Program to find\n",
    "# transpose of a matrix\n",
    "\n",
    "N = 4\n",
    "\n",
    "# This function stores\n",
    "# transpose of A[][] in B[][]\n",
    "\n",
    "def transpose(A,B):\n",
    "\n",
    "\tfor i in range(N):\n",
    "\t\tfor j in range(N):\n",
    "\t\t\tB[i][j] = A[j][i]\n",
    "\n",
    "# driver code\n",
    "A = [ [1, 1, 1, 1],\n",
    "\t[2, 2, 2, 2],\n",
    "\t[3, 3, 3, 3],\n",
    "\t[4, 4, 4, 4]]\n",
    "\n",
    "\n",
    "B = A[:][:] # To store result\n",
    "\n",
    "transpose(A, B)\n",
    "\n",
    "print(\"Result matrix is\")\n",
    "for i in range(N):\n",
    "\tfor j in range(N):\n",
    "\t\tprint(B[i][j], \" \", end='')\n",
    "\tprint()\n",
    "\t\n",
    "# This code is contributed by Anant Agarwal.\n"
   ]
  },
  {
   "cell_type": "code",
   "execution_count": 9,
   "metadata": {},
   "outputs": [],
   "source": [
    "# Coding a function that generates the matrix of minors of a 3x3 matrix\n",
    "def getMatrixMinor(arr,i,j):\n",
    "    c = arr[:]\n",
    "    c = np.delete(c, (i),axis=0)\n",
    "    return [np.delete(row, (j),axis=0) for row in (c)]"
   ]
  },
  {
   "cell_type": "code",
   "execution_count": null,
   "metadata": {},
   "outputs": [],
   "source": [
    "# Coding a function that generates the matrix of cofactors of a 3x3 matrix\n"
   ]
  },
  {
   "cell_type": "code",
   "execution_count": 10,
   "metadata": {},
   "outputs": [
    {
     "name": "stdout",
     "output_type": "stream",
     "text": [
      "Inverse array is \n",
      "[[-1.5   0.5 ]\n",
      " [ 1.25 -0.25]]\n",
      "\n",
      "Inverse array is \n",
      "[[-0.6875     -0.125       0.3125    ]\n",
      " [-0.125       0.25       -0.125     ]\n",
      " [ 0.64583333 -0.125      -0.02083333]]\n",
      "\n",
      "Inverse array is \n",
      "[[-15.07692308   4.9         -0.8         -0.42307692]\n",
      " [ 32.48717949 -10.9          1.8          1.01282051]\n",
      " [-20.84615385   7.1         -1.2         -0.65384615]\n",
      " [  3.41025641  -1.1          0.2          0.08974359]]\n",
      "\n",
      "Inverse array is \n",
      "[[1.]]\n"
     ]
    }
   ],
   "source": [
    "# Coding a function that generates the inverse of a 3x3 matrix if it exists\n",
    "# Importing Library\n",
    "import numpy as np\n",
    "\n",
    "# Finding an inverse of given array\n",
    "arr = np.array([[1, 2], [5, 6]])\n",
    "inverse_array = np.linalg.inv(arr)\n",
    "print(\"Inverse array is \")\n",
    "print(inverse_array)\n",
    "print()\n",
    "\n",
    "# inverse of 3X3 matrix\n",
    "arr = np.array([[1, 2, 3],\n",
    "\t\t\t\t[4, 9, 6],\n",
    "\t\t\t\t[7, 8, 9]])\n",
    "\n",
    "inverse_array = np.linalg.inv(arr)\n",
    "print(\"Inverse array is \")\n",
    "print(inverse_array)\n",
    "print()\n",
    "\n",
    "# inverse of 4X4 matrix\n",
    "arr = np.array([[1, 2, 3, 4],\n",
    "\t\t\t\t[10, 11, 14, 25],\n",
    "\t\t\t\t[20, 8, 7, 55],\n",
    "\t\t\t\t[40, 41, 42, 43]])\n",
    "\n",
    "inverse_array = np.linalg.inv(arr)\n",
    "print(\"Inverse array is \")\n",
    "print(inverse_array)\n",
    "print()\n",
    "\n",
    "# inverse of 1X1 matrix\n",
    "arr = np.array([[1]])\n",
    "inverse_array = np.linalg.inv(arr)\n",
    "print(\"Inverse array is \")\n",
    "print(inverse_array)\n"
   ]
  },
  {
   "cell_type": "markdown",
   "metadata": {},
   "source": [
    "# Finding the rank of a matrix using numpy"
   ]
  },
  {
   "cell_type": "code",
   "execution_count": 13,
   "metadata": {},
   "outputs": [
    {
     "data": {
      "text/plain": [
       "4"
      ]
     },
     "execution_count": 13,
     "metadata": {},
     "output_type": "execute_result"
    }
   ],
   "source": [
    "from numpy.linalg import matrix_rank\n",
    "matrix_rank(np.eye(4)) "
   ]
  },
  {
   "cell_type": "code",
   "execution_count": 14,
   "metadata": {},
   "outputs": [
    {
     "data": {
      "text/plain": [
       "1"
      ]
     },
     "execution_count": 14,
     "metadata": {},
     "output_type": "execute_result"
    }
   ],
   "source": [
    "a3 = np.array([[1,2],[2,4]])\n",
    "matrix_rank(a3) "
   ]
  },
  {
   "cell_type": "code",
   "execution_count": null,
   "metadata": {},
   "outputs": [],
   "source": []
  }
 ],
 "metadata": {
  "kernelspec": {
   "display_name": "Python 3",
   "language": "python",
   "name": "python3"
  },
  "language_info": {
   "codemirror_mode": {
    "name": "ipython",
    "version": 3
   },
   "file_extension": ".py",
   "mimetype": "text/x-python",
   "name": "python",
   "nbconvert_exporter": "python",
   "pygments_lexer": "ipython3",
   "version": "3.8.5"
  }
 },
 "nbformat": 4,
 "nbformat_minor": 4
}
