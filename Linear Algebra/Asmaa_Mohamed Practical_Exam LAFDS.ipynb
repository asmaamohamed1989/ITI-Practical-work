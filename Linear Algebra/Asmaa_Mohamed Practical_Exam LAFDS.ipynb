{
 "cells": [
  {
   "cell_type": "code",
   "execution_count": 1,
   "id": "rotary-billion",
   "metadata": {},
   "outputs": [],
   "source": [
    "import numpy as np\n",
    "from scipy import linalg, sparse\n"
   ]
  },
  {
   "cell_type": "markdown",
   "id": "phantom-saint",
   "metadata": {},
   "source": [
    "# 1 check square matrix"
   ]
  },
  {
   "cell_type": "code",
   "execution_count": 2,
   "id": "experimental-gauge",
   "metadata": {},
   "outputs": [],
   "source": [
    "\n",
    "m = np.array([[1,2,3], [4,5,6], [7,8,9], [10, 11, 12]])\n",
    "def isSquare (m): return all (len (row) == len (m) for row in m)\n",
    "\n"
   ]
  },
  {
   "cell_type": "code",
   "execution_count": 3,
   "id": "altered-success",
   "metadata": {},
   "outputs": [
    {
     "name": "stdout",
     "output_type": "stream",
     "text": [
      "[[ 1  2  3]\n",
      " [ 4  5  6]\n",
      " [ 7  8  9]\n",
      " [10 11 12]]\n",
      "(4, 3)\n",
      "Enter number of rows: 5\n",
      "Enter number of columns: 6\n",
      "0\n"
     ]
    }
   ],
   "source": [
    "# Importing NumPy Library\n",
    "import numpy as np\n",
    "import sys\n",
    "\n",
    "\n",
    "\n",
    "# This is my matrix\n",
    "\n",
    "A = np.array([[1,2,3], [4,5,6], [7,8,9], [10, 11, 12]])\n",
    "print(A)\n",
    "\n",
    "dimension = A.shape\n",
    "print(dimension)\n",
    "\n",
    "# Reading number of rows\n",
    "n = int(input('Enter number of rows: '))\n",
    "\n",
    "\n",
    "# Reading number of columns\n",
    "m = int(input('Enter number of columns: '))\n",
    "\n",
    "\n",
    "\n",
    "        \n",
    "# compare the number of rows and the number of columns to check square matrix\n",
    "if(n == m):\n",
    "    print(\"1\")\n",
    "else:\n",
    "    print(\"0\")\n",
    "    \n",
    "\n"
   ]
  },
  {
   "cell_type": "markdown",
   "id": "plastic-screening",
   "metadata": {},
   "source": [
    "# problem 2"
   ]
  },
  {
   "cell_type": "code",
   "execution_count": 4,
   "id": "younger-andorra",
   "metadata": {},
   "outputs": [],
   "source": [
    "# check the input matrix is square\n",
    "m = np.array([[1,2,3], [4,5,6], [7,8,9], [10, 11, 12]])\n",
    "def isSquare (m): return all (len (row) == len (m) for row in m)"
   ]
  },
  {
   "cell_type": "code",
   "execution_count": 5,
   "id": "pretty-fortune",
   "metadata": {},
   "outputs": [
    {
     "data": {
      "text/plain": [
       "1"
      ]
     },
     "execution_count": 5,
     "metadata": {},
     "output_type": "execute_result"
    }
   ],
   "source": [
    "#compute the matrix rank\n",
    "from numpy.linalg import matrix_rank\n",
    "matrix_rank(np.eye(4)) \n",
    "a3 = np.array([[1,2],[2,4]])\n",
    "matrix_rank(a3) "
   ]
  },
  {
   "cell_type": "code",
   "execution_count": 6,
   "id": "voluntary-shooting",
   "metadata": {},
   "outputs": [
    {
     "name": "stdout",
     "output_type": "stream",
     "text": [
      "0.0\n"
     ]
    }
   ],
   "source": [
    "# compute matrix determinant\n",
    "a2 = np.array([[1,2],[2,4]])\n",
    "result2 =  np.linalg.det(a2)\n",
    "print(result2)"
   ]
  },
  {
   "cell_type": "code",
   "execution_count": 7,
   "id": "tutorial-wallet",
   "metadata": {},
   "outputs": [
    {
     "name": "stdout",
     "output_type": "stream",
     "text": [
      "0\n"
     ]
    }
   ],
   "source": [
    "a2 = np.array([[1,2],[2,4]])\n",
    "if (matrix_rank(a2) == len(a2)):\n",
    "    print(1)\n",
    "else:\n",
    "    print(0)\n",
    "        "
   ]
  },
  {
   "cell_type": "markdown",
   "id": "overhead-aviation",
   "metadata": {},
   "source": [
    "# problem 4"
   ]
  },
  {
   "cell_type": "code",
   "execution_count": 8,
   "id": "acceptable-immune",
   "metadata": {},
   "outputs": [
    {
     "name": "stdout",
     "output_type": "stream",
     "text": [
      "Enter number of unknowns: 5\n",
      "Enter Augmented Matrix Coefficients:\n",
      "a[0][0]=5\n",
      "a[0][1]=9\n",
      "a[0][2]=6\n",
      "a[0][3]=3\n",
      "a[0][4]=4\n",
      "a[0][5]=2\n",
      "a[1][0]=8\n",
      "a[1][1]=4\n",
      "a[1][2]=2\n",
      "a[1][3]=3\n",
      "a[1][4]=3\n",
      "a[1][5]=8\n",
      "a[2][0]=9\n",
      "a[2][1]=9\n",
      "a[2][2]=8\n",
      "a[2][3]=7\n",
      "a[2][4]=5\n",
      "a[2][5]=5\n",
      "a[3][0]=9\n",
      "a[3][1]=9\n",
      "a[3][2]=9\n",
      "a[3][3]=9\n",
      "a[3][4]=9\n",
      "a[3][5]=9\n",
      "a[4][0]=9\n",
      "a[4][1]=9\n",
      "a[4][2]=8\n",
      "a[4][3]=8\n",
      "a[4][4]=8\n",
      "a[4][5]=8\n",
      "\n",
      "Required solution is: \n",
      "X0 = 1.55\tX1 = -1.55\tX2 = 1.20\tX3 = -1.80\tX4 = 1.60\t"
     ]
    }
   ],
   "source": [
    "# Importing NumPy Library\n",
    "import numpy as np\n",
    "import sys\n",
    "\n",
    "# Reading number of unknowns\n",
    "n = int(input('Enter number of unknowns: '))\n",
    "\n",
    "# Making numpy array of n x n+1 size and initializing \n",
    "# to zero for storing augmented matrix\n",
    "a = np.zeros((n,n+1))\n",
    "\n",
    "# Making numpy array of n size and initializing \n",
    "# to zero for storing solution vector\n",
    "x = np.zeros(n)\n",
    "\n",
    "# Reading augmented matrix coefficients\n",
    "print('Enter Augmented Matrix Coefficients:')\n",
    "for i in range(n):\n",
    "    for j in range(n+1):\n",
    "        a[i][j] = float(input( 'a['+str(i)+']['+ str(j)+']='))\n",
    "\n",
    "# Applying Gauss Elimination\n",
    "for i in range(n):\n",
    "    if a[i][i] == 0.0:\n",
    "        sys.exit('Divide by zero detected!')\n",
    "        \n",
    "    for j in range(i+1, n):\n",
    "        ratio = a[j][i]/a[i][i]\n",
    "        \n",
    "        for k in range(n+1):\n",
    "            a[j][k] = a[j][k] - ratio * a[i][k]\n",
    "\n",
    "# Back Substitution\n",
    "x[n-1] = a[n-1][n]/a[n-1][n-1]\n",
    "\n",
    "for i in range(n-2,-1,-1):\n",
    "    x[i] = a[i][n]\n",
    "    \n",
    "    for j in range(i+1,n):\n",
    "        x[i] = x[i] - a[i][j]*x[j]\n",
    "    \n",
    "    x[i] = x[i]/a[i][i]\n",
    "\n",
    "# Displaying solution\n",
    "print('\\nRequired solution is: ')\n",
    "for i in range(n):\n",
    "    print('X%d = %0.2f' %(i,x[i]), end = '\\t')"
   ]
  },
  {
   "cell_type": "code",
   "execution_count": 9,
   "id": "sized-moral",
   "metadata": {},
   "outputs": [
    {
     "name": "stdout",
     "output_type": "stream",
     "text": [
      "Original matrix:\n",
      "[[1, 1, 0, 2], [0, 3, 0, 3], [1, 0, 4, 4]]\n",
      "Sum:\n"
     ]
    },
    {
     "ename": "NameError",
     "evalue": "name 'sum_matrix_Elements' is not defined",
     "output_type": "error",
     "traceback": [
      "\u001b[1;31m---------------------------------------------------------------------------\u001b[0m",
      "\u001b[1;31mNameError\u001b[0m                                 Traceback (most recent call last)",
      "\u001b[1;32m<ipython-input-9-90cb3605d0c1>\u001b[0m in \u001b[0;36m<module>\u001b[1;34m\u001b[0m\n\u001b[0;32m     23\u001b[0m \u001b[0mprint\u001b[0m\u001b[1;33m(\u001b[0m\u001b[0mm\u001b[0m\u001b[1;33m)\u001b[0m\u001b[1;33m\u001b[0m\u001b[1;33m\u001b[0m\u001b[0m\n\u001b[0;32m     24\u001b[0m \u001b[0mprint\u001b[0m\u001b[1;33m(\u001b[0m\u001b[1;34m\"Sum:\"\u001b[0m\u001b[1;33m)\u001b[0m\u001b[1;33m\u001b[0m\u001b[1;33m\u001b[0m\u001b[0m\n\u001b[1;32m---> 25\u001b[1;33m \u001b[0mprint\u001b[0m\u001b[1;33m(\u001b[0m\u001b[0msum_matrix_Elements\u001b[0m\u001b[1;33m(\u001b[0m\u001b[0mm\u001b[0m\u001b[1;33m)\u001b[0m\u001b[1;33m)\u001b[0m\u001b[1;33m\u001b[0m\u001b[1;33m\u001b[0m\u001b[0m\n\u001b[0m",
      "\u001b[1;31mNameError\u001b[0m: name 'sum_matrix_Elements' is not defined"
     ]
    }
   ],
   "source": [
    "def number_row(i):\n",
    "    \"Count the number of rows in matrix A.\"\n",
    "    n = A.shape[0]\n",
    "    E = np.eye(n)\n",
    "    if i == j:\n",
    "        E[i,i] = k + 1\n",
    "    else:\n",
    "        E[i,j] = k\n",
    "    return E @ A\n",
    "\n",
    "def Is_square(m):\n",
    "    arra = np.array(m)     \n",
    "    for p in range(len(arra)):  \n",
    "        for q in range(len(arra[p])):  \n",
    "            if arra[p][q] == 0 and p < len(arra)-1: \n",
    "                arra[p+1][q] = 0  \n",
    "            element_sum += arra[p][q]  \n",
    "    return element_sum\n",
    "m = [[1, 1, 0, 2],\n",
    "          [0, 3, 0, 3], \n",
    "          [1, 0, 4, 4]]\n",
    "print(\"Original matrix:\")\n",
    "print(m)\n",
    "print(\"Sum:\")\n",
    "print(sum_matrix_Elements(m))"
   ]
  },
  {
   "cell_type": "markdown",
   "id": "acoustic-vulnerability",
   "metadata": {},
   "source": [
    "# problem 5\n",
    "Solve linear system"
   ]
  },
  {
   "cell_type": "code",
   "execution_count": null,
   "id": "biblical-colon",
   "metadata": {},
   "outputs": [],
   "source": [
    "# Making numpy array of n x n+1 size and initializing \n",
    "# to zero for storing augmented matrix\n",
    "a = np.zeros((n,n+1))\n",
    "\n",
    "# Making numpy array of n size and initializing \n",
    "# to zero for storing solution vector\n",
    "x = np.zeros(n)\n",
    "\n",
    "# Reading augmented matrix coefficients\n",
    "print('Enter Augmented Matrix Coefficients:')\n",
    "for i in range(n):\n",
    "    for j in range(n+1):\n",
    "        a[i][j] = float(input( 'a['+str(i)+']['+ str(j)+']='))"
   ]
  },
  {
   "cell_type": "code",
   "execution_count": null,
   "id": "brief-challenge",
   "metadata": {},
   "outputs": [],
   "source": [
    "A = np.array([[4, 3, 2], [-2, 2, 3], [3, -5, 2]])\n",
    "B = np.array([25, -10, -4])\n",
    "X2 = np.linalg.solve(A,B)\n",
    "\n",
    "print(X2)"
   ]
  },
  {
   "cell_type": "code",
   "execution_count": null,
   "id": "velvet-abraham",
   "metadata": {},
   "outputs": [],
   "source": []
  }
 ],
 "metadata": {
  "kernelspec": {
   "display_name": "Python 3",
   "language": "python",
   "name": "python3"
  },
  "language_info": {
   "codemirror_mode": {
    "name": "ipython",
    "version": 3
   },
   "file_extension": ".py",
   "mimetype": "text/x-python",
   "name": "python",
   "nbconvert_exporter": "python",
   "pygments_lexer": "ipython3",
   "version": "3.8.5"
  }
 },
 "nbformat": 4,
 "nbformat_minor": 5
}
