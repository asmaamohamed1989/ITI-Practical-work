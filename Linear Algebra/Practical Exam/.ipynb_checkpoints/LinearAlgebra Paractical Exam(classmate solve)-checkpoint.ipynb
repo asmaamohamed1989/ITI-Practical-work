{
 "cells": [
  {
   "cell_type": "markdown",
   "metadata": {},
   "source": [
    "# Imports"
   ]
  },
  {
   "cell_type": "code",
   "execution_count": 1,
   "metadata": {},
   "outputs": [],
   "source": [
    "import numpy as np"
   ]
  },
  {
   "cell_type": "markdown",
   "metadata": {},
   "source": [
    "# Section 1"
   ]
  },
  {
   "cell_type": "code",
   "execution_count": 26,
   "metadata": {},
   "outputs": [],
   "source": [
    "def isSquare(A):\n",
    "    return A.shape[0] == A.shape[1]"
   ]
  },
  {
   "cell_type": "markdown",
   "metadata": {},
   "source": [
    "# Section 2"
   ]
  },
  {
   "cell_type": "code",
   "execution_count": 25,
   "metadata": {},
   "outputs": [],
   "source": [
    "def Props(A):\n",
    "    if(isSquare(A)):\n",
    "        A_rank = np.linalg.matrix_rank(A)\n",
    "        print(\"A_rank = \" + str(A_rank))\n",
    "        A_det = np.linalg.det(A).round(2)\n",
    "        print(\"A_det = \" + str(A_det))\n",
    "        return A_rank == A.shape[0]"
   ]
  },
  {
   "cell_type": "markdown",
   "metadata": {},
   "source": [
    "# Section 3"
   ]
  },
  {
   "cell_type": "markdown",
   "metadata": {},
   "source": [
    "## System 1"
   ]
  },
  {
   "cell_type": "markdown",
   "metadata": {},
   "source": [
    "A Equations:  Note:\n",
    "                   #Sunflowers-->X1\n",
    "                   #Roses-->X2\n",
    "                   #Daisies-->X3\n",
    "### 1.5X1 + 5.75X2 + 2.6X3 = 589.5\n",
    "### X1 + X2 + X3 = 200\n",
    "### X2 - X3 = -20"
   ]
  },
  {
   "cell_type": "code",
   "execution_count": 161,
   "metadata": {},
   "outputs": [
    {
     "name": "stdout",
     "output_type": "stream",
     "text": [
      "Get A matrix Props.\n",
      "A_rank = 3\n",
      "A_det = 5.35\n"
     ]
    },
    {
     "data": {
      "text/plain": [
       "True"
      ]
     },
     "execution_count": 161,
     "metadata": {},
     "output_type": "execute_result"
    }
   ],
   "source": [
    "A = np.array([[1.5, 5.75, 2.6],\n",
    "              [1, 1, 1],\n",
    "              [0, 1, -1]],dtype='float64')\n",
    "B = np.array([[589.5],[200],[-20]], dtype='float64')\n",
    "print(\"Get A matrix Props.\")\n",
    "Props(A)"
   ]
  },
  {
   "cell_type": "markdown",
   "metadata": {},
   "source": [
    "## System 2"
   ]
  },
  {
   "cell_type": "markdown",
   "metadata": {},
   "source": [
    "A Equations:  Note:\n",
    "                   #Potatos-->X1\n",
    "                   #Chicken-->X2\n",
    "                   #Oil-->X3\n",
    "### 2X1 + X2 - 3X3 = 0\n",
    "### 4X1 + 2X2 - 6X3 = 0\n",
    "### X1 - X2 + X3 = 0"
   ]
  },
  {
   "cell_type": "code",
   "execution_count": 50,
   "metadata": {},
   "outputs": [
    {
     "name": "stdout",
     "output_type": "stream",
     "text": [
      "Get A matrix Props.\n",
      "A_rank = 2\n",
      "A_det = 0.0\n"
     ]
    },
    {
     "data": {
      "text/plain": [
       "False"
      ]
     },
     "execution_count": 50,
     "metadata": {},
     "output_type": "execute_result"
    }
   ],
   "source": [
    "A = np.array([[2, 1, -3],\n",
    "              [4, 2, -6],\n",
    "              [1, -1, 1]],dtype='float64').reshape(3,3)\n",
    "B = np.array([0, 0, 0],dtype='float64').reshape(3,1)\n",
    "print(\"Get A matrix Props.\")\n",
    "Props(A)"
   ]
  },
  {
   "cell_type": "markdown",
   "metadata": {},
   "source": [
    "# Section 4"
   ]
  },
  {
   "cell_type": "code",
   "execution_count": 156,
   "metadata": {},
   "outputs": [],
   "source": [
    "def reducerow(C, pivotrow, targetrow, pivot_index):\n",
    "    pivot = C[pivot_index, pivot_index]\n",
    "    if(pivot != 1 and pivot != 0):\n",
    "        pivotrow/=pivot\n",
    "        \n",
    "    targetrow -= (pivotrow * targetrow[pivot_index])"
   ]
  },
  {
   "cell_type": "markdown",
   "metadata": {},
   "source": [
    "# Section 5"
   ]
  },
  {
   "cell_type": "code",
   "execution_count": 163,
   "metadata": {},
   "outputs": [
    {
     "name": "stdout",
     "output_type": "stream",
     "text": [
      "Matrix before ---\n",
      " [[  1.5    5.75   2.6  589.5 ]\n",
      " [  1.     1.     1.   200.  ]\n",
      " [  0.     1.    -1.   -20.  ]]\n",
      "----------------------------\n",
      "3.0\n",
      "Matrix After -----\n",
      " [[ 1.  0.  0. 80.]\n",
      " [ 0.  1.  0. 50.]\n",
      " [-0. -0.  1. 70.]]\n",
      "----------------------------\n"
     ]
    }
   ],
   "source": [
    "def solveLinearSystem(A,B):\n",
    "    A = np.concatenate((A,B), axis=1)\n",
    "    maxRowIndex = A.shape[0]-1\n",
    "\n",
    "    for i in range(0, A.shape[0]):\n",
    "        targetRowIndex = i + 1\n",
    "        reducedRowNumbers = 0\n",
    "        while(reducedRowNumbers < (A.shape[0] - 1)):\n",
    "            if targetRowIndex > maxRowIndex:\n",
    "                targetRowIndex = 0\n",
    "            reducerow(A, A[i,:], A[targetRowIndex,:], i)\n",
    "            reducedRowNumbers += 1    \n",
    "            targetRowIndex += 1\n",
    "\n",
    "def diagonalSum(A):\n",
    "    retVal = 0\n",
    "    for i in range(0, A.shape[0]):\n",
    "        retVal += A[i,i]\n",
    "    return retVal\n",
    "\n",
    "\n",
    "solveLinearSystem(A,B)"
   ]
  },
  {
   "cell_type": "markdown",
   "metadata": {},
   "source": [
    "# Section 6"
   ]
  },
  {
   "cell_type": "code",
   "execution_count": null,
   "metadata": {},
   "outputs": [],
   "source": []
  },
  {
   "cell_type": "markdown",
   "metadata": {},
   "source": []
  },
  {
   "cell_type": "code",
   "execution_count": null,
   "metadata": {},
   "outputs": [],
   "source": []
  },
  {
   "cell_type": "code",
   "execution_count": null,
   "metadata": {},
   "outputs": [],
   "source": []
  },
  {
   "cell_type": "code",
   "execution_count": null,
   "metadata": {},
   "outputs": [],
   "source": []
  },
  {
   "cell_type": "code",
   "execution_count": null,
   "metadata": {},
   "outputs": [],
   "source": []
  }
 ],
 "metadata": {
  "kernelspec": {
   "display_name": "Python 3",
   "language": "python",
   "name": "python3"
  },
  "language_info": {
   "codemirror_mode": {
    "name": "ipython",
    "version": 3
   },
   "file_extension": ".py",
   "mimetype": "text/x-python",
   "name": "python",
   "nbconvert_exporter": "python",
   "pygments_lexer": "ipython3",
   "version": "3.8.5"
  }
 },
 "nbformat": 4,
 "nbformat_minor": 4
}
