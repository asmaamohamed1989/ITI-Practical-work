{
 "cells": [
  {
   "cell_type": "markdown",
   "metadata": {},
   "source": [
    "# Q1\n"
   ]
  },
  {
   "cell_type": "code",
   "execution_count": 6,
   "metadata": {},
   "outputs": [
    {
     "data": {
      "text/plain": [
       "1"
      ]
     },
     "execution_count": 6,
     "metadata": {},
     "output_type": "execute_result"
    }
   ],
   "source": [
    "import numpy as np\n",
    "def issquare(mat):\n",
    "    x=mat.shape[0]\n",
    "    y=mat.shape[1]\n",
    "    if x==y:\n",
    "        return 1\n",
    "    else:\n",
    "        return 0\n",
    "issquare(np.array([[1,1],[2,2]]))"
   ]
  },
  {
   "cell_type": "markdown",
   "metadata": {},
   "source": [
    "# Q2"
   ]
  },
  {
   "cell_type": "code",
   "execution_count": 22,
   "metadata": {},
   "outputs": [
    {
     "name": "stdout",
     "output_type": "stream",
     "text": [
      "matrix issquare\n",
      "The rank of the matrix =  1\n",
      "the determinant of the matrix = 0.0\n"
     ]
    },
    {
     "data": {
      "text/plain": [
       "0"
      ]
     },
     "execution_count": 22,
     "metadata": {},
     "output_type": "execute_result"
    }
   ],
   "source": [
    "from numpy.linalg import *\n",
    "def props(mat):\n",
    "    if issquare(mat)==1:\n",
    "        print('matrix is square')\n",
    "    else:\n",
    "        print('matrix is not square')\n",
    "    rank=linalg.matrix_rank(mat)\n",
    "    print('The rank of the matrix = ',rank)\n",
    "    print('the determinant of the matrix =',linalg.det(mat))\n",
    "    if rank==mat.shape[0]:\n",
    "        return 1\n",
    "    else:\n",
    "        return 0\n",
    "    \n",
    "props(np.array([[1,1],[2,2]]))"
   ]
  },
  {
   "cell_type": "markdown",
   "metadata": {},
   "source": [
    "# Q3 system1"
   ]
  },
  {
   "cell_type": "code",
   "execution_count": 46,
   "metadata": {},
   "outputs": [
    {
     "name": "stdout",
     "output_type": "stream",
     "text": [
      "matrix issquare\n",
      "The rank of the matrix =  3\n",
      "the determinant of the matrix = -5.35\n"
     ]
    },
    {
     "data": {
      "text/plain": [
       "array([[589.5],\n",
       "       [200. ],\n",
       "       [ 20. ]])"
      ]
     },
     "execution_count": 46,
     "metadata": {},
     "output_type": "execute_result"
    }
   ],
   "source": [
    "import numpy as np \n",
    "A=np.array([[1.50,5.75,2.60],[1,1,1],[0,-1,1]],dtype=np.float64)\n",
    "B=np.array([[589.5],[200],[20]],dtype=np.float64)\n",
    "props(A)\n",
    "B"
   ]
  },
  {
   "cell_type": "markdown",
   "metadata": {},
   "source": [
    "# Q3 system2"
   ]
  },
  {
   "cell_type": "code",
   "execution_count": 53,
   "metadata": {},
   "outputs": [
    {
     "name": "stdout",
     "output_type": "stream",
     "text": [
      "matrix issquare\n",
      "The rank of the matrix =  2\n",
      "the determinant of the matrix = 0.0\n"
     ]
    },
    {
     "data": {
      "text/plain": [
       "0"
      ]
     },
     "execution_count": 53,
     "metadata": {},
     "output_type": "execute_result"
    }
   ],
   "source": [
    "x=np.array([[2,1,3],[4,2,6],[1,1,-1]],dtype=np.float64)\n",
    "y=np.array([[0],[0],[0]],dtype=np.float64)\n",
    "props(x)\n"
   ]
  },
  {
   "cell_type": "markdown",
   "metadata": {},
   "source": [
    "# Q4"
   ]
  },
  {
   "cell_type": "code",
   "execution_count": 29,
   "metadata": {},
   "outputs": [],
   "source": [
    "def reducerow(c,pivotrow,targetrow,pivot):\n",
    "    pivotelement=c[pivotrow][pivot]\n",
    "    if c[pivotrow,pivot]!=1:\n",
    "        c[pivotrow,:]=c[pivotrow,:]/pivotelement\n",
    "    c[targetrow,:]=c[targetrow,:]-c[targetrow,pivot]*c[pivotrow,:]\n",
    "    return c\n",
    "    "
   ]
  },
  {
   "cell_type": "markdown",
   "metadata": {},
   "source": [
    "# Q5"
   ]
  },
  {
   "cell_type": "code",
   "execution_count": 51,
   "metadata": {},
   "outputs": [],
   "source": [
    "def solveLinearSystem(A,B):\n",
    "    x=np.hstack([A,B])\n",
    "    for i in range(3):\n",
    "        for j in range(3):\n",
    "            if i!=j:\n",
    "                x=reducerow(x,i,j,i)\n",
    "    return x\n"
   ]
  },
  {
   "cell_type": "markdown",
   "metadata": {},
   "source": [
    "# Q6"
   ]
  },
  {
   "cell_type": "code",
   "execution_count": 50,
   "metadata": {},
   "outputs": [
    {
     "data": {
      "text/plain": [
       "array([[ 1.,  0.,  0., 80.],\n",
       "       [-0.,  1.,  0., 50.],\n",
       "       [ 0.,  0.,  1., 70.]])"
      ]
     },
     "execution_count": 50,
     "metadata": {},
     "output_type": "execute_result"
    }
   ],
   "source": [
    "solveLinearSystem(A,B)"
   ]
  },
  {
   "cell_type": "code",
   "execution_count": 54,
   "metadata": {},
   "outputs": [
    {
     "name": "stderr",
     "output_type": "stream",
     "text": [
      "<ipython-input-29-cf70f12ed0bd>:4: RuntimeWarning: invalid value encountered in true_divide\n",
      "  c[pivotrow,:]=c[pivotrow,:]/pivotelement\n"
     ]
    },
    {
     "data": {
      "text/plain": [
       "array([[nan, nan, nan, nan],\n",
       "       [nan, nan, nan, nan],\n",
       "       [nan, nan, nan, nan]])"
      ]
     },
     "execution_count": 54,
     "metadata": {},
     "output_type": "execute_result"
    }
   ],
   "source": [
    "solveLinearSystem(x,y)"
   ]
  },
  {
   "cell_type": "code",
   "execution_count": null,
   "metadata": {},
   "outputs": [],
   "source": []
  }
 ],
 "metadata": {
  "kernelspec": {
   "display_name": "Python 3",
   "language": "python",
   "name": "python3"
  },
  "language_info": {
   "codemirror_mode": {
    "name": "ipython",
    "version": 3
   },
   "file_extension": ".py",
   "mimetype": "text/x-python",
   "name": "python",
   "nbconvert_exporter": "python",
   "pygments_lexer": "ipython3",
   "version": "3.8.5"
  }
 },
 "nbformat": 4,
 "nbformat_minor": 4
}
