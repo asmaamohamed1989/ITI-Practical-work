{
 "cells": [
  {
   "cell_type": "code",
   "execution_count": 82,
   "metadata": {},
   "outputs": [],
   "source": [
    "import numpy as np\n",
    "from copy import deepcopy"
   ]
  },
  {
   "cell_type": "code",
   "execution_count": 83,
   "metadata": {},
   "outputs": [],
   "source": [
    "def isSquare(matrix):\n",
    "    num_rows = len(matrix)\n",
    "    isSquare = 1\n",
    "    for row in matrix:\n",
    "        if num_rows != len(row):\n",
    "            isSquare = 0\n",
    "    print(\"Done\")\n",
    "    return isSquare"
   ]
  },
  {
   "cell_type": "code",
   "execution_count": 84,
   "metadata": {},
   "outputs": [],
   "source": [
    "def props(matrix):\n",
    "    if isSquare(matrix) == 1:\n",
    "        num_rows = len(matrix)\n",
    "        matrixRank = np.linalg.matrix_rank(matrix)\n",
    "        print(f\"The rank of the matrix is: {matrixRank}\")\n",
    "        print(f\"The determinant of the matrix is: {np.linalg.det(matrix)}\")\n",
    "        if matrixRank == num_rows:\n",
    "            return 1\n",
    "        else:\n",
    "            return 0"
   ]
  },
  {
   "cell_type": "code",
   "execution_count": 85,
   "metadata": {},
   "outputs": [],
   "source": [
    "def reduceRow(old_matrix, pivot_row, target_row, pivot_element):\n",
    "    matrix = deepcopy(old_matrix)\n",
    "    if matrix[pivot_row][pivot_element] != 1:\n",
    "        for i in range(len(matrix)):\n",
    "            matrix[pivot_row][i] = old_matrix[pivot_row][i] / old_matrix[pivot_row][pivot_element]\n",
    "    target_element = old_matrix[target_row][pivot_element]\n",
    "    for i in range(len(matrix)):\n",
    "        matrix[pivot_row][i] *= target_element\n",
    "    for i in range(len(matrix)):\n",
    "        old_matrix[target_row][i] =  matrix[target_row][i] - matrix[pivot_row][i]\n",
    "    return old_matrix"
   ]
  },
  {
   "cell_type": "code",
   "execution_count": 88,
   "metadata": {},
   "outputs": [],
   "source": [
    "def solveLinearEquation(system_matrix, target_vector):\n",
    "    matrix = np.concatenate((system_matrix,target_vector),axis=1)\n",
    "    for i in range(len(matrix)):\n",
    "        for j in range(len(matrix)):\n",
    "            if i == j:\n",
    "                if i == 0:\n",
    "                    for row_num in range(len(matrix)-1):\n",
    "                        matrix = reduceRow(matrix, i ,row_num + 1, i)\n",
    "                else:\n",
    "                    for row_num in range(len(matrix)):\n",
    "                        if row_num == i:\n",
    "                            pass\n",
    "                        else:\n",
    "                            reduceRow(matrix, i , row_num , i)\n",
    "    return matrix"
   ]
  },
  {
   "cell_type": "code",
   "execution_count": 89,
   "metadata": {},
   "outputs": [
    {
     "name": "stdout",
     "output_type": "stream",
     "text": [
      "[[  2.    0.    0.    1. ]\n",
      " [  0.    1.    0.    1. ]\n",
      " [  0.    0.  -36.5   1. ]]\n"
     ]
    }
   ],
   "source": [
    "matrix = np.array([\n",
    "    [2,2,5],\n",
    "    [4,5,6],\n",
    "    [7,0,9]\n",
    "], dtype=np.float64)\n",
    "target_vector = np.array([\n",
    "    [1],\n",
    "    [1],\n",
    "    [1]\n",
    "])\n",
    "print(solveLinearEquation(matrix, target_vector))"
   ]
  }
 ],
 "metadata": {
  "kernelspec": {
   "display_name": "Python 3",
   "language": "python",
   "name": "python3"
  },
  "language_info": {
   "codemirror_mode": {
    "name": "ipython",
    "version": 3
   },
   "file_extension": ".py",
   "mimetype": "text/x-python",
   "name": "python",
   "nbconvert_exporter": "python",
   "pygments_lexer": "ipython3",
   "version": "3.8.5"
  }
 },
 "nbformat": 4,
 "nbformat_minor": 4
}
