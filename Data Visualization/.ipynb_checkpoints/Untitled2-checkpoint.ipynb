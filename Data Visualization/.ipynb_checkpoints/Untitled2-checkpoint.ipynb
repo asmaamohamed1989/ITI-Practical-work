{
 "cells": [
  {
   "cell_type": "code",
   "execution_count": 1,
   "metadata": {},
   "outputs": [],
   "source": [
    "import dash\n",
    "from dash import html\n",
    "from dash import dcc\n",
    "from dash.dependencies import Input,Output,State\n",
    "from numpy.core.numeric import outer\n",
    "import plotly.express as px\n",
    "import pandas as pd\n",
    "import numpy as np\n"
   ]
  },
  {
   "cell_type": "code",
   "execution_count": null,
   "metadata": {},
   "outputs": [
    {
     "name": "stdout",
     "output_type": "stream",
     "text": [
      "Dash is running on http://127.0.0.1:8050/\n",
      "\n",
      " * Serving Flask app \"__main__\" (lazy loading)\n",
      " * Environment: production\n",
      "   WARNING: This is a development server. Do not use it in a production deployment.\n",
      "   Use a production WSGI server instead.\n",
      " * Debug mode: off\n"
     ]
    },
    {
     "name": "stderr",
     "output_type": "stream",
     "text": [
      " * Running on http://127.0.0.1:8050/ (Press CTRL+C to quit)\n",
      "127.0.0.1 - - [07/Oct/2021 16:31:48] \"\u001b[37mGET / HTTP/1.1\u001b[0m\" 200 -\n",
      "127.0.0.1 - - [07/Oct/2021 16:31:48] \"\u001b[37mGET /_dash-layout HTTP/1.1\u001b[0m\" 200 -\n",
      "127.0.0.1 - - [07/Oct/2021 16:31:48] \"\u001b[37mGET /_dash-dependencies HTTP/1.1\u001b[0m\" 200 -\n",
      "127.0.0.1 - - [07/Oct/2021 16:31:49] \"\u001b[37mGET /_dash-component-suites/dash/dcc/async-dropdown.js HTTP/1.1\u001b[0m\" 200 -\n",
      "127.0.0.1 - - [07/Oct/2021 16:31:49] \"\u001b[37mGET /_dash-component-suites/dash/dcc/async-graph.js HTTP/1.1\u001b[0m\" 200 -\n",
      "127.0.0.1 - - [07/Oct/2021 16:31:49] \"\u001b[37mGET /_dash-component-suites/dash/dcc/async-slider.js HTTP/1.1\u001b[0m\" 200 -\n",
      "127.0.0.1 - - [07/Oct/2021 16:31:49] \"\u001b[37mGET /_dash-component-suites/dash/dcc/async-plotlyjs.js HTTP/1.1\u001b[0m\" 200 -\n",
      "127.0.0.1 - - [07/Oct/2021 16:31:50] \"\u001b[37mPOST /_dash-update-component HTTP/1.1\u001b[0m\" 200 -\n"
     ]
    }
   ],
   "source": [
    "\n",
    "df=px.data.gapminder()\n",
    "app=dash.Dash()\n",
    "app.layout=html.Div([\n",
    "                        html.H1('Call back Example state', style={'textAlign':'center'}),\n",
    "                         dcc.Dropdown(\n",
    "                                        id='demo-dropdown',\n",
    "                                        options=[ \n",
    "                                           {'label': str(country), 'value': str(country)}  for country in df['continent'].unique()\n",
    "                                        ],\n",
    "                                        value=None,\n",
    "                                        placeholder='Choose a continent .....',\n",
    "                                    ),\n",
    "                        dcc.Graph(id='myGraph1', figure={}),\n",
    "                        dcc.Graph(id='myGraph2', figure={}),\n",
    "                        dcc.Slider(\n",
    "                                    id='my-slider',\n",
    "                                    min=df['year'].min(),\n",
    "                                    max=df['year'].max(),\n",
    "                                    value=df['year'].min(),\n",
    "                                    marks={str(years):str(years) for years in df['year'].unique()}\n",
    "        ),\n",
    "                        html.Button(id='submit-button-state', n_clicks=0, children='Submit'),\n",
    "\n",
    "])\n",
    "\n",
    "@app.callback(\n",
    "    Output('myGraph1','figure'),\n",
    "    Output('myGraph2','figure'),\n",
    "    Input('submit-button-state', 'n_clicks'),\n",
    "    State('my-slider','value'),\n",
    "    State('demo-dropdown','value'))\n",
    "def update_graph(n_clicks,slidervalue,dropdownvalue):\n",
    "    if dropdownvalue==None:\n",
    "        filtered_df=df[(df.year==slidervalue)]\n",
    "        fig1=px.scatter(filtered_df,x=\"gdpPercap\", y=\"lifeExp\", size=\"pop\", color=\"continent\")\n",
    "        fig2=px.scatter(filtered_df,x=\"gdpPercap\", y=\"lifeExp\", size=\"pop\", color=\"continent\")\n",
    "\n",
    "    else:\n",
    "        filtered_df=df[(df.year==slidervalue) & (df.continent==dropdownvalue)]\n",
    "        fig1=px.scatter(filtered_df,x=\"gdpPercap\", y=\"lifeExp\", size=\"pop\", color=\"continent\", log_x=True)\n",
    "        fig2=px.scatter(filtered_df,x=\"gdpPercap\", y=\"lifeExp\", size=\"pop\", color=\"continent\")\n",
    "\n",
    "    return fig1,fig2\n",
    "\n",
    "\n",
    "\n",
    "\n",
    "\n",
    "if __name__=='__main__':\n",
    "    app.run_server()\n",
    "    "
   ]
  },
  {
   "cell_type": "code",
   "execution_count": null,
   "metadata": {},
   "outputs": [],
   "source": []
  }
 ],
 "metadata": {
  "kernelspec": {
   "display_name": "Python 3",
   "language": "python",
   "name": "python3"
  },
  "language_info": {
   "codemirror_mode": {
    "name": "ipython",
    "version": 3
   },
   "file_extension": ".py",
   "mimetype": "text/x-python",
   "name": "python",
   "nbconvert_exporter": "python",
   "pygments_lexer": "ipython3",
   "version": "3.8.5"
  }
 },
 "nbformat": 4,
 "nbformat_minor": 4
}
