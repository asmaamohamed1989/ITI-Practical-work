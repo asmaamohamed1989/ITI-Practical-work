{
 "cells": [
  {
   "cell_type": "code",
   "execution_count": 1,
   "metadata": {},
   "outputs": [
    {
     "name": "stdout",
     "output_type": "stream",
     "text": [
      "Dash is running on http://127.0.0.1:8050/\n",
      "\n",
      " * Serving Flask app \"__main__\" (lazy loading)\n",
      " * Environment: production\n",
      "   WARNING: This is a development server. Do not use it in a production deployment.\n",
      "   Use a production WSGI server instead.\n",
      " * Debug mode: on\n"
     ]
    },
    {
     "ename": "SystemExit",
     "evalue": "1",
     "output_type": "error",
     "traceback": [
      "An exception has occurred, use %tb to see the full traceback.\n",
      "\u001b[1;31mSystemExit\u001b[0m\u001b[1;31m:\u001b[0m 1\n"
     ]
    },
    {
     "name": "stderr",
     "output_type": "stream",
     "text": [
      "C:\\Users\\Muslim\\anaconda3\\lib\\site-packages\\IPython\\core\\interactiveshell.py:3425: UserWarning: To exit: use 'exit', 'quit', or Ctrl-D.\n",
      "  warn(\"To exit: use 'exit', 'quit', or Ctrl-D.\", stacklevel=1)\n"
     ]
    }
   ],
   "source": [
    "import dash\n",
    "from dash import html\n",
    "from dash import dcc\n",
    "from dash.dependencies import Input,Output\n",
    "from numpy.core.numeric import outer\n",
    "import plotly.express as px\n",
    "import pandas as pd\n",
    "\n",
    "app=dash.Dash()\n",
    "\n",
    "df=px.data.gapminder()\n",
    "\n",
    "\n",
    "app.layout=html.Div([\n",
    "\n",
    "                        html.H1('Call back Example 2', style={'textAlign':'center'}),\n",
    "                        dcc.Graph(id='myGraph', figure={}),\n",
    "                        dcc.Slider(\n",
    "                                    id='my-slider',\n",
    "                                    min=df['year'].min(),\n",
    "                                    max=df['year'].max(),\n",
    "                                    value=df['year'].min(),\n",
    "                                    step=None,\n",
    "             marks={str(years):str(years) for years in df['year'].unique()}\n",
    "        )\n",
    "\n",
    "])\n",
    "\n",
    "@app.callback(\n",
    "    Output('myGraph','figure'),\n",
    "    Input('my-slider','value'))\n",
    "def update_graph(slidervalue):\n",
    "    filtered_df=df[df.year==slidervalue]\n",
    "    fig=px.scatter(filtered_df,x=\"gdpPercap\", y=\"lifeExp\", size=\"pop\", color=\"continent\")\n",
    "    return fig\n",
    "\n",
    "\n",
    "if __name__=='__main__':\n",
    "    app.run_server(debug=True)"
   ]
  },
  {
   "cell_type": "code",
   "execution_count": null,
   "metadata": {},
   "outputs": [],
   "source": []
  }
 ],
 "metadata": {
  "kernelspec": {
   "display_name": "Python 3",
   "language": "python",
   "name": "python3"
  },
  "language_info": {
   "codemirror_mode": {
    "name": "ipython",
    "version": 3
   },
   "file_extension": ".py",
   "mimetype": "text/x-python",
   "name": "python",
   "nbconvert_exporter": "python",
   "pygments_lexer": "ipython3",
   "version": "3.8.5"
  }
 },
 "nbformat": 4,
 "nbformat_minor": 4
}
